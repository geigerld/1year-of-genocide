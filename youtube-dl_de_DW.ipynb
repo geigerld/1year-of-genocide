{
 "cells": [
  {
   "cell_type": "markdown",
   "metadata": {},
   "source": [
    "## Step 1: Install Required Libraries\n",
    "First, you need to install the necessary Python libraries:"
   ]
  },
  {
   "cell_type": "code",
   "execution_count": 1,
   "metadata": {},
   "outputs": [
    {
     "name": "stdout",
     "output_type": "stream",
     "text": [
      "Defaulting to user installation because normal site-packages is not writeable\n",
      "Requirement already satisfied: yt-dlp in c:\\users\\lorenz\\appdata\\roaming\\python\\python312\\site-packages (2024.8.6)\n",
      "Requirement already satisfied: pytube in c:\\users\\lorenz\\appdata\\roaming\\python\\python312\\site-packages (15.0.0)\n",
      "Requirement already satisfied: pandas in c:\\users\\lorenz\\appdata\\roaming\\python\\python312\\site-packages (2.2.2)\n",
      "Requirement already satisfied: webvtt-py in c:\\users\\lorenz\\appdata\\roaming\\python\\python312\\site-packages (0.5.1)\n",
      "Requirement already satisfied: requests in c:\\users\\lorenz\\appdata\\roaming\\python\\python312\\site-packages (2.32.3)\n",
      "Requirement already satisfied: brotli in c:\\users\\lorenz\\appdata\\roaming\\python\\python312\\site-packages (from yt-dlp) (1.1.0)\n",
      "Requirement already satisfied: certifi in c:\\users\\lorenz\\appdata\\roaming\\python\\python312\\site-packages (from yt-dlp) (2024.8.30)\n",
      "Requirement already satisfied: mutagen in c:\\users\\lorenz\\appdata\\roaming\\python\\python312\\site-packages (from yt-dlp) (1.47.0)\n",
      "Requirement already satisfied: pycryptodomex in c:\\users\\lorenz\\appdata\\roaming\\python\\python312\\site-packages (from yt-dlp) (3.20.0)\n",
      "Requirement already satisfied: urllib3<3,>=1.26.17 in c:\\users\\lorenz\\appdata\\roaming\\python\\python312\\site-packages (from yt-dlp) (2.2.2)\n",
      "Requirement already satisfied: websockets>=12.0 in c:\\users\\lorenz\\appdata\\roaming\\python\\python312\\site-packages (from yt-dlp) (13.0.1)\n",
      "Requirement already satisfied: numpy>=1.26.0 in c:\\users\\lorenz\\appdata\\roaming\\python\\python312\\site-packages (from pandas) (2.1.1)\n",
      "Requirement already satisfied: python-dateutil>=2.8.2 in c:\\users\\lorenz\\appdata\\roaming\\python\\python312\\site-packages (from pandas) (2.9.0.post0)\n",
      "Requirement already satisfied: pytz>=2020.1 in c:\\users\\lorenz\\appdata\\roaming\\python\\python312\\site-packages (from pandas) (2024.1)\n",
      "Requirement already satisfied: tzdata>=2022.7 in c:\\users\\lorenz\\appdata\\roaming\\python\\python312\\site-packages (from pandas) (2024.1)\n",
      "Requirement already satisfied: charset-normalizer<4,>=2 in c:\\users\\lorenz\\appdata\\roaming\\python\\python312\\site-packages (from requests) (3.3.2)\n",
      "Requirement already satisfied: idna<4,>=2.5 in c:\\users\\lorenz\\appdata\\roaming\\python\\python312\\site-packages (from requests) (3.8)\n",
      "Requirement already satisfied: six>=1.5 in c:\\users\\lorenz\\appdata\\roaming\\python\\python312\\site-packages (from python-dateutil>=2.8.2->pandas) (1.16.0)\n"
     ]
    }
   ],
   "source": [
    "!pip install yt-dlp pytube pandas webvtt-py requests\n"
   ]
  },
  {
   "cell_type": "code",
   "execution_count": 2,
   "metadata": {},
   "outputs": [],
   "source": [
    "import yt_dlp\n",
    "import os\n",
    "import webvtt\n",
    "import pandas as pd\n",
    "from pytube import Playlist\n",
    "import requests\n",
    "\n",
    "# URL of the YouTube playlist\n",
    "playlist_url = \"https://www.youtube.com/playlist?list=PLdrKWT9w9Hg3aSRDfCP5ha5QXqEyLKH3o\"\n",
    "\n",
    "# Create a Playlist object\n",
    "playlist = Playlist(playlist_url)\n"
   ]
  },
  {
   "cell_type": "code",
   "execution_count": 4,
   "metadata": {
    "scrolled": true
   },
   "outputs": [
    {
     "name": "stdout",
     "output_type": "stream",
     "text": [
      "[youtube] Extracting URL: https://youtube.com/watch?v=w_8oIxJP_cM\n",
      "[youtube] w_8oIxJP_cM: Downloading webpage\n",
      "[youtube] w_8oIxJP_cM: Downloading ios player API JSON\n",
      "[youtube] w_8oIxJP_cM: Downloading web creator player API JSON\n",
      "[youtube] w_8oIxJP_cM: Downloading player e38bb6de\n",
      "[youtube] w_8oIxJP_cM: Downloading m3u8 information\n",
      "[info] w_8oIxJP_cM: Downloading subtitles: en\n"
     ]
    },
    {
     "name": "stderr",
     "output_type": "stream",
     "text": [
      "WARNING: ffmpeg not found. The downloaded format may not be the best available. Installing ffmpeg is strongly recommended: https://github.com/yt-dlp/yt-dlp#dependencies\n"
     ]
    },
    {
     "name": "stdout",
     "output_type": "stream",
     "text": [
      "[youtube] Extracting URL: https://youtube.com/watch?v=w_8oIxJP_cM\n",
      "[youtube] w_8oIxJP_cM: Downloading webpage\n",
      "[youtube] w_8oIxJP_cM: Downloading ios player API JSON\n",
      "[youtube] w_8oIxJP_cM: Downloading web creator player API JSON\n",
      "[youtube] w_8oIxJP_cM: Downloading m3u8 information\n",
      "[info] w_8oIxJP_cM: Downloading subtitles: de\n"
     ]
    },
    {
     "name": "stderr",
     "output_type": "stream",
     "text": [
      "WARNING: ffmpeg not found. The downloaded format may not be the best available. Installing ffmpeg is strongly recommended: https://github.com/yt-dlp/yt-dlp#dependencies\n"
     ]
    },
    {
     "name": "stdout",
     "output_type": "stream",
     "text": [
      "[info] w_8oIxJP_cM: Downloading 1 format(s): 18\n",
      "[info] Writing video subtitles to: data\\de_DW\\Hamas-Terror gegen Israel Wie der Konflikt die Region weiter spaltet  Auf den Punkt.de.vtt\n",
      "[download] Destination: data\\de_DW\\Hamas-Terror gegen Israel Wie der Konflikt die Region weiter spaltet  Auf den Punkt.de.vtt\n",
      "[download] 100% of  333.05KiB in 00:00:00 at 895.23KiB/s\n",
      "[youtube] Extracting URL: https://youtube.com/watch?v=cQrhcUfbPX8\n",
      "[youtube] cQrhcUfbPX8: Downloading webpage\n",
      "[youtube] cQrhcUfbPX8: Downloading ios player API JSON\n",
      "[youtube] cQrhcUfbPX8: Downloading web creator player API JSON\n",
      "[youtube] cQrhcUfbPX8: Downloading m3u8 information\n",
      "[info] cQrhcUfbPX8: Downloading subtitles: en\n"
     ]
    },
    {
     "name": "stderr",
     "output_type": "stream",
     "text": [
      "WARNING: ffmpeg not found. The downloaded format may not be the best available. Installing ffmpeg is strongly recommended: https://github.com/yt-dlp/yt-dlp#dependencies\n"
     ]
    },
    {
     "name": "stdout",
     "output_type": "stream",
     "text": [
      "[youtube] Extracting URL: https://youtube.com/watch?v=cQrhcUfbPX8\n",
      "[youtube] cQrhcUfbPX8: Downloading webpage\n",
      "[youtube] cQrhcUfbPX8: Downloading ios player API JSON\n",
      "[youtube] cQrhcUfbPX8: Downloading web creator player API JSON\n",
      "[youtube] cQrhcUfbPX8: Downloading m3u8 information\n",
      "[info] cQrhcUfbPX8: Downloading subtitles: de\n"
     ]
    },
    {
     "name": "stderr",
     "output_type": "stream",
     "text": [
      "WARNING: ffmpeg not found. The downloaded format may not be the best available. Installing ffmpeg is strongly recommended: https://github.com/yt-dlp/yt-dlp#dependencies\n"
     ]
    },
    {
     "name": "stdout",
     "output_type": "stream",
     "text": [
      "[info] cQrhcUfbPX8: Downloading 1 format(s): 18\n",
      "[info] Writing video subtitles to: data\\de_DW\\Angriff auf Israel Steckt der Iran dahinter  DW Nachrichten.de.vtt\n",
      "[download] Destination: data\\de_DW\\Angriff auf Israel Steckt der Iran dahinter  DW Nachrichten.de.vtt\n",
      "[download] 100% of  185.86KiB in 00:00:00 at 850.86KiB/s\n",
      "[youtube] Extracting URL: https://youtube.com/watch?v=F2cVwMxj3Ms\n",
      "[youtube] F2cVwMxj3Ms: Downloading webpage\n",
      "[youtube] F2cVwMxj3Ms: Downloading ios player API JSON\n",
      "[youtube] F2cVwMxj3Ms: Downloading web creator player API JSON\n",
      "[youtube] F2cVwMxj3Ms: Downloading m3u8 information\n",
      "[info] F2cVwMxj3Ms: Downloading subtitles: en\n"
     ]
    },
    {
     "name": "stderr",
     "output_type": "stream",
     "text": [
      "WARNING: ffmpeg not found. The downloaded format may not be the best available. Installing ffmpeg is strongly recommended: https://github.com/yt-dlp/yt-dlp#dependencies\n"
     ]
    },
    {
     "name": "stdout",
     "output_type": "stream",
     "text": [
      "[youtube] Extracting URL: https://youtube.com/watch?v=F2cVwMxj3Ms\n",
      "[youtube] F2cVwMxj3Ms: Downloading webpage\n",
      "[youtube] F2cVwMxj3Ms: Downloading ios player API JSON\n",
      "[youtube] F2cVwMxj3Ms: Downloading web creator player API JSON\n",
      "[youtube] F2cVwMxj3Ms: Downloading m3u8 information\n",
      "[info] F2cVwMxj3Ms: Downloading subtitles: de\n"
     ]
    },
    {
     "name": "stderr",
     "output_type": "stream",
     "text": [
      "WARNING: ffmpeg not found. The downloaded format may not be the best available. Installing ffmpeg is strongly recommended: https://github.com/yt-dlp/yt-dlp#dependencies\n"
     ]
    },
    {
     "name": "stdout",
     "output_type": "stream",
     "text": [
      "[info] F2cVwMxj3Ms: Downloading 1 format(s): 18\n",
      "[info] Writing video subtitles to: data\\de_DW\\Israel mobilisiert für potentielle Bodenoffensive in Gaza  DW Nachrichten.de.vtt\n",
      "[download] Destination: data\\de_DW\\Israel mobilisiert für potentielle Bodenoffensive in Gaza  DW Nachrichten.de.vtt\n",
      "[download] 100% of  112.99KiB in 00:00:00 at 636.05KiB/s\n",
      "[youtube] Extracting URL: https://youtube.com/watch?v=-iebYfdXNG8\n",
      "[youtube] -iebYfdXNG8: Downloading webpage\n",
      "[youtube] -iebYfdXNG8: Downloading ios player API JSON\n",
      "[youtube] -iebYfdXNG8: Downloading web creator player API JSON\n",
      "[youtube] -iebYfdXNG8: Downloading m3u8 information\n",
      "[info] -iebYfdXNG8: Downloading subtitles: en\n"
     ]
    },
    {
     "name": "stderr",
     "output_type": "stream",
     "text": [
      "WARNING: ffmpeg not found. The downloaded format may not be the best available. Installing ffmpeg is strongly recommended: https://github.com/yt-dlp/yt-dlp#dependencies\n"
     ]
    },
    {
     "name": "stdout",
     "output_type": "stream",
     "text": [
      "[youtube] Extracting URL: https://youtube.com/watch?v=-iebYfdXNG8\n",
      "[youtube] -iebYfdXNG8: Downloading webpage\n",
      "[youtube] -iebYfdXNG8: Downloading ios player API JSON\n",
      "[youtube] -iebYfdXNG8: Downloading web creator player API JSON\n",
      "[youtube] -iebYfdXNG8: Downloading m3u8 information\n",
      "[info] -iebYfdXNG8: Downloading subtitles: de\n"
     ]
    },
    {
     "name": "stderr",
     "output_type": "stream",
     "text": [
      "WARNING: ffmpeg not found. The downloaded format may not be the best available. Installing ffmpeg is strongly recommended: https://github.com/yt-dlp/yt-dlp#dependencies\n"
     ]
    },
    {
     "name": "stdout",
     "output_type": "stream",
     "text": [
      "[info] -iebYfdXNG8: Downloading 1 format(s): 18\n",
      "[info] Writing video subtitles to: data\\de_DW\\Kritik am Besuch des Emirs Scholz trifft Sponsor der Hamas  DW Nachrichten.de.vtt\n",
      "[download] Destination: data\\de_DW\\Kritik am Besuch des Emirs Scholz trifft Sponsor der Hamas  DW Nachrichten.de.vtt\n",
      "[download] 100% of   51.90KiB in 00:00:00 at 443.91KiB/s\n",
      "[youtube] Extracting URL: https://youtube.com/watch?v=OvbYMnVzjG0\n",
      "[youtube] OvbYMnVzjG0: Downloading webpage\n",
      "[youtube] OvbYMnVzjG0: Downloading ios player API JSON\n",
      "[youtube] OvbYMnVzjG0: Downloading web creator player API JSON\n",
      "[youtube] OvbYMnVzjG0: Downloading m3u8 information\n",
      "[info] OvbYMnVzjG0: Downloading subtitles: en\n"
     ]
    },
    {
     "name": "stderr",
     "output_type": "stream",
     "text": [
      "WARNING: ffmpeg not found. The downloaded format may not be the best available. Installing ffmpeg is strongly recommended: https://github.com/yt-dlp/yt-dlp#dependencies\n"
     ]
    },
    {
     "name": "stdout",
     "output_type": "stream",
     "text": [
      "[youtube] Extracting URL: https://youtube.com/watch?v=OvbYMnVzjG0\n",
      "[youtube] OvbYMnVzjG0: Downloading webpage\n",
      "[youtube] OvbYMnVzjG0: Downloading ios player API JSON\n",
      "[youtube] OvbYMnVzjG0: Downloading web creator player API JSON\n",
      "[youtube] OvbYMnVzjG0: Downloading m3u8 information\n",
      "[info] OvbYMnVzjG0: Downloading subtitles: de\n"
     ]
    },
    {
     "name": "stderr",
     "output_type": "stream",
     "text": [
      "WARNING: ffmpeg not found. The downloaded format may not be the best available. Installing ffmpeg is strongly recommended: https://github.com/yt-dlp/yt-dlp#dependencies\n"
     ]
    },
    {
     "name": "stdout",
     "output_type": "stream",
     "text": [
      "[info] OvbYMnVzjG0: Downloading 1 format(s): 18\n",
      "[info] Writing video subtitles to: data\\de_DW\\Israel fordert Menschen im Gazastreifen zur Flucht nach Süd-Gaza auf  DW Nachrichten.de.vtt\n",
      "[download] Destination: data\\de_DW\\Israel fordert Menschen im Gazastreifen zur Flucht nach Süd-Gaza auf  DW Nachrichten.de.vtt\n",
      "[download] 100% of  140.49KiB in 00:00:00 at 365.86KiB/s\n",
      "[youtube] Extracting URL: https://youtube.com/watch?v=eZePgpPWPFE\n",
      "[youtube] eZePgpPWPFE: Downloading webpage\n",
      "[youtube] eZePgpPWPFE: Downloading ios player API JSON\n",
      "[youtube] eZePgpPWPFE: Downloading web creator player API JSON\n",
      "[youtube] eZePgpPWPFE: Downloading m3u8 information\n",
      "[info] eZePgpPWPFE: Downloading subtitles: en\n"
     ]
    },
    {
     "name": "stderr",
     "output_type": "stream",
     "text": [
      "WARNING: ffmpeg not found. The downloaded format may not be the best available. Installing ffmpeg is strongly recommended: https://github.com/yt-dlp/yt-dlp#dependencies\n"
     ]
    },
    {
     "name": "stdout",
     "output_type": "stream",
     "text": [
      "[youtube] Extracting URL: https://youtube.com/watch?v=eZePgpPWPFE\n",
      "[youtube] eZePgpPWPFE: Downloading webpage\n",
      "[youtube] eZePgpPWPFE: Downloading ios player API JSON\n",
      "[youtube] eZePgpPWPFE: Downloading web creator player API JSON\n",
      "[youtube] eZePgpPWPFE: Downloading m3u8 information\n",
      "[info] eZePgpPWPFE: Downloading subtitles: de\n"
     ]
    },
    {
     "name": "stderr",
     "output_type": "stream",
     "text": [
      "WARNING: ffmpeg not found. The downloaded format may not be the best available. Installing ffmpeg is strongly recommended: https://github.com/yt-dlp/yt-dlp#dependencies\n"
     ]
    },
    {
     "name": "stdout",
     "output_type": "stream",
     "text": [
      "[info] eZePgpPWPFE: Downloading 1 format(s): 18\n",
      "[info] Writing video subtitles to: data\\de_DW\\Nahost-Konflikt Ukraine fürchtet um Militärhilfen  DW Nachrichten.de.vtt\n",
      "[download] Destination: data\\de_DW\\Nahost-Konflikt Ukraine fürchtet um Militärhilfen  DW Nachrichten.de.vtt\n",
      "[download] 100% of  125.49KiB in 00:00:00 at 580.58KiB/s\n",
      "[youtube] Extracting URL: https://youtube.com/watch?v=AoutZiATmHk\n",
      "[youtube] AoutZiATmHk: Downloading webpage\n",
      "[youtube] AoutZiATmHk: Downloading ios player API JSON\n",
      "[youtube] AoutZiATmHk: Downloading web creator player API JSON\n",
      "[youtube] AoutZiATmHk: Downloading m3u8 information\n",
      "[info] AoutZiATmHk: Downloading subtitles: en\n"
     ]
    },
    {
     "name": "stderr",
     "output_type": "stream",
     "text": [
      "WARNING: ffmpeg not found. The downloaded format may not be the best available. Installing ffmpeg is strongly recommended: https://github.com/yt-dlp/yt-dlp#dependencies\n"
     ]
    },
    {
     "name": "stdout",
     "output_type": "stream",
     "text": [
      "[youtube] Extracting URL: https://youtube.com/watch?v=AoutZiATmHk\n",
      "[youtube] AoutZiATmHk: Downloading webpage\n",
      "[youtube] AoutZiATmHk: Downloading ios player API JSON\n",
      "[youtube] AoutZiATmHk: Downloading web creator player API JSON\n",
      "[youtube] AoutZiATmHk: Downloading m3u8 information\n",
      "[info] AoutZiATmHk: Downloading subtitles: de\n"
     ]
    },
    {
     "name": "stderr",
     "output_type": "stream",
     "text": [
      "WARNING: ffmpeg not found. The downloaded format may not be the best available. Installing ffmpeg is strongly recommended: https://github.com/yt-dlp/yt-dlp#dependencies\n"
     ]
    },
    {
     "name": "stdout",
     "output_type": "stream",
     "text": [
      "[info] AoutZiATmHk: Downloading 1 format(s): 18\n",
      "[info] Writing video subtitles to: data\\de_DW\\Können die 199 Geiseln in den Händen der Hamas gerettet werden  DW Nachrichten.de.vtt\n",
      "[download] Destination: data\\de_DW\\Können die 199 Geiseln in den Händen der Hamas gerettet werden  DW Nachrichten.de.vtt\n",
      "[download] 100% of   90.45KiB in 00:00:00 at 517.74KiB/s\n",
      "[youtube] Extracting URL: https://youtube.com/watch?v=-8tvH5_JBFU\n",
      "[youtube] -8tvH5_JBFU: Downloading webpage\n",
      "[youtube] -8tvH5_JBFU: Downloading ios player API JSON\n",
      "[youtube] -8tvH5_JBFU: Downloading web creator player API JSON\n",
      "[youtube] -8tvH5_JBFU: Downloading m3u8 information\n",
      "[info] -8tvH5_JBFU: Downloading subtitles: en\n"
     ]
    },
    {
     "name": "stderr",
     "output_type": "stream",
     "text": [
      "WARNING: ffmpeg not found. The downloaded format may not be the best available. Installing ffmpeg is strongly recommended: https://github.com/yt-dlp/yt-dlp#dependencies\n"
     ]
    },
    {
     "name": "stdout",
     "output_type": "stream",
     "text": [
      "[youtube] Extracting URL: https://youtube.com/watch?v=-8tvH5_JBFU\n",
      "[youtube] -8tvH5_JBFU: Downloading webpage\n",
      "[youtube] -8tvH5_JBFU: Downloading ios player API JSON\n",
      "[youtube] -8tvH5_JBFU: Downloading web creator player API JSON\n",
      "[youtube] -8tvH5_JBFU: Downloading m3u8 information\n",
      "[info] -8tvH5_JBFU: Downloading subtitles: de\n"
     ]
    },
    {
     "name": "stderr",
     "output_type": "stream",
     "text": [
      "WARNING: ffmpeg not found. The downloaded format may not be the best available. Installing ffmpeg is strongly recommended: https://github.com/yt-dlp/yt-dlp#dependencies\n"
     ]
    },
    {
     "name": "stdout",
     "output_type": "stream",
     "text": [
      "[info] -8tvH5_JBFU: Downloading 1 format(s): 18\n",
      "[info] Writing video subtitles to: data\\de_DW\\Verfassungsschutz Viele radikale Gruppen in Deutschland pro-Hamas  DW Nachrichten.de.vtt\n",
      "[download] Destination: data\\de_DW\\Verfassungsschutz Viele radikale Gruppen in Deutschland pro-Hamas  DW Nachrichten.de.vtt\n",
      "[download] 100% of   39.10KiB in 00:00:00 at 222.37KiB/s\n",
      "[youtube] Extracting URL: https://youtube.com/watch?v=fdkJ5cVKWrw\n",
      "[youtube] fdkJ5cVKWrw: Downloading webpage\n",
      "[youtube] fdkJ5cVKWrw: Downloading ios player API JSON\n",
      "[youtube] fdkJ5cVKWrw: Downloading web creator player API JSON\n",
      "[youtube] fdkJ5cVKWrw: Downloading m3u8 information\n",
      "[info] fdkJ5cVKWrw: Downloading subtitles: en\n"
     ]
    },
    {
     "name": "stderr",
     "output_type": "stream",
     "text": [
      "WARNING: ffmpeg not found. The downloaded format may not be the best available. Installing ffmpeg is strongly recommended: https://github.com/yt-dlp/yt-dlp#dependencies\n"
     ]
    },
    {
     "name": "stdout",
     "output_type": "stream",
     "text": [
      "[youtube] Extracting URL: https://youtube.com/watch?v=fdkJ5cVKWrw\n",
      "[youtube] fdkJ5cVKWrw: Downloading webpage\n",
      "[youtube] fdkJ5cVKWrw: Downloading ios player API JSON\n",
      "[youtube] fdkJ5cVKWrw: Downloading web creator player API JSON\n",
      "[youtube] fdkJ5cVKWrw: Downloading m3u8 information\n",
      "[info] fdkJ5cVKWrw: Downloading subtitles: de\n"
     ]
    },
    {
     "name": "stderr",
     "output_type": "stream",
     "text": [
      "WARNING: ffmpeg not found. The downloaded format may not be the best available. Installing ffmpeg is strongly recommended: https://github.com/yt-dlp/yt-dlp#dependencies\n"
     ]
    },
    {
     "name": "stdout",
     "output_type": "stream",
     "text": [
      "[info] fdkJ5cVKWrw: Downloading 1 format(s): 18\n",
      "[info] Writing video subtitles to: data\\de_DW\\Nahost-Konflikt Auch Thema beim Seidenstraßen-Gipfel in Peking  DW Nachrichten.de.vtt\n",
      "[download] Destination: data\\de_DW\\Nahost-Konflikt Auch Thema beim Seidenstraßen-Gipfel in Peking  DW Nachrichten.de.vtt\n",
      "[download] 100% of   34.27KiB in 00:00:00 at 345.79KiB/s\n",
      "[youtube] Extracting URL: https://youtube.com/watch?v=gjaB65CMdxY\n",
      "[youtube] gjaB65CMdxY: Downloading webpage\n",
      "[youtube] gjaB65CMdxY: Downloading ios player API JSON\n",
      "[youtube] gjaB65CMdxY: Downloading web creator player API JSON\n",
      "[youtube] gjaB65CMdxY: Downloading m3u8 information\n",
      "[info] gjaB65CMdxY: Downloading subtitles: en\n"
     ]
    },
    {
     "name": "stderr",
     "output_type": "stream",
     "text": [
      "WARNING: ffmpeg not found. The downloaded format may not be the best available. Installing ffmpeg is strongly recommended: https://github.com/yt-dlp/yt-dlp#dependencies\n"
     ]
    },
    {
     "name": "stdout",
     "output_type": "stream",
     "text": [
      "[youtube] Extracting URL: https://youtube.com/watch?v=gjaB65CMdxY\n",
      "[youtube] gjaB65CMdxY: Downloading webpage\n",
      "[youtube] gjaB65CMdxY: Downloading ios player API JSON\n",
      "[youtube] gjaB65CMdxY: Downloading web creator player API JSON\n",
      "[youtube] gjaB65CMdxY: Downloading m3u8 information\n",
      "[info] gjaB65CMdxY: Downloading subtitles: de\n"
     ]
    },
    {
     "name": "stderr",
     "output_type": "stream",
     "text": [
      "WARNING: ffmpeg not found. The downloaded format may not be the best available. Installing ffmpeg is strongly recommended: https://github.com/yt-dlp/yt-dlp#dependencies\n"
     ]
    },
    {
     "name": "stdout",
     "output_type": "stream",
     "text": [
      "[info] gjaB65CMdxY: Downloading 1 format(s): 18\n",
      "[info] Writing video subtitles to: data\\de_DW\\Scholz besucht Israel 10 Tage nach Terroranschlag  DW Nachrichten.de.vtt\n",
      "[download] Destination: data\\de_DW\\Scholz besucht Israel 10 Tage nach Terroranschlag  DW Nachrichten.de.vtt\n",
      "[download] 100% of   99.61KiB in 00:00:00 at 488.31KiB/s\n",
      "[youtube] Extracting URL: https://youtube.com/watch?v=DBp9nKECTLI\n",
      "[youtube] DBp9nKECTLI: Downloading webpage\n",
      "[youtube] DBp9nKECTLI: Downloading ios player API JSON\n",
      "[youtube] DBp9nKECTLI: Downloading web creator player API JSON\n",
      "[youtube] DBp9nKECTLI: Downloading m3u8 information\n",
      "[info] DBp9nKECTLI: Downloading subtitles: en\n"
     ]
    },
    {
     "name": "stderr",
     "output_type": "stream",
     "text": [
      "WARNING: ffmpeg not found. The downloaded format may not be the best available. Installing ffmpeg is strongly recommended: https://github.com/yt-dlp/yt-dlp#dependencies\n"
     ]
    },
    {
     "name": "stdout",
     "output_type": "stream",
     "text": [
      "[youtube] Extracting URL: https://youtube.com/watch?v=DBp9nKECTLI\n",
      "[youtube] DBp9nKECTLI: Downloading webpage\n",
      "[youtube] DBp9nKECTLI: Downloading ios player API JSON\n",
      "[youtube] DBp9nKECTLI: Downloading web creator player API JSON\n",
      "[youtube] DBp9nKECTLI: Downloading m3u8 information\n",
      "[info] DBp9nKECTLI: Downloading subtitles: de\n"
     ]
    },
    {
     "name": "stderr",
     "output_type": "stream",
     "text": [
      "WARNING: ffmpeg not found. The downloaded format may not be the best available. Installing ffmpeg is strongly recommended: https://github.com/yt-dlp/yt-dlp#dependencies\n"
     ]
    },
    {
     "name": "stdout",
     "output_type": "stream",
     "text": [
      "[info] DBp9nKECTLI: Downloading 1 format(s): 18\n",
      "[info] Writing video subtitles to: data\\de_DW\\Entsetzen und Proteste nach Raketeneinschlag auf Klinikgelände in Gaza  DW Nachrichten.de.vtt\n",
      "[download] Destination: data\\de_DW\\Entsetzen und Proteste nach Raketeneinschlag auf Klinikgelände in Gaza  DW Nachrichten.de.vtt\n",
      "[download] 100% of   89.02KiB in 00:00:00 at 477.81KiB/s\n",
      "[youtube] Extracting URL: https://youtube.com/watch?v=gpC_msExbtI\n",
      "[youtube] gpC_msExbtI: Downloading webpage\n",
      "[youtube] gpC_msExbtI: Downloading ios player API JSON\n",
      "[youtube] gpC_msExbtI: Downloading web creator player API JSON\n",
      "[youtube] gpC_msExbtI: Downloading m3u8 information\n",
      "[info] gpC_msExbtI: Downloading subtitles: en\n"
     ]
    },
    {
     "name": "stderr",
     "output_type": "stream",
     "text": [
      "WARNING: ffmpeg not found. The downloaded format may not be the best available. Installing ffmpeg is strongly recommended: https://github.com/yt-dlp/yt-dlp#dependencies\n"
     ]
    },
    {
     "name": "stdout",
     "output_type": "stream",
     "text": [
      "[youtube] Extracting URL: https://youtube.com/watch?v=gpC_msExbtI\n",
      "[youtube] gpC_msExbtI: Downloading webpage\n",
      "[youtube] gpC_msExbtI: Downloading ios player API JSON\n",
      "[youtube] gpC_msExbtI: Downloading web creator player API JSON\n",
      "[youtube] gpC_msExbtI: Downloading m3u8 information\n",
      "[info] gpC_msExbtI: Downloading subtitles: de\n"
     ]
    },
    {
     "name": "stderr",
     "output_type": "stream",
     "text": [
      "WARNING: ffmpeg not found. The downloaded format may not be the best available. Installing ffmpeg is strongly recommended: https://github.com/yt-dlp/yt-dlp#dependencies\n"
     ]
    },
    {
     "name": "stdout",
     "output_type": "stream",
     "text": [
      "[info] gpC_msExbtI: Downloading 1 format(s): 18\n",
      "[info] Writing video subtitles to: data\\de_DW\\Versuchter Brandanschlag auf jüdisches Zentrum in Berlin  DW Nachrichten.de.vtt\n",
      "[download] Destination: data\\de_DW\\Versuchter Brandanschlag auf jüdisches Zentrum in Berlin  DW Nachrichten.de.vtt\n",
      "[download] 100% of   51.01KiB in 00:00:00 at 305.03KiB/s\n",
      "[youtube] Extracting URL: https://youtube.com/watch?v=eCO8ZauDj3g\n",
      "[youtube] eCO8ZauDj3g: Downloading webpage\n",
      "[youtube] eCO8ZauDj3g: Downloading ios player API JSON\n",
      "[youtube] eCO8ZauDj3g: Downloading web creator player API JSON\n",
      "[youtube] eCO8ZauDj3g: Downloading m3u8 information\n",
      "[info] eCO8ZauDj3g: Downloading subtitles: en\n"
     ]
    },
    {
     "name": "stderr",
     "output_type": "stream",
     "text": [
      "WARNING: ffmpeg not found. The downloaded format may not be the best available. Installing ffmpeg is strongly recommended: https://github.com/yt-dlp/yt-dlp#dependencies\n"
     ]
    },
    {
     "name": "stdout",
     "output_type": "stream",
     "text": [
      "[youtube] Extracting URL: https://youtube.com/watch?v=eCO8ZauDj3g\n",
      "[youtube] eCO8ZauDj3g: Downloading webpage\n",
      "[youtube] eCO8ZauDj3g: Downloading ios player API JSON\n",
      "[youtube] eCO8ZauDj3g: Downloading web creator player API JSON\n",
      "[youtube] eCO8ZauDj3g: Downloading m3u8 information\n",
      "[info] eCO8ZauDj3g: Downloading subtitles: de\n"
     ]
    },
    {
     "name": "stderr",
     "output_type": "stream",
     "text": [
      "WARNING: ffmpeg not found. The downloaded format may not be the best available. Installing ffmpeg is strongly recommended: https://github.com/yt-dlp/yt-dlp#dependencies\n"
     ]
    },
    {
     "name": "stdout",
     "output_type": "stream",
     "text": [
      "[info] eCO8ZauDj3g: Downloading 1 format(s): 18\n",
      "[info] Writing video subtitles to: data\\de_DW\\Israel will begrenzte Hilfslieferungen in den Gazastreifen zulassen  DW Nachrichten.de.vtt\n",
      "[download] Destination: data\\de_DW\\Israel will begrenzte Hilfslieferungen in den Gazastreifen zulassen  DW Nachrichten.de.vtt\n",
      "[download] 100% of   49.41KiB in 00:00:00 at 451.79KiB/s\n",
      "[youtube] Extracting URL: https://youtube.com/watch?v=2YVls7zgZ9o\n",
      "[youtube] 2YVls7zgZ9o: Downloading webpage\n",
      "[youtube] 2YVls7zgZ9o: Downloading ios player API JSON\n",
      "[youtube] 2YVls7zgZ9o: Downloading web creator player API JSON\n",
      "[youtube] 2YVls7zgZ9o: Downloading m3u8 information\n",
      "[info] 2YVls7zgZ9o: Downloading subtitles: en\n"
     ]
    },
    {
     "name": "stderr",
     "output_type": "stream",
     "text": [
      "WARNING: ffmpeg not found. The downloaded format may not be the best available. Installing ffmpeg is strongly recommended: https://github.com/yt-dlp/yt-dlp#dependencies\n"
     ]
    },
    {
     "name": "stdout",
     "output_type": "stream",
     "text": [
      "[youtube] Extracting URL: https://youtube.com/watch?v=2YVls7zgZ9o\n",
      "[youtube] 2YVls7zgZ9o: Downloading webpage\n",
      "[youtube] 2YVls7zgZ9o: Downloading ios player API JSON\n",
      "[youtube] 2YVls7zgZ9o: Downloading web creator player API JSON\n",
      "[youtube] 2YVls7zgZ9o: Downloading m3u8 information\n",
      "[info] 2YVls7zgZ9o: Downloading subtitles: de\n"
     ]
    },
    {
     "name": "stderr",
     "output_type": "stream",
     "text": [
      "WARNING: ffmpeg not found. The downloaded format may not be the best available. Installing ffmpeg is strongly recommended: https://github.com/yt-dlp/yt-dlp#dependencies\n"
     ]
    },
    {
     "name": "stdout",
     "output_type": "stream",
     "text": [
      "[info] 2YVls7zgZ9o: Downloading 1 format(s): 18\n",
      "[info] Writing video subtitles to: data\\de_DW\\Es ist eine Katastrophe, die nicht zu erklären ist  DW Nachrichten.de.vtt\n",
      "[download] Destination: data\\de_DW\\Es ist eine Katastrophe, die nicht zu erklären ist  DW Nachrichten.de.vtt\n",
      "[download] 100% of   70.15KiB in 00:00:00 at 436.29KiB/s\n",
      "[youtube] Extracting URL: https://youtube.com/watch?v=KTpmmcjc_WQ\n",
      "[youtube] KTpmmcjc_WQ: Downloading webpage\n",
      "[youtube] KTpmmcjc_WQ: Downloading ios player API JSON\n",
      "[youtube] KTpmmcjc_WQ: Downloading web creator player API JSON\n",
      "[youtube] KTpmmcjc_WQ: Downloading m3u8 information\n",
      "[info] KTpmmcjc_WQ: Downloading subtitles: en\n"
     ]
    },
    {
     "name": "stderr",
     "output_type": "stream",
     "text": [
      "WARNING: ffmpeg not found. The downloaded format may not be the best available. Installing ffmpeg is strongly recommended: https://github.com/yt-dlp/yt-dlp#dependencies\n"
     ]
    },
    {
     "name": "stdout",
     "output_type": "stream",
     "text": [
      "[youtube] Extracting URL: https://youtube.com/watch?v=KTpmmcjc_WQ\n",
      "[youtube] KTpmmcjc_WQ: Downloading webpage\n",
      "[youtube] KTpmmcjc_WQ: Downloading ios player API JSON\n",
      "[youtube] KTpmmcjc_WQ: Downloading web creator player API JSON\n",
      "[youtube] KTpmmcjc_WQ: Downloading m3u8 information\n",
      "[info] KTpmmcjc_WQ: Downloading subtitles: de\n"
     ]
    },
    {
     "name": "stderr",
     "output_type": "stream",
     "text": [
      "WARNING: ffmpeg not found. The downloaded format may not be the best available. Installing ffmpeg is strongly recommended: https://github.com/yt-dlp/yt-dlp#dependencies\n"
     ]
    },
    {
     "name": "stdout",
     "output_type": "stream",
     "text": [
      "[info] KTpmmcjc_WQ: Downloading 1 format(s): 18\n",
      "[info] Writing video subtitles to: data\\de_DW\\Wie können Menschen in Deutschland den Terror der Hamas gutheißen  DW Nachrichten.de.vtt\n",
      "[download] Destination: data\\de_DW\\Wie können Menschen in Deutschland den Terror der Hamas gutheißen  DW Nachrichten.de.vtt\n",
      "[download] 100% of   46.18KiB in 00:00:00 at 277.91KiB/s\n",
      "[youtube] Extracting URL: https://youtube.com/watch?v=L5f1F7wzUYA\n",
      "[youtube] L5f1F7wzUYA: Downloading webpage\n",
      "[youtube] L5f1F7wzUYA: Downloading ios player API JSON\n",
      "[youtube] L5f1F7wzUYA: Downloading web creator player API JSON\n",
      "[youtube] L5f1F7wzUYA: Downloading m3u8 information\n",
      "[info] L5f1F7wzUYA: Downloading subtitles: en\n"
     ]
    },
    {
     "name": "stderr",
     "output_type": "stream",
     "text": [
      "WARNING: ffmpeg not found. The downloaded format may not be the best available. Installing ffmpeg is strongly recommended: https://github.com/yt-dlp/yt-dlp#dependencies\n"
     ]
    },
    {
     "name": "stdout",
     "output_type": "stream",
     "text": [
      "[youtube] Extracting URL: https://youtube.com/watch?v=L5f1F7wzUYA\n",
      "[youtube] L5f1F7wzUYA: Downloading webpage\n",
      "[youtube] L5f1F7wzUYA: Downloading ios player API JSON\n",
      "[youtube] L5f1F7wzUYA: Downloading web creator player API JSON\n",
      "[youtube] L5f1F7wzUYA: Downloading m3u8 information\n",
      "[info] L5f1F7wzUYA: Downloading subtitles: de\n"
     ]
    },
    {
     "name": "stderr",
     "output_type": "stream",
     "text": [
      "WARNING: ffmpeg not found. The downloaded format may not be the best available. Installing ffmpeg is strongly recommended: https://github.com/yt-dlp/yt-dlp#dependencies\n"
     ]
    },
    {
     "name": "stdout",
     "output_type": "stream",
     "text": [
      "[info] L5f1F7wzUYA: Downloading 1 format(s): 18\n",
      "[info] Writing video subtitles to: data\\de_DW\\Gaza Apelle für humanitäre Hilfe, Hamas lässt erste Geiseln frei  DW Nachrichten.de.vtt\n",
      "[download] Destination: data\\de_DW\\Gaza Apelle für humanitäre Hilfe, Hamas lässt erste Geiseln frei  DW Nachrichten.de.vtt\n",
      "[download] 100% of   52.82KiB in 00:00:00 at 505.79KiB/s\n",
      "[youtube] Extracting URL: https://youtube.com/watch?v=4LGIirVZr0M\n",
      "[youtube] 4LGIirVZr0M: Downloading webpage\n",
      "[youtube] 4LGIirVZr0M: Downloading ios player API JSON\n",
      "[youtube] 4LGIirVZr0M: Downloading web creator player API JSON\n",
      "[youtube] 4LGIirVZr0M: Downloading m3u8 information\n",
      "[info] 4LGIirVZr0M: Downloading subtitles: en\n"
     ]
    },
    {
     "name": "stderr",
     "output_type": "stream",
     "text": [
      "WARNING: ffmpeg not found. The downloaded format may not be the best available. Installing ffmpeg is strongly recommended: https://github.com/yt-dlp/yt-dlp#dependencies\n"
     ]
    },
    {
     "name": "stdout",
     "output_type": "stream",
     "text": [
      "[youtube] Extracting URL: https://youtube.com/watch?v=4LGIirVZr0M\n",
      "[youtube] 4LGIirVZr0M: Downloading webpage\n",
      "[youtube] 4LGIirVZr0M: Downloading ios player API JSON\n",
      "[youtube] 4LGIirVZr0M: Downloading web creator player API JSON\n",
      "[youtube] 4LGIirVZr0M: Downloading m3u8 information\n",
      "[info] 4LGIirVZr0M: Downloading subtitles: de\n"
     ]
    },
    {
     "name": "stderr",
     "output_type": "stream",
     "text": [
      "WARNING: ffmpeg not found. The downloaded format may not be the best available. Installing ffmpeg is strongly recommended: https://github.com/yt-dlp/yt-dlp#dependencies\n"
     ]
    },
    {
     "name": "stdout",
     "output_type": "stream",
     "text": [
      "[info] 4LGIirVZr0M: Downloading 1 format(s): 18\n",
      "[info] Writing video subtitles to: data\\de_DW\\Kann Israel die Terrororganisation Hamas in Gaza vollständig zerstören  DW Nachrichten.de.vtt\n",
      "[download] Destination: data\\de_DW\\Kann Israel die Terrororganisation Hamas in Gaza vollständig zerstören  DW Nachrichten.de.vtt\n",
      "[download] 100% of  109.71KiB in 00:00:00 at 715.45KiB/s\n",
      "[youtube] Extracting URL: https://youtube.com/watch?v=Jy1I4ld0kds\n",
      "[youtube] Jy1I4ld0kds: Downloading webpage\n",
      "[youtube] Jy1I4ld0kds: Downloading ios player API JSON\n",
      "[youtube] Jy1I4ld0kds: Downloading web creator player API JSON\n",
      "[youtube] Jy1I4ld0kds: Downloading m3u8 information\n",
      "[info] Jy1I4ld0kds: Downloading subtitles: en\n"
     ]
    },
    {
     "name": "stderr",
     "output_type": "stream",
     "text": [
      "WARNING: ffmpeg not found. The downloaded format may not be the best available. Installing ffmpeg is strongly recommended: https://github.com/yt-dlp/yt-dlp#dependencies\n"
     ]
    },
    {
     "name": "stdout",
     "output_type": "stream",
     "text": [
      "[youtube] Extracting URL: https://youtube.com/watch?v=Jy1I4ld0kds\n",
      "[youtube] Jy1I4ld0kds: Downloading webpage\n",
      "[youtube] Jy1I4ld0kds: Downloading ios player API JSON\n",
      "[youtube] Jy1I4ld0kds: Downloading web creator player API JSON\n",
      "[youtube] Jy1I4ld0kds: Downloading m3u8 information\n",
      "[info] Jy1I4ld0kds: Downloading subtitles: de\n"
     ]
    },
    {
     "name": "stderr",
     "output_type": "stream",
     "text": [
      "WARNING: ffmpeg not found. The downloaded format may not be the best available. Installing ffmpeg is strongly recommended: https://github.com/yt-dlp/yt-dlp#dependencies\n"
     ]
    },
    {
     "name": "stdout",
     "output_type": "stream",
     "text": [
      "[info] Jy1I4ld0kds: Downloading 1 format(s): 18\n",
      "[info] Writing video subtitles to: data\\de_DW\\Wie eine Israelische Frau das Massaker der Hamas überlebte  DW Nachrichten.de.vtt\n",
      "[download] Destination: data\\de_DW\\Wie eine Israelische Frau das Massaker der Hamas überlebte  DW Nachrichten.de.vtt\n",
      "[download] 100% of  112.19KiB in 00:00:00 at 473.04KiB/s\n",
      "[youtube] Extracting URL: https://youtube.com/watch?v=3rCZBfhbDjU\n",
      "[youtube] 3rCZBfhbDjU: Downloading webpage\n",
      "[youtube] 3rCZBfhbDjU: Downloading ios player API JSON\n",
      "[youtube] 3rCZBfhbDjU: Downloading web creator player API JSON\n",
      "[youtube] 3rCZBfhbDjU: Downloading m3u8 information\n",
      "[info] 3rCZBfhbDjU: Downloading subtitles: en\n"
     ]
    },
    {
     "name": "stderr",
     "output_type": "stream",
     "text": [
      "WARNING: ffmpeg not found. The downloaded format may not be the best available. Installing ffmpeg is strongly recommended: https://github.com/yt-dlp/yt-dlp#dependencies\n"
     ]
    },
    {
     "name": "stdout",
     "output_type": "stream",
     "text": [
      "[youtube] Extracting URL: https://youtube.com/watch?v=3rCZBfhbDjU\n",
      "[youtube] 3rCZBfhbDjU: Downloading webpage\n",
      "[youtube] 3rCZBfhbDjU: Downloading ios player API JSON\n",
      "[youtube] 3rCZBfhbDjU: Downloading web creator player API JSON\n",
      "[youtube] 3rCZBfhbDjU: Downloading m3u8 information\n",
      "[info] 3rCZBfhbDjU: Downloading subtitles: de\n"
     ]
    },
    {
     "name": "stderr",
     "output_type": "stream",
     "text": [
      "WARNING: ffmpeg not found. The downloaded format may not be the best available. Installing ffmpeg is strongly recommended: https://github.com/yt-dlp/yt-dlp#dependencies\n"
     ]
    },
    {
     "name": "stdout",
     "output_type": "stream",
     "text": [
      "[info] 3rCZBfhbDjU: Downloading 1 format(s): 18\n",
      "[info] Writing video subtitles to: data\\de_DW\\Extremisten in Deutschland Wann Ausweisungen und Abschiebungen möglich sind  DW Nachrichten.de.vtt\n",
      "[download] Destination: data\\de_DW\\Extremisten in Deutschland Wann Ausweisungen und Abschiebungen möglich sind  DW Nachrichten.de.vtt\n",
      "[download] 100% of  118.45KiB in 00:00:00 at 565.42KiB/s\n",
      "[youtube] Extracting URL: https://youtube.com/watch?v=kbcTN7uGVO4\n",
      "[youtube] kbcTN7uGVO4: Downloading webpage\n",
      "[youtube] kbcTN7uGVO4: Downloading ios player API JSON\n",
      "[youtube] kbcTN7uGVO4: This video is age-restricted; some formats may be missing without authentication. Use --cookies-from-browser or --cookies for the authentication. See  https://github.com/yt-dlp/yt-dlp/wiki/FAQ#how-do-i-pass-cookies-to-yt-dlp  for how to manually pass cookies\n",
      "[youtube] kbcTN7uGVO4: Downloading tv embedded player API JSON\n",
      "[youtube] kbcTN7uGVO4: Downloading web creator player API JSON\n",
      "[info] kbcTN7uGVO4: Downloading subtitles: en\n"
     ]
    },
    {
     "name": "stderr",
     "output_type": "stream",
     "text": [
      "WARNING: ffmpeg not found. The downloaded format may not be the best available. Installing ffmpeg is strongly recommended: https://github.com/yt-dlp/yt-dlp#dependencies\n"
     ]
    },
    {
     "name": "stdout",
     "output_type": "stream",
     "text": [
      "[youtube] Extracting URL: https://youtube.com/watch?v=kbcTN7uGVO4\n",
      "[youtube] kbcTN7uGVO4: Downloading webpage\n",
      "[youtube] kbcTN7uGVO4: Downloading ios player API JSON\n",
      "[youtube] kbcTN7uGVO4: This video is age-restricted; some formats may be missing without authentication. Use --cookies-from-browser or --cookies for the authentication. See  https://github.com/yt-dlp/yt-dlp/wiki/FAQ#how-do-i-pass-cookies-to-yt-dlp  for how to manually pass cookies\n",
      "[youtube] kbcTN7uGVO4: Downloading tv embedded player API JSON\n",
      "[youtube] kbcTN7uGVO4: Downloading web creator player API JSON\n",
      "[info] kbcTN7uGVO4: Downloading subtitles: de\n"
     ]
    },
    {
     "name": "stderr",
     "output_type": "stream",
     "text": [
      "WARNING: ffmpeg not found. The downloaded format may not be the best available. Installing ffmpeg is strongly recommended: https://github.com/yt-dlp/yt-dlp#dependencies\n"
     ]
    },
    {
     "name": "stdout",
     "output_type": "stream",
     "text": [
      "[info] kbcTN7uGVO4: Downloading 1 format(s): 18\n",
      "[info] Writing video subtitles to: data\\de_DW\\Israel Vorbereitungen auf Einsatz im Gazastreifen laufen weiter  DW Nachrichten.de.vtt\n",
      "[download] Destination: data\\de_DW\\Israel Vorbereitungen auf Einsatz im Gazastreifen laufen weiter  DW Nachrichten.de.vtt\n",
      "[download] 100% of   82.34KiB in 00:00:00 at 342.74KiB/s\n",
      "[youtube] Extracting URL: https://youtube.com/watch?v=xvyXkipqVaQ\n",
      "[youtube] xvyXkipqVaQ: Downloading webpage\n",
      "[youtube] xvyXkipqVaQ: Downloading ios player API JSON\n",
      "[youtube] xvyXkipqVaQ: Downloading web creator player API JSON\n",
      "[youtube] xvyXkipqVaQ: Downloading m3u8 information\n",
      "[info] xvyXkipqVaQ: Downloading subtitles: en\n"
     ]
    },
    {
     "name": "stderr",
     "output_type": "stream",
     "text": [
      "WARNING: ffmpeg not found. The downloaded format may not be the best available. Installing ffmpeg is strongly recommended: https://github.com/yt-dlp/yt-dlp#dependencies\n"
     ]
    },
    {
     "name": "stdout",
     "output_type": "stream",
     "text": [
      "[youtube] Extracting URL: https://youtube.com/watch?v=xvyXkipqVaQ\n",
      "[youtube] xvyXkipqVaQ: Downloading webpage\n",
      "[youtube] xvyXkipqVaQ: Downloading ios player API JSON\n",
      "[youtube] xvyXkipqVaQ: Downloading web creator player API JSON\n",
      "[youtube] xvyXkipqVaQ: Downloading m3u8 information\n",
      "[info] xvyXkipqVaQ: Downloading subtitles: de\n"
     ]
    },
    {
     "name": "stderr",
     "output_type": "stream",
     "text": [
      "WARNING: ffmpeg not found. The downloaded format may not be the best available. Installing ffmpeg is strongly recommended: https://github.com/yt-dlp/yt-dlp#dependencies\n"
     ]
    },
    {
     "name": "stdout",
     "output_type": "stream",
     "text": [
      "[info] xvyXkipqVaQ: Downloading 1 format(s): 18\n",
      "[info] Writing video subtitles to: data\\de_DW\\Ex-Geheimagent über die Herausforderung bei Verhandlungen zur Geiselbefreiung  DW Nachrichten.de.vtt\n",
      "[download] Destination: data\\de_DW\\Ex-Geheimagent über die Herausforderung bei Verhandlungen zur Geiselbefreiung  DW Nachrichten.de.vtt\n",
      "[download] 100% of  118.19KiB in 00:00:00 at 630.90KiB/s\n",
      "[youtube] Extracting URL: https://youtube.com/watch?v=qw_TH7XG38Q\n",
      "[youtube] qw_TH7XG38Q: Downloading webpage\n",
      "[youtube] qw_TH7XG38Q: Downloading ios player API JSON\n",
      "[youtube] qw_TH7XG38Q: Downloading web creator player API JSON\n",
      "[youtube] qw_TH7XG38Q: Downloading m3u8 information\n",
      "[info] qw_TH7XG38Q: Downloading subtitles: en\n"
     ]
    },
    {
     "name": "stderr",
     "output_type": "stream",
     "text": [
      "WARNING: ffmpeg not found. The downloaded format may not be the best available. Installing ffmpeg is strongly recommended: https://github.com/yt-dlp/yt-dlp#dependencies\n"
     ]
    },
    {
     "name": "stdout",
     "output_type": "stream",
     "text": [
      "[youtube] Extracting URL: https://youtube.com/watch?v=qw_TH7XG38Q\n",
      "[youtube] qw_TH7XG38Q: Downloading webpage\n",
      "[youtube] qw_TH7XG38Q: Downloading ios player API JSON\n",
      "[youtube] qw_TH7XG38Q: Downloading web creator player API JSON\n",
      "[youtube] qw_TH7XG38Q: Downloading m3u8 information\n",
      "[info] qw_TH7XG38Q: Downloading subtitles: de\n"
     ]
    },
    {
     "name": "stderr",
     "output_type": "stream",
     "text": [
      "WARNING: ffmpeg not found. The downloaded format may not be the best available. Installing ffmpeg is strongly recommended: https://github.com/yt-dlp/yt-dlp#dependencies\n"
     ]
    },
    {
     "name": "stdout",
     "output_type": "stream",
     "text": [
      "[info] qw_TH7XG38Q: Downloading 1 format(s): 18\n",
      "[info] Writing video subtitles to: data\\de_DW\\Begrenzter israelischer Panzervorstoß im Gazastreifen  DW Nachrichten.de.vtt\n",
      "[download] Destination: data\\de_DW\\Begrenzter israelischer Panzervorstoß im Gazastreifen  DW Nachrichten.de.vtt\n",
      "[download] 100% of   50.04KiB in 00:00:00 at 364.72KiB/s\n",
      "[youtube] Extracting URL: https://youtube.com/watch?v=cceT800UPI0\n",
      "[youtube] cceT800UPI0: Downloading webpage\n",
      "[youtube] cceT800UPI0: Downloading ios player API JSON\n",
      "[youtube] cceT800UPI0: Downloading web creator player API JSON\n",
      "[youtube] cceT800UPI0: Downloading m3u8 information\n",
      "[info] cceT800UPI0: Downloading subtitles: en\n"
     ]
    },
    {
     "name": "stderr",
     "output_type": "stream",
     "text": [
      "WARNING: ffmpeg not found. The downloaded format may not be the best available. Installing ffmpeg is strongly recommended: https://github.com/yt-dlp/yt-dlp#dependencies\n"
     ]
    },
    {
     "name": "stdout",
     "output_type": "stream",
     "text": [
      "[youtube] Extracting URL: https://youtube.com/watch?v=cceT800UPI0\n",
      "[youtube] cceT800UPI0: Downloading webpage\n",
      "[youtube] cceT800UPI0: Downloading ios player API JSON\n",
      "[youtube] cceT800UPI0: Downloading web creator player API JSON\n",
      "[youtube] cceT800UPI0: Downloading m3u8 information\n",
      "[info] cceT800UPI0: Downloading subtitles: de\n"
     ]
    },
    {
     "name": "stderr",
     "output_type": "stream",
     "text": [
      "WARNING: ffmpeg not found. The downloaded format may not be the best available. Installing ffmpeg is strongly recommended: https://github.com/yt-dlp/yt-dlp#dependencies\n"
     ]
    },
    {
     "name": "stdout",
     "output_type": "stream",
     "text": [
      "[info] cceT800UPI0: Downloading 1 format(s): 18\n",
      "[info] Writing video subtitles to: data\\de_DW\\EU ringt um Haltung zum Nahost-Konflikt  DW Nachrichten.de.vtt\n",
      "[download] Destination: data\\de_DW\\EU ringt um Haltung zum Nahost-Konflikt  DW Nachrichten.de.vtt\n",
      "[download] 100% of   62.77KiB in 00:00:00 at 409.57KiB/s\n",
      "[youtube] Extracting URL: https://youtube.com/watch?v=CezZo8PeF4E\n",
      "[youtube] CezZo8PeF4E: Downloading webpage\n",
      "[youtube] CezZo8PeF4E: Downloading ios player API JSON\n",
      "[youtube] CezZo8PeF4E: Downloading web creator player API JSON\n",
      "[youtube] CezZo8PeF4E: Downloading m3u8 information\n",
      "[info] CezZo8PeF4E: Downloading subtitles: en\n"
     ]
    },
    {
     "name": "stderr",
     "output_type": "stream",
     "text": [
      "WARNING: ffmpeg not found. The downloaded format may not be the best available. Installing ffmpeg is strongly recommended: https://github.com/yt-dlp/yt-dlp#dependencies\n"
     ]
    },
    {
     "name": "stdout",
     "output_type": "stream",
     "text": [
      "[youtube] Extracting URL: https://youtube.com/watch?v=CezZo8PeF4E\n",
      "[youtube] CezZo8PeF4E: Downloading webpage\n",
      "[youtube] CezZo8PeF4E: Downloading ios player API JSON\n",
      "[youtube] CezZo8PeF4E: Downloading web creator player API JSON\n",
      "[youtube] CezZo8PeF4E: Downloading m3u8 information\n",
      "[info] CezZo8PeF4E: Downloading subtitles: de\n"
     ]
    },
    {
     "name": "stderr",
     "output_type": "stream",
     "text": [
      "WARNING: ffmpeg not found. The downloaded format may not be the best available. Installing ffmpeg is strongly recommended: https://github.com/yt-dlp/yt-dlp#dependencies\n"
     ]
    },
    {
     "name": "stdout",
     "output_type": "stream",
     "text": [
      "[info] CezZo8PeF4E: Downloading 1 format(s): 18\n",
      "[info] Writing video subtitles to: data\\de_DW\\Israel unternimmt weiteren Panzervorstoß nach Gaza  DW Nachrichten.de.vtt\n",
      "[download] Destination: data\\de_DW\\Israel unternimmt weiteren Panzervorstoß nach Gaza  DW Nachrichten.de.vtt\n",
      "[download] 100% of   50.13KiB in 00:00:00 at 209.27KiB/s\n",
      "[youtube] Extracting URL: https://youtube.com/watch?v=8Xnq6qiuK6s\n",
      "[youtube] 8Xnq6qiuK6s: Downloading webpage\n",
      "[youtube] 8Xnq6qiuK6s: Downloading ios player API JSON\n",
      "[youtube] 8Xnq6qiuK6s: Downloading web creator player API JSON\n",
      "[youtube] 8Xnq6qiuK6s: Downloading m3u8 information\n",
      "[info] 8Xnq6qiuK6s: Downloading subtitles: en\n"
     ]
    },
    {
     "name": "stderr",
     "output_type": "stream",
     "text": [
      "WARNING: ffmpeg not found. The downloaded format may not be the best available. Installing ffmpeg is strongly recommended: https://github.com/yt-dlp/yt-dlp#dependencies\n"
     ]
    },
    {
     "name": "stdout",
     "output_type": "stream",
     "text": [
      "[youtube] Extracting URL: https://youtube.com/watch?v=8Xnq6qiuK6s\n",
      "[youtube] 8Xnq6qiuK6s: Downloading webpage\n",
      "[youtube] 8Xnq6qiuK6s: Downloading ios player API JSON\n",
      "[youtube] 8Xnq6qiuK6s: Downloading web creator player API JSON\n",
      "[youtube] 8Xnq6qiuK6s: Downloading m3u8 information\n",
      "[info] 8Xnq6qiuK6s: Downloading subtitles: de\n"
     ]
    },
    {
     "name": "stderr",
     "output_type": "stream",
     "text": [
      "WARNING: ffmpeg not found. The downloaded format may not be the best available. Installing ffmpeg is strongly recommended: https://github.com/yt-dlp/yt-dlp#dependencies\n"
     ]
    },
    {
     "name": "stdout",
     "output_type": "stream",
     "text": [
      "[info] 8Xnq6qiuK6s: Downloading 1 format(s): 18\n",
      "[info] Writing video subtitles to: data\\de_DW\\Wie der Nahost-Konflikt das Leben in Deutschland spaltet  Fokus Europa.de.vtt\n",
      "[download] Destination: data\\de_DW\\Wie der Nahost-Konflikt das Leben in Deutschland spaltet  Fokus Europa.de.vtt\n",
      "[download] 100% of   31.19KiB in 00:00:00 at 327.79KiB/s\n",
      "[youtube] Extracting URL: https://youtube.com/watch?v=fjVHYg3ztig\n",
      "[youtube] fjVHYg3ztig: Downloading webpage\n",
      "[youtube] fjVHYg3ztig: Downloading ios player API JSON\n",
      "[youtube] fjVHYg3ztig: Downloading web creator player API JSON\n",
      "[youtube] fjVHYg3ztig: Downloading m3u8 information\n",
      "[info] fjVHYg3ztig: Downloading subtitles: en\n"
     ]
    },
    {
     "name": "stderr",
     "output_type": "stream",
     "text": [
      "WARNING: ffmpeg not found. The downloaded format may not be the best available. Installing ffmpeg is strongly recommended: https://github.com/yt-dlp/yt-dlp#dependencies\n"
     ]
    },
    {
     "name": "stdout",
     "output_type": "stream",
     "text": [
      "[youtube] Extracting URL: https://youtube.com/watch?v=fjVHYg3ztig\n",
      "[youtube] fjVHYg3ztig: Downloading webpage\n",
      "[youtube] fjVHYg3ztig: Downloading ios player API JSON\n",
      "[youtube] fjVHYg3ztig: Downloading web creator player API JSON\n",
      "[youtube] fjVHYg3ztig: Downloading m3u8 information\n",
      "[info] fjVHYg3ztig: Downloading subtitles: de\n"
     ]
    },
    {
     "name": "stderr",
     "output_type": "stream",
     "text": [
      "WARNING: ffmpeg not found. The downloaded format may not be the best available. Installing ffmpeg is strongly recommended: https://github.com/yt-dlp/yt-dlp#dependencies\n"
     ]
    },
    {
     "name": "stdout",
     "output_type": "stream",
     "text": [
      "[info] fjVHYg3ztig: Downloading 1 format(s): 18\n",
      "[info] Writing video subtitles to: data\\de_DW\\Israeli ruft nach dem Verlust seiner Eltern durch Hamas-Anschlag zum Frieden auf  DW #Shorts.de.vtt\n",
      "[download] Destination: data\\de_DW\\Israeli ruft nach dem Verlust seiner Eltern durch Hamas-Anschlag zum Frieden auf  DW #Shorts.de.vtt\n",
      "[download] 100% of    5.97KiB in 00:00:00 at 27.93KiB/s\n",
      "[youtube] Extracting URL: https://youtube.com/watch?v=gUkMa7XyZUo\n",
      "[youtube] gUkMa7XyZUo: Downloading webpage\n",
      "[youtube] gUkMa7XyZUo: Downloading ios player API JSON\n",
      "[youtube] gUkMa7XyZUo: Downloading web creator player API JSON\n",
      "[youtube] gUkMa7XyZUo: Downloading m3u8 information\n",
      "[info] gUkMa7XyZUo: Downloading subtitles: en\n"
     ]
    },
    {
     "name": "stderr",
     "output_type": "stream",
     "text": [
      "WARNING: ffmpeg not found. The downloaded format may not be the best available. Installing ffmpeg is strongly recommended: https://github.com/yt-dlp/yt-dlp#dependencies\n"
     ]
    },
    {
     "name": "stdout",
     "output_type": "stream",
     "text": [
      "[youtube] Extracting URL: https://youtube.com/watch?v=gUkMa7XyZUo\n",
      "[youtube] gUkMa7XyZUo: Downloading webpage\n",
      "[youtube] gUkMa7XyZUo: Downloading ios player API JSON\n",
      "[youtube] gUkMa7XyZUo: Downloading web creator player API JSON\n",
      "[youtube] gUkMa7XyZUo: Downloading m3u8 information\n",
      "[info] gUkMa7XyZUo: Downloading subtitles: de\n"
     ]
    },
    {
     "name": "stderr",
     "output_type": "stream",
     "text": [
      "WARNING: ffmpeg not found. The downloaded format may not be the best available. Installing ffmpeg is strongly recommended: https://github.com/yt-dlp/yt-dlp#dependencies\n"
     ]
    },
    {
     "name": "stdout",
     "output_type": "stream",
     "text": [
      "[info] gUkMa7XyZUo: Downloading 1 format(s): 18\n",
      "[info] Writing video subtitles to: data\\de_DW\\Antisemitische Ausschreitungen in Dagestan  DW Nachrichten.de.vtt\n",
      "[download] Destination: data\\de_DW\\Antisemitische Ausschreitungen in Dagestan  DW Nachrichten.de.vtt\n",
      "[download] 100% of   52.92KiB in 00:00:00 at 362.59KiB/s\n",
      "[youtube] Extracting URL: https://youtube.com/watch?v=gskCsHYnGdk\n",
      "[youtube] gskCsHYnGdk: Downloading webpage\n",
      "[youtube] gskCsHYnGdk: Downloading ios player API JSON\n",
      "[youtube] gskCsHYnGdk: Downloading web creator player API JSON\n",
      "[youtube] gskCsHYnGdk: Downloading m3u8 information\n",
      "[info] gskCsHYnGdk: Downloading subtitles: en\n"
     ]
    },
    {
     "name": "stderr",
     "output_type": "stream",
     "text": [
      "WARNING: ffmpeg not found. The downloaded format may not be the best available. Installing ffmpeg is strongly recommended: https://github.com/yt-dlp/yt-dlp#dependencies\n"
     ]
    },
    {
     "name": "stdout",
     "output_type": "stream",
     "text": [
      "[youtube] Extracting URL: https://youtube.com/watch?v=gskCsHYnGdk\n",
      "[youtube] gskCsHYnGdk: Downloading webpage\n",
      "[youtube] gskCsHYnGdk: Downloading ios player API JSON\n",
      "[youtube] gskCsHYnGdk: Downloading web creator player API JSON\n",
      "[youtube] gskCsHYnGdk: Downloading player 3c3d6e4f\n",
      "[youtube] gskCsHYnGdk: Downloading m3u8 information\n",
      "[info] gskCsHYnGdk: Downloading subtitles: de\n"
     ]
    },
    {
     "name": "stderr",
     "output_type": "stream",
     "text": [
      "WARNING: ffmpeg not found. The downloaded format may not be the best available. Installing ffmpeg is strongly recommended: https://github.com/yt-dlp/yt-dlp#dependencies\n"
     ]
    },
    {
     "name": "stdout",
     "output_type": "stream",
     "text": [
      "[info] gskCsHYnGdk: Downloading 1 format(s): 18\n",
      "[info] Writing video subtitles to: data\\de_DW\\Israelische Armee verstärkt Offensive gegen Hamas  DW Nachrichten.de.vtt\n",
      "[download] Destination: data\\de_DW\\Israelische Armee verstärkt Offensive gegen Hamas  DW Nachrichten.de.vtt\n",
      "[download] 100% of   95.24KiB in 00:00:00 at 587.04KiB/s\n",
      "[youtube] Extracting URL: https://youtube.com/watch?v=vyn_fVGNES4\n",
      "[youtube] vyn_fVGNES4: Downloading webpage\n",
      "[youtube] vyn_fVGNES4: Downloading ios player API JSON\n",
      "[youtube] vyn_fVGNES4: Downloading web creator player API JSON\n",
      "[youtube] vyn_fVGNES4: Downloading m3u8 information\n",
      "[info] vyn_fVGNES4: Downloading subtitles: en\n"
     ]
    },
    {
     "name": "stderr",
     "output_type": "stream",
     "text": [
      "WARNING: ffmpeg not found. The downloaded format may not be the best available. Installing ffmpeg is strongly recommended: https://github.com/yt-dlp/yt-dlp#dependencies\n"
     ]
    },
    {
     "name": "stdout",
     "output_type": "stream",
     "text": [
      "[youtube] Extracting URL: https://youtube.com/watch?v=vyn_fVGNES4\n",
      "[youtube] vyn_fVGNES4: Downloading webpage\n",
      "[youtube] vyn_fVGNES4: Downloading ios player API JSON\n",
      "[youtube] vyn_fVGNES4: Downloading web creator player API JSON\n",
      "[youtube] vyn_fVGNES4: Downloading m3u8 information\n",
      "[info] vyn_fVGNES4: Downloading subtitles: de\n"
     ]
    },
    {
     "name": "stderr",
     "output_type": "stream",
     "text": [
      "WARNING: ffmpeg not found. The downloaded format may not be the best available. Installing ffmpeg is strongly recommended: https://github.com/yt-dlp/yt-dlp#dependencies\n"
     ]
    },
    {
     "name": "stdout",
     "output_type": "stream",
     "text": [
      "[info] vyn_fVGNES4: Downloading 1 format(s): 18\n",
      "[info] Writing video subtitles to: data\\de_DW\\Krieg in Nahost birgt Gefahr eines Flächenbrandes  DW Nachrichten.de.vtt\n",
      "[download] Destination: data\\de_DW\\Krieg in Nahost birgt Gefahr eines Flächenbrandes  DW Nachrichten.de.vtt\n",
      "[download] 100% of   51.30KiB in 00:00:00 at 271.93KiB/s\n",
      "[youtube] Extracting URL: https://youtube.com/watch?v=zFnL03YS74k\n",
      "[youtube] zFnL03YS74k: Downloading webpage\n",
      "[youtube] zFnL03YS74k: Downloading ios player API JSON\n",
      "[youtube] zFnL03YS74k: Downloading web creator player API JSON\n",
      "[youtube] zFnL03YS74k: Downloading m3u8 information\n",
      "[info] zFnL03YS74k: Downloading subtitles: en\n"
     ]
    },
    {
     "name": "stderr",
     "output_type": "stream",
     "text": [
      "WARNING: ffmpeg not found. The downloaded format may not be the best available. Installing ffmpeg is strongly recommended: https://github.com/yt-dlp/yt-dlp#dependencies\n"
     ]
    },
    {
     "name": "stdout",
     "output_type": "stream",
     "text": [
      "[youtube] Extracting URL: https://youtube.com/watch?v=zFnL03YS74k\n",
      "[youtube] zFnL03YS74k: Downloading webpage\n",
      "[youtube] zFnL03YS74k: Downloading ios player API JSON\n",
      "[youtube] zFnL03YS74k: Downloading web creator player API JSON\n",
      "[youtube] zFnL03YS74k: Downloading m3u8 information\n",
      "[info] zFnL03YS74k: Downloading subtitles: de\n"
     ]
    },
    {
     "name": "stderr",
     "output_type": "stream",
     "text": [
      "WARNING: ffmpeg not found. The downloaded format may not be the best available. Installing ffmpeg is strongly recommended: https://github.com/yt-dlp/yt-dlp#dependencies\n"
     ]
    },
    {
     "name": "stdout",
     "output_type": "stream",
     "text": [
      "[info] zFnL03YS74k: Downloading 1 format(s): 18\n",
      "[info] Writing video subtitles to: data\\de_DW\\Ägypten lässt erste Verletzte uns Ausländer aus dem Gazastreifen einreisen  DW News.de.vtt\n",
      "[download] Destination: data\\de_DW\\Ägypten lässt erste Verletzte uns Ausländer aus dem Gazastreifen einreisen  DW News.de.vtt\n",
      "[download] 100% of   57.89KiB in 00:00:00 at 288.48KiB/s\n",
      "[youtube] Extracting URL: https://youtube.com/watch?v=3J1vwHzl1Js\n",
      "[youtube] 3J1vwHzl1Js: Downloading webpage\n",
      "[youtube] 3J1vwHzl1Js: Downloading ios player API JSON\n",
      "[youtube] 3J1vwHzl1Js: Downloading web creator player API JSON\n",
      "[youtube] 3J1vwHzl1Js: Downloading m3u8 information\n",
      "[info] 3J1vwHzl1Js: Downloading subtitles: en\n"
     ]
    },
    {
     "name": "stderr",
     "output_type": "stream",
     "text": [
      "WARNING: ffmpeg not found. The downloaded format may not be the best available. Installing ffmpeg is strongly recommended: https://github.com/yt-dlp/yt-dlp#dependencies\n"
     ]
    },
    {
     "name": "stdout",
     "output_type": "stream",
     "text": [
      "[youtube] Extracting URL: https://youtube.com/watch?v=3J1vwHzl1Js\n",
      "[youtube] 3J1vwHzl1Js: Downloading webpage\n",
      "[youtube] 3J1vwHzl1Js: Downloading ios player API JSON\n",
      "[youtube] 3J1vwHzl1Js: Downloading web creator player API JSON\n",
      "[youtube] 3J1vwHzl1Js: Downloading m3u8 information\n",
      "[info] 3J1vwHzl1Js: Downloading subtitles: de\n"
     ]
    },
    {
     "name": "stderr",
     "output_type": "stream",
     "text": [
      "WARNING: ffmpeg not found. The downloaded format may not be the best available. Installing ffmpeg is strongly recommended: https://github.com/yt-dlp/yt-dlp#dependencies\n"
     ]
    },
    {
     "name": "stdout",
     "output_type": "stream",
     "text": [
      "[info] 3J1vwHzl1Js: Downloading 1 format(s): 18\n",
      "[info] Writing video subtitles to: data\\de_DW\\Nahost-Konflikt Biden wünscht sich Pause  DW Nachrichten.de.vtt\n",
      "[download] Destination: data\\de_DW\\Nahost-Konflikt Biden wünscht sich Pause  DW Nachrichten.de.vtt\n",
      "[download] 100% of   50.36KiB in 00:00:00 at 434.42KiB/s\n",
      "[youtube] Extracting URL: https://youtube.com/watch?v=N3k2VWxCjyk\n",
      "[youtube] N3k2VWxCjyk: Downloading webpage\n",
      "[youtube] N3k2VWxCjyk: Downloading ios player API JSON\n",
      "[youtube] N3k2VWxCjyk: Downloading web creator player API JSON\n",
      "[youtube] N3k2VWxCjyk: Downloading m3u8 information\n",
      "[info] N3k2VWxCjyk: Downloading subtitles: en\n"
     ]
    },
    {
     "name": "stderr",
     "output_type": "stream",
     "text": [
      "WARNING: ffmpeg not found. The downloaded format may not be the best available. Installing ffmpeg is strongly recommended: https://github.com/yt-dlp/yt-dlp#dependencies\n"
     ]
    },
    {
     "name": "stdout",
     "output_type": "stream",
     "text": [
      "[youtube] Extracting URL: https://youtube.com/watch?v=N3k2VWxCjyk\n",
      "[youtube] N3k2VWxCjyk: Downloading webpage\n",
      "[youtube] N3k2VWxCjyk: Downloading ios player API JSON\n",
      "[youtube] N3k2VWxCjyk: Downloading web creator player API JSON\n",
      "[youtube] N3k2VWxCjyk: Downloading m3u8 information\n",
      "[info] N3k2VWxCjyk: Downloading subtitles: de\n"
     ]
    },
    {
     "name": "stderr",
     "output_type": "stream",
     "text": [
      "WARNING: ffmpeg not found. The downloaded format may not be the best available. Installing ffmpeg is strongly recommended: https://github.com/yt-dlp/yt-dlp#dependencies\n"
     ]
    },
    {
     "name": "stdout",
     "output_type": "stream",
     "text": [
      "[info] N3k2VWxCjyk: Downloading 1 format(s): 18\n",
      "[info] Writing video subtitles to: data\\de_DW\\Tote Journalisten Nichtregierungs-Organisationen schlagen Alarm  DW Nachrichten.de.vtt\n",
      "[download] Destination: data\\de_DW\\Tote Journalisten Nichtregierungs-Organisationen schlagen Alarm  DW Nachrichten.de.vtt\n",
      "[download] 100% of   59.61KiB in 00:00:00 at 335.28KiB/s\n",
      "[youtube] Extracting URL: https://youtube.com/watch?v=jJTu3NKPLho\n",
      "[youtube] jJTu3NKPLho: Downloading webpage\n",
      "[youtube] jJTu3NKPLho: Downloading ios player API JSON\n",
      "[youtube] jJTu3NKPLho: Downloading web creator player API JSON\n",
      "[youtube] jJTu3NKPLho: Downloading m3u8 information\n",
      "[info] jJTu3NKPLho: Downloading subtitles: en\n"
     ]
    },
    {
     "name": "stderr",
     "output_type": "stream",
     "text": [
      "WARNING: ffmpeg not found. The downloaded format may not be the best available. Installing ffmpeg is strongly recommended: https://github.com/yt-dlp/yt-dlp#dependencies\n"
     ]
    },
    {
     "name": "stdout",
     "output_type": "stream",
     "text": [
      "[youtube] Extracting URL: https://youtube.com/watch?v=jJTu3NKPLho\n",
      "[youtube] jJTu3NKPLho: Downloading webpage\n",
      "[youtube] jJTu3NKPLho: Downloading ios player API JSON\n",
      "[youtube] jJTu3NKPLho: Downloading web creator player API JSON\n",
      "[youtube] jJTu3NKPLho: Downloading m3u8 information\n",
      "[info] jJTu3NKPLho: Downloading subtitles: de\n"
     ]
    },
    {
     "name": "stderr",
     "output_type": "stream",
     "text": [
      "WARNING: ffmpeg not found. The downloaded format may not be the best available. Installing ffmpeg is strongly recommended: https://github.com/yt-dlp/yt-dlp#dependencies\n"
     ]
    },
    {
     "name": "stdout",
     "output_type": "stream",
     "text": [
      "[info] jJTu3NKPLho: Downloading 1 format(s): 18\n",
      "[info] Writing video subtitles to: data\\de_DW\\US-Außenminister Blinken erneut in Israel   DW Nachrichten.de.vtt\n",
      "[download] Destination: data\\de_DW\\US-Außenminister Blinken erneut in Israel   DW Nachrichten.de.vtt\n",
      "[download] 100% of   67.60KiB in 00:00:00 at 432.86KiB/s\n",
      "[youtube] Extracting URL: https://youtube.com/watch?v=UzF9GW-Btq8\n",
      "[youtube] UzF9GW-Btq8: Downloading webpage\n",
      "[youtube] UzF9GW-Btq8: Downloading ios player API JSON\n",
      "[youtube] UzF9GW-Btq8: Downloading web creator player API JSON\n",
      "[youtube] UzF9GW-Btq8: Downloading m3u8 information\n",
      "[info] UzF9GW-Btq8: Downloading subtitles: en\n"
     ]
    },
    {
     "name": "stderr",
     "output_type": "stream",
     "text": [
      "WARNING: ffmpeg not found. The downloaded format may not be the best available. Installing ffmpeg is strongly recommended: https://github.com/yt-dlp/yt-dlp#dependencies\n"
     ]
    },
    {
     "name": "stdout",
     "output_type": "stream",
     "text": [
      "[youtube] Extracting URL: https://youtube.com/watch?v=UzF9GW-Btq8\n",
      "[youtube] UzF9GW-Btq8: Downloading webpage\n",
      "[youtube] UzF9GW-Btq8: Downloading ios player API JSON\n",
      "[youtube] UzF9GW-Btq8: Downloading web creator player API JSON\n",
      "[youtube] UzF9GW-Btq8: Downloading m3u8 information\n",
      "[info] UzF9GW-Btq8: Downloading subtitles: de\n"
     ]
    },
    {
     "name": "stderr",
     "output_type": "stream",
     "text": [
      "WARNING: ffmpeg not found. The downloaded format may not be the best available. Installing ffmpeg is strongly recommended: https://github.com/yt-dlp/yt-dlp#dependencies\n"
     ]
    },
    {
     "name": "stdout",
     "output_type": "stream",
     "text": [
      "[info] UzF9GW-Btq8: Downloading 1 format(s): 18\n",
      "[info] Writing video subtitles to: data\\de_DW\\Deutschland Sorge über Krieg im Nahen Osten  DW Nachrichten.de.vtt\n",
      "[download] Destination: data\\de_DW\\Deutschland Sorge über Krieg im Nahen Osten  DW Nachrichten.de.vtt\n",
      "[download] 100% of   51.70KiB in 00:00:00 at 187.12KiB/s\n",
      "[youtube] Extracting URL: https://youtube.com/watch?v=X0Nkte0YhRY\n",
      "[youtube] X0Nkte0YhRY: Downloading webpage\n",
      "[youtube] X0Nkte0YhRY: Downloading ios player API JSON\n",
      "[youtube] X0Nkte0YhRY: Downloading web creator player API JSON\n",
      "[youtube] X0Nkte0YhRY: Downloading m3u8 information\n",
      "[info] X0Nkte0YhRY: Downloading subtitles: en\n"
     ]
    },
    {
     "name": "stderr",
     "output_type": "stream",
     "text": [
      "WARNING: ffmpeg not found. The downloaded format may not be the best available. Installing ffmpeg is strongly recommended: https://github.com/yt-dlp/yt-dlp#dependencies\n"
     ]
    },
    {
     "name": "stdout",
     "output_type": "stream",
     "text": [
      "[youtube] Extracting URL: https://youtube.com/watch?v=X0Nkte0YhRY\n",
      "[youtube] X0Nkte0YhRY: Downloading webpage\n",
      "[youtube] X0Nkte0YhRY: Downloading ios player API JSON\n",
      "[youtube] X0Nkte0YhRY: Downloading web creator player API JSON\n",
      "[youtube] X0Nkte0YhRY: Downloading m3u8 information\n",
      "[info] X0Nkte0YhRY: Downloading subtitles: de\n"
     ]
    },
    {
     "name": "stderr",
     "output_type": "stream",
     "text": [
      "WARNING: ffmpeg not found. The downloaded format may not be the best available. Installing ffmpeg is strongly recommended: https://github.com/yt-dlp/yt-dlp#dependencies\n"
     ]
    },
    {
     "name": "stdout",
     "output_type": "stream",
     "text": [
      "[info] X0Nkte0YhRY: Downloading 1 format(s): 18\n",
      "[info] Writing video subtitles to: data\\de_DW\\Gaza Das israelische Militär rückt weiter vor, warum kommt keine humanitäre Pause  DW Nachrichten.de.vtt\n",
      "[download] Destination: data\\de_DW\\Gaza Das israelische Militär rückt weiter vor, warum kommt keine humanitäre Pause  DW Nachrichten.de.vtt\n",
      "[download] 100% of   98.92KiB in 00:00:00 at 583.24KiB/s\n",
      "[youtube] Extracting URL: https://youtube.com/watch?v=PC2-C__K2LQ\n",
      "[youtube] PC2-C__K2LQ: Downloading webpage\n",
      "[youtube] PC2-C__K2LQ: Downloading ios player API JSON\n",
      "[youtube] PC2-C__K2LQ: Downloading web creator player API JSON\n",
      "[youtube] PC2-C__K2LQ: Downloading m3u8 information\n",
      "[info] PC2-C__K2LQ: Downloading subtitles: en\n"
     ]
    },
    {
     "name": "stderr",
     "output_type": "stream",
     "text": [
      "WARNING: ffmpeg not found. The downloaded format may not be the best available. Installing ffmpeg is strongly recommended: https://github.com/yt-dlp/yt-dlp#dependencies\n"
     ]
    },
    {
     "name": "stdout",
     "output_type": "stream",
     "text": [
      "[youtube] Extracting URL: https://youtube.com/watch?v=PC2-C__K2LQ\n",
      "[youtube] PC2-C__K2LQ: Downloading webpage\n",
      "[youtube] PC2-C__K2LQ: Downloading ios player API JSON\n",
      "[youtube] PC2-C__K2LQ: Downloading web creator player API JSON\n",
      "[youtube] PC2-C__K2LQ: Downloading m3u8 information\n",
      "[info] PC2-C__K2LQ: Downloading subtitles: de\n"
     ]
    },
    {
     "name": "stderr",
     "output_type": "stream",
     "text": [
      "WARNING: ffmpeg not found. The downloaded format may not be the best available. Installing ffmpeg is strongly recommended: https://github.com/yt-dlp/yt-dlp#dependencies\n"
     ]
    },
    {
     "name": "stdout",
     "output_type": "stream",
     "text": [
      "[info] PC2-C__K2LQ: Downloading 1 format(s): 18\n",
      "[info] Writing video subtitles to: data\\de_DW\\Wo steht Israel einen Monat nach dem Terror-Angriff der Hamas  DW Nachrichten.de.vtt\n",
      "[download] Destination: data\\de_DW\\Wo steht Israel einen Monat nach dem Terror-Angriff der Hamas  DW Nachrichten.de.vtt\n",
      "[download] 100% of   61.15KiB in 00:00:00 at 328.67KiB/s\n",
      "[youtube] Extracting URL: https://youtube.com/watch?v=A4Tp0batmYA\n",
      "[youtube] A4Tp0batmYA: Downloading webpage\n",
      "[youtube] A4Tp0batmYA: Downloading ios player API JSON\n",
      "[youtube] A4Tp0batmYA: Downloading web creator player API JSON\n",
      "[youtube] A4Tp0batmYA: Downloading m3u8 information\n",
      "[info] A4Tp0batmYA: Downloading subtitles: en\n"
     ]
    },
    {
     "name": "stderr",
     "output_type": "stream",
     "text": [
      "WARNING: ffmpeg not found. The downloaded format may not be the best available. Installing ffmpeg is strongly recommended: https://github.com/yt-dlp/yt-dlp#dependencies\n"
     ]
    },
    {
     "name": "stdout",
     "output_type": "stream",
     "text": [
      "[youtube] Extracting URL: https://youtube.com/watch?v=A4Tp0batmYA\n",
      "[youtube] A4Tp0batmYA: Downloading webpage\n",
      "[youtube] A4Tp0batmYA: Downloading ios player API JSON\n",
      "[youtube] A4Tp0batmYA: Downloading web creator player API JSON\n",
      "[youtube] A4Tp0batmYA: Downloading m3u8 information\n",
      "[info] A4Tp0batmYA: Downloading subtitles: de\n"
     ]
    },
    {
     "name": "stderr",
     "output_type": "stream",
     "text": [
      "WARNING: ffmpeg not found. The downloaded format may not be the best available. Installing ffmpeg is strongly recommended: https://github.com/yt-dlp/yt-dlp#dependencies\n"
     ]
    },
    {
     "name": "stdout",
     "output_type": "stream",
     "text": [
      "[info] A4Tp0batmYA: Downloading 1 format(s): 18\n",
      "[info] Writing video subtitles to: data\\de_DW\\Bundespräsident Deutschland ist gefordert wie lange nicht  DW Nachrichten.de.vtt\n",
      "[download] Destination: data\\de_DW\\Bundespräsident Deutschland ist gefordert wie lange nicht  DW Nachrichten.de.vtt\n",
      "[download] 100% of   72.63KiB in 00:00:00 at 461.96KiB/s\n",
      "[youtube] Extracting URL: https://youtube.com/watch?v=u16H9mKxAHs\n",
      "[youtube] u16H9mKxAHs: Downloading webpage\n",
      "[youtube] u16H9mKxAHs: Downloading ios player API JSON\n",
      "[youtube] u16H9mKxAHs: Downloading web creator player API JSON\n",
      "[youtube] u16H9mKxAHs: Downloading m3u8 information\n",
      "[info] u16H9mKxAHs: Downloading subtitles: en\n"
     ]
    },
    {
     "name": "stderr",
     "output_type": "stream",
     "text": [
      "WARNING: ffmpeg not found. The downloaded format may not be the best available. Installing ffmpeg is strongly recommended: https://github.com/yt-dlp/yt-dlp#dependencies\n"
     ]
    },
    {
     "name": "stdout",
     "output_type": "stream",
     "text": [
      "[youtube] Extracting URL: https://youtube.com/watch?v=u16H9mKxAHs\n",
      "[youtube] u16H9mKxAHs: Downloading webpage\n",
      "[youtube] u16H9mKxAHs: Downloading ios player API JSON\n",
      "[youtube] u16H9mKxAHs: Downloading web creator player API JSON\n",
      "[youtube] u16H9mKxAHs: Downloading m3u8 information\n",
      "[info] u16H9mKxAHs: Downloading subtitles: de\n"
     ]
    },
    {
     "name": "stderr",
     "output_type": "stream",
     "text": [
      "WARNING: ffmpeg not found. The downloaded format may not be the best available. Installing ffmpeg is strongly recommended: https://github.com/yt-dlp/yt-dlp#dependencies\n"
     ]
    },
    {
     "name": "stdout",
     "output_type": "stream",
     "text": [
      "[info] u16H9mKxAHs: Downloading 1 format(s): 18\n",
      "[info] Writing video subtitles to: data\\de_DW\\Welches Ziel hat die Hamas verfolgt mit dem Terroranschlag auf Israel  DW Nachrichten.de.vtt\n",
      "[download] Destination: data\\de_DW\\Welches Ziel hat die Hamas verfolgt mit dem Terroranschlag auf Israel  DW Nachrichten.de.vtt\n",
      "[download] 100% of   55.96KiB in 00:00:00 at 466.35KiB/s\n",
      "[youtube] Extracting URL: https://youtube.com/watch?v=zhdvznCdyNY\n",
      "[youtube] zhdvznCdyNY: Downloading webpage\n",
      "[youtube] zhdvznCdyNY: Downloading ios player API JSON\n",
      "[youtube] zhdvznCdyNY: Downloading web creator player API JSON\n",
      "[youtube] zhdvznCdyNY: Downloading m3u8 information\n",
      "[info] zhdvznCdyNY: Downloading subtitles: en\n"
     ]
    },
    {
     "name": "stderr",
     "output_type": "stream",
     "text": [
      "WARNING: ffmpeg not found. The downloaded format may not be the best available. Installing ffmpeg is strongly recommended: https://github.com/yt-dlp/yt-dlp#dependencies\n"
     ]
    },
    {
     "name": "stdout",
     "output_type": "stream",
     "text": [
      "[youtube] Extracting URL: https://youtube.com/watch?v=zhdvznCdyNY\n",
      "[youtube] zhdvznCdyNY: Downloading webpage\n",
      "[youtube] zhdvznCdyNY: Downloading ios player API JSON\n",
      "[youtube] zhdvznCdyNY: Downloading web creator player API JSON\n",
      "[youtube] zhdvznCdyNY: Downloading m3u8 information\n",
      "[info] zhdvznCdyNY: Downloading subtitles: de\n"
     ]
    },
    {
     "name": "stderr",
     "output_type": "stream",
     "text": [
      "WARNING: ffmpeg not found. The downloaded format may not be the best available. Installing ffmpeg is strongly recommended: https://github.com/yt-dlp/yt-dlp#dependencies\n"
     ]
    },
    {
     "name": "stdout",
     "output_type": "stream",
     "text": [
      "[info] zhdvznCdyNY: Downloading 1 format(s): 18\n",
      "[info] Writing video subtitles to: data\\de_DW\\Die EU-Kommission ist für die Ukraine in der EU, was spricht noch dagegen  DW Nachrichten.de.vtt\n",
      "[download] Destination: data\\de_DW\\Die EU-Kommission ist für die Ukraine in der EU, was spricht noch dagegen  DW Nachrichten.de.vtt\n",
      "[download] 100% of   60.00KiB in 00:00:00 at 426.76KiB/s\n",
      "[youtube] Extracting URL: https://youtube.com/watch?v=14nBN9oETnY\n",
      "[youtube] 14nBN9oETnY: Downloading webpage\n",
      "[youtube] 14nBN9oETnY: Downloading ios player API JSON\n",
      "[youtube] 14nBN9oETnY: Downloading web creator player API JSON\n",
      "[youtube] 14nBN9oETnY: Downloading m3u8 information\n",
      "[info] 14nBN9oETnY: Downloading subtitles: en\n"
     ]
    },
    {
     "name": "stderr",
     "output_type": "stream",
     "text": [
      "WARNING: ffmpeg not found. The downloaded format may not be the best available. Installing ffmpeg is strongly recommended: https://github.com/yt-dlp/yt-dlp#dependencies\n"
     ]
    },
    {
     "name": "stdout",
     "output_type": "stream",
     "text": [
      "[youtube] Extracting URL: https://youtube.com/watch?v=14nBN9oETnY\n",
      "[youtube] 14nBN9oETnY: Downloading webpage\n",
      "[youtube] 14nBN9oETnY: Downloading ios player API JSON\n",
      "[youtube] 14nBN9oETnY: Downloading web creator player API JSON\n",
      "[youtube] 14nBN9oETnY: Downloading m3u8 information\n",
      "[info] 14nBN9oETnY: Downloading subtitles: de\n"
     ]
    },
    {
     "name": "stderr",
     "output_type": "stream",
     "text": [
      "WARNING: ffmpeg not found. The downloaded format may not be the best available. Installing ffmpeg is strongly recommended: https://github.com/yt-dlp/yt-dlp#dependencies\n"
     ]
    },
    {
     "name": "stdout",
     "output_type": "stream",
     "text": [
      "[info] 14nBN9oETnY: Downloading 1 format(s): 18\n",
      "[info] Writing video subtitles to: data\\de_DW\\Israel hat sich nach Angaben der USA zu täglichen Feuerpausen bereiterklärt  DW Nachrichten.de.vtt\n",
      "[download] Destination: data\\de_DW\\Israel hat sich nach Angaben der USA zu täglichen Feuerpausen bereiterklärt  DW Nachrichten.de.vtt\n",
      "[download] 100% of  106.90KiB in 00:00:00 at 612.59KiB/s\n",
      "[youtube] Extracting URL: https://youtube.com/watch?v=xXJ2170OltI\n",
      "[youtube] xXJ2170OltI: Downloading webpage\n",
      "[youtube] xXJ2170OltI: Downloading ios player API JSON\n",
      "[youtube] xXJ2170OltI: Downloading web creator player API JSON\n",
      "[youtube] xXJ2170OltI: Downloading m3u8 information\n",
      "[info] xXJ2170OltI: Downloading subtitles: en\n"
     ]
    },
    {
     "name": "stderr",
     "output_type": "stream",
     "text": [
      "WARNING: ffmpeg not found. The downloaded format may not be the best available. Installing ffmpeg is strongly recommended: https://github.com/yt-dlp/yt-dlp#dependencies\n"
     ]
    },
    {
     "name": "stdout",
     "output_type": "stream",
     "text": [
      "[youtube] Extracting URL: https://youtube.com/watch?v=xXJ2170OltI\n",
      "[youtube] xXJ2170OltI: Downloading webpage\n",
      "[youtube] xXJ2170OltI: Downloading ios player API JSON\n",
      "[youtube] xXJ2170OltI: Downloading web creator player API JSON\n",
      "[youtube] xXJ2170OltI: Downloading m3u8 information\n",
      "[info] xXJ2170OltI: Downloading subtitles: de\n"
     ]
    },
    {
     "name": "stderr",
     "output_type": "stream",
     "text": [
      "WARNING: ffmpeg not found. The downloaded format may not be the best available. Installing ffmpeg is strongly recommended: https://github.com/yt-dlp/yt-dlp#dependencies\n"
     ]
    },
    {
     "name": "stdout",
     "output_type": "stream",
     "text": [
      "[info] xXJ2170OltI: Downloading 1 format(s): 18\n",
      "[info] Writing video subtitles to: data\\de_DW\\Gaza Kaum Informationen über entführte Geiseln  DW Nachrichten.de.vtt\n",
      "[download] Destination: data\\de_DW\\Gaza Kaum Informationen über entführte Geiseln  DW Nachrichten.de.vtt\n",
      "[download] 100% of  104.50KiB in 00:00:00 at 668.58KiB/s\n",
      "[youtube] Extracting URL: https://youtube.com/watch?v=WHPNOaLbYXw\n",
      "[youtube] WHPNOaLbYXw: Downloading webpage\n",
      "[youtube] WHPNOaLbYXw: Downloading ios player API JSON\n",
      "[youtube] WHPNOaLbYXw: Downloading web creator player API JSON\n",
      "[youtube] WHPNOaLbYXw: Downloading m3u8 information\n",
      "[info] WHPNOaLbYXw: Downloading subtitles: en\n"
     ]
    },
    {
     "name": "stderr",
     "output_type": "stream",
     "text": [
      "WARNING: ffmpeg not found. The downloaded format may not be the best available. Installing ffmpeg is strongly recommended: https://github.com/yt-dlp/yt-dlp#dependencies\n"
     ]
    },
    {
     "name": "stdout",
     "output_type": "stream",
     "text": [
      "[youtube] Extracting URL: https://youtube.com/watch?v=WHPNOaLbYXw\n",
      "[youtube] WHPNOaLbYXw: Downloading webpage\n",
      "[youtube] WHPNOaLbYXw: Downloading ios player API JSON\n",
      "[youtube] WHPNOaLbYXw: Downloading web creator player API JSON\n",
      "[youtube] WHPNOaLbYXw: Downloading m3u8 information\n",
      "[info] WHPNOaLbYXw: Downloading subtitles: de\n"
     ]
    },
    {
     "name": "stderr",
     "output_type": "stream",
     "text": [
      "WARNING: ffmpeg not found. The downloaded format may not be the best available. Installing ffmpeg is strongly recommended: https://github.com/yt-dlp/yt-dlp#dependencies\n"
     ]
    },
    {
     "name": "stdout",
     "output_type": "stream",
     "text": [
      "[info] WHPNOaLbYXw: Downloading 1 format(s): 18\n",
      "[info] Writing video subtitles to: data\\de_DW\\Gaza Krankenhäuser zwischen den Fronten  DW Nachrichten.de.vtt\n",
      "[download] Destination: data\\de_DW\\Gaza Krankenhäuser zwischen den Fronten  DW Nachrichten.de.vtt\n",
      "[download] 100% of   63.28KiB in 00:00:00 at 398.41KiB/s\n",
      "[youtube] Extracting URL: https://youtube.com/watch?v=EgzQhinJiQc\n",
      "[youtube] EgzQhinJiQc: Downloading webpage\n",
      "[youtube] EgzQhinJiQc: Downloading ios player API JSON\n",
      "[youtube] EgzQhinJiQc: Downloading web creator player API JSON\n",
      "[youtube] EgzQhinJiQc: Downloading m3u8 information\n",
      "[info] EgzQhinJiQc: Downloading subtitles: en\n"
     ]
    },
    {
     "name": "stderr",
     "output_type": "stream",
     "text": [
      "WARNING: ffmpeg not found. The downloaded format may not be the best available. Installing ffmpeg is strongly recommended: https://github.com/yt-dlp/yt-dlp#dependencies\n"
     ]
    },
    {
     "name": "stdout",
     "output_type": "stream",
     "text": [
      "[youtube] Extracting URL: https://youtube.com/watch?v=EgzQhinJiQc\n",
      "[youtube] EgzQhinJiQc: Downloading webpage\n",
      "[youtube] EgzQhinJiQc: Downloading ios player API JSON\n",
      "[youtube] EgzQhinJiQc: Downloading web creator player API JSON\n",
      "[youtube] EgzQhinJiQc: Downloading m3u8 information\n",
      "[info] EgzQhinJiQc: Downloading subtitles: de\n"
     ]
    },
    {
     "name": "stderr",
     "output_type": "stream",
     "text": [
      "WARNING: ffmpeg not found. The downloaded format may not be the best available. Installing ffmpeg is strongly recommended: https://github.com/yt-dlp/yt-dlp#dependencies\n"
     ]
    },
    {
     "name": "stdout",
     "output_type": "stream",
     "text": [
      "[info] EgzQhinJiQc: Downloading 1 format(s): 18\n",
      "[info] Writing video subtitles to: data\\de_DW\\Leben im Luxus Die Hamas-Führung in Katar  DW Nachrichten.de.vtt\n",
      "[download] Destination: data\\de_DW\\Leben im Luxus Die Hamas-Führung in Katar  DW Nachrichten.de.vtt\n",
      "[download] 100% of   53.11KiB in 00:00:00 at 304.70KiB/s\n",
      "[youtube] Extracting URL: https://youtube.com/watch?v=OR5kDPEZLaE\n",
      "[youtube] OR5kDPEZLaE: Downloading webpage\n",
      "[youtube] OR5kDPEZLaE: Downloading ios player API JSON\n",
      "[youtube] OR5kDPEZLaE: Downloading web creator player API JSON\n",
      "[youtube] OR5kDPEZLaE: Downloading m3u8 information\n",
      "[info] OR5kDPEZLaE: Downloading subtitles: en\n"
     ]
    },
    {
     "name": "stderr",
     "output_type": "stream",
     "text": [
      "WARNING: ffmpeg not found. The downloaded format may not be the best available. Installing ffmpeg is strongly recommended: https://github.com/yt-dlp/yt-dlp#dependencies\n"
     ]
    },
    {
     "name": "stdout",
     "output_type": "stream",
     "text": [
      "[youtube] Extracting URL: https://youtube.com/watch?v=OR5kDPEZLaE\n",
      "[youtube] OR5kDPEZLaE: Downloading webpage\n",
      "[youtube] OR5kDPEZLaE: Downloading ios player API JSON\n",
      "[youtube] OR5kDPEZLaE: Downloading web creator player API JSON\n",
      "[youtube] OR5kDPEZLaE: Downloading m3u8 information\n",
      "[info] OR5kDPEZLaE: Downloading subtitles: de\n"
     ]
    },
    {
     "name": "stderr",
     "output_type": "stream",
     "text": [
      "WARNING: ffmpeg not found. The downloaded format may not be the best available. Installing ffmpeg is strongly recommended: https://github.com/yt-dlp/yt-dlp#dependencies\n"
     ]
    },
    {
     "name": "stdout",
     "output_type": "stream",
     "text": [
      "[info] OR5kDPEZLaE: Downloading 1 format(s): 18\n",
      "[info] Writing video subtitles to: data\\de_DW\\Was passiert mit dem Gazastreifen, wenn der Krieg vorbei ist  DW Nachrichten.de.vtt\n",
      "[download] Destination: data\\de_DW\\Was passiert mit dem Gazastreifen, wenn der Krieg vorbei ist  DW Nachrichten.de.vtt\n",
      "[download] 100% of  110.49KiB in 00:00:00 at 582.89KiB/s\n",
      "[youtube] Extracting URL: https://youtube.com/watch?v=KV22UAimJd0\n",
      "[youtube] KV22UAimJd0: Downloading webpage\n",
      "[youtube] KV22UAimJd0: Downloading ios player API JSON\n",
      "[youtube] KV22UAimJd0: Downloading web creator player API JSON\n",
      "[youtube] KV22UAimJd0: Downloading m3u8 information\n",
      "[info] KV22UAimJd0: Downloading subtitles: en\n"
     ]
    },
    {
     "name": "stderr",
     "output_type": "stream",
     "text": [
      "WARNING: ffmpeg not found. The downloaded format may not be the best available. Installing ffmpeg is strongly recommended: https://github.com/yt-dlp/yt-dlp#dependencies\n"
     ]
    },
    {
     "name": "stdout",
     "output_type": "stream",
     "text": [
      "[youtube] Extracting URL: https://youtube.com/watch?v=KV22UAimJd0\n",
      "[youtube] KV22UAimJd0: Downloading webpage\n",
      "[youtube] KV22UAimJd0: Downloading ios player API JSON\n",
      "[youtube] KV22UAimJd0: Downloading web creator player API JSON\n",
      "[youtube] KV22UAimJd0: Downloading m3u8 information\n",
      "[info] KV22UAimJd0: Downloading subtitles: de\n"
     ]
    },
    {
     "name": "stderr",
     "output_type": "stream",
     "text": [
      "WARNING: ffmpeg not found. The downloaded format may not be the best available. Installing ffmpeg is strongly recommended: https://github.com/yt-dlp/yt-dlp#dependencies\n"
     ]
    },
    {
     "name": "stdout",
     "output_type": "stream",
     "text": [
      "[info] KV22UAimJd0: Downloading 1 format(s): 18\n",
      "[info] Writing video subtitles to: data\\de_DW\\Türkischer Präsident stellt vor Berlin-Reise Israels Existenzrecht in Frage  DW Nachrichten.de.vtt\n",
      "[download] Destination: data\\de_DW\\Türkischer Präsident stellt vor Berlin-Reise Israels Existenzrecht in Frage  DW Nachrichten.de.vtt\n",
      "[download] 100% of  174.97KiB in 00:00:00 at 838.01KiB/s\n",
      "[youtube] Extracting URL: https://youtube.com/watch?v=rOHwAUNtxSY\n",
      "[youtube] rOHwAUNtxSY: Downloading webpage\n",
      "[youtube] rOHwAUNtxSY: Downloading ios player API JSON\n",
      "[youtube] rOHwAUNtxSY: Downloading web creator player API JSON\n",
      "[youtube] rOHwAUNtxSY: Downloading m3u8 information\n",
      "[info] rOHwAUNtxSY: Downloading subtitles: en\n"
     ]
    },
    {
     "name": "stderr",
     "output_type": "stream",
     "text": [
      "WARNING: ffmpeg not found. The downloaded format may not be the best available. Installing ffmpeg is strongly recommended: https://github.com/yt-dlp/yt-dlp#dependencies\n"
     ]
    },
    {
     "name": "stdout",
     "output_type": "stream",
     "text": [
      "[youtube] Extracting URL: https://youtube.com/watch?v=rOHwAUNtxSY\n",
      "[youtube] rOHwAUNtxSY: Downloading webpage\n",
      "[youtube] rOHwAUNtxSY: Downloading ios player API JSON\n",
      "[youtube] rOHwAUNtxSY: Downloading web creator player API JSON\n",
      "[youtube] rOHwAUNtxSY: Downloading m3u8 information\n",
      "[info] rOHwAUNtxSY: Downloading subtitles: de\n"
     ]
    },
    {
     "name": "stderr",
     "output_type": "stream",
     "text": [
      "WARNING: ffmpeg not found. The downloaded format may not be the best available. Installing ffmpeg is strongly recommended: https://github.com/yt-dlp/yt-dlp#dependencies\n"
     ]
    },
    {
     "name": "stdout",
     "output_type": "stream",
     "text": [
      "[info] rOHwAUNtxSY: Downloading 1 format(s): 18\n",
      "[info] Writing video subtitles to: data\\de_DW\\Israelische Militäroperation in Gazas größtem Krankenhaus  DW Nachrichten.de.vtt\n",
      "[download] Destination: data\\de_DW\\Israelische Militäroperation in Gazas größtem Krankenhaus  DW Nachrichten.de.vtt\n",
      "[download] 100% of   61.96KiB in 00:00:00 at 313.33KiB/s\n",
      "[youtube] Extracting URL: https://youtube.com/watch?v=bL9Rc8Cu318\n",
      "[youtube] bL9Rc8Cu318: Downloading webpage\n",
      "[youtube] bL9Rc8Cu318: Downloading ios player API JSON\n",
      "[youtube] bL9Rc8Cu318: Downloading web creator player API JSON\n",
      "[youtube] bL9Rc8Cu318: Downloading m3u8 information\n",
      "[info] bL9Rc8Cu318: Downloading subtitles: en\n"
     ]
    },
    {
     "name": "stderr",
     "output_type": "stream",
     "text": [
      "WARNING: ffmpeg not found. The downloaded format may not be the best available. Installing ffmpeg is strongly recommended: https://github.com/yt-dlp/yt-dlp#dependencies\n"
     ]
    },
    {
     "name": "stdout",
     "output_type": "stream",
     "text": [
      "[youtube] Extracting URL: https://youtube.com/watch?v=bL9Rc8Cu318\n",
      "[youtube] bL9Rc8Cu318: Downloading webpage\n",
      "[youtube] bL9Rc8Cu318: Downloading ios player API JSON\n",
      "[youtube] bL9Rc8Cu318: Downloading web creator player API JSON\n",
      "[youtube] bL9Rc8Cu318: Downloading m3u8 information\n",
      "[info] bL9Rc8Cu318: Downloading subtitles: de\n"
     ]
    },
    {
     "name": "stderr",
     "output_type": "stream",
     "text": [
      "WARNING: ffmpeg not found. The downloaded format may not be the best available. Installing ffmpeg is strongly recommended: https://github.com/yt-dlp/yt-dlp#dependencies\n"
     ]
    },
    {
     "name": "stdout",
     "output_type": "stream",
     "text": [
      "[info] bL9Rc8Cu318: Downloading 1 format(s): 18\n",
      "[info] Writing video subtitles to: data\\de_DW\\54 Objekte in sieben deutschen Bundesländern durchsucht  DW Nachrichten.de.vtt\n",
      "[download] Destination: data\\de_DW\\54 Objekte in sieben deutschen Bundesländern durchsucht  DW Nachrichten.de.vtt\n",
      "[download] 100% of   55.49KiB in 00:00:00 at 285.47KiB/s\n",
      "[youtube] Extracting URL: https://youtube.com/watch?v=qgBv1_7gpqQ\n",
      "[youtube] qgBv1_7gpqQ: Downloading webpage\n",
      "[youtube] qgBv1_7gpqQ: Downloading ios player API JSON\n",
      "[youtube] qgBv1_7gpqQ: Downloading web creator player API JSON\n",
      "[youtube] qgBv1_7gpqQ: Downloading m3u8 information\n",
      "[info] qgBv1_7gpqQ: Downloading subtitles: en\n"
     ]
    },
    {
     "name": "stderr",
     "output_type": "stream",
     "text": [
      "WARNING: ffmpeg not found. The downloaded format may not be the best available. Installing ffmpeg is strongly recommended: https://github.com/yt-dlp/yt-dlp#dependencies\n"
     ]
    },
    {
     "name": "stdout",
     "output_type": "stream",
     "text": [
      "[youtube] Extracting URL: https://youtube.com/watch?v=qgBv1_7gpqQ\n",
      "[youtube] qgBv1_7gpqQ: Downloading webpage\n",
      "[youtube] qgBv1_7gpqQ: Downloading ios player API JSON\n",
      "[youtube] qgBv1_7gpqQ: Downloading web creator player API JSON\n",
      "[youtube] qgBv1_7gpqQ: Downloading m3u8 information\n",
      "[info] qgBv1_7gpqQ: Downloading subtitles: de\n"
     ]
    },
    {
     "name": "stderr",
     "output_type": "stream",
     "text": [
      "WARNING: ffmpeg not found. The downloaded format may not be the best available. Installing ffmpeg is strongly recommended: https://github.com/yt-dlp/yt-dlp#dependencies\n"
     ]
    },
    {
     "name": "stdout",
     "output_type": "stream",
     "text": [
      "[info] qgBv1_7gpqQ: Downloading 1 format(s): 18\n",
      "[info] Writing video subtitles to: data\\de_DW\\Armeesprecher Israelisches Militär fand Tunnelschacht im Schifa-Krankenhaus  DW Nachrichten.de.vtt\n",
      "[download] Destination: data\\de_DW\\Armeesprecher Israelisches Militär fand Tunnelschacht im Schifa-Krankenhaus  DW Nachrichten.de.vtt\n",
      "[download] 100% of   36.47KiB in 00:00:00 at 322.98KiB/s\n",
      "[youtube] Extracting URL: https://youtube.com/watch?v=JcB8jta7_bA\n",
      "[youtube] JcB8jta7_bA: Downloading webpage\n",
      "[youtube] JcB8jta7_bA: Downloading ios player API JSON\n",
      "[youtube] JcB8jta7_bA: Downloading web creator player API JSON\n",
      "[youtube] JcB8jta7_bA: Downloading m3u8 information\n",
      "[info] JcB8jta7_bA: Downloading subtitles: en-de\n"
     ]
    },
    {
     "name": "stderr",
     "output_type": "stream",
     "text": [
      "WARNING: ffmpeg not found. The downloaded format may not be the best available. Installing ffmpeg is strongly recommended: https://github.com/yt-dlp/yt-dlp#dependencies\n"
     ]
    },
    {
     "name": "stdout",
     "output_type": "stream",
     "text": [
      "[youtube] Extracting URL: https://youtube.com/watch?v=JcB8jta7_bA\n",
      "[youtube] JcB8jta7_bA: Downloading webpage\n",
      "[youtube] JcB8jta7_bA: Downloading ios player API JSON\n",
      "[youtube] JcB8jta7_bA: Downloading web creator player API JSON\n",
      "[youtube] JcB8jta7_bA: Downloading m3u8 information\n",
      "[info] JcB8jta7_bA: Downloading subtitles: de\n"
     ]
    },
    {
     "name": "stderr",
     "output_type": "stream",
     "text": [
      "WARNING: ffmpeg not found. The downloaded format may not be the best available. Installing ffmpeg is strongly recommended: https://github.com/yt-dlp/yt-dlp#dependencies\n"
     ]
    },
    {
     "name": "stdout",
     "output_type": "stream",
     "text": [
      "[info] JcB8jta7_bA: Downloading 1 format(s): 18\n",
      "[info] Writing video subtitles to: data\\de_DW\\Wie Juden aus Israel nach Ungarn fliehen  Fokus Europa.de.vtt\n",
      "[download] Destination: data\\de_DW\\Wie Juden aus Israel nach Ungarn fliehen  Fokus Europa.de.vtt\n",
      "[download] 100% of    7.22KiB in 00:00:00 at 85.09KiB/s\n",
      "[youtube] Extracting URL: https://youtube.com/watch?v=vWAJx1wOW6Q\n",
      "[youtube] vWAJx1wOW6Q: Downloading webpage\n",
      "[youtube] vWAJx1wOW6Q: Downloading ios player API JSON\n",
      "[youtube] vWAJx1wOW6Q: Downloading web creator player API JSON\n",
      "[youtube] vWAJx1wOW6Q: Downloading m3u8 information\n",
      "[info] vWAJx1wOW6Q: Downloading subtitles: en\n"
     ]
    },
    {
     "name": "stderr",
     "output_type": "stream",
     "text": [
      "WARNING: ffmpeg not found. The downloaded format may not be the best available. Installing ffmpeg is strongly recommended: https://github.com/yt-dlp/yt-dlp#dependencies\n"
     ]
    },
    {
     "name": "stdout",
     "output_type": "stream",
     "text": [
      "[youtube] Extracting URL: https://youtube.com/watch?v=vWAJx1wOW6Q\n",
      "[youtube] vWAJx1wOW6Q: Downloading webpage\n",
      "[youtube] vWAJx1wOW6Q: Downloading ios player API JSON\n",
      "[youtube] vWAJx1wOW6Q: Downloading web creator player API JSON\n",
      "[youtube] vWAJx1wOW6Q: Downloading m3u8 information\n",
      "[info] vWAJx1wOW6Q: Downloading subtitles: de\n"
     ]
    },
    {
     "name": "stderr",
     "output_type": "stream",
     "text": [
      "WARNING: ffmpeg not found. The downloaded format may not be the best available. Installing ffmpeg is strongly recommended: https://github.com/yt-dlp/yt-dlp#dependencies\n"
     ]
    },
    {
     "name": "stdout",
     "output_type": "stream",
     "text": [
      "[info] vWAJx1wOW6Q: Downloading 1 format(s): 18\n",
      "[info] Writing video subtitles to: data\\de_DW\\Israelische Amee Hamas-Geiseln waren zeitweise in Schifa-Klinik  DW Nachrichten.de.vtt\n",
      "[download] Destination: data\\de_DW\\Israelische Amee Hamas-Geiseln waren zeitweise in Schifa-Klinik  DW Nachrichten.de.vtt\n",
      "[download] 100% of   49.07KiB in 00:00:00 at 349.93KiB/s\n",
      "[youtube] Extracting URL: https://youtube.com/watch?v=IAzS7R7sZuQ\n",
      "[youtube] IAzS7R7sZuQ: Downloading webpage\n",
      "[youtube] IAzS7R7sZuQ: Downloading ios player API JSON\n",
      "[youtube] IAzS7R7sZuQ: Downloading web creator player API JSON\n",
      "[youtube] IAzS7R7sZuQ: Downloading m3u8 information\n",
      "[info] IAzS7R7sZuQ: Downloading subtitles: en\n"
     ]
    },
    {
     "name": "stderr",
     "output_type": "stream",
     "text": [
      "WARNING: ffmpeg not found. The downloaded format may not be the best available. Installing ffmpeg is strongly recommended: https://github.com/yt-dlp/yt-dlp#dependencies\n"
     ]
    },
    {
     "name": "stdout",
     "output_type": "stream",
     "text": [
      "[youtube] Extracting URL: https://youtube.com/watch?v=IAzS7R7sZuQ\n",
      "[youtube] IAzS7R7sZuQ: Downloading webpage\n",
      "[youtube] IAzS7R7sZuQ: Downloading ios player API JSON\n",
      "[youtube] IAzS7R7sZuQ: Downloading web creator player API JSON\n",
      "[youtube] IAzS7R7sZuQ: Downloading m3u8 information\n",
      "[info] IAzS7R7sZuQ: Downloading subtitles: de\n"
     ]
    },
    {
     "name": "stderr",
     "output_type": "stream",
     "text": [
      "WARNING: ffmpeg not found. The downloaded format may not be the best available. Installing ffmpeg is strongly recommended: https://github.com/yt-dlp/yt-dlp#dependencies\n"
     ]
    },
    {
     "name": "stdout",
     "output_type": "stream",
     "text": [
      "[info] IAzS7R7sZuQ: Downloading 1 format(s): 18\n",
      "[info] Writing video subtitles to: data\\de_DW\\Baerbock fordert internationale Verantwortung in Gaza  DW Nachrichten.de.vtt\n",
      "[download] Destination: data\\de_DW\\Baerbock fordert internationale Verantwortung in Gaza  DW Nachrichten.de.vtt\n",
      "[download] 100% of  291.23KiB in 00:00:00 at 955.31KiB/s\n",
      "[youtube] Extracting URL: https://youtube.com/watch?v=OIQWehBFzLg\n",
      "[youtube] OIQWehBFzLg: Downloading webpage\n",
      "[youtube] OIQWehBFzLg: Downloading ios player API JSON\n",
      "[youtube] OIQWehBFzLg: Downloading web creator player API JSON\n",
      "[youtube] OIQWehBFzLg: Downloading m3u8 information\n",
      "[info] OIQWehBFzLg: Downloading subtitles: en\n"
     ]
    },
    {
     "name": "stderr",
     "output_type": "stream",
     "text": [
      "WARNING: ffmpeg not found. The downloaded format may not be the best available. Installing ffmpeg is strongly recommended: https://github.com/yt-dlp/yt-dlp#dependencies\n"
     ]
    },
    {
     "name": "stdout",
     "output_type": "stream",
     "text": [
      "[youtube] Extracting URL: https://youtube.com/watch?v=OIQWehBFzLg\n",
      "[youtube] OIQWehBFzLg: Downloading webpage\n",
      "[youtube] OIQWehBFzLg: Downloading ios player API JSON\n",
      "[youtube] OIQWehBFzLg: Downloading web creator player API JSON\n",
      "[youtube] OIQWehBFzLg: Downloading m3u8 information\n",
      "[info] OIQWehBFzLg: Downloading subtitles: de\n"
     ]
    },
    {
     "name": "stderr",
     "output_type": "stream",
     "text": [
      "WARNING: ffmpeg not found. The downloaded format may not be the best available. Installing ffmpeg is strongly recommended: https://github.com/yt-dlp/yt-dlp#dependencies\n"
     ]
    },
    {
     "name": "stdout",
     "output_type": "stream",
     "text": [
      "[info] OIQWehBFzLg: Downloading 1 format(s): 18\n",
      "[info] Writing video subtitles to: data\\de_DW\\Fortschritte bei Verhandlungen über Geiselbefreiung  DW Nachrichten.de.vtt\n",
      "[download] Destination: data\\de_DW\\Fortschritte bei Verhandlungen über Geiselbefreiung  DW Nachrichten.de.vtt\n",
      "[download] 100% of   51.91KiB in 00:00:00 at 414.43KiB/s\n",
      "[youtube] Extracting URL: https://youtube.com/watch?v=bTAbDGuzslU\n",
      "[youtube] bTAbDGuzslU: Downloading webpage\n",
      "[youtube] bTAbDGuzslU: Downloading ios player API JSON\n",
      "[youtube] bTAbDGuzslU: This video is age-restricted; some formats may be missing without authentication. Use --cookies-from-browser or --cookies for the authentication. See  https://github.com/yt-dlp/yt-dlp/wiki/FAQ#how-do-i-pass-cookies-to-yt-dlp  for how to manually pass cookies\n",
      "[youtube] bTAbDGuzslU: Downloading tv embedded player API JSON\n",
      "[youtube] bTAbDGuzslU: Downloading web creator player API JSON\n",
      "[info] bTAbDGuzslU: Downloading subtitles: en\n"
     ]
    },
    {
     "name": "stderr",
     "output_type": "stream",
     "text": [
      "WARNING: ffmpeg not found. The downloaded format may not be the best available. Installing ffmpeg is strongly recommended: https://github.com/yt-dlp/yt-dlp#dependencies\n"
     ]
    },
    {
     "name": "stdout",
     "output_type": "stream",
     "text": [
      "[youtube] Extracting URL: https://youtube.com/watch?v=bTAbDGuzslU\n",
      "[youtube] bTAbDGuzslU: Downloading webpage\n",
      "[youtube] bTAbDGuzslU: Downloading ios player API JSON\n",
      "[youtube] bTAbDGuzslU: This video is age-restricted; some formats may be missing without authentication. Use --cookies-from-browser or --cookies for the authentication. See  https://github.com/yt-dlp/yt-dlp/wiki/FAQ#how-do-i-pass-cookies-to-yt-dlp  for how to manually pass cookies\n",
      "[youtube] bTAbDGuzslU: Downloading tv embedded player API JSON\n",
      "[youtube] bTAbDGuzslU: Downloading web creator player API JSON\n",
      "[info] bTAbDGuzslU: Downloading subtitles: de\n"
     ]
    },
    {
     "name": "stderr",
     "output_type": "stream",
     "text": [
      "WARNING: ffmpeg not found. The downloaded format may not be the best available. Installing ffmpeg is strongly recommended: https://github.com/yt-dlp/yt-dlp#dependencies\n"
     ]
    },
    {
     "name": "stdout",
     "output_type": "stream",
     "text": [
      "[info] bTAbDGuzslU: Downloading 1 format(s): 18\n",
      "[info] Writing video subtitles to: data\\de_DW\\Informationskrieg in Gaza  DW Nachrichten.de.vtt\n",
      "[download] Destination: data\\de_DW\\Informationskrieg in Gaza  DW Nachrichten.de.vtt\n",
      "[download] 100% of   32.71KiB in 00:00:00 at 319.57KiB/s\n",
      "[youtube] Extracting URL: https://youtube.com/watch?v=72mGLlNO3u0\n",
      "[youtube] 72mGLlNO3u0: Downloading webpage\n",
      "[youtube] 72mGLlNO3u0: Downloading ios player API JSON\n",
      "[youtube] 72mGLlNO3u0: Downloading web creator player API JSON\n",
      "[youtube] 72mGLlNO3u0: Downloading m3u8 information\n",
      "[info] 72mGLlNO3u0: Downloading subtitles: en\n"
     ]
    },
    {
     "name": "stderr",
     "output_type": "stream",
     "text": [
      "WARNING: ffmpeg not found. The downloaded format may not be the best available. Installing ffmpeg is strongly recommended: https://github.com/yt-dlp/yt-dlp#dependencies\n"
     ]
    },
    {
     "name": "stdout",
     "output_type": "stream",
     "text": [
      "[youtube] Extracting URL: https://youtube.com/watch?v=72mGLlNO3u0\n",
      "[youtube] 72mGLlNO3u0: Downloading webpage\n",
      "[youtube] 72mGLlNO3u0: Downloading ios player API JSON\n",
      "[youtube] 72mGLlNO3u0: Downloading web creator player API JSON\n",
      "[youtube] 72mGLlNO3u0: Downloading m3u8 information\n",
      "[info] 72mGLlNO3u0: Downloading subtitles: de\n"
     ]
    },
    {
     "name": "stderr",
     "output_type": "stream",
     "text": [
      "WARNING: ffmpeg not found. The downloaded format may not be the best available. Installing ffmpeg is strongly recommended: https://github.com/yt-dlp/yt-dlp#dependencies\n"
     ]
    },
    {
     "name": "stdout",
     "output_type": "stream",
     "text": [
      "[info] 72mGLlNO3u0: Downloading 1 format(s): 18\n",
      "[info] Writing video subtitles to: data\\de_DW\\Israel billigt Deal zur Geiselfreilassung  DW Nachrichten.de.vtt\n",
      "[download] Destination: data\\de_DW\\Israel billigt Deal zur Geiselfreilassung  DW Nachrichten.de.vtt\n",
      "[download] 100% of   56.31KiB in 00:00:00 at 362.72KiB/s\n",
      "[youtube] Extracting URL: https://youtube.com/watch?v=PzpWIQDfrZE\n",
      "[youtube] PzpWIQDfrZE: Downloading webpage\n",
      "[youtube] PzpWIQDfrZE: Downloading ios player API JSON\n",
      "[youtube] PzpWIQDfrZE: Downloading web creator player API JSON\n",
      "[youtube] PzpWIQDfrZE: Downloading m3u8 information\n",
      "[info] PzpWIQDfrZE: Downloading subtitles: en\n"
     ]
    },
    {
     "name": "stderr",
     "output_type": "stream",
     "text": [
      "WARNING: ffmpeg not found. The downloaded format may not be the best available. Installing ffmpeg is strongly recommended: https://github.com/yt-dlp/yt-dlp#dependencies\n"
     ]
    },
    {
     "name": "stdout",
     "output_type": "stream",
     "text": [
      "[youtube] Extracting URL: https://youtube.com/watch?v=PzpWIQDfrZE\n",
      "[youtube] PzpWIQDfrZE: Downloading webpage\n",
      "[youtube] PzpWIQDfrZE: Downloading ios player API JSON\n",
      "[youtube] PzpWIQDfrZE: Downloading web creator player API JSON\n",
      "[youtube] PzpWIQDfrZE: Downloading m3u8 information\n",
      "[info] PzpWIQDfrZE: Downloading subtitles: de\n"
     ]
    },
    {
     "name": "stderr",
     "output_type": "stream",
     "text": [
      "WARNING: ffmpeg not found. The downloaded format may not be the best available. Installing ffmpeg is strongly recommended: https://github.com/yt-dlp/yt-dlp#dependencies\n"
     ]
    },
    {
     "name": "stdout",
     "output_type": "stream",
     "text": [
      "[info] PzpWIQDfrZE: Downloading 1 format(s): 18\n",
      "[info] Writing video subtitles to: data\\de_DW\\Geisel-Vereinbarung Warum Katar ein wichtiger Teil der Verhandlungen war  DW Nachrichten.de.vtt\n",
      "[download] Destination: data\\de_DW\\Geisel-Vereinbarung Warum Katar ein wichtiger Teil der Verhandlungen war  DW Nachrichten.de.vtt\n",
      "[download] 100% of   85.14KiB in 00:00:00 at 587.13KiB/s\n",
      "[youtube] Extracting URL: https://youtube.com/watch?v=DirQUWgFAlM\n",
      "[youtube] DirQUWgFAlM: Downloading webpage\n",
      "[youtube] DirQUWgFAlM: Downloading ios player API JSON\n",
      "[youtube] DirQUWgFAlM: Downloading web creator player API JSON\n",
      "[youtube] DirQUWgFAlM: Downloading m3u8 information\n",
      "[info] DirQUWgFAlM: Downloading subtitles: en\n"
     ]
    },
    {
     "name": "stderr",
     "output_type": "stream",
     "text": [
      "WARNING: ffmpeg not found. The downloaded format may not be the best available. Installing ffmpeg is strongly recommended: https://github.com/yt-dlp/yt-dlp#dependencies\n"
     ]
    },
    {
     "name": "stdout",
     "output_type": "stream",
     "text": [
      "[youtube] Extracting URL: https://youtube.com/watch?v=DirQUWgFAlM\n",
      "[youtube] DirQUWgFAlM: Downloading webpage\n",
      "[youtube] DirQUWgFAlM: Downloading ios player API JSON\n",
      "[youtube] DirQUWgFAlM: Downloading web creator player API JSON\n",
      "[youtube] DirQUWgFAlM: Downloading m3u8 information\n",
      "[info] DirQUWgFAlM: Downloading subtitles: de\n"
     ]
    },
    {
     "name": "stderr",
     "output_type": "stream",
     "text": [
      "WARNING: ffmpeg not found. The downloaded format may not be the best available. Installing ffmpeg is strongly recommended: https://github.com/yt-dlp/yt-dlp#dependencies\n"
     ]
    },
    {
     "name": "stdout",
     "output_type": "stream",
     "text": [
      "[info] DirQUWgFAlM: Downloading 1 format(s): 18\n",
      "[info] Writing video subtitles to: data\\de_DW\\Nach der Freilassung Könnten weitere Feuerpausen folgen  DW Nachrichten.de.vtt\n",
      "[download] Destination: data\\de_DW\\Nach der Freilassung Könnten weitere Feuerpausen folgen  DW Nachrichten.de.vtt\n",
      "[download] 100% of  134.51KiB in 00:00:00 at 655.67KiB/s\n",
      "[youtube] Extracting URL: https://youtube.com/watch?v=6QRhgz4Cac0\n",
      "[youtube] 6QRhgz4Cac0: Downloading webpage\n",
      "[youtube] 6QRhgz4Cac0: Downloading ios player API JSON\n",
      "[youtube] 6QRhgz4Cac0: Downloading web creator player API JSON\n",
      "[youtube] 6QRhgz4Cac0: Downloading m3u8 information\n",
      "[info] 6QRhgz4Cac0: Downloading subtitles: en\n"
     ]
    },
    {
     "name": "stderr",
     "output_type": "stream",
     "text": [
      "WARNING: ffmpeg not found. The downloaded format may not be the best available. Installing ffmpeg is strongly recommended: https://github.com/yt-dlp/yt-dlp#dependencies\n"
     ]
    },
    {
     "name": "stdout",
     "output_type": "stream",
     "text": [
      "[youtube] Extracting URL: https://youtube.com/watch?v=6QRhgz4Cac0\n",
      "[youtube] 6QRhgz4Cac0: Downloading webpage\n",
      "[youtube] 6QRhgz4Cac0: Downloading ios player API JSON\n",
      "[youtube] 6QRhgz4Cac0: Downloading web creator player API JSON\n",
      "[youtube] 6QRhgz4Cac0: Downloading m3u8 information\n",
      "[info] 6QRhgz4Cac0: Downloading subtitles: de\n"
     ]
    },
    {
     "name": "stderr",
     "output_type": "stream",
     "text": [
      "WARNING: ffmpeg not found. The downloaded format may not be the best available. Installing ffmpeg is strongly recommended: https://github.com/yt-dlp/yt-dlp#dependencies\n"
     ]
    },
    {
     "name": "stdout",
     "output_type": "stream",
     "text": [
      "[info] 6QRhgz4Cac0: Downloading 1 format(s): 18\n",
      "[info] Writing video subtitles to: data\\de_DW\\Was sagen die Konfliktparteien zur Verlängerung  DW Nachrichten.de.vtt\n",
      "[download] Destination: data\\de_DW\\Was sagen die Konfliktparteien zur Verlängerung  DW Nachrichten.de.vtt\n",
      "[download] 100% of   50.34KiB in 00:00:00 at 343.45KiB/s\n",
      "[youtube] Extracting URL: https://youtube.com/watch?v=TWeOoDZOrWw\n",
      "[youtube] TWeOoDZOrWw: Downloading webpage\n",
      "[youtube] TWeOoDZOrWw: Downloading ios player API JSON\n",
      "[youtube] TWeOoDZOrWw: Downloading web creator player API JSON\n",
      "[youtube] TWeOoDZOrWw: Downloading m3u8 information\n",
      "[info] TWeOoDZOrWw: Downloading subtitles: en\n"
     ]
    },
    {
     "name": "stderr",
     "output_type": "stream",
     "text": [
      "WARNING: ffmpeg not found. The downloaded format may not be the best available. Installing ffmpeg is strongly recommended: https://github.com/yt-dlp/yt-dlp#dependencies\n"
     ]
    },
    {
     "name": "stdout",
     "output_type": "stream",
     "text": [
      "[youtube] Extracting URL: https://youtube.com/watch?v=TWeOoDZOrWw\n",
      "[youtube] TWeOoDZOrWw: Downloading webpage\n",
      "[youtube] TWeOoDZOrWw: Downloading ios player API JSON\n",
      "[youtube] TWeOoDZOrWw: Downloading web creator player API JSON\n",
      "[youtube] TWeOoDZOrWw: Downloading m3u8 information\n",
      "[info] TWeOoDZOrWw: Downloading subtitles: de\n"
     ]
    },
    {
     "name": "stderr",
     "output_type": "stream",
     "text": [
      "WARNING: ffmpeg not found. The downloaded format may not be the best available. Installing ffmpeg is strongly recommended: https://github.com/yt-dlp/yt-dlp#dependencies\n"
     ]
    },
    {
     "name": "stdout",
     "output_type": "stream",
     "text": [
      "[info] TWeOoDZOrWw: Downloading 1 format(s): 18\n",
      "[info] Writing video subtitles to: data\\de_DW\\Warum nimmt im Westjordanland die Gewalt zu  Nachrichten.de.vtt\n",
      "[download] Destination: data\\de_DW\\Warum nimmt im Westjordanland die Gewalt zu  Nachrichten.de.vtt\n",
      "[download] 100% of   88.12KiB in 00:00:00 at 436.53KiB/s\n",
      "[youtube] Extracting URL: https://youtube.com/watch?v=d7zhChm1U9g\n",
      "[youtube] d7zhChm1U9g: Downloading webpage\n",
      "[youtube] d7zhChm1U9g: Downloading ios player API JSON\n",
      "[youtube] d7zhChm1U9g: Downloading web creator player API JSON\n",
      "[youtube] d7zhChm1U9g: Downloading m3u8 information\n",
      "[info] d7zhChm1U9g: Downloading subtitles: en\n"
     ]
    },
    {
     "name": "stderr",
     "output_type": "stream",
     "text": [
      "WARNING: ffmpeg not found. The downloaded format may not be the best available. Installing ffmpeg is strongly recommended: https://github.com/yt-dlp/yt-dlp#dependencies\n"
     ]
    },
    {
     "name": "stdout",
     "output_type": "stream",
     "text": [
      "[youtube] Extracting URL: https://youtube.com/watch?v=d7zhChm1U9g\n",
      "[youtube] d7zhChm1U9g: Downloading webpage\n",
      "[youtube] d7zhChm1U9g: Downloading ios player API JSON\n",
      "[youtube] d7zhChm1U9g: Downloading web creator player API JSON\n",
      "[youtube] d7zhChm1U9g: Downloading m3u8 information\n",
      "[info] d7zhChm1U9g: Downloading subtitles: de\n"
     ]
    },
    {
     "name": "stderr",
     "output_type": "stream",
     "text": [
      "WARNING: ffmpeg not found. The downloaded format may not be the best available. Installing ffmpeg is strongly recommended: https://github.com/yt-dlp/yt-dlp#dependencies\n"
     ]
    },
    {
     "name": "stdout",
     "output_type": "stream",
     "text": [
      "[info] d7zhChm1U9g: Downloading 1 format(s): 18\n",
      "[info] Writing video subtitles to: data\\de_DW\\Wie internationale Kräfte an einer Verlängerung des Waffenstillstands arbeiten  DW Nachrichten.de.vtt\n",
      "[download] Destination: data\\de_DW\\Wie internationale Kräfte an einer Verlängerung des Waffenstillstands arbeiten  DW Nachrichten.de.vtt\n",
      "[download] 100% of   15.13KiB in 00:00:00 at 114.52KiB/s\n",
      "[youtube] Extracting URL: https://youtube.com/watch?v=5euOyM8p9zI\n",
      "[youtube] 5euOyM8p9zI: Downloading webpage\n",
      "[youtube] 5euOyM8p9zI: Downloading ios player API JSON\n",
      "[youtube] 5euOyM8p9zI: Downloading web creator player API JSON\n",
      "[youtube] 5euOyM8p9zI: Downloading m3u8 information\n",
      "[info] 5euOyM8p9zI: Downloading subtitles: en\n"
     ]
    },
    {
     "name": "stderr",
     "output_type": "stream",
     "text": [
      "WARNING: ffmpeg not found. The downloaded format may not be the best available. Installing ffmpeg is strongly recommended: https://github.com/yt-dlp/yt-dlp#dependencies\n"
     ]
    },
    {
     "name": "stdout",
     "output_type": "stream",
     "text": [
      "[youtube] Extracting URL: https://youtube.com/watch?v=5euOyM8p9zI\n",
      "[youtube] 5euOyM8p9zI: Downloading webpage\n",
      "[youtube] 5euOyM8p9zI: Downloading ios player API JSON\n",
      "[youtube] 5euOyM8p9zI: Downloading web creator player API JSON\n",
      "[youtube] 5euOyM8p9zI: Downloading m3u8 information\n",
      "[info] 5euOyM8p9zI: Downloading subtitles: de\n"
     ]
    },
    {
     "name": "stderr",
     "output_type": "stream",
     "text": [
      "WARNING: ffmpeg not found. The downloaded format may not be the best available. Installing ffmpeg is strongly recommended: https://github.com/yt-dlp/yt-dlp#dependencies\n"
     ]
    },
    {
     "name": "stdout",
     "output_type": "stream",
     "text": [
      "[info] 5euOyM8p9zI: Downloading 1 format(s): 18\n",
      "[info] Writing video subtitles to: data\\de_DW\\Wie gut gerüstet sieht sich die NATO in einer Zeit der Unsicherheit  DW Nachrichten.de.vtt\n",
      "[download] Destination: data\\de_DW\\Wie gut gerüstet sieht sich die NATO in einer Zeit der Unsicherheit  DW Nachrichten.de.vtt\n",
      "[download] 100% of   38.86KiB in 00:00:00 at 383.84KiB/s\n",
      "[youtube] Extracting URL: https://youtube.com/watch?v=dylqaMgj3vM\n",
      "[youtube] dylqaMgj3vM: Downloading webpage\n",
      "[youtube] dylqaMgj3vM: Downloading ios player API JSON\n",
      "[youtube] dylqaMgj3vM: Downloading web creator player API JSON\n",
      "[youtube] dylqaMgj3vM: Downloading m3u8 information\n",
      "[info] dylqaMgj3vM: Downloading subtitles: en\n"
     ]
    },
    {
     "name": "stderr",
     "output_type": "stream",
     "text": [
      "WARNING: ffmpeg not found. The downloaded format may not be the best available. Installing ffmpeg is strongly recommended: https://github.com/yt-dlp/yt-dlp#dependencies\n"
     ]
    },
    {
     "name": "stdout",
     "output_type": "stream",
     "text": [
      "[youtube] Extracting URL: https://youtube.com/watch?v=dylqaMgj3vM\n",
      "[youtube] dylqaMgj3vM: Downloading webpage\n",
      "[youtube] dylqaMgj3vM: Downloading ios player API JSON\n",
      "[youtube] dylqaMgj3vM: Downloading web creator player API JSON\n",
      "[youtube] dylqaMgj3vM: Downloading m3u8 information\n",
      "[info] dylqaMgj3vM: Downloading subtitles: de\n"
     ]
    },
    {
     "name": "stderr",
     "output_type": "stream",
     "text": [
      "WARNING: ffmpeg not found. The downloaded format may not be the best available. Installing ffmpeg is strongly recommended: https://github.com/yt-dlp/yt-dlp#dependencies\n"
     ]
    },
    {
     "name": "stdout",
     "output_type": "stream",
     "text": [
      "[info] dylqaMgj3vM: Downloading 1 format(s): 18\n",
      "[info] Writing video subtitles to: data\\de_DW\\Antisemitismus Das Schweigen der Kulturszene  DW Nachrichten.de.vtt\n",
      "[download] Destination: data\\de_DW\\Antisemitismus Das Schweigen der Kulturszene  DW Nachrichten.de.vtt\n",
      "[download] 100% of  184.17KiB in 00:00:00 at 740.12KiB/s\n",
      "[youtube] Extracting URL: https://youtube.com/watch?v=spaWhWuyvK8\n",
      "[youtube] spaWhWuyvK8: Downloading webpage\n",
      "[youtube] spaWhWuyvK8: Downloading ios player API JSON\n",
      "[youtube] spaWhWuyvK8: Downloading web creator player API JSON\n",
      "[youtube] spaWhWuyvK8: Downloading m3u8 information\n",
      "[info] spaWhWuyvK8: Downloading subtitles: en\n"
     ]
    },
    {
     "name": "stderr",
     "output_type": "stream",
     "text": [
      "WARNING: ffmpeg not found. The downloaded format may not be the best available. Installing ffmpeg is strongly recommended: https://github.com/yt-dlp/yt-dlp#dependencies\n"
     ]
    },
    {
     "name": "stdout",
     "output_type": "stream",
     "text": [
      "[youtube] Extracting URL: https://youtube.com/watch?v=spaWhWuyvK8\n",
      "[youtube] spaWhWuyvK8: Downloading webpage\n",
      "[youtube] spaWhWuyvK8: Downloading ios player API JSON\n",
      "[youtube] spaWhWuyvK8: Downloading web creator player API JSON\n",
      "[youtube] spaWhWuyvK8: Downloading m3u8 information\n",
      "[info] spaWhWuyvK8: Downloading subtitles: de\n"
     ]
    },
    {
     "name": "stderr",
     "output_type": "stream",
     "text": [
      "WARNING: ffmpeg not found. The downloaded format may not be the best available. Installing ffmpeg is strongly recommended: https://github.com/yt-dlp/yt-dlp#dependencies\n"
     ]
    },
    {
     "name": "stdout",
     "output_type": "stream",
     "text": [
      "[info] spaWhWuyvK8: Downloading 1 format(s): 18\n",
      "[info] Writing video subtitles to: data\\de_DW\\IDF Eine mögliche Offensive im Süden Gazas steht bevor  DW Nachrichten.de.vtt\n",
      "[download] Destination: data\\de_DW\\IDF Eine mögliche Offensive im Süden Gazas steht bevor  DW Nachrichten.de.vtt\n",
      "[download] 100% of   49.90KiB in 00:00:00 at 332.35KiB/s\n",
      "[youtube] Extracting URL: https://youtube.com/watch?v=HRxDJVCAO48\n",
      "[youtube] HRxDJVCAO48: Downloading webpage\n",
      "[youtube] HRxDJVCAO48: Downloading ios player API JSON\n",
      "[youtube] HRxDJVCAO48: Downloading web creator player API JSON\n",
      "[youtube] HRxDJVCAO48: Downloading m3u8 information\n",
      "[info] HRxDJVCAO48: Downloading subtitles: en\n"
     ]
    },
    {
     "name": "stderr",
     "output_type": "stream",
     "text": [
      "WARNING: ffmpeg not found. The downloaded format may not be the best available. Installing ffmpeg is strongly recommended: https://github.com/yt-dlp/yt-dlp#dependencies\n"
     ]
    },
    {
     "name": "stdout",
     "output_type": "stream",
     "text": [
      "[youtube] Extracting URL: https://youtube.com/watch?v=HRxDJVCAO48\n",
      "[youtube] HRxDJVCAO48: Downloading webpage\n",
      "[youtube] HRxDJVCAO48: Downloading ios player API JSON\n",
      "[youtube] HRxDJVCAO48: Downloading web creator player API JSON\n",
      "[youtube] HRxDJVCAO48: Downloading m3u8 information\n",
      "[info] HRxDJVCAO48: Downloading subtitles: de\n"
     ]
    },
    {
     "name": "stderr",
     "output_type": "stream",
     "text": [
      "WARNING: ffmpeg not found. The downloaded format may not be the best available. Installing ffmpeg is strongly recommended: https://github.com/yt-dlp/yt-dlp#dependencies\n"
     ]
    },
    {
     "name": "stdout",
     "output_type": "stream",
     "text": [
      "[info] HRxDJVCAO48: Downloading 1 format(s): 18\n",
      "[info] Writing video subtitles to: data\\de_DW\\Drei Tote bei Attentat in Jerusalem  DW Nachrichten.de.vtt\n",
      "[download] Destination: data\\de_DW\\Drei Tote bei Attentat in Jerusalem  DW Nachrichten.de.vtt\n",
      "[download] 100% of   61.69KiB in 00:00:00 at 410.38KiB/s\n",
      "[youtube] Extracting URL: https://youtube.com/watch?v=riMa9mXMRIg\n",
      "[youtube] riMa9mXMRIg: Downloading webpage\n",
      "[youtube] riMa9mXMRIg: Downloading ios player API JSON\n",
      "[youtube] riMa9mXMRIg: Downloading web creator player API JSON\n",
      "[youtube] riMa9mXMRIg: Downloading m3u8 information\n",
      "[info] riMa9mXMRIg: Downloading subtitles: en\n"
     ]
    },
    {
     "name": "stderr",
     "output_type": "stream",
     "text": [
      "WARNING: ffmpeg not found. The downloaded format may not be the best available. Installing ffmpeg is strongly recommended: https://github.com/yt-dlp/yt-dlp#dependencies\n"
     ]
    },
    {
     "name": "stdout",
     "output_type": "stream",
     "text": [
      "[youtube] Extracting URL: https://youtube.com/watch?v=riMa9mXMRIg\n",
      "[youtube] riMa9mXMRIg: Downloading webpage\n",
      "[youtube] riMa9mXMRIg: Downloading ios player API JSON\n",
      "[youtube] riMa9mXMRIg: Downloading web creator player API JSON\n",
      "[youtube] riMa9mXMRIg: Downloading m3u8 information\n",
      "[info] riMa9mXMRIg: Downloading subtitles: de\n"
     ]
    },
    {
     "name": "stderr",
     "output_type": "stream",
     "text": [
      "WARNING: ffmpeg not found. The downloaded format may not be the best available. Installing ffmpeg is strongly recommended: https://github.com/yt-dlp/yt-dlp#dependencies\n"
     ]
    },
    {
     "name": "stdout",
     "output_type": "stream",
     "text": [
      "[info] riMa9mXMRIg: Downloading 1 format(s): 18\n",
      "[info] Writing video subtitles to: data\\de_DW\\Was führte zum Ende des Waffenstillstands zwischen Israel und Hamas  DW Nachrichten.de.vtt\n",
      "[download] Destination: data\\de_DW\\Was führte zum Ende des Waffenstillstands zwischen Israel und Hamas  DW Nachrichten.de.vtt\n",
      "[download] 100% of   60.90KiB in 00:00:00 at 405.53KiB/s\n",
      "[youtube] Extracting URL: https://youtube.com/watch?v=CKVSISu9fVM\n",
      "[youtube] CKVSISu9fVM: Downloading webpage\n",
      "[youtube] CKVSISu9fVM: Downloading ios player API JSON\n",
      "[youtube] CKVSISu9fVM: Downloading web creator player API JSON\n",
      "[youtube] CKVSISu9fVM: Downloading m3u8 information\n",
      "[info] CKVSISu9fVM: Downloading subtitles: en\n"
     ]
    },
    {
     "name": "stderr",
     "output_type": "stream",
     "text": [
      "WARNING: ffmpeg not found. The downloaded format may not be the best available. Installing ffmpeg is strongly recommended: https://github.com/yt-dlp/yt-dlp#dependencies\n"
     ]
    },
    {
     "name": "stdout",
     "output_type": "stream",
     "text": [
      "[youtube] Extracting URL: https://youtube.com/watch?v=CKVSISu9fVM\n",
      "[youtube] CKVSISu9fVM: Downloading webpage\n",
      "[youtube] CKVSISu9fVM: Downloading ios player API JSON\n",
      "[youtube] CKVSISu9fVM: Downloading web creator player API JSON\n",
      "[youtube] CKVSISu9fVM: Downloading m3u8 information\n",
      "[info] CKVSISu9fVM: Downloading subtitles: de\n"
     ]
    },
    {
     "name": "stderr",
     "output_type": "stream",
     "text": [
      "WARNING: ffmpeg not found. The downloaded format may not be the best available. Installing ffmpeg is strongly recommended: https://github.com/yt-dlp/yt-dlp#dependencies\n"
     ]
    },
    {
     "name": "stdout",
     "output_type": "stream",
     "text": [
      "[info] CKVSISu9fVM: Downloading 1 format(s): 18\n",
      "[info] Writing video subtitles to: data\\de_DW\\Vergewaltigung, Misshandlung, Demütigung - Sexualisierte Gewalt in bewaffneten Konflikten.de.vtt\n",
      "[download] Destination: data\\de_DW\\Vergewaltigung, Misshandlung, Demütigung - Sexualisierte Gewalt in bewaffneten Konflikten.de.vtt\n",
      "[download] 100% of  189.51KiB in 00:00:00 at 931.15KiB/s\n",
      "[youtube] Extracting URL: https://youtube.com/watch?v=Vyg2VJPie9k\n",
      "[youtube] Vyg2VJPie9k: Downloading webpage\n",
      "[youtube] Vyg2VJPie9k: Downloading ios player API JSON\n",
      "[youtube] Vyg2VJPie9k: Downloading web creator player API JSON\n",
      "[youtube] Vyg2VJPie9k: Downloading m3u8 information\n",
      "[info] Vyg2VJPie9k: Downloading subtitles: en\n"
     ]
    },
    {
     "name": "stderr",
     "output_type": "stream",
     "text": [
      "WARNING: ffmpeg not found. The downloaded format may not be the best available. Installing ffmpeg is strongly recommended: https://github.com/yt-dlp/yt-dlp#dependencies\n"
     ]
    },
    {
     "name": "stdout",
     "output_type": "stream",
     "text": [
      "[youtube] Extracting URL: https://youtube.com/watch?v=Vyg2VJPie9k\n",
      "[youtube] Vyg2VJPie9k: Downloading webpage\n",
      "[youtube] Vyg2VJPie9k: Downloading ios player API JSON\n",
      "[youtube] Vyg2VJPie9k: Downloading web creator player API JSON\n",
      "[youtube] Vyg2VJPie9k: Downloading m3u8 information\n",
      "[info] Vyg2VJPie9k: Downloading subtitles: de\n"
     ]
    },
    {
     "name": "stderr",
     "output_type": "stream",
     "text": [
      "WARNING: ffmpeg not found. The downloaded format may not be the best available. Installing ffmpeg is strongly recommended: https://github.com/yt-dlp/yt-dlp#dependencies\n"
     ]
    },
    {
     "name": "stdout",
     "output_type": "stream",
     "text": [
      "[info] Vyg2VJPie9k: Downloading 1 format(s): 18\n",
      "[info] Writing video subtitles to: data\\de_DW\\Wer Deutscher werden will, soll sich zum Existenzrecht Israels bekennen  DW Nachrichten.de.vtt\n",
      "[download] Destination: data\\de_DW\\Wer Deutscher werden will, soll sich zum Existenzrecht Israels bekennen  DW Nachrichten.de.vtt\n",
      "[download] 100% of   70.66KiB in 00:00:00 at 163.28KiB/s\n",
      "[youtube] Extracting URL: https://youtube.com/watch?v=4nBrn4kkj0I\n",
      "[youtube] 4nBrn4kkj0I: Downloading webpage\n",
      "[youtube] 4nBrn4kkj0I: Downloading ios player API JSON\n",
      "[youtube] 4nBrn4kkj0I: Downloading web creator player API JSON\n",
      "[youtube] 4nBrn4kkj0I: Downloading m3u8 information\n",
      "[info] 4nBrn4kkj0I: Downloading subtitles: en\n"
     ]
    },
    {
     "name": "stderr",
     "output_type": "stream",
     "text": [
      "WARNING: ffmpeg not found. The downloaded format may not be the best available. Installing ffmpeg is strongly recommended: https://github.com/yt-dlp/yt-dlp#dependencies\n"
     ]
    },
    {
     "name": "stdout",
     "output_type": "stream",
     "text": [
      "[youtube] Extracting URL: https://youtube.com/watch?v=4nBrn4kkj0I\n",
      "[youtube] 4nBrn4kkj0I: Downloading webpage\n",
      "[youtube] 4nBrn4kkj0I: Downloading ios player API JSON\n",
      "[youtube] 4nBrn4kkj0I: Downloading web creator player API JSON\n",
      "[youtube] 4nBrn4kkj0I: Downloading m3u8 information\n",
      "[info] 4nBrn4kkj0I: Downloading subtitles: de\n"
     ]
    },
    {
     "name": "stderr",
     "output_type": "stream",
     "text": [
      "WARNING: ffmpeg not found. The downloaded format may not be the best available. Installing ffmpeg is strongly recommended: https://github.com/yt-dlp/yt-dlp#dependencies\n"
     ]
    },
    {
     "name": "stdout",
     "output_type": "stream",
     "text": [
      "[info] 4nBrn4kkj0I: Downloading 1 format(s): 18\n",
      "[info] Writing video subtitles to: data\\de_DW\\Die Einzigartigkeit deutsch-israelischer Beziehungen  DW Nachrichten.de.vtt\n",
      "[download] Destination: data\\de_DW\\Die Einzigartigkeit deutsch-israelischer Beziehungen  DW Nachrichten.de.vtt\n",
      "[download] 100% of   43.22KiB in 00:00:00 at 324.51KiB/s\n",
      "[youtube] Extracting URL: https://youtube.com/watch?v=YmfwCeeoPt4\n",
      "[youtube] YmfwCeeoPt4: Downloading webpage\n",
      "[youtube] YmfwCeeoPt4: Downloading ios player API JSON\n",
      "[youtube] YmfwCeeoPt4: Downloading web creator player API JSON\n",
      "[youtube] YmfwCeeoPt4: Downloading m3u8 information\n",
      "[info] YmfwCeeoPt4: Downloading subtitles: en\n"
     ]
    },
    {
     "name": "stderr",
     "output_type": "stream",
     "text": [
      "WARNING: ffmpeg not found. The downloaded format may not be the best available. Installing ffmpeg is strongly recommended: https://github.com/yt-dlp/yt-dlp#dependencies\n"
     ]
    },
    {
     "name": "stdout",
     "output_type": "stream",
     "text": [
      "[youtube] Extracting URL: https://youtube.com/watch?v=YmfwCeeoPt4\n",
      "[youtube] YmfwCeeoPt4: Downloading webpage\n",
      "[youtube] YmfwCeeoPt4: Downloading ios player API JSON\n",
      "[youtube] YmfwCeeoPt4: Downloading web creator player API JSON\n",
      "[youtube] YmfwCeeoPt4: Downloading m3u8 information\n",
      "[info] YmfwCeeoPt4: Downloading subtitles: de\n"
     ]
    },
    {
     "name": "stderr",
     "output_type": "stream",
     "text": [
      "WARNING: ffmpeg not found. The downloaded format may not be the best available. Installing ffmpeg is strongly recommended: https://github.com/yt-dlp/yt-dlp#dependencies\n"
     ]
    },
    {
     "name": "stdout",
     "output_type": "stream",
     "text": [
      "[info] YmfwCeeoPt4: Downloading 1 format(s): 18\n",
      "[info] Writing video subtitles to: data\\de_DW\\„Vom Fluss bis zum Meer“ Warum stellen Bundesländer die Parole unter Strafe  DW Nachrichten.de.vtt\n",
      "[download] Destination: data\\de_DW\\„Vom Fluss bis zum Meer“ Warum stellen Bundesländer die Parole unter Strafe  DW Nachrichten.de.vtt\n",
      "[download] 100% of   11.88KiB in 00:00:00 at 129.33KiB/s\n",
      "[youtube] Extracting URL: https://youtube.com/watch?v=hITLQhgsrQw\n",
      "[youtube] hITLQhgsrQw: Downloading webpage\n",
      "[youtube] hITLQhgsrQw: Downloading ios player API JSON\n",
      "[youtube] hITLQhgsrQw: Downloading web creator player API JSON\n",
      "[youtube] hITLQhgsrQw: Downloading m3u8 information\n",
      "[info] hITLQhgsrQw: Downloading subtitles: en\n"
     ]
    },
    {
     "name": "stderr",
     "output_type": "stream",
     "text": [
      "WARNING: ffmpeg not found. The downloaded format may not be the best available. Installing ffmpeg is strongly recommended: https://github.com/yt-dlp/yt-dlp#dependencies\n"
     ]
    },
    {
     "name": "stdout",
     "output_type": "stream",
     "text": [
      "[youtube] Extracting URL: https://youtube.com/watch?v=hITLQhgsrQw\n",
      "[youtube] hITLQhgsrQw: Downloading webpage\n",
      "[youtube] hITLQhgsrQw: Downloading ios player API JSON\n",
      "[youtube] hITLQhgsrQw: Downloading web creator player API JSON\n",
      "[youtube] hITLQhgsrQw: Downloading m3u8 information\n",
      "[info] hITLQhgsrQw: Downloading subtitles: de\n"
     ]
    },
    {
     "name": "stderr",
     "output_type": "stream",
     "text": [
      "WARNING: ffmpeg not found. The downloaded format may not be the best available. Installing ffmpeg is strongly recommended: https://github.com/yt-dlp/yt-dlp#dependencies\n"
     ]
    },
    {
     "name": "stdout",
     "output_type": "stream",
     "text": [
      "[info] hITLQhgsrQw: Downloading 1 format(s): 18\n",
      "[info] Writing video subtitles to: data\\de_DW\\Faktencheck Wie man Desinformation im Nahost-Krieg erkennt  DW Nachrichten.de.vtt\n",
      "[download] Destination: data\\de_DW\\Faktencheck Wie man Desinformation im Nahost-Krieg erkennt  DW Nachrichten.de.vtt\n",
      "[download] 100% of   35.54KiB in 00:00:00 at 393.79KiB/s\n",
      "[youtube] Extracting URL: https://youtube.com/watch?v=sMh6UDOHXY8\n",
      "[youtube] sMh6UDOHXY8: Downloading webpage\n",
      "[youtube] sMh6UDOHXY8: Downloading ios player API JSON\n",
      "[youtube] sMh6UDOHXY8: Downloading web creator player API JSON\n",
      "[youtube] sMh6UDOHXY8: Downloading m3u8 information\n",
      "[info] sMh6UDOHXY8: Downloading subtitles: en\n"
     ]
    },
    {
     "name": "stderr",
     "output_type": "stream",
     "text": [
      "WARNING: ffmpeg not found. The downloaded format may not be the best available. Installing ffmpeg is strongly recommended: https://github.com/yt-dlp/yt-dlp#dependencies\n"
     ]
    },
    {
     "name": "stdout",
     "output_type": "stream",
     "text": [
      "[youtube] Extracting URL: https://youtube.com/watch?v=sMh6UDOHXY8\n",
      "[youtube] sMh6UDOHXY8: Downloading webpage\n",
      "[youtube] sMh6UDOHXY8: Downloading ios player API JSON\n",
      "[youtube] sMh6UDOHXY8: Downloading web creator player API JSON\n",
      "[youtube] sMh6UDOHXY8: Downloading m3u8 information\n",
      "[info] sMh6UDOHXY8: Downloading subtitles: de\n"
     ]
    },
    {
     "name": "stderr",
     "output_type": "stream",
     "text": [
      "WARNING: ffmpeg not found. The downloaded format may not be the best available. Installing ffmpeg is strongly recommended: https://github.com/yt-dlp/yt-dlp#dependencies\n"
     ]
    },
    {
     "name": "stdout",
     "output_type": "stream",
     "text": [
      "[info] sMh6UDOHXY8: Downloading 1 format(s): 18\n",
      "[info] Writing video subtitles to: data\\de_DW\\Gewalt gegen Palästinenser im Westjordanland nimmt zu  DW Nachrichten.de.vtt\n",
      "[download] Destination: data\\de_DW\\Gewalt gegen Palästinenser im Westjordanland nimmt zu  DW Nachrichten.de.vtt\n",
      "[download] 100% of  176.88KiB in 00:00:00 at 955.15KiB/s\n",
      "[youtube] Extracting URL: https://youtube.com/watch?v=8jcuwSLY-Is\n",
      "[youtube] 8jcuwSLY-Is: Downloading webpage\n",
      "[youtube] 8jcuwSLY-Is: Downloading ios player API JSON\n",
      "[youtube] 8jcuwSLY-Is: Downloading web creator player API JSON\n",
      "[youtube] 8jcuwSLY-Is: Downloading m3u8 information\n",
      "[info] 8jcuwSLY-Is: Downloading subtitles: en\n"
     ]
    },
    {
     "name": "stderr",
     "output_type": "stream",
     "text": [
      "WARNING: ffmpeg not found. The downloaded format may not be the best available. Installing ffmpeg is strongly recommended: https://github.com/yt-dlp/yt-dlp#dependencies\n"
     ]
    },
    {
     "name": "stdout",
     "output_type": "stream",
     "text": [
      "[youtube] Extracting URL: https://youtube.com/watch?v=8jcuwSLY-Is\n",
      "[youtube] 8jcuwSLY-Is: Downloading webpage\n",
      "[youtube] 8jcuwSLY-Is: Downloading ios player API JSON\n",
      "[youtube] 8jcuwSLY-Is: Downloading web creator player API JSON\n",
      "[youtube] 8jcuwSLY-Is: Downloading m3u8 information\n",
      "[info] 8jcuwSLY-Is: Downloading subtitles: de\n"
     ]
    },
    {
     "name": "stderr",
     "output_type": "stream",
     "text": [
      "WARNING: ffmpeg not found. The downloaded format may not be the best available. Installing ffmpeg is strongly recommended: https://github.com/yt-dlp/yt-dlp#dependencies\n"
     ]
    },
    {
     "name": "stdout",
     "output_type": "stream",
     "text": [
      "[info] 8jcuwSLY-Is: Downloading 1 format(s): 18\n",
      "[info] Writing video subtitles to: data\\de_DW\\Wie eine israelische Mutter um die Freilassung ihres verschleppten Sohnes kämpft  DW Nachrichten.de.vtt\n",
      "[download] Destination: data\\de_DW\\Wie eine israelische Mutter um die Freilassung ihres verschleppten Sohnes kämpft  DW Nachrichten.de.vtt\n",
      "[download] 100% of   29.78KiB in 00:00:00 at 344.65KiB/s\n",
      "[youtube] Extracting URL: https://youtube.com/watch?v=yNglkIbG-vY\n",
      "[youtube] yNglkIbG-vY: Downloading webpage\n",
      "[youtube] yNglkIbG-vY: Downloading ios player API JSON\n",
      "[youtube] yNglkIbG-vY: Downloading web creator player API JSON\n",
      "[youtube] yNglkIbG-vY: Downloading m3u8 information\n",
      "[info] yNglkIbG-vY: Downloading subtitles: en\n"
     ]
    },
    {
     "name": "stderr",
     "output_type": "stream",
     "text": [
      "WARNING: ffmpeg not found. The downloaded format may not be the best available. Installing ffmpeg is strongly recommended: https://github.com/yt-dlp/yt-dlp#dependencies\n"
     ]
    },
    {
     "name": "stdout",
     "output_type": "stream",
     "text": [
      "[youtube] Extracting URL: https://youtube.com/watch?v=yNglkIbG-vY\n",
      "[youtube] yNglkIbG-vY: Downloading webpage\n",
      "[youtube] yNglkIbG-vY: Downloading ios player API JSON\n",
      "[youtube] yNglkIbG-vY: Downloading web creator player API JSON\n",
      "[youtube] yNglkIbG-vY: Downloading m3u8 information\n",
      "[info] yNglkIbG-vY: Downloading subtitles: de\n"
     ]
    },
    {
     "name": "stderr",
     "output_type": "stream",
     "text": [
      "WARNING: ffmpeg not found. The downloaded format may not be the best available. Installing ffmpeg is strongly recommended: https://github.com/yt-dlp/yt-dlp#dependencies\n"
     ]
    },
    {
     "name": "stdout",
     "output_type": "stream",
     "text": [
      "[info] yNglkIbG-vY: Downloading 1 format(s): 18\n",
      "[info] Writing video subtitles to: data\\de_DW\\Wie die Huthi-Miliz im Jemen Preise in Europa hochtreiben  DW Nachrichten.de.vtt\n",
      "[download] Destination: data\\de_DW\\Wie die Huthi-Miliz im Jemen Preise in Europa hochtreiben  DW Nachrichten.de.vtt\n",
      "[download] 100% of    7.07KiB in 00:00:00 at 71.18KiB/s\n",
      "[youtube] Extracting URL: https://youtube.com/watch?v=8u3yQuG2ob8\n",
      "[youtube] 8u3yQuG2ob8: Downloading webpage\n",
      "[youtube] 8u3yQuG2ob8: Downloading ios player API JSON\n",
      "[youtube] 8u3yQuG2ob8: Downloading web creator player API JSON\n",
      "[youtube] 8u3yQuG2ob8: Downloading m3u8 information\n",
      "[info] 8u3yQuG2ob8: Downloading subtitles: en\n"
     ]
    },
    {
     "name": "stderr",
     "output_type": "stream",
     "text": [
      "WARNING: ffmpeg not found. The downloaded format may not be the best available. Installing ffmpeg is strongly recommended: https://github.com/yt-dlp/yt-dlp#dependencies\n"
     ]
    },
    {
     "name": "stdout",
     "output_type": "stream",
     "text": [
      "[youtube] Extracting URL: https://youtube.com/watch?v=8u3yQuG2ob8\n",
      "[youtube] 8u3yQuG2ob8: Downloading webpage\n",
      "[youtube] 8u3yQuG2ob8: Downloading ios player API JSON\n",
      "[youtube] 8u3yQuG2ob8: Downloading web creator player API JSON\n",
      "[youtube] 8u3yQuG2ob8: Downloading m3u8 information\n",
      "[info] 8u3yQuG2ob8: Downloading subtitles: de\n"
     ]
    },
    {
     "name": "stderr",
     "output_type": "stream",
     "text": [
      "WARNING: ffmpeg not found. The downloaded format may not be the best available. Installing ffmpeg is strongly recommended: https://github.com/yt-dlp/yt-dlp#dependencies\n"
     ]
    },
    {
     "name": "stdout",
     "output_type": "stream",
     "text": [
      "[info] 8u3yQuG2ob8: Downloading 1 format(s): 18\n",
      "[info] Writing video subtitles to: data\\de_DW\\Wie der Iran den Nahen Osten anzündet  DW Nachrichten.de.vtt\n",
      "[download] Destination: data\\de_DW\\Wie der Iran den Nahen Osten anzündet  DW Nachrichten.de.vtt\n",
      "[download] 100% of  245.95KiB in 00:00:00 at 1.12MiB/s\n",
      "[youtube] Extracting URL: https://youtube.com/watch?v=o9rJge7uPfo\n",
      "[youtube] o9rJge7uPfo: Downloading webpage\n",
      "[youtube] o9rJge7uPfo: Downloading ios player API JSON\n",
      "[youtube] o9rJge7uPfo: Downloading web creator player API JSON\n",
      "[youtube] o9rJge7uPfo: Downloading m3u8 information\n",
      "[info] o9rJge7uPfo: Downloading subtitles: en\n"
     ]
    },
    {
     "name": "stderr",
     "output_type": "stream",
     "text": [
      "WARNING: ffmpeg not found. The downloaded format may not be the best available. Installing ffmpeg is strongly recommended: https://github.com/yt-dlp/yt-dlp#dependencies\n"
     ]
    },
    {
     "name": "stdout",
     "output_type": "stream",
     "text": [
      "[youtube] Extracting URL: https://youtube.com/watch?v=o9rJge7uPfo\n",
      "[youtube] o9rJge7uPfo: Downloading webpage\n",
      "[youtube] o9rJge7uPfo: Downloading ios player API JSON\n",
      "[youtube] o9rJge7uPfo: Downloading web creator player API JSON\n",
      "[youtube] o9rJge7uPfo: Downloading m3u8 information\n",
      "[info] o9rJge7uPfo: Downloading subtitles: de\n"
     ]
    },
    {
     "name": "stderr",
     "output_type": "stream",
     "text": [
      "WARNING: ffmpeg not found. The downloaded format may not be the best available. Installing ffmpeg is strongly recommended: https://github.com/yt-dlp/yt-dlp#dependencies\n"
     ]
    },
    {
     "name": "stdout",
     "output_type": "stream",
     "text": [
      "[info] o9rJge7uPfo: Downloading 1 format(s): 18\n",
      "[info] Writing video subtitles to: data\\de_DW\\Libanon Wie geht es den Menschen unter der Hisbollah  DW Deutsch.de.vtt\n",
      "[download] Destination: data\\de_DW\\Libanon Wie geht es den Menschen unter der Hisbollah  DW Deutsch.de.vtt\n",
      "[download] 100% of   28.62KiB in 00:00:00 at 322.90KiB/s\n",
      "[youtube] Extracting URL: https://youtube.com/watch?v=-FfAJ57IPBE\n",
      "[youtube] -FfAJ57IPBE: Downloading webpage\n",
      "[youtube] -FfAJ57IPBE: Downloading ios player API JSON\n",
      "[youtube] -FfAJ57IPBE: Downloading web creator player API JSON\n",
      "[youtube] -FfAJ57IPBE: Downloading m3u8 information\n",
      "[info] -FfAJ57IPBE: Downloading subtitles: en\n"
     ]
    },
    {
     "name": "stderr",
     "output_type": "stream",
     "text": [
      "WARNING: ffmpeg not found. The downloaded format may not be the best available. Installing ffmpeg is strongly recommended: https://github.com/yt-dlp/yt-dlp#dependencies\n"
     ]
    },
    {
     "name": "stdout",
     "output_type": "stream",
     "text": [
      "[youtube] Extracting URL: https://youtube.com/watch?v=-FfAJ57IPBE\n",
      "[youtube] -FfAJ57IPBE: Downloading webpage\n",
      "[youtube] -FfAJ57IPBE: Downloading ios player API JSON\n",
      "[youtube] -FfAJ57IPBE: Downloading web creator player API JSON\n",
      "[youtube] -FfAJ57IPBE: Downloading m3u8 information\n",
      "[info] -FfAJ57IPBE: Downloading subtitles: de\n"
     ]
    },
    {
     "name": "stderr",
     "output_type": "stream",
     "text": [
      "WARNING: ffmpeg not found. The downloaded format may not be the best available. Installing ffmpeg is strongly recommended: https://github.com/yt-dlp/yt-dlp#dependencies\n"
     ]
    },
    {
     "name": "stdout",
     "output_type": "stream",
     "text": [
      "[info] -FfAJ57IPBE: Downloading 1 format(s): 18\n",
      "[info] Writing video subtitles to: data\\de_DW\\Das Freiheitstheater von Dschenin  DW Nachrichten.de.vtt\n",
      "[download] Destination: data\\de_DW\\Das Freiheitstheater von Dschenin  DW Nachrichten.de.vtt\n",
      "[download] 100% of   23.76KiB in 00:00:00 at 257.70KiB/s\n",
      "[youtube] Extracting URL: https://youtube.com/watch?v=qO0fBg4Dfg4\n",
      "[youtube] qO0fBg4Dfg4: Downloading webpage\n",
      "[youtube] qO0fBg4Dfg4: Downloading ios player API JSON\n",
      "[youtube] qO0fBg4Dfg4: Downloading web creator player API JSON\n",
      "[youtube] qO0fBg4Dfg4: Downloading m3u8 information\n",
      "[info] qO0fBg4Dfg4: Downloading subtitles: en\n"
     ]
    },
    {
     "name": "stderr",
     "output_type": "stream",
     "text": [
      "WARNING: ffmpeg not found. The downloaded format may not be the best available. Installing ffmpeg is strongly recommended: https://github.com/yt-dlp/yt-dlp#dependencies\n"
     ]
    },
    {
     "name": "stdout",
     "output_type": "stream",
     "text": [
      "[youtube] Extracting URL: https://youtube.com/watch?v=qO0fBg4Dfg4\n",
      "[youtube] qO0fBg4Dfg4: Downloading webpage\n",
      "[youtube] qO0fBg4Dfg4: Downloading ios player API JSON\n",
      "[youtube] qO0fBg4Dfg4: Downloading web creator player API JSON\n",
      "[youtube] qO0fBg4Dfg4: Downloading m3u8 information\n",
      "[info] qO0fBg4Dfg4: Downloading subtitles: de\n"
     ]
    },
    {
     "name": "stderr",
     "output_type": "stream",
     "text": [
      "WARNING: ffmpeg not found. The downloaded format may not be the best available. Installing ffmpeg is strongly recommended: https://github.com/yt-dlp/yt-dlp#dependencies\n"
     ]
    },
    {
     "name": "stdout",
     "output_type": "stream",
     "text": [
      "[info] qO0fBg4Dfg4: Downloading 1 format(s): 18\n",
      "[info] Writing video subtitles to: data\\de_DW\\IGH beginnt Anhörung zur Besetzung der Palästinensergebiete  DW Nachrichten.de.vtt\n",
      "[download] Destination: data\\de_DW\\IGH beginnt Anhörung zur Besetzung der Palästinensergebiete  DW Nachrichten.de.vtt\n",
      "[download] 100% of   12.65KiB in 00:00:00 at 135.79KiB/s\n",
      "[youtube] Extracting URL: https://youtube.com/watch?v=xkNIb6SjfWg\n",
      "[youtube] xkNIb6SjfWg: Downloading webpage\n",
      "[youtube] xkNIb6SjfWg: Downloading ios player API JSON\n",
      "[youtube] xkNIb6SjfWg: Downloading web creator player API JSON\n",
      "[youtube] xkNIb6SjfWg: Downloading m3u8 information\n",
      "[info] xkNIb6SjfWg: Downloading subtitles: en\n"
     ]
    },
    {
     "name": "stderr",
     "output_type": "stream",
     "text": [
      "WARNING: ffmpeg not found. The downloaded format may not be the best available. Installing ffmpeg is strongly recommended: https://github.com/yt-dlp/yt-dlp#dependencies\n"
     ]
    },
    {
     "name": "stdout",
     "output_type": "stream",
     "text": [
      "[youtube] Extracting URL: https://youtube.com/watch?v=xkNIb6SjfWg\n",
      "[youtube] xkNIb6SjfWg: Downloading webpage\n",
      "[youtube] xkNIb6SjfWg: Downloading ios player API JSON\n",
      "[youtube] xkNIb6SjfWg: Downloading web creator player API JSON\n",
      "[youtube] xkNIb6SjfWg: Downloading m3u8 information\n",
      "[info] xkNIb6SjfWg: Downloading subtitles: de\n"
     ]
    },
    {
     "name": "stderr",
     "output_type": "stream",
     "text": [
      "WARNING: ffmpeg not found. The downloaded format may not be the best available. Installing ffmpeg is strongly recommended: https://github.com/yt-dlp/yt-dlp#dependencies\n"
     ]
    },
    {
     "name": "stdout",
     "output_type": "stream",
     "text": [
      "[info] xkNIb6SjfWg: Downloading 1 format(s): 18\n",
      "[info] Writing video subtitles to: data\\de_DW\\Sderot, Grenzort zum Gazastreifen, ist angeblich wieder sicher  DW Nachrichten.de.vtt\n",
      "[download] Destination: data\\de_DW\\Sderot, Grenzort zum Gazastreifen, ist angeblich wieder sicher  DW Nachrichten.de.vtt\n",
      "[download] 100% of   18.80KiB in 00:00:00 at 218.40KiB/s\n",
      "[youtube] Extracting URL: https://youtube.com/watch?v=ngap487oBIE\n",
      "[youtube] ngap487oBIE: Downloading webpage\n",
      "[youtube] ngap487oBIE: Downloading ios player API JSON\n",
      "[youtube] ngap487oBIE: Downloading web creator player API JSON\n",
      "[youtube] ngap487oBIE: Downloading m3u8 information\n",
      "[info] ngap487oBIE: Downloading subtitles: en\n"
     ]
    },
    {
     "name": "stderr",
     "output_type": "stream",
     "text": [
      "WARNING: ffmpeg not found. The downloaded format may not be the best available. Installing ffmpeg is strongly recommended: https://github.com/yt-dlp/yt-dlp#dependencies\n"
     ]
    },
    {
     "name": "stdout",
     "output_type": "stream",
     "text": [
      "[youtube] Extracting URL: https://youtube.com/watch?v=ngap487oBIE\n",
      "[youtube] ngap487oBIE: Downloading webpage\n",
      "[youtube] ngap487oBIE: Downloading ios player API JSON\n",
      "[youtube] ngap487oBIE: Downloading web creator player API JSON\n",
      "[youtube] ngap487oBIE: Downloading m3u8 information\n",
      "[info] ngap487oBIE: Downloading subtitles: de\n"
     ]
    },
    {
     "name": "stderr",
     "output_type": "stream",
     "text": [
      "WARNING: ffmpeg not found. The downloaded format may not be the best available. Installing ffmpeg is strongly recommended: https://github.com/yt-dlp/yt-dlp#dependencies\n"
     ]
    },
    {
     "name": "stdout",
     "output_type": "stream",
     "text": [
      "[info] ngap487oBIE: Downloading 1 format(s): 18\n",
      "[info] Writing video subtitles to: data\\de_DW\\Wenn humanitäre Hilfe für Gaza blockiert wird  DW Nachrichten.de.vtt\n",
      "[download] Destination: data\\de_DW\\Wenn humanitäre Hilfe für Gaza blockiert wird  DW Nachrichten.de.vtt\n",
      "[download] 100% of   22.92KiB in 00:00:00 at 243.13KiB/s\n",
      "[youtube] Extracting URL: https://youtube.com/watch?v=_uZYvj3m_dw\n",
      "[youtube] _uZYvj3m_dw: Downloading webpage\n",
      "[youtube] _uZYvj3m_dw: Downloading ios player API JSON\n",
      "[youtube] _uZYvj3m_dw: Downloading web creator player API JSON\n",
      "[youtube] _uZYvj3m_dw: Downloading m3u8 information\n",
      "[info] _uZYvj3m_dw: Downloading subtitles: en\n"
     ]
    },
    {
     "name": "stderr",
     "output_type": "stream",
     "text": [
      "WARNING: ffmpeg not found. The downloaded format may not be the best available. Installing ffmpeg is strongly recommended: https://github.com/yt-dlp/yt-dlp#dependencies\n"
     ]
    },
    {
     "name": "stdout",
     "output_type": "stream",
     "text": [
      "[youtube] Extracting URL: https://youtube.com/watch?v=_uZYvj3m_dw\n",
      "[youtube] _uZYvj3m_dw: Downloading webpage\n",
      "[youtube] _uZYvj3m_dw: Downloading ios player API JSON\n",
      "[youtube] _uZYvj3m_dw: Downloading web creator player API JSON\n",
      "[youtube] _uZYvj3m_dw: Downloading m3u8 information\n",
      "[info] _uZYvj3m_dw: Downloading subtitles: de\n"
     ]
    },
    {
     "name": "stderr",
     "output_type": "stream",
     "text": [
      "WARNING: ffmpeg not found. The downloaded format may not be the best available. Installing ffmpeg is strongly recommended: https://github.com/yt-dlp/yt-dlp#dependencies\n"
     ]
    },
    {
     "name": "stdout",
     "output_type": "stream",
     "text": [
      "[info] _uZYvj3m_dw: Downloading 1 format(s): 18\n",
      "[info] Writing video subtitles to: data\\de_DW\\Mehr als eine Million Menschen im Gazastreifen von Hungersnot bedroht  DW Nachrichten.de.vtt\n",
      "[download] Destination: data\\de_DW\\Mehr als eine Million Menschen im Gazastreifen von Hungersnot bedroht  DW Nachrichten.de.vtt\n",
      "[download] 100% of   14.49KiB in 00:00:00 at 192.41KiB/s\n",
      "[youtube] Extracting URL: https://youtube.com/watch?v=0ZvjeODbRSw\n",
      "[youtube] 0ZvjeODbRSw: Downloading webpage\n",
      "[youtube] 0ZvjeODbRSw: Downloading ios player API JSON\n",
      "[youtube] 0ZvjeODbRSw: Downloading web creator player API JSON\n",
      "[youtube] 0ZvjeODbRSw: Downloading m3u8 information\n",
      "[info] 0ZvjeODbRSw: Downloading subtitles: en\n"
     ]
    },
    {
     "name": "stderr",
     "output_type": "stream",
     "text": [
      "WARNING: ffmpeg not found. The downloaded format may not be the best available. Installing ffmpeg is strongly recommended: https://github.com/yt-dlp/yt-dlp#dependencies\n"
     ]
    },
    {
     "name": "stdout",
     "output_type": "stream",
     "text": [
      "[youtube] Extracting URL: https://youtube.com/watch?v=0ZvjeODbRSw\n",
      "[youtube] 0ZvjeODbRSw: Downloading webpage\n",
      "[youtube] 0ZvjeODbRSw: Downloading ios player API JSON\n",
      "[youtube] 0ZvjeODbRSw: Downloading web creator player API JSON\n",
      "[youtube] 0ZvjeODbRSw: Downloading m3u8 information\n",
      "[info] 0ZvjeODbRSw: Downloading subtitles: de\n"
     ]
    },
    {
     "name": "stderr",
     "output_type": "stream",
     "text": [
      "WARNING: ffmpeg not found. The downloaded format may not be the best available. Installing ffmpeg is strongly recommended: https://github.com/yt-dlp/yt-dlp#dependencies\n"
     ]
    },
    {
     "name": "stdout",
     "output_type": "stream",
     "text": [
      "[info] 0ZvjeODbRSw: Downloading 1 format(s): 18\n",
      "[info] Writing video subtitles to: data\\de_DW\\Auch der Süden von Gaza ist nicht mehr sicher  DW Nachrichten.de.vtt\n",
      "[download] Destination: data\\de_DW\\Auch der Süden von Gaza ist nicht mehr sicher  DW Nachrichten.de.vtt\n",
      "[download] 100% of   21.48KiB in 00:00:00 at 214.46KiB/s\n",
      "[youtube] Extracting URL: https://youtube.com/watch?v=eZcXxmdxEU0\n",
      "[youtube] eZcXxmdxEU0: Downloading webpage\n",
      "[youtube] eZcXxmdxEU0: Downloading ios player API JSON\n",
      "[youtube] eZcXxmdxEU0: Downloading web creator player API JSON\n",
      "[youtube] eZcXxmdxEU0: Downloading m3u8 information\n",
      "[info] eZcXxmdxEU0: Downloading subtitles: en\n"
     ]
    },
    {
     "name": "stderr",
     "output_type": "stream",
     "text": [
      "WARNING: ffmpeg not found. The downloaded format may not be the best available. Installing ffmpeg is strongly recommended: https://github.com/yt-dlp/yt-dlp#dependencies\n"
     ]
    },
    {
     "name": "stdout",
     "output_type": "stream",
     "text": [
      "[youtube] Extracting URL: https://youtube.com/watch?v=eZcXxmdxEU0\n",
      "[youtube] eZcXxmdxEU0: Downloading webpage\n",
      "[youtube] eZcXxmdxEU0: Downloading ios player API JSON\n",
      "[youtube] eZcXxmdxEU0: Downloading web creator player API JSON\n",
      "[youtube] eZcXxmdxEU0: Downloading m3u8 information\n",
      "[info] eZcXxmdxEU0: Downloading subtitles: de\n"
     ]
    },
    {
     "name": "stderr",
     "output_type": "stream",
     "text": [
      "WARNING: ffmpeg not found. The downloaded format may not be the best available. Installing ffmpeg is strongly recommended: https://github.com/yt-dlp/yt-dlp#dependencies\n"
     ]
    },
    {
     "name": "stdout",
     "output_type": "stream",
     "text": [
      "[info] eZcXxmdxEU0: Downloading 1 format(s): 18\n",
      "[info] Writing video subtitles to: data\\de_DW\\Deutsch-französische Besatzung fliegt Hilfe zu den Menschen in den Gazastreifen  DW Nachrichten.de.vtt\n",
      "[download] Destination: data\\de_DW\\Deutsch-französische Besatzung fliegt Hilfe zu den Menschen in den Gazastreifen  DW Nachrichten.de.vtt\n",
      "[download] 100% of   21.54KiB in 00:00:00 at 235.97KiB/s\n",
      "[youtube] Extracting URL: https://youtube.com/watch?v=uwwhKKSlJho\n",
      "[youtube] uwwhKKSlJho: Downloading webpage\n",
      "[youtube] uwwhKKSlJho: Downloading ios player API JSON\n",
      "[youtube] uwwhKKSlJho: Downloading web creator player API JSON\n",
      "[youtube] uwwhKKSlJho: Downloading m3u8 information\n",
      "[info] uwwhKKSlJho: Downloading subtitles: en\n"
     ]
    },
    {
     "name": "stderr",
     "output_type": "stream",
     "text": [
      "WARNING: ffmpeg not found. The downloaded format may not be the best available. Installing ffmpeg is strongly recommended: https://github.com/yt-dlp/yt-dlp#dependencies\n"
     ]
    },
    {
     "name": "stdout",
     "output_type": "stream",
     "text": [
      "[youtube] Extracting URL: https://youtube.com/watch?v=uwwhKKSlJho\n",
      "[youtube] uwwhKKSlJho: Downloading webpage\n",
      "[youtube] uwwhKKSlJho: Downloading ios player API JSON\n",
      "[youtube] uwwhKKSlJho: Downloading web creator player API JSON\n",
      "[youtube] uwwhKKSlJho: Downloading m3u8 information\n",
      "[info] uwwhKKSlJho: Downloading subtitles: de\n"
     ]
    },
    {
     "name": "stderr",
     "output_type": "stream",
     "text": [
      "WARNING: ffmpeg not found. The downloaded format may not be the best available. Installing ffmpeg is strongly recommended: https://github.com/yt-dlp/yt-dlp#dependencies\n"
     ]
    },
    {
     "name": "stdout",
     "output_type": "stream",
     "text": [
      "[info] uwwhKKSlJho: Downloading 1 format(s): 18\n",
      "[info] Writing video subtitles to: data\\de_DW\\Nach Israels Luftschlag gegen NGO Hilfslieferungen nach Gaza vorerst gestoppt  DW Nachrichten.de.vtt\n",
      "[download] Destination: data\\de_DW\\Nach Israels Luftschlag gegen NGO Hilfslieferungen nach Gaza vorerst gestoppt  DW Nachrichten.de.vtt\n",
      "[download] 100% of  126.88KiB in 00:00:00 at 773.36KiB/s\n",
      "[youtube] Extracting URL: https://youtube.com/watch?v=JrwLPgxCAbg\n",
      "[youtube] JrwLPgxCAbg: Downloading webpage\n",
      "[youtube] JrwLPgxCAbg: Downloading ios player API JSON\n",
      "[youtube] JrwLPgxCAbg: Downloading web creator player API JSON\n",
      "[youtube] JrwLPgxCAbg: Downloading m3u8 information\n",
      "[info] JrwLPgxCAbg: Downloading subtitles: en\n"
     ]
    },
    {
     "name": "stderr",
     "output_type": "stream",
     "text": [
      "WARNING: ffmpeg not found. The downloaded format may not be the best available. Installing ffmpeg is strongly recommended: https://github.com/yt-dlp/yt-dlp#dependencies\n"
     ]
    },
    {
     "name": "stdout",
     "output_type": "stream",
     "text": [
      "[youtube] Extracting URL: https://youtube.com/watch?v=JrwLPgxCAbg\n",
      "[youtube] JrwLPgxCAbg: Downloading webpage\n",
      "[youtube] JrwLPgxCAbg: Downloading ios player API JSON\n",
      "[youtube] JrwLPgxCAbg: Downloading web creator player API JSON\n",
      "[youtube] JrwLPgxCAbg: Downloading m3u8 information\n",
      "[info] JrwLPgxCAbg: Downloading subtitles: de\n"
     ]
    },
    {
     "name": "stderr",
     "output_type": "stream",
     "text": [
      "WARNING: ffmpeg not found. The downloaded format may not be the best available. Installing ffmpeg is strongly recommended: https://github.com/yt-dlp/yt-dlp#dependencies\n"
     ]
    },
    {
     "name": "stdout",
     "output_type": "stream",
     "text": [
      "[info] JrwLPgxCAbg: Downloading 1 format(s): 18\n",
      "[info] Writing video subtitles to: data\\de_DW\\Scharfe Reaktionen auf iranischen Drohnenangriff auf Israel  DW Nachrichten.de.vtt\n",
      "[download] Destination: data\\de_DW\\Scharfe Reaktionen auf iranischen Drohnenangriff auf Israel  DW Nachrichten.de.vtt\n",
      "[download] 100% of   17.28KiB in 00:00:00 at 149.97KiB/s\n",
      "[youtube] Extracting URL: https://youtube.com/watch?v=odNZ3IX2fQQ\n",
      "[youtube] odNZ3IX2fQQ: Downloading webpage\n",
      "[youtube] odNZ3IX2fQQ: Downloading ios player API JSON\n",
      "[youtube] odNZ3IX2fQQ: Downloading web creator player API JSON\n",
      "[youtube] odNZ3IX2fQQ: Downloading m3u8 information\n",
      "[info] odNZ3IX2fQQ: Downloading subtitles: en\n"
     ]
    },
    {
     "name": "stderr",
     "output_type": "stream",
     "text": [
      "WARNING: ffmpeg not found. The downloaded format may not be the best available. Installing ffmpeg is strongly recommended: https://github.com/yt-dlp/yt-dlp#dependencies\n"
     ]
    },
    {
     "name": "stdout",
     "output_type": "stream",
     "text": [
      "[youtube] Extracting URL: https://youtube.com/watch?v=odNZ3IX2fQQ\n",
      "[youtube] odNZ3IX2fQQ: Downloading webpage\n",
      "[youtube] odNZ3IX2fQQ: Downloading ios player API JSON\n",
      "[youtube] odNZ3IX2fQQ: Downloading web creator player API JSON\n",
      "[youtube] odNZ3IX2fQQ: Downloading m3u8 information\n",
      "[info] odNZ3IX2fQQ: Downloading subtitles: de\n"
     ]
    },
    {
     "name": "stderr",
     "output_type": "stream",
     "text": [
      "WARNING: ffmpeg not found. The downloaded format may not be the best available. Installing ffmpeg is strongly recommended: https://github.com/yt-dlp/yt-dlp#dependencies\n"
     ]
    },
    {
     "name": "stdout",
     "output_type": "stream",
     "text": [
      "[info] odNZ3IX2fQQ: Downloading 1 format(s): 18\n",
      "[info] Writing video subtitles to: data\\de_DW\\FDP-Politiker Semet Iran will Konflikt mit Israel nicht eskalieren lassen  DW Nachrichten.de.vtt\n",
      "[download] Destination: data\\de_DW\\FDP-Politiker Semet Iran will Konflikt mit Israel nicht eskalieren lassen  DW Nachrichten.de.vtt\n",
      "[download] 100% of  113.85KiB in 00:00:00 at 644.99KiB/s\n",
      "[youtube] Extracting URL: https://youtube.com/watch?v=YsTkXcl2uG4\n",
      "[youtube] YsTkXcl2uG4: Downloading webpage\n",
      "[youtube] YsTkXcl2uG4: Downloading ios player API JSON\n",
      "[youtube] YsTkXcl2uG4: Downloading web creator player API JSON\n",
      "[youtube] YsTkXcl2uG4: Downloading m3u8 information\n",
      "[info] YsTkXcl2uG4: Downloading subtitles: en\n"
     ]
    },
    {
     "name": "stderr",
     "output_type": "stream",
     "text": [
      "WARNING: ffmpeg not found. The downloaded format may not be the best available. Installing ffmpeg is strongly recommended: https://github.com/yt-dlp/yt-dlp#dependencies\n"
     ]
    },
    {
     "name": "stdout",
     "output_type": "stream",
     "text": [
      "[youtube] Extracting URL: https://youtube.com/watch?v=YsTkXcl2uG4\n",
      "[youtube] YsTkXcl2uG4: Downloading webpage\n",
      "[youtube] YsTkXcl2uG4: Downloading ios player API JSON\n",
      "[youtube] YsTkXcl2uG4: Downloading web creator player API JSON\n",
      "[youtube] YsTkXcl2uG4: Downloading m3u8 information\n",
      "[info] YsTkXcl2uG4: Downloading subtitles: de\n"
     ]
    },
    {
     "name": "stderr",
     "output_type": "stream",
     "text": [
      "WARNING: ffmpeg not found. The downloaded format may not be the best available. Installing ffmpeg is strongly recommended: https://github.com/yt-dlp/yt-dlp#dependencies\n"
     ]
    },
    {
     "name": "stdout",
     "output_type": "stream",
     "text": [
      "[info] YsTkXcl2uG4: Downloading 1 format(s): 18\n",
      "[info] Writing video subtitles to: data\\de_DW\\Bäckerei in Gaza-Stadt eröffnet zum ersten Mal seit Kriegsbeginn  DW Nachrichten.de.vtt\n",
      "[download] Destination: data\\de_DW\\Bäckerei in Gaza-Stadt eröffnet zum ersten Mal seit Kriegsbeginn  DW Nachrichten.de.vtt\n",
      "[download] 100% of   13.75KiB in 00:00:00 at 143.41KiB/s\n",
      "[youtube] Extracting URL: https://youtube.com/watch?v=BFX0PmQm_XI\n",
      "[youtube] BFX0PmQm_XI: Downloading webpage\n",
      "[youtube] BFX0PmQm_XI: Downloading ios player API JSON\n",
      "[youtube] BFX0PmQm_XI: Downloading web creator player API JSON\n",
      "[youtube] BFX0PmQm_XI: Downloading m3u8 information\n",
      "[info] BFX0PmQm_XI: Downloading subtitles: en\n"
     ]
    },
    {
     "name": "stderr",
     "output_type": "stream",
     "text": [
      "WARNING: ffmpeg not found. The downloaded format may not be the best available. Installing ffmpeg is strongly recommended: https://github.com/yt-dlp/yt-dlp#dependencies\n"
     ]
    },
    {
     "name": "stdout",
     "output_type": "stream",
     "text": [
      "[youtube] Extracting URL: https://youtube.com/watch?v=BFX0PmQm_XI\n",
      "[youtube] BFX0PmQm_XI: Downloading webpage\n",
      "[youtube] BFX0PmQm_XI: Downloading ios player API JSON\n",
      "[youtube] BFX0PmQm_XI: Downloading web creator player API JSON\n",
      "[youtube] BFX0PmQm_XI: Downloading m3u8 information\n",
      "[info] BFX0PmQm_XI: Downloading subtitles: de\n"
     ]
    },
    {
     "name": "stderr",
     "output_type": "stream",
     "text": [
      "WARNING: ffmpeg not found. The downloaded format may not be the best available. Installing ffmpeg is strongly recommended: https://github.com/yt-dlp/yt-dlp#dependencies\n"
     ]
    },
    {
     "name": "stdout",
     "output_type": "stream",
     "text": [
      "[info] BFX0PmQm_XI: Downloading 1 format(s): 18\n",
      "[info] Writing video subtitles to: data\\de_DW\\Angespannte Proteste um den Gaza-Krieg an US-Unis  DW Nachrichten.de.vtt\n",
      "[download] Destination: data\\de_DW\\Angespannte Proteste um den Gaza-Krieg an US-Unis  DW Nachrichten.de.vtt\n",
      "[download] 100% of   13.24KiB in 00:00:00 at 133.11KiB/s\n",
      "[youtube] Extracting URL: https://youtube.com/watch?v=EEvry4JGo88\n",
      "[youtube] EEvry4JGo88: Downloading webpage\n",
      "[youtube] EEvry4JGo88: Downloading ios player API JSON\n",
      "[youtube] EEvry4JGo88: Downloading web creator player API JSON\n",
      "[youtube] EEvry4JGo88: Downloading m3u8 information\n",
      "[info] EEvry4JGo88: Downloading subtitles: en\n"
     ]
    },
    {
     "name": "stderr",
     "output_type": "stream",
     "text": [
      "WARNING: ffmpeg not found. The downloaded format may not be the best available. Installing ffmpeg is strongly recommended: https://github.com/yt-dlp/yt-dlp#dependencies\n"
     ]
    },
    {
     "name": "stdout",
     "output_type": "stream",
     "text": [
      "[youtube] Extracting URL: https://youtube.com/watch?v=EEvry4JGo88\n",
      "[youtube] EEvry4JGo88: Downloading webpage\n",
      "[youtube] EEvry4JGo88: Downloading ios player API JSON\n",
      "[youtube] EEvry4JGo88: Downloading web creator player API JSON\n",
      "[youtube] EEvry4JGo88: Downloading m3u8 information\n",
      "[info] EEvry4JGo88: Downloading subtitles: de\n"
     ]
    },
    {
     "name": "stderr",
     "output_type": "stream",
     "text": [
      "WARNING: ffmpeg not found. The downloaded format may not be the best available. Installing ffmpeg is strongly recommended: https://github.com/yt-dlp/yt-dlp#dependencies\n"
     ]
    },
    {
     "name": "stdout",
     "output_type": "stream",
     "text": [
      "[info] EEvry4JGo88: Downloading 1 format(s): 18\n",
      "[info] Writing video subtitles to: data\\de_DW\\USA Pro-palästinensische Proteste an Unis weiten sich aus  DW Nachrichten.de.vtt\n",
      "[download] Destination: data\\de_DW\\USA Pro-palästinensische Proteste an Unis weiten sich aus  DW Nachrichten.de.vtt\n",
      "[download] 100% of   16.65KiB in 00:00:00 at 174.64KiB/s\n",
      "[youtube] Extracting URL: https://youtube.com/watch?v=yX22Y0BhScU\n",
      "[youtube] yX22Y0BhScU: Downloading webpage\n",
      "[youtube] yX22Y0BhScU: Downloading ios player API JSON\n",
      "[youtube] yX22Y0BhScU: Downloading web creator player API JSON\n",
      "[youtube] yX22Y0BhScU: Downloading m3u8 information\n",
      "[info] yX22Y0BhScU: Downloading subtitles: en\n"
     ]
    },
    {
     "name": "stderr",
     "output_type": "stream",
     "text": [
      "WARNING: ffmpeg not found. The downloaded format may not be the best available. Installing ffmpeg is strongly recommended: https://github.com/yt-dlp/yt-dlp#dependencies\n"
     ]
    },
    {
     "name": "stdout",
     "output_type": "stream",
     "text": [
      "[youtube] Extracting URL: https://youtube.com/watch?v=yX22Y0BhScU\n",
      "[youtube] yX22Y0BhScU: Downloading webpage\n",
      "[youtube] yX22Y0BhScU: Downloading ios player API JSON\n",
      "[youtube] yX22Y0BhScU: Downloading web creator player API JSON\n",
      "[youtube] yX22Y0BhScU: Downloading m3u8 information\n",
      "[info] yX22Y0BhScU: Downloading subtitles: de\n"
     ]
    },
    {
     "name": "stderr",
     "output_type": "stream",
     "text": [
      "WARNING: ffmpeg not found. The downloaded format may not be the best available. Installing ffmpeg is strongly recommended: https://github.com/yt-dlp/yt-dlp#dependencies\n"
     ]
    },
    {
     "name": "stdout",
     "output_type": "stream",
     "text": [
      "[info] yX22Y0BhScU: Downloading 1 format(s): 18\n",
      "[info] Writing video subtitles to: data\\de_DW\\Studentenproteste Wann wird aus pro-palästinensischem Aktivismus Antisemitismus  DW Nachrichten.de.vtt\n",
      "[download] Destination: data\\de_DW\\Studentenproteste Wann wird aus pro-palästinensischem Aktivismus Antisemitismus  DW Nachrichten.de.vtt\n",
      "[download] 100% of  110.19KiB in 00:00:00 at 570.25KiB/s\n",
      "[youtube] Extracting URL: https://youtube.com/watch?v=0-8JNuFsZ34\n",
      "[youtube] 0-8JNuFsZ34: Downloading webpage\n",
      "[youtube] 0-8JNuFsZ34: Downloading ios player API JSON\n",
      "[youtube] 0-8JNuFsZ34: Downloading web creator player API JSON\n",
      "[youtube] 0-8JNuFsZ34: Downloading m3u8 information\n",
      "[info] 0-8JNuFsZ34: Downloading subtitles: en\n"
     ]
    },
    {
     "name": "stderr",
     "output_type": "stream",
     "text": [
      "WARNING: ffmpeg not found. The downloaded format may not be the best available. Installing ffmpeg is strongly recommended: https://github.com/yt-dlp/yt-dlp#dependencies\n"
     ]
    },
    {
     "name": "stdout",
     "output_type": "stream",
     "text": [
      "[youtube] Extracting URL: https://youtube.com/watch?v=0-8JNuFsZ34\n",
      "[youtube] 0-8JNuFsZ34: Downloading webpage\n",
      "[youtube] 0-8JNuFsZ34: Downloading ios player API JSON\n",
      "[youtube] 0-8JNuFsZ34: Downloading web creator player API JSON\n",
      "[youtube] 0-8JNuFsZ34: Downloading m3u8 information\n",
      "[info] 0-8JNuFsZ34: Downloading subtitles: de\n"
     ]
    },
    {
     "name": "stderr",
     "output_type": "stream",
     "text": [
      "WARNING: ffmpeg not found. The downloaded format may not be the best available. Installing ffmpeg is strongly recommended: https://github.com/yt-dlp/yt-dlp#dependencies\n"
     ]
    },
    {
     "name": "stdout",
     "output_type": "stream",
     "text": [
      "[info] 0-8JNuFsZ34: Downloading 1 format(s): 18\n",
      "[info] Writing video subtitles to: data\\de_DW\\Haft­be­fehle gegen Net­anyahu und Hamas-Führer bean­tragt  DW Nachrichten.de.vtt\n",
      "[download] Destination: data\\de_DW\\Haft­be­fehle gegen Net­anyahu und Hamas-Führer bean­tragt  DW Nachrichten.de.vtt\n",
      "[download] 100% of   36.63KiB in 00:00:00 at 235.24KiB/s\n",
      "[youtube] Extracting URL: https://youtube.com/watch?v=Ia7NYrfviEw\n",
      "[youtube] Ia7NYrfviEw: Downloading webpage\n",
      "[youtube] Ia7NYrfviEw: Downloading ios player API JSON\n",
      "[youtube] Ia7NYrfviEw: Downloading web creator player API JSON\n",
      "[youtube] Ia7NYrfviEw: Downloading m3u8 information\n",
      "[info] Ia7NYrfviEw: Downloading subtitles: en\n"
     ]
    },
    {
     "name": "stderr",
     "output_type": "stream",
     "text": [
      "WARNING: ffmpeg not found. The downloaded format may not be the best available. Installing ffmpeg is strongly recommended: https://github.com/yt-dlp/yt-dlp#dependencies\n"
     ]
    },
    {
     "name": "stdout",
     "output_type": "stream",
     "text": [
      "[youtube] Extracting URL: https://youtube.com/watch?v=Ia7NYrfviEw\n",
      "[youtube] Ia7NYrfviEw: Downloading webpage\n",
      "[youtube] Ia7NYrfviEw: Downloading ios player API JSON\n",
      "[youtube] Ia7NYrfviEw: Downloading web creator player API JSON\n",
      "[youtube] Ia7NYrfviEw: Downloading m3u8 information\n",
      "[info] Ia7NYrfviEw: Downloading subtitles: de\n"
     ]
    },
    {
     "name": "stderr",
     "output_type": "stream",
     "text": [
      "WARNING: ffmpeg not found. The downloaded format may not be the best available. Installing ffmpeg is strongly recommended: https://github.com/yt-dlp/yt-dlp#dependencies\n"
     ]
    },
    {
     "name": "stdout",
     "output_type": "stream",
     "text": [
      "[info] Ia7NYrfviEw: Downloading 1 format(s): 18\n",
      "[info] Writing video subtitles to: data\\de_DW\\Gazastreifen Fast eine halbe Million Menschen leiden unter Hunger  DW Nachrichten.de.vtt\n",
      "[download] Destination: data\\de_DW\\Gazastreifen Fast eine halbe Million Menschen leiden unter Hunger  DW Nachrichten.de.vtt\n",
      "[download] 100% of   18.84KiB in 00:00:00 at 184.48KiB/s\n",
      "[youtube] Extracting URL: https://youtube.com/watch?v=h4aeCBXPEi0\n",
      "[youtube] h4aeCBXPEi0: Downloading webpage\n",
      "[youtube] h4aeCBXPEi0: Downloading ios player API JSON\n",
      "[youtube] h4aeCBXPEi0: Downloading web creator player API JSON\n",
      "[youtube] h4aeCBXPEi0: Downloading m3u8 information\n",
      "[info] h4aeCBXPEi0: Downloading subtitles: en\n"
     ]
    },
    {
     "name": "stderr",
     "output_type": "stream",
     "text": [
      "WARNING: ffmpeg not found. The downloaded format may not be the best available. Installing ffmpeg is strongly recommended: https://github.com/yt-dlp/yt-dlp#dependencies\n"
     ]
    },
    {
     "name": "stdout",
     "output_type": "stream",
     "text": [
      "[youtube] Extracting URL: https://youtube.com/watch?v=h4aeCBXPEi0\n",
      "[youtube] h4aeCBXPEi0: Downloading webpage\n",
      "[youtube] h4aeCBXPEi0: Downloading ios player API JSON\n",
      "[youtube] h4aeCBXPEi0: Downloading web creator player API JSON\n",
      "[youtube] h4aeCBXPEi0: Downloading m3u8 information\n",
      "[info] h4aeCBXPEi0: Downloading subtitles: de\n"
     ]
    },
    {
     "name": "stderr",
     "output_type": "stream",
     "text": [
      "WARNING: ffmpeg not found. The downloaded format may not be the best available. Installing ffmpeg is strongly recommended: https://github.com/yt-dlp/yt-dlp#dependencies\n"
     ]
    },
    {
     "name": "stdout",
     "output_type": "stream",
     "text": [
      "[info] h4aeCBXPEi0: Downloading 1 format(s): 18\n",
      "[info] Writing video subtitles to: data\\de_DW\\Mehr als 90 Tote in Gaza nach israelischem Luftschlag  DW Nachrichten.de.vtt\n",
      "[download] Destination: data\\de_DW\\Mehr als 90 Tote in Gaza nach israelischem Luftschlag  DW Nachrichten.de.vtt\n",
      "[download] 100% of   18.02KiB in 00:00:00 at 189.86KiB/s\n",
      "[youtube] Extracting URL: https://youtube.com/watch?v=L-jCnNiJzSw\n",
      "[youtube] L-jCnNiJzSw: Downloading webpage\n",
      "[youtube] L-jCnNiJzSw: Downloading ios player API JSON\n",
      "[youtube] L-jCnNiJzSw: Downloading web creator player API JSON\n",
      "[youtube] L-jCnNiJzSw: Downloading m3u8 information\n",
      "[info] L-jCnNiJzSw: Downloading subtitles: en\n"
     ]
    },
    {
     "name": "stderr",
     "output_type": "stream",
     "text": [
      "WARNING: ffmpeg not found. The downloaded format may not be the best available. Installing ffmpeg is strongly recommended: https://github.com/yt-dlp/yt-dlp#dependencies\n"
     ]
    },
    {
     "name": "stdout",
     "output_type": "stream",
     "text": [
      "[youtube] Extracting URL: https://youtube.com/watch?v=L-jCnNiJzSw\n",
      "[youtube] L-jCnNiJzSw: Downloading webpage\n",
      "[youtube] L-jCnNiJzSw: Downloading ios player API JSON\n",
      "[youtube] L-jCnNiJzSw: Downloading web creator player API JSON\n",
      "[youtube] L-jCnNiJzSw: Downloading m3u8 information\n",
      "[info] L-jCnNiJzSw: Downloading subtitles: de\n"
     ]
    },
    {
     "name": "stderr",
     "output_type": "stream",
     "text": [
      "WARNING: ffmpeg not found. The downloaded format may not be the best available. Installing ffmpeg is strongly recommended: https://github.com/yt-dlp/yt-dlp#dependencies\n"
     ]
    },
    {
     "name": "stdout",
     "output_type": "stream",
     "text": [
      "[info] L-jCnNiJzSw: Downloading 1 format(s): 18\n",
      "[info] Writing video subtitles to: data\\de_DW\\Angriff auf dem Golan - Sorge vor einem größeren Krieg  DW Nachrichten.de.vtt\n",
      "[download] Destination: data\\de_DW\\Angriff auf dem Golan - Sorge vor einem größeren Krieg  DW Nachrichten.de.vtt\n",
      "[download] 100% of   79.09KiB in 00:00:00 at 597.32KiB/s\n",
      "[youtube] Extracting URL: https://youtube.com/watch?v=rHn0bTWXLt8\n",
      "[youtube] rHn0bTWXLt8: Downloading webpage\n",
      "[youtube] rHn0bTWXLt8: Downloading ios player API JSON\n",
      "[youtube] rHn0bTWXLt8: Downloading web creator player API JSON\n",
      "[youtube] rHn0bTWXLt8: Downloading m3u8 information\n",
      "[info] rHn0bTWXLt8: Downloading subtitles: en\n"
     ]
    },
    {
     "name": "stderr",
     "output_type": "stream",
     "text": [
      "WARNING: ffmpeg not found. The downloaded format may not be the best available. Installing ffmpeg is strongly recommended: https://github.com/yt-dlp/yt-dlp#dependencies\n"
     ]
    },
    {
     "name": "stdout",
     "output_type": "stream",
     "text": [
      "[youtube] Extracting URL: https://youtube.com/watch?v=rHn0bTWXLt8\n",
      "[youtube] rHn0bTWXLt8: Downloading webpage\n",
      "[youtube] rHn0bTWXLt8: Downloading ios player API JSON\n",
      "[youtube] rHn0bTWXLt8: Downloading web creator player API JSON\n",
      "[youtube] rHn0bTWXLt8: Downloading m3u8 information\n",
      "[info] rHn0bTWXLt8: Downloading subtitles: de\n"
     ]
    },
    {
     "name": "stderr",
     "output_type": "stream",
     "text": [
      "WARNING: ffmpeg not found. The downloaded format may not be the best available. Installing ffmpeg is strongly recommended: https://github.com/yt-dlp/yt-dlp#dependencies\n"
     ]
    },
    {
     "name": "stdout",
     "output_type": "stream",
     "text": [
      "[info] rHn0bTWXLt8: Downloading 1 format(s): 18\n",
      "[info] Writing video subtitles to: data\\de_DW\\Droht jetzt der Flächenbrand in Nahost  DW Nachrichten.de.vtt\n",
      "[download] Destination: data\\de_DW\\Droht jetzt der Flächenbrand in Nahost  DW Nachrichten.de.vtt\n",
      "[download] 100% of   99.75KiB in 00:00:00 at 442.35KiB/s\n",
      "[youtube] Extracting URL: https://youtube.com/watch?v=trI-BUO1xWc\n",
      "[youtube] trI-BUO1xWc: Downloading webpage\n",
      "[youtube] trI-BUO1xWc: Downloading ios player API JSON\n",
      "[youtube] trI-BUO1xWc: Downloading web creator player API JSON\n",
      "[youtube] trI-BUO1xWc: Downloading m3u8 information\n",
      "[info] trI-BUO1xWc: Downloading subtitles: en\n"
     ]
    },
    {
     "name": "stderr",
     "output_type": "stream",
     "text": [
      "WARNING: ffmpeg not found. The downloaded format may not be the best available. Installing ffmpeg is strongly recommended: https://github.com/yt-dlp/yt-dlp#dependencies\n"
     ]
    },
    {
     "name": "stdout",
     "output_type": "stream",
     "text": [
      "[youtube] Extracting URL: https://youtube.com/watch?v=trI-BUO1xWc\n",
      "[youtube] trI-BUO1xWc: Downloading webpage\n",
      "[youtube] trI-BUO1xWc: Downloading ios player API JSON\n",
      "[youtube] trI-BUO1xWc: Downloading web creator player API JSON\n",
      "[youtube] trI-BUO1xWc: Downloading m3u8 information\n",
      "[info] trI-BUO1xWc: Downloading subtitles: de\n"
     ]
    },
    {
     "name": "stderr",
     "output_type": "stream",
     "text": [
      "WARNING: ffmpeg not found. The downloaded format may not be the best available. Installing ffmpeg is strongly recommended: https://github.com/yt-dlp/yt-dlp#dependencies\n"
     ]
    },
    {
     "name": "stdout",
     "output_type": "stream",
     "text": [
      "[info] trI-BUO1xWc: Downloading 1 format(s): 18\n",
      "[info] Writing video subtitles to: data\\de_DW\\Kann der große Krieg im Nahen Osten noch verhindert werden  DW Nachrichten.de.vtt\n",
      "[download] Destination: data\\de_DW\\Kann der große Krieg im Nahen Osten noch verhindert werden  DW Nachrichten.de.vtt\n",
      "[download] 100% of  161.94KiB in 00:00:00 at 954.85KiB/s\n",
      "[youtube] Extracting URL: https://youtube.com/watch?v=_YfVW8rBrFw\n",
      "[youtube] _YfVW8rBrFw: Downloading webpage\n",
      "[youtube] _YfVW8rBrFw: Downloading ios player API JSON\n",
      "[youtube] _YfVW8rBrFw: Downloading web creator player API JSON\n",
      "[youtube] _YfVW8rBrFw: Downloading m3u8 information\n",
      "[info] _YfVW8rBrFw: Downloading subtitles: en\n"
     ]
    },
    {
     "name": "stderr",
     "output_type": "stream",
     "text": [
      "WARNING: ffmpeg not found. The downloaded format may not be the best available. Installing ffmpeg is strongly recommended: https://github.com/yt-dlp/yt-dlp#dependencies\n"
     ]
    },
    {
     "name": "stdout",
     "output_type": "stream",
     "text": [
      "[youtube] Extracting URL: https://youtube.com/watch?v=_YfVW8rBrFw\n",
      "[youtube] _YfVW8rBrFw: Downloading webpage\n",
      "[youtube] _YfVW8rBrFw: Downloading ios player API JSON\n",
      "[youtube] _YfVW8rBrFw: Downloading web creator player API JSON\n",
      "[youtube] _YfVW8rBrFw: Downloading m3u8 information\n",
      "[info] _YfVW8rBrFw: Downloading subtitles: de\n"
     ]
    },
    {
     "name": "stderr",
     "output_type": "stream",
     "text": [
      "WARNING: ffmpeg not found. The downloaded format may not be the best available. Installing ffmpeg is strongly recommended: https://github.com/yt-dlp/yt-dlp#dependencies\n"
     ]
    },
    {
     "name": "stdout",
     "output_type": "stream",
     "text": [
      "[info] _YfVW8rBrFw: Downloading 1 format(s): 18\n",
      "[info] Writing video subtitles to: data\\de_DW\\Wie Israel sich vor Raketen aus Iran und Libanon schützt  DW Nachrichten.de.vtt\n",
      "[download] Destination: data\\de_DW\\Wie Israel sich vor Raketen aus Iran und Libanon schützt  DW Nachrichten.de.vtt\n",
      "[download] 100% of   16.26KiB in 00:00:00 at 195.05KiB/s\n",
      "[youtube] Extracting URL: https://youtube.com/watch?v=tlycUK_TS_I\n",
      "[youtube] tlycUK_TS_I: Downloading webpage\n",
      "[youtube] tlycUK_TS_I: Downloading ios player API JSON\n",
      "[youtube] tlycUK_TS_I: This video is age-restricted; some formats may be missing without authentication. Use --cookies-from-browser or --cookies for the authentication. See  https://github.com/yt-dlp/yt-dlp/wiki/FAQ#how-do-i-pass-cookies-to-yt-dlp  for how to manually pass cookies\n",
      "[youtube] tlycUK_TS_I: Downloading tv embedded player API JSON\n",
      "[youtube] tlycUK_TS_I: Downloading web creator player API JSON\n",
      "[info] tlycUK_TS_I: Downloading subtitles: en\n"
     ]
    },
    {
     "name": "stderr",
     "output_type": "stream",
     "text": [
      "WARNING: ffmpeg not found. The downloaded format may not be the best available. Installing ffmpeg is strongly recommended: https://github.com/yt-dlp/yt-dlp#dependencies\n"
     ]
    },
    {
     "name": "stdout",
     "output_type": "stream",
     "text": [
      "[youtube] Extracting URL: https://youtube.com/watch?v=tlycUK_TS_I\n",
      "[youtube] tlycUK_TS_I: Downloading webpage\n",
      "[youtube] tlycUK_TS_I: Downloading ios player API JSON\n",
      "[youtube] tlycUK_TS_I: This video is age-restricted; some formats may be missing without authentication. Use --cookies-from-browser or --cookies for the authentication. See  https://github.com/yt-dlp/yt-dlp/wiki/FAQ#how-do-i-pass-cookies-to-yt-dlp  for how to manually pass cookies\n",
      "[youtube] tlycUK_TS_I: Downloading tv embedded player API JSON\n",
      "[youtube] tlycUK_TS_I: Downloading web creator player API JSON\n",
      "[info] tlycUK_TS_I: Downloading subtitles: de\n"
     ]
    },
    {
     "name": "stderr",
     "output_type": "stream",
     "text": [
      "WARNING: ffmpeg not found. The downloaded format may not be the best available. Installing ffmpeg is strongly recommended: https://github.com/yt-dlp/yt-dlp#dependencies\n"
     ]
    },
    {
     "name": "stdout",
     "output_type": "stream",
     "text": [
      "[info] tlycUK_TS_I: Downloading 1 format(s): 18\n",
      "[info] Writing video subtitles to: data\\de_DW\\Palästinensische Geflüchtete berichten über ihr Leid  DW Nachrichten.de.vtt\n",
      "[download] Destination: data\\de_DW\\Palästinensische Geflüchtete berichten über ihr Leid  DW Nachrichten.de.vtt\n",
      "[download] 100% of   27.04KiB in 00:00:00 at 203.83KiB/s\n",
      "[youtube] Extracting URL: https://youtube.com/watch?v=2ymbQdoFUug\n",
      "[youtube] 2ymbQdoFUug: Downloading webpage\n",
      "[youtube] 2ymbQdoFUug: Downloading ios player API JSON\n",
      "[youtube] 2ymbQdoFUug: Downloading web creator player API JSON\n",
      "[youtube] 2ymbQdoFUug: Downloading m3u8 information\n",
      "[info] 2ymbQdoFUug: Downloading subtitles: en\n"
     ]
    },
    {
     "name": "stderr",
     "output_type": "stream",
     "text": [
      "WARNING: ffmpeg not found. The downloaded format may not be the best available. Installing ffmpeg is strongly recommended: https://github.com/yt-dlp/yt-dlp#dependencies\n"
     ]
    },
    {
     "name": "stdout",
     "output_type": "stream",
     "text": [
      "[youtube] Extracting URL: https://youtube.com/watch?v=2ymbQdoFUug\n",
      "[youtube] 2ymbQdoFUug: Downloading webpage\n",
      "[youtube] 2ymbQdoFUug: Downloading ios player API JSON\n",
      "[youtube] 2ymbQdoFUug: Downloading web creator player API JSON\n",
      "[youtube] 2ymbQdoFUug: Downloading m3u8 information\n",
      "[info] 2ymbQdoFUug: Downloading subtitles: de\n"
     ]
    },
    {
     "name": "stderr",
     "output_type": "stream",
     "text": [
      "WARNING: ffmpeg not found. The downloaded format may not be the best available. Installing ffmpeg is strongly recommended: https://github.com/yt-dlp/yt-dlp#dependencies\n"
     ]
    },
    {
     "name": "stdout",
     "output_type": "stream",
     "text": [
      "[info] 2ymbQdoFUug: Downloading 1 format(s): 18\n",
      "[info] Writing video subtitles to: data\\de_DW\\Israelische Reservisten wollen nicht wieder in den Krieg  DW Nachrichten.de.vtt\n",
      "[download] Destination: data\\de_DW\\Israelische Reservisten wollen nicht wieder in den Krieg  DW Nachrichten.de.vtt\n",
      "[download] 100% of   35.61KiB in 00:00:00 at 440.11KiB/s\n",
      "Dataset created successfully with 97 entries.\n"
     ]
    }
   ],
   "source": [
    "import os\n",
    "import requests\n",
    "import pandas as pd\n",
    "import webvtt\n",
    "from pytube import Playlist\n",
    "import yt_dlp\n",
    "import re\n",
    "import time\n",
    "import unicodedata\n",
    "\n",
    "# Assume `playlist` is a pytube Playlist object already initialized\n",
    "playlist_url = 'https://www.youtube.com/playlist?list=PLdrKWT9w9Hg3aSRDfCP5ha5QXqEyLKH3o'\n",
    "playlist = Playlist(playlist_url)\n",
    "\n",
    "# Get all video URLs in the playlist\n",
    "video_urls = [video.watch_url for video in playlist.videos]\n",
    "\n",
    "# Directory to save thumbnails and transcripts\n",
    "output_dir = 'data/de_DW'\n",
    "os.makedirs(output_dir, exist_ok=True)\n",
    "\n",
    "def sanitize_filename(name):\n",
    "    \"\"\"\n",
    "    Sanitize the filename by removing invalid characters, full-width symbols,\n",
    "    stripping newlines, and normalizing unicode to ASCII where possible.\n",
    "    \"\"\"\n",
    "    # Normalize full-width characters to their ASCII equivalents\n",
    "    name = unicodedata.normalize('NFKC', name)  # Normalize Unicode characters to ASCII-compatible form\n",
    "    \n",
    "    # Remove problematic characters for filenames\n",
    "    name = re.sub(r'[\\\\/*?:\"<>|]', \"\", name)  # Remove invalid characters\n",
    "    name = name.replace('\\n', '').replace('\\r', '')  # Remove newlines\n",
    "    name = name.strip()  # Trim leading/trailing spaces\n",
    "\n",
    "    # Ensure the filename length is not too long (you can set a specific limit)\n",
    "    max_filename_length = 255\n",
    "    return name[:max_filename_length]\n",
    "\n",
    "def download_thumbnail(thumbnail_url, title):\n",
    "    try:\n",
    "        response = requests.get(thumbnail_url)\n",
    "        sanitized_title = sanitize_filename(title)\n",
    "        thumbnail_file = os.path.join(output_dir, f'{sanitized_title}.jpg')\n",
    "        with open(thumbnail_file, 'wb') as file:\n",
    "            file.write(response.content)\n",
    "        return thumbnail_file\n",
    "    except Exception as e:\n",
    "        print(f\"Failed to download thumbnail for {title}: {e}\")\n",
    "        return None\n",
    "\n",
    "def download_subtitles(video_url, video_title, subtitle_languages):\n",
    "    sanitized_title = sanitize_filename(video_title)\n",
    "    \n",
    "    # Define the download options\n",
    "    ydl_opts = {\n",
    "        'writesubtitles': True,\n",
    "        'writeautomaticsub': True,\n",
    "        'skip_download': True,  # Skip video download\n",
    "        'outtmpl': os.path.join(output_dir, f'{sanitized_title}.%(ext)s'),  # Use sanitized title\n",
    "        'restrictfilenames': True,\n",
    "    }\n",
    "    \n",
    "    try:\n",
    "        with yt_dlp.YoutubeDL(ydl_opts) as ydl:\n",
    "            if 'de' in subtitle_languages:\n",
    "                # Download English subtitles\n",
    "                subtitle_file = os.path.join(output_dir, f'{sanitized_title}.de.vtt')\n",
    "                if not os.path.exists(subtitle_file):\n",
    "                    ydl_opts['subtitleslangs'] = ['de']\n",
    "                    ydl.download([video_url])  # Download subtitles for the video\n",
    "                return subtitle_file\n",
    "            elif subtitle_languages:\n",
    "                # Download the first available subtitle if English is not found\n",
    "                first_lang = list(subtitle_languages)[0]\n",
    "                subtitle_file = os.path.join(output_dir, f'{sanitized_title}.{first_lang}.vtt')\n",
    "                if not os.path.exists(subtitle_file):\n",
    "                    ydl_opts['subtitleslangs'] = [first_lang]\n",
    "                    ydl.download([video_url])\n",
    "                return subtitle_file\n",
    "                \n",
    "    except yt_dlp.utils.DownloadError as e:\n",
    "        error_message = str(e)\n",
    "        print(f\"Error downloading subtitles for {video_title}: {error_message}\")\n",
    "        return None\n",
    "                \n",
    "def download_video_info(video_url, max_retries=3, retry_interval=180):\n",
    "    ydl_opts = {\n",
    "        'writesubtitles': True,\n",
    "        'writeautomaticsub': True,\n",
    "        'skip_download': True,\n",
    "        #'outtmpl': os.path.join(output_dir, f'{\"%(sanitized_title)s\"}.%(ext)s'),\n",
    "        'postprocessors': [{\n",
    "            'key': 'FFmpegMetadata',\n",
    "        }],\n",
    "    }\n",
    "    retries = 0\n",
    "    while retries < max_retries:\n",
    "        try:\n",
    "            with yt_dlp.YoutubeDL(ydl_opts) as ydl:\n",
    "                info_dict = ydl.extract_info(video_url, download=False)\n",
    "                video_title = info_dict.get('title', None)\n",
    "                video_id = info_dict.get('id', None)\n",
    "                thumbnail_url = info_dict.get('thumbnail', None)\n",
    "                publish_date = info_dict.get('upload_date', None)  # Format: 'YYYYMMDD'\n",
    "                subtitle_languages = info_dict.get('automatic_captions', {}).keys()\n",
    "\n",
    "                # Download thumbnail\n",
    "                thumbnail_file = None\n",
    "                if thumbnail_url:\n",
    "                    thumbnail_file = download_thumbnail(thumbnail_url, video_title)\n",
    "\n",
    "                # Download subtitles\n",
    "                subtitle_file = None\n",
    "                subtitle_file = download_subtitles(video_url, video_title, subtitle_languages)\n",
    "                \n",
    "            # Return the collected video information\n",
    "            return video_id, video_title, thumbnail_file, subtitle_file, publish_date\n",
    "\n",
    "        except yt_dlp.utils.DownloadError as e:\n",
    "            error_message = str(e)\n",
    "            if \"Sign in to confirm you’re not a bot\" in error_message:\n",
    "                retries += 1\n",
    "                print(f\"Error: {error_message}. Retrying in {retry_interval} seconds... (Attempt {retries}/{max_retries})\")\n",
    "                time.sleep(retry_interval)  # Wait before retrying\n",
    "            else:\n",
    "                print(f\"Failed to download video info for {video_url}: {e}\")\n",
    "                return None, None, None, None, None\n",
    "\n",
    "    # After max retries, log the failure and return None\n",
    "    print(f\"Max retries reached. Skipping video: {video_url}\")\n",
    "    return None, None, None, None, None\n",
    "\n",
    "def vtt_to_text(vtt_file_path):\n",
    "    try:\n",
    "        text = ''\n",
    "        lines = []\n",
    "        deduplicated_lines = []\n",
    "        for caption in webvtt.read(vtt_file_path):\n",
    "            # Split the block into lines and deduplicate them within the block\n",
    "            lines.extend(caption.text.strip().split('\\n'))\n",
    "            #print(caption.text.strip().split('\\n'))\n",
    "        for line in lines:\n",
    "            if line and (not deduplicated_lines or line != deduplicated_lines[-1]):  # Avoid consecutive duplicates\n",
    "                deduplicated_lines.append(line)\n",
    "     \n",
    "        text = \"\\n\".join(deduplicated_lines)\n",
    "    \n",
    "    except Exception as e:\n",
    "        print(f\"Failed to convert {vtt_file_path} to text: {e}\")\n",
    "        \n",
    "    return text\n",
    "\n",
    "# Create a list to store video information\n",
    "data = []\n",
    "\n",
    "# Loop through each video URL and download the required data\n",
    "for video_url in video_urls:\n",
    "    video_id, video_title, thumbnail_file, subtitle_file, publish_date = download_video_info(video_url)\n",
    "    # If video info is successfully retrieved\n",
    "    if video_id and video_title:\n",
    "        # Convert subtitles to text if available\n",
    "        transcript = None\n",
    "        if subtitle_file and os.path.exists(subtitle_file):\n",
    "            transcript = vtt_to_text(subtitle_file)\n",
    "        else:\n",
    "            print(\"subtitle file not found\")\n",
    "        # Append data to the list\n",
    "        data.append({\n",
    "            'video_id': video_id,\n",
    "            'video_title': video_title,\n",
    "            'thumbnail_path': thumbnail_file,\n",
    "            'transcript': transcript,\n",
    "            'publish_date': publish_date\n",
    "        })\n",
    "\n",
    "# Convert the list to a DataFrame\n",
    "df = pd.DataFrame(data, columns=['video_id', 'video_title', 'thumbnail_path', 'transcript', 'publish_date'])\n",
    "\n",
    "# Save the DataFrame to a CSV file\n",
    "df.to_csv(os.path.join(output_dir,'../', 'de_DW.csv'), index=False)\n",
    "\n",
    "print(f\"Dataset created successfully with {len(df)} entries.\")"
   ]
  },
  {
   "cell_type": "code",
   "execution_count": null,
   "metadata": {},
   "outputs": [],
   "source": []
  }
 ],
 "metadata": {
  "kernelspec": {
   "display_name": "Python 3 (ipykernel)",
   "language": "python",
   "name": "python3"
  },
  "language_info": {
   "codemirror_mode": {
    "name": "ipython",
    "version": 3
   },
   "file_extension": ".py",
   "mimetype": "text/x-python",
   "name": "python",
   "nbconvert_exporter": "python",
   "pygments_lexer": "ipython3",
   "version": "3.12.1"
  }
 },
 "nbformat": 4,
 "nbformat_minor": 4
}
