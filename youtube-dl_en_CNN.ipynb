{
 "cells": [
  {
   "cell_type": "markdown",
   "metadata": {},
   "source": [
    "## Step 1: Install Required Libraries\n",
    "First, you need to install the necessary Python libraries:"
   ]
  },
  {
   "cell_type": "code",
   "execution_count": 2,
   "metadata": {},
   "outputs": [
    {
     "name": "stdout",
     "output_type": "stream",
     "text": [
      "Defaulting to user installation because normal site-packages is not writeable\n",
      "Requirement already satisfied: yt-dlp in c:\\users\\lorenz\\appdata\\roaming\\python\\python312\\site-packages (2024.8.6)\n",
      "Requirement already satisfied: pytube in c:\\users\\lorenz\\appdata\\roaming\\python\\python312\\site-packages (15.0.0)\n",
      "Requirement already satisfied: pandas in c:\\users\\lorenz\\appdata\\roaming\\python\\python312\\site-packages (2.2.2)\n",
      "Requirement already satisfied: webvtt-py in c:\\users\\lorenz\\appdata\\roaming\\python\\python312\\site-packages (0.5.1)\n",
      "Requirement already satisfied: requests in c:\\users\\lorenz\\appdata\\roaming\\python\\python312\\site-packages (2.32.3)\n",
      "Requirement already satisfied: brotli in c:\\users\\lorenz\\appdata\\roaming\\python\\python312\\site-packages (from yt-dlp) (1.1.0)\n",
      "Requirement already satisfied: certifi in c:\\users\\lorenz\\appdata\\roaming\\python\\python312\\site-packages (from yt-dlp) (2024.8.30)\n",
      "Requirement already satisfied: mutagen in c:\\users\\lorenz\\appdata\\roaming\\python\\python312\\site-packages (from yt-dlp) (1.47.0)\n",
      "Requirement already satisfied: pycryptodomex in c:\\users\\lorenz\\appdata\\roaming\\python\\python312\\site-packages (from yt-dlp) (3.20.0)\n",
      "Requirement already satisfied: urllib3<3,>=1.26.17 in c:\\users\\lorenz\\appdata\\roaming\\python\\python312\\site-packages (from yt-dlp) (2.2.2)\n",
      "Requirement already satisfied: websockets>=12.0 in c:\\users\\lorenz\\appdata\\roaming\\python\\python312\\site-packages (from yt-dlp) (13.0.1)\n",
      "Requirement already satisfied: numpy>=1.26.0 in c:\\users\\lorenz\\appdata\\roaming\\python\\python312\\site-packages (from pandas) (2.1.1)\n",
      "Requirement already satisfied: python-dateutil>=2.8.2 in c:\\users\\lorenz\\appdata\\roaming\\python\\python312\\site-packages (from pandas) (2.9.0.post0)\n",
      "Requirement already satisfied: pytz>=2020.1 in c:\\users\\lorenz\\appdata\\roaming\\python\\python312\\site-packages (from pandas) (2024.1)\n",
      "Requirement already satisfied: tzdata>=2022.7 in c:\\users\\lorenz\\appdata\\roaming\\python\\python312\\site-packages (from pandas) (2024.1)\n",
      "Requirement already satisfied: charset-normalizer<4,>=2 in c:\\users\\lorenz\\appdata\\roaming\\python\\python312\\site-packages (from requests) (3.3.2)\n",
      "Requirement already satisfied: idna<4,>=2.5 in c:\\users\\lorenz\\appdata\\roaming\\python\\python312\\site-packages (from requests) (3.8)\n",
      "Requirement already satisfied: six>=1.5 in c:\\users\\lorenz\\appdata\\roaming\\python\\python312\\site-packages (from python-dateutil>=2.8.2->pandas) (1.16.0)\n"
     ]
    }
   ],
   "source": [
    "!pip install yt-dlp pytube pandas webvtt-py requests\n"
   ]
  },
  {
   "cell_type": "code",
   "execution_count": 4,
   "metadata": {
    "scrolled": true
   },
   "outputs": [
    {
     "name": "stdout",
     "output_type": "stream",
     "text": [
      "[youtube] Extracting URL: https://youtube.com/watch?v=hH8eMkO1CpA\n",
      "[youtube] hH8eMkO1CpA: Downloading webpage\n",
      "[youtube] hH8eMkO1CpA: Downloading ios player API JSON\n",
      "[youtube] hH8eMkO1CpA: This video is age-restricted; some formats may be missing without authentication. Use --cookies-from-browser or --cookies for the authentication. See  https://github.com/yt-dlp/yt-dlp/wiki/FAQ#how-do-i-pass-cookies-to-yt-dlp  for how to manually pass cookies\n",
      "[youtube] hH8eMkO1CpA: Downloading tv embedded player API JSON\n",
      "[youtube] hH8eMkO1CpA: Downloading web creator player API JSON\n",
      "[info] hH8eMkO1CpA: Downloading subtitles: en\n"
     ]
    },
    {
     "name": "stderr",
     "output_type": "stream",
     "text": [
      "WARNING: ffmpeg not found. The downloaded format may not be the best available. Installing ffmpeg is strongly recommended: https://github.com/yt-dlp/yt-dlp#dependencies\n"
     ]
    },
    {
     "name": "stdout",
     "output_type": "stream",
     "text": [
      "[youtube] Extracting URL: https://youtube.com/watch?v=L_6GMzVl6L0\n",
      "[youtube] L_6GMzVl6L0: Downloading webpage\n",
      "[youtube] L_6GMzVl6L0: Downloading ios player API JSON\n",
      "[youtube] L_6GMzVl6L0: Downloading web creator player API JSON\n",
      "[youtube] L_6GMzVl6L0: Downloading m3u8 information\n"
     ]
    },
    {
     "name": "stderr",
     "output_type": "stream",
     "text": [
      "WARNING: ffmpeg not found. The downloaded format may not be the best available. Installing ffmpeg is strongly recommended: https://github.com/yt-dlp/yt-dlp#dependencies\n"
     ]
    },
    {
     "name": "stdout",
     "output_type": "stream",
     "text": [
      "subtitle file not found\n",
      "[youtube] Extracting URL: https://youtube.com/watch?v=kngd0K2KIqI\n",
      "[youtube] kngd0K2KIqI: Downloading webpage\n",
      "[youtube] kngd0K2KIqI: Downloading ios player API JSON\n",
      "[youtube] kngd0K2KIqI: This video is age-restricted; some formats may be missing without authentication. Use --cookies-from-browser or --cookies for the authentication. See  https://github.com/yt-dlp/yt-dlp/wiki/FAQ#how-do-i-pass-cookies-to-yt-dlp  for how to manually pass cookies\n",
      "[youtube] kngd0K2KIqI: Downloading tv embedded player API JSON\n",
      "[youtube] kngd0K2KIqI: Downloading web creator player API JSON\n"
     ]
    },
    {
     "name": "stderr",
     "output_type": "stream",
     "text": [
      "WARNING: ffmpeg not found. The downloaded format may not be the best available. Installing ffmpeg is strongly recommended: https://github.com/yt-dlp/yt-dlp#dependencies\n"
     ]
    },
    {
     "name": "stdout",
     "output_type": "stream",
     "text": [
      "subtitle file not found\n",
      "[youtube] Extracting URL: https://youtube.com/watch?v=zdq3NVtT6Nc\n",
      "[youtube] zdq3NVtT6Nc: Downloading webpage\n",
      "[youtube] zdq3NVtT6Nc: Downloading ios player API JSON\n",
      "[youtube] zdq3NVtT6Nc: Downloading web creator player API JSON\n",
      "[youtube] zdq3NVtT6Nc: Downloading m3u8 information\n",
      "[info] zdq3NVtT6Nc: Downloading subtitles: en\n"
     ]
    },
    {
     "name": "stderr",
     "output_type": "stream",
     "text": [
      "WARNING: ffmpeg not found. The downloaded format may not be the best available. Installing ffmpeg is strongly recommended: https://github.com/yt-dlp/yt-dlp#dependencies\n"
     ]
    },
    {
     "name": "stdout",
     "output_type": "stream",
     "text": [
      "[youtube] Extracting URL: https://youtube.com/watch?v=p5ZTGkhmSJw\n",
      "[youtube] p5ZTGkhmSJw: Downloading webpage\n",
      "[youtube] p5ZTGkhmSJw: Downloading ios player API JSON\n",
      "[youtube] p5ZTGkhmSJw: Downloading web creator player API JSON\n",
      "[youtube] p5ZTGkhmSJw: Downloading m3u8 information\n"
     ]
    },
    {
     "name": "stderr",
     "output_type": "stream",
     "text": [
      "WARNING: ffmpeg not found. The downloaded format may not be the best available. Installing ffmpeg is strongly recommended: https://github.com/yt-dlp/yt-dlp#dependencies\n"
     ]
    },
    {
     "name": "stdout",
     "output_type": "stream",
     "text": [
      "subtitle file not found\n",
      "[youtube] Extracting URL: https://youtube.com/watch?v=xrEMJNj35VE\n",
      "[youtube] xrEMJNj35VE: Downloading webpage\n",
      "[youtube] xrEMJNj35VE: Downloading ios player API JSON\n",
      "[youtube] xrEMJNj35VE: Downloading web creator player API JSON\n",
      "[youtube] xrEMJNj35VE: Downloading m3u8 information\n"
     ]
    },
    {
     "name": "stderr",
     "output_type": "stream",
     "text": [
      "WARNING: ffmpeg not found. The downloaded format may not be the best available. Installing ffmpeg is strongly recommended: https://github.com/yt-dlp/yt-dlp#dependencies\n"
     ]
    },
    {
     "name": "stdout",
     "output_type": "stream",
     "text": [
      "subtitle file not found\n",
      "[youtube] Extracting URL: https://youtube.com/watch?v=XkAVyXHFHEQ\n",
      "[youtube] XkAVyXHFHEQ: Downloading webpage\n",
      "[youtube] XkAVyXHFHEQ: Downloading ios player API JSON\n",
      "[youtube] XkAVyXHFHEQ: Downloading web creator player API JSON\n",
      "[youtube] XkAVyXHFHEQ: Downloading m3u8 information\n",
      "[info] XkAVyXHFHEQ: Downloading subtitles: en\n"
     ]
    },
    {
     "name": "stderr",
     "output_type": "stream",
     "text": [
      "WARNING: ffmpeg not found. The downloaded format may not be the best available. Installing ffmpeg is strongly recommended: https://github.com/yt-dlp/yt-dlp#dependencies\n"
     ]
    },
    {
     "name": "stdout",
     "output_type": "stream",
     "text": [
      "[youtube] Extracting URL: https://youtube.com/watch?v=J5tFbJRdZAw\n",
      "[youtube] J5tFbJRdZAw: Downloading webpage\n",
      "[youtube] J5tFbJRdZAw: Downloading ios player API JSON\n",
      "[youtube] J5tFbJRdZAw: Downloading web creator player API JSON\n",
      "[youtube] J5tFbJRdZAw: Downloading m3u8 information\n",
      "[info] J5tFbJRdZAw: Downloading subtitles: en\n"
     ]
    },
    {
     "name": "stderr",
     "output_type": "stream",
     "text": [
      "WARNING: ffmpeg not found. The downloaded format may not be the best available. Installing ffmpeg is strongly recommended: https://github.com/yt-dlp/yt-dlp#dependencies\n"
     ]
    },
    {
     "name": "stdout",
     "output_type": "stream",
     "text": [
      "[youtube] Extracting URL: https://youtube.com/watch?v=V5AxIqP6OJM\n",
      "[youtube] V5AxIqP6OJM: Downloading webpage\n",
      "[youtube] V5AxIqP6OJM: Downloading ios player API JSON\n",
      "[youtube] V5AxIqP6OJM: Downloading web creator player API JSON\n",
      "[youtube] V5AxIqP6OJM: Downloading m3u8 information\n",
      "[info] V5AxIqP6OJM: Downloading subtitles: en-uYU-mmqFLq8\n"
     ]
    },
    {
     "name": "stderr",
     "output_type": "stream",
     "text": [
      "WARNING: ffmpeg not found. The downloaded format may not be the best available. Installing ffmpeg is strongly recommended: https://github.com/yt-dlp/yt-dlp#dependencies\n"
     ]
    },
    {
     "name": "stdout",
     "output_type": "stream",
     "text": [
      "[youtube] Extracting URL: https://youtube.com/watch?v=U2Uz5HZ-F5A\n",
      "[youtube] U2Uz5HZ-F5A: Downloading webpage\n",
      "[youtube] U2Uz5HZ-F5A: Downloading ios player API JSON\n",
      "[youtube] U2Uz5HZ-F5A: Downloading web creator player API JSON\n",
      "[youtube] U2Uz5HZ-F5A: Downloading m3u8 information\n"
     ]
    },
    {
     "name": "stderr",
     "output_type": "stream",
     "text": [
      "WARNING: ffmpeg not found. The downloaded format may not be the best available. Installing ffmpeg is strongly recommended: https://github.com/yt-dlp/yt-dlp#dependencies\n"
     ]
    },
    {
     "name": "stdout",
     "output_type": "stream",
     "text": [
      "subtitle file not found\n",
      "[youtube] Extracting URL: https://youtube.com/watch?v=xTHV_9KHs8Q\n",
      "[youtube] xTHV_9KHs8Q: Downloading webpage\n",
      "[youtube] xTHV_9KHs8Q: Downloading ios player API JSON\n",
      "[youtube] xTHV_9KHs8Q: Downloading web creator player API JSON\n",
      "[youtube] xTHV_9KHs8Q: Downloading m3u8 information\n",
      "[info] xTHV_9KHs8Q: Downloading subtitles: en\n"
     ]
    },
    {
     "name": "stderr",
     "output_type": "stream",
     "text": [
      "WARNING: ffmpeg not found. The downloaded format may not be the best available. Installing ffmpeg is strongly recommended: https://github.com/yt-dlp/yt-dlp#dependencies\n"
     ]
    },
    {
     "name": "stdout",
     "output_type": "stream",
     "text": [
      "[youtube] Extracting URL: https://youtube.com/watch?v=I5yAK7kt0os\n",
      "[youtube] I5yAK7kt0os: Downloading webpage\n",
      "[youtube] I5yAK7kt0os: Downloading ios player API JSON\n",
      "[youtube] I5yAK7kt0os: This video is age-restricted; some formats may be missing without authentication. Use --cookies-from-browser or --cookies for the authentication. See  https://github.com/yt-dlp/yt-dlp/wiki/FAQ#how-do-i-pass-cookies-to-yt-dlp  for how to manually pass cookies\n",
      "[youtube] I5yAK7kt0os: Downloading tv embedded player API JSON\n",
      "[youtube] I5yAK7kt0os: Downloading web creator player API JSON\n",
      "[info] I5yAK7kt0os: Downloading subtitles: en\n"
     ]
    },
    {
     "name": "stderr",
     "output_type": "stream",
     "text": [
      "WARNING: ffmpeg not found. The downloaded format may not be the best available. Installing ffmpeg is strongly recommended: https://github.com/yt-dlp/yt-dlp#dependencies\n"
     ]
    },
    {
     "name": "stdout",
     "output_type": "stream",
     "text": [
      "[youtube] Extracting URL: https://youtube.com/watch?v=XCr6NkCZK9A\n",
      "[youtube] XCr6NkCZK9A: Downloading webpage\n",
      "[youtube] XCr6NkCZK9A: Downloading ios player API JSON\n",
      "[youtube] XCr6NkCZK9A: Downloading web creator player API JSON\n",
      "[youtube] XCr6NkCZK9A: Downloading m3u8 information\n",
      "[info] XCr6NkCZK9A: Downloading subtitles: en-uYU-mmqFLq8\n"
     ]
    },
    {
     "name": "stderr",
     "output_type": "stream",
     "text": [
      "WARNING: ffmpeg not found. The downloaded format may not be the best available. Installing ffmpeg is strongly recommended: https://github.com/yt-dlp/yt-dlp#dependencies\n"
     ]
    },
    {
     "name": "stdout",
     "output_type": "stream",
     "text": [
      "[youtube] Extracting URL: https://youtube.com/watch?v=Cy6vewZo3jY\n",
      "[youtube] Cy6vewZo3jY: Downloading webpage\n",
      "[youtube] Cy6vewZo3jY: Downloading ios player API JSON\n",
      "[youtube] Cy6vewZo3jY: Downloading web creator player API JSON\n",
      "[youtube] Cy6vewZo3jY: Downloading m3u8 information\n",
      "[info] Cy6vewZo3jY: Downloading subtitles: en\n"
     ]
    },
    {
     "name": "stderr",
     "output_type": "stream",
     "text": [
      "WARNING: ffmpeg not found. The downloaded format may not be the best available. Installing ffmpeg is strongly recommended: https://github.com/yt-dlp/yt-dlp#dependencies\n"
     ]
    },
    {
     "name": "stdout",
     "output_type": "stream",
     "text": [
      "[youtube] Extracting URL: https://youtube.com/watch?v=8TmIM3JH0XE\n",
      "[youtube] 8TmIM3JH0XE: Downloading webpage\n",
      "[youtube] 8TmIM3JH0XE: Downloading ios player API JSON\n",
      "[youtube] 8TmIM3JH0XE: Downloading web creator player API JSON\n",
      "[youtube] 8TmIM3JH0XE: Downloading m3u8 information\n"
     ]
    },
    {
     "name": "stderr",
     "output_type": "stream",
     "text": [
      "WARNING: ffmpeg not found. The downloaded format may not be the best available. Installing ffmpeg is strongly recommended: https://github.com/yt-dlp/yt-dlp#dependencies\n"
     ]
    },
    {
     "name": "stdout",
     "output_type": "stream",
     "text": [
      "subtitle file not found\n",
      "[youtube] Extracting URL: https://youtube.com/watch?v=aQIWFW0RUUE\n",
      "[youtube] aQIWFW0RUUE: Downloading webpage\n",
      "[youtube] aQIWFW0RUUE: Downloading ios player API JSON\n",
      "[youtube] aQIWFW0RUUE: Downloading web creator player API JSON\n",
      "[youtube] aQIWFW0RUUE: Downloading m3u8 information\n",
      "[info] aQIWFW0RUUE: Downloading subtitles: en\n"
     ]
    },
    {
     "name": "stderr",
     "output_type": "stream",
     "text": [
      "WARNING: ffmpeg not found. The downloaded format may not be the best available. Installing ffmpeg is strongly recommended: https://github.com/yt-dlp/yt-dlp#dependencies\n"
     ]
    },
    {
     "name": "stdout",
     "output_type": "stream",
     "text": [
      "[youtube] Extracting URL: https://youtube.com/watch?v=ni1vHdQtWbs\n",
      "[youtube] ni1vHdQtWbs: Downloading webpage\n",
      "[youtube] ni1vHdQtWbs: Downloading ios player API JSON\n",
      "[youtube] ni1vHdQtWbs: Downloading web creator player API JSON\n",
      "[youtube] ni1vHdQtWbs: Downloading m3u8 information\n",
      "[info] ni1vHdQtWbs: Downloading subtitles: en\n"
     ]
    },
    {
     "name": "stderr",
     "output_type": "stream",
     "text": [
      "WARNING: ffmpeg not found. The downloaded format may not be the best available. Installing ffmpeg is strongly recommended: https://github.com/yt-dlp/yt-dlp#dependencies\n"
     ]
    },
    {
     "name": "stdout",
     "output_type": "stream",
     "text": [
      "[youtube] Extracting URL: https://youtube.com/watch?v=2Z8fvTfQgUs\n",
      "[youtube] 2Z8fvTfQgUs: Downloading webpage\n",
      "[youtube] 2Z8fvTfQgUs: Downloading ios player API JSON\n",
      "[youtube] 2Z8fvTfQgUs: Downloading web creator player API JSON\n",
      "[youtube] 2Z8fvTfQgUs: Downloading m3u8 information\n",
      "[info] 2Z8fvTfQgUs: Downloading subtitles: en\n"
     ]
    },
    {
     "name": "stderr",
     "output_type": "stream",
     "text": [
      "WARNING: ffmpeg not found. The downloaded format may not be the best available. Installing ffmpeg is strongly recommended: https://github.com/yt-dlp/yt-dlp#dependencies\n"
     ]
    },
    {
     "name": "stdout",
     "output_type": "stream",
     "text": [
      "[youtube] Extracting URL: https://youtube.com/watch?v=lQLlo89kaco\n",
      "[youtube] lQLlo89kaco: Downloading webpage\n",
      "[youtube] lQLlo89kaco: Downloading ios player API JSON\n",
      "[youtube] lQLlo89kaco: Downloading web creator player API JSON\n",
      "[youtube] lQLlo89kaco: Downloading m3u8 information\n",
      "[info] lQLlo89kaco: Downloading subtitles: en\n"
     ]
    },
    {
     "name": "stderr",
     "output_type": "stream",
     "text": [
      "WARNING: ffmpeg not found. The downloaded format may not be the best available. Installing ffmpeg is strongly recommended: https://github.com/yt-dlp/yt-dlp#dependencies\n"
     ]
    },
    {
     "name": "stdout",
     "output_type": "stream",
     "text": [
      "[youtube] Extracting URL: https://youtube.com/watch?v=E4gzxOO-yQQ\n",
      "[youtube] E4gzxOO-yQQ: Downloading webpage\n",
      "[youtube] E4gzxOO-yQQ: Downloading ios player API JSON\n",
      "[youtube] E4gzxOO-yQQ: Downloading web creator player API JSON\n",
      "[youtube] E4gzxOO-yQQ: Downloading m3u8 information\n",
      "[info] E4gzxOO-yQQ: Downloading subtitles: en\n"
     ]
    },
    {
     "name": "stderr",
     "output_type": "stream",
     "text": [
      "WARNING: ffmpeg not found. The downloaded format may not be the best available. Installing ffmpeg is strongly recommended: https://github.com/yt-dlp/yt-dlp#dependencies\n"
     ]
    },
    {
     "name": "stdout",
     "output_type": "stream",
     "text": [
      "[youtube] Extracting URL: https://youtube.com/watch?v=bYxGjMCTFdE\n",
      "[youtube] bYxGjMCTFdE: Downloading webpage\n",
      "[youtube] bYxGjMCTFdE: Downloading ios player API JSON\n",
      "[youtube] bYxGjMCTFdE: Downloading web creator player API JSON\n",
      "[youtube] bYxGjMCTFdE: Downloading m3u8 information\n",
      "[info] bYxGjMCTFdE: Downloading subtitles: en\n"
     ]
    },
    {
     "name": "stderr",
     "output_type": "stream",
     "text": [
      "WARNING: ffmpeg not found. The downloaded format may not be the best available. Installing ffmpeg is strongly recommended: https://github.com/yt-dlp/yt-dlp#dependencies\n"
     ]
    },
    {
     "name": "stdout",
     "output_type": "stream",
     "text": [
      "[youtube] Extracting URL: https://youtube.com/watch?v=a34zpFaoBoM\n",
      "[youtube] a34zpFaoBoM: Downloading webpage\n",
      "[youtube] a34zpFaoBoM: Downloading ios player API JSON\n",
      "[youtube] a34zpFaoBoM: Downloading web creator player API JSON\n",
      "[youtube] a34zpFaoBoM: Downloading m3u8 information\n",
      "[info] a34zpFaoBoM: Downloading subtitles: en\n"
     ]
    },
    {
     "name": "stderr",
     "output_type": "stream",
     "text": [
      "WARNING: ffmpeg not found. The downloaded format may not be the best available. Installing ffmpeg is strongly recommended: https://github.com/yt-dlp/yt-dlp#dependencies\n"
     ]
    },
    {
     "name": "stdout",
     "output_type": "stream",
     "text": [
      "[youtube] Extracting URL: https://youtube.com/watch?v=U17nMZwUrqM\n",
      "[youtube] U17nMZwUrqM: Downloading webpage\n",
      "[youtube] U17nMZwUrqM: Downloading ios player API JSON\n",
      "[youtube] U17nMZwUrqM: Downloading web creator player API JSON\n",
      "[youtube] U17nMZwUrqM: Downloading m3u8 information\n"
     ]
    },
    {
     "name": "stderr",
     "output_type": "stream",
     "text": [
      "WARNING: ffmpeg not found. The downloaded format may not be the best available. Installing ffmpeg is strongly recommended: https://github.com/yt-dlp/yt-dlp#dependencies\n"
     ]
    },
    {
     "name": "stdout",
     "output_type": "stream",
     "text": [
      "subtitle file not found\n",
      "[youtube] Extracting URL: https://youtube.com/watch?v=WeQCWiUhbHg\n",
      "[youtube] WeQCWiUhbHg: Downloading webpage\n",
      "[youtube] WeQCWiUhbHg: Downloading ios player API JSON\n",
      "[youtube] WeQCWiUhbHg: Downloading web creator player API JSON\n",
      "[youtube] WeQCWiUhbHg: Downloading m3u8 information\n"
     ]
    },
    {
     "name": "stderr",
     "output_type": "stream",
     "text": [
      "WARNING: ffmpeg not found. The downloaded format may not be the best available. Installing ffmpeg is strongly recommended: https://github.com/yt-dlp/yt-dlp#dependencies\n"
     ]
    },
    {
     "name": "stdout",
     "output_type": "stream",
     "text": [
      "subtitle file not found\n",
      "[youtube] Extracting URL: https://youtube.com/watch?v=L_P1nbNPH3M\n",
      "[youtube] L_P1nbNPH3M: Downloading webpage\n",
      "[youtube] L_P1nbNPH3M: Downloading ios player API JSON\n",
      "[youtube] L_P1nbNPH3M: Downloading web creator player API JSON\n",
      "[youtube] L_P1nbNPH3M: Downloading m3u8 information\n"
     ]
    },
    {
     "name": "stderr",
     "output_type": "stream",
     "text": [
      "WARNING: ffmpeg not found. The downloaded format may not be the best available. Installing ffmpeg is strongly recommended: https://github.com/yt-dlp/yt-dlp#dependencies\n"
     ]
    },
    {
     "name": "stdout",
     "output_type": "stream",
     "text": [
      "subtitle file not found\n",
      "[youtube] Extracting URL: https://youtube.com/watch?v=0evi5X6jK4E\n",
      "[youtube] 0evi5X6jK4E: Downloading webpage\n",
      "[youtube] 0evi5X6jK4E: Downloading ios player API JSON\n",
      "[youtube] 0evi5X6jK4E: Downloading web creator player API JSON\n",
      "[youtube] 0evi5X6jK4E: Downloading m3u8 information\n",
      "[info] 0evi5X6jK4E: Downloading subtitles: en\n"
     ]
    },
    {
     "name": "stderr",
     "output_type": "stream",
     "text": [
      "WARNING: ffmpeg not found. The downloaded format may not be the best available. Installing ffmpeg is strongly recommended: https://github.com/yt-dlp/yt-dlp#dependencies\n"
     ]
    },
    {
     "name": "stdout",
     "output_type": "stream",
     "text": [
      "[youtube] Extracting URL: https://youtube.com/watch?v=FD28jY6vkhs\n",
      "[youtube] FD28jY6vkhs: Downloading webpage\n",
      "[youtube] FD28jY6vkhs: Downloading ios player API JSON\n",
      "[youtube] FD28jY6vkhs: Downloading web creator player API JSON\n",
      "[youtube] FD28jY6vkhs: Downloading m3u8 information\n",
      "[info] FD28jY6vkhs: Downloading subtitles: en\n"
     ]
    },
    {
     "name": "stderr",
     "output_type": "stream",
     "text": [
      "WARNING: ffmpeg not found. The downloaded format may not be the best available. Installing ffmpeg is strongly recommended: https://github.com/yt-dlp/yt-dlp#dependencies\n"
     ]
    },
    {
     "name": "stdout",
     "output_type": "stream",
     "text": [
      "[youtube] Extracting URL: https://youtube.com/watch?v=Iqjqm7pBIIE\n",
      "[youtube] Iqjqm7pBIIE: Downloading webpage\n",
      "[youtube] Iqjqm7pBIIE: Downloading ios player API JSON\n",
      "[youtube] Iqjqm7pBIIE: Downloading web creator player API JSON\n",
      "[youtube] Iqjqm7pBIIE: Downloading m3u8 information\n",
      "[info] Iqjqm7pBIIE: Downloading subtitles: en\n"
     ]
    },
    {
     "name": "stderr",
     "output_type": "stream",
     "text": [
      "WARNING: ffmpeg not found. The downloaded format may not be the best available. Installing ffmpeg is strongly recommended: https://github.com/yt-dlp/yt-dlp#dependencies\n"
     ]
    },
    {
     "name": "stdout",
     "output_type": "stream",
     "text": [
      "[youtube] Extracting URL: https://youtube.com/watch?v=2UoGKEuW7jI\n",
      "[youtube] 2UoGKEuW7jI: Downloading webpage\n",
      "[youtube] 2UoGKEuW7jI: Downloading ios player API JSON\n",
      "[youtube] 2UoGKEuW7jI: Downloading web creator player API JSON\n",
      "[youtube] 2UoGKEuW7jI: Downloading m3u8 information\n",
      "[info] 2UoGKEuW7jI: Downloading subtitles: en\n"
     ]
    },
    {
     "name": "stderr",
     "output_type": "stream",
     "text": [
      "WARNING: ffmpeg not found. The downloaded format may not be the best available. Installing ffmpeg is strongly recommended: https://github.com/yt-dlp/yt-dlp#dependencies\n"
     ]
    },
    {
     "name": "stdout",
     "output_type": "stream",
     "text": [
      "[youtube] Extracting URL: https://youtube.com/watch?v=WeuvIUopgGg\n",
      "[youtube] WeuvIUopgGg: Downloading webpage\n",
      "[youtube] WeuvIUopgGg: Downloading ios player API JSON\n",
      "[youtube] WeuvIUopgGg: Downloading web creator player API JSON\n",
      "[youtube] WeuvIUopgGg: Downloading m3u8 information\n",
      "[info] WeuvIUopgGg: Downloading subtitles: en-uYU-mmqFLq8\n"
     ]
    },
    {
     "name": "stderr",
     "output_type": "stream",
     "text": [
      "WARNING: ffmpeg not found. The downloaded format may not be the best available. Installing ffmpeg is strongly recommended: https://github.com/yt-dlp/yt-dlp#dependencies\n"
     ]
    },
    {
     "name": "stdout",
     "output_type": "stream",
     "text": [
      "[youtube] Extracting URL: https://youtube.com/watch?v=cy9fD07y4-w\n",
      "[youtube] cy9fD07y4-w: Downloading webpage\n",
      "[youtube] cy9fD07y4-w: Downloading ios player API JSON\n",
      "[youtube] cy9fD07y4-w: Downloading web creator player API JSON\n",
      "[youtube] cy9fD07y4-w: Downloading m3u8 information\n",
      "[info] cy9fD07y4-w: Downloading subtitles: en-uYU-mmqFLq8\n"
     ]
    },
    {
     "name": "stderr",
     "output_type": "stream",
     "text": [
      "WARNING: ffmpeg not found. The downloaded format may not be the best available. Installing ffmpeg is strongly recommended: https://github.com/yt-dlp/yt-dlp#dependencies\n"
     ]
    },
    {
     "name": "stdout",
     "output_type": "stream",
     "text": [
      "[youtube] Extracting URL: https://youtube.com/watch?v=kufj_iN41Gc\n",
      "[youtube] kufj_iN41Gc: Downloading webpage\n",
      "[youtube] kufj_iN41Gc: Downloading ios player API JSON\n",
      "[youtube] kufj_iN41Gc: Downloading web creator player API JSON\n",
      "[youtube] kufj_iN41Gc: Downloading m3u8 information\n",
      "[info] kufj_iN41Gc: Downloading subtitles: en\n"
     ]
    },
    {
     "name": "stderr",
     "output_type": "stream",
     "text": [
      "WARNING: ffmpeg not found. The downloaded format may not be the best available. Installing ffmpeg is strongly recommended: https://github.com/yt-dlp/yt-dlp#dependencies\n"
     ]
    },
    {
     "name": "stdout",
     "output_type": "stream",
     "text": [
      "[youtube] Extracting URL: https://youtube.com/watch?v=dVxHa7Cv2a0\n",
      "[youtube] dVxHa7Cv2a0: Downloading webpage\n",
      "[youtube] dVxHa7Cv2a0: Downloading ios player API JSON\n",
      "[youtube] dVxHa7Cv2a0: This video is age-restricted; some formats may be missing without authentication. Use --cookies-from-browser or --cookies for the authentication. See  https://github.com/yt-dlp/yt-dlp/wiki/FAQ#how-do-i-pass-cookies-to-yt-dlp  for how to manually pass cookies\n",
      "[youtube] dVxHa7Cv2a0: Downloading tv embedded player API JSON\n",
      "[youtube] dVxHa7Cv2a0: Downloading web creator player API JSON\n",
      "[info] dVxHa7Cv2a0: Downloading subtitles: en\n"
     ]
    },
    {
     "name": "stderr",
     "output_type": "stream",
     "text": [
      "WARNING: ffmpeg not found. The downloaded format may not be the best available. Installing ffmpeg is strongly recommended: https://github.com/yt-dlp/yt-dlp#dependencies\n"
     ]
    },
    {
     "name": "stdout",
     "output_type": "stream",
     "text": [
      "[youtube] Extracting URL: https://youtube.com/watch?v=C7ROkhm2c5E\n",
      "[youtube] C7ROkhm2c5E: Downloading webpage\n",
      "[youtube] C7ROkhm2c5E: Downloading ios player API JSON\n",
      "[youtube] C7ROkhm2c5E: Downloading web creator player API JSON\n",
      "[youtube] C7ROkhm2c5E: Downloading m3u8 information\n",
      "[info] C7ROkhm2c5E: Downloading subtitles: en\n"
     ]
    },
    {
     "name": "stderr",
     "output_type": "stream",
     "text": [
      "WARNING: ffmpeg not found. The downloaded format may not be the best available. Installing ffmpeg is strongly recommended: https://github.com/yt-dlp/yt-dlp#dependencies\n"
     ]
    },
    {
     "name": "stdout",
     "output_type": "stream",
     "text": [
      "[youtube] Extracting URL: https://youtube.com/watch?v=VWu7zjxvOxg\n",
      "[youtube] VWu7zjxvOxg: Downloading webpage\n",
      "[youtube] VWu7zjxvOxg: Downloading ios player API JSON\n",
      "[youtube] VWu7zjxvOxg: Downloading web creator player API JSON\n",
      "[youtube] VWu7zjxvOxg: Downloading m3u8 information\n",
      "[info] VWu7zjxvOxg: Downloading subtitles: en\n"
     ]
    },
    {
     "name": "stderr",
     "output_type": "stream",
     "text": [
      "WARNING: ffmpeg not found. The downloaded format may not be the best available. Installing ffmpeg is strongly recommended: https://github.com/yt-dlp/yt-dlp#dependencies\n"
     ]
    },
    {
     "name": "stdout",
     "output_type": "stream",
     "text": [
      "[youtube] Extracting URL: https://youtube.com/watch?v=mYVih0Wki4Q\n",
      "[youtube] mYVih0Wki4Q: Downloading webpage\n",
      "[youtube] mYVih0Wki4Q: Downloading ios player API JSON\n",
      "[youtube] mYVih0Wki4Q: Downloading web creator player API JSON\n",
      "[youtube] mYVih0Wki4Q: Downloading m3u8 information\n"
     ]
    },
    {
     "name": "stderr",
     "output_type": "stream",
     "text": [
      "WARNING: ffmpeg not found. The downloaded format may not be the best available. Installing ffmpeg is strongly recommended: https://github.com/yt-dlp/yt-dlp#dependencies\n"
     ]
    },
    {
     "name": "stdout",
     "output_type": "stream",
     "text": [
      "subtitle file not found\n",
      "[youtube] Extracting URL: https://youtube.com/watch?v=qHx5qTp2DhY\n",
      "[youtube] qHx5qTp2DhY: Downloading webpage\n",
      "[youtube] qHx5qTp2DhY: Downloading ios player API JSON\n",
      "[youtube] qHx5qTp2DhY: Downloading web creator player API JSON\n",
      "[youtube] qHx5qTp2DhY: Downloading m3u8 information\n",
      "[info] qHx5qTp2DhY: Downloading subtitles: en\n"
     ]
    },
    {
     "name": "stderr",
     "output_type": "stream",
     "text": [
      "WARNING: ffmpeg not found. The downloaded format may not be the best available. Installing ffmpeg is strongly recommended: https://github.com/yt-dlp/yt-dlp#dependencies\n"
     ]
    },
    {
     "name": "stdout",
     "output_type": "stream",
     "text": [
      "[youtube] Extracting URL: https://youtube.com/watch?v=SvpifAzCMCI\n",
      "[youtube] SvpifAzCMCI: Downloading webpage\n",
      "[youtube] SvpifAzCMCI: Downloading ios player API JSON\n",
      "[youtube] SvpifAzCMCI: Downloading web creator player API JSON\n",
      "[youtube] SvpifAzCMCI: Downloading m3u8 information\n",
      "[info] SvpifAzCMCI: Downloading subtitles: en\n"
     ]
    },
    {
     "name": "stderr",
     "output_type": "stream",
     "text": [
      "WARNING: ffmpeg not found. The downloaded format may not be the best available. Installing ffmpeg is strongly recommended: https://github.com/yt-dlp/yt-dlp#dependencies\n"
     ]
    },
    {
     "name": "stdout",
     "output_type": "stream",
     "text": [
      "[youtube] Extracting URL: https://youtube.com/watch?v=n1LT-Fkx-Io\n",
      "[youtube] n1LT-Fkx-Io: Downloading webpage\n",
      "[youtube] n1LT-Fkx-Io: Downloading ios player API JSON\n",
      "[youtube] n1LT-Fkx-Io: Downloading web creator player API JSON\n",
      "[youtube] n1LT-Fkx-Io: Downloading m3u8 information\n"
     ]
    },
    {
     "name": "stderr",
     "output_type": "stream",
     "text": [
      "WARNING: ffmpeg not found. The downloaded format may not be the best available. Installing ffmpeg is strongly recommended: https://github.com/yt-dlp/yt-dlp#dependencies\n"
     ]
    },
    {
     "name": "stdout",
     "output_type": "stream",
     "text": [
      "subtitle file not found\n",
      "[youtube] Extracting URL: https://youtube.com/watch?v=56hhh0E-wMw\n",
      "[youtube] 56hhh0E-wMw: Downloading webpage\n",
      "[youtube] 56hhh0E-wMw: Downloading ios player API JSON\n",
      "[youtube] 56hhh0E-wMw: Downloading web creator player API JSON\n",
      "[youtube] 56hhh0E-wMw: Downloading m3u8 information\n"
     ]
    },
    {
     "name": "stderr",
     "output_type": "stream",
     "text": [
      "WARNING: ffmpeg not found. The downloaded format may not be the best available. Installing ffmpeg is strongly recommended: https://github.com/yt-dlp/yt-dlp#dependencies\n"
     ]
    },
    {
     "name": "stdout",
     "output_type": "stream",
     "text": [
      "subtitle file not found\n",
      "[youtube] Extracting URL: https://youtube.com/watch?v=JaVjqS6fbBI\n",
      "[youtube] JaVjqS6fbBI: Downloading webpage\n",
      "[youtube] JaVjqS6fbBI: Downloading ios player API JSON\n",
      "[youtube] JaVjqS6fbBI: Downloading web creator player API JSON\n",
      "[youtube] JaVjqS6fbBI: Downloading m3u8 information\n",
      "[info] JaVjqS6fbBI: Downloading subtitles: en\n"
     ]
    },
    {
     "name": "stderr",
     "output_type": "stream",
     "text": [
      "WARNING: ffmpeg not found. The downloaded format may not be the best available. Installing ffmpeg is strongly recommended: https://github.com/yt-dlp/yt-dlp#dependencies\n"
     ]
    },
    {
     "name": "stdout",
     "output_type": "stream",
     "text": [
      "[youtube] Extracting URL: https://youtube.com/watch?v=g2Ntxk_ZQTg\n",
      "[youtube] g2Ntxk_ZQTg: Downloading webpage\n",
      "[youtube] g2Ntxk_ZQTg: Downloading ios player API JSON\n",
      "[youtube] g2Ntxk_ZQTg: Downloading web creator player API JSON\n",
      "[youtube] g2Ntxk_ZQTg: Downloading m3u8 information\n",
      "[info] g2Ntxk_ZQTg: Downloading subtitles: en\n"
     ]
    },
    {
     "name": "stderr",
     "output_type": "stream",
     "text": [
      "WARNING: ffmpeg not found. The downloaded format may not be the best available. Installing ffmpeg is strongly recommended: https://github.com/yt-dlp/yt-dlp#dependencies\n"
     ]
    },
    {
     "name": "stdout",
     "output_type": "stream",
     "text": [
      "[youtube] Extracting URL: https://youtube.com/watch?v=koXBvLert_g\n",
      "[youtube] koXBvLert_g: Downloading webpage\n",
      "[youtube] koXBvLert_g: Downloading ios player API JSON\n",
      "[youtube] koXBvLert_g: Downloading web creator player API JSON\n",
      "[youtube] koXBvLert_g: Downloading m3u8 information\n",
      "[info] koXBvLert_g: Downloading subtitles: en-uYU-mmqFLq8\n"
     ]
    },
    {
     "name": "stderr",
     "output_type": "stream",
     "text": [
      "WARNING: ffmpeg not found. The downloaded format may not be the best available. Installing ffmpeg is strongly recommended: https://github.com/yt-dlp/yt-dlp#dependencies\n"
     ]
    },
    {
     "name": "stdout",
     "output_type": "stream",
     "text": [
      "[youtube] Extracting URL: https://youtube.com/watch?v=QPjz71xR7SM\n",
      "[youtube] QPjz71xR7SM: Downloading webpage\n",
      "[youtube] QPjz71xR7SM: Downloading ios player API JSON\n",
      "[youtube] QPjz71xR7SM: Downloading web creator player API JSON\n",
      "[youtube] QPjz71xR7SM: Downloading m3u8 information\n",
      "[info] QPjz71xR7SM: Downloading subtitles: en\n"
     ]
    },
    {
     "name": "stderr",
     "output_type": "stream",
     "text": [
      "WARNING: ffmpeg not found. The downloaded format may not be the best available. Installing ffmpeg is strongly recommended: https://github.com/yt-dlp/yt-dlp#dependencies\n"
     ]
    },
    {
     "name": "stdout",
     "output_type": "stream",
     "text": [
      "[youtube] Extracting URL: https://youtube.com/watch?v=D-9-A00vMoc\n",
      "[youtube] D-9-A00vMoc: Downloading webpage\n",
      "[youtube] D-9-A00vMoc: Downloading ios player API JSON\n",
      "[youtube] D-9-A00vMoc: Downloading web creator player API JSON\n",
      "[youtube] D-9-A00vMoc: Downloading m3u8 information\n",
      "[info] D-9-A00vMoc: Downloading subtitles: en\n"
     ]
    },
    {
     "name": "stderr",
     "output_type": "stream",
     "text": [
      "WARNING: ffmpeg not found. The downloaded format may not be the best available. Installing ffmpeg is strongly recommended: https://github.com/yt-dlp/yt-dlp#dependencies\n"
     ]
    },
    {
     "name": "stdout",
     "output_type": "stream",
     "text": [
      "[youtube] Extracting URL: https://youtube.com/watch?v=A2S4Vi4F348\n",
      "[youtube] A2S4Vi4F348: Downloading webpage\n",
      "[youtube] A2S4Vi4F348: Downloading ios player API JSON\n",
      "[youtube] A2S4Vi4F348: Downloading web creator player API JSON\n",
      "[youtube] A2S4Vi4F348: Downloading m3u8 information\n",
      "[info] A2S4Vi4F348: Downloading subtitles: en\n"
     ]
    },
    {
     "name": "stderr",
     "output_type": "stream",
     "text": [
      "WARNING: ffmpeg not found. The downloaded format may not be the best available. Installing ffmpeg is strongly recommended: https://github.com/yt-dlp/yt-dlp#dependencies\n"
     ]
    },
    {
     "name": "stdout",
     "output_type": "stream",
     "text": [
      "[youtube] Extracting URL: https://youtube.com/watch?v=satjcD2BGcQ\n",
      "[youtube] satjcD2BGcQ: Downloading webpage\n",
      "[youtube] satjcD2BGcQ: Downloading ios player API JSON\n",
      "[youtube] satjcD2BGcQ: Downloading web creator player API JSON\n",
      "[youtube] satjcD2BGcQ: Downloading m3u8 information\n"
     ]
    },
    {
     "name": "stderr",
     "output_type": "stream",
     "text": [
      "WARNING: ffmpeg not found. The downloaded format may not be the best available. Installing ffmpeg is strongly recommended: https://github.com/yt-dlp/yt-dlp#dependencies\n"
     ]
    },
    {
     "name": "stdout",
     "output_type": "stream",
     "text": [
      "subtitle file not found\n",
      "[youtube] Extracting URL: https://youtube.com/watch?v=WA_LUFCj5LQ\n",
      "[youtube] WA_LUFCj5LQ: Downloading webpage\n",
      "[youtube] WA_LUFCj5LQ: Downloading ios player API JSON\n",
      "[youtube] WA_LUFCj5LQ: Downloading web creator player API JSON\n",
      "[youtube] WA_LUFCj5LQ: Downloading m3u8 information\n",
      "[info] WA_LUFCj5LQ: Downloading subtitles: en\n"
     ]
    },
    {
     "name": "stderr",
     "output_type": "stream",
     "text": [
      "WARNING: ffmpeg not found. The downloaded format may not be the best available. Installing ffmpeg is strongly recommended: https://github.com/yt-dlp/yt-dlp#dependencies\n"
     ]
    },
    {
     "name": "stdout",
     "output_type": "stream",
     "text": [
      "[youtube] Extracting URL: https://youtube.com/watch?v=zGo5-FEKjkQ\n",
      "[youtube] zGo5-FEKjkQ: Downloading webpage\n",
      "[youtube] zGo5-FEKjkQ: Downloading ios player API JSON\n",
      "[youtube] zGo5-FEKjkQ: Downloading web creator player API JSON\n",
      "[youtube] zGo5-FEKjkQ: Downloading m3u8 information\n"
     ]
    },
    {
     "name": "stderr",
     "output_type": "stream",
     "text": [
      "WARNING: ffmpeg not found. The downloaded format may not be the best available. Installing ffmpeg is strongly recommended: https://github.com/yt-dlp/yt-dlp#dependencies\n"
     ]
    },
    {
     "name": "stdout",
     "output_type": "stream",
     "text": [
      "subtitle file not found\n",
      "[youtube] Extracting URL: https://youtube.com/watch?v=3PntaOSdyto\n",
      "[youtube] 3PntaOSdyto: Downloading webpage\n",
      "[youtube] 3PntaOSdyto: Downloading ios player API JSON\n",
      "[youtube] 3PntaOSdyto: Downloading web creator player API JSON\n",
      "[youtube] 3PntaOSdyto: Downloading m3u8 information\n",
      "[info] 3PntaOSdyto: Downloading subtitles: en\n"
     ]
    },
    {
     "name": "stderr",
     "output_type": "stream",
     "text": [
      "WARNING: ffmpeg not found. The downloaded format may not be the best available. Installing ffmpeg is strongly recommended: https://github.com/yt-dlp/yt-dlp#dependencies\n"
     ]
    },
    {
     "name": "stdout",
     "output_type": "stream",
     "text": [
      "[youtube] Extracting URL: https://youtube.com/watch?v=ViGf_NojEWg\n",
      "[youtube] ViGf_NojEWg: Downloading webpage\n",
      "[youtube] ViGf_NojEWg: Downloading ios player API JSON\n",
      "[youtube] ViGf_NojEWg: Downloading web creator player API JSON\n",
      "[youtube] ViGf_NojEWg: Downloading m3u8 information\n",
      "[info] ViGf_NojEWg: Downloading subtitles: en\n"
     ]
    },
    {
     "name": "stderr",
     "output_type": "stream",
     "text": [
      "WARNING: ffmpeg not found. The downloaded format may not be the best available. Installing ffmpeg is strongly recommended: https://github.com/yt-dlp/yt-dlp#dependencies\n"
     ]
    },
    {
     "name": "stdout",
     "output_type": "stream",
     "text": [
      "[youtube] Extracting URL: https://youtube.com/watch?v=g21TVxor7iE\n",
      "[youtube] g21TVxor7iE: Downloading webpage\n",
      "[youtube] g21TVxor7iE: Downloading ios player API JSON\n",
      "[youtube] g21TVxor7iE: This video is age-restricted; some formats may be missing without authentication. Use --cookies-from-browser or --cookies for the authentication. See  https://github.com/yt-dlp/yt-dlp/wiki/FAQ#how-do-i-pass-cookies-to-yt-dlp  for how to manually pass cookies\n",
      "[youtube] g21TVxor7iE: Downloading tv embedded player API JSON\n",
      "[youtube] g21TVxor7iE: Downloading web creator player API JSON\n",
      "[info] g21TVxor7iE: Downloading subtitles: en-uYU-mmqFLq8\n"
     ]
    },
    {
     "name": "stderr",
     "output_type": "stream",
     "text": [
      "WARNING: ffmpeg not found. The downloaded format may not be the best available. Installing ffmpeg is strongly recommended: https://github.com/yt-dlp/yt-dlp#dependencies\n"
     ]
    },
    {
     "name": "stdout",
     "output_type": "stream",
     "text": [
      "[youtube] Extracting URL: https://youtube.com/watch?v=mc6MIsq2voU\n",
      "[youtube] mc6MIsq2voU: Downloading webpage\n",
      "[youtube] mc6MIsq2voU: Downloading ios player API JSON\n",
      "[youtube] mc6MIsq2voU: Downloading web creator player API JSON\n",
      "[youtube] mc6MIsq2voU: Downloading m3u8 information\n"
     ]
    },
    {
     "name": "stderr",
     "output_type": "stream",
     "text": [
      "WARNING: ffmpeg not found. The downloaded format may not be the best available. Installing ffmpeg is strongly recommended: https://github.com/yt-dlp/yt-dlp#dependencies\n"
     ]
    },
    {
     "name": "stdout",
     "output_type": "stream",
     "text": [
      "subtitle file not found\n",
      "[youtube] Extracting URL: https://youtube.com/watch?v=sScDHHNaHjI\n",
      "[youtube] sScDHHNaHjI: Downloading webpage\n",
      "[youtube] sScDHHNaHjI: Downloading ios player API JSON\n",
      "[youtube] sScDHHNaHjI: Downloading web creator player API JSON\n",
      "[youtube] sScDHHNaHjI: Downloading m3u8 information\n",
      "[info] sScDHHNaHjI: Downloading subtitles: en\n"
     ]
    },
    {
     "name": "stderr",
     "output_type": "stream",
     "text": [
      "WARNING: ffmpeg not found. The downloaded format may not be the best available. Installing ffmpeg is strongly recommended: https://github.com/yt-dlp/yt-dlp#dependencies\n"
     ]
    },
    {
     "name": "stdout",
     "output_type": "stream",
     "text": [
      "[youtube] Extracting URL: https://youtube.com/watch?v=aoOW0msPdOo\n",
      "[youtube] aoOW0msPdOo: Downloading webpage\n",
      "[youtube] aoOW0msPdOo: Downloading ios player API JSON\n",
      "[youtube] aoOW0msPdOo: Downloading web creator player API JSON\n",
      "[youtube] aoOW0msPdOo: Downloading m3u8 information\n"
     ]
    },
    {
     "name": "stderr",
     "output_type": "stream",
     "text": [
      "WARNING: ffmpeg not found. The downloaded format may not be the best available. Installing ffmpeg is strongly recommended: https://github.com/yt-dlp/yt-dlp#dependencies\n"
     ]
    },
    {
     "name": "stdout",
     "output_type": "stream",
     "text": [
      "subtitle file not found\n",
      "[youtube] Extracting URL: https://youtube.com/watch?v=Cyp03W2SXyc\n",
      "[youtube] Cyp03W2SXyc: Downloading webpage\n",
      "[youtube] Cyp03W2SXyc: Downloading ios player API JSON\n",
      "[youtube] Cyp03W2SXyc: Downloading web creator player API JSON\n",
      "[youtube] Cyp03W2SXyc: Downloading m3u8 information\n",
      "[info] Cyp03W2SXyc: Downloading subtitles: en\n"
     ]
    },
    {
     "name": "stderr",
     "output_type": "stream",
     "text": [
      "WARNING: ffmpeg not found. The downloaded format may not be the best available. Installing ffmpeg is strongly recommended: https://github.com/yt-dlp/yt-dlp#dependencies\n"
     ]
    },
    {
     "name": "stdout",
     "output_type": "stream",
     "text": [
      "[youtube] Extracting URL: https://youtube.com/watch?v=C5Rv6c3NP3s\n",
      "[youtube] C5Rv6c3NP3s: Downloading webpage\n",
      "[youtube] C5Rv6c3NP3s: Downloading ios player API JSON\n",
      "[youtube] C5Rv6c3NP3s: Downloading web creator player API JSON\n",
      "[youtube] C5Rv6c3NP3s: Downloading m3u8 information\n",
      "[info] C5Rv6c3NP3s: Downloading subtitles: en\n"
     ]
    },
    {
     "name": "stderr",
     "output_type": "stream",
     "text": [
      "WARNING: ffmpeg not found. The downloaded format may not be the best available. Installing ffmpeg is strongly recommended: https://github.com/yt-dlp/yt-dlp#dependencies\n"
     ]
    },
    {
     "name": "stdout",
     "output_type": "stream",
     "text": [
      "[youtube] Extracting URL: https://youtube.com/watch?v=0upJacn86cA\n",
      "[youtube] 0upJacn86cA: Downloading webpage\n",
      "[youtube] 0upJacn86cA: Downloading ios player API JSON\n",
      "[youtube] 0upJacn86cA: This video is age-restricted; some formats may be missing without authentication. Use --cookies-from-browser or --cookies for the authentication. See  https://github.com/yt-dlp/yt-dlp/wiki/FAQ#how-do-i-pass-cookies-to-yt-dlp  for how to manually pass cookies\n",
      "[youtube] 0upJacn86cA: Downloading tv embedded player API JSON\n",
      "[youtube] 0upJacn86cA: Downloading web creator player API JSON\n",
      "[info] 0upJacn86cA: Downloading subtitles: en-uYU-mmqFLq8\n"
     ]
    },
    {
     "name": "stderr",
     "output_type": "stream",
     "text": [
      "WARNING: ffmpeg not found. The downloaded format may not be the best available. Installing ffmpeg is strongly recommended: https://github.com/yt-dlp/yt-dlp#dependencies\n"
     ]
    },
    {
     "name": "stdout",
     "output_type": "stream",
     "text": [
      "[youtube] Extracting URL: https://youtube.com/watch?v=3fMALiXAduU\n",
      "[youtube] 3fMALiXAduU: Downloading webpage\n",
      "[youtube] 3fMALiXAduU: Downloading ios player API JSON\n",
      "[youtube] 3fMALiXAduU: Downloading web creator player API JSON\n",
      "[youtube] 3fMALiXAduU: Downloading m3u8 information\n",
      "[info] 3fMALiXAduU: Downloading subtitles: en\n"
     ]
    },
    {
     "name": "stderr",
     "output_type": "stream",
     "text": [
      "WARNING: ffmpeg not found. The downloaded format may not be the best available. Installing ffmpeg is strongly recommended: https://github.com/yt-dlp/yt-dlp#dependencies\n"
     ]
    },
    {
     "name": "stdout",
     "output_type": "stream",
     "text": [
      "[youtube] Extracting URL: https://youtube.com/watch?v=VlQiCdqFURM\n",
      "[youtube] VlQiCdqFURM: Downloading webpage\n",
      "[youtube] VlQiCdqFURM: Downloading ios player API JSON\n",
      "[youtube] VlQiCdqFURM: Downloading web creator player API JSON\n",
      "[youtube] VlQiCdqFURM: Downloading m3u8 information\n",
      "[info] VlQiCdqFURM: Downloading subtitles: en\n"
     ]
    },
    {
     "name": "stderr",
     "output_type": "stream",
     "text": [
      "WARNING: ffmpeg not found. The downloaded format may not be the best available. Installing ffmpeg is strongly recommended: https://github.com/yt-dlp/yt-dlp#dependencies\n"
     ]
    },
    {
     "name": "stdout",
     "output_type": "stream",
     "text": [
      "[youtube] Extracting URL: https://youtube.com/watch?v=IfWjwKl-CA8\n",
      "[youtube] IfWjwKl-CA8: Downloading webpage\n",
      "[youtube] IfWjwKl-CA8: Downloading ios player API JSON\n",
      "[youtube] IfWjwKl-CA8: Downloading web creator player API JSON\n",
      "[youtube] IfWjwKl-CA8: Downloading m3u8 information\n",
      "[info] IfWjwKl-CA8: Downloading subtitles: en\n"
     ]
    },
    {
     "name": "stderr",
     "output_type": "stream",
     "text": [
      "WARNING: ffmpeg not found. The downloaded format may not be the best available. Installing ffmpeg is strongly recommended: https://github.com/yt-dlp/yt-dlp#dependencies\n"
     ]
    },
    {
     "name": "stdout",
     "output_type": "stream",
     "text": [
      "[youtube] Extracting URL: https://youtube.com/watch?v=EtAz61fKLeg\n",
      "[youtube] EtAz61fKLeg: Downloading webpage\n",
      "[youtube] EtAz61fKLeg: Downloading ios player API JSON\n",
      "[youtube] EtAz61fKLeg: Downloading web creator player API JSON\n",
      "[youtube] EtAz61fKLeg: Downloading m3u8 information\n",
      "[info] EtAz61fKLeg: Downloading subtitles: en\n"
     ]
    },
    {
     "name": "stderr",
     "output_type": "stream",
     "text": [
      "WARNING: ffmpeg not found. The downloaded format may not be the best available. Installing ffmpeg is strongly recommended: https://github.com/yt-dlp/yt-dlp#dependencies\n"
     ]
    },
    {
     "name": "stdout",
     "output_type": "stream",
     "text": [
      "[youtube] Extracting URL: https://youtube.com/watch?v=rs_hCX_JmyM\n",
      "[youtube] rs_hCX_JmyM: Downloading webpage\n",
      "[youtube] rs_hCX_JmyM: Downloading ios player API JSON\n",
      "[youtube] rs_hCX_JmyM: Downloading web creator player API JSON\n",
      "[youtube] rs_hCX_JmyM: Downloading m3u8 information\n",
      "[info] rs_hCX_JmyM: Downloading subtitles: en\n"
     ]
    },
    {
     "name": "stderr",
     "output_type": "stream",
     "text": [
      "WARNING: ffmpeg not found. The downloaded format may not be the best available. Installing ffmpeg is strongly recommended: https://github.com/yt-dlp/yt-dlp#dependencies\n"
     ]
    },
    {
     "name": "stdout",
     "output_type": "stream",
     "text": [
      "[youtube] Extracting URL: https://youtube.com/watch?v=gTgMZmSdkHY\n",
      "[youtube] gTgMZmSdkHY: Downloading webpage\n",
      "[youtube] gTgMZmSdkHY: Downloading ios player API JSON\n",
      "[youtube] gTgMZmSdkHY: Downloading web creator player API JSON\n",
      "[youtube] gTgMZmSdkHY: Downloading m3u8 information\n",
      "[info] gTgMZmSdkHY: Downloading subtitles: en\n"
     ]
    },
    {
     "name": "stderr",
     "output_type": "stream",
     "text": [
      "WARNING: ffmpeg not found. The downloaded format may not be the best available. Installing ffmpeg is strongly recommended: https://github.com/yt-dlp/yt-dlp#dependencies\n"
     ]
    },
    {
     "name": "stdout",
     "output_type": "stream",
     "text": [
      "[youtube] Extracting URL: https://youtube.com/watch?v=2FHmHpe2P6o\n",
      "[youtube] 2FHmHpe2P6o: Downloading webpage\n",
      "[youtube] 2FHmHpe2P6o: Downloading ios player API JSON\n",
      "[youtube] 2FHmHpe2P6o: Downloading web creator player API JSON\n",
      "[youtube] 2FHmHpe2P6o: Downloading m3u8 information\n",
      "[info] 2FHmHpe2P6o: Downloading subtitles: en\n"
     ]
    },
    {
     "name": "stderr",
     "output_type": "stream",
     "text": [
      "WARNING: ffmpeg not found. The downloaded format may not be the best available. Installing ffmpeg is strongly recommended: https://github.com/yt-dlp/yt-dlp#dependencies\n"
     ]
    },
    {
     "name": "stdout",
     "output_type": "stream",
     "text": [
      "[youtube] Extracting URL: https://youtube.com/watch?v=GI0810gD6Eg\n",
      "[youtube] GI0810gD6Eg: Downloading webpage\n",
      "[youtube] GI0810gD6Eg: Downloading ios player API JSON\n",
      "[youtube] GI0810gD6Eg: Downloading web creator player API JSON\n",
      "[youtube] GI0810gD6Eg: Downloading m3u8 information\n",
      "[info] GI0810gD6Eg: Downloading subtitles: en\n"
     ]
    },
    {
     "name": "stderr",
     "output_type": "stream",
     "text": [
      "WARNING: ffmpeg not found. The downloaded format may not be the best available. Installing ffmpeg is strongly recommended: https://github.com/yt-dlp/yt-dlp#dependencies\n"
     ]
    },
    {
     "name": "stdout",
     "output_type": "stream",
     "text": [
      "[youtube] Extracting URL: https://youtube.com/watch?v=GoRBO7Hu9KM\n",
      "[youtube] GoRBO7Hu9KM: Downloading webpage\n",
      "[youtube] GoRBO7Hu9KM: Downloading ios player API JSON\n",
      "[youtube] GoRBO7Hu9KM: Downloading web creator player API JSON\n",
      "[youtube] GoRBO7Hu9KM: Downloading m3u8 information\n",
      "[info] GoRBO7Hu9KM: Downloading subtitles: en\n"
     ]
    },
    {
     "name": "stderr",
     "output_type": "stream",
     "text": [
      "WARNING: ffmpeg not found. The downloaded format may not be the best available. Installing ffmpeg is strongly recommended: https://github.com/yt-dlp/yt-dlp#dependencies\n"
     ]
    },
    {
     "name": "stdout",
     "output_type": "stream",
     "text": [
      "[youtube] Extracting URL: https://youtube.com/watch?v=71K-V7Du_FE\n",
      "[youtube] 71K-V7Du_FE: Downloading webpage\n",
      "[youtube] 71K-V7Du_FE: Downloading ios player API JSON\n",
      "[youtube] 71K-V7Du_FE: Downloading web creator player API JSON\n",
      "[youtube] 71K-V7Du_FE: Downloading m3u8 information\n",
      "[info] 71K-V7Du_FE: Downloading subtitles: en\n"
     ]
    },
    {
     "name": "stderr",
     "output_type": "stream",
     "text": [
      "WARNING: ffmpeg not found. The downloaded format may not be the best available. Installing ffmpeg is strongly recommended: https://github.com/yt-dlp/yt-dlp#dependencies\n"
     ]
    },
    {
     "name": "stdout",
     "output_type": "stream",
     "text": [
      "[youtube] Extracting URL: https://youtube.com/watch?v=s5H3HFGlGcg\n",
      "[youtube] s5H3HFGlGcg: Downloading webpage\n",
      "[youtube] s5H3HFGlGcg: Downloading ios player API JSON\n",
      "[youtube] s5H3HFGlGcg: Downloading web creator player API JSON\n",
      "[youtube] s5H3HFGlGcg: Downloading m3u8 information\n",
      "[info] s5H3HFGlGcg: Downloading subtitles: en\n"
     ]
    },
    {
     "name": "stderr",
     "output_type": "stream",
     "text": [
      "WARNING: ffmpeg not found. The downloaded format may not be the best available. Installing ffmpeg is strongly recommended: https://github.com/yt-dlp/yt-dlp#dependencies\n"
     ]
    },
    {
     "name": "stdout",
     "output_type": "stream",
     "text": [
      "[youtube] Extracting URL: https://youtube.com/watch?v=QWYcX3zRbvg\n",
      "[youtube] QWYcX3zRbvg: Downloading webpage\n",
      "[youtube] QWYcX3zRbvg: Downloading ios player API JSON\n",
      "[youtube] QWYcX3zRbvg: Downloading web creator player API JSON\n",
      "[youtube] QWYcX3zRbvg: Downloading m3u8 information\n",
      "[info] QWYcX3zRbvg: Downloading subtitles: en-uYU-mmqFLq8\n"
     ]
    },
    {
     "name": "stderr",
     "output_type": "stream",
     "text": [
      "WARNING: ffmpeg not found. The downloaded format may not be the best available. Installing ffmpeg is strongly recommended: https://github.com/yt-dlp/yt-dlp#dependencies\n"
     ]
    },
    {
     "name": "stdout",
     "output_type": "stream",
     "text": [
      "[youtube] Extracting URL: https://youtube.com/watch?v=0oM8p96ZFNg\n",
      "[youtube] 0oM8p96ZFNg: Downloading webpage\n",
      "[youtube] 0oM8p96ZFNg: Downloading ios player API JSON\n",
      "[youtube] 0oM8p96ZFNg: Downloading web creator player API JSON\n",
      "[youtube] 0oM8p96ZFNg: Downloading m3u8 information\n",
      "[info] 0oM8p96ZFNg: Downloading subtitles: en\n"
     ]
    },
    {
     "name": "stderr",
     "output_type": "stream",
     "text": [
      "WARNING: ffmpeg not found. The downloaded format may not be the best available. Installing ffmpeg is strongly recommended: https://github.com/yt-dlp/yt-dlp#dependencies\n"
     ]
    },
    {
     "name": "stdout",
     "output_type": "stream",
     "text": [
      "[youtube] Extracting URL: https://youtube.com/watch?v=EVfgDwiGIW0\n",
      "[youtube] EVfgDwiGIW0: Downloading webpage\n",
      "[youtube] EVfgDwiGIW0: Downloading ios player API JSON\n",
      "[youtube] EVfgDwiGIW0: Downloading web creator player API JSON\n",
      "[youtube] EVfgDwiGIW0: Downloading m3u8 information\n"
     ]
    },
    {
     "name": "stderr",
     "output_type": "stream",
     "text": [
      "WARNING: ffmpeg not found. The downloaded format may not be the best available. Installing ffmpeg is strongly recommended: https://github.com/yt-dlp/yt-dlp#dependencies\n"
     ]
    },
    {
     "name": "stdout",
     "output_type": "stream",
     "text": [
      "subtitle file not found\n",
      "[youtube] Extracting URL: https://youtube.com/watch?v=9LVVrfvv9BM\n",
      "[youtube] 9LVVrfvv9BM: Downloading webpage\n",
      "[youtube] 9LVVrfvv9BM: Downloading ios player API JSON\n",
      "[youtube] 9LVVrfvv9BM: Downloading web creator player API JSON\n",
      "[youtube] 9LVVrfvv9BM: Downloading m3u8 information\n",
      "[info] 9LVVrfvv9BM: Downloading subtitles: en\n"
     ]
    },
    {
     "name": "stderr",
     "output_type": "stream",
     "text": [
      "WARNING: ffmpeg not found. The downloaded format may not be the best available. Installing ffmpeg is strongly recommended: https://github.com/yt-dlp/yt-dlp#dependencies\n"
     ]
    },
    {
     "name": "stdout",
     "output_type": "stream",
     "text": [
      "[youtube] Extracting URL: https://youtube.com/watch?v=ss0ASA9mcQ8\n",
      "[youtube] ss0ASA9mcQ8: Downloading webpage\n",
      "[youtube] ss0ASA9mcQ8: Downloading ios player API JSON\n",
      "[youtube] ss0ASA9mcQ8: Downloading web creator player API JSON\n",
      "[youtube] ss0ASA9mcQ8: Downloading m3u8 information\n",
      "[info] ss0ASA9mcQ8: Downloading subtitles: en\n"
     ]
    },
    {
     "name": "stderr",
     "output_type": "stream",
     "text": [
      "WARNING: ffmpeg not found. The downloaded format may not be the best available. Installing ffmpeg is strongly recommended: https://github.com/yt-dlp/yt-dlp#dependencies\n"
     ]
    },
    {
     "name": "stdout",
     "output_type": "stream",
     "text": [
      "[youtube] Extracting URL: https://youtube.com/watch?v=AlLZ07tIOxU\n",
      "[youtube] AlLZ07tIOxU: Downloading webpage\n",
      "[youtube] AlLZ07tIOxU: Downloading ios player API JSON\n",
      "[youtube] AlLZ07tIOxU: Downloading web creator player API JSON\n",
      "[youtube] AlLZ07tIOxU: Downloading m3u8 information\n",
      "[info] AlLZ07tIOxU: Downloading subtitles: en-uYU-mmqFLq8\n"
     ]
    },
    {
     "name": "stderr",
     "output_type": "stream",
     "text": [
      "WARNING: ffmpeg not found. The downloaded format may not be the best available. Installing ffmpeg is strongly recommended: https://github.com/yt-dlp/yt-dlp#dependencies\n"
     ]
    },
    {
     "name": "stdout",
     "output_type": "stream",
     "text": [
      "[youtube] Extracting URL: https://youtube.com/watch?v=-81vCffWq6k\n",
      "[youtube] -81vCffWq6k: Downloading webpage\n",
      "[youtube] -81vCffWq6k: Downloading ios player API JSON\n",
      "[youtube] -81vCffWq6k: Downloading web creator player API JSON\n",
      "[youtube] -81vCffWq6k: Downloading m3u8 information\n",
      "[info] -81vCffWq6k: Downloading subtitles: en-uYU-mmqFLq8\n"
     ]
    },
    {
     "name": "stderr",
     "output_type": "stream",
     "text": [
      "WARNING: ffmpeg not found. The downloaded format may not be the best available. Installing ffmpeg is strongly recommended: https://github.com/yt-dlp/yt-dlp#dependencies\n"
     ]
    },
    {
     "name": "stdout",
     "output_type": "stream",
     "text": [
      "[youtube] Extracting URL: https://youtube.com/watch?v=2ik5X1pVQYg\n",
      "[youtube] 2ik5X1pVQYg: Downloading webpage\n",
      "[youtube] 2ik5X1pVQYg: Downloading ios player API JSON\n",
      "[youtube] 2ik5X1pVQYg: This video is age-restricted; some formats may be missing without authentication. Use --cookies-from-browser or --cookies for the authentication. See  https://github.com/yt-dlp/yt-dlp/wiki/FAQ#how-do-i-pass-cookies-to-yt-dlp  for how to manually pass cookies\n",
      "[youtube] 2ik5X1pVQYg: Downloading tv embedded player API JSON\n",
      "[youtube] 2ik5X1pVQYg: Downloading web creator player API JSON\n",
      "[info] 2ik5X1pVQYg: Downloading subtitles: en\n"
     ]
    },
    {
     "name": "stderr",
     "output_type": "stream",
     "text": [
      "WARNING: ffmpeg not found. The downloaded format may not be the best available. Installing ffmpeg is strongly recommended: https://github.com/yt-dlp/yt-dlp#dependencies\n"
     ]
    },
    {
     "name": "stdout",
     "output_type": "stream",
     "text": [
      "[youtube] Extracting URL: https://youtube.com/watch?v=RYtxWLVwH_Q\n",
      "[youtube] RYtxWLVwH_Q: Downloading webpage\n",
      "[youtube] RYtxWLVwH_Q: Downloading ios player API JSON\n",
      "[youtube] RYtxWLVwH_Q: Downloading web creator player API JSON\n",
      "[youtube] RYtxWLVwH_Q: Downloading m3u8 information\n",
      "[info] RYtxWLVwH_Q: Downloading subtitles: en\n"
     ]
    },
    {
     "name": "stderr",
     "output_type": "stream",
     "text": [
      "WARNING: ffmpeg not found. The downloaded format may not be the best available. Installing ffmpeg is strongly recommended: https://github.com/yt-dlp/yt-dlp#dependencies\n"
     ]
    },
    {
     "name": "stdout",
     "output_type": "stream",
     "text": [
      "[youtube] Extracting URL: https://youtube.com/watch?v=qGFzeKG3_r4\n",
      "[youtube] qGFzeKG3_r4: Downloading webpage\n",
      "[youtube] qGFzeKG3_r4: Downloading ios player API JSON\n",
      "[youtube] qGFzeKG3_r4: Downloading web creator player API JSON\n",
      "[youtube] qGFzeKG3_r4: Downloading m3u8 information\n",
      "[info] qGFzeKG3_r4: Downloading subtitles: en\n"
     ]
    },
    {
     "name": "stderr",
     "output_type": "stream",
     "text": [
      "WARNING: ffmpeg not found. The downloaded format may not be the best available. Installing ffmpeg is strongly recommended: https://github.com/yt-dlp/yt-dlp#dependencies\n"
     ]
    },
    {
     "name": "stdout",
     "output_type": "stream",
     "text": [
      "[youtube] Extracting URL: https://youtube.com/watch?v=1wfmV0qOQow\n",
      "[youtube] 1wfmV0qOQow: Downloading webpage\n",
      "[youtube] 1wfmV0qOQow: Downloading ios player API JSON\n",
      "[youtube] 1wfmV0qOQow: Downloading web creator player API JSON\n",
      "[youtube] 1wfmV0qOQow: Downloading m3u8 information\n",
      "[info] 1wfmV0qOQow: Downloading subtitles: en\n"
     ]
    },
    {
     "name": "stderr",
     "output_type": "stream",
     "text": [
      "WARNING: ffmpeg not found. The downloaded format may not be the best available. Installing ffmpeg is strongly recommended: https://github.com/yt-dlp/yt-dlp#dependencies\n"
     ]
    },
    {
     "name": "stdout",
     "output_type": "stream",
     "text": [
      "[youtube] Extracting URL: https://youtube.com/watch?v=8pPYC_cc9DY\n",
      "[youtube] 8pPYC_cc9DY: Downloading webpage\n",
      "[youtube] 8pPYC_cc9DY: Downloading ios player API JSON\n",
      "[youtube] 8pPYC_cc9DY: Downloading web creator player API JSON\n",
      "[youtube] 8pPYC_cc9DY: Downloading m3u8 information\n"
     ]
    },
    {
     "name": "stderr",
     "output_type": "stream",
     "text": [
      "WARNING: ffmpeg not found. The downloaded format may not be the best available. Installing ffmpeg is strongly recommended: https://github.com/yt-dlp/yt-dlp#dependencies\n"
     ]
    },
    {
     "name": "stdout",
     "output_type": "stream",
     "text": [
      "subtitle file not found\n",
      "[youtube] Extracting URL: https://youtube.com/watch?v=hg4m7bnDl0s\n",
      "[youtube] hg4m7bnDl0s: Downloading webpage\n",
      "[youtube] hg4m7bnDl0s: Downloading ios player API JSON\n",
      "[youtube] hg4m7bnDl0s: Downloading web creator player API JSON\n",
      "[youtube] hg4m7bnDl0s: Downloading m3u8 information\n",
      "[info] hg4m7bnDl0s: Downloading subtitles: en\n"
     ]
    },
    {
     "name": "stderr",
     "output_type": "stream",
     "text": [
      "WARNING: ffmpeg not found. The downloaded format may not be the best available. Installing ffmpeg is strongly recommended: https://github.com/yt-dlp/yt-dlp#dependencies\n"
     ]
    },
    {
     "name": "stdout",
     "output_type": "stream",
     "text": [
      "[youtube] Extracting URL: https://youtube.com/watch?v=aKGBsmYXtFQ\n",
      "[youtube] aKGBsmYXtFQ: Downloading webpage\n",
      "[youtube] aKGBsmYXtFQ: Downloading ios player API JSON\n",
      "[youtube] aKGBsmYXtFQ: Downloading web creator player API JSON\n",
      "[youtube] aKGBsmYXtFQ: Downloading m3u8 information\n",
      "[info] aKGBsmYXtFQ: Downloading subtitles: en\n"
     ]
    },
    {
     "name": "stderr",
     "output_type": "stream",
     "text": [
      "WARNING: ffmpeg not found. The downloaded format may not be the best available. Installing ffmpeg is strongly recommended: https://github.com/yt-dlp/yt-dlp#dependencies\n"
     ]
    },
    {
     "name": "stdout",
     "output_type": "stream",
     "text": [
      "[youtube] Extracting URL: https://youtube.com/watch?v=zMBuo3RAiVk\n",
      "[youtube] zMBuo3RAiVk: Downloading webpage\n",
      "[youtube] zMBuo3RAiVk: Downloading ios player API JSON\n",
      "[youtube] zMBuo3RAiVk: This video is age-restricted; some formats may be missing without authentication. Use --cookies-from-browser or --cookies for the authentication. See  https://github.com/yt-dlp/yt-dlp/wiki/FAQ#how-do-i-pass-cookies-to-yt-dlp  for how to manually pass cookies\n",
      "[youtube] zMBuo3RAiVk: Downloading tv embedded player API JSON\n",
      "[youtube] zMBuo3RAiVk: Downloading web creator player API JSON\n"
     ]
    },
    {
     "name": "stderr",
     "output_type": "stream",
     "text": [
      "WARNING: ffmpeg not found. The downloaded format may not be the best available. Installing ffmpeg is strongly recommended: https://github.com/yt-dlp/yt-dlp#dependencies\n"
     ]
    },
    {
     "name": "stdout",
     "output_type": "stream",
     "text": [
      "subtitle file not found\n",
      "[youtube] Extracting URL: https://youtube.com/watch?v=Bvxi-BxPNFk\n",
      "[youtube] Bvxi-BxPNFk: Downloading webpage\n",
      "[youtube] Bvxi-BxPNFk: Downloading ios player API JSON\n",
      "[youtube] Bvxi-BxPNFk: Downloading web creator player API JSON\n",
      "[youtube] Bvxi-BxPNFk: Downloading m3u8 information\n",
      "[info] Bvxi-BxPNFk: Downloading subtitles: en\n"
     ]
    },
    {
     "name": "stderr",
     "output_type": "stream",
     "text": [
      "WARNING: ffmpeg not found. The downloaded format may not be the best available. Installing ffmpeg is strongly recommended: https://github.com/yt-dlp/yt-dlp#dependencies\n"
     ]
    },
    {
     "name": "stdout",
     "output_type": "stream",
     "text": [
      "[youtube] Extracting URL: https://youtube.com/watch?v=R-KUt4Pp_-M\n",
      "[youtube] R-KUt4Pp_-M: Downloading webpage\n",
      "[youtube] R-KUt4Pp_-M: Downloading ios player API JSON\n",
      "[youtube] R-KUt4Pp_-M: This video is age-restricted; some formats may be missing without authentication. Use --cookies-from-browser or --cookies for the authentication. See  https://github.com/yt-dlp/yt-dlp/wiki/FAQ#how-do-i-pass-cookies-to-yt-dlp  for how to manually pass cookies\n",
      "[youtube] R-KUt4Pp_-M: Downloading tv embedded player API JSON\n",
      "[youtube] R-KUt4Pp_-M: Downloading web creator player API JSON\n",
      "[info] R-KUt4Pp_-M: Downloading subtitles: en\n"
     ]
    },
    {
     "name": "stderr",
     "output_type": "stream",
     "text": [
      "WARNING: ffmpeg not found. The downloaded format may not be the best available. Installing ffmpeg is strongly recommended: https://github.com/yt-dlp/yt-dlp#dependencies\n"
     ]
    },
    {
     "name": "stdout",
     "output_type": "stream",
     "text": [
      "[youtube] Extracting URL: https://youtube.com/watch?v=THV_OuzC9jM\n",
      "[youtube] THV_OuzC9jM: Downloading webpage\n",
      "[youtube] THV_OuzC9jM: Downloading ios player API JSON\n",
      "[youtube] THV_OuzC9jM: Downloading web creator player API JSON\n",
      "[youtube] THV_OuzC9jM: Downloading m3u8 information\n",
      "[info] THV_OuzC9jM: Downloading subtitles: en\n"
     ]
    },
    {
     "name": "stderr",
     "output_type": "stream",
     "text": [
      "WARNING: ffmpeg not found. The downloaded format may not be the best available. Installing ffmpeg is strongly recommended: https://github.com/yt-dlp/yt-dlp#dependencies\n"
     ]
    },
    {
     "name": "stdout",
     "output_type": "stream",
     "text": [
      "[youtube] Extracting URL: https://youtube.com/watch?v=zW76wr0SA3E\n",
      "[youtube] zW76wr0SA3E: Downloading webpage\n",
      "[youtube] zW76wr0SA3E: Downloading ios player API JSON\n",
      "[youtube] zW76wr0SA3E: Downloading web creator player API JSON\n",
      "[youtube] zW76wr0SA3E: Downloading m3u8 information\n",
      "[info] zW76wr0SA3E: Downloading subtitles: en\n"
     ]
    },
    {
     "name": "stderr",
     "output_type": "stream",
     "text": [
      "WARNING: ffmpeg not found. The downloaded format may not be the best available. Installing ffmpeg is strongly recommended: https://github.com/yt-dlp/yt-dlp#dependencies\n"
     ]
    },
    {
     "name": "stdout",
     "output_type": "stream",
     "text": [
      "[youtube] Extracting URL: https://youtube.com/watch?v=wG8UShiEHYo\n",
      "[youtube] wG8UShiEHYo: Downloading webpage\n",
      "[youtube] wG8UShiEHYo: Downloading ios player API JSON\n",
      "[youtube] wG8UShiEHYo: Downloading web creator player API JSON\n",
      "[youtube] wG8UShiEHYo: Downloading m3u8 information\n",
      "[info] wG8UShiEHYo: Downloading subtitles: en\n"
     ]
    },
    {
     "name": "stderr",
     "output_type": "stream",
     "text": [
      "WARNING: ffmpeg not found. The downloaded format may not be the best available. Installing ffmpeg is strongly recommended: https://github.com/yt-dlp/yt-dlp#dependencies\n"
     ]
    },
    {
     "name": "stdout",
     "output_type": "stream",
     "text": [
      "[youtube] Extracting URL: https://youtube.com/watch?v=yWBe2XYJZMs\n",
      "[youtube] yWBe2XYJZMs: Downloading webpage\n",
      "[youtube] yWBe2XYJZMs: Downloading ios player API JSON\n",
      "[youtube] yWBe2XYJZMs: Downloading web creator player API JSON\n",
      "[youtube] yWBe2XYJZMs: Downloading m3u8 information\n",
      "[info] yWBe2XYJZMs: Downloading subtitles: en-uYU-mmqFLq8\n"
     ]
    },
    {
     "name": "stderr",
     "output_type": "stream",
     "text": [
      "WARNING: ffmpeg not found. The downloaded format may not be the best available. Installing ffmpeg is strongly recommended: https://github.com/yt-dlp/yt-dlp#dependencies\n"
     ]
    },
    {
     "name": "stdout",
     "output_type": "stream",
     "text": [
      "[youtube] Extracting URL: https://youtube.com/watch?v=vtF_tHyPjdo\n",
      "[youtube] vtF_tHyPjdo: Downloading webpage\n",
      "[youtube] vtF_tHyPjdo: Downloading ios player API JSON\n",
      "[youtube] vtF_tHyPjdo: Downloading web creator player API JSON\n",
      "[youtube] vtF_tHyPjdo: Downloading m3u8 information\n",
      "[info] vtF_tHyPjdo: Downloading subtitles: en-uYU-mmqFLq8\n"
     ]
    },
    {
     "name": "stderr",
     "output_type": "stream",
     "text": [
      "WARNING: ffmpeg not found. The downloaded format may not be the best available. Installing ffmpeg is strongly recommended: https://github.com/yt-dlp/yt-dlp#dependencies\n"
     ]
    },
    {
     "name": "stdout",
     "output_type": "stream",
     "text": [
      "[youtube] Extracting URL: https://youtube.com/watch?v=NYhUr70aXZE\n",
      "[youtube] NYhUr70aXZE: Downloading webpage\n",
      "[youtube] NYhUr70aXZE: Downloading ios player API JSON\n",
      "[youtube] NYhUr70aXZE: Downloading web creator player API JSON\n",
      "[youtube] NYhUr70aXZE: Downloading m3u8 information\n",
      "[info] NYhUr70aXZE: Downloading subtitles: en\n"
     ]
    },
    {
     "name": "stderr",
     "output_type": "stream",
     "text": [
      "WARNING: ffmpeg not found. The downloaded format may not be the best available. Installing ffmpeg is strongly recommended: https://github.com/yt-dlp/yt-dlp#dependencies\n"
     ]
    },
    {
     "name": "stdout",
     "output_type": "stream",
     "text": [
      "[youtube] Extracting URL: https://youtube.com/watch?v=POm7qqRaNnM\n",
      "[youtube] POm7qqRaNnM: Downloading webpage\n",
      "[youtube] POm7qqRaNnM: Downloading ios player API JSON\n",
      "[youtube] POm7qqRaNnM: Downloading web creator player API JSON\n",
      "[youtube] POm7qqRaNnM: Downloading m3u8 information\n",
      "[info] POm7qqRaNnM: Downloading subtitles: en\n"
     ]
    },
    {
     "name": "stderr",
     "output_type": "stream",
     "text": [
      "WARNING: ffmpeg not found. The downloaded format may not be the best available. Installing ffmpeg is strongly recommended: https://github.com/yt-dlp/yt-dlp#dependencies\n"
     ]
    },
    {
     "name": "stdout",
     "output_type": "stream",
     "text": [
      "[youtube] Extracting URL: https://youtube.com/watch?v=9Hh0yIQ0zoo\n",
      "[youtube] 9Hh0yIQ0zoo: Downloading webpage\n",
      "[youtube] 9Hh0yIQ0zoo: Downloading ios player API JSON\n",
      "[youtube] 9Hh0yIQ0zoo: Downloading web creator player API JSON\n",
      "[youtube] 9Hh0yIQ0zoo: Downloading m3u8 information\n",
      "[info] 9Hh0yIQ0zoo: Downloading subtitles: en\n"
     ]
    },
    {
     "name": "stderr",
     "output_type": "stream",
     "text": [
      "WARNING: ffmpeg not found. The downloaded format may not be the best available. Installing ffmpeg is strongly recommended: https://github.com/yt-dlp/yt-dlp#dependencies\n"
     ]
    },
    {
     "name": "stdout",
     "output_type": "stream",
     "text": [
      "[youtube] Extracting URL: https://youtube.com/watch?v=czQWZAaWlHA\n",
      "[youtube] czQWZAaWlHA: Downloading webpage\n",
      "[youtube] czQWZAaWlHA: Downloading ios player API JSON\n",
      "[youtube] czQWZAaWlHA: Downloading web creator player API JSON\n",
      "[youtube] czQWZAaWlHA: Downloading m3u8 information\n",
      "[info] czQWZAaWlHA: Downloading subtitles: en\n"
     ]
    },
    {
     "name": "stderr",
     "output_type": "stream",
     "text": [
      "WARNING: ffmpeg not found. The downloaded format may not be the best available. Installing ffmpeg is strongly recommended: https://github.com/yt-dlp/yt-dlp#dependencies\n"
     ]
    },
    {
     "name": "stdout",
     "output_type": "stream",
     "text": [
      "[youtube] Extracting URL: https://youtube.com/watch?v=FAPu4FLd2pk\n",
      "[youtube] FAPu4FLd2pk: Downloading webpage\n",
      "[youtube] FAPu4FLd2pk: Downloading ios player API JSON\n",
      "[youtube] FAPu4FLd2pk: Downloading web creator player API JSON\n",
      "[youtube] FAPu4FLd2pk: Downloading m3u8 information\n",
      "[info] FAPu4FLd2pk: Downloading subtitles: en\n"
     ]
    },
    {
     "name": "stderr",
     "output_type": "stream",
     "text": [
      "WARNING: ffmpeg not found. The downloaded format may not be the best available. Installing ffmpeg is strongly recommended: https://github.com/yt-dlp/yt-dlp#dependencies\n"
     ]
    },
    {
     "name": "stdout",
     "output_type": "stream",
     "text": [
      "[youtube] Extracting URL: https://youtube.com/watch?v=6gpi9S7P_c8\n",
      "[youtube] 6gpi9S7P_c8: Downloading webpage\n",
      "[youtube] 6gpi9S7P_c8: Downloading ios player API JSON\n",
      "[youtube] 6gpi9S7P_c8: Downloading web creator player API JSON\n",
      "[youtube] 6gpi9S7P_c8: Downloading m3u8 information\n",
      "[info] 6gpi9S7P_c8: Downloading subtitles: en\n"
     ]
    },
    {
     "name": "stderr",
     "output_type": "stream",
     "text": [
      "WARNING: ffmpeg not found. The downloaded format may not be the best available. Installing ffmpeg is strongly recommended: https://github.com/yt-dlp/yt-dlp#dependencies\n"
     ]
    },
    {
     "name": "stdout",
     "output_type": "stream",
     "text": [
      "[youtube] Extracting URL: https://youtube.com/watch?v=9Pra0XtrEPA\n",
      "[youtube] 9Pra0XtrEPA: Downloading webpage\n",
      "[youtube] 9Pra0XtrEPA: Downloading ios player API JSON\n",
      "[youtube] 9Pra0XtrEPA: Downloading web creator player API JSON\n",
      "[youtube] 9Pra0XtrEPA: Downloading m3u8 information\n",
      "[info] 9Pra0XtrEPA: Downloading subtitles: en\n"
     ]
    },
    {
     "name": "stderr",
     "output_type": "stream",
     "text": [
      "WARNING: ffmpeg not found. The downloaded format may not be the best available. Installing ffmpeg is strongly recommended: https://github.com/yt-dlp/yt-dlp#dependencies\n"
     ]
    },
    {
     "name": "stdout",
     "output_type": "stream",
     "text": [
      "[youtube] Extracting URL: https://youtube.com/watch?v=9Pra0XtrEPA\n",
      "[youtube] 9Pra0XtrEPA: Downloading webpage\n",
      "[youtube] 9Pra0XtrEPA: Downloading ios player API JSON\n",
      "[youtube] 9Pra0XtrEPA: Downloading web creator player API JSON\n",
      "[youtube] 9Pra0XtrEPA: Downloading m3u8 information\n",
      "[info] 9Pra0XtrEPA: Downloading subtitles: en\n"
     ]
    },
    {
     "name": "stderr",
     "output_type": "stream",
     "text": [
      "WARNING: ffmpeg not found. The downloaded format may not be the best available. Installing ffmpeg is strongly recommended: https://github.com/yt-dlp/yt-dlp#dependencies\n"
     ]
    },
    {
     "name": "stdout",
     "output_type": "stream",
     "text": [
      "[info] 9Pra0XtrEPA: Downloading 1 format(s): 18\n",
      "[info] Writing video subtitles to: data\\en_CNN\\Israeli parents describe how they found out their son was kidnapped by Hamas.en.vtt\n",
      "[download] Destination: data\\en_CNN\\Israeli parents describe how they found out their son was kidnapped by Hamas.en.vtt\n",
      "[download] 100% of   15.09KiB in 00:00:00 at 58.30KiB/s\n",
      "[youtube] Extracting URL: https://youtube.com/watch?v=43exO3on0c0\n",
      "[youtube] 43exO3on0c0: Downloading webpage\n",
      "[youtube] 43exO3on0c0: Downloading ios player API JSON\n",
      "[youtube] 43exO3on0c0: Downloading web creator player API JSON\n",
      "[youtube] 43exO3on0c0: Downloading m3u8 information\n",
      "[info] 43exO3on0c0: Downloading subtitles: en\n"
     ]
    },
    {
     "name": "stderr",
     "output_type": "stream",
     "text": [
      "WARNING: ffmpeg not found. The downloaded format may not be the best available. Installing ffmpeg is strongly recommended: https://github.com/yt-dlp/yt-dlp#dependencies\n"
     ]
    },
    {
     "name": "stdout",
     "output_type": "stream",
     "text": [
      "[youtube] Extracting URL: https://youtube.com/watch?v=43exO3on0c0\n",
      "[youtube] 43exO3on0c0: Downloading webpage\n",
      "[youtube] 43exO3on0c0: Downloading ios player API JSON\n",
      "[youtube] 43exO3on0c0: Downloading web creator player API JSON\n",
      "[youtube] 43exO3on0c0: Downloading m3u8 information\n",
      "[info] 43exO3on0c0: Downloading subtitles: en\n"
     ]
    },
    {
     "name": "stderr",
     "output_type": "stream",
     "text": [
      "WARNING: ffmpeg not found. The downloaded format may not be the best available. Installing ffmpeg is strongly recommended: https://github.com/yt-dlp/yt-dlp#dependencies\n"
     ]
    },
    {
     "name": "stdout",
     "output_type": "stream",
     "text": [
      "[info] 43exO3on0c0: Downloading 1 format(s): 18\n",
      "[info] Writing video subtitles to: data\\en_CNN\\Clarissa Ward explains what aid has made it into Gaza.en.vtt\n",
      "[download] Destination: data\\en_CNN\\Clarissa Ward explains what aid has made it into Gaza.en.vtt\n",
      "[download] 100% of    5.99KiB in 00:00:00 at 36.19KiB/s\n",
      "[youtube] Extracting URL: https://youtube.com/watch?v=3YborCsNNTo\n",
      "[youtube] 3YborCsNNTo: Downloading webpage\n",
      "[youtube] 3YborCsNNTo: Downloading ios player API JSON\n",
      "[youtube] 3YborCsNNTo: Downloading web creator player API JSON\n",
      "[youtube] 3YborCsNNTo: Downloading m3u8 information\n",
      "[info] 3YborCsNNTo: Downloading subtitles: en\n"
     ]
    },
    {
     "name": "stderr",
     "output_type": "stream",
     "text": [
      "WARNING: ffmpeg not found. The downloaded format may not be the best available. Installing ffmpeg is strongly recommended: https://github.com/yt-dlp/yt-dlp#dependencies\n"
     ]
    },
    {
     "name": "stdout",
     "output_type": "stream",
     "text": [
      "[youtube] Extracting URL: https://youtube.com/watch?v=3YborCsNNTo\n",
      "[youtube] 3YborCsNNTo: Downloading webpage\n",
      "[youtube] 3YborCsNNTo: Downloading ios player API JSON\n",
      "[youtube] 3YborCsNNTo: Downloading web creator player API JSON\n",
      "[youtube] 3YborCsNNTo: Downloading m3u8 information\n",
      "[info] 3YborCsNNTo: Downloading subtitles: en\n"
     ]
    },
    {
     "name": "stderr",
     "output_type": "stream",
     "text": [
      "WARNING: ffmpeg not found. The downloaded format may not be the best available. Installing ffmpeg is strongly recommended: https://github.com/yt-dlp/yt-dlp#dependencies\n"
     ]
    },
    {
     "name": "stdout",
     "output_type": "stream",
     "text": [
      "[info] 3YborCsNNTo: Downloading 1 format(s): 18\n",
      "[info] Writing video subtitles to: data\\en_CNN\\CNN reporter takes a look inside Gaza hospitals 'on the brink of collapse'.en.vtt\n",
      "[download] Destination: data\\en_CNN\\CNN reporter takes a look inside Gaza hospitals 'on the brink of collapse'.en.vtt\n",
      "[download] 100% of   20.40KiB in 00:00:00 at 100.17KiB/s\n",
      "[youtube] Extracting URL: https://youtube.com/watch?v=SR_EAWjPUM0\n",
      "[youtube] SR_EAWjPUM0: Downloading webpage\n",
      "[youtube] SR_EAWjPUM0: Downloading ios player API JSON\n",
      "[youtube] SR_EAWjPUM0: Downloading web creator player API JSON\n",
      "[youtube] SR_EAWjPUM0: Downloading m3u8 information\n",
      "[info] SR_EAWjPUM0: Downloading subtitles: en\n"
     ]
    },
    {
     "name": "stderr",
     "output_type": "stream",
     "text": [
      "WARNING: ffmpeg not found. The downloaded format may not be the best available. Installing ffmpeg is strongly recommended: https://github.com/yt-dlp/yt-dlp#dependencies\n"
     ]
    },
    {
     "name": "stdout",
     "output_type": "stream",
     "text": [
      "[youtube] Extracting URL: https://youtube.com/watch?v=SR_EAWjPUM0\n",
      "[youtube] SR_EAWjPUM0: Downloading webpage\n",
      "[youtube] SR_EAWjPUM0: Downloading ios player API JSON\n",
      "[youtube] SR_EAWjPUM0: Downloading web creator player API JSON\n",
      "[youtube] SR_EAWjPUM0: Downloading m3u8 information\n",
      "[info] SR_EAWjPUM0: Downloading subtitles: en\n"
     ]
    },
    {
     "name": "stderr",
     "output_type": "stream",
     "text": [
      "WARNING: ffmpeg not found. The downloaded format may not be the best available. Installing ffmpeg is strongly recommended: https://github.com/yt-dlp/yt-dlp#dependencies\n"
     ]
    },
    {
     "name": "stdout",
     "output_type": "stream",
     "text": [
      "[info] SR_EAWjPUM0: Downloading 1 format(s): 18\n",
      "[info] Writing video subtitles to: data\\en_CNN\\Woman recalls being told her sister was killed by Hamas at Nova Festival.en.vtt\n",
      "[download] Destination: data\\en_CNN\\Woman recalls being told her sister was killed by Hamas at Nova Festival.en.vtt\n",
      "[download] 100% of   11.68KiB in 00:00:00 at 51.78KiB/s\n",
      "[youtube] Extracting URL: https://youtube.com/watch?v=c3bTGgCfNyI\n",
      "[youtube] c3bTGgCfNyI: Downloading webpage\n",
      "[youtube] c3bTGgCfNyI: Downloading ios player API JSON\n",
      "[youtube] c3bTGgCfNyI: Downloading web creator player API JSON\n",
      "[youtube] c3bTGgCfNyI: Downloading m3u8 information\n",
      "[info] c3bTGgCfNyI: Downloading subtitles: en\n"
     ]
    },
    {
     "name": "stderr",
     "output_type": "stream",
     "text": [
      "WARNING: ffmpeg not found. The downloaded format may not be the best available. Installing ffmpeg is strongly recommended: https://github.com/yt-dlp/yt-dlp#dependencies\n"
     ]
    },
    {
     "name": "stdout",
     "output_type": "stream",
     "text": [
      "[youtube] Extracting URL: https://youtube.com/watch?v=c3bTGgCfNyI\n",
      "[youtube] c3bTGgCfNyI: Downloading webpage\n",
      "[youtube] c3bTGgCfNyI: Downloading ios player API JSON\n",
      "[youtube] c3bTGgCfNyI: Downloading web creator player API JSON\n",
      "[youtube] c3bTGgCfNyI: Downloading m3u8 information\n",
      "[info] c3bTGgCfNyI: Downloading subtitles: en\n"
     ]
    },
    {
     "name": "stderr",
     "output_type": "stream",
     "text": [
      "WARNING: ffmpeg not found. The downloaded format may not be the best available. Installing ffmpeg is strongly recommended: https://github.com/yt-dlp/yt-dlp#dependencies\n"
     ]
    },
    {
     "name": "stdout",
     "output_type": "stream",
     "text": [
      "[info] c3bTGgCfNyI: Downloading 1 format(s): 18\n",
      "[info] Writing video subtitles to: data\\en_CNN\\Ret. US general predicts Israel’s strategy for a ground battle in Gaza.en.vtt\n",
      "[download] Destination: data\\en_CNN\\Ret. US general predicts Israel’s strategy for a ground battle in Gaza.en.vtt\n",
      "[download] 100% of   10.56KiB in 00:00:00 at 54.32KiB/s\n",
      "[youtube] Extracting URL: https://youtube.com/watch?v=gji_20BZiDM\n",
      "[youtube] gji_20BZiDM: Downloading webpage\n",
      "[youtube] gji_20BZiDM: Downloading ios player API JSON\n",
      "[youtube] gji_20BZiDM: Downloading web creator player API JSON\n",
      "[youtube] gji_20BZiDM: Downloading m3u8 information\n",
      "[info] gji_20BZiDM: Downloading subtitles: en\n"
     ]
    },
    {
     "name": "stderr",
     "output_type": "stream",
     "text": [
      "WARNING: ffmpeg not found. The downloaded format may not be the best available. Installing ffmpeg is strongly recommended: https://github.com/yt-dlp/yt-dlp#dependencies\n"
     ]
    },
    {
     "name": "stdout",
     "output_type": "stream",
     "text": [
      "[youtube] Extracting URL: https://youtube.com/watch?v=gji_20BZiDM\n",
      "[youtube] gji_20BZiDM: Downloading webpage\n",
      "[youtube] gji_20BZiDM: Downloading ios player API JSON\n",
      "[youtube] gji_20BZiDM: Downloading web creator player API JSON\n",
      "[youtube] gji_20BZiDM: Downloading m3u8 information\n",
      "[info] gji_20BZiDM: Downloading subtitles: en\n"
     ]
    },
    {
     "name": "stderr",
     "output_type": "stream",
     "text": [
      "WARNING: ffmpeg not found. The downloaded format may not be the best available. Installing ffmpeg is strongly recommended: https://github.com/yt-dlp/yt-dlp#dependencies\n"
     ]
    },
    {
     "name": "stdout",
     "output_type": "stream",
     "text": [
      "[info] gji_20BZiDM: Downloading 1 format(s): 18\n",
      "[info] Writing video subtitles to: data\\en_CNN\\CNN forensic analysis suggests what may have caused Gaza hospital blast.en.vtt\n",
      "[download] Destination: data\\en_CNN\\CNN forensic analysis suggests what may have caused Gaza hospital blast.en.vtt\n",
      "[download] 100% of    4.60KiB in 00:00:00 at 19.37KiB/s\n",
      "[youtube] Extracting URL: https://youtube.com/watch?v=Q0NQFeLzsd8\n",
      "[youtube] Q0NQFeLzsd8: Downloading webpage\n",
      "[youtube] Q0NQFeLzsd8: Downloading ios player API JSON\n",
      "[youtube] Q0NQFeLzsd8: Downloading web creator player API JSON\n",
      "[youtube] Q0NQFeLzsd8: Downloading m3u8 information\n",
      "[info] Q0NQFeLzsd8: Downloading subtitles: en\n"
     ]
    },
    {
     "name": "stderr",
     "output_type": "stream",
     "text": [
      "WARNING: ffmpeg not found. The downloaded format may not be the best available. Installing ffmpeg is strongly recommended: https://github.com/yt-dlp/yt-dlp#dependencies\n"
     ]
    },
    {
     "name": "stdout",
     "output_type": "stream",
     "text": [
      "[youtube] Extracting URL: https://youtube.com/watch?v=Q0NQFeLzsd8\n",
      "[youtube] Q0NQFeLzsd8: Downloading webpage\n",
      "[youtube] Q0NQFeLzsd8: Downloading ios player API JSON\n",
      "[youtube] Q0NQFeLzsd8: Downloading web creator player API JSON\n",
      "[youtube] Q0NQFeLzsd8: Downloading m3u8 information\n",
      "[info] Q0NQFeLzsd8: Downloading subtitles: en\n"
     ]
    },
    {
     "name": "stderr",
     "output_type": "stream",
     "text": [
      "WARNING: ffmpeg not found. The downloaded format may not be the best available. Installing ffmpeg is strongly recommended: https://github.com/yt-dlp/yt-dlp#dependencies\n"
     ]
    },
    {
     "name": "stdout",
     "output_type": "stream",
     "text": [
      "[info] Q0NQFeLzsd8: Downloading 1 format(s): 18\n",
      "[info] Writing video subtitles to: data\\en_CNN\\Volunteer Israeli medic recounts horror of Hamas attack.en.vtt\n",
      "[download] Destination: data\\en_CNN\\Volunteer Israeli medic recounts horror of Hamas attack.en.vtt\n",
      "[download] 100% of   15.83KiB in 00:00:00 at 75.02KiB/s\n",
      "[youtube] Extracting URL: https://youtube.com/watch?v=aCugwURWg7Q\n",
      "[youtube] aCugwURWg7Q: Downloading webpage\n",
      "[youtube] aCugwURWg7Q: Downloading ios player API JSON\n",
      "[youtube] aCugwURWg7Q: Downloading web creator player API JSON\n",
      "[youtube] aCugwURWg7Q: Downloading m3u8 information\n",
      "[info] aCugwURWg7Q: Downloading subtitles: en\n"
     ]
    },
    {
     "name": "stderr",
     "output_type": "stream",
     "text": [
      "WARNING: ffmpeg not found. The downloaded format may not be the best available. Installing ffmpeg is strongly recommended: https://github.com/yt-dlp/yt-dlp#dependencies\n"
     ]
    },
    {
     "name": "stdout",
     "output_type": "stream",
     "text": [
      "[youtube] Extracting URL: https://youtube.com/watch?v=aCugwURWg7Q\n",
      "[youtube] aCugwURWg7Q: Downloading webpage\n",
      "[youtube] aCugwURWg7Q: Downloading ios player API JSON\n",
      "[youtube] aCugwURWg7Q: Downloading web creator player API JSON\n",
      "[youtube] aCugwURWg7Q: Downloading m3u8 information\n",
      "[info] aCugwURWg7Q: Downloading subtitles: en\n"
     ]
    },
    {
     "name": "stderr",
     "output_type": "stream",
     "text": [
      "WARNING: ffmpeg not found. The downloaded format may not be the best available. Installing ffmpeg is strongly recommended: https://github.com/yt-dlp/yt-dlp#dependencies\n"
     ]
    },
    {
     "name": "stdout",
     "output_type": "stream",
     "text": [
      "[info] aCugwURWg7Q: Downloading 1 format(s): 18\n",
      "[info] Writing video subtitles to: data\\en_CNN\\What might be giving Israel pause before incursion Expert lays out possible factors.en.vtt\n",
      "[download] Destination: data\\en_CNN\\What might be giving Israel pause before incursion Expert lays out possible factors.en.vtt\n",
      "[download] 100% of   12.85KiB in 00:00:00 at 44.12KiB/s\n",
      "[youtube] Extracting URL: https://youtube.com/watch?v=lGXgCyZvBzo\n",
      "[youtube] lGXgCyZvBzo: Downloading webpage\n",
      "[youtube] lGXgCyZvBzo: Downloading ios player API JSON\n",
      "[youtube] lGXgCyZvBzo: Downloading web creator player API JSON\n",
      "[youtube] lGXgCyZvBzo: Downloading m3u8 information\n",
      "[info] lGXgCyZvBzo: Downloading subtitles: en\n"
     ]
    },
    {
     "name": "stderr",
     "output_type": "stream",
     "text": [
      "WARNING: ffmpeg not found. The downloaded format may not be the best available. Installing ffmpeg is strongly recommended: https://github.com/yt-dlp/yt-dlp#dependencies\n"
     ]
    },
    {
     "name": "stdout",
     "output_type": "stream",
     "text": [
      "[youtube] Extracting URL: https://youtube.com/watch?v=lGXgCyZvBzo\n",
      "[youtube] lGXgCyZvBzo: Downloading webpage\n",
      "[youtube] lGXgCyZvBzo: Downloading ios player API JSON\n",
      "[youtube] lGXgCyZvBzo: Downloading web creator player API JSON\n",
      "[youtube] lGXgCyZvBzo: Downloading m3u8 information\n",
      "[info] lGXgCyZvBzo: Downloading subtitles: en\n"
     ]
    },
    {
     "name": "stderr",
     "output_type": "stream",
     "text": [
      "WARNING: ffmpeg not found. The downloaded format may not be the best available. Installing ffmpeg is strongly recommended: https://github.com/yt-dlp/yt-dlp#dependencies\n"
     ]
    },
    {
     "name": "stdout",
     "output_type": "stream",
     "text": [
      "[info] lGXgCyZvBzo: Downloading 1 format(s): 18\n",
      "[info] Writing video subtitles to: data\\en_CNN\\Humanitarian worker describes why it's 'impossible' to evacuate northern Gaza.en.vtt\n",
      "[download] Destination: data\\en_CNN\\Humanitarian worker describes why it's 'impossible' to evacuate northern Gaza.en.vtt\n",
      "[download] 100% of   14.08KiB in 00:00:00 at 46.77KiB/s\n",
      "[youtube] Extracting URL: https://youtube.com/watch?v=KjA4Xz4bRU0\n",
      "[youtube] KjA4Xz4bRU0: Downloading webpage\n",
      "[youtube] KjA4Xz4bRU0: Downloading ios player API JSON\n",
      "[youtube] KjA4Xz4bRU0: Downloading web creator player API JSON\n",
      "[youtube] KjA4Xz4bRU0: Downloading m3u8 information\n",
      "[info] KjA4Xz4bRU0: Downloading subtitles: en\n"
     ]
    },
    {
     "name": "stderr",
     "output_type": "stream",
     "text": [
      "WARNING: ffmpeg not found. The downloaded format may not be the best available. Installing ffmpeg is strongly recommended: https://github.com/yt-dlp/yt-dlp#dependencies\n"
     ]
    },
    {
     "name": "stdout",
     "output_type": "stream",
     "text": [
      "[youtube] Extracting URL: https://youtube.com/watch?v=KjA4Xz4bRU0\n",
      "[youtube] KjA4Xz4bRU0: Downloading webpage\n",
      "[youtube] KjA4Xz4bRU0: Downloading ios player API JSON\n",
      "[youtube] KjA4Xz4bRU0: Downloading web creator player API JSON\n",
      "[youtube] KjA4Xz4bRU0: Downloading m3u8 information\n",
      "[info] KjA4Xz4bRU0: Downloading subtitles: en\n"
     ]
    },
    {
     "name": "stderr",
     "output_type": "stream",
     "text": [
      "WARNING: ffmpeg not found. The downloaded format may not be the best available. Installing ffmpeg is strongly recommended: https://github.com/yt-dlp/yt-dlp#dependencies\n"
     ]
    },
    {
     "name": "stdout",
     "output_type": "stream",
     "text": [
      "[info] KjA4Xz4bRU0: Downloading 1 format(s): 18\n",
      "[info] Writing video subtitles to: data\\en_CNN\\House Intel Chair on why he thinks Hamas released American hostages.en.vtt\n",
      "[download] Destination: data\\en_CNN\\House Intel Chair on why he thinks Hamas released American hostages.en.vtt\n",
      "[download] 100% of   19.18KiB in 00:00:00 at 96.48KiB/s\n",
      "[youtube] Extracting URL: https://youtube.com/watch?v=HnlI0ToSnro\n",
      "[youtube] HnlI0ToSnro: Downloading webpage\n",
      "[youtube] HnlI0ToSnro: Downloading ios player API JSON\n",
      "[youtube] HnlI0ToSnro: Downloading web creator player API JSON\n",
      "[youtube] HnlI0ToSnro: Downloading m3u8 information\n",
      "[info] HnlI0ToSnro: Downloading subtitles: en\n"
     ]
    },
    {
     "name": "stderr",
     "output_type": "stream",
     "text": [
      "WARNING: ffmpeg not found. The downloaded format may not be the best available. Installing ffmpeg is strongly recommended: https://github.com/yt-dlp/yt-dlp#dependencies\n"
     ]
    },
    {
     "name": "stdout",
     "output_type": "stream",
     "text": [
      "[youtube] Extracting URL: https://youtube.com/watch?v=HnlI0ToSnro\n",
      "[youtube] HnlI0ToSnro: Downloading webpage\n",
      "[youtube] HnlI0ToSnro: Downloading ios player API JSON\n",
      "[youtube] HnlI0ToSnro: Downloading web creator player API JSON\n",
      "[youtube] HnlI0ToSnro: Downloading m3u8 information\n",
      "[info] HnlI0ToSnro: Downloading subtitles: en\n"
     ]
    },
    {
     "name": "stderr",
     "output_type": "stream",
     "text": [
      "WARNING: ffmpeg not found. The downloaded format may not be the best available. Installing ffmpeg is strongly recommended: https://github.com/yt-dlp/yt-dlp#dependencies\n"
     ]
    },
    {
     "name": "stdout",
     "output_type": "stream",
     "text": [
      "[info] HnlI0ToSnro: Downloading 1 format(s): 18\n",
      "[info] Writing video subtitles to: data\\en_CNN\\Former US General says it will be 'exceedingly difficult' to destroy Hamas.en.vtt\n",
      "[download] Destination: data\\en_CNN\\Former US General says it will be 'exceedingly difficult' to destroy Hamas.en.vtt\n",
      "[download] 100% of   10.70KiB in 00:00:00 at 71.82KiB/s\n",
      "[youtube] Extracting URL: https://youtube.com/watch?v=qdqqtQV5cMA\n",
      "[youtube] qdqqtQV5cMA: Downloading webpage\n",
      "[youtube] qdqqtQV5cMA: Downloading ios player API JSON\n",
      "[youtube] qdqqtQV5cMA: Downloading web creator player API JSON\n",
      "[youtube] qdqqtQV5cMA: Downloading m3u8 information\n",
      "[info] qdqqtQV5cMA: Downloading subtitles: en\n"
     ]
    },
    {
     "name": "stderr",
     "output_type": "stream",
     "text": [
      "WARNING: ffmpeg not found. The downloaded format may not be the best available. Installing ffmpeg is strongly recommended: https://github.com/yt-dlp/yt-dlp#dependencies\n"
     ]
    },
    {
     "name": "stdout",
     "output_type": "stream",
     "text": [
      "[youtube] Extracting URL: https://youtube.com/watch?v=qdqqtQV5cMA\n",
      "[youtube] qdqqtQV5cMA: Downloading webpage\n",
      "[youtube] qdqqtQV5cMA: Downloading ios player API JSON\n",
      "[youtube] qdqqtQV5cMA: Downloading web creator player API JSON\n",
      "[youtube] qdqqtQV5cMA: Downloading m3u8 information\n",
      "[info] qdqqtQV5cMA: Downloading subtitles: en\n"
     ]
    },
    {
     "name": "stderr",
     "output_type": "stream",
     "text": [
      "WARNING: ffmpeg not found. The downloaded format may not be the best available. Installing ffmpeg is strongly recommended: https://github.com/yt-dlp/yt-dlp#dependencies\n"
     ]
    },
    {
     "name": "stdout",
     "output_type": "stream",
     "text": [
      "[info] qdqqtQV5cMA: Downloading 1 format(s): 18\n",
      "[info] Writing video subtitles to: data\\en_CNN\\Israeli military analyst The legitimization window is closing quickly the longer Israel waits.en.vtt\n",
      "[download] Destination: data\\en_CNN\\Israeli military analyst The legitimization window is closing quickly the longer Israel waits.en.vtt\n",
      "[download] 100% of   17.82KiB in 00:00:00 at 59.88KiB/s\n",
      "[youtube] Extracting URL: https://youtube.com/watch?v=u1EYsf7b9_0\n",
      "[youtube] u1EYsf7b9_0: Downloading webpage\n",
      "[youtube] u1EYsf7b9_0: Downloading ios player API JSON\n",
      "[youtube] u1EYsf7b9_0: Downloading web creator player API JSON\n",
      "[youtube] u1EYsf7b9_0: Downloading m3u8 information\n",
      "[info] u1EYsf7b9_0: Downloading subtitles: en\n"
     ]
    },
    {
     "name": "stderr",
     "output_type": "stream",
     "text": [
      "WARNING: ffmpeg not found. The downloaded format may not be the best available. Installing ffmpeg is strongly recommended: https://github.com/yt-dlp/yt-dlp#dependencies\n"
     ]
    },
    {
     "name": "stdout",
     "output_type": "stream",
     "text": [
      "[youtube] Extracting URL: https://youtube.com/watch?v=u1EYsf7b9_0\n",
      "[youtube] u1EYsf7b9_0: Downloading webpage\n",
      "[youtube] u1EYsf7b9_0: Downloading ios player API JSON\n",
      "[youtube] u1EYsf7b9_0: Downloading web creator player API JSON\n",
      "[youtube] u1EYsf7b9_0: Downloading m3u8 information\n",
      "[info] u1EYsf7b9_0: Downloading subtitles: en\n"
     ]
    },
    {
     "name": "stderr",
     "output_type": "stream",
     "text": [
      "WARNING: ffmpeg not found. The downloaded format may not be the best available. Installing ffmpeg is strongly recommended: https://github.com/yt-dlp/yt-dlp#dependencies\n"
     ]
    },
    {
     "name": "stdout",
     "output_type": "stream",
     "text": [
      "[info] u1EYsf7b9_0: Downloading 1 format(s): 18\n",
      "[info] Writing video subtitles to: data\\en_CNN\\See the new weapon Israel is using to fight Hamas.en.vtt\n",
      "[download] Destination: data\\en_CNN\\See the new weapon Israel is using to fight Hamas.en.vtt\n",
      "[download] 100% of  155.09KiB in 00:00:00 at 381.46KiB/s\n",
      "[youtube] Extracting URL: https://youtube.com/watch?v=-S-CE_zE5wk\n",
      "[youtube] -S-CE_zE5wk: Downloading webpage\n",
      "[youtube] -S-CE_zE5wk: Downloading ios player API JSON\n",
      "[youtube] -S-CE_zE5wk: Downloading web creator player API JSON\n",
      "[youtube] -S-CE_zE5wk: Downloading m3u8 information\n",
      "[info] -S-CE_zE5wk: Downloading subtitles: en\n"
     ]
    },
    {
     "name": "stderr",
     "output_type": "stream",
     "text": [
      "WARNING: ffmpeg not found. The downloaded format may not be the best available. Installing ffmpeg is strongly recommended: https://github.com/yt-dlp/yt-dlp#dependencies\n"
     ]
    },
    {
     "name": "stdout",
     "output_type": "stream",
     "text": [
      "[youtube] Extracting URL: https://youtube.com/watch?v=-S-CE_zE5wk\n",
      "[youtube] -S-CE_zE5wk: Downloading webpage\n",
      "[youtube] -S-CE_zE5wk: Downloading ios player API JSON\n",
      "[youtube] -S-CE_zE5wk: Downloading web creator player API JSON\n",
      "[youtube] -S-CE_zE5wk: Downloading m3u8 information\n",
      "[info] -S-CE_zE5wk: Downloading subtitles: en\n"
     ]
    },
    {
     "name": "stderr",
     "output_type": "stream",
     "text": [
      "WARNING: ffmpeg not found. The downloaded format may not be the best available. Installing ffmpeg is strongly recommended: https://github.com/yt-dlp/yt-dlp#dependencies\n"
     ]
    },
    {
     "name": "stdout",
     "output_type": "stream",
     "text": [
      "[info] -S-CE_zE5wk: Downloading 1 format(s): 18\n",
      "[info] Writing video subtitles to: data\\en_CNN\\Sources say 2 more hostages released by Hamas.en.vtt\n",
      "[download] Destination: data\\en_CNN\\Sources say 2 more hostages released by Hamas.en.vtt\n",
      "[download] 100% of   13.62KiB in 00:00:00 at 74.55KiB/s\n",
      "[youtube] Extracting URL: https://youtube.com/watch?v=QQE8xFhee0g\n",
      "[youtube] QQE8xFhee0g: Downloading webpage\n",
      "[youtube] QQE8xFhee0g: Downloading ios player API JSON\n",
      "[youtube] QQE8xFhee0g: Downloading web creator player API JSON\n",
      "[youtube] QQE8xFhee0g: Downloading m3u8 information\n",
      "[info] QQE8xFhee0g: Downloading subtitles: en\n"
     ]
    },
    {
     "name": "stderr",
     "output_type": "stream",
     "text": [
      "WARNING: ffmpeg not found. The downloaded format may not be the best available. Installing ffmpeg is strongly recommended: https://github.com/yt-dlp/yt-dlp#dependencies\n"
     ]
    },
    {
     "name": "stdout",
     "output_type": "stream",
     "text": [
      "[youtube] Extracting URL: https://youtube.com/watch?v=QQE8xFhee0g\n",
      "[youtube] QQE8xFhee0g: Downloading webpage\n",
      "[youtube] QQE8xFhee0g: Downloading ios player API JSON\n",
      "[youtube] QQE8xFhee0g: Downloading web creator player API JSON\n",
      "[youtube] QQE8xFhee0g: Downloading m3u8 information\n",
      "[info] QQE8xFhee0g: Downloading subtitles: en\n"
     ]
    },
    {
     "name": "stderr",
     "output_type": "stream",
     "text": [
      "WARNING: ffmpeg not found. The downloaded format may not be the best available. Installing ffmpeg is strongly recommended: https://github.com/yt-dlp/yt-dlp#dependencies\n"
     ]
    },
    {
     "name": "stdout",
     "output_type": "stream",
     "text": [
      "[info] QQE8xFhee0g: Downloading 1 format(s): 18\n",
      "[info] Writing video subtitles to: data\\en_CNN\\CNN producer tried to cross from Gaza into Egypt. See what happened.en.vtt\n",
      "[download] Destination: data\\en_CNN\\CNN producer tried to cross from Gaza into Egypt. See what happened.en.vtt\n",
      "[download] 100% of    4.47KiB in 00:00:00 at 46.69KiB/s\n",
      "[youtube] Extracting URL: https://youtube.com/watch?v=dAUW_XftETg\n",
      "[youtube] dAUW_XftETg: Downloading webpage\n",
      "[youtube] dAUW_XftETg: Downloading ios player API JSON\n",
      "[youtube] dAUW_XftETg: Downloading web creator player API JSON\n",
      "[youtube] dAUW_XftETg: Downloading m3u8 information\n",
      "[info] dAUW_XftETg: Downloading subtitles: en\n"
     ]
    },
    {
     "name": "stderr",
     "output_type": "stream",
     "text": [
      "WARNING: ffmpeg not found. The downloaded format may not be the best available. Installing ffmpeg is strongly recommended: https://github.com/yt-dlp/yt-dlp#dependencies\n"
     ]
    },
    {
     "name": "stdout",
     "output_type": "stream",
     "text": [
      "[youtube] Extracting URL: https://youtube.com/watch?v=dAUW_XftETg\n",
      "[youtube] dAUW_XftETg: Downloading webpage\n",
      "[youtube] dAUW_XftETg: Downloading ios player API JSON\n",
      "[youtube] dAUW_XftETg: Downloading web creator player API JSON\n",
      "[youtube] dAUW_XftETg: Downloading m3u8 information\n",
      "[info] dAUW_XftETg: Downloading subtitles: en\n"
     ]
    },
    {
     "name": "stderr",
     "output_type": "stream",
     "text": [
      "WARNING: ffmpeg not found. The downloaded format may not be the best available. Installing ffmpeg is strongly recommended: https://github.com/yt-dlp/yt-dlp#dependencies\n"
     ]
    },
    {
     "name": "stdout",
     "output_type": "stream",
     "text": [
      "[info] dAUW_XftETg: Downloading 1 format(s): 18\n",
      "[info] Writing video subtitles to: data\\en_CNN\\Hear woman’s account of her capture by Hamas and escape.en.vtt\n",
      "[download] Destination: data\\en_CNN\\Hear woman’s account of her capture by Hamas and escape.en.vtt\n",
      "[download] 100% of   21.02KiB in 00:00:00 at 80.44KiB/s\n",
      "[youtube] Extracting URL: https://youtube.com/watch?v=tmJf7cFKxik\n",
      "[youtube] tmJf7cFKxik: Downloading webpage\n",
      "[youtube] tmJf7cFKxik: Downloading ios player API JSON\n",
      "[youtube] tmJf7cFKxik: Downloading web creator player API JSON\n",
      "[youtube] tmJf7cFKxik: Downloading m3u8 information\n",
      "[info] tmJf7cFKxik: Downloading subtitles: en\n"
     ]
    },
    {
     "name": "stderr",
     "output_type": "stream",
     "text": [
      "WARNING: ffmpeg not found. The downloaded format may not be the best available. Installing ffmpeg is strongly recommended: https://github.com/yt-dlp/yt-dlp#dependencies\n"
     ]
    },
    {
     "name": "stdout",
     "output_type": "stream",
     "text": [
      "[youtube] Extracting URL: https://youtube.com/watch?v=tmJf7cFKxik\n",
      "[youtube] tmJf7cFKxik: Downloading webpage\n",
      "[youtube] tmJf7cFKxik: Downloading ios player API JSON\n",
      "[youtube] tmJf7cFKxik: Downloading web creator player API JSON\n",
      "[youtube] tmJf7cFKxik: Downloading m3u8 information\n",
      "[info] tmJf7cFKxik: Downloading subtitles: en\n"
     ]
    },
    {
     "name": "stderr",
     "output_type": "stream",
     "text": [
      "WARNING: ffmpeg not found. The downloaded format may not be the best available. Installing ffmpeg is strongly recommended: https://github.com/yt-dlp/yt-dlp#dependencies\n"
     ]
    },
    {
     "name": "stdout",
     "output_type": "stream",
     "text": [
      "[info] tmJf7cFKxik: Downloading 1 format(s): 18\n",
      "[info] Writing video subtitles to: data\\en_CNN\\Israeli man sees his home for first time since Hamas killed his family.en.vtt\n",
      "[download] Destination: data\\en_CNN\\Israeli man sees his home for first time since Hamas killed his family.en.vtt\n",
      "[download] 100% of    8.90KiB in 00:00:00 at 99.79KiB/s\n",
      "[youtube] Extracting URL: https://youtube.com/watch?v=5QqFweh3CC4\n",
      "[youtube] 5QqFweh3CC4: Downloading webpage\n",
      "[youtube] 5QqFweh3CC4: Downloading ios player API JSON\n",
      "[youtube] 5QqFweh3CC4: Downloading web creator player API JSON\n",
      "[youtube] 5QqFweh3CC4: Downloading m3u8 information\n",
      "[info] 5QqFweh3CC4: Downloading subtitles: en-uYU-mmqFLq8\n"
     ]
    },
    {
     "name": "stderr",
     "output_type": "stream",
     "text": [
      "WARNING: ffmpeg not found. The downloaded format may not be the best available. Installing ffmpeg is strongly recommended: https://github.com/yt-dlp/yt-dlp#dependencies\n"
     ]
    },
    {
     "name": "stdout",
     "output_type": "stream",
     "text": [
      "[youtube] Extracting URL: https://youtube.com/watch?v=5QqFweh3CC4\n",
      "[youtube] 5QqFweh3CC4: Downloading webpage\n",
      "[youtube] 5QqFweh3CC4: Downloading ios player API JSON\n",
      "[youtube] 5QqFweh3CC4: Downloading web creator player API JSON\n",
      "[youtube] 5QqFweh3CC4: Downloading m3u8 information\n",
      "[info] 5QqFweh3CC4: Downloading subtitles: en\n"
     ]
    },
    {
     "name": "stderr",
     "output_type": "stream",
     "text": [
      "WARNING: ffmpeg not found. The downloaded format may not be the best available. Installing ffmpeg is strongly recommended: https://github.com/yt-dlp/yt-dlp#dependencies\n"
     ]
    },
    {
     "name": "stdout",
     "output_type": "stream",
     "text": [
      "[info] 5QqFweh3CC4: Downloading 1 format(s): 18\n",
      "[info] Writing video subtitles to: data\\en_CNN\\Anderson Cooper had a realization about a hostage during a live interview with his parents.en.vtt\n",
      "[hlsnative] Downloading m3u8 manifest\n",
      "[hlsnative] Total fragments: 2\n",
      "[download] Destination: data\\en_CNN\\Anderson Cooper had a realization about a hostage during a live interview with his parents.en.vtt\n",
      "[download] 100% of  152.54KiB in 00:00:00 at 400.07KiB/s               \n",
      "[youtube] Extracting URL: https://youtube.com/watch?v=dCgI8OoeZF8\n",
      "[youtube] dCgI8OoeZF8: Downloading webpage\n",
      "[youtube] dCgI8OoeZF8: Downloading ios player API JSON\n",
      "[youtube] dCgI8OoeZF8: Downloading web creator player API JSON\n",
      "[youtube] dCgI8OoeZF8: Downloading m3u8 information\n",
      "[info] dCgI8OoeZF8: Downloading subtitles: en-uYU-mmqFLq8\n"
     ]
    },
    {
     "name": "stderr",
     "output_type": "stream",
     "text": [
      "WARNING: ffmpeg not found. The downloaded format may not be the best available. Installing ffmpeg is strongly recommended: https://github.com/yt-dlp/yt-dlp#dependencies\n"
     ]
    },
    {
     "name": "stdout",
     "output_type": "stream",
     "text": [
      "[youtube] Extracting URL: https://youtube.com/watch?v=dCgI8OoeZF8\n",
      "[youtube] dCgI8OoeZF8: Downloading webpage\n",
      "[youtube] dCgI8OoeZF8: Downloading ios player API JSON\n",
      "[youtube] dCgI8OoeZF8: Downloading web creator player API JSON\n",
      "[youtube] dCgI8OoeZF8: Downloading m3u8 information\n",
      "[info] dCgI8OoeZF8: Downloading subtitles: en\n"
     ]
    },
    {
     "name": "stderr",
     "output_type": "stream",
     "text": [
      "WARNING: ffmpeg not found. The downloaded format may not be the best available. Installing ffmpeg is strongly recommended: https://github.com/yt-dlp/yt-dlp#dependencies\n"
     ]
    },
    {
     "name": "stdout",
     "output_type": "stream",
     "text": [
      "[info] dCgI8OoeZF8: Downloading 1 format(s): 18\n",
      "[info] Writing video subtitles to: data\\en_CNN\\85-year-old grandmother freed by Hamas describes being kidnapped.en.vtt\n",
      "[hlsnative] Downloading m3u8 manifest\n",
      "[hlsnative] Total fragments: 2\n",
      "[download] Destination: data\\en_CNN\\85-year-old grandmother freed by Hamas describes being kidnapped.en.vtt\n",
      "[download] 100% of  174.58KiB in 00:00:00 at 348.09KiB/s               \n",
      "[youtube] Extracting URL: https://youtube.com/watch?v=OlOdM-qPCUI\n",
      "[youtube] OlOdM-qPCUI: Downloading webpage\n",
      "[youtube] OlOdM-qPCUI: Downloading ios player API JSON\n",
      "[youtube] OlOdM-qPCUI: Downloading web creator player API JSON\n",
      "[youtube] OlOdM-qPCUI: Downloading m3u8 information\n",
      "[info] OlOdM-qPCUI: Downloading subtitles: en\n"
     ]
    },
    {
     "name": "stderr",
     "output_type": "stream",
     "text": [
      "WARNING: ffmpeg not found. The downloaded format may not be the best available. Installing ffmpeg is strongly recommended: https://github.com/yt-dlp/yt-dlp#dependencies\n"
     ]
    },
    {
     "name": "stdout",
     "output_type": "stream",
     "text": [
      "[youtube] Extracting URL: https://youtube.com/watch?v=OlOdM-qPCUI\n",
      "[youtube] OlOdM-qPCUI: Downloading webpage\n",
      "[youtube] OlOdM-qPCUI: Downloading ios player API JSON\n",
      "[youtube] OlOdM-qPCUI: Downloading web creator player API JSON\n",
      "[youtube] OlOdM-qPCUI: Downloading m3u8 information\n",
      "[info] OlOdM-qPCUI: Downloading subtitles: en\n"
     ]
    },
    {
     "name": "stderr",
     "output_type": "stream",
     "text": [
      "WARNING: ffmpeg not found. The downloaded format may not be the best available. Installing ffmpeg is strongly recommended: https://github.com/yt-dlp/yt-dlp#dependencies\n"
     ]
    },
    {
     "name": "stdout",
     "output_type": "stream",
     "text": [
      "[info] OlOdM-qPCUI: Downloading 1 format(s): 18\n",
      "[info] Writing video subtitles to: data\\en_CNN\\Queen Rania There's a 'glaring double standard' in how world treats Palestinians.en.vtt\n",
      "[download] Destination: data\\en_CNN\\Queen Rania There's a 'glaring double standard' in how world treats Palestinians.en.vtt\n",
      "[download] 100% of   19.47KiB in 00:00:00 at 111.03KiB/s\n",
      "[youtube] Extracting URL: https://youtube.com/watch?v=nz7pS3Hwle8\n",
      "[youtube] nz7pS3Hwle8: Downloading webpage\n",
      "[youtube] nz7pS3Hwle8: Downloading ios player API JSON\n",
      "[youtube] nz7pS3Hwle8: Downloading web creator player API JSON\n",
      "[youtube] nz7pS3Hwle8: Downloading m3u8 information\n",
      "[info] nz7pS3Hwle8: Downloading subtitles: en\n"
     ]
    },
    {
     "name": "stderr",
     "output_type": "stream",
     "text": [
      "WARNING: ffmpeg not found. The downloaded format may not be the best available. Installing ffmpeg is strongly recommended: https://github.com/yt-dlp/yt-dlp#dependencies\n"
     ]
    },
    {
     "name": "stdout",
     "output_type": "stream",
     "text": [
      "[youtube] Extracting URL: https://youtube.com/watch?v=nz7pS3Hwle8\n",
      "[youtube] nz7pS3Hwle8: Downloading webpage\n",
      "[youtube] nz7pS3Hwle8: Downloading ios player API JSON\n",
      "[youtube] nz7pS3Hwle8: Downloading web creator player API JSON\n",
      "[youtube] nz7pS3Hwle8: Downloading m3u8 information\n",
      "[info] nz7pS3Hwle8: Downloading subtitles: en\n"
     ]
    },
    {
     "name": "stderr",
     "output_type": "stream",
     "text": [
      "WARNING: ffmpeg not found. The downloaded format may not be the best available. Installing ffmpeg is strongly recommended: https://github.com/yt-dlp/yt-dlp#dependencies\n"
     ]
    },
    {
     "name": "stdout",
     "output_type": "stream",
     "text": [
      "[info] nz7pS3Hwle8: Downloading 1 format(s): 18\n",
      "[info] Writing video subtitles to: data\\en_CNN\\Sources Hamas used landlines to avoid detection and plan attack.en.vtt\n",
      "[download] Destination: data\\en_CNN\\Sources Hamas used landlines to avoid detection and plan attack.en.vtt\n",
      "[download] 100% of   20.34KiB in 00:00:00 at 89.52KiB/s\n",
      "[youtube] Extracting URL: https://youtube.com/watch?v=rZYv3UWNTSU\n",
      "[youtube] rZYv3UWNTSU: Downloading webpage\n",
      "[youtube] rZYv3UWNTSU: Downloading ios player API JSON\n",
      "[youtube] rZYv3UWNTSU: Downloading web creator player API JSON\n",
      "[youtube] rZYv3UWNTSU: Downloading m3u8 information\n"
     ]
    },
    {
     "name": "stderr",
     "output_type": "stream",
     "text": [
      "WARNING: ffmpeg not found. The downloaded format may not be the best available. Installing ffmpeg is strongly recommended: https://github.com/yt-dlp/yt-dlp#dependencies\n"
     ]
    },
    {
     "name": "stdout",
     "output_type": "stream",
     "text": [
      "subtitle file not found\n",
      "[youtube] Extracting URL: https://youtube.com/watch?v=dPKox2abTik\n",
      "[youtube] dPKox2abTik: Downloading webpage\n",
      "[youtube] dPKox2abTik: Downloading ios player API JSON\n",
      "[youtube] dPKox2abTik: Downloading web creator player API JSON\n",
      "[youtube] dPKox2abTik: Downloading m3u8 information\n",
      "[info] dPKox2abTik: Downloading subtitles: en-uYU-mmqFLq8\n"
     ]
    },
    {
     "name": "stderr",
     "output_type": "stream",
     "text": [
      "WARNING: ffmpeg not found. The downloaded format may not be the best available. Installing ffmpeg is strongly recommended: https://github.com/yt-dlp/yt-dlp#dependencies\n"
     ]
    },
    {
     "name": "stdout",
     "output_type": "stream",
     "text": [
      "[youtube] Extracting URL: https://youtube.com/watch?v=dPKox2abTik\n",
      "[youtube] dPKox2abTik: Downloading webpage\n",
      "[youtube] dPKox2abTik: Downloading ios player API JSON\n",
      "[youtube] dPKox2abTik: Downloading web creator player API JSON\n",
      "[youtube] dPKox2abTik: Downloading m3u8 information\n",
      "[info] dPKox2abTik: Downloading subtitles: en\n"
     ]
    },
    {
     "name": "stderr",
     "output_type": "stream",
     "text": [
      "WARNING: ffmpeg not found. The downloaded format may not be the best available. Installing ffmpeg is strongly recommended: https://github.com/yt-dlp/yt-dlp#dependencies\n"
     ]
    },
    {
     "name": "stdout",
     "output_type": "stream",
     "text": [
      "[info] dPKox2abTik: Downloading 1 format(s): 18\n",
      "[info] Writing video subtitles to: data\\en_CNN\\New IDF video appears to show Hamas attempting to enter Israel by sea.en.vtt\n",
      "[hlsnative] Downloading m3u8 manifest\n",
      "[hlsnative] Total fragments: 1\n",
      "[download] Destination: data\\en_CNN\\New IDF video appears to show Hamas attempting to enter Israel by sea.en.vtt\n",
      "[download] 100% of    6.08KiB in 00:00:00 at 27.18KiB/s                \n",
      "[youtube] Extracting URL: https://youtube.com/watch?v=ndqjS_QYtU0\n",
      "[youtube] ndqjS_QYtU0: Downloading webpage\n",
      "[youtube] ndqjS_QYtU0: Downloading ios player API JSON\n",
      "[youtube] ndqjS_QYtU0: Downloading web creator player API JSON\n",
      "[youtube] ndqjS_QYtU0: Downloading m3u8 information\n",
      "[info] ndqjS_QYtU0: Downloading subtitles: en-uYU-mmqFLq8\n"
     ]
    },
    {
     "name": "stderr",
     "output_type": "stream",
     "text": [
      "WARNING: ffmpeg not found. The downloaded format may not be the best available. Installing ffmpeg is strongly recommended: https://github.com/yt-dlp/yt-dlp#dependencies\n"
     ]
    },
    {
     "name": "stdout",
     "output_type": "stream",
     "text": [
      "[youtube] Extracting URL: https://youtube.com/watch?v=ndqjS_QYtU0\n",
      "[youtube] ndqjS_QYtU0: Downloading webpage\n",
      "[youtube] ndqjS_QYtU0: Downloading ios player API JSON\n",
      "[youtube] ndqjS_QYtU0: Downloading web creator player API JSON\n",
      "[youtube] ndqjS_QYtU0: Downloading m3u8 information\n",
      "[info] ndqjS_QYtU0: Downloading subtitles: en\n"
     ]
    },
    {
     "name": "stderr",
     "output_type": "stream",
     "text": [
      "WARNING: ffmpeg not found. The downloaded format may not be the best available. Installing ffmpeg is strongly recommended: https://github.com/yt-dlp/yt-dlp#dependencies\n"
     ]
    },
    {
     "name": "stdout",
     "output_type": "stream",
     "text": [
      "[info] ndqjS_QYtU0: Downloading 1 format(s): 18\n",
      "[info] Writing video subtitles to: data\\en_CNN\\Inside the network of Hamas tunnels under Gaza.en.vtt\n",
      "[hlsnative] Downloading m3u8 manifest\n",
      "[hlsnative] Total fragments: 1\n",
      "[download] Destination: data\\en_CNN\\Inside the network of Hamas tunnels under Gaza.en.vtt\n",
      "[download] 100% of    7.29KiB in 00:00:00 at 40.76KiB/s                \n",
      "[youtube] Extracting URL: https://youtube.com/watch?v=lX1kQKDZ2NA\n",
      "[youtube] lX1kQKDZ2NA: Downloading webpage\n",
      "[youtube] lX1kQKDZ2NA: Downloading ios player API JSON\n",
      "[youtube] lX1kQKDZ2NA: Downloading web creator player API JSON\n",
      "[youtube] lX1kQKDZ2NA: Downloading m3u8 information\n",
      "[info] lX1kQKDZ2NA: Downloading subtitles: en-uYU-mmqFLq8\n"
     ]
    },
    {
     "name": "stderr",
     "output_type": "stream",
     "text": [
      "WARNING: ffmpeg not found. The downloaded format may not be the best available. Installing ffmpeg is strongly recommended: https://github.com/yt-dlp/yt-dlp#dependencies\n"
     ]
    },
    {
     "name": "stdout",
     "output_type": "stream",
     "text": [
      "[youtube] Extracting URL: https://youtube.com/watch?v=lX1kQKDZ2NA\n",
      "[youtube] lX1kQKDZ2NA: Downloading webpage\n",
      "[youtube] lX1kQKDZ2NA: Downloading ios player API JSON\n",
      "[youtube] lX1kQKDZ2NA: Downloading web creator player API JSON\n",
      "[youtube] lX1kQKDZ2NA: Downloading m3u8 information\n",
      "[info] lX1kQKDZ2NA: Downloading subtitles: en\n"
     ]
    },
    {
     "name": "stderr",
     "output_type": "stream",
     "text": [
      "WARNING: ffmpeg not found. The downloaded format may not be the best available. Installing ffmpeg is strongly recommended: https://github.com/yt-dlp/yt-dlp#dependencies\n"
     ]
    },
    {
     "name": "stdout",
     "output_type": "stream",
     "text": [
      "[info] lX1kQKDZ2NA: Downloading 1 format(s): 18\n",
      "[info] Writing video subtitles to: data\\en_CNN\\Before and after satellite images show destruction in Gaza.en.vtt\n",
      "[hlsnative] Downloading m3u8 manifest\n",
      "[hlsnative] Total fragments: 1\n",
      "[download] Destination: data\\en_CNN\\Before and after satellite images show destruction in Gaza.en.vtt\n",
      "[download] 100% of   69.36KiB in 00:00:00 at 265.05KiB/s               \n",
      "[youtube] Extracting URL: https://youtube.com/watch?v=6SVwfkHvlNg\n",
      "[youtube] 6SVwfkHvlNg: Downloading webpage\n",
      "[youtube] 6SVwfkHvlNg: Downloading ios player API JSON\n",
      "[youtube] 6SVwfkHvlNg: Downloading web creator player API JSON\n",
      "[youtube] 6SVwfkHvlNg: Downloading m3u8 information\n",
      "[info] 6SVwfkHvlNg: Downloading subtitles: en\n"
     ]
    },
    {
     "name": "stderr",
     "output_type": "stream",
     "text": [
      "WARNING: ffmpeg not found. The downloaded format may not be the best available. Installing ffmpeg is strongly recommended: https://github.com/yt-dlp/yt-dlp#dependencies\n"
     ]
    },
    {
     "name": "stdout",
     "output_type": "stream",
     "text": [
      "[youtube] Extracting URL: https://youtube.com/watch?v=6SVwfkHvlNg\n",
      "[youtube] 6SVwfkHvlNg: Downloading webpage\n",
      "[youtube] 6SVwfkHvlNg: Downloading ios player API JSON\n",
      "[youtube] 6SVwfkHvlNg: Downloading web creator player API JSON\n",
      "[youtube] 6SVwfkHvlNg: Downloading m3u8 information\n",
      "[info] 6SVwfkHvlNg: Downloading subtitles: en\n"
     ]
    },
    {
     "name": "stderr",
     "output_type": "stream",
     "text": [
      "WARNING: ffmpeg not found. The downloaded format may not be the best available. Installing ffmpeg is strongly recommended: https://github.com/yt-dlp/yt-dlp#dependencies\n"
     ]
    },
    {
     "name": "stdout",
     "output_type": "stream",
     "text": [
      "[info] 6SVwfkHvlNg: Downloading 1 format(s): 18\n",
      "[info] Writing video subtitles to: data\\en_CNN\\Video shows extensive airstrikes on Gaza.en.vtt\n",
      "[download] Destination: data\\en_CNN\\Video shows extensive airstrikes on Gaza.en.vtt\n",
      "[download] 100% of   16.93KiB in 00:00:00 at 58.52KiB/s\n",
      "[youtube] Extracting URL: https://youtube.com/watch?v=D4ijJkr_d_A\n",
      "[youtube] D4ijJkr_d_A: Downloading webpage\n",
      "[youtube] D4ijJkr_d_A: Downloading ios player API JSON\n",
      "[youtube] D4ijJkr_d_A: Downloading web creator player API JSON\n",
      "[youtube] D4ijJkr_d_A: Downloading m3u8 information\n",
      "[info] D4ijJkr_d_A: Downloading subtitles: en\n"
     ]
    },
    {
     "name": "stderr",
     "output_type": "stream",
     "text": [
      "WARNING: ffmpeg not found. The downloaded format may not be the best available. Installing ffmpeg is strongly recommended: https://github.com/yt-dlp/yt-dlp#dependencies\n"
     ]
    },
    {
     "name": "stdout",
     "output_type": "stream",
     "text": [
      "[youtube] Extracting URL: https://youtube.com/watch?v=D4ijJkr_d_A\n",
      "[youtube] D4ijJkr_d_A: Downloading webpage\n",
      "[youtube] D4ijJkr_d_A: Downloading ios player API JSON\n",
      "[youtube] D4ijJkr_d_A: Downloading web creator player API JSON\n",
      "[youtube] D4ijJkr_d_A: Downloading m3u8 information\n",
      "[info] D4ijJkr_d_A: Downloading subtitles: en\n"
     ]
    },
    {
     "name": "stderr",
     "output_type": "stream",
     "text": [
      "WARNING: ffmpeg not found. The downloaded format may not be the best available. Installing ffmpeg is strongly recommended: https://github.com/yt-dlp/yt-dlp#dependencies\n"
     ]
    },
    {
     "name": "stdout",
     "output_type": "stream",
     "text": [
      "[info] D4ijJkr_d_A: Downloading 1 format(s): 18\n",
      "[info] Writing video subtitles to: data\\en_CNN\\'Who takes over' Tapper presses Netanyahu adviser on the future of Gaza.en.vtt\n",
      "[download] Destination: data\\en_CNN\\'Who takes over' Tapper presses Netanyahu adviser on the future of Gaza.en.vtt\n",
      "[download] 100% of   11.96KiB in 00:00:00 at 35.88KiB/s\n",
      "[youtube] Extracting URL: https://youtube.com/watch?v=x-kdjzeeymQ\n",
      "[youtube] x-kdjzeeymQ: Downloading webpage\n",
      "[youtube] x-kdjzeeymQ: Downloading ios player API JSON\n",
      "[youtube] x-kdjzeeymQ: Downloading web creator player API JSON\n",
      "[youtube] x-kdjzeeymQ: Downloading m3u8 information\n"
     ]
    },
    {
     "name": "stderr",
     "output_type": "stream",
     "text": [
      "WARNING: ffmpeg not found. The downloaded format may not be the best available. Installing ffmpeg is strongly recommended: https://github.com/yt-dlp/yt-dlp#dependencies\n"
     ]
    },
    {
     "name": "stdout",
     "output_type": "stream",
     "text": [
      "subtitle file not found\n",
      "[youtube] Extracting URL: https://youtube.com/watch?v=jC_IGS00cDs\n",
      "[youtube] jC_IGS00cDs: Downloading webpage\n",
      "[youtube] jC_IGS00cDs: Downloading ios player API JSON\n",
      "[youtube] jC_IGS00cDs: Downloading web creator player API JSON\n",
      "[youtube] jC_IGS00cDs: Downloading m3u8 information\n",
      "[info] jC_IGS00cDs: Downloading subtitles: en-uYU-mmqFLq8\n"
     ]
    },
    {
     "name": "stderr",
     "output_type": "stream",
     "text": [
      "WARNING: ffmpeg not found. The downloaded format may not be the best available. Installing ffmpeg is strongly recommended: https://github.com/yt-dlp/yt-dlp#dependencies\n"
     ]
    },
    {
     "name": "stdout",
     "output_type": "stream",
     "text": [
      "[youtube] Extracting URL: https://youtube.com/watch?v=jC_IGS00cDs\n",
      "[youtube] jC_IGS00cDs: Downloading webpage\n",
      "[youtube] jC_IGS00cDs: Downloading ios player API JSON\n",
      "[youtube] jC_IGS00cDs: Downloading web creator player API JSON\n",
      "[youtube] jC_IGS00cDs: Downloading m3u8 information\n",
      "[info] jC_IGS00cDs: Downloading subtitles: en\n"
     ]
    },
    {
     "name": "stderr",
     "output_type": "stream",
     "text": [
      "WARNING: ffmpeg not found. The downloaded format may not be the best available. Installing ffmpeg is strongly recommended: https://github.com/yt-dlp/yt-dlp#dependencies\n"
     ]
    },
    {
     "name": "stdout",
     "output_type": "stream",
     "text": [
      "[info] jC_IGS00cDs: Downloading 1 format(s): 18\n",
      "[info] Writing video subtitles to: data\\en_CNN\\Military analyst Explosions may represent beginning of troop movement into Gaza Strip.en.vtt\n",
      "[hlsnative] Downloading m3u8 manifest\n",
      "[hlsnative] Total fragments: 2\n",
      "[download] Destination: data\\en_CNN\\Military analyst Explosions may represent beginning of troop movement into Gaza Strip.en.vtt\n",
      "[download] 100% of   12.59KiB in 00:00:00 at 36.46KiB/s                \n",
      "[youtube] Extracting URL: https://youtube.com/watch?v=wkep4n5zhA0\n",
      "[youtube] wkep4n5zhA0: Downloading webpage\n",
      "[youtube] wkep4n5zhA0: Downloading ios player API JSON\n",
      "[youtube] wkep4n5zhA0: Downloading web creator player API JSON\n",
      "[youtube] wkep4n5zhA0: Downloading m3u8 information\n"
     ]
    },
    {
     "name": "stderr",
     "output_type": "stream",
     "text": [
      "WARNING: ffmpeg not found. The downloaded format may not be the best available. Installing ffmpeg is strongly recommended: https://github.com/yt-dlp/yt-dlp#dependencies\n"
     ]
    },
    {
     "name": "stdout",
     "output_type": "stream",
     "text": [
      "subtitle file not found\n",
      "[youtube] Extracting URL: https://youtube.com/watch?v=IWLNF_s6xkM\n",
      "[youtube] IWLNF_s6xkM: Downloading webpage\n",
      "[youtube] IWLNF_s6xkM: Downloading ios player API JSON\n",
      "[youtube] IWLNF_s6xkM: Downloading web creator player API JSON\n",
      "[youtube] IWLNF_s6xkM: Downloading m3u8 information\n",
      "[info] IWLNF_s6xkM: Downloading subtitles: en\n"
     ]
    },
    {
     "name": "stderr",
     "output_type": "stream",
     "text": [
      "WARNING: ffmpeg not found. The downloaded format may not be the best available. Installing ffmpeg is strongly recommended: https://github.com/yt-dlp/yt-dlp#dependencies\n"
     ]
    },
    {
     "name": "stdout",
     "output_type": "stream",
     "text": [
      "[youtube] Extracting URL: https://youtube.com/watch?v=IWLNF_s6xkM\n",
      "[youtube] IWLNF_s6xkM: Downloading webpage\n",
      "[youtube] IWLNF_s6xkM: Downloading ios player API JSON\n",
      "[youtube] IWLNF_s6xkM: Downloading web creator player API JSON\n",
      "[youtube] IWLNF_s6xkM: Downloading m3u8 information\n",
      "[info] IWLNF_s6xkM: Downloading subtitles: en\n"
     ]
    },
    {
     "name": "stderr",
     "output_type": "stream",
     "text": [
      "WARNING: ffmpeg not found. The downloaded format may not be the best available. Installing ffmpeg is strongly recommended: https://github.com/yt-dlp/yt-dlp#dependencies\n"
     ]
    },
    {
     "name": "stdout",
     "output_type": "stream",
     "text": [
      "[info] IWLNF_s6xkM: Downloading 1 format(s): 18\n",
      "[info] Writing video subtitles to: data\\en_CNN\\Why some ultra-Orthodox Jews are enlisting in the IDF.en.vtt\n",
      "[download] Destination: data\\en_CNN\\Why some ultra-Orthodox Jews are enlisting in the IDF.en.vtt\n",
      "[download] 100% of    7.39KiB in 00:00:00 at 34.92KiB/s\n",
      "[youtube] Extracting URL: https://youtube.com/watch?v=WDhnkONaM24\n",
      "[youtube] WDhnkONaM24: Downloading webpage\n",
      "[youtube] WDhnkONaM24: Downloading ios player API JSON\n",
      "[youtube] WDhnkONaM24: Downloading web creator player API JSON\n",
      "[youtube] WDhnkONaM24: Downloading m3u8 information\n"
     ]
    },
    {
     "name": "stderr",
     "output_type": "stream",
     "text": [
      "WARNING: ffmpeg not found. The downloaded format may not be the best available. Installing ffmpeg is strongly recommended: https://github.com/yt-dlp/yt-dlp#dependencies\n"
     ]
    },
    {
     "name": "stdout",
     "output_type": "stream",
     "text": [
      "subtitle file not found\n",
      "[youtube] Extracting URL: https://youtube.com/watch?v=Vt6uXm4wTpI\n",
      "[youtube] Vt6uXm4wTpI: Downloading webpage\n",
      "[youtube] Vt6uXm4wTpI: Downloading ios player API JSON\n",
      "[youtube] Vt6uXm4wTpI: Downloading web creator player API JSON\n",
      "[youtube] Vt6uXm4wTpI: Downloading m3u8 information\n"
     ]
    },
    {
     "name": "stderr",
     "output_type": "stream",
     "text": [
      "WARNING: ffmpeg not found. The downloaded format may not be the best available. Installing ffmpeg is strongly recommended: https://github.com/yt-dlp/yt-dlp#dependencies\n"
     ]
    },
    {
     "name": "stdout",
     "output_type": "stream",
     "text": [
      "subtitle file not found\n",
      "[youtube] Extracting URL: https://youtube.com/watch?v=gm-Ag7iMJnM\n",
      "[youtube] gm-Ag7iMJnM: Downloading webpage\n",
      "[youtube] gm-Ag7iMJnM: Downloading ios player API JSON\n",
      "[youtube] gm-Ag7iMJnM: Downloading web creator player API JSON\n",
      "[youtube] gm-Ag7iMJnM: Downloading m3u8 information\n"
     ]
    },
    {
     "name": "stderr",
     "output_type": "stream",
     "text": [
      "WARNING: ffmpeg not found. The downloaded format may not be the best available. Installing ffmpeg is strongly recommended: https://github.com/yt-dlp/yt-dlp#dependencies\n"
     ]
    },
    {
     "name": "stdout",
     "output_type": "stream",
     "text": [
      "subtitle file not found\n",
      "[youtube] Extracting URL: https://youtube.com/watch?v=nSR_IINsj68\n",
      "[youtube] nSR_IINsj68: Downloading webpage\n",
      "[youtube] nSR_IINsj68: Downloading ios player API JSON\n",
      "[youtube] nSR_IINsj68: Downloading web creator player API JSON\n",
      "[youtube] nSR_IINsj68: Downloading m3u8 information\n"
     ]
    },
    {
     "name": "stderr",
     "output_type": "stream",
     "text": [
      "WARNING: ffmpeg not found. The downloaded format may not be the best available. Installing ffmpeg is strongly recommended: https://github.com/yt-dlp/yt-dlp#dependencies\n"
     ]
    },
    {
     "name": "stdout",
     "output_type": "stream",
     "text": [
      "subtitle file not found\n",
      "[youtube] Extracting URL: https://youtube.com/watch?v=QWIU3wf7bmI\n",
      "[youtube] QWIU3wf7bmI: Downloading webpage\n",
      "[youtube] QWIU3wf7bmI: Downloading ios player API JSON\n",
      "[youtube] QWIU3wf7bmI: This video is age-restricted; some formats may be missing without authentication. Use --cookies-from-browser or --cookies for the authentication. See  https://github.com/yt-dlp/yt-dlp/wiki/FAQ#how-do-i-pass-cookies-to-yt-dlp  for how to manually pass cookies\n",
      "[youtube] QWIU3wf7bmI: Downloading tv embedded player API JSON\n",
      "[youtube] QWIU3wf7bmI: Downloading web creator player API JSON\n",
      "[info] QWIU3wf7bmI: Downloading subtitles: en\n"
     ]
    },
    {
     "name": "stderr",
     "output_type": "stream",
     "text": [
      "WARNING: ffmpeg not found. The downloaded format may not be the best available. Installing ffmpeg is strongly recommended: https://github.com/yt-dlp/yt-dlp#dependencies\n"
     ]
    },
    {
     "name": "stdout",
     "output_type": "stream",
     "text": [
      "[youtube] Extracting URL: https://youtube.com/watch?v=QWIU3wf7bmI\n",
      "[youtube] QWIU3wf7bmI: Downloading webpage\n",
      "[youtube] QWIU3wf7bmI: Downloading ios player API JSON\n",
      "[youtube] QWIU3wf7bmI: This video is age-restricted; some formats may be missing without authentication. Use --cookies-from-browser or --cookies for the authentication. See  https://github.com/yt-dlp/yt-dlp/wiki/FAQ#how-do-i-pass-cookies-to-yt-dlp  for how to manually pass cookies\n",
      "[youtube] QWIU3wf7bmI: Downloading tv embedded player API JSON\n",
      "[youtube] QWIU3wf7bmI: Downloading web creator player API JSON\n",
      "[info] QWIU3wf7bmI: Downloading subtitles: ab-en\n"
     ]
    },
    {
     "name": "stderr",
     "output_type": "stream",
     "text": [
      "WARNING: ffmpeg not found. The downloaded format may not be the best available. Installing ffmpeg is strongly recommended: https://github.com/yt-dlp/yt-dlp#dependencies\n"
     ]
    },
    {
     "name": "stdout",
     "output_type": "stream",
     "text": [
      "[info] QWIU3wf7bmI: Downloading 1 format(s): 18\n",
      "[info] Writing video subtitles to: data\\en_CNN\\House Minority leader weighs in on funding for Israel.ab-en.vtt\n",
      "[download] Destination: data\\en_CNN\\House Minority leader weighs in on funding for Israel.ab-en.vtt\n",
      "[download] 100% of   16.40KiB in 00:00:00 at 32.60KiB/s\n",
      "[youtube] Extracting URL: https://youtube.com/watch?v=hyqFFsRifFM\n",
      "[youtube] hyqFFsRifFM: Downloading webpage\n",
      "[youtube] hyqFFsRifFM: Downloading ios player API JSON\n",
      "[youtube] hyqFFsRifFM: Downloading web creator player API JSON\n",
      "[youtube] hyqFFsRifFM: Downloading m3u8 information\n",
      "[info] hyqFFsRifFM: Downloading subtitles: en\n"
     ]
    },
    {
     "name": "stderr",
     "output_type": "stream",
     "text": [
      "WARNING: ffmpeg not found. The downloaded format may not be the best available. Installing ffmpeg is strongly recommended: https://github.com/yt-dlp/yt-dlp#dependencies\n"
     ]
    },
    {
     "name": "stdout",
     "output_type": "stream",
     "text": [
      "[youtube] Extracting URL: https://youtube.com/watch?v=hyqFFsRifFM\n",
      "[youtube] hyqFFsRifFM: Downloading webpage\n",
      "[youtube] hyqFFsRifFM: Downloading ios player API JSON\n",
      "[youtube] hyqFFsRifFM: Downloading web creator player API JSON\n",
      "[youtube] hyqFFsRifFM: Downloading m3u8 information\n",
      "[info] hyqFFsRifFM: Downloading subtitles: en\n"
     ]
    },
    {
     "name": "stderr",
     "output_type": "stream",
     "text": [
      "WARNING: ffmpeg not found. The downloaded format may not be the best available. Installing ffmpeg is strongly recommended: https://github.com/yt-dlp/yt-dlp#dependencies\n"
     ]
    },
    {
     "name": "stdout",
     "output_type": "stream",
     "text": [
      "[info] hyqFFsRifFM: Downloading 1 format(s): 18\n",
      "[info] Writing video subtitles to: data\\en_CNN\\‘You decided to still drop a bomb’ Wolf presses IDF spokesman on Israeli airstrike on refugee camp.en.vtt\n",
      "[download] Destination: data\\en_CNN\\‘You decided to still drop a bomb’ Wolf presses IDF spokesman on Israeli airstrike on refugee camp.en.vtt\n",
      "[download] 100% of    6.18KiB in 00:00:00 at 33.70KiB/s\n",
      "[youtube] Extracting URL: https://youtube.com/watch?v=1FTaLFaj5rs\n",
      "[youtube] 1FTaLFaj5rs: Downloading webpage\n",
      "[youtube] 1FTaLFaj5rs: Downloading ios player API JSON\n",
      "[youtube] 1FTaLFaj5rs: Downloading web creator player API JSON\n",
      "[youtube] 1FTaLFaj5rs: Downloading m3u8 information\n"
     ]
    },
    {
     "name": "stderr",
     "output_type": "stream",
     "text": [
      "WARNING: ffmpeg not found. The downloaded format may not be the best available. Installing ffmpeg is strongly recommended: https://github.com/yt-dlp/yt-dlp#dependencies\n"
     ]
    },
    {
     "name": "stdout",
     "output_type": "stream",
     "text": [
      "subtitle file not found\n",
      "[youtube] Extracting URL: https://youtube.com/watch?v=WaTUjvqJ20E\n",
      "[youtube] WaTUjvqJ20E: Downloading webpage\n",
      "[youtube] WaTUjvqJ20E: Downloading ios player API JSON\n",
      "[youtube] WaTUjvqJ20E: Downloading web creator player API JSON\n",
      "[youtube] WaTUjvqJ20E: Downloading m3u8 information\n"
     ]
    },
    {
     "name": "stderr",
     "output_type": "stream",
     "text": [
      "WARNING: ffmpeg not found. The downloaded format may not be the best available. Installing ffmpeg is strongly recommended: https://github.com/yt-dlp/yt-dlp#dependencies\n"
     ]
    },
    {
     "name": "stdout",
     "output_type": "stream",
     "text": [
      "subtitle file not found\n",
      "[youtube] Extracting URL: https://youtube.com/watch?v=DPNVq3BXy-U\n",
      "[youtube] DPNVq3BXy-U: Downloading webpage\n",
      "[youtube] DPNVq3BXy-U: Downloading ios player API JSON\n",
      "[youtube] DPNVq3BXy-U: Downloading web creator player API JSON\n",
      "[youtube] DPNVq3BXy-U: Downloading m3u8 information\n",
      "[info] DPNVq3BXy-U: Downloading subtitles: en\n"
     ]
    },
    {
     "name": "stderr",
     "output_type": "stream",
     "text": [
      "WARNING: ffmpeg not found. The downloaded format may not be the best available. Installing ffmpeg is strongly recommended: https://github.com/yt-dlp/yt-dlp#dependencies\n"
     ]
    },
    {
     "name": "stdout",
     "output_type": "stream",
     "text": [
      "[youtube] Extracting URL: https://youtube.com/watch?v=DPNVq3BXy-U\n",
      "[youtube] DPNVq3BXy-U: Downloading webpage\n",
      "[youtube] DPNVq3BXy-U: Downloading ios player API JSON\n",
      "[youtube] DPNVq3BXy-U: Downloading web creator player API JSON\n",
      "[youtube] DPNVq3BXy-U: Downloading m3u8 information\n",
      "[info] DPNVq3BXy-U: Downloading subtitles: en\n"
     ]
    },
    {
     "name": "stderr",
     "output_type": "stream",
     "text": [
      "WARNING: ffmpeg not found. The downloaded format may not be the best available. Installing ffmpeg is strongly recommended: https://github.com/yt-dlp/yt-dlp#dependencies\n"
     ]
    },
    {
     "name": "stdout",
     "output_type": "stream",
     "text": [
      "[info] DPNVq3BXy-U: Downloading 1 format(s): 18\n",
      "[info] Writing video subtitles to: data\\en_CNN\\'Nobody can win a war like this' Jewish student reflects on Israeli-Hamas war.en.vtt\n",
      "[download] Destination: data\\en_CNN\\'Nobody can win a war like this' Jewish student reflects on Israeli-Hamas war.en.vtt\n",
      "[download] 100% of   12.53KiB in 00:00:00 at 61.55KiB/s\n",
      "[youtube] Extracting URL: https://youtube.com/watch?v=JOINc6J8sn0\n",
      "[youtube] JOINc6J8sn0: Downloading webpage\n",
      "[youtube] JOINc6J8sn0: Downloading ios player API JSON\n",
      "[youtube] JOINc6J8sn0: This video is age-restricted; some formats may be missing without authentication. Use --cookies-from-browser or --cookies for the authentication. See  https://github.com/yt-dlp/yt-dlp/wiki/FAQ#how-do-i-pass-cookies-to-yt-dlp  for how to manually pass cookies\n",
      "[youtube] JOINc6J8sn0: Downloading tv embedded player API JSON\n",
      "[youtube] JOINc6J8sn0: Downloading web creator player API JSON\n",
      "[info] JOINc6J8sn0: Downloading subtitles: en\n"
     ]
    },
    {
     "name": "stderr",
     "output_type": "stream",
     "text": [
      "WARNING: ffmpeg not found. The downloaded format may not be the best available. Installing ffmpeg is strongly recommended: https://github.com/yt-dlp/yt-dlp#dependencies\n"
     ]
    },
    {
     "name": "stdout",
     "output_type": "stream",
     "text": [
      "[youtube] Extracting URL: https://youtube.com/watch?v=JOINc6J8sn0\n",
      "[youtube] JOINc6J8sn0: Downloading webpage\n",
      "[youtube] JOINc6J8sn0: Downloading ios player API JSON\n",
      "[youtube] JOINc6J8sn0: This video is age-restricted; some formats may be missing without authentication. Use --cookies-from-browser or --cookies for the authentication. See  https://github.com/yt-dlp/yt-dlp/wiki/FAQ#how-do-i-pass-cookies-to-yt-dlp  for how to manually pass cookies\n",
      "[youtube] JOINc6J8sn0: Downloading tv embedded player API JSON\n",
      "[youtube] JOINc6J8sn0: Downloading web creator player API JSON\n",
      "[info] JOINc6J8sn0: Downloading subtitles: ab-en\n"
     ]
    },
    {
     "name": "stderr",
     "output_type": "stream",
     "text": [
      "WARNING: ffmpeg not found. The downloaded format may not be the best available. Installing ffmpeg is strongly recommended: https://github.com/yt-dlp/yt-dlp#dependencies\n"
     ]
    },
    {
     "name": "stdout",
     "output_type": "stream",
     "text": [
      "[info] JOINc6J8sn0: Downloading 1 format(s): 18\n",
      "[info] Writing video subtitles to: data\\en_CNN\\CNN anchor presses Netanyahu adviser on civilian deaths at Jabalya camp.ab-en.vtt\n",
      "[download] Destination: data\\en_CNN\\CNN anchor presses Netanyahu adviser on civilian deaths at Jabalya camp.ab-en.vtt\n",
      "[download] 100% of   28.01KiB in 00:00:00 at 55.48KiB/s\n",
      "[youtube] Extracting URL: https://youtube.com/watch?v=POUtxaKDUG0\n",
      "[youtube] POUtxaKDUG0: Downloading webpage\n",
      "[youtube] POUtxaKDUG0: Downloading ios player API JSON\n",
      "[youtube] POUtxaKDUG0: Downloading web creator player API JSON\n",
      "[youtube] POUtxaKDUG0: Downloading m3u8 information\n"
     ]
    },
    {
     "name": "stderr",
     "output_type": "stream",
     "text": [
      "WARNING: ffmpeg not found. The downloaded format may not be the best available. Installing ffmpeg is strongly recommended: https://github.com/yt-dlp/yt-dlp#dependencies\n"
     ]
    },
    {
     "name": "stdout",
     "output_type": "stream",
     "text": [
      "subtitle file not found\n",
      "[youtube] Extracting URL: https://youtube.com/watch?v=I5fBPAKpaKo\n",
      "[youtube] I5fBPAKpaKo: Downloading webpage\n",
      "[youtube] I5fBPAKpaKo: Downloading ios player API JSON\n",
      "[youtube] I5fBPAKpaKo: Downloading web creator player API JSON\n",
      "[youtube] I5fBPAKpaKo: Downloading m3u8 information\n",
      "[info] I5fBPAKpaKo: Downloading subtitles: en\n"
     ]
    },
    {
     "name": "stderr",
     "output_type": "stream",
     "text": [
      "WARNING: ffmpeg not found. The downloaded format may not be the best available. Installing ffmpeg is strongly recommended: https://github.com/yt-dlp/yt-dlp#dependencies\n"
     ]
    },
    {
     "name": "stdout",
     "output_type": "stream",
     "text": [
      "[youtube] Extracting URL: https://youtube.com/watch?v=I5fBPAKpaKo\n",
      "[youtube] I5fBPAKpaKo: Downloading webpage\n",
      "[youtube] I5fBPAKpaKo: Downloading ios player API JSON\n",
      "[youtube] I5fBPAKpaKo: Downloading web creator player API JSON\n",
      "[youtube] I5fBPAKpaKo: Downloading m3u8 information\n",
      "[info] I5fBPAKpaKo: Downloading subtitles: en\n"
     ]
    },
    {
     "name": "stderr",
     "output_type": "stream",
     "text": [
      "WARNING: ffmpeg not found. The downloaded format may not be the best available. Installing ffmpeg is strongly recommended: https://github.com/yt-dlp/yt-dlp#dependencies\n"
     ]
    },
    {
     "name": "stdout",
     "output_type": "stream",
     "text": [
      "[info] I5fBPAKpaKo: Downloading 1 format(s): 18\n",
      "[info] Writing video subtitles to: data\\en_CNN\\CNN anchor asks IDF spokesman where Palestinians were supposed to go after strike. Hear his response.en.vtt\n",
      "[download] Destination: data\\en_CNN\\CNN anchor asks IDF spokesman where Palestinians were supposed to go after strike. Hear his response.en.vtt\n",
      "[download] 100% of    7.62KiB in 00:00:00 at 85.79KiB/s\n",
      "[youtube] Extracting URL: https://youtube.com/watch?v=pWd-0OiOI9M\n",
      "[youtube] pWd-0OiOI9M: Downloading webpage\n",
      "[youtube] pWd-0OiOI9M: Downloading ios player API JSON\n",
      "[youtube] pWd-0OiOI9M: This video is age-restricted; some formats may be missing without authentication. Use --cookies-from-browser or --cookies for the authentication. See  https://github.com/yt-dlp/yt-dlp/wiki/FAQ#how-do-i-pass-cookies-to-yt-dlp  for how to manually pass cookies\n",
      "[youtube] pWd-0OiOI9M: Downloading tv embedded player API JSON\n",
      "[youtube] pWd-0OiOI9M: Downloading web creator player API JSON\n",
      "[info] pWd-0OiOI9M: Downloading subtitles: en\n"
     ]
    },
    {
     "name": "stderr",
     "output_type": "stream",
     "text": [
      "WARNING: ffmpeg not found. The downloaded format may not be the best available. Installing ffmpeg is strongly recommended: https://github.com/yt-dlp/yt-dlp#dependencies\n"
     ]
    },
    {
     "name": "stdout",
     "output_type": "stream",
     "text": [
      "[youtube] Extracting URL: https://youtube.com/watch?v=pWd-0OiOI9M\n",
      "[youtube] pWd-0OiOI9M: Downloading webpage\n",
      "[youtube] pWd-0OiOI9M: Downloading ios player API JSON\n",
      "[youtube] pWd-0OiOI9M: This video is age-restricted; some formats may be missing without authentication. Use --cookies-from-browser or --cookies for the authentication. See  https://github.com/yt-dlp/yt-dlp/wiki/FAQ#how-do-i-pass-cookies-to-yt-dlp  for how to manually pass cookies\n",
      "[youtube] pWd-0OiOI9M: Downloading tv embedded player API JSON\n",
      "[youtube] pWd-0OiOI9M: Downloading web creator player API JSON\n",
      "[info] pWd-0OiOI9M: Downloading subtitles: ab-en\n"
     ]
    },
    {
     "name": "stderr",
     "output_type": "stream",
     "text": [
      "WARNING: ffmpeg not found. The downloaded format may not be the best available. Installing ffmpeg is strongly recommended: https://github.com/yt-dlp/yt-dlp#dependencies\n"
     ]
    },
    {
     "name": "stdout",
     "output_type": "stream",
     "text": [
      "[info] pWd-0OiOI9M: Downloading 1 format(s): 18\n",
      "[info] Writing video subtitles to: data\\en_CNN\\Video shows chaos and horror following Israel's latest airstrike to refugee camp in Gaza.ab-en.vtt\n",
      "[download] Destination: data\\en_CNN\\Video shows chaos and horror following Israel's latest airstrike to refugee camp in Gaza.ab-en.vtt\n",
      "[download] 100% of   20.63KiB in 00:00:00 at 48.91KiB/s\n",
      "[youtube] Extracting URL: https://youtube.com/watch?v=1itbVmX50Xg\n",
      "[youtube] 1itbVmX50Xg: Downloading webpage\n",
      "[youtube] 1itbVmX50Xg: Downloading ios player API JSON\n",
      "[youtube] 1itbVmX50Xg: Downloading web creator player API JSON\n",
      "[youtube] 1itbVmX50Xg: Downloading m3u8 information\n",
      "[info] 1itbVmX50Xg: Downloading subtitles: en-uYU-mmqFLq8\n"
     ]
    },
    {
     "name": "stderr",
     "output_type": "stream",
     "text": [
      "WARNING: ffmpeg not found. The downloaded format may not be the best available. Installing ffmpeg is strongly recommended: https://github.com/yt-dlp/yt-dlp#dependencies\n"
     ]
    },
    {
     "name": "stdout",
     "output_type": "stream",
     "text": [
      "[youtube] Extracting URL: https://youtube.com/watch?v=1itbVmX50Xg\n",
      "[youtube] 1itbVmX50Xg: Downloading webpage\n",
      "[youtube] 1itbVmX50Xg: Downloading ios player API JSON\n",
      "[youtube] 1itbVmX50Xg: Downloading web creator player API JSON\n",
      "[youtube] 1itbVmX50Xg: Downloading m3u8 information\n",
      "[info] 1itbVmX50Xg: Downloading subtitles: en\n"
     ]
    },
    {
     "name": "stderr",
     "output_type": "stream",
     "text": [
      "WARNING: ffmpeg not found. The downloaded format may not be the best available. Installing ffmpeg is strongly recommended: https://github.com/yt-dlp/yt-dlp#dependencies\n"
     ]
    },
    {
     "name": "stdout",
     "output_type": "stream",
     "text": [
      "[info] 1itbVmX50Xg: Downloading 1 format(s): 18\n",
      "[info] Writing video subtitles to: data\\en_CNN\\Rabbi confronts President Biden.en.vtt\n",
      "[hlsnative] Downloading m3u8 manifest\n",
      "[hlsnative] Total fragments: 1\n",
      "[download] Destination: data\\en_CNN\\Rabbi confronts President Biden.en.vtt\n",
      "[download] 100% of   93.26KiB in 00:00:00 at 324.80KiB/s               \n",
      "[youtube] Extracting URL: https://youtube.com/watch?v=ARPzwHM-6aY\n",
      "[youtube] ARPzwHM-6aY: Downloading webpage\n",
      "[youtube] ARPzwHM-6aY: Downloading ios player API JSON\n",
      "[youtube] ARPzwHM-6aY: Downloading web creator player API JSON\n",
      "[youtube] ARPzwHM-6aY: Downloading m3u8 information\n"
     ]
    },
    {
     "name": "stderr",
     "output_type": "stream",
     "text": [
      "WARNING: ffmpeg not found. The downloaded format may not be the best available. Installing ffmpeg is strongly recommended: https://github.com/yt-dlp/yt-dlp#dependencies\n"
     ]
    },
    {
     "name": "stdout",
     "output_type": "stream",
     "text": [
      "subtitle file not found\n",
      "[youtube] Extracting URL: https://youtube.com/watch?v=UWl2BivEwnM\n",
      "[youtube] UWl2BivEwnM: Downloading webpage\n",
      "[youtube] UWl2BivEwnM: Downloading ios player API JSON\n",
      "[youtube] UWl2BivEwnM: Downloading web creator player API JSON\n",
      "[youtube] UWl2BivEwnM: Downloading m3u8 information\n",
      "[info] UWl2BivEwnM: Downloading subtitles: en\n"
     ]
    },
    {
     "name": "stderr",
     "output_type": "stream",
     "text": [
      "WARNING: ffmpeg not found. The downloaded format may not be the best available. Installing ffmpeg is strongly recommended: https://github.com/yt-dlp/yt-dlp#dependencies\n"
     ]
    },
    {
     "name": "stdout",
     "output_type": "stream",
     "text": [
      "[youtube] Extracting URL: https://youtube.com/watch?v=UWl2BivEwnM\n",
      "[youtube] UWl2BivEwnM: Downloading webpage\n",
      "[youtube] UWl2BivEwnM: Downloading ios player API JSON\n",
      "[youtube] UWl2BivEwnM: Downloading web creator player API JSON\n",
      "[youtube] UWl2BivEwnM: Downloading m3u8 information\n",
      "[info] UWl2BivEwnM: Downloading subtitles: en\n"
     ]
    },
    {
     "name": "stderr",
     "output_type": "stream",
     "text": [
      "WARNING: ffmpeg not found. The downloaded format may not be the best available. Installing ffmpeg is strongly recommended: https://github.com/yt-dlp/yt-dlp#dependencies\n"
     ]
    },
    {
     "name": "stdout",
     "output_type": "stream",
     "text": [
      "[info] UWl2BivEwnM: Downloading 1 format(s): 18\n",
      "[info] Writing video subtitles to: data\\en_CNN\\Dramatic video shows rockets fired into Gaza.en.vtt\n",
      "[download] Destination: data\\en_CNN\\Dramatic video shows rockets fired into Gaza.en.vtt\n",
      "[download] 100% of   22.08KiB in 00:00:00 at 67.89KiB/s\n",
      "[youtube] Extracting URL: https://youtube.com/watch?v=_BjBr7Kf8rA\n",
      "[youtube] _BjBr7Kf8rA: Downloading webpage\n",
      "[youtube] _BjBr7Kf8rA: Downloading ios player API JSON\n",
      "[youtube] _BjBr7Kf8rA: Downloading web creator player API JSON\n",
      "[youtube] _BjBr7Kf8rA: Downloading m3u8 information\n",
      "[info] _BjBr7Kf8rA: Downloading subtitles: en\n"
     ]
    },
    {
     "name": "stderr",
     "output_type": "stream",
     "text": [
      "WARNING: ffmpeg not found. The downloaded format may not be the best available. Installing ffmpeg is strongly recommended: https://github.com/yt-dlp/yt-dlp#dependencies\n"
     ]
    },
    {
     "name": "stdout",
     "output_type": "stream",
     "text": [
      "[youtube] Extracting URL: https://youtube.com/watch?v=_BjBr7Kf8rA\n",
      "[youtube] _BjBr7Kf8rA: Downloading webpage\n",
      "[youtube] _BjBr7Kf8rA: Downloading ios player API JSON\n",
      "[youtube] _BjBr7Kf8rA: Downloading web creator player API JSON\n",
      "[youtube] _BjBr7Kf8rA: Downloading m3u8 information\n",
      "[info] _BjBr7Kf8rA: Downloading subtitles: en\n"
     ]
    },
    {
     "name": "stderr",
     "output_type": "stream",
     "text": [
      "WARNING: ffmpeg not found. The downloaded format may not be the best available. Installing ffmpeg is strongly recommended: https://github.com/yt-dlp/yt-dlp#dependencies\n"
     ]
    },
    {
     "name": "stdout",
     "output_type": "stream",
     "text": [
      "[info] _BjBr7Kf8rA: Downloading 1 format(s): 18\n",
      "[info] Writing video subtitles to: data\\en_CNN\\US intel Hezbollah could be getting Russian missile system.en.vtt\n",
      "[download] Destination: data\\en_CNN\\US intel Hezbollah could be getting Russian missile system.en.vtt\n",
      "[download] 100% of   13.04KiB in 00:00:00 at 71.21KiB/s\n",
      "[youtube] Extracting URL: https://youtube.com/watch?v=4wJDe40On2k\n",
      "[youtube] 4wJDe40On2k: Downloading webpage\n",
      "[youtube] 4wJDe40On2k: Downloading ios player API JSON\n",
      "[youtube] 4wJDe40On2k: Downloading web creator player API JSON\n",
      "[youtube] 4wJDe40On2k: Downloading m3u8 information\n",
      "[info] 4wJDe40On2k: Downloading subtitles: en\n"
     ]
    },
    {
     "name": "stderr",
     "output_type": "stream",
     "text": [
      "WARNING: ffmpeg not found. The downloaded format may not be the best available. Installing ffmpeg is strongly recommended: https://github.com/yt-dlp/yt-dlp#dependencies\n"
     ]
    },
    {
     "name": "stdout",
     "output_type": "stream",
     "text": [
      "[youtube] Extracting URL: https://youtube.com/watch?v=4wJDe40On2k\n",
      "[youtube] 4wJDe40On2k: Downloading webpage\n",
      "[youtube] 4wJDe40On2k: Downloading ios player API JSON\n",
      "[youtube] 4wJDe40On2k: Downloading web creator player API JSON\n",
      "[youtube] 4wJDe40On2k: Downloading m3u8 information\n",
      "[info] 4wJDe40On2k: Downloading subtitles: en\n"
     ]
    },
    {
     "name": "stderr",
     "output_type": "stream",
     "text": [
      "WARNING: ffmpeg not found. The downloaded format may not be the best available. Installing ffmpeg is strongly recommended: https://github.com/yt-dlp/yt-dlp#dependencies\n"
     ]
    },
    {
     "name": "stdout",
     "output_type": "stream",
     "text": [
      "[info] 4wJDe40On2k: Downloading 1 format(s): 18\n",
      "[info] Writing video subtitles to: data\\en_CNN\\Hear from American doctor finally out of Gaza.en.vtt\n",
      "[download] Destination: data\\en_CNN\\Hear from American doctor finally out of Gaza.en.vtt\n",
      "[download] 100% of    9.64KiB in 00:00:00 at 47.17KiB/s\n",
      "[youtube] Extracting URL: https://youtube.com/watch?v=JCwNGCpjfrs\n",
      "[youtube] JCwNGCpjfrs: Downloading webpage\n",
      "[youtube] JCwNGCpjfrs: Downloading ios player API JSON\n",
      "[youtube] JCwNGCpjfrs: Downloading web creator player API JSON\n",
      "[youtube] JCwNGCpjfrs: Downloading m3u8 information\n",
      "[info] JCwNGCpjfrs: Downloading subtitles: en-uYU-mmqFLq8\n"
     ]
    },
    {
     "name": "stderr",
     "output_type": "stream",
     "text": [
      "WARNING: ffmpeg not found. The downloaded format may not be the best available. Installing ffmpeg is strongly recommended: https://github.com/yt-dlp/yt-dlp#dependencies\n"
     ]
    },
    {
     "name": "stdout",
     "output_type": "stream",
     "text": [
      "[youtube] Extracting URL: https://youtube.com/watch?v=JCwNGCpjfrs\n",
      "[youtube] JCwNGCpjfrs: Downloading webpage\n",
      "[youtube] JCwNGCpjfrs: Downloading ios player API JSON\n",
      "[youtube] JCwNGCpjfrs: Downloading web creator player API JSON\n",
      "[youtube] JCwNGCpjfrs: Downloading m3u8 information\n",
      "[info] JCwNGCpjfrs: Downloading subtitles: en\n"
     ]
    },
    {
     "name": "stderr",
     "output_type": "stream",
     "text": [
      "WARNING: ffmpeg not found. The downloaded format may not be the best available. Installing ffmpeg is strongly recommended: https://github.com/yt-dlp/yt-dlp#dependencies\n"
     ]
    },
    {
     "name": "stdout",
     "output_type": "stream",
     "text": [
      "[info] JCwNGCpjfrs: Downloading 1 format(s): 18\n",
      "[info] Writing video subtitles to: data\\en_CNN\\How Hamas is attempting to control the narrative.en.vtt\n",
      "[hlsnative] Downloading m3u8 manifest\n",
      "[hlsnative] Total fragments: 1\n",
      "[download] Destination: data\\en_CNN\\How Hamas is attempting to control the narrative.en.vtt\n",
      "[download] 100% of   50.74KiB in 00:00:00 at 183.15KiB/s               \n",
      "[youtube] Extracting URL: https://youtube.com/watch?v=mQopuWAIons\n",
      "[youtube] mQopuWAIons: Downloading webpage\n",
      "[youtube] mQopuWAIons: Downloading ios player API JSON\n",
      "[youtube] mQopuWAIons: Downloading web creator player API JSON\n",
      "[youtube] mQopuWAIons: Downloading m3u8 information\n",
      "[info] mQopuWAIons: Downloading subtitles: en-uYU-mmqFLq8\n"
     ]
    },
    {
     "name": "stderr",
     "output_type": "stream",
     "text": [
      "WARNING: ffmpeg not found. The downloaded format may not be the best available. Installing ffmpeg is strongly recommended: https://github.com/yt-dlp/yt-dlp#dependencies\n"
     ]
    },
    {
     "name": "stdout",
     "output_type": "stream",
     "text": [
      "[youtube] Extracting URL: https://youtube.com/watch?v=mQopuWAIons\n",
      "[youtube] mQopuWAIons: Downloading webpage\n",
      "[youtube] mQopuWAIons: Downloading ios player API JSON\n",
      "[youtube] mQopuWAIons: Downloading web creator player API JSON\n",
      "[youtube] mQopuWAIons: Downloading m3u8 information\n",
      "[info] mQopuWAIons: Downloading subtitles: en\n"
     ]
    },
    {
     "name": "stderr",
     "output_type": "stream",
     "text": [
      "WARNING: ffmpeg not found. The downloaded format may not be the best available. Installing ffmpeg is strongly recommended: https://github.com/yt-dlp/yt-dlp#dependencies\n"
     ]
    },
    {
     "name": "stdout",
     "output_type": "stream",
     "text": [
      "[info] mQopuWAIons: Downloading 1 format(s): 18\n",
      "[info] Writing video subtitles to: data\\en_CNN\\Hear what UN official told Amanpour about the reality in Gaza.en.vtt\n",
      "[hlsnative] Downloading m3u8 manifest\n",
      "[hlsnative] Total fragments: 2\n",
      "[download] Destination: data\\en_CNN\\Hear what UN official told Amanpour about the reality in Gaza.en.vtt\n",
      "[download] 100% of  144.23KiB in 00:00:00 at 275.34KiB/s               \n",
      "[youtube] Extracting URL: https://youtube.com/watch?v=nx2pCaaFtwc\n",
      "[youtube] nx2pCaaFtwc: Downloading webpage\n",
      "[youtube] nx2pCaaFtwc: Downloading ios player API JSON\n",
      "[youtube] nx2pCaaFtwc: Downloading web creator player API JSON\n",
      "[youtube] nx2pCaaFtwc: Downloading m3u8 information\n"
     ]
    },
    {
     "name": "stderr",
     "output_type": "stream",
     "text": [
      "WARNING: ffmpeg not found. The downloaded format may not be the best available. Installing ffmpeg is strongly recommended: https://github.com/yt-dlp/yt-dlp#dependencies\n"
     ]
    },
    {
     "name": "stdout",
     "output_type": "stream",
     "text": [
      "subtitle file not found\n",
      "[youtube] Extracting URL: https://youtube.com/watch?v=8adDjfFKfwI\n",
      "[youtube] 8adDjfFKfwI: Downloading webpage\n",
      "[youtube] 8adDjfFKfwI: Downloading ios player API JSON\n",
      "[youtube] 8adDjfFKfwI: Downloading web creator player API JSON\n",
      "[youtube] 8adDjfFKfwI: Downloading m3u8 information\n",
      "[info] 8adDjfFKfwI: Downloading subtitles: en-uYU-mmqFLq8\n"
     ]
    },
    {
     "name": "stderr",
     "output_type": "stream",
     "text": [
      "WARNING: ffmpeg not found. The downloaded format may not be the best available. Installing ffmpeg is strongly recommended: https://github.com/yt-dlp/yt-dlp#dependencies\n"
     ]
    },
    {
     "name": "stdout",
     "output_type": "stream",
     "text": [
      "[youtube] Extracting URL: https://youtube.com/watch?v=8adDjfFKfwI\n",
      "[youtube] 8adDjfFKfwI: Downloading webpage\n",
      "[youtube] 8adDjfFKfwI: Downloading ios player API JSON\n",
      "[youtube] 8adDjfFKfwI: Downloading web creator player API JSON\n",
      "[youtube] 8adDjfFKfwI: Downloading m3u8 information\n",
      "[info] 8adDjfFKfwI: Downloading subtitles: en\n"
     ]
    },
    {
     "name": "stderr",
     "output_type": "stream",
     "text": [
      "WARNING: ffmpeg not found. The downloaded format may not be the best available. Installing ffmpeg is strongly recommended: https://github.com/yt-dlp/yt-dlp#dependencies\n"
     ]
    },
    {
     "name": "stdout",
     "output_type": "stream",
     "text": [
      "[info] 8adDjfFKfwI: Downloading 1 format(s): 18\n",
      "[info] Writing video subtitles to: data\\en_CNN\\'Shocking' Watch Blinken react to footage of Hamas terrorist attack on family.en.vtt\n",
      "[hlsnative] Downloading m3u8 manifest\n",
      "[hlsnative] Total fragments: 1\n",
      "[download] Destination: data\\en_CNN\\'Shocking' Watch Blinken react to footage of Hamas terrorist attack on family.en.vtt\n",
      "[download] 100% of  113.62KiB in 00:00:00 at 340.20KiB/s               \n",
      "[youtube] Extracting URL: https://youtube.com/watch?v=fRkHKa3I5bg\n",
      "[youtube] fRkHKa3I5bg: Downloading webpage\n",
      "[youtube] fRkHKa3I5bg: Downloading ios player API JSON\n",
      "[youtube] fRkHKa3I5bg: Downloading web creator player API JSON\n",
      "[youtube] fRkHKa3I5bg: Downloading m3u8 information\n",
      "[info] fRkHKa3I5bg: Downloading subtitles: en\n"
     ]
    },
    {
     "name": "stderr",
     "output_type": "stream",
     "text": [
      "WARNING: ffmpeg not found. The downloaded format may not be the best available. Installing ffmpeg is strongly recommended: https://github.com/yt-dlp/yt-dlp#dependencies\n"
     ]
    },
    {
     "name": "stdout",
     "output_type": "stream",
     "text": [
      "[youtube] Extracting URL: https://youtube.com/watch?v=fRkHKa3I5bg\n",
      "[youtube] fRkHKa3I5bg: Downloading webpage\n",
      "[youtube] fRkHKa3I5bg: Downloading ios player API JSON\n",
      "[youtube] fRkHKa3I5bg: Downloading web creator player API JSON\n",
      "[youtube] fRkHKa3I5bg: Downloading m3u8 information\n",
      "[info] fRkHKa3I5bg: Downloading subtitles: en\n"
     ]
    },
    {
     "name": "stderr",
     "output_type": "stream",
     "text": [
      "WARNING: ffmpeg not found. The downloaded format may not be the best available. Installing ffmpeg is strongly recommended: https://github.com/yt-dlp/yt-dlp#dependencies\n"
     ]
    },
    {
     "name": "stdout",
     "output_type": "stream",
     "text": [
      "[info] fRkHKa3I5bg: Downloading 1 format(s): 18\n",
      "[info] Writing video subtitles to: data\\en_CNN\\Ex-CIA director weighs in on the use of drones to locate hostages held by Hamas.en.vtt\n",
      "[download] Destination: data\\en_CNN\\Ex-CIA director weighs in on the use of drones to locate hostages held by Hamas.en.vtt\n",
      "[download] 100% of   11.22KiB in 00:00:00 at 32.58KiB/s\n",
      "[youtube] Extracting URL: https://youtube.com/watch?v=RrmSPBr88K0\n",
      "[youtube] RrmSPBr88K0: Downloading webpage\n",
      "[youtube] RrmSPBr88K0: Downloading ios player API JSON\n",
      "[youtube] RrmSPBr88K0: Downloading web creator player API JSON\n",
      "[youtube] RrmSPBr88K0: Downloading m3u8 information\n"
     ]
    },
    {
     "name": "stderr",
     "output_type": "stream",
     "text": [
      "WARNING: ffmpeg not found. The downloaded format may not be the best available. Installing ffmpeg is strongly recommended: https://github.com/yt-dlp/yt-dlp#dependencies\n"
     ]
    },
    {
     "name": "stdout",
     "output_type": "stream",
     "text": [
      "subtitle file not found\n",
      "[youtube] Extracting URL: https://youtube.com/watch?v=RqpU_UKN3TI\n",
      "[youtube] RqpU_UKN3TI: Downloading webpage\n",
      "[youtube] RqpU_UKN3TI: Downloading ios player API JSON\n",
      "[youtube] RqpU_UKN3TI: Downloading web creator player API JSON\n",
      "[youtube] RqpU_UKN3TI: Downloading m3u8 information\n",
      "[info] RqpU_UKN3TI: Downloading subtitles: en\n"
     ]
    },
    {
     "name": "stderr",
     "output_type": "stream",
     "text": [
      "WARNING: ffmpeg not found. The downloaded format may not be the best available. Installing ffmpeg is strongly recommended: https://github.com/yt-dlp/yt-dlp#dependencies\n"
     ]
    },
    {
     "name": "stdout",
     "output_type": "stream",
     "text": [
      "[youtube] Extracting URL: https://youtube.com/watch?v=RqpU_UKN3TI\n",
      "[youtube] RqpU_UKN3TI: Downloading webpage\n",
      "[youtube] RqpU_UKN3TI: Downloading ios player API JSON\n",
      "[youtube] RqpU_UKN3TI: Downloading web creator player API JSON\n",
      "[youtube] RqpU_UKN3TI: Downloading m3u8 information\n",
      "[info] RqpU_UKN3TI: Downloading subtitles: en\n"
     ]
    },
    {
     "name": "stderr",
     "output_type": "stream",
     "text": [
      "WARNING: ffmpeg not found. The downloaded format may not be the best available. Installing ffmpeg is strongly recommended: https://github.com/yt-dlp/yt-dlp#dependencies\n"
     ]
    },
    {
     "name": "stdout",
     "output_type": "stream",
     "text": [
      "[info] RqpU_UKN3TI: Downloading 1 format(s): 18\n",
      "[info] Writing video subtitles to: data\\en_CNN\\Video shows rocket strike about 100 meters from CNN reporter.en.vtt\n",
      "[download] Destination: data\\en_CNN\\Video shows rocket strike about 100 meters from CNN reporter.en.vtt\n",
      "[download] 100% of   20.15KiB in 00:00:00 at 82.74KiB/s\n",
      "[youtube] Extracting URL: https://youtube.com/watch?v=8SaiR054tkM\n",
      "[youtube] 8SaiR054tkM: Downloading webpage\n",
      "[youtube] 8SaiR054tkM: Downloading ios player API JSON\n",
      "[youtube] 8SaiR054tkM: This video is age-restricted; some formats may be missing without authentication. Use --cookies-from-browser or --cookies for the authentication. See  https://github.com/yt-dlp/yt-dlp/wiki/FAQ#how-do-i-pass-cookies-to-yt-dlp  for how to manually pass cookies\n",
      "[youtube] 8SaiR054tkM: Downloading tv embedded player API JSON\n",
      "[youtube] 8SaiR054tkM: Downloading web creator player API JSON\n",
      "[info] 8SaiR054tkM: Downloading subtitles: en\n"
     ]
    },
    {
     "name": "stderr",
     "output_type": "stream",
     "text": [
      "WARNING: ffmpeg not found. The downloaded format may not be the best available. Installing ffmpeg is strongly recommended: https://github.com/yt-dlp/yt-dlp#dependencies\n"
     ]
    },
    {
     "name": "stdout",
     "output_type": "stream",
     "text": [
      "[youtube] Extracting URL: https://youtube.com/watch?v=8SaiR054tkM\n",
      "[youtube] 8SaiR054tkM: Downloading webpage\n",
      "[youtube] 8SaiR054tkM: Downloading ios player API JSON\n",
      "[youtube] 8SaiR054tkM: This video is age-restricted; some formats may be missing without authentication. Use --cookies-from-browser or --cookies for the authentication. See  https://github.com/yt-dlp/yt-dlp/wiki/FAQ#how-do-i-pass-cookies-to-yt-dlp  for how to manually pass cookies\n",
      "[youtube] 8SaiR054tkM: Downloading tv embedded player API JSON\n",
      "[youtube] 8SaiR054tkM: Downloading web creator player API JSON\n",
      "[info] 8SaiR054tkM: Downloading subtitles: ab-en\n"
     ]
    },
    {
     "name": "stderr",
     "output_type": "stream",
     "text": [
      "WARNING: ffmpeg not found. The downloaded format may not be the best available. Installing ffmpeg is strongly recommended: https://github.com/yt-dlp/yt-dlp#dependencies\n"
     ]
    },
    {
     "name": "stdout",
     "output_type": "stream",
     "text": [
      "[info] 8SaiR054tkM: Downloading 1 format(s): 18\n",
      "[info] Writing video subtitles to: data\\en_CNN\\Woman's daughter was killed by Hamas. Her family's ordeal was livestreamed on Facebook (PART 1).ab-en.vtt\n",
      "[download] Destination: data\\en_CNN\\Woman's daughter was killed by Hamas. Her family's ordeal was livestreamed on Facebook (PART 1).ab-en.vtt\n",
      "[download] 100% of   15.70KiB in 00:00:00 at 36.34KiB/s\n",
      "[youtube] Extracting URL: https://youtube.com/watch?v=7dmZeLBauyA\n",
      "[youtube] 7dmZeLBauyA: Downloading webpage\n",
      "[youtube] 7dmZeLBauyA: Downloading ios player API JSON\n",
      "[youtube] 7dmZeLBauyA: Downloading web creator player API JSON\n",
      "[youtube] 7dmZeLBauyA: Downloading m3u8 information\n",
      "[info] 7dmZeLBauyA: Downloading subtitles: en\n"
     ]
    },
    {
     "name": "stderr",
     "output_type": "stream",
     "text": [
      "WARNING: ffmpeg not found. The downloaded format may not be the best available. Installing ffmpeg is strongly recommended: https://github.com/yt-dlp/yt-dlp#dependencies\n"
     ]
    },
    {
     "name": "stdout",
     "output_type": "stream",
     "text": [
      "[youtube] Extracting URL: https://youtube.com/watch?v=7dmZeLBauyA\n",
      "[youtube] 7dmZeLBauyA: Downloading webpage\n",
      "[youtube] 7dmZeLBauyA: Downloading ios player API JSON\n",
      "[youtube] 7dmZeLBauyA: Downloading web creator player API JSON\n",
      "[youtube] 7dmZeLBauyA: Downloading m3u8 information\n",
      "[info] 7dmZeLBauyA: Downloading subtitles: en\n"
     ]
    },
    {
     "name": "stderr",
     "output_type": "stream",
     "text": [
      "WARNING: ffmpeg not found. The downloaded format may not be the best available. Installing ffmpeg is strongly recommended: https://github.com/yt-dlp/yt-dlp#dependencies\n"
     ]
    },
    {
     "name": "stdout",
     "output_type": "stream",
     "text": [
      "[info] 7dmZeLBauyA: Downloading 1 format(s): 18\n",
      "[info] Writing video subtitles to: data\\en_CNN\\Woman's daughter was killed by Hamas. Her family's ordeal was livestreamed on Facebook (PART 2).en.vtt\n",
      "[download] Destination: data\\en_CNN\\Woman's daughter was killed by Hamas. Her family's ordeal was livestreamed on Facebook (PART 2).en.vtt\n",
      "[download] 100% of   14.64KiB in 00:00:00 at 76.18KiB/s\n",
      "[youtube] Extracting URL: https://youtube.com/watch?v=4v6k0bINc34\n",
      "[youtube] 4v6k0bINc34: Downloading webpage\n",
      "[youtube] 4v6k0bINc34: Downloading ios player API JSON\n",
      "[youtube] 4v6k0bINc34: Downloading web creator player API JSON\n",
      "[youtube] 4v6k0bINc34: Downloading m3u8 information\n",
      "[info] 4v6k0bINc34: Downloading subtitles: en\n"
     ]
    },
    {
     "name": "stderr",
     "output_type": "stream",
     "text": [
      "WARNING: ffmpeg not found. The downloaded format may not be the best available. Installing ffmpeg is strongly recommended: https://github.com/yt-dlp/yt-dlp#dependencies\n"
     ]
    },
    {
     "name": "stdout",
     "output_type": "stream",
     "text": [
      "[youtube] Extracting URL: https://youtube.com/watch?v=4v6k0bINc34\n",
      "[youtube] 4v6k0bINc34: Downloading webpage\n",
      "[youtube] 4v6k0bINc34: Downloading ios player API JSON\n",
      "[youtube] 4v6k0bINc34: Downloading web creator player API JSON\n",
      "[youtube] 4v6k0bINc34: Downloading m3u8 information\n",
      "[info] 4v6k0bINc34: Downloading subtitles: en\n"
     ]
    },
    {
     "name": "stderr",
     "output_type": "stream",
     "text": [
      "WARNING: ffmpeg not found. The downloaded format may not be the best available. Installing ffmpeg is strongly recommended: https://github.com/yt-dlp/yt-dlp#dependencies\n"
     ]
    },
    {
     "name": "stdout",
     "output_type": "stream",
     "text": [
      "[info] 4v6k0bINc34: Downloading 1 format(s): 18\n",
      "[info] Writing video subtitles to: data\\en_CNN\\Palestinian American mourns 42 family members killed in a single day in Gaza.en.vtt\n",
      "[download] Destination: data\\en_CNN\\Palestinian American mourns 42 family members killed in a single day in Gaza.en.vtt\n",
      "[download] 100% of    6.43KiB in 00:00:00 at 29.63KiB/s\n",
      "[youtube] Extracting URL: https://youtube.com/watch?v=y4Iv6W0dOhU\n",
      "[youtube] y4Iv6W0dOhU: Downloading webpage\n",
      "[youtube] y4Iv6W0dOhU: Downloading ios player API JSON\n",
      "[youtube] y4Iv6W0dOhU: Downloading web creator player API JSON\n",
      "[youtube] y4Iv6W0dOhU: Downloading m3u8 information\n",
      "[info] y4Iv6W0dOhU: Downloading subtitles: en\n"
     ]
    },
    {
     "name": "stderr",
     "output_type": "stream",
     "text": [
      "WARNING: ffmpeg not found. The downloaded format may not be the best available. Installing ffmpeg is strongly recommended: https://github.com/yt-dlp/yt-dlp#dependencies\n"
     ]
    },
    {
     "name": "stdout",
     "output_type": "stream",
     "text": [
      "[youtube] Extracting URL: https://youtube.com/watch?v=y4Iv6W0dOhU\n",
      "[youtube] y4Iv6W0dOhU: Downloading webpage\n",
      "[youtube] y4Iv6W0dOhU: Downloading ios player API JSON\n",
      "[youtube] y4Iv6W0dOhU: Downloading web creator player API JSON\n",
      "[youtube] y4Iv6W0dOhU: Downloading m3u8 information\n",
      "[info] y4Iv6W0dOhU: Downloading subtitles: en\n"
     ]
    },
    {
     "name": "stderr",
     "output_type": "stream",
     "text": [
      "WARNING: ffmpeg not found. The downloaded format may not be the best available. Installing ffmpeg is strongly recommended: https://github.com/yt-dlp/yt-dlp#dependencies\n"
     ]
    },
    {
     "name": "stdout",
     "output_type": "stream",
     "text": [
      "[info] y4Iv6W0dOhU: Downloading 1 format(s): 18\n",
      "[info] Writing video subtitles to: data\\en_CNN\\Retired colonel predicts Israel’s next steps in war.en.vtt\n",
      "[download] Destination: data\\en_CNN\\Retired colonel predicts Israel’s next steps in war.en.vtt\n",
      "[download] 100% of    7.78KiB in 00:00:00 at 59.55KiB/s\n",
      "[youtube] Extracting URL: https://youtube.com/watch?v=GFYRmADgT1Q\n",
      "[youtube] GFYRmADgT1Q: Downloading webpage\n",
      "[youtube] GFYRmADgT1Q: Downloading ios player API JSON\n",
      "[youtube] GFYRmADgT1Q: Downloading web creator player API JSON\n",
      "[youtube] GFYRmADgT1Q: Downloading m3u8 information\n",
      "[info] GFYRmADgT1Q: Downloading subtitles: en\n"
     ]
    },
    {
     "name": "stderr",
     "output_type": "stream",
     "text": [
      "WARNING: ffmpeg not found. The downloaded format may not be the best available. Installing ffmpeg is strongly recommended: https://github.com/yt-dlp/yt-dlp#dependencies\n"
     ]
    },
    {
     "name": "stdout",
     "output_type": "stream",
     "text": [
      "[youtube] Extracting URL: https://youtube.com/watch?v=GFYRmADgT1Q\n",
      "[youtube] GFYRmADgT1Q: Downloading webpage\n",
      "[youtube] GFYRmADgT1Q: Downloading ios player API JSON\n",
      "[youtube] GFYRmADgT1Q: Downloading web creator player API JSON\n",
      "[youtube] GFYRmADgT1Q: Downloading m3u8 information\n",
      "[info] GFYRmADgT1Q: Downloading subtitles: en\n"
     ]
    },
    {
     "name": "stderr",
     "output_type": "stream",
     "text": [
      "WARNING: ffmpeg not found. The downloaded format may not be the best available. Installing ffmpeg is strongly recommended: https://github.com/yt-dlp/yt-dlp#dependencies\n"
     ]
    },
    {
     "name": "stdout",
     "output_type": "stream",
     "text": [
      "[info] GFYRmADgT1Q: Downloading 1 format(s): 18\n",
      "[info] Writing video subtitles to: data\\en_CNN\\Hear what Bernie Sanders thinks about Israel's response to Hamas attack.en.vtt\n",
      "[download] Destination: data\\en_CNN\\Hear what Bernie Sanders thinks about Israel's response to Hamas attack.en.vtt\n",
      "[download] 100% of   20.52KiB in 00:00:00 at 83.30KiB/s\n",
      "[youtube] Extracting URL: https://youtube.com/watch?v=gX7tBAfy8XE\n",
      "[youtube] gX7tBAfy8XE: Downloading webpage\n",
      "[youtube] gX7tBAfy8XE: Downloading ios player API JSON\n",
      "[youtube] gX7tBAfy8XE: Downloading web creator player API JSON\n",
      "[youtube] gX7tBAfy8XE: Downloading m3u8 information\n",
      "[info] gX7tBAfy8XE: Downloading subtitles: en\n"
     ]
    },
    {
     "name": "stderr",
     "output_type": "stream",
     "text": [
      "WARNING: ffmpeg not found. The downloaded format may not be the best available. Installing ffmpeg is strongly recommended: https://github.com/yt-dlp/yt-dlp#dependencies\n"
     ]
    },
    {
     "name": "stdout",
     "output_type": "stream",
     "text": [
      "[youtube] Extracting URL: https://youtube.com/watch?v=gX7tBAfy8XE\n",
      "[youtube] gX7tBAfy8XE: Downloading webpage\n",
      "[youtube] gX7tBAfy8XE: Downloading ios player API JSON\n",
      "[youtube] gX7tBAfy8XE: Downloading web creator player API JSON\n",
      "[youtube] gX7tBAfy8XE: Downloading m3u8 information\n",
      "[info] gX7tBAfy8XE: Downloading subtitles: en\n"
     ]
    },
    {
     "name": "stderr",
     "output_type": "stream",
     "text": [
      "WARNING: ffmpeg not found. The downloaded format may not be the best available. Installing ffmpeg is strongly recommended: https://github.com/yt-dlp/yt-dlp#dependencies\n"
     ]
    },
    {
     "name": "stdout",
     "output_type": "stream",
     "text": [
      "[info] gX7tBAfy8XE: Downloading 1 format(s): 18\n",
      "[info] Writing video subtitles to: data\\en_CNN\\Family members of hostages held in Gaza desperate to be reunited.en.vtt\n",
      "[download] Destination: data\\en_CNN\\Family members of hostages held in Gaza desperate to be reunited.en.vtt\n",
      "[download] 100% of   10.28KiB in 00:00:00 at 59.98KiB/s\n",
      "[youtube] Extracting URL: https://youtube.com/watch?v=8IsuRY6leu4\n",
      "[youtube] 8IsuRY6leu4: Downloading webpage\n",
      "[youtube] 8IsuRY6leu4: Downloading ios player API JSON\n",
      "[youtube] 8IsuRY6leu4: Downloading web creator player API JSON\n",
      "[youtube] 8IsuRY6leu4: Downloading m3u8 information\n",
      "[info] 8IsuRY6leu4: Downloading subtitles: en\n"
     ]
    },
    {
     "name": "stderr",
     "output_type": "stream",
     "text": [
      "WARNING: ffmpeg not found. The downloaded format may not be the best available. Installing ffmpeg is strongly recommended: https://github.com/yt-dlp/yt-dlp#dependencies\n"
     ]
    },
    {
     "name": "stdout",
     "output_type": "stream",
     "text": [
      "[youtube] Extracting URL: https://youtube.com/watch?v=8IsuRY6leu4\n",
      "[youtube] 8IsuRY6leu4: Downloading webpage\n",
      "[youtube] 8IsuRY6leu4: Downloading ios player API JSON\n",
      "[youtube] 8IsuRY6leu4: Downloading web creator player API JSON\n",
      "[youtube] 8IsuRY6leu4: Downloading m3u8 information\n",
      "[info] 8IsuRY6leu4: Downloading subtitles: en\n"
     ]
    },
    {
     "name": "stderr",
     "output_type": "stream",
     "text": [
      "WARNING: ffmpeg not found. The downloaded format may not be the best available. Installing ffmpeg is strongly recommended: https://github.com/yt-dlp/yt-dlp#dependencies\n"
     ]
    },
    {
     "name": "stdout",
     "output_type": "stream",
     "text": [
      "[info] 8IsuRY6leu4: Downloading 1 format(s): 18\n",
      "[info] Writing video subtitles to: data\\en_CNN\\John Bolton Biden's red line on Iran is disappearing.en.vtt\n",
      "[download] Destination: data\\en_CNN\\John Bolton Biden's red line on Iran is disappearing.en.vtt\n",
      "[download] 100% of   17.51KiB in 00:00:00 at 81.79KiB/s\n",
      "[youtube] Extracting URL: https://youtube.com/watch?v=0QMzPkn3M0w\n",
      "[youtube] 0QMzPkn3M0w: Downloading webpage\n",
      "[youtube] 0QMzPkn3M0w: Downloading ios player API JSON\n",
      "[youtube] 0QMzPkn3M0w: Downloading web creator player API JSON\n",
      "[youtube] 0QMzPkn3M0w: Downloading m3u8 information\n",
      "[info] 0QMzPkn3M0w: Downloading subtitles: en\n"
     ]
    },
    {
     "name": "stderr",
     "output_type": "stream",
     "text": [
      "WARNING: ffmpeg not found. The downloaded format may not be the best available. Installing ffmpeg is strongly recommended: https://github.com/yt-dlp/yt-dlp#dependencies\n"
     ]
    },
    {
     "name": "stdout",
     "output_type": "stream",
     "text": [
      "[youtube] Extracting URL: https://youtube.com/watch?v=0QMzPkn3M0w\n",
      "[youtube] 0QMzPkn3M0w: Downloading webpage\n",
      "[youtube] 0QMzPkn3M0w: Downloading ios player API JSON\n",
      "[youtube] 0QMzPkn3M0w: Downloading web creator player API JSON\n",
      "[youtube] 0QMzPkn3M0w: Downloading m3u8 information\n",
      "[info] 0QMzPkn3M0w: Downloading subtitles: en\n"
     ]
    },
    {
     "name": "stderr",
     "output_type": "stream",
     "text": [
      "WARNING: ffmpeg not found. The downloaded format may not be the best available. Installing ffmpeg is strongly recommended: https://github.com/yt-dlp/yt-dlp#dependencies\n"
     ]
    },
    {
     "name": "stdout",
     "output_type": "stream",
     "text": [
      "[info] 0QMzPkn3M0w: Downloading 1 format(s): 18\n",
      "[info] Writing video subtitles to: data\\en_CNN\\CNN anchor asks IDF spokesperson if airstrikes have accomplished all they can.en.vtt\n",
      "[download] Destination: data\\en_CNN\\CNN anchor asks IDF spokesperson if airstrikes have accomplished all they can.en.vtt\n",
      "[download] 100% of   15.87KiB in 00:00:00 at 70.63KiB/s\n",
      "[youtube] Extracting URL: https://youtube.com/watch?v=ctAqSH8rOWE\n",
      "[youtube] ctAqSH8rOWE: Downloading webpage\n",
      "[youtube] ctAqSH8rOWE: Downloading ios player API JSON\n",
      "[youtube] ctAqSH8rOWE: Downloading web creator player API JSON\n",
      "[youtube] ctAqSH8rOWE: Downloading m3u8 information\n",
      "[info] ctAqSH8rOWE: Downloading subtitles: en\n"
     ]
    },
    {
     "name": "stderr",
     "output_type": "stream",
     "text": [
      "WARNING: ffmpeg not found. The downloaded format may not be the best available. Installing ffmpeg is strongly recommended: https://github.com/yt-dlp/yt-dlp#dependencies\n"
     ]
    },
    {
     "name": "stdout",
     "output_type": "stream",
     "text": [
      "[youtube] Extracting URL: https://youtube.com/watch?v=ctAqSH8rOWE\n",
      "[youtube] ctAqSH8rOWE: Downloading webpage\n",
      "[youtube] ctAqSH8rOWE: Downloading ios player API JSON\n",
      "[youtube] ctAqSH8rOWE: Downloading web creator player API JSON\n",
      "[youtube] ctAqSH8rOWE: Downloading m3u8 information\n",
      "[info] ctAqSH8rOWE: Downloading subtitles: en\n"
     ]
    },
    {
     "name": "stderr",
     "output_type": "stream",
     "text": [
      "WARNING: ffmpeg not found. The downloaded format may not be the best available. Installing ffmpeg is strongly recommended: https://github.com/yt-dlp/yt-dlp#dependencies\n"
     ]
    },
    {
     "name": "stdout",
     "output_type": "stream",
     "text": [
      "[info] ctAqSH8rOWE: Downloading 1 format(s): 18\n",
      "[info] Writing video subtitles to: data\\en_CNN\\Hear what Queen Rania of Jordan said about Hamas and the 'root cause' of the conflict.en.vtt\n",
      "[download] Destination: data\\en_CNN\\Hear what Queen Rania of Jordan said about Hamas and the 'root cause' of the conflict.en.vtt\n",
      "[download] 100% of    7.04KiB in 00:00:00 at 51.24KiB/s\n",
      "[youtube] Extracting URL: https://youtube.com/watch?v=WYOrk2tpKaQ\n",
      "[youtube] WYOrk2tpKaQ: Downloading webpage\n",
      "[youtube] WYOrk2tpKaQ: Downloading ios player API JSON\n",
      "[youtube] WYOrk2tpKaQ: Downloading web creator player API JSON\n",
      "[youtube] WYOrk2tpKaQ: Downloading m3u8 information\n",
      "[info] WYOrk2tpKaQ: Downloading subtitles: en\n"
     ]
    },
    {
     "name": "stderr",
     "output_type": "stream",
     "text": [
      "WARNING: ffmpeg not found. The downloaded format may not be the best available. Installing ffmpeg is strongly recommended: https://github.com/yt-dlp/yt-dlp#dependencies\n"
     ]
    },
    {
     "name": "stdout",
     "output_type": "stream",
     "text": [
      "[youtube] Extracting URL: https://youtube.com/watch?v=WYOrk2tpKaQ\n",
      "[youtube] WYOrk2tpKaQ: Downloading webpage\n",
      "[youtube] WYOrk2tpKaQ: Downloading ios player API JSON\n",
      "[youtube] WYOrk2tpKaQ: Downloading web creator player API JSON\n",
      "[youtube] WYOrk2tpKaQ: Downloading m3u8 information\n",
      "[info] WYOrk2tpKaQ: Downloading subtitles: en\n"
     ]
    },
    {
     "name": "stderr",
     "output_type": "stream",
     "text": [
      "WARNING: ffmpeg not found. The downloaded format may not be the best available. Installing ffmpeg is strongly recommended: https://github.com/yt-dlp/yt-dlp#dependencies\n"
     ]
    },
    {
     "name": "stdout",
     "output_type": "stream",
     "text": [
      "[info] WYOrk2tpKaQ: Downloading 1 format(s): 18\n",
      "[info] Writing video subtitles to: data\\en_CNN\\In rare announcement, US says guided missile sub has arrived in Middle East.en.vtt\n",
      "[download] Destination: data\\en_CNN\\In rare announcement, US says guided missile sub has arrived in Middle East.en.vtt\n",
      "[download] 100% of   10.74KiB in 00:00:00 at 66.37KiB/s\n",
      "[youtube] Extracting URL: https://youtube.com/watch?v=e93Pu6fqlnU\n",
      "[youtube] e93Pu6fqlnU: Downloading webpage\n",
      "[youtube] e93Pu6fqlnU: Downloading ios player API JSON\n",
      "[youtube] e93Pu6fqlnU: This video is age-restricted; some formats may be missing without authentication. Use --cookies-from-browser or --cookies for the authentication. See  https://github.com/yt-dlp/yt-dlp/wiki/FAQ#how-do-i-pass-cookies-to-yt-dlp  for how to manually pass cookies\n",
      "[youtube] e93Pu6fqlnU: Downloading tv embedded player API JSON\n",
      "[youtube] e93Pu6fqlnU: Downloading web creator player API JSON\n",
      "[info] e93Pu6fqlnU: Downloading subtitles: en\n"
     ]
    },
    {
     "name": "stderr",
     "output_type": "stream",
     "text": [
      "WARNING: ffmpeg not found. The downloaded format may not be the best available. Installing ffmpeg is strongly recommended: https://github.com/yt-dlp/yt-dlp#dependencies\n"
     ]
    },
    {
     "name": "stdout",
     "output_type": "stream",
     "text": [
      "[youtube] Extracting URL: https://youtube.com/watch?v=e93Pu6fqlnU\n",
      "[youtube] e93Pu6fqlnU: Downloading webpage\n",
      "[youtube] e93Pu6fqlnU: Downloading ios player API JSON\n",
      "[youtube] e93Pu6fqlnU: This video is age-restricted; some formats may be missing without authentication. Use --cookies-from-browser or --cookies for the authentication. See  https://github.com/yt-dlp/yt-dlp/wiki/FAQ#how-do-i-pass-cookies-to-yt-dlp  for how to manually pass cookies\n",
      "[youtube] e93Pu6fqlnU: Downloading tv embedded player API JSON\n",
      "[youtube] e93Pu6fqlnU: Downloading web creator player API JSON\n",
      "[info] e93Pu6fqlnU: Downloading subtitles: ab-en\n"
     ]
    },
    {
     "name": "stderr",
     "output_type": "stream",
     "text": [
      "WARNING: ffmpeg not found. The downloaded format may not be the best available. Installing ffmpeg is strongly recommended: https://github.com/yt-dlp/yt-dlp#dependencies\n"
     ]
    },
    {
     "name": "stdout",
     "output_type": "stream",
     "text": [
      "[info] e93Pu6fqlnU: Downloading 1 format(s): 18\n",
      "[info] Writing video subtitles to: data\\en_CNN\\‘No nation is liberated without sacrifices’ How Hamas frames casualties of war.ab-en.vtt\n",
      "[download] Destination: data\\en_CNN\\‘No nation is liberated without sacrifices’ How Hamas frames casualties of war.ab-en.vtt\n",
      "[download] 100% of   19.14KiB in 00:00:00 at 33.09KiB/s\n",
      "[youtube] Extracting URL: https://youtube.com/watch?v=AZ3f0qxerKY\n",
      "[youtube] AZ3f0qxerKY: Downloading webpage\n",
      "[youtube] AZ3f0qxerKY: Downloading ios player API JSON\n",
      "[youtube] AZ3f0qxerKY: Downloading web creator player API JSON\n",
      "[youtube] AZ3f0qxerKY: Downloading m3u8 information\n",
      "[info] AZ3f0qxerKY: Downloading subtitles: en\n"
     ]
    },
    {
     "name": "stderr",
     "output_type": "stream",
     "text": [
      "WARNING: ffmpeg not found. The downloaded format may not be the best available. Installing ffmpeg is strongly recommended: https://github.com/yt-dlp/yt-dlp#dependencies\n"
     ]
    },
    {
     "name": "stdout",
     "output_type": "stream",
     "text": [
      "[youtube] Extracting URL: https://youtube.com/watch?v=AZ3f0qxerKY\n",
      "[youtube] AZ3f0qxerKY: Downloading webpage\n",
      "[youtube] AZ3f0qxerKY: Downloading ios player API JSON\n",
      "[youtube] AZ3f0qxerKY: Downloading web creator player API JSON\n",
      "[youtube] AZ3f0qxerKY: Downloading m3u8 information\n",
      "[info] AZ3f0qxerKY: Downloading subtitles: en\n"
     ]
    },
    {
     "name": "stderr",
     "output_type": "stream",
     "text": [
      "WARNING: ffmpeg not found. The downloaded format may not be the best available. Installing ffmpeg is strongly recommended: https://github.com/yt-dlp/yt-dlp#dependencies\n"
     ]
    },
    {
     "name": "stdout",
     "output_type": "stream",
     "text": [
      "[info] AZ3f0qxerKY: Downloading 1 format(s): 18\n",
      "[info] Writing video subtitles to: data\\en_CNN\\Putin seizes on Israel-Hamas war to rally against US.en.vtt\n",
      "[download] Destination: data\\en_CNN\\Putin seizes on Israel-Hamas war to rally against US.en.vtt\n",
      "[download] 100% of   13.58KiB in 00:00:00 at 52.81KiB/s\n",
      "[youtube] Extracting URL: https://youtube.com/watch?v=gk7iWgCk14U\n",
      "[youtube] gk7iWgCk14U: Downloading webpage\n",
      "[youtube] gk7iWgCk14U: Downloading ios player API JSON\n",
      "[youtube] gk7iWgCk14U: Downloading web creator player API JSON\n",
      "[youtube] gk7iWgCk14U: Downloading m3u8 information\n",
      "[info] gk7iWgCk14U: Downloading subtitles: en\n"
     ]
    },
    {
     "name": "stderr",
     "output_type": "stream",
     "text": [
      "WARNING: ffmpeg not found. The downloaded format may not be the best available. Installing ffmpeg is strongly recommended: https://github.com/yt-dlp/yt-dlp#dependencies\n"
     ]
    },
    {
     "name": "stdout",
     "output_type": "stream",
     "text": [
      "[youtube] Extracting URL: https://youtube.com/watch?v=gk7iWgCk14U\n",
      "[youtube] gk7iWgCk14U: Downloading webpage\n",
      "[youtube] gk7iWgCk14U: Downloading ios player API JSON\n",
      "[youtube] gk7iWgCk14U: Downloading web creator player API JSON\n",
      "[youtube] gk7iWgCk14U: Downloading m3u8 information\n",
      "[info] gk7iWgCk14U: Downloading subtitles: en\n"
     ]
    },
    {
     "name": "stderr",
     "output_type": "stream",
     "text": [
      "WARNING: ffmpeg not found. The downloaded format may not be the best available. Installing ffmpeg is strongly recommended: https://github.com/yt-dlp/yt-dlp#dependencies\n"
     ]
    },
    {
     "name": "stdout",
     "output_type": "stream",
     "text": [
      "[info] gk7iWgCk14U: Downloading 1 format(s): 18\n",
      "[info] Writing video subtitles to: data\\en_CNN\\American nurse who got out of Gaza describes desperation she saw.en.vtt\n",
      "[download] Destination: data\\en_CNN\\American nurse who got out of Gaza describes desperation she saw.en.vtt\n",
      "[download] 100% of   18.13KiB in 00:00:00 at 166.41KiB/s\n",
      "[youtube] Extracting URL: https://youtube.com/watch?v=fMBIHdNqG_c\n",
      "[youtube] fMBIHdNqG_c: Downloading webpage\n",
      "[youtube] fMBIHdNqG_c: Downloading ios player API JSON\n",
      "[youtube] fMBIHdNqG_c: Downloading web creator player API JSON\n",
      "[youtube] fMBIHdNqG_c: Downloading m3u8 information\n",
      "[info] fMBIHdNqG_c: Downloading subtitles: en-uYU-mmqFLq8\n"
     ]
    },
    {
     "name": "stderr",
     "output_type": "stream",
     "text": [
      "WARNING: ffmpeg not found. The downloaded format may not be the best available. Installing ffmpeg is strongly recommended: https://github.com/yt-dlp/yt-dlp#dependencies\n"
     ]
    },
    {
     "name": "stdout",
     "output_type": "stream",
     "text": [
      "[youtube] Extracting URL: https://youtube.com/watch?v=fMBIHdNqG_c\n",
      "[youtube] fMBIHdNqG_c: Downloading webpage\n",
      "[youtube] fMBIHdNqG_c: Downloading ios player API JSON\n",
      "[youtube] fMBIHdNqG_c: Downloading web creator player API JSON\n",
      "[youtube] fMBIHdNqG_c: Downloading m3u8 information\n",
      "[info] fMBIHdNqG_c: Downloading subtitles: en\n"
     ]
    },
    {
     "name": "stderr",
     "output_type": "stream",
     "text": [
      "WARNING: ffmpeg not found. The downloaded format may not be the best available. Installing ffmpeg is strongly recommended: https://github.com/yt-dlp/yt-dlp#dependencies\n"
     ]
    },
    {
     "name": "stdout",
     "output_type": "stream",
     "text": [
      "[info] fMBIHdNqG_c: Downloading 1 format(s): 18\n",
      "[info] Writing video subtitles to: data\\en_CNN\\Hear from father who thought daughter was killed in Hamas attack, and now told she may be alive.en.vtt\n",
      "[hlsnative] Downloading m3u8 manifest\n",
      "[hlsnative] Total fragments: 1\n",
      "[download] Destination: data\\en_CNN\\Hear from father who thought daughter was killed in Hamas attack, and now told she may be alive.en.vtt\n",
      "[download] 100% of   75.37KiB in 00:00:00 at 270.06KiB/s               \n",
      "[youtube] Extracting URL: https://youtube.com/watch?v=xliqJ6pxx08\n",
      "[youtube] xliqJ6pxx08: Downloading webpage\n",
      "[youtube] xliqJ6pxx08: Downloading ios player API JSON\n",
      "[youtube] xliqJ6pxx08: Downloading web creator player API JSON\n",
      "[youtube] xliqJ6pxx08: Downloading m3u8 information\n",
      "[info] xliqJ6pxx08: Downloading subtitles: en\n"
     ]
    },
    {
     "name": "stderr",
     "output_type": "stream",
     "text": [
      "WARNING: ffmpeg not found. The downloaded format may not be the best available. Installing ffmpeg is strongly recommended: https://github.com/yt-dlp/yt-dlp#dependencies\n"
     ]
    },
    {
     "name": "stdout",
     "output_type": "stream",
     "text": [
      "[youtube] Extracting URL: https://youtube.com/watch?v=xliqJ6pxx08\n",
      "[youtube] xliqJ6pxx08: Downloading webpage\n",
      "[youtube] xliqJ6pxx08: Downloading ios player API JSON\n",
      "[youtube] xliqJ6pxx08: Downloading web creator player API JSON\n",
      "[youtube] xliqJ6pxx08: Downloading m3u8 information\n",
      "[info] xliqJ6pxx08: Downloading subtitles: en\n"
     ]
    },
    {
     "name": "stderr",
     "output_type": "stream",
     "text": [
      "WARNING: ffmpeg not found. The downloaded format may not be the best available. Installing ffmpeg is strongly recommended: https://github.com/yt-dlp/yt-dlp#dependencies\n"
     ]
    },
    {
     "name": "stdout",
     "output_type": "stream",
     "text": [
      "[info] xliqJ6pxx08: Downloading 1 format(s): 18\n",
      "[info] Writing video subtitles to: data\\en_CNN\\Former IDF soldier believes Israel is making 'a catastrophic mistake' in Gaza.en.vtt\n",
      "[download] Destination: data\\en_CNN\\Former IDF soldier believes Israel is making 'a catastrophic mistake' in Gaza.en.vtt\n",
      "[download] 100% of   21.70KiB in 00:00:00 at 111.27KiB/s\n",
      "[youtube] Extracting URL: https://youtube.com/watch?v=A3TWRghbSsc\n",
      "[youtube] A3TWRghbSsc: Downloading webpage\n",
      "[youtube] A3TWRghbSsc: Downloading ios player API JSON\n",
      "[youtube] A3TWRghbSsc: Downloading web creator player API JSON\n",
      "[youtube] A3TWRghbSsc: Downloading m3u8 information\n",
      "[info] A3TWRghbSsc: Downloading subtitles: en\n"
     ]
    },
    {
     "name": "stderr",
     "output_type": "stream",
     "text": [
      "WARNING: ffmpeg not found. The downloaded format may not be the best available. Installing ffmpeg is strongly recommended: https://github.com/yt-dlp/yt-dlp#dependencies\n"
     ]
    },
    {
     "name": "stdout",
     "output_type": "stream",
     "text": [
      "[youtube] Extracting URL: https://youtube.com/watch?v=A3TWRghbSsc\n",
      "[youtube] A3TWRghbSsc: Downloading webpage\n",
      "[youtube] A3TWRghbSsc: Downloading ios player API JSON\n",
      "[youtube] A3TWRghbSsc: Downloading web creator player API JSON\n",
      "[youtube] A3TWRghbSsc: Downloading m3u8 information\n",
      "[info] A3TWRghbSsc: Downloading subtitles: en\n"
     ]
    },
    {
     "name": "stderr",
     "output_type": "stream",
     "text": [
      "WARNING: ffmpeg not found. The downloaded format may not be the best available. Installing ffmpeg is strongly recommended: https://github.com/yt-dlp/yt-dlp#dependencies\n"
     ]
    },
    {
     "name": "stdout",
     "output_type": "stream",
     "text": [
      "[info] A3TWRghbSsc: Downloading 1 format(s): 18\n",
      "[info] Writing video subtitles to: data\\en_CNN\\White House warns Israel over post-war plans for Gaza.en.vtt\n",
      "[download] Destination: data\\en_CNN\\White House warns Israel over post-war plans for Gaza.en.vtt\n",
      "[download] 100% of   15.56KiB in 00:00:00 at 59.37KiB/s\n",
      "[youtube] Extracting URL: https://youtube.com/watch?v=jNeOV9kMof8\n",
      "[youtube] jNeOV9kMof8: Downloading webpage\n",
      "[youtube] jNeOV9kMof8: Downloading ios player API JSON\n",
      "[youtube] jNeOV9kMof8: Downloading web creator player API JSON\n",
      "[youtube] jNeOV9kMof8: Downloading m3u8 information\n"
     ]
    },
    {
     "name": "stderr",
     "output_type": "stream",
     "text": [
      "WARNING: ffmpeg not found. The downloaded format may not be the best available. Installing ffmpeg is strongly recommended: https://github.com/yt-dlp/yt-dlp#dependencies\n"
     ]
    },
    {
     "name": "stdout",
     "output_type": "stream",
     "text": [
      "subtitle file not found\n",
      "[youtube] Extracting URL: https://youtube.com/watch?v=3N5Vu_28aNw\n",
      "[youtube] 3N5Vu_28aNw: Downloading webpage\n",
      "[youtube] 3N5Vu_28aNw: Downloading ios player API JSON\n",
      "[youtube] 3N5Vu_28aNw: Downloading web creator player API JSON\n",
      "[youtube] 3N5Vu_28aNw: Downloading m3u8 information\n",
      "[info] 3N5Vu_28aNw: Downloading subtitles: en\n"
     ]
    },
    {
     "name": "stderr",
     "output_type": "stream",
     "text": [
      "WARNING: ffmpeg not found. The downloaded format may not be the best available. Installing ffmpeg is strongly recommended: https://github.com/yt-dlp/yt-dlp#dependencies\n"
     ]
    },
    {
     "name": "stdout",
     "output_type": "stream",
     "text": [
      "[youtube] Extracting URL: https://youtube.com/watch?v=3N5Vu_28aNw\n",
      "[youtube] 3N5Vu_28aNw: Downloading webpage\n",
      "[youtube] 3N5Vu_28aNw: Downloading ios player API JSON\n",
      "[youtube] 3N5Vu_28aNw: Downloading web creator player API JSON\n",
      "[youtube] 3N5Vu_28aNw: Downloading m3u8 information\n",
      "[info] 3N5Vu_28aNw: Downloading subtitles: en\n"
     ]
    },
    {
     "name": "stderr",
     "output_type": "stream",
     "text": [
      "WARNING: ffmpeg not found. The downloaded format may not be the best available. Installing ffmpeg is strongly recommended: https://github.com/yt-dlp/yt-dlp#dependencies\n"
     ]
    },
    {
     "name": "stdout",
     "output_type": "stream",
     "text": [
      "[info] 3N5Vu_28aNw: Downloading 1 format(s): 18\n",
      "[info] Writing video subtitles to: data\\en_CNN\\Thousands of Palestinians flee south on foot as Israel steps up offensive in Gaza City.en.vtt\n",
      "[download] Destination: data\\en_CNN\\Thousands of Palestinians flee south on foot as Israel steps up offensive in Gaza City.en.vtt\n",
      "[download] 100% of   12.82KiB in 00:00:00 at 50.87KiB/s\n",
      "[youtube] Extracting URL: https://youtube.com/watch?v=0W57OwQkaEg\n",
      "[youtube] 0W57OwQkaEg: Downloading webpage\n",
      "[youtube] 0W57OwQkaEg: Downloading ios player API JSON\n",
      "[youtube] 0W57OwQkaEg: Downloading web creator player API JSON\n",
      "[youtube] 0W57OwQkaEg: Downloading m3u8 information\n",
      "[info] 0W57OwQkaEg: Downloading subtitles: en\n"
     ]
    },
    {
     "name": "stderr",
     "output_type": "stream",
     "text": [
      "WARNING: ffmpeg not found. The downloaded format may not be the best available. Installing ffmpeg is strongly recommended: https://github.com/yt-dlp/yt-dlp#dependencies\n"
     ]
    },
    {
     "name": "stdout",
     "output_type": "stream",
     "text": [
      "[youtube] Extracting URL: https://youtube.com/watch?v=0W57OwQkaEg\n",
      "[youtube] 0W57OwQkaEg: Downloading webpage\n",
      "[youtube] 0W57OwQkaEg: Downloading ios player API JSON\n",
      "[youtube] 0W57OwQkaEg: Downloading web creator player API JSON\n",
      "[youtube] 0W57OwQkaEg: Downloading m3u8 information\n",
      "[info] 0W57OwQkaEg: Downloading subtitles: en\n"
     ]
    },
    {
     "name": "stderr",
     "output_type": "stream",
     "text": [
      "WARNING: ffmpeg not found. The downloaded format may not be the best available. Installing ffmpeg is strongly recommended: https://github.com/yt-dlp/yt-dlp#dependencies\n"
     ]
    },
    {
     "name": "stdout",
     "output_type": "stream",
     "text": [
      "[info] 0W57OwQkaEg: Downloading 1 format(s): 18\n",
      "[info] Writing video subtitles to: data\\en_CNN\\Hamas propaganda video shows guerrilla warfare tactics.en.vtt\n",
      "[download] Destination: data\\en_CNN\\Hamas propaganda video shows guerrilla warfare tactics.en.vtt\n",
      "[download] 100% of   17.76KiB in 00:00:00 at 76.02KiB/s\n",
      "[youtube] Extracting URL: https://youtube.com/watch?v=6pTpWBAXOuI\n",
      "[youtube] 6pTpWBAXOuI: Downloading webpage\n",
      "[youtube] 6pTpWBAXOuI: Downloading ios player API JSON\n",
      "[youtube] 6pTpWBAXOuI: Downloading web creator player API JSON\n",
      "[youtube] 6pTpWBAXOuI: Downloading m3u8 information\n",
      "[info] 6pTpWBAXOuI: Downloading subtitles: en\n"
     ]
    },
    {
     "name": "stderr",
     "output_type": "stream",
     "text": [
      "WARNING: ffmpeg not found. The downloaded format may not be the best available. Installing ffmpeg is strongly recommended: https://github.com/yt-dlp/yt-dlp#dependencies\n"
     ]
    },
    {
     "name": "stdout",
     "output_type": "stream",
     "text": [
      "[youtube] Extracting URL: https://youtube.com/watch?v=6pTpWBAXOuI\n",
      "[youtube] 6pTpWBAXOuI: Downloading webpage\n",
      "[youtube] 6pTpWBAXOuI: Downloading ios player API JSON\n",
      "[youtube] 6pTpWBAXOuI: Downloading web creator player API JSON\n",
      "[youtube] 6pTpWBAXOuI: Downloading m3u8 information\n",
      "[info] 6pTpWBAXOuI: Downloading subtitles: en\n"
     ]
    },
    {
     "name": "stderr",
     "output_type": "stream",
     "text": [
      "WARNING: ffmpeg not found. The downloaded format may not be the best available. Installing ffmpeg is strongly recommended: https://github.com/yt-dlp/yt-dlp#dependencies\n"
     ]
    },
    {
     "name": "stdout",
     "output_type": "stream",
     "text": [
      "[info] 6pTpWBAXOuI: Downloading 1 format(s): 18\n",
      "[info] Writing video subtitles to: data\\en_CNN\\CNN reporter embeds with IDF in Gaza. Here's what he saw.en.vtt\n",
      "[download] Destination: data\\en_CNN\\CNN reporter embeds with IDF in Gaza. Here's what he saw.en.vtt\n",
      "[download] 100% of   10.06KiB in 00:00:00 at 63.76KiB/s\n",
      "[youtube] Extracting URL: https://youtube.com/watch?v=Ejbl4AKhlj8\n",
      "[youtube] Ejbl4AKhlj8: Downloading webpage\n",
      "[youtube] Ejbl4AKhlj8: Downloading ios player API JSON\n",
      "[youtube] Ejbl4AKhlj8: Downloading web creator player API JSON\n",
      "[youtube] Ejbl4AKhlj8: Downloading m3u8 information\n",
      "[info] Ejbl4AKhlj8: Downloading subtitles: en\n"
     ]
    },
    {
     "name": "stderr",
     "output_type": "stream",
     "text": [
      "WARNING: ffmpeg not found. The downloaded format may not be the best available. Installing ffmpeg is strongly recommended: https://github.com/yt-dlp/yt-dlp#dependencies\n"
     ]
    },
    {
     "name": "stdout",
     "output_type": "stream",
     "text": [
      "[youtube] Extracting URL: https://youtube.com/watch?v=Ejbl4AKhlj8\n",
      "[youtube] Ejbl4AKhlj8: Downloading webpage\n",
      "[youtube] Ejbl4AKhlj8: Downloading ios player API JSON\n",
      "[youtube] Ejbl4AKhlj8: Downloading web creator player API JSON\n",
      "[youtube] Ejbl4AKhlj8: Downloading m3u8 information\n",
      "[info] Ejbl4AKhlj8: Downloading subtitles: en\n"
     ]
    },
    {
     "name": "stderr",
     "output_type": "stream",
     "text": [
      "WARNING: ffmpeg not found. The downloaded format may not be the best available. Installing ffmpeg is strongly recommended: https://github.com/yt-dlp/yt-dlp#dependencies\n"
     ]
    },
    {
     "name": "stdout",
     "output_type": "stream",
     "text": [
      "[info] Ejbl4AKhlj8: Downloading 1 format(s): 18\n",
      "[info] Writing video subtitles to: data\\en_CNN\\Man with loved ones in Gaza shares heartbreaking reality behind family photo.en.vtt\n",
      "[download] Destination: data\\en_CNN\\Man with loved ones in Gaza shares heartbreaking reality behind family photo.en.vtt\n",
      "[download] 100% of    9.11KiB in 00:00:00 at 53.89KiB/s\n",
      "[youtube] Extracting URL: https://youtube.com/watch?v=SBtJMBIG-n4\n",
      "[youtube] SBtJMBIG-n4: Downloading webpage\n",
      "[youtube] SBtJMBIG-n4: Downloading ios player API JSON\n",
      "[youtube] SBtJMBIG-n4: Downloading web creator player API JSON\n",
      "[youtube] SBtJMBIG-n4: Downloading m3u8 information\n",
      "[info] SBtJMBIG-n4: Downloading subtitles: en\n"
     ]
    },
    {
     "name": "stderr",
     "output_type": "stream",
     "text": [
      "WARNING: ffmpeg not found. The downloaded format may not be the best available. Installing ffmpeg is strongly recommended: https://github.com/yt-dlp/yt-dlp#dependencies\n"
     ]
    },
    {
     "name": "stdout",
     "output_type": "stream",
     "text": [
      "[youtube] Extracting URL: https://youtube.com/watch?v=SBtJMBIG-n4\n",
      "[youtube] SBtJMBIG-n4: Downloading webpage\n",
      "[youtube] SBtJMBIG-n4: Downloading ios player API JSON\n",
      "[youtube] SBtJMBIG-n4: Downloading web creator player API JSON\n",
      "[youtube] SBtJMBIG-n4: Downloading m3u8 information\n",
      "[info] SBtJMBIG-n4: Downloading subtitles: en\n"
     ]
    },
    {
     "name": "stderr",
     "output_type": "stream",
     "text": [
      "WARNING: ffmpeg not found. The downloaded format may not be the best available. Installing ffmpeg is strongly recommended: https://github.com/yt-dlp/yt-dlp#dependencies\n"
     ]
    },
    {
     "name": "stdout",
     "output_type": "stream",
     "text": [
      "[info] SBtJMBIG-n4: Downloading 1 format(s): 18\n",
      "[info] Writing video subtitles to: data\\en_CNN\\See what Trump said about US involvement in Israel-Hamas war.en.vtt\n",
      "[download] Destination: data\\en_CNN\\See what Trump said about US involvement in Israel-Hamas war.en.vtt\n",
      "[download] 100% of   10.46KiB in 00:00:00 at 87.75KiB/s\n",
      "[youtube] Extracting URL: https://youtube.com/watch?v=xQKdsZJFhRw\n",
      "[youtube] xQKdsZJFhRw: Downloading webpage\n",
      "[youtube] xQKdsZJFhRw: Downloading ios player API JSON\n",
      "[youtube] xQKdsZJFhRw: Downloading web creator player API JSON\n",
      "[youtube] xQKdsZJFhRw: Downloading m3u8 information\n"
     ]
    },
    {
     "name": "stderr",
     "output_type": "stream",
     "text": [
      "WARNING: ffmpeg not found. The downloaded format may not be the best available. Installing ffmpeg is strongly recommended: https://github.com/yt-dlp/yt-dlp#dependencies\n"
     ]
    },
    {
     "name": "stdout",
     "output_type": "stream",
     "text": [
      "subtitle file not found\n",
      "[youtube] Extracting URL: https://youtube.com/watch?v=p1S3BsnflMs\n",
      "[youtube] p1S3BsnflMs: Downloading webpage\n",
      "[youtube] p1S3BsnflMs: Downloading ios player API JSON\n",
      "[youtube] p1S3BsnflMs: Downloading web creator player API JSON\n",
      "[youtube] p1S3BsnflMs: Downloading m3u8 information\n",
      "[info] p1S3BsnflMs: Downloading subtitles: en\n"
     ]
    },
    {
     "name": "stderr",
     "output_type": "stream",
     "text": [
      "WARNING: ffmpeg not found. The downloaded format may not be the best available. Installing ffmpeg is strongly recommended: https://github.com/yt-dlp/yt-dlp#dependencies\n"
     ]
    },
    {
     "name": "stdout",
     "output_type": "stream",
     "text": [
      "[youtube] Extracting URL: https://youtube.com/watch?v=p1S3BsnflMs\n",
      "[youtube] p1S3BsnflMs: Downloading webpage\n",
      "[youtube] p1S3BsnflMs: Downloading ios player API JSON\n",
      "[youtube] p1S3BsnflMs: Downloading web creator player API JSON\n",
      "[youtube] p1S3BsnflMs: Downloading m3u8 information\n",
      "[info] p1S3BsnflMs: Downloading subtitles: en\n"
     ]
    },
    {
     "name": "stderr",
     "output_type": "stream",
     "text": [
      "WARNING: ffmpeg not found. The downloaded format may not be the best available. Installing ffmpeg is strongly recommended: https://github.com/yt-dlp/yt-dlp#dependencies\n"
     ]
    },
    {
     "name": "stdout",
     "output_type": "stream",
     "text": [
      "[info] p1S3BsnflMs: Downloading 1 format(s): 18\n",
      "[info] Writing video subtitles to: data\\en_CNN\\IDF spokesman says military working with officials to evacuate remaining hospital patients.en.vtt\n",
      "[download] Destination: data\\en_CNN\\IDF spokesman says military working with officials to evacuate remaining hospital patients.en.vtt\n",
      "[download] 100% of   21.43KiB in 00:00:00 at 78.13KiB/s\n",
      "[youtube] Extracting URL: https://youtube.com/watch?v=dBaQhSrsDYI\n",
      "[youtube] dBaQhSrsDYI: Downloading webpage\n",
      "[youtube] dBaQhSrsDYI: Downloading ios player API JSON\n",
      "[youtube] dBaQhSrsDYI: Downloading web creator player API JSON\n",
      "[youtube] dBaQhSrsDYI: Downloading m3u8 information\n",
      "[info] dBaQhSrsDYI: Downloading subtitles: en\n"
     ]
    },
    {
     "name": "stderr",
     "output_type": "stream",
     "text": [
      "WARNING: ffmpeg not found. The downloaded format may not be the best available. Installing ffmpeg is strongly recommended: https://github.com/yt-dlp/yt-dlp#dependencies\n"
     ]
    },
    {
     "name": "stdout",
     "output_type": "stream",
     "text": [
      "[youtube] Extracting URL: https://youtube.com/watch?v=dBaQhSrsDYI\n",
      "[youtube] dBaQhSrsDYI: Downloading webpage\n",
      "[youtube] dBaQhSrsDYI: Downloading ios player API JSON\n",
      "[youtube] dBaQhSrsDYI: Downloading web creator player API JSON\n",
      "[youtube] dBaQhSrsDYI: Downloading m3u8 information\n",
      "[info] dBaQhSrsDYI: Downloading subtitles: en\n"
     ]
    },
    {
     "name": "stderr",
     "output_type": "stream",
     "text": [
      "WARNING: ffmpeg not found. The downloaded format may not be the best available. Installing ffmpeg is strongly recommended: https://github.com/yt-dlp/yt-dlp#dependencies\n"
     ]
    },
    {
     "name": "stdout",
     "output_type": "stream",
     "text": [
      "[info] dBaQhSrsDYI: Downloading 1 format(s): 18\n",
      "[info] Writing video subtitles to: data\\en_CNN\\Netanyahu shares 3 things to understand about the war.en.vtt\n",
      "[download] Destination: data\\en_CNN\\Netanyahu shares 3 things to understand about the war.en.vtt\n",
      "[download] 100% of   20.92KiB in 00:00:00 at 145.26KiB/s\n",
      "[youtube] Extracting URL: https://youtube.com/watch?v=8h7Raw-KFZE\n",
      "[youtube] 8h7Raw-KFZE: Downloading webpage\n",
      "[youtube] 8h7Raw-KFZE: Downloading ios player API JSON\n",
      "[youtube] 8h7Raw-KFZE: Downloading web creator player API JSON\n",
      "[youtube] 8h7Raw-KFZE: Downloading m3u8 information\n",
      "[info] 8h7Raw-KFZE: Downloading subtitles: en\n"
     ]
    },
    {
     "name": "stderr",
     "output_type": "stream",
     "text": [
      "WARNING: ffmpeg not found. The downloaded format may not be the best available. Installing ffmpeg is strongly recommended: https://github.com/yt-dlp/yt-dlp#dependencies\n"
     ]
    },
    {
     "name": "stdout",
     "output_type": "stream",
     "text": [
      "[youtube] Extracting URL: https://youtube.com/watch?v=8h7Raw-KFZE\n",
      "[youtube] 8h7Raw-KFZE: Downloading webpage\n",
      "[youtube] 8h7Raw-KFZE: Downloading ios player API JSON\n",
      "[youtube] 8h7Raw-KFZE: Downloading web creator player API JSON\n",
      "[youtube] 8h7Raw-KFZE: Downloading m3u8 information\n",
      "[info] 8h7Raw-KFZE: Downloading subtitles: en\n"
     ]
    },
    {
     "name": "stderr",
     "output_type": "stream",
     "text": [
      "WARNING: ffmpeg not found. The downloaded format may not be the best available. Installing ffmpeg is strongly recommended: https://github.com/yt-dlp/yt-dlp#dependencies\n"
     ]
    },
    {
     "name": "stdout",
     "output_type": "stream",
     "text": [
      "[info] 8h7Raw-KFZE: Downloading 1 format(s): 18\n",
      "[info] Writing video subtitles to: data\\en_CNN\\Chris Christie on what he thinks is top priority in Israel-Hamas war.en.vtt\n",
      "[download] Destination: data\\en_CNN\\Chris Christie on what he thinks is top priority in Israel-Hamas war.en.vtt\n",
      "[download] 100% of   18.86KiB in 00:00:00 at 61.37KiB/s\n",
      "[youtube] Extracting URL: https://youtube.com/watch?v=0Gw8OFkD_iE\n",
      "[youtube] 0Gw8OFkD_iE: Downloading webpage\n",
      "[youtube] 0Gw8OFkD_iE: Downloading ios player API JSON\n",
      "[youtube] 0Gw8OFkD_iE: Downloading web creator player API JSON\n",
      "[youtube] 0Gw8OFkD_iE: Downloading m3u8 information\n",
      "[info] 0Gw8OFkD_iE: Downloading subtitles: en\n"
     ]
    },
    {
     "name": "stderr",
     "output_type": "stream",
     "text": [
      "WARNING: ffmpeg not found. The downloaded format may not be the best available. Installing ffmpeg is strongly recommended: https://github.com/yt-dlp/yt-dlp#dependencies\n"
     ]
    },
    {
     "name": "stdout",
     "output_type": "stream",
     "text": [
      "[youtube] Extracting URL: https://youtube.com/watch?v=0Gw8OFkD_iE\n",
      "[youtube] 0Gw8OFkD_iE: Downloading webpage\n",
      "[youtube] 0Gw8OFkD_iE: Downloading ios player API JSON\n",
      "[youtube] 0Gw8OFkD_iE: Downloading web creator player API JSON\n",
      "[youtube] 0Gw8OFkD_iE: Downloading m3u8 information\n",
      "[info] 0Gw8OFkD_iE: Downloading subtitles: en\n"
     ]
    },
    {
     "name": "stderr",
     "output_type": "stream",
     "text": [
      "WARNING: ffmpeg not found. The downloaded format may not be the best available. Installing ffmpeg is strongly recommended: https://github.com/yt-dlp/yt-dlp#dependencies\n"
     ]
    },
    {
     "name": "stdout",
     "output_type": "stream",
     "text": [
      "[info] 0Gw8OFkD_iE: Downloading 1 format(s): 18\n",
      "[info] Writing video subtitles to: data\\en_CNN\\Fareed Zakaria Does anyone believe in free speech anymore.en.vtt\n",
      "[download] Destination: data\\en_CNN\\Fareed Zakaria Does anyone believe in free speech anymore.en.vtt\n",
      "[download] 100% of   11.80KiB in 00:00:00 at 75.52KiB/s\n",
      "[youtube] Extracting URL: https://youtube.com/watch?v=Xyxjo2z9W50\n",
      "[youtube] Xyxjo2z9W50: Downloading webpage\n",
      "[youtube] Xyxjo2z9W50: Downloading ios player API JSON\n",
      "[youtube] Xyxjo2z9W50: This video is age-restricted; some formats may be missing without authentication. Use --cookies-from-browser or --cookies for the authentication. See  https://github.com/yt-dlp/yt-dlp/wiki/FAQ#how-do-i-pass-cookies-to-yt-dlp  for how to manually pass cookies\n",
      "[youtube] Xyxjo2z9W50: Downloading tv embedded player API JSON\n",
      "[youtube] Xyxjo2z9W50: Downloading web creator player API JSON\n",
      "[info] Xyxjo2z9W50: Downloading subtitles: en-uYU-mmqFLq8\n"
     ]
    },
    {
     "name": "stderr",
     "output_type": "stream",
     "text": [
      "WARNING: ffmpeg not found. The downloaded format may not be the best available. Installing ffmpeg is strongly recommended: https://github.com/yt-dlp/yt-dlp#dependencies\n"
     ]
    },
    {
     "name": "stdout",
     "output_type": "stream",
     "text": [
      "[youtube] Extracting URL: https://youtube.com/watch?v=Xyxjo2z9W50\n",
      "[youtube] Xyxjo2z9W50: Downloading webpage\n",
      "[youtube] Xyxjo2z9W50: Downloading ios player API JSON\n",
      "[youtube] Xyxjo2z9W50: This video is age-restricted; some formats may be missing without authentication. Use --cookies-from-browser or --cookies for the authentication. See  https://github.com/yt-dlp/yt-dlp/wiki/FAQ#how-do-i-pass-cookies-to-yt-dlp  for how to manually pass cookies\n",
      "[youtube] Xyxjo2z9W50: Downloading tv embedded player API JSON\n",
      "[youtube] Xyxjo2z9W50: Downloading web creator player API JSON\n",
      "[info] Xyxjo2z9W50: Downloading subtitles: ab-en-uYU-mmqFLq8\n"
     ]
    },
    {
     "name": "stderr",
     "output_type": "stream",
     "text": [
      "WARNING: ffmpeg not found. The downloaded format may not be the best available. Installing ffmpeg is strongly recommended: https://github.com/yt-dlp/yt-dlp#dependencies\n"
     ]
    },
    {
     "name": "stdout",
     "output_type": "stream",
     "text": [
      "[info] Xyxjo2z9W50: Downloading 1 format(s): 18\n",
      "[info] Writing video subtitles to: data\\en_CNN\\Gaza's second largest hospital collapses under Israeli bombardment.ab-en-uYU-mmqFLq8.vtt\n",
      "[download] Destination: data\\en_CNN\\Gaza's second largest hospital collapses under Israeli bombardment.ab-en-uYU-mmqFLq8.vtt\n",
      "[download] 100% of   45.09KiB in 00:00:00 at 87.92KiB/s\n",
      "[youtube] Extracting URL: https://youtube.com/watch?v=TCqvBYBqC2Q\n",
      "[youtube] TCqvBYBqC2Q: Downloading webpage\n",
      "[youtube] TCqvBYBqC2Q: Downloading ios player API JSON\n",
      "[youtube] TCqvBYBqC2Q: Downloading web creator player API JSON\n",
      "[youtube] TCqvBYBqC2Q: Downloading m3u8 information\n",
      "[info] TCqvBYBqC2Q: Downloading subtitles: en-uYU-mmqFLq8\n"
     ]
    },
    {
     "name": "stderr",
     "output_type": "stream",
     "text": [
      "WARNING: ffmpeg not found. The downloaded format may not be the best available. Installing ffmpeg is strongly recommended: https://github.com/yt-dlp/yt-dlp#dependencies\n"
     ]
    },
    {
     "name": "stdout",
     "output_type": "stream",
     "text": [
      "[youtube] Extracting URL: https://youtube.com/watch?v=TCqvBYBqC2Q\n",
      "[youtube] TCqvBYBqC2Q: Downloading webpage\n",
      "[youtube] TCqvBYBqC2Q: Downloading ios player API JSON\n",
      "[youtube] TCqvBYBqC2Q: Downloading web creator player API JSON\n",
      "[youtube] TCqvBYBqC2Q: Downloading m3u8 information\n",
      "[info] TCqvBYBqC2Q: Downloading subtitles: en\n"
     ]
    },
    {
     "name": "stderr",
     "output_type": "stream",
     "text": [
      "WARNING: ffmpeg not found. The downloaded format may not be the best available. Installing ffmpeg is strongly recommended: https://github.com/yt-dlp/yt-dlp#dependencies\n"
     ]
    },
    {
     "name": "stdout",
     "output_type": "stream",
     "text": [
      "[info] TCqvBYBqC2Q: Downloading 1 format(s): 18\n",
      "[info] Writing video subtitles to: data\\en_CNN\\IDF says video shows Hamas militant outside hospital with RPG launcher.en.vtt\n",
      "[hlsnative] Downloading m3u8 manifest\n",
      "[hlsnative] Total fragments: 1\n",
      "[download] Destination: data\\en_CNN\\IDF says video shows Hamas militant outside hospital with RPG launcher.en.vtt\n",
      "[download] 100% of   46.19KiB in 00:00:00 at 220.43KiB/s               \n",
      "[youtube] Extracting URL: https://youtube.com/watch?v=XLcSpRMGGwA\n",
      "[youtube] XLcSpRMGGwA: Downloading webpage\n",
      "[youtube] XLcSpRMGGwA: Downloading ios player API JSON\n",
      "[youtube] XLcSpRMGGwA: Downloading web creator player API JSON\n",
      "[youtube] XLcSpRMGGwA: Downloading m3u8 information\n"
     ]
    },
    {
     "name": "stderr",
     "output_type": "stream",
     "text": [
      "WARNING: ffmpeg not found. The downloaded format may not be the best available. Installing ffmpeg is strongly recommended: https://github.com/yt-dlp/yt-dlp#dependencies\n"
     ]
    },
    {
     "name": "stdout",
     "output_type": "stream",
     "text": [
      "subtitle file not found\n",
      "[youtube] Extracting URL: https://youtube.com/watch?v=NP6raWKH7DA\n",
      "[youtube] NP6raWKH7DA: Downloading webpage\n",
      "[youtube] NP6raWKH7DA: Downloading ios player API JSON\n",
      "[youtube] NP6raWKH7DA: Downloading web creator player API JSON\n",
      "[youtube] NP6raWKH7DA: Downloading m3u8 information\n",
      "[info] NP6raWKH7DA: Downloading subtitles: en\n"
     ]
    },
    {
     "name": "stderr",
     "output_type": "stream",
     "text": [
      "WARNING: ffmpeg not found. The downloaded format may not be the best available. Installing ffmpeg is strongly recommended: https://github.com/yt-dlp/yt-dlp#dependencies\n"
     ]
    },
    {
     "name": "stdout",
     "output_type": "stream",
     "text": [
      "[youtube] Extracting URL: https://youtube.com/watch?v=NP6raWKH7DA\n",
      "[youtube] NP6raWKH7DA: Downloading webpage\n",
      "[youtube] NP6raWKH7DA: Downloading ios player API JSON\n",
      "[youtube] NP6raWKH7DA: Downloading web creator player API JSON\n",
      "[youtube] NP6raWKH7DA: Downloading m3u8 information\n",
      "[info] NP6raWKH7DA: Downloading subtitles: en\n"
     ]
    },
    {
     "name": "stderr",
     "output_type": "stream",
     "text": [
      "WARNING: ffmpeg not found. The downloaded format may not be the best available. Installing ffmpeg is strongly recommended: https://github.com/yt-dlp/yt-dlp#dependencies\n"
     ]
    },
    {
     "name": "stdout",
     "output_type": "stream",
     "text": [
      "[info] NP6raWKH7DA: Downloading 1 format(s): 18\n",
      "[info] Writing video subtitles to: data\\en_CNN\\See what CNN reporter saw inside hospital basement in Gaza.en.vtt\n",
      "[download] Destination: data\\en_CNN\\See what CNN reporter saw inside hospital basement in Gaza.en.vtt\n",
      "[download] 100% of   14.43KiB in 00:00:00 at 91.12KiB/s\n",
      "[youtube] Extracting URL: https://youtube.com/watch?v=LX0UE92QqDw\n",
      "[youtube] LX0UE92QqDw: Downloading webpage\n",
      "[youtube] LX0UE92QqDw: Downloading ios player API JSON\n",
      "[youtube] LX0UE92QqDw: Downloading web creator player API JSON\n",
      "[youtube] LX0UE92QqDw: Downloading m3u8 information\n",
      "[info] LX0UE92QqDw: Downloading subtitles: en\n"
     ]
    },
    {
     "name": "stderr",
     "output_type": "stream",
     "text": [
      "WARNING: ffmpeg not found. The downloaded format may not be the best available. Installing ffmpeg is strongly recommended: https://github.com/yt-dlp/yt-dlp#dependencies\n"
     ]
    },
    {
     "name": "stdout",
     "output_type": "stream",
     "text": [
      "[youtube] Extracting URL: https://youtube.com/watch?v=LX0UE92QqDw\n",
      "[youtube] LX0UE92QqDw: Downloading webpage\n",
      "[youtube] LX0UE92QqDw: Downloading ios player API JSON\n",
      "[youtube] LX0UE92QqDw: Downloading web creator player API JSON\n",
      "[youtube] LX0UE92QqDw: Downloading m3u8 information\n",
      "[info] LX0UE92QqDw: Downloading subtitles: en\n"
     ]
    },
    {
     "name": "stderr",
     "output_type": "stream",
     "text": [
      "WARNING: ffmpeg not found. The downloaded format may not be the best available. Installing ffmpeg is strongly recommended: https://github.com/yt-dlp/yt-dlp#dependencies\n"
     ]
    },
    {
     "name": "stdout",
     "output_type": "stream",
     "text": [
      "[info] LX0UE92QqDw: Downloading 1 format(s): 18\n",
      "[info] Writing video subtitles to: data\\en_CNN\\Wesley Clark Israeli’s militarily have to do this.en.vtt\n",
      "[download] Destination: data\\en_CNN\\Wesley Clark Israeli’s militarily have to do this.en.vtt\n",
      "[download] 100% of   16.85KiB in 00:00:00 at 69.50KiB/s\n",
      "[youtube] Extracting URL: https://youtube.com/watch?v=_zbjTW0J1LQ\n",
      "[youtube] _zbjTW0J1LQ: Downloading webpage\n",
      "[youtube] _zbjTW0J1LQ: Downloading ios player API JSON\n",
      "[youtube] _zbjTW0J1LQ: Downloading web creator player API JSON\n",
      "[youtube] _zbjTW0J1LQ: Downloading m3u8 information\n",
      "[info] _zbjTW0J1LQ: Downloading subtitles: en-uYU-mmqFLq8\n"
     ]
    },
    {
     "name": "stderr",
     "output_type": "stream",
     "text": [
      "WARNING: ffmpeg not found. The downloaded format may not be the best available. Installing ffmpeg is strongly recommended: https://github.com/yt-dlp/yt-dlp#dependencies\n"
     ]
    },
    {
     "name": "stdout",
     "output_type": "stream",
     "text": [
      "[youtube] Extracting URL: https://youtube.com/watch?v=_zbjTW0J1LQ\n",
      "[youtube] _zbjTW0J1LQ: Downloading webpage\n",
      "[youtube] _zbjTW0J1LQ: Downloading ios player API JSON\n",
      "[youtube] _zbjTW0J1LQ: Downloading web creator player API JSON\n",
      "[youtube] _zbjTW0J1LQ: Downloading m3u8 information\n",
      "[info] _zbjTW0J1LQ: Downloading subtitles: en\n"
     ]
    },
    {
     "name": "stderr",
     "output_type": "stream",
     "text": [
      "WARNING: ffmpeg not found. The downloaded format may not be the best available. Installing ffmpeg is strongly recommended: https://github.com/yt-dlp/yt-dlp#dependencies\n"
     ]
    },
    {
     "name": "stdout",
     "output_type": "stream",
     "text": [
      "[info] _zbjTW0J1LQ: Downloading 1 format(s): 18\n",
      "[info] Writing video subtitles to: data\\en_CNN\\Father of 8-year-old girl believed to be taken by Hamas describes relentless search for daughter.en.vtt\n",
      "[hlsnative] Downloading m3u8 manifest\n",
      "[hlsnative] Total fragments: 1\n",
      "[download] Destination: data\\en_CNN\\Father of 8-year-old girl believed to be taken by Hamas describes relentless search for daughter.en.vtt\n",
      "[download] 100% of  106.14KiB in 00:00:00 at 383.70KiB/s               \n",
      "[youtube] Extracting URL: https://youtube.com/watch?v=nDn10nDnk_k\n",
      "[youtube] nDn10nDnk_k: Downloading webpage\n",
      "[youtube] nDn10nDnk_k: Downloading ios player API JSON\n",
      "[youtube] nDn10nDnk_k: This video is age-restricted; some formats may be missing without authentication. Use --cookies-from-browser or --cookies for the authentication. See  https://github.com/yt-dlp/yt-dlp/wiki/FAQ#how-do-i-pass-cookies-to-yt-dlp  for how to manually pass cookies\n",
      "[youtube] nDn10nDnk_k: Downloading tv embedded player API JSON\n",
      "[youtube] nDn10nDnk_k: Downloading web creator player API JSON\n",
      "[info] nDn10nDnk_k: Downloading subtitles: en\n"
     ]
    },
    {
     "name": "stderr",
     "output_type": "stream",
     "text": [
      "WARNING: ffmpeg not found. The downloaded format may not be the best available. Installing ffmpeg is strongly recommended: https://github.com/yt-dlp/yt-dlp#dependencies\n"
     ]
    },
    {
     "name": "stdout",
     "output_type": "stream",
     "text": [
      "[youtube] Extracting URL: https://youtube.com/watch?v=nDn10nDnk_k\n",
      "[youtube] nDn10nDnk_k: Downloading webpage\n",
      "[youtube] nDn10nDnk_k: Downloading ios player API JSON\n",
      "[youtube] nDn10nDnk_k: This video is age-restricted; some formats may be missing without authentication. Use --cookies-from-browser or --cookies for the authentication. See  https://github.com/yt-dlp/yt-dlp/wiki/FAQ#how-do-i-pass-cookies-to-yt-dlp  for how to manually pass cookies\n",
      "[youtube] nDn10nDnk_k: Downloading tv embedded player API JSON\n",
      "[youtube] nDn10nDnk_k: Downloading web creator player API JSON\n",
      "[info] nDn10nDnk_k: Downloading subtitles: ab-en\n"
     ]
    },
    {
     "name": "stderr",
     "output_type": "stream",
     "text": [
      "WARNING: ffmpeg not found. The downloaded format may not be the best available. Installing ffmpeg is strongly recommended: https://github.com/yt-dlp/yt-dlp#dependencies\n"
     ]
    },
    {
     "name": "stdout",
     "output_type": "stream",
     "text": [
      "[info] nDn10nDnk_k: Downloading 1 format(s): 18\n",
      "[info] Writing video subtitles to: data\\en_CNN\\Hamas militant's bodycam shows how attacks on Israel began.ab-en.vtt\n",
      "[download] Destination: data\\en_CNN\\Hamas militant's bodycam shows how attacks on Israel began.ab-en.vtt\n",
      "[download] 100% of   26.74KiB in 00:00:00 at 55.52KiB/s\n",
      "[youtube] Extracting URL: https://youtube.com/watch?v=rFl2AuVhbMM\n",
      "[youtube] rFl2AuVhbMM: Downloading webpage\n",
      "[youtube] rFl2AuVhbMM: Downloading ios player API JSON\n",
      "[youtube] rFl2AuVhbMM: Downloading web creator player API JSON\n",
      "[youtube] rFl2AuVhbMM: Downloading m3u8 information\n",
      "[info] rFl2AuVhbMM: Downloading subtitles: en-uYU-mmqFLq8\n"
     ]
    },
    {
     "name": "stderr",
     "output_type": "stream",
     "text": [
      "WARNING: ffmpeg not found. The downloaded format may not be the best available. Installing ffmpeg is strongly recommended: https://github.com/yt-dlp/yt-dlp#dependencies\n"
     ]
    },
    {
     "name": "stdout",
     "output_type": "stream",
     "text": [
      "[youtube] Extracting URL: https://youtube.com/watch?v=rFl2AuVhbMM\n",
      "[youtube] rFl2AuVhbMM: Downloading webpage\n",
      "[youtube] rFl2AuVhbMM: Downloading ios player API JSON\n",
      "[youtube] rFl2AuVhbMM: Downloading web creator player API JSON\n",
      "[youtube] rFl2AuVhbMM: Downloading m3u8 information\n",
      "[info] rFl2AuVhbMM: Downloading subtitles: en\n"
     ]
    },
    {
     "name": "stderr",
     "output_type": "stream",
     "text": [
      "WARNING: ffmpeg not found. The downloaded format may not be the best available. Installing ffmpeg is strongly recommended: https://github.com/yt-dlp/yt-dlp#dependencies\n"
     ]
    },
    {
     "name": "stdout",
     "output_type": "stream",
     "text": [
      "[info] rFl2AuVhbMM: Downloading 1 format(s): 18\n",
      "[info] Writing video subtitles to: data\\en_CNN\\Tapper Key members of Netanyahu’s cabinet ‘throwing fire on the flames’.en.vtt\n",
      "[hlsnative] Downloading m3u8 manifest\n",
      "[hlsnative] Total fragments: 1\n",
      "[download] Destination: data\\en_CNN\\Tapper Key members of Netanyahu’s cabinet ‘throwing fire on the flames’.en.vtt\n",
      "[download] 100% of    5.77KiB in 00:00:00 at 31.34KiB/s                \n",
      "[youtube] Extracting URL: https://youtube.com/watch?v=XMrnz6G1j1M\n",
      "[youtube] XMrnz6G1j1M: Downloading webpage\n",
      "[youtube] XMrnz6G1j1M: Downloading ios player API JSON\n",
      "[youtube] XMrnz6G1j1M: Downloading web creator player API JSON\n",
      "[youtube] XMrnz6G1j1M: Downloading m3u8 information\n",
      "[info] XMrnz6G1j1M: Downloading subtitles: en\n"
     ]
    },
    {
     "name": "stderr",
     "output_type": "stream",
     "text": [
      "WARNING: ffmpeg not found. The downloaded format may not be the best available. Installing ffmpeg is strongly recommended: https://github.com/yt-dlp/yt-dlp#dependencies\n"
     ]
    },
    {
     "name": "stdout",
     "output_type": "stream",
     "text": [
      "[youtube] Extracting URL: https://youtube.com/watch?v=XMrnz6G1j1M\n",
      "[youtube] XMrnz6G1j1M: Downloading webpage\n",
      "[youtube] XMrnz6G1j1M: Downloading ios player API JSON\n",
      "[youtube] XMrnz6G1j1M: Downloading web creator player API JSON\n",
      "[youtube] XMrnz6G1j1M: Downloading m3u8 information\n",
      "[info] XMrnz6G1j1M: Downloading subtitles: en\n"
     ]
    },
    {
     "name": "stderr",
     "output_type": "stream",
     "text": [
      "WARNING: ffmpeg not found. The downloaded format may not be the best available. Installing ffmpeg is strongly recommended: https://github.com/yt-dlp/yt-dlp#dependencies\n"
     ]
    },
    {
     "name": "stdout",
     "output_type": "stream",
     "text": [
      "[info] XMrnz6G1j1M: Downloading 1 format(s): 18\n",
      "[info] Writing video subtitles to: data\\en_CNN\\Conditions at Gaza hospital deteriorate amid Israel’s military operation.en.vtt\n",
      "[download] Destination: data\\en_CNN\\Conditions at Gaza hospital deteriorate amid Israel’s military operation.en.vtt\n",
      "[download] 100% of   20.90KiB in 00:00:00 at 90.86KiB/s\n",
      "[youtube] Extracting URL: https://youtube.com/watch?v=9QlVX2XMtms\n",
      "[youtube] 9QlVX2XMtms: Downloading webpage\n",
      "[youtube] 9QlVX2XMtms: Downloading ios player API JSON\n",
      "[youtube] 9QlVX2XMtms: This video is age-restricted; some formats may be missing without authentication. Use --cookies-from-browser or --cookies for the authentication. See  https://github.com/yt-dlp/yt-dlp/wiki/FAQ#how-do-i-pass-cookies-to-yt-dlp  for how to manually pass cookies\n",
      "[youtube] 9QlVX2XMtms: Downloading tv embedded player API JSON\n",
      "[youtube] 9QlVX2XMtms: Downloading web creator player API JSON\n",
      "[info] 9QlVX2XMtms: Downloading subtitles: en\n"
     ]
    },
    {
     "name": "stderr",
     "output_type": "stream",
     "text": [
      "WARNING: ffmpeg not found. The downloaded format may not be the best available. Installing ffmpeg is strongly recommended: https://github.com/yt-dlp/yt-dlp#dependencies\n"
     ]
    },
    {
     "name": "stdout",
     "output_type": "stream",
     "text": [
      "[youtube] Extracting URL: https://youtube.com/watch?v=9QlVX2XMtms\n",
      "[youtube] 9QlVX2XMtms: Downloading webpage\n",
      "[youtube] 9QlVX2XMtms: Downloading ios player API JSON\n",
      "[youtube] 9QlVX2XMtms: This video is age-restricted; some formats may be missing without authentication. Use --cookies-from-browser or --cookies for the authentication. See  https://github.com/yt-dlp/yt-dlp/wiki/FAQ#how-do-i-pass-cookies-to-yt-dlp  for how to manually pass cookies\n",
      "[youtube] 9QlVX2XMtms: Downloading tv embedded player API JSON\n",
      "[youtube] 9QlVX2XMtms: Downloading web creator player API JSON\n",
      "[info] 9QlVX2XMtms: Downloading subtitles: ab-en\n"
     ]
    },
    {
     "name": "stderr",
     "output_type": "stream",
     "text": [
      "WARNING: ffmpeg not found. The downloaded format may not be the best available. Installing ffmpeg is strongly recommended: https://github.com/yt-dlp/yt-dlp#dependencies\n"
     ]
    },
    {
     "name": "stdout",
     "output_type": "stream",
     "text": [
      "[info] 9QlVX2XMtms: Downloading 1 format(s): 18\n",
      "[info] Writing video subtitles to: data\\en_CNN\\See Palestinian man's point of view while evacuating Gaza City.ab-en.vtt\n",
      "[download] Destination: data\\en_CNN\\See Palestinian man's point of view while evacuating Gaza City.ab-en.vtt\n",
      "[download] 100% of   11.84KiB in 00:00:00 at 34.29KiB/s\n",
      "[youtube] Extracting URL: https://youtube.com/watch?v=NDc9zmID9J8\n",
      "[youtube] NDc9zmID9J8: Downloading webpage\n",
      "[youtube] NDc9zmID9J8: Downloading ios player API JSON\n",
      "[youtube] NDc9zmID9J8: Downloading web creator player API JSON\n",
      "[youtube] NDc9zmID9J8: Downloading m3u8 information\n",
      "[info] NDc9zmID9J8: Downloading subtitles: en\n"
     ]
    },
    {
     "name": "stderr",
     "output_type": "stream",
     "text": [
      "WARNING: ffmpeg not found. The downloaded format may not be the best available. Installing ffmpeg is strongly recommended: https://github.com/yt-dlp/yt-dlp#dependencies\n"
     ]
    },
    {
     "name": "stdout",
     "output_type": "stream",
     "text": [
      "[youtube] Extracting URL: https://youtube.com/watch?v=NDc9zmID9J8\n",
      "[youtube] NDc9zmID9J8: Downloading webpage\n",
      "[youtube] NDc9zmID9J8: Downloading ios player API JSON\n",
      "[youtube] NDc9zmID9J8: Downloading web creator player API JSON\n",
      "[youtube] NDc9zmID9J8: Downloading m3u8 information\n",
      "[info] NDc9zmID9J8: Downloading subtitles: en\n"
     ]
    },
    {
     "name": "stderr",
     "output_type": "stream",
     "text": [
      "WARNING: ffmpeg not found. The downloaded format may not be the best available. Installing ffmpeg is strongly recommended: https://github.com/yt-dlp/yt-dlp#dependencies\n"
     ]
    },
    {
     "name": "stdout",
     "output_type": "stream",
     "text": [
      "[info] NDc9zmID9J8: Downloading 1 format(s): 18\n",
      "[info] Writing video subtitles to: data\\en_CNN\\IDF takes CNN to tunnel shaft near Gaza hospital. What we saw.en.vtt\n",
      "[download] Destination: data\\en_CNN\\IDF takes CNN to tunnel shaft near Gaza hospital. What we saw.en.vtt\n",
      "[download] 100% of   17.70KiB in 00:00:00 at 90.12KiB/s\n",
      "[youtube] Extracting URL: https://youtube.com/watch?v=0pD3Ww6P8jc\n",
      "[youtube] 0pD3Ww6P8jc: Downloading webpage\n",
      "[youtube] 0pD3Ww6P8jc: Downloading ios player API JSON\n",
      "[youtube] 0pD3Ww6P8jc: Downloading web creator player API JSON\n",
      "[youtube] 0pD3Ww6P8jc: Downloading m3u8 information\n",
      "[info] 0pD3Ww6P8jc: Downloading subtitles: en\n"
     ]
    },
    {
     "name": "stderr",
     "output_type": "stream",
     "text": [
      "WARNING: ffmpeg not found. The downloaded format may not be the best available. Installing ffmpeg is strongly recommended: https://github.com/yt-dlp/yt-dlp#dependencies\n"
     ]
    },
    {
     "name": "stdout",
     "output_type": "stream",
     "text": [
      "[youtube] Extracting URL: https://youtube.com/watch?v=0pD3Ww6P8jc\n",
      "[youtube] 0pD3Ww6P8jc: Downloading webpage\n",
      "[youtube] 0pD3Ww6P8jc: Downloading ios player API JSON\n",
      "[youtube] 0pD3Ww6P8jc: Downloading web creator player API JSON\n",
      "[youtube] 0pD3Ww6P8jc: Downloading m3u8 information\n",
      "[info] 0pD3Ww6P8jc: Downloading subtitles: en\n"
     ]
    },
    {
     "name": "stderr",
     "output_type": "stream",
     "text": [
      "WARNING: ffmpeg not found. The downloaded format may not be the best available. Installing ffmpeg is strongly recommended: https://github.com/yt-dlp/yt-dlp#dependencies\n"
     ]
    },
    {
     "name": "stdout",
     "output_type": "stream",
     "text": [
      "[info] 0pD3Ww6P8jc: Downloading 1 format(s): 18\n",
      "[info] Writing video subtitles to: data\\en_CNN\\Hear what college students think about Biden amid Israel-Hamas war.en.vtt\n",
      "[download] Destination: data\\en_CNN\\Hear what college students think about Biden amid Israel-Hamas war.en.vtt\n",
      "[download] 100% of   19.09KiB in 00:00:00 at 74.37KiB/s\n",
      "[youtube] Extracting URL: https://youtube.com/watch?v=Cf6inrhxXGc\n",
      "[youtube] Cf6inrhxXGc: Downloading webpage\n",
      "[youtube] Cf6inrhxXGc: Downloading ios player API JSON\n",
      "[youtube] Cf6inrhxXGc: Downloading web creator player API JSON\n",
      "[youtube] Cf6inrhxXGc: Downloading m3u8 information\n",
      "[info] Cf6inrhxXGc: Downloading subtitles: en\n"
     ]
    },
    {
     "name": "stderr",
     "output_type": "stream",
     "text": [
      "WARNING: ffmpeg not found. The downloaded format may not be the best available. Installing ffmpeg is strongly recommended: https://github.com/yt-dlp/yt-dlp#dependencies\n"
     ]
    },
    {
     "name": "stdout",
     "output_type": "stream",
     "text": [
      "[youtube] Extracting URL: https://youtube.com/watch?v=Cf6inrhxXGc\n",
      "[youtube] Cf6inrhxXGc: Downloading webpage\n",
      "[youtube] Cf6inrhxXGc: Downloading ios player API JSON\n",
      "[youtube] Cf6inrhxXGc: Downloading web creator player API JSON\n",
      "[youtube] Cf6inrhxXGc: Downloading m3u8 information\n",
      "[info] Cf6inrhxXGc: Downloading subtitles: en\n"
     ]
    },
    {
     "name": "stderr",
     "output_type": "stream",
     "text": [
      "WARNING: ffmpeg not found. The downloaded format may not be the best available. Installing ffmpeg is strongly recommended: https://github.com/yt-dlp/yt-dlp#dependencies\n"
     ]
    },
    {
     "name": "stdout",
     "output_type": "stream",
     "text": [
      "[info] Cf6inrhxXGc: Downloading 1 format(s): 18\n",
      "[info] Writing video subtitles to: data\\en_CNN\\Israel and Hamas on brink of hostage deal.en.vtt\n",
      "[download] Destination: data\\en_CNN\\Israel and Hamas on brink of hostage deal.en.vtt\n",
      "[download] 100% of   17.55KiB in 00:00:00 at 89.17KiB/s\n",
      "[youtube] Extracting URL: https://youtube.com/watch?v=eJfzS5OzHxA\n",
      "[youtube] eJfzS5OzHxA: Downloading webpage\n",
      "[youtube] eJfzS5OzHxA: Downloading ios player API JSON\n",
      "[youtube] eJfzS5OzHxA: Downloading web creator player API JSON\n",
      "[youtube] eJfzS5OzHxA: Downloading m3u8 information\n",
      "[info] eJfzS5OzHxA: Downloading subtitles: en-uYU-mmqFLq8\n"
     ]
    },
    {
     "name": "stderr",
     "output_type": "stream",
     "text": [
      "WARNING: ffmpeg not found. The downloaded format may not be the best available. Installing ffmpeg is strongly recommended: https://github.com/yt-dlp/yt-dlp#dependencies\n"
     ]
    },
    {
     "name": "stdout",
     "output_type": "stream",
     "text": [
      "[youtube] Extracting URL: https://youtube.com/watch?v=eJfzS5OzHxA\n",
      "[youtube] eJfzS5OzHxA: Downloading webpage\n",
      "[youtube] eJfzS5OzHxA: Downloading ios player API JSON\n",
      "[youtube] eJfzS5OzHxA: Downloading web creator player API JSON\n",
      "[youtube] eJfzS5OzHxA: Downloading m3u8 information\n",
      "[info] eJfzS5OzHxA: Downloading subtitles: en\n"
     ]
    },
    {
     "name": "stderr",
     "output_type": "stream",
     "text": [
      "WARNING: ffmpeg not found. The downloaded format may not be the best available. Installing ffmpeg is strongly recommended: https://github.com/yt-dlp/yt-dlp#dependencies\n"
     ]
    },
    {
     "name": "stdout",
     "output_type": "stream",
     "text": [
      "[info] eJfzS5OzHxA: Downloading 1 format(s): 18\n",
      "[info] Writing video subtitles to: data\\en_CNN\\Israel’s cabinet votes to approve hostage release deal.en.vtt\n",
      "[hlsnative] Downloading m3u8 manifest\n",
      "[hlsnative] Total fragments: 1\n",
      "[download] Destination: data\\en_CNN\\Israel’s cabinet votes to approve hostage release deal.en.vtt\n",
      "[download] 100% of    9.17KiB in 00:00:00 at 43.52KiB/s                \n",
      "[youtube] Extracting URL: https://youtube.com/watch?v=PwBJ_cG83ew\n",
      "[youtube] PwBJ_cG83ew: Downloading webpage\n",
      "[youtube] PwBJ_cG83ew: Downloading ios player API JSON\n",
      "[youtube] PwBJ_cG83ew: Downloading web creator player API JSON\n",
      "[youtube] PwBJ_cG83ew: Downloading m3u8 information\n",
      "[info] PwBJ_cG83ew: Downloading subtitles: en\n"
     ]
    },
    {
     "name": "stderr",
     "output_type": "stream",
     "text": [
      "WARNING: ffmpeg not found. The downloaded format may not be the best available. Installing ffmpeg is strongly recommended: https://github.com/yt-dlp/yt-dlp#dependencies\n"
     ]
    },
    {
     "name": "stdout",
     "output_type": "stream",
     "text": [
      "[youtube] Extracting URL: https://youtube.com/watch?v=PwBJ_cG83ew\n",
      "[youtube] PwBJ_cG83ew: Downloading webpage\n",
      "[youtube] PwBJ_cG83ew: Downloading ios player API JSON\n",
      "[youtube] PwBJ_cG83ew: Downloading web creator player API JSON\n",
      "[youtube] PwBJ_cG83ew: Downloading m3u8 information\n",
      "[info] PwBJ_cG83ew: Downloading subtitles: en\n"
     ]
    },
    {
     "name": "stderr",
     "output_type": "stream",
     "text": [
      "WARNING: ffmpeg not found. The downloaded format may not be the best available. Installing ffmpeg is strongly recommended: https://github.com/yt-dlp/yt-dlp#dependencies\n"
     ]
    },
    {
     "name": "stdout",
     "output_type": "stream",
     "text": [
      "[info] PwBJ_cG83ew: Downloading 1 format(s): 18\n",
      "[info] Writing video subtitles to: data\\en_CNN\\Ret. US general talks about the potential military impact of a four-day pause.en.vtt\n",
      "[download] Destination: data\\en_CNN\\Ret. US general talks about the potential military impact of a four-day pause.en.vtt\n",
      "[download] 100% of   17.97KiB in 00:00:00 at 100.86KiB/s\n",
      "[youtube] Extracting URL: https://youtube.com/watch?v=lQ_Ex8gxt-k\n",
      "[youtube] lQ_Ex8gxt-k: Downloading webpage\n",
      "[youtube] lQ_Ex8gxt-k: Downloading ios player API JSON\n",
      "[youtube] lQ_Ex8gxt-k: Downloading web creator player API JSON\n",
      "[youtube] lQ_Ex8gxt-k: Downloading m3u8 information\n",
      "[info] lQ_Ex8gxt-k: Downloading subtitles: en-uYU-mmqFLq8\n"
     ]
    },
    {
     "name": "stderr",
     "output_type": "stream",
     "text": [
      "WARNING: ffmpeg not found. The downloaded format may not be the best available. Installing ffmpeg is strongly recommended: https://github.com/yt-dlp/yt-dlp#dependencies\n"
     ]
    },
    {
     "name": "stdout",
     "output_type": "stream",
     "text": [
      "[youtube] Extracting URL: https://youtube.com/watch?v=lQ_Ex8gxt-k\n",
      "[youtube] lQ_Ex8gxt-k: Downloading webpage\n",
      "[youtube] lQ_Ex8gxt-k: Downloading ios player API JSON\n",
      "[youtube] lQ_Ex8gxt-k: Downloading web creator player API JSON\n",
      "[youtube] lQ_Ex8gxt-k: Downloading m3u8 information\n",
      "[info] lQ_Ex8gxt-k: Downloading subtitles: en\n"
     ]
    },
    {
     "name": "stderr",
     "output_type": "stream",
     "text": [
      "WARNING: ffmpeg not found. The downloaded format may not be the best available. Installing ffmpeg is strongly recommended: https://github.com/yt-dlp/yt-dlp#dependencies\n"
     ]
    },
    {
     "name": "stdout",
     "output_type": "stream",
     "text": [
      "[info] lQ_Ex8gxt-k: Downloading 1 format(s): 18\n",
      "[info] Writing video subtitles to: data\\en_CNN\\Military analyst on what can and can't happen during pause in Gaza fighting.en.vtt\n",
      "[hlsnative] Downloading m3u8 manifest\n",
      "[hlsnative] Total fragments: 1\n",
      "[download] Destination: data\\en_CNN\\Military analyst on what can and can't happen during pause in Gaza fighting.en.vtt\n",
      "[download] 100% of   98.45KiB in 00:00:00 at 463.29KiB/s               \n",
      "[youtube] Extracting URL: https://youtube.com/watch?v=h70bJk13-KE\n",
      "[youtube] h70bJk13-KE: Downloading webpage\n",
      "[youtube] h70bJk13-KE: Downloading ios player API JSON\n",
      "[youtube] h70bJk13-KE: Downloading web creator player API JSON\n",
      "[youtube] h70bJk13-KE: Downloading m3u8 information\n",
      "[info] h70bJk13-KE: Downloading subtitles: en\n"
     ]
    },
    {
     "name": "stderr",
     "output_type": "stream",
     "text": [
      "WARNING: ffmpeg not found. The downloaded format may not be the best available. Installing ffmpeg is strongly recommended: https://github.com/yt-dlp/yt-dlp#dependencies\n"
     ]
    },
    {
     "name": "stdout",
     "output_type": "stream",
     "text": [
      "[youtube] Extracting URL: https://youtube.com/watch?v=h70bJk13-KE\n",
      "[youtube] h70bJk13-KE: Downloading webpage\n",
      "[youtube] h70bJk13-KE: Downloading ios player API JSON\n",
      "[youtube] h70bJk13-KE: Downloading web creator player API JSON\n",
      "[youtube] h70bJk13-KE: Downloading m3u8 information\n",
      "[info] h70bJk13-KE: Downloading subtitles: en\n"
     ]
    },
    {
     "name": "stderr",
     "output_type": "stream",
     "text": [
      "WARNING: ffmpeg not found. The downloaded format may not be the best available. Installing ffmpeg is strongly recommended: https://github.com/yt-dlp/yt-dlp#dependencies\n"
     ]
    },
    {
     "name": "stdout",
     "output_type": "stream",
     "text": [
      "[info] h70bJk13-KE: Downloading 1 format(s): 18\n",
      "[info] Writing video subtitles to: data\\en_CNN\\Israel hostage release deal delayed until Friday.en.vtt\n",
      "[download] Destination: data\\en_CNN\\Israel hostage release deal delayed until Friday.en.vtt\n",
      "[download] 100% of   14.57KiB in 00:00:00 at 68.98KiB/s\n",
      "[youtube] Extracting URL: https://youtube.com/watch?v=cnzeS6Nb8z0\n",
      "[youtube] cnzeS6Nb8z0: Downloading webpage\n",
      "[youtube] cnzeS6Nb8z0: Downloading ios player API JSON\n",
      "[youtube] cnzeS6Nb8z0: Downloading web creator player API JSON\n",
      "[youtube] cnzeS6Nb8z0: Downloading m3u8 information\n",
      "[info] cnzeS6Nb8z0: Downloading subtitles: en\n"
     ]
    },
    {
     "name": "stderr",
     "output_type": "stream",
     "text": [
      "WARNING: ffmpeg not found. The downloaded format may not be the best available. Installing ffmpeg is strongly recommended: https://github.com/yt-dlp/yt-dlp#dependencies\n"
     ]
    },
    {
     "name": "stdout",
     "output_type": "stream",
     "text": [
      "[youtube] Extracting URL: https://youtube.com/watch?v=cnzeS6Nb8z0\n",
      "[youtube] cnzeS6Nb8z0: Downloading webpage\n",
      "[youtube] cnzeS6Nb8z0: Downloading ios player API JSON\n",
      "[youtube] cnzeS6Nb8z0: Downloading web creator player API JSON\n",
      "[youtube] cnzeS6Nb8z0: Downloading m3u8 information\n",
      "[info] cnzeS6Nb8z0: Downloading subtitles: en\n"
     ]
    },
    {
     "name": "stderr",
     "output_type": "stream",
     "text": [
      "WARNING: ffmpeg not found. The downloaded format may not be the best available. Installing ffmpeg is strongly recommended: https://github.com/yt-dlp/yt-dlp#dependencies\n"
     ]
    },
    {
     "name": "stdout",
     "output_type": "stream",
     "text": [
      "[info] cnzeS6Nb8z0: Downloading 1 format(s): 18\n",
      "[info] Writing video subtitles to: data\\en_CNN\\Qatar announces when Israel-Hamas truce will begin.en.vtt\n",
      "[download] Destination: data\\en_CNN\\Qatar announces when Israel-Hamas truce will begin.en.vtt\n",
      "[download] 100% of   19.42KiB in 00:00:00 at 95.10KiB/s\n",
      "[youtube] Extracting URL: https://youtube.com/watch?v=EKCtoGV4SmU\n",
      "[youtube] EKCtoGV4SmU: Downloading webpage\n",
      "[youtube] EKCtoGV4SmU: Downloading ios player API JSON\n",
      "[youtube] EKCtoGV4SmU: Downloading web creator player API JSON\n",
      "[youtube] EKCtoGV4SmU: Downloading m3u8 information\n",
      "[info] EKCtoGV4SmU: Downloading subtitles: en\n"
     ]
    },
    {
     "name": "stderr",
     "output_type": "stream",
     "text": [
      "WARNING: ffmpeg not found. The downloaded format may not be the best available. Installing ffmpeg is strongly recommended: https://github.com/yt-dlp/yt-dlp#dependencies\n"
     ]
    },
    {
     "name": "stdout",
     "output_type": "stream",
     "text": [
      "[youtube] Extracting URL: https://youtube.com/watch?v=EKCtoGV4SmU\n",
      "[youtube] EKCtoGV4SmU: Downloading webpage\n",
      "[youtube] EKCtoGV4SmU: Downloading ios player API JSON\n",
      "[youtube] EKCtoGV4SmU: Downloading web creator player API JSON\n",
      "[youtube] EKCtoGV4SmU: Downloading m3u8 information\n",
      "[info] EKCtoGV4SmU: Downloading subtitles: en\n"
     ]
    },
    {
     "name": "stderr",
     "output_type": "stream",
     "text": [
      "WARNING: ffmpeg not found. The downloaded format may not be the best available. Installing ffmpeg is strongly recommended: https://github.com/yt-dlp/yt-dlp#dependencies\n"
     ]
    },
    {
     "name": "stdout",
     "output_type": "stream",
     "text": [
      "[info] EKCtoGV4SmU: Downloading 1 format(s): 18\n",
      "[info] Writing video subtitles to: data\\en_CNN\\John Bolton Truce is a bad deal for Israel.en.vtt\n",
      "[download] Destination: data\\en_CNN\\John Bolton Truce is a bad deal for Israel.en.vtt\n",
      "[download] 100% of   14.91KiB in 00:00:00 at 72.48KiB/s\n",
      "[youtube] Extracting URL: https://youtube.com/watch?v=y5VpAKb0t1E\n",
      "[youtube] y5VpAKb0t1E: Downloading webpage\n",
      "[youtube] y5VpAKb0t1E: Downloading ios player API JSON\n",
      "[youtube] y5VpAKb0t1E: Downloading web creator player API JSON\n",
      "[youtube] y5VpAKb0t1E: Downloading m3u8 information\n",
      "[info] y5VpAKb0t1E: Downloading subtitles: en\n"
     ]
    },
    {
     "name": "stderr",
     "output_type": "stream",
     "text": [
      "WARNING: ffmpeg not found. The downloaded format may not be the best available. Installing ffmpeg is strongly recommended: https://github.com/yt-dlp/yt-dlp#dependencies\n"
     ]
    },
    {
     "name": "stdout",
     "output_type": "stream",
     "text": [
      "[youtube] Extracting URL: https://youtube.com/watch?v=y5VpAKb0t1E\n",
      "[youtube] y5VpAKb0t1E: Downloading webpage\n",
      "[youtube] y5VpAKb0t1E: Downloading ios player API JSON\n",
      "[youtube] y5VpAKb0t1E: Downloading web creator player API JSON\n",
      "[youtube] y5VpAKb0t1E: Downloading m3u8 information\n",
      "[info] y5VpAKb0t1E: Downloading subtitles: en\n"
     ]
    },
    {
     "name": "stderr",
     "output_type": "stream",
     "text": [
      "WARNING: ffmpeg not found. The downloaded format may not be the best available. Installing ffmpeg is strongly recommended: https://github.com/yt-dlp/yt-dlp#dependencies\n"
     ]
    },
    {
     "name": "stdout",
     "output_type": "stream",
     "text": [
      "[info] y5VpAKb0t1E: Downloading 1 format(s): 18\n",
      "[info] Writing video subtitles to: data\\en_CNN\\Hear what a retired US colonel thinks Hamas will do during truce.en.vtt\n",
      "[download] Destination: data\\en_CNN\\Hear what a retired US colonel thinks Hamas will do during truce.en.vtt\n",
      "[download] 100% of   15.96KiB in 00:00:00 at 88.27KiB/s\n",
      "[youtube] Extracting URL: https://youtube.com/watch?v=5f0Onb1RV34\n",
      "[youtube] 5f0Onb1RV34: Downloading webpage\n",
      "[youtube] 5f0Onb1RV34: Downloading ios player API JSON\n",
      "[youtube] 5f0Onb1RV34: Downloading web creator player API JSON\n",
      "[youtube] 5f0Onb1RV34: Downloading m3u8 information\n",
      "[info] 5f0Onb1RV34: Downloading subtitles: en\n"
     ]
    },
    {
     "name": "stderr",
     "output_type": "stream",
     "text": [
      "WARNING: ffmpeg not found. The downloaded format may not be the best available. Installing ffmpeg is strongly recommended: https://github.com/yt-dlp/yt-dlp#dependencies\n"
     ]
    },
    {
     "name": "stdout",
     "output_type": "stream",
     "text": [
      "[youtube] Extracting URL: https://youtube.com/watch?v=5f0Onb1RV34\n",
      "[youtube] 5f0Onb1RV34: Downloading webpage\n",
      "[youtube] 5f0Onb1RV34: Downloading ios player API JSON\n",
      "[youtube] 5f0Onb1RV34: Downloading web creator player API JSON\n",
      "[youtube] 5f0Onb1RV34: Downloading m3u8 information\n",
      "[info] 5f0Onb1RV34: Downloading subtitles: en\n"
     ]
    },
    {
     "name": "stderr",
     "output_type": "stream",
     "text": [
      "WARNING: ffmpeg not found. The downloaded format may not be the best available. Installing ffmpeg is strongly recommended: https://github.com/yt-dlp/yt-dlp#dependencies\n"
     ]
    },
    {
     "name": "stdout",
     "output_type": "stream",
     "text": [
      "[info] 5f0Onb1RV34: Downloading 1 format(s): 18\n",
      "[info] Writing video subtitles to: data\\en_CNN\\Blogger leaves haunting words in final video from Gaza.en.vtt\n",
      "[download] Destination: data\\en_CNN\\Blogger leaves haunting words in final video from Gaza.en.vtt\n",
      "[download] 100% of   14.30KiB in 00:00:00 at 82.55KiB/s\n",
      "[youtube] Extracting URL: https://youtube.com/watch?v=IX2lBOesLO4\n",
      "[youtube] IX2lBOesLO4: Downloading webpage\n",
      "[youtube] IX2lBOesLO4: Downloading ios player API JSON\n",
      "[youtube] IX2lBOesLO4: Downloading web creator player API JSON\n",
      "[youtube] IX2lBOesLO4: Downloading m3u8 information\n",
      "[info] IX2lBOesLO4: Downloading subtitles: en\n"
     ]
    },
    {
     "name": "stderr",
     "output_type": "stream",
     "text": [
      "WARNING: ffmpeg not found. The downloaded format may not be the best available. Installing ffmpeg is strongly recommended: https://github.com/yt-dlp/yt-dlp#dependencies\n"
     ]
    },
    {
     "name": "stdout",
     "output_type": "stream",
     "text": [
      "[youtube] Extracting URL: https://youtube.com/watch?v=IX2lBOesLO4\n",
      "[youtube] IX2lBOesLO4: Downloading webpage\n",
      "[youtube] IX2lBOesLO4: Downloading ios player API JSON\n",
      "[youtube] IX2lBOesLO4: Downloading web creator player API JSON\n",
      "[youtube] IX2lBOesLO4: Downloading m3u8 information\n",
      "[info] IX2lBOesLO4: Downloading subtitles: en\n"
     ]
    },
    {
     "name": "stderr",
     "output_type": "stream",
     "text": [
      "WARNING: ffmpeg not found. The downloaded format may not be the best available. Installing ffmpeg is strongly recommended: https://github.com/yt-dlp/yt-dlp#dependencies\n"
     ]
    },
    {
     "name": "stdout",
     "output_type": "stream",
     "text": [
      "[info] IX2lBOesLO4: Downloading 1 format(s): 18\n",
      "[info] Writing video subtitles to: data\\en_CNN\\Cheers erupt as Red Cross convoy passes through Rafah crossing.en.vtt\n",
      "[download] Destination: data\\en_CNN\\Cheers erupt as Red Cross convoy passes through Rafah crossing.en.vtt\n",
      "[download] 100% of   17.69KiB in 00:00:00 at 49.29KiB/s\n",
      "[youtube] Extracting URL: https://youtube.com/watch?v=zvYqPJeFUV8\n",
      "[youtube] zvYqPJeFUV8: Downloading webpage\n",
      "[youtube] zvYqPJeFUV8: Downloading ios player API JSON\n",
      "[youtube] zvYqPJeFUV8: Downloading web creator player API JSON\n",
      "[youtube] zvYqPJeFUV8: Downloading m3u8 information\n",
      "[info] zvYqPJeFUV8: Downloading subtitles: en\n"
     ]
    },
    {
     "name": "stderr",
     "output_type": "stream",
     "text": [
      "WARNING: ffmpeg not found. The downloaded format may not be the best available. Installing ffmpeg is strongly recommended: https://github.com/yt-dlp/yt-dlp#dependencies\n"
     ]
    },
    {
     "name": "stdout",
     "output_type": "stream",
     "text": [
      "[youtube] Extracting URL: https://youtube.com/watch?v=zvYqPJeFUV8\n",
      "[youtube] zvYqPJeFUV8: Downloading webpage\n",
      "[youtube] zvYqPJeFUV8: Downloading ios player API JSON\n",
      "[youtube] zvYqPJeFUV8: Downloading web creator player API JSON\n",
      "[youtube] zvYqPJeFUV8: Downloading m3u8 information\n",
      "[info] zvYqPJeFUV8: Downloading subtitles: en\n"
     ]
    },
    {
     "name": "stderr",
     "output_type": "stream",
     "text": [
      "WARNING: ffmpeg not found. The downloaded format may not be the best available. Installing ffmpeg is strongly recommended: https://github.com/yt-dlp/yt-dlp#dependencies\n"
     ]
    },
    {
     "name": "stdout",
     "output_type": "stream",
     "text": [
      "[info] zvYqPJeFUV8: Downloading 1 format(s): 18\n",
      "[info] Writing video subtitles to: data\\en_CNN\\Young girl exits ambulance at Rafah crossing amid hostage release.en.vtt\n",
      "[download] Destination: data\\en_CNN\\Young girl exits ambulance at Rafah crossing amid hostage release.en.vtt\n",
      "[download] 100% of   18.58KiB in 00:00:00 at 92.18KiB/s\n",
      "[youtube] Extracting URL: https://youtube.com/watch?v=1yhU4tihI44\n",
      "[youtube] 1yhU4tihI44: Downloading webpage\n",
      "[youtube] 1yhU4tihI44: Downloading ios player API JSON\n",
      "[youtube] 1yhU4tihI44: Downloading web creator player API JSON\n",
      "[youtube] 1yhU4tihI44: Downloading m3u8 information\n",
      "[info] 1yhU4tihI44: Downloading subtitles: en\n"
     ]
    },
    {
     "name": "stderr",
     "output_type": "stream",
     "text": [
      "WARNING: ffmpeg not found. The downloaded format may not be the best available. Installing ffmpeg is strongly recommended: https://github.com/yt-dlp/yt-dlp#dependencies\n"
     ]
    },
    {
     "name": "stdout",
     "output_type": "stream",
     "text": [
      "[youtube] Extracting URL: https://youtube.com/watch?v=1yhU4tihI44\n",
      "[youtube] 1yhU4tihI44: Downloading webpage\n",
      "[youtube] 1yhU4tihI44: Downloading ios player API JSON\n",
      "[youtube] 1yhU4tihI44: Downloading web creator player API JSON\n",
      "[youtube] 1yhU4tihI44: Downloading m3u8 information\n",
      "[info] 1yhU4tihI44: Downloading subtitles: en\n"
     ]
    },
    {
     "name": "stderr",
     "output_type": "stream",
     "text": [
      "WARNING: ffmpeg not found. The downloaded format may not be the best available. Installing ffmpeg is strongly recommended: https://github.com/yt-dlp/yt-dlp#dependencies\n"
     ]
    },
    {
     "name": "stdout",
     "output_type": "stream",
     "text": [
      "[info] 1yhU4tihI44: Downloading 1 format(s): 18\n",
      "[info] Writing video subtitles to: data\\en_CNN\\Biden Hostage release 'only a start'.en.vtt\n",
      "[download] Destination: data\\en_CNN\\Biden Hostage release 'only a start'.en.vtt\n",
      "[download] 100% of   19.25KiB in 00:00:00 at 140.24KiB/s\n",
      "[youtube] Extracting URL: https://youtube.com/watch?v=HNPh803AUEA\n",
      "[youtube] HNPh803AUEA: Downloading webpage\n",
      "[youtube] HNPh803AUEA: Downloading ios player API JSON\n",
      "[youtube] HNPh803AUEA: Downloading web creator player API JSON\n",
      "[youtube] HNPh803AUEA: Downloading m3u8 information\n",
      "[info] HNPh803AUEA: Downloading subtitles: en\n"
     ]
    },
    {
     "name": "stderr",
     "output_type": "stream",
     "text": [
      "WARNING: ffmpeg not found. The downloaded format may not be the best available. Installing ffmpeg is strongly recommended: https://github.com/yt-dlp/yt-dlp#dependencies\n"
     ]
    },
    {
     "name": "stdout",
     "output_type": "stream",
     "text": [
      "[youtube] Extracting URL: https://youtube.com/watch?v=HNPh803AUEA\n",
      "[youtube] HNPh803AUEA: Downloading webpage\n",
      "[youtube] HNPh803AUEA: Downloading ios player API JSON\n",
      "[youtube] HNPh803AUEA: Downloading web creator player API JSON\n",
      "[youtube] HNPh803AUEA: Downloading m3u8 information\n",
      "[info] HNPh803AUEA: Downloading subtitles: en\n"
     ]
    },
    {
     "name": "stderr",
     "output_type": "stream",
     "text": [
      "WARNING: ffmpeg not found. The downloaded format may not be the best available. Installing ffmpeg is strongly recommended: https://github.com/yt-dlp/yt-dlp#dependencies\n"
     ]
    },
    {
     "name": "stdout",
     "output_type": "stream",
     "text": [
      "[info] HNPh803AUEA: Downloading 1 format(s): 18\n",
      "[info] Writing video subtitles to: data\\en_CNN\\Videos show civilian hostages released by Hamas.en.vtt\n",
      "[download] Destination: data\\en_CNN\\Videos show civilian hostages released by Hamas.en.vtt\n",
      "[download] 100% of   19.10KiB in 00:00:00 at 59.43KiB/s\n",
      "[youtube] Extracting URL: https://youtube.com/watch?v=voXlir19xpA\n",
      "[youtube] voXlir19xpA: Downloading webpage\n",
      "[youtube] voXlir19xpA: Downloading ios player API JSON\n",
      "[youtube] voXlir19xpA: Downloading web creator player API JSON\n",
      "[youtube] voXlir19xpA: Downloading m3u8 information\n"
     ]
    },
    {
     "name": "stderr",
     "output_type": "stream",
     "text": [
      "WARNING: ffmpeg not found. The downloaded format may not be the best available. Installing ffmpeg is strongly recommended: https://github.com/yt-dlp/yt-dlp#dependencies\n"
     ]
    },
    {
     "name": "stdout",
     "output_type": "stream",
     "text": [
      "subtitle file not found\n",
      "[youtube] Extracting URL: https://youtube.com/watch?v=Sr_jubWhmZM\n",
      "[youtube] Sr_jubWhmZM: Downloading webpage\n",
      "[youtube] Sr_jubWhmZM: Downloading ios player API JSON\n",
      "[youtube] Sr_jubWhmZM: Downloading web creator player API JSON\n",
      "[youtube] Sr_jubWhmZM: Downloading m3u8 information\n",
      "[info] Sr_jubWhmZM: Downloading subtitles: en\n"
     ]
    },
    {
     "name": "stderr",
     "output_type": "stream",
     "text": [
      "WARNING: ffmpeg not found. The downloaded format may not be the best available. Installing ffmpeg is strongly recommended: https://github.com/yt-dlp/yt-dlp#dependencies\n"
     ]
    },
    {
     "name": "stdout",
     "output_type": "stream",
     "text": [
      "[youtube] Extracting URL: https://youtube.com/watch?v=Sr_jubWhmZM\n",
      "[youtube] Sr_jubWhmZM: Downloading webpage\n",
      "[youtube] Sr_jubWhmZM: Downloading ios player API JSON\n",
      "[youtube] Sr_jubWhmZM: Downloading web creator player API JSON\n",
      "[youtube] Sr_jubWhmZM: Downloading m3u8 information\n",
      "[info] Sr_jubWhmZM: Downloading subtitles: en\n"
     ]
    },
    {
     "name": "stderr",
     "output_type": "stream",
     "text": [
      "WARNING: ffmpeg not found. The downloaded format may not be the best available. Installing ffmpeg is strongly recommended: https://github.com/yt-dlp/yt-dlp#dependencies\n"
     ]
    },
    {
     "name": "stdout",
     "output_type": "stream",
     "text": [
      "[info] Sr_jubWhmZM: Downloading 1 format(s): 18\n",
      "[info] Writing video subtitles to: data\\en_CNN\\US has 'reason to believe' American will be released by Hamas during exchange.en.vtt\n",
      "[download] Destination: data\\en_CNN\\US has 'reason to believe' American will be released by Hamas during exchange.en.vtt\n",
      "[download] 100% of   19.63KiB in 00:00:00 at 58.23KiB/s\n",
      "[youtube] Extracting URL: https://youtube.com/watch?v=VCgcvGM2QUU\n",
      "[youtube] VCgcvGM2QUU: Downloading webpage\n",
      "[youtube] VCgcvGM2QUU: Downloading ios player API JSON\n",
      "[youtube] VCgcvGM2QUU: Downloading web creator player API JSON\n",
      "[youtube] VCgcvGM2QUU: Downloading m3u8 information\n",
      "[info] VCgcvGM2QUU: Downloading subtitles: en\n"
     ]
    },
    {
     "name": "stderr",
     "output_type": "stream",
     "text": [
      "WARNING: ffmpeg not found. The downloaded format may not be the best available. Installing ffmpeg is strongly recommended: https://github.com/yt-dlp/yt-dlp#dependencies\n"
     ]
    },
    {
     "name": "stdout",
     "output_type": "stream",
     "text": [
      "[youtube] Extracting URL: https://youtube.com/watch?v=VCgcvGM2QUU\n",
      "[youtube] VCgcvGM2QUU: Downloading webpage\n",
      "[youtube] VCgcvGM2QUU: Downloading ios player API JSON\n",
      "[youtube] VCgcvGM2QUU: Downloading web creator player API JSON\n",
      "[youtube] VCgcvGM2QUU: Downloading m3u8 information\n",
      "[info] VCgcvGM2QUU: Downloading subtitles: en\n"
     ]
    },
    {
     "name": "stderr",
     "output_type": "stream",
     "text": [
      "WARNING: ffmpeg not found. The downloaded format may not be the best available. Installing ffmpeg is strongly recommended: https://github.com/yt-dlp/yt-dlp#dependencies\n"
     ]
    },
    {
     "name": "stdout",
     "output_type": "stream",
     "text": [
      "[info] VCgcvGM2QUU: Downloading 1 format(s): 18\n",
      "[info] Writing video subtitles to: data\\en_CNN\\Why retired general thinks hostage exchange is a 'net loss' for Israel.en.vtt\n",
      "[download] Destination: data\\en_CNN\\Why retired general thinks hostage exchange is a 'net loss' for Israel.en.vtt\n",
      "[download] 100% of    8.23KiB in 00:00:00 at 57.12KiB/s\n",
      "[youtube] Extracting URL: https://youtube.com/watch?v=kBLvPKT3R6k\n",
      "[youtube] kBLvPKT3R6k: Downloading webpage\n",
      "[youtube] kBLvPKT3R6k: Downloading ios player API JSON\n",
      "[youtube] kBLvPKT3R6k: Downloading web creator player API JSON\n",
      "[youtube] kBLvPKT3R6k: Downloading m3u8 information\n",
      "[info] kBLvPKT3R6k: Downloading subtitles: en\n"
     ]
    },
    {
     "name": "stderr",
     "output_type": "stream",
     "text": [
      "WARNING: ffmpeg not found. The downloaded format may not be the best available. Installing ffmpeg is strongly recommended: https://github.com/yt-dlp/yt-dlp#dependencies\n"
     ]
    },
    {
     "name": "stdout",
     "output_type": "stream",
     "text": [
      "[youtube] Extracting URL: https://youtube.com/watch?v=kBLvPKT3R6k\n",
      "[youtube] kBLvPKT3R6k: Downloading webpage\n",
      "[youtube] kBLvPKT3R6k: Downloading ios player API JSON\n",
      "[youtube] kBLvPKT3R6k: Downloading web creator player API JSON\n",
      "[youtube] kBLvPKT3R6k: Downloading m3u8 information\n",
      "[info] kBLvPKT3R6k: Downloading subtitles: en\n"
     ]
    },
    {
     "name": "stderr",
     "output_type": "stream",
     "text": [
      "WARNING: ffmpeg not found. The downloaded format may not be the best available. Installing ffmpeg is strongly recommended: https://github.com/yt-dlp/yt-dlp#dependencies\n"
     ]
    },
    {
     "name": "stdout",
     "output_type": "stream",
     "text": [
      "[info] kBLvPKT3R6k: Downloading 1 format(s): 18\n",
      "[info] Writing video subtitles to: data\\en_CNN\\Biden confirms 4-year-old Abigail Edan among hostages released.en.vtt\n",
      "[download] Destination: data\\en_CNN\\Biden confirms 4-year-old Abigail Edan among hostages released.en.vtt\n",
      "[download] 100% of   15.60KiB in 00:00:00 at 55.37KiB/s\n",
      "[youtube] Extracting URL: https://youtube.com/watch?v=EBoxkeoi6IQ\n",
      "[youtube] EBoxkeoi6IQ: Downloading webpage\n",
      "[youtube] EBoxkeoi6IQ: Downloading ios player API JSON\n",
      "[youtube] EBoxkeoi6IQ: Downloading web creator player API JSON\n",
      "[youtube] EBoxkeoi6IQ: Downloading m3u8 information\n",
      "[info] EBoxkeoi6IQ: Downloading subtitles: en\n"
     ]
    },
    {
     "name": "stderr",
     "output_type": "stream",
     "text": [
      "WARNING: ffmpeg not found. The downloaded format may not be the best available. Installing ffmpeg is strongly recommended: https://github.com/yt-dlp/yt-dlp#dependencies\n"
     ]
    },
    {
     "name": "stdout",
     "output_type": "stream",
     "text": [
      "[youtube] Extracting URL: https://youtube.com/watch?v=EBoxkeoi6IQ\n",
      "[youtube] EBoxkeoi6IQ: Downloading webpage\n",
      "[youtube] EBoxkeoi6IQ: Downloading ios player API JSON\n",
      "[youtube] EBoxkeoi6IQ: Downloading web creator player API JSON\n",
      "[youtube] EBoxkeoi6IQ: Downloading m3u8 information\n",
      "[info] EBoxkeoi6IQ: Downloading subtitles: en\n"
     ]
    },
    {
     "name": "stderr",
     "output_type": "stream",
     "text": [
      "WARNING: ffmpeg not found. The downloaded format may not be the best available. Installing ffmpeg is strongly recommended: https://github.com/yt-dlp/yt-dlp#dependencies\n"
     ]
    },
    {
     "name": "stdout",
     "output_type": "stream",
     "text": [
      "[info] EBoxkeoi6IQ: Downloading 1 format(s): 18\n",
      "[info] Writing video subtitles to: data\\en_CNN\\Israel's president Hamas' 'passive-aggressive' approach is an attempt to drive Israel 'crazy'.en.vtt\n",
      "[download] Destination: data\\en_CNN\\Israel's president Hamas' 'passive-aggressive' approach is an attempt to drive Israel 'crazy'.en.vtt\n",
      "[download] 100% of   18.31KiB in 00:00:00 at 60.59KiB/s\n",
      "[youtube] Extracting URL: https://youtube.com/watch?v=Y3SWTHBa7dQ\n",
      "[youtube] Y3SWTHBa7dQ: Downloading webpage\n",
      "[youtube] Y3SWTHBa7dQ: Downloading ios player API JSON\n",
      "[youtube] Y3SWTHBa7dQ: Downloading web creator player API JSON\n",
      "[youtube] Y3SWTHBa7dQ: Downloading m3u8 information\n"
     ]
    },
    {
     "name": "stderr",
     "output_type": "stream",
     "text": [
      "WARNING: ffmpeg not found. The downloaded format may not be the best available. Installing ffmpeg is strongly recommended: https://github.com/yt-dlp/yt-dlp#dependencies\n"
     ]
    },
    {
     "name": "stdout",
     "output_type": "stream",
     "text": [
      "subtitle file not found\n",
      "[youtube] Extracting URL: https://youtube.com/watch?v=8ucI0Zl1mpk\n",
      "[youtube] 8ucI0Zl1mpk: Downloading webpage\n",
      "[youtube] 8ucI0Zl1mpk: Downloading ios player API JSON\n",
      "[youtube] 8ucI0Zl1mpk: Downloading web creator player API JSON\n",
      "[youtube] 8ucI0Zl1mpk: Downloading m3u8 information\n",
      "[info] 8ucI0Zl1mpk: Downloading subtitles: en\n"
     ]
    },
    {
     "name": "stderr",
     "output_type": "stream",
     "text": [
      "WARNING: ffmpeg not found. The downloaded format may not be the best available. Installing ffmpeg is strongly recommended: https://github.com/yt-dlp/yt-dlp#dependencies\n"
     ]
    },
    {
     "name": "stdout",
     "output_type": "stream",
     "text": [
      "[youtube] Extracting URL: https://youtube.com/watch?v=8ucI0Zl1mpk\n",
      "[youtube] 8ucI0Zl1mpk: Downloading webpage\n",
      "[youtube] 8ucI0Zl1mpk: Downloading ios player API JSON\n",
      "[youtube] 8ucI0Zl1mpk: Downloading web creator player API JSON\n",
      "[youtube] 8ucI0Zl1mpk: Downloading m3u8 information\n",
      "[info] 8ucI0Zl1mpk: Downloading subtitles: en\n"
     ]
    },
    {
     "name": "stderr",
     "output_type": "stream",
     "text": [
      "WARNING: ffmpeg not found. The downloaded format may not be the best available. Installing ffmpeg is strongly recommended: https://github.com/yt-dlp/yt-dlp#dependencies\n"
     ]
    },
    {
     "name": "stdout",
     "output_type": "stream",
     "text": [
      "[info] 8ucI0Zl1mpk: Downloading 1 format(s): 18\n",
      "[info] Writing video subtitles to: data\\en_CNN\\Israeli spokesperson reveals what's needed to extend Israel-Hamas truce.en.vtt\n",
      "[download] Destination: data\\en_CNN\\Israeli spokesperson reveals what's needed to extend Israel-Hamas truce.en.vtt\n",
      "[download] 100% of   17.69KiB in 00:00:00 at 82.94KiB/s\n",
      "[youtube] Extracting URL: https://youtube.com/watch?v=k808GLtoVck\n",
      "[youtube] k808GLtoVck: Downloading webpage\n",
      "[youtube] k808GLtoVck: Downloading ios player API JSON\n",
      "[youtube] k808GLtoVck: Downloading web creator player API JSON\n",
      "[youtube] k808GLtoVck: Downloading m3u8 information\n",
      "[info] k808GLtoVck: Downloading subtitles: en\n"
     ]
    },
    {
     "name": "stderr",
     "output_type": "stream",
     "text": [
      "WARNING: ffmpeg not found. The downloaded format may not be the best available. Installing ffmpeg is strongly recommended: https://github.com/yt-dlp/yt-dlp#dependencies\n"
     ]
    },
    {
     "name": "stdout",
     "output_type": "stream",
     "text": [
      "[youtube] Extracting URL: https://youtube.com/watch?v=k808GLtoVck\n",
      "[youtube] k808GLtoVck: Downloading webpage\n",
      "[youtube] k808GLtoVck: Downloading ios player API JSON\n",
      "[youtube] k808GLtoVck: Downloading web creator player API JSON\n",
      "[youtube] k808GLtoVck: Downloading m3u8 information\n",
      "[info] k808GLtoVck: Downloading subtitles: en\n"
     ]
    },
    {
     "name": "stderr",
     "output_type": "stream",
     "text": [
      "WARNING: ffmpeg not found. The downloaded format may not be the best available. Installing ffmpeg is strongly recommended: https://github.com/yt-dlp/yt-dlp#dependencies\n"
     ]
    },
    {
     "name": "stdout",
     "output_type": "stream",
     "text": [
      "[info] k808GLtoVck: Downloading 1 format(s): 18\n",
      "[info] Writing video subtitles to: data\\en_CNN\\Father of 9-year-old hostage reveals what daughter told him after her release.en.vtt\n",
      "[download] Destination: data\\en_CNN\\Father of 9-year-old hostage reveals what daughter told him after her release.en.vtt\n",
      "[download] 100% of    9.36KiB in 00:00:00 at 83.28KiB/s\n",
      "[youtube] Extracting URL: https://youtube.com/watch?v=1UKGQ3ORCkc\n",
      "[youtube] 1UKGQ3ORCkc: Downloading webpage\n",
      "[youtube] 1UKGQ3ORCkc: Downloading ios player API JSON\n",
      "[youtube] 1UKGQ3ORCkc: Downloading web creator player API JSON\n",
      "[youtube] 1UKGQ3ORCkc: Downloading m3u8 information\n",
      "[info] 1UKGQ3ORCkc: Downloading subtitles: en\n"
     ]
    },
    {
     "name": "stderr",
     "output_type": "stream",
     "text": [
      "WARNING: ffmpeg not found. The downloaded format may not be the best available. Installing ffmpeg is strongly recommended: https://github.com/yt-dlp/yt-dlp#dependencies\n"
     ]
    },
    {
     "name": "stdout",
     "output_type": "stream",
     "text": [
      "[youtube] Extracting URL: https://youtube.com/watch?v=1UKGQ3ORCkc\n",
      "[youtube] 1UKGQ3ORCkc: Downloading webpage\n",
      "[youtube] 1UKGQ3ORCkc: Downloading ios player API JSON\n",
      "[youtube] 1UKGQ3ORCkc: Downloading web creator player API JSON\n",
      "[youtube] 1UKGQ3ORCkc: Downloading m3u8 information\n",
      "[info] 1UKGQ3ORCkc: Downloading subtitles: en\n"
     ]
    },
    {
     "name": "stderr",
     "output_type": "stream",
     "text": [
      "WARNING: ffmpeg not found. The downloaded format may not be the best available. Installing ffmpeg is strongly recommended: https://github.com/yt-dlp/yt-dlp#dependencies\n"
     ]
    },
    {
     "name": "stdout",
     "output_type": "stream",
     "text": [
      "[info] 1UKGQ3ORCkc: Downloading 1 format(s): 18\n",
      "[info] Writing video subtitles to: data\\en_CNN\\‘We feel alone’ Schumer addresses antisemitism.en.vtt\n",
      "[download] Destination: data\\en_CNN\\‘We feel alone’ Schumer addresses antisemitism.en.vtt\n",
      "[download] 100% of    3.27KiB in 00:00:00 at 26.67KiB/s\n",
      "[youtube] Extracting URL: https://youtube.com/watch?v=uwqXAoZzVyw\n",
      "[youtube] uwqXAoZzVyw: Downloading webpage\n",
      "[youtube] uwqXAoZzVyw: Downloading ios player API JSON\n",
      "[youtube] uwqXAoZzVyw: Downloading web creator player API JSON\n",
      "[youtube] uwqXAoZzVyw: Downloading m3u8 information\n",
      "[info] uwqXAoZzVyw: Downloading subtitles: en\n"
     ]
    },
    {
     "name": "stderr",
     "output_type": "stream",
     "text": [
      "WARNING: ffmpeg not found. The downloaded format may not be the best available. Installing ffmpeg is strongly recommended: https://github.com/yt-dlp/yt-dlp#dependencies\n"
     ]
    },
    {
     "name": "stdout",
     "output_type": "stream",
     "text": [
      "[youtube] Extracting URL: https://youtube.com/watch?v=uwqXAoZzVyw\n",
      "[youtube] uwqXAoZzVyw: Downloading webpage\n",
      "[youtube] uwqXAoZzVyw: Downloading ios player API JSON\n",
      "[youtube] uwqXAoZzVyw: Downloading web creator player API JSON\n",
      "[youtube] uwqXAoZzVyw: Downloading m3u8 information\n",
      "[info] uwqXAoZzVyw: Downloading subtitles: en\n"
     ]
    },
    {
     "name": "stderr",
     "output_type": "stream",
     "text": [
      "WARNING: ffmpeg not found. The downloaded format may not be the best available. Installing ffmpeg is strongly recommended: https://github.com/yt-dlp/yt-dlp#dependencies\n"
     ]
    },
    {
     "name": "stdout",
     "output_type": "stream",
     "text": [
      "[info] uwqXAoZzVyw: Downloading 1 format(s): 18\n",
      "[info] Writing video subtitles to: data\\en_CNN\\Hamas attack survivor details escape from terrorists.en.vtt\n",
      "[download] Destination: data\\en_CNN\\Hamas attack survivor details escape from terrorists.en.vtt\n",
      "[download] 100% of    6.91KiB in 00:00:00 at 75.32KiB/s\n",
      "[youtube] Extracting URL: https://youtube.com/watch?v=GXU2TMpuluA\n",
      "[youtube] GXU2TMpuluA: Downloading webpage\n",
      "[youtube] GXU2TMpuluA: Downloading ios player API JSON\n",
      "[youtube] GXU2TMpuluA: Downloading web creator player API JSON\n",
      "[youtube] GXU2TMpuluA: Downloading m3u8 information\n",
      "[info] GXU2TMpuluA: Downloading subtitles: en\n"
     ]
    },
    {
     "name": "stderr",
     "output_type": "stream",
     "text": [
      "WARNING: ffmpeg not found. The downloaded format may not be the best available. Installing ffmpeg is strongly recommended: https://github.com/yt-dlp/yt-dlp#dependencies\n"
     ]
    },
    {
     "name": "stdout",
     "output_type": "stream",
     "text": [
      "[youtube] Extracting URL: https://youtube.com/watch?v=GXU2TMpuluA\n",
      "[youtube] GXU2TMpuluA: Downloading webpage\n",
      "[youtube] GXU2TMpuluA: Downloading ios player API JSON\n",
      "[youtube] GXU2TMpuluA: Downloading web creator player API JSON\n",
      "[youtube] GXU2TMpuluA: Downloading m3u8 information\n",
      "[info] GXU2TMpuluA: Downloading subtitles: en\n"
     ]
    },
    {
     "name": "stderr",
     "output_type": "stream",
     "text": [
      "WARNING: ffmpeg not found. The downloaded format may not be the best available. Installing ffmpeg is strongly recommended: https://github.com/yt-dlp/yt-dlp#dependencies\n"
     ]
    },
    {
     "name": "stdout",
     "output_type": "stream",
     "text": [
      "[info] GXU2TMpuluA: Downloading 1 format(s): 18\n",
      "[info] Writing video subtitles to: data\\en_CNN\\Hear what families of Hamas' remaining hostages said about Palestinian civilian deaths.en.vtt\n",
      "[download] Destination: data\\en_CNN\\Hear what families of Hamas' remaining hostages said about Palestinian civilian deaths.en.vtt\n",
      "[download] 100% of   25.42KiB in 00:00:00 at 120.02KiB/s\n",
      "[youtube] Extracting URL: https://youtube.com/watch?v=mAfHpIIPCCM\n",
      "[youtube] mAfHpIIPCCM: Downloading webpage\n",
      "[youtube] mAfHpIIPCCM: Downloading ios player API JSON\n",
      "[youtube] mAfHpIIPCCM: Downloading web creator player API JSON\n",
      "[youtube] mAfHpIIPCCM: Downloading m3u8 information\n",
      "[info] mAfHpIIPCCM: Downloading subtitles: en\n"
     ]
    },
    {
     "name": "stderr",
     "output_type": "stream",
     "text": [
      "WARNING: ffmpeg not found. The downloaded format may not be the best available. Installing ffmpeg is strongly recommended: https://github.com/yt-dlp/yt-dlp#dependencies\n"
     ]
    },
    {
     "name": "stdout",
     "output_type": "stream",
     "text": [
      "[youtube] Extracting URL: https://youtube.com/watch?v=mAfHpIIPCCM\n",
      "[youtube] mAfHpIIPCCM: Downloading webpage\n",
      "[youtube] mAfHpIIPCCM: Downloading ios player API JSON\n",
      "[youtube] mAfHpIIPCCM: Downloading web creator player API JSON\n",
      "[youtube] mAfHpIIPCCM: Downloading m3u8 information\n",
      "[info] mAfHpIIPCCM: Downloading subtitles: en\n"
     ]
    },
    {
     "name": "stderr",
     "output_type": "stream",
     "text": [
      "WARNING: ffmpeg not found. The downloaded format may not be the best available. Installing ffmpeg is strongly recommended: https://github.com/yt-dlp/yt-dlp#dependencies\n"
     ]
    },
    {
     "name": "stdout",
     "output_type": "stream",
     "text": [
      "[info] mAfHpIIPCCM: Downloading 1 format(s): 18\n",
      "[info] Writing video subtitles to: data\\en_CNN\\Retired colonel on what we can expect Israelis to do if truce ends.en.vtt\n",
      "[download] Destination: data\\en_CNN\\Retired colonel on what we can expect Israelis to do if truce ends.en.vtt\n",
      "[download] 100% of   21.27KiB in 00:00:00 at 94.41KiB/s\n",
      "[youtube] Extracting URL: https://youtube.com/watch?v=RT9w72pUJS0\n",
      "[youtube] RT9w72pUJS0: Downloading webpage\n",
      "[youtube] RT9w72pUJS0: Downloading ios player API JSON\n",
      "[youtube] RT9w72pUJS0: Downloading web creator player API JSON\n",
      "[youtube] RT9w72pUJS0: Downloading m3u8 information\n",
      "[info] RT9w72pUJS0: Downloading subtitles: en\n"
     ]
    },
    {
     "name": "stderr",
     "output_type": "stream",
     "text": [
      "WARNING: ffmpeg not found. The downloaded format may not be the best available. Installing ffmpeg is strongly recommended: https://github.com/yt-dlp/yt-dlp#dependencies\n"
     ]
    },
    {
     "name": "stdout",
     "output_type": "stream",
     "text": [
      "[youtube] Extracting URL: https://youtube.com/watch?v=RT9w72pUJS0\n",
      "[youtube] RT9w72pUJS0: Downloading webpage\n",
      "[youtube] RT9w72pUJS0: Downloading ios player API JSON\n",
      "[youtube] RT9w72pUJS0: Downloading web creator player API JSON\n",
      "[youtube] RT9w72pUJS0: Downloading m3u8 information\n",
      "[info] RT9w72pUJS0: Downloading subtitles: en\n"
     ]
    },
    {
     "name": "stderr",
     "output_type": "stream",
     "text": [
      "WARNING: ffmpeg not found. The downloaded format may not be the best available. Installing ffmpeg is strongly recommended: https://github.com/yt-dlp/yt-dlp#dependencies\n"
     ]
    },
    {
     "name": "stdout",
     "output_type": "stream",
     "text": [
      "[info] RT9w72pUJS0: Downloading 1 format(s): 18\n",
      "[info] Writing video subtitles to: data\\en_CNN\\Their loved ones are still held hostage by Hamas. Hear their message to Biden.en.vtt\n",
      "[download] Destination: data\\en_CNN\\Their loved ones are still held hostage by Hamas. Hear their message to Biden.en.vtt\n",
      "[download] 100% of   13.89KiB in 00:00:00 at 83.96KiB/s\n",
      "[youtube] Extracting URL: https://youtube.com/watch?v=SkEwZOBeU3w\n",
      "[youtube] SkEwZOBeU3w: Downloading webpage\n",
      "[youtube] SkEwZOBeU3w: Downloading ios player API JSON\n",
      "[youtube] SkEwZOBeU3w: Downloading web creator player API JSON\n",
      "[youtube] SkEwZOBeU3w: Downloading m3u8 information\n",
      "[info] SkEwZOBeU3w: Downloading subtitles: en\n"
     ]
    },
    {
     "name": "stderr",
     "output_type": "stream",
     "text": [
      "WARNING: ffmpeg not found. The downloaded format may not be the best available. Installing ffmpeg is strongly recommended: https://github.com/yt-dlp/yt-dlp#dependencies\n"
     ]
    },
    {
     "name": "stdout",
     "output_type": "stream",
     "text": [
      "[youtube] Extracting URL: https://youtube.com/watch?v=SkEwZOBeU3w\n",
      "[youtube] SkEwZOBeU3w: Downloading webpage\n",
      "[youtube] SkEwZOBeU3w: Downloading ios player API JSON\n",
      "[youtube] SkEwZOBeU3w: Downloading web creator player API JSON\n",
      "[youtube] SkEwZOBeU3w: Downloading m3u8 information\n",
      "[info] SkEwZOBeU3w: Downloading subtitles: en\n"
     ]
    },
    {
     "name": "stderr",
     "output_type": "stream",
     "text": [
      "WARNING: ffmpeg not found. The downloaded format may not be the best available. Installing ffmpeg is strongly recommended: https://github.com/yt-dlp/yt-dlp#dependencies\n"
     ]
    },
    {
     "name": "stdout",
     "output_type": "stream",
     "text": [
      "[info] SkEwZOBeU3w: Downloading 1 format(s): 18\n",
      "[info] Writing video subtitles to: data\\en_CNN\\Israeli troops kill 8-year-old boy during raid of West Bank refugee camp.en.vtt\n",
      "[download] Destination: data\\en_CNN\\Israeli troops kill 8-year-old boy during raid of West Bank refugee camp.en.vtt\n",
      "[download] 100% of   12.17KiB in 00:00:00 at 58.71KiB/s\n",
      "[youtube] Extracting URL: https://youtube.com/watch?v=XvkMtj6R6aY\n",
      "[youtube] XvkMtj6R6aY: Downloading webpage\n",
      "[youtube] XvkMtj6R6aY: Downloading ios player API JSON\n",
      "[youtube] XvkMtj6R6aY: Downloading web creator player API JSON\n",
      "[youtube] XvkMtj6R6aY: Downloading m3u8 information\n"
     ]
    },
    {
     "name": "stderr",
     "output_type": "stream",
     "text": [
      "WARNING: ffmpeg not found. The downloaded format may not be the best available. Installing ffmpeg is strongly recommended: https://github.com/yt-dlp/yt-dlp#dependencies\n"
     ]
    },
    {
     "name": "stdout",
     "output_type": "stream",
     "text": [
      "subtitle file not found\n",
      "[youtube] Extracting URL: https://youtube.com/watch?v=vu4Txxw9bOo\n",
      "[youtube] vu4Txxw9bOo: Downloading webpage\n",
      "[youtube] vu4Txxw9bOo: Downloading ios player API JSON\n",
      "[youtube] vu4Txxw9bOo: Downloading web creator player API JSON\n",
      "[youtube] vu4Txxw9bOo: Downloading m3u8 information\n",
      "[info] vu4Txxw9bOo: Downloading subtitles: en\n"
     ]
    },
    {
     "name": "stderr",
     "output_type": "stream",
     "text": [
      "WARNING: ffmpeg not found. The downloaded format may not be the best available. Installing ffmpeg is strongly recommended: https://github.com/yt-dlp/yt-dlp#dependencies\n"
     ]
    },
    {
     "name": "stdout",
     "output_type": "stream",
     "text": [
      "[youtube] Extracting URL: https://youtube.com/watch?v=vu4Txxw9bOo\n",
      "[youtube] vu4Txxw9bOo: Downloading webpage\n",
      "[youtube] vu4Txxw9bOo: Downloading ios player API JSON\n",
      "[youtube] vu4Txxw9bOo: Downloading web creator player API JSON\n",
      "[youtube] vu4Txxw9bOo: Downloading m3u8 information\n",
      "[info] vu4Txxw9bOo: Downloading subtitles: en\n"
     ]
    },
    {
     "name": "stderr",
     "output_type": "stream",
     "text": [
      "WARNING: ffmpeg not found. The downloaded format may not be the best available. Installing ffmpeg is strongly recommended: https://github.com/yt-dlp/yt-dlp#dependencies\n"
     ]
    },
    {
     "name": "stdout",
     "output_type": "stream",
     "text": [
      "[info] vu4Txxw9bOo: Downloading 1 format(s): 18\n",
      "[info] Writing video subtitles to: data\\en_CNN\\NYT reporter says Israel knew Hamas's attack plan over a year ago.en.vtt\n",
      "[download] Destination: data\\en_CNN\\NYT reporter says Israel knew Hamas's attack plan over a year ago.en.vtt\n",
      "[download] 100% of   19.82KiB in 00:00:00 at 88.36KiB/s\n",
      "[youtube] Extracting URL: https://youtube.com/watch?v=xNMsk3a5USo\n",
      "[youtube] xNMsk3a5USo: Downloading webpage\n",
      "[youtube] xNMsk3a5USo: Downloading ios player API JSON\n",
      "[youtube] xNMsk3a5USo: Downloading web creator player API JSON\n",
      "[youtube] xNMsk3a5USo: Downloading m3u8 information\n",
      "[info] xNMsk3a5USo: Downloading subtitles: en\n"
     ]
    },
    {
     "name": "stderr",
     "output_type": "stream",
     "text": [
      "WARNING: ffmpeg not found. The downloaded format may not be the best available. Installing ffmpeg is strongly recommended: https://github.com/yt-dlp/yt-dlp#dependencies\n"
     ]
    },
    {
     "name": "stdout",
     "output_type": "stream",
     "text": [
      "[youtube] Extracting URL: https://youtube.com/watch?v=xNMsk3a5USo\n",
      "[youtube] xNMsk3a5USo: Downloading webpage\n",
      "[youtube] xNMsk3a5USo: Downloading ios player API JSON\n",
      "[youtube] xNMsk3a5USo: Downloading web creator player API JSON\n",
      "[youtube] xNMsk3a5USo: Downloading m3u8 information\n",
      "[info] xNMsk3a5USo: Downloading subtitles: en\n"
     ]
    },
    {
     "name": "stderr",
     "output_type": "stream",
     "text": [
      "WARNING: ffmpeg not found. The downloaded format may not be the best available. Installing ffmpeg is strongly recommended: https://github.com/yt-dlp/yt-dlp#dependencies\n"
     ]
    },
    {
     "name": "stdout",
     "output_type": "stream",
     "text": [
      "[info] xNMsk3a5USo: Downloading 1 format(s): 18\n",
      "[info] Writing video subtitles to: data\\en_CNN\\Israel resumes combat operations against Hamas.en.vtt\n",
      "[download] Destination: data\\en_CNN\\Israel resumes combat operations against Hamas.en.vtt\n",
      "[download] 100% of   19.10KiB in 00:00:00 at 158.95KiB/s\n",
      "[youtube] Extracting URL: https://youtube.com/watch?v=4l556W2LMzE\n",
      "[youtube] 4l556W2LMzE: Downloading webpage\n",
      "[youtube] 4l556W2LMzE: Downloading ios player API JSON\n",
      "[youtube] 4l556W2LMzE: Downloading web creator player API JSON\n",
      "[youtube] 4l556W2LMzE: Downloading m3u8 information\n",
      "[info] 4l556W2LMzE: Downloading subtitles: en\n"
     ]
    },
    {
     "name": "stderr",
     "output_type": "stream",
     "text": [
      "WARNING: ffmpeg not found. The downloaded format may not be the best available. Installing ffmpeg is strongly recommended: https://github.com/yt-dlp/yt-dlp#dependencies\n"
     ]
    },
    {
     "name": "stdout",
     "output_type": "stream",
     "text": [
      "[youtube] Extracting URL: https://youtube.com/watch?v=4l556W2LMzE\n",
      "[youtube] 4l556W2LMzE: Downloading webpage\n",
      "[youtube] 4l556W2LMzE: Downloading ios player API JSON\n",
      "[youtube] 4l556W2LMzE: Downloading web creator player API JSON\n",
      "[youtube] 4l556W2LMzE: Downloading m3u8 information\n",
      "[info] 4l556W2LMzE: Downloading subtitles: en\n"
     ]
    },
    {
     "name": "stderr",
     "output_type": "stream",
     "text": [
      "WARNING: ffmpeg not found. The downloaded format may not be the best available. Installing ffmpeg is strongly recommended: https://github.com/yt-dlp/yt-dlp#dependencies\n"
     ]
    },
    {
     "name": "stdout",
     "output_type": "stream",
     "text": [
      "[info] 4l556W2LMzE: Downloading 1 format(s): 18\n",
      "[info] Writing video subtitles to: data\\en_CNN\\Burnett confronts top Israeli official about October 7 intelligence failure.en.vtt\n",
      "[download] Destination: data\\en_CNN\\Burnett confronts top Israeli official about October 7 intelligence failure.en.vtt\n",
      "[download] 100% of    8.55KiB in 00:00:00 at 64.79KiB/s\n",
      "[youtube] Extracting URL: https://youtube.com/watch?v=8NklBbp7BMI\n",
      "[youtube] 8NklBbp7BMI: Downloading webpage\n",
      "[youtube] 8NklBbp7BMI: Downloading ios player API JSON\n",
      "[youtube] 8NklBbp7BMI: Downloading web creator player API JSON\n",
      "[youtube] 8NklBbp7BMI: Downloading m3u8 information\n",
      "[info] 8NklBbp7BMI: Downloading subtitles: en\n"
     ]
    },
    {
     "name": "stderr",
     "output_type": "stream",
     "text": [
      "WARNING: ffmpeg not found. The downloaded format may not be the best available. Installing ffmpeg is strongly recommended: https://github.com/yt-dlp/yt-dlp#dependencies\n"
     ]
    },
    {
     "name": "stdout",
     "output_type": "stream",
     "text": [
      "[youtube] Extracting URL: https://youtube.com/watch?v=8NklBbp7BMI\n",
      "[youtube] 8NklBbp7BMI: Downloading webpage\n",
      "[youtube] 8NklBbp7BMI: Downloading ios player API JSON\n",
      "[youtube] 8NklBbp7BMI: Downloading web creator player API JSON\n",
      "[youtube] 8NklBbp7BMI: Downloading m3u8 information\n",
      "[info] 8NklBbp7BMI: Downloading subtitles: en\n"
     ]
    },
    {
     "name": "stderr",
     "output_type": "stream",
     "text": [
      "WARNING: ffmpeg not found. The downloaded format may not be the best available. Installing ffmpeg is strongly recommended: https://github.com/yt-dlp/yt-dlp#dependencies\n"
     ]
    },
    {
     "name": "stdout",
     "output_type": "stream",
     "text": [
      "[info] 8NklBbp7BMI: Downloading 1 format(s): 18\n",
      "[info] Writing video subtitles to: data\\en_CNN\\Should Congress set conditions on Israel aid Hear what this representative thinks.en.vtt\n",
      "[download] Destination: data\\en_CNN\\Should Congress set conditions on Israel aid Hear what this representative thinks.en.vtt\n",
      "[download] 100% of   16.15KiB in 00:00:00 at 119.15KiB/s\n",
      "[youtube] Extracting URL: https://youtube.com/watch?v=1-CC53G5asI\n",
      "[youtube] 1-CC53G5asI: Downloading webpage\n",
      "[youtube] 1-CC53G5asI: Downloading ios player API JSON\n",
      "[youtube] 1-CC53G5asI: Downloading web creator player API JSON\n",
      "[youtube] 1-CC53G5asI: Downloading m3u8 information\n",
      "[info] 1-CC53G5asI: Downloading subtitles: en\n"
     ]
    },
    {
     "name": "stderr",
     "output_type": "stream",
     "text": [
      "WARNING: ffmpeg not found. The downloaded format may not be the best available. Installing ffmpeg is strongly recommended: https://github.com/yt-dlp/yt-dlp#dependencies\n"
     ]
    },
    {
     "name": "stdout",
     "output_type": "stream",
     "text": [
      "[youtube] Extracting URL: https://youtube.com/watch?v=1-CC53G5asI\n",
      "[youtube] 1-CC53G5asI: Downloading webpage\n",
      "[youtube] 1-CC53G5asI: Downloading ios player API JSON\n",
      "[youtube] 1-CC53G5asI: Downloading web creator player API JSON\n",
      "[youtube] 1-CC53G5asI: Downloading m3u8 information\n",
      "[info] 1-CC53G5asI: Downloading subtitles: en\n"
     ]
    },
    {
     "name": "stderr",
     "output_type": "stream",
     "text": [
      "WARNING: ffmpeg not found. The downloaded format may not be the best available. Installing ffmpeg is strongly recommended: https://github.com/yt-dlp/yt-dlp#dependencies\n"
     ]
    },
    {
     "name": "stdout",
     "output_type": "stream",
     "text": [
      "[info] 1-CC53G5asI: Downloading 1 format(s): 18\n",
      "[info] Writing video subtitles to: data\\en_CNN\\Hear Jayapal's response after Bash says some have been silent about Hamas' use of sexual violence.en.vtt\n",
      "[download] Destination: data\\en_CNN\\Hear Jayapal's response after Bash says some have been silent about Hamas' use of sexual violence.en.vtt\n",
      "[download] 100% of   20.81KiB in 00:00:00 at 81.84KiB/s\n",
      "[youtube] Extracting URL: https://youtube.com/watch?v=sxhFnBEe6Ts\n",
      "[youtube] sxhFnBEe6Ts: Downloading webpage\n",
      "[youtube] sxhFnBEe6Ts: Downloading ios player API JSON\n",
      "[youtube] sxhFnBEe6Ts: This video is age-restricted; some formats may be missing without authentication. Use --cookies-from-browser or --cookies for the authentication. See  https://github.com/yt-dlp/yt-dlp/wiki/FAQ#how-do-i-pass-cookies-to-yt-dlp  for how to manually pass cookies\n",
      "[youtube] sxhFnBEe6Ts: Downloading tv embedded player API JSON\n",
      "[youtube] sxhFnBEe6Ts: Downloading web creator player API JSON\n",
      "[info] sxhFnBEe6Ts: Downloading subtitles: en\n"
     ]
    },
    {
     "name": "stderr",
     "output_type": "stream",
     "text": [
      "WARNING: ffmpeg not found. The downloaded format may not be the best available. Installing ffmpeg is strongly recommended: https://github.com/yt-dlp/yt-dlp#dependencies\n"
     ]
    },
    {
     "name": "stdout",
     "output_type": "stream",
     "text": [
      "[youtube] Extracting URL: https://youtube.com/watch?v=sxhFnBEe6Ts\n",
      "[youtube] sxhFnBEe6Ts: Downloading webpage\n",
      "[youtube] sxhFnBEe6Ts: Downloading ios player API JSON\n",
      "[youtube] sxhFnBEe6Ts: This video is age-restricted; some formats may be missing without authentication. Use --cookies-from-browser or --cookies for the authentication. See  https://github.com/yt-dlp/yt-dlp/wiki/FAQ#how-do-i-pass-cookies-to-yt-dlp  for how to manually pass cookies\n",
      "[youtube] sxhFnBEe6Ts: Downloading tv embedded player API JSON\n",
      "[youtube] sxhFnBEe6Ts: Downloading web creator player API JSON\n",
      "[info] sxhFnBEe6Ts: Downloading subtitles: ab-en\n"
     ]
    },
    {
     "name": "stderr",
     "output_type": "stream",
     "text": [
      "WARNING: ffmpeg not found. The downloaded format may not be the best available. Installing ffmpeg is strongly recommended: https://github.com/yt-dlp/yt-dlp#dependencies\n"
     ]
    },
    {
     "name": "stdout",
     "output_type": "stream",
     "text": [
      "[info] sxhFnBEe6Ts: Downloading 1 format(s): 18\n",
      "[info] Writing video subtitles to: data\\en_CNN\\'They bombed an entire street' Child in Gaza who pulled brother from rubble.ab-en.vtt\n",
      "[download] Destination: data\\en_CNN\\'They bombed an entire street' Child in Gaza who pulled brother from rubble.ab-en.vtt\n",
      "[download] 100% of   11.91KiB in 00:00:00 at 29.16KiB/s\n",
      "[youtube] Extracting URL: https://youtube.com/watch?v=LGYbyvZdLVw\n",
      "[youtube] LGYbyvZdLVw: Downloading webpage\n",
      "[youtube] LGYbyvZdLVw: Downloading ios player API JSON\n",
      "[youtube] LGYbyvZdLVw: Downloading web creator player API JSON\n",
      "[youtube] LGYbyvZdLVw: Downloading m3u8 information\n",
      "[info] LGYbyvZdLVw: Downloading subtitles: en\n"
     ]
    },
    {
     "name": "stderr",
     "output_type": "stream",
     "text": [
      "WARNING: ffmpeg not found. The downloaded format may not be the best available. Installing ffmpeg is strongly recommended: https://github.com/yt-dlp/yt-dlp#dependencies\n"
     ]
    },
    {
     "name": "stdout",
     "output_type": "stream",
     "text": [
      "[youtube] Extracting URL: https://youtube.com/watch?v=LGYbyvZdLVw\n",
      "[youtube] LGYbyvZdLVw: Downloading webpage\n",
      "[youtube] LGYbyvZdLVw: Downloading ios player API JSON\n",
      "[youtube] LGYbyvZdLVw: Downloading web creator player API JSON\n",
      "[youtube] LGYbyvZdLVw: Downloading m3u8 information\n",
      "[info] LGYbyvZdLVw: Downloading subtitles: en\n"
     ]
    },
    {
     "name": "stderr",
     "output_type": "stream",
     "text": [
      "WARNING: ffmpeg not found. The downloaded format may not be the best available. Installing ffmpeg is strongly recommended: https://github.com/yt-dlp/yt-dlp#dependencies\n"
     ]
    },
    {
     "name": "stdout",
     "output_type": "stream",
     "text": [
      "[info] LGYbyvZdLVw: Downloading 1 format(s): 18\n",
      "[info] Writing video subtitles to: data\\en_CNN\\Israel expands ground operations to all of Gaza as fears of wider conflict grow.en.vtt\n",
      "[download] Destination: data\\en_CNN\\Israel expands ground operations to all of Gaza as fears of wider conflict grow.en.vtt\n",
      "[download] 100% of    7.88KiB in 00:00:00 at 54.54KiB/s\n",
      "[youtube] Extracting URL: https://youtube.com/watch?v=o5106v4b05I\n",
      "[youtube] o5106v4b05I: Downloading webpage\n",
      "[youtube] o5106v4b05I: Downloading ios player API JSON\n",
      "[youtube] o5106v4b05I: Downloading web creator player API JSON\n",
      "[youtube] o5106v4b05I: Downloading m3u8 information\n",
      "[info] o5106v4b05I: Downloading subtitles: en\n"
     ]
    },
    {
     "name": "stderr",
     "output_type": "stream",
     "text": [
      "WARNING: ffmpeg not found. The downloaded format may not be the best available. Installing ffmpeg is strongly recommended: https://github.com/yt-dlp/yt-dlp#dependencies\n"
     ]
    },
    {
     "name": "stdout",
     "output_type": "stream",
     "text": [
      "[youtube] Extracting URL: https://youtube.com/watch?v=o5106v4b05I\n",
      "[youtube] o5106v4b05I: Downloading webpage\n",
      "[youtube] o5106v4b05I: Downloading ios player API JSON\n",
      "[youtube] o5106v4b05I: Downloading web creator player API JSON\n",
      "[youtube] o5106v4b05I: Downloading m3u8 information\n",
      "[info] o5106v4b05I: Downloading subtitles: en\n"
     ]
    },
    {
     "name": "stderr",
     "output_type": "stream",
     "text": [
      "WARNING: ffmpeg not found. The downloaded format may not be the best available. Installing ffmpeg is strongly recommended: https://github.com/yt-dlp/yt-dlp#dependencies\n"
     ]
    },
    {
     "name": "stdout",
     "output_type": "stream",
     "text": [
      "[info] o5106v4b05I: Downloading 1 format(s): 18\n",
      "[info] Writing video subtitles to: data\\en_CNN\\He quit the State Department over US support for Israel. Here's why he did it.en.vtt\n",
      "[download] Destination: data\\en_CNN\\He quit the State Department over US support for Israel. Here's why he did it.en.vtt\n",
      "[download] 100% of   22.35KiB in 00:00:00 at 156.11KiB/s\n",
      "[youtube] Extracting URL: https://youtube.com/watch?v=sNULLdleZm0\n",
      "[youtube] sNULLdleZm0: Downloading webpage\n",
      "[youtube] sNULLdleZm0: Downloading ios player API JSON\n",
      "[youtube] sNULLdleZm0: Downloading web creator player API JSON\n"
     ]
    },
    {
     "name": "stderr",
     "output_type": "stream",
     "text": [
      "ERROR: [youtube] sNULLdleZm0: Sign in to confirm you’re not a bot. This helps protect our community. Learn more\n"
     ]
    },
    {
     "name": "stdout",
     "output_type": "stream",
     "text": [
      "Error: ERROR: [youtube] sNULLdleZm0: Sign in to confirm you’re not a bot. This helps protect our community. Learn more. Retrying in 180 seconds... (Attempt 1/3)\n",
      "[youtube] Extracting URL: https://youtube.com/watch?v=sNULLdleZm0\n",
      "[youtube] sNULLdleZm0: Downloading webpage\n",
      "[youtube] sNULLdleZm0: Downloading ios player API JSON\n",
      "[youtube] sNULLdleZm0: Downloading web creator player API JSON\n",
      "[youtube] sNULLdleZm0: Downloading m3u8 information\n",
      "[info] sNULLdleZm0: Downloading subtitles: en\n",
      "[youtube] Extracting URL: https://youtube.com/watch?v=sNULLdleZm0\n",
      "[youtube] sNULLdleZm0: Downloading webpage\n",
      "[youtube] sNULLdleZm0: Downloading ios player API JSON\n",
      "[youtube] sNULLdleZm0: Downloading web creator player API JSON\n"
     ]
    },
    {
     "name": "stderr",
     "output_type": "stream",
     "text": [
      "ERROR: [youtube] sNULLdleZm0: Sign in to confirm you’re not a bot. This helps protect our community. Learn more\n"
     ]
    },
    {
     "name": "stdout",
     "output_type": "stream",
     "text": [
      "Error downloading subtitles for ‘Huge concern’: Military analyst on new fears of wider war in Middle East: ERROR: [youtube] sNULLdleZm0: Sign in to confirm you’re not a bot. This helps protect our community. Learn more\n",
      "subtitle file not found\n",
      "[youtube] Extracting URL: https://youtube.com/watch?v=EFrJSRbQM8s\n",
      "[youtube] EFrJSRbQM8s: Downloading webpage\n",
      "[youtube] EFrJSRbQM8s: Downloading ios player API JSON\n",
      "[youtube] EFrJSRbQM8s: Downloading web creator player API JSON\n"
     ]
    },
    {
     "name": "stderr",
     "output_type": "stream",
     "text": [
      "ERROR: [youtube] EFrJSRbQM8s: Sign in to confirm you’re not a bot. This helps protect our community. Learn more\n"
     ]
    },
    {
     "name": "stdout",
     "output_type": "stream",
     "text": [
      "Error: ERROR: [youtube] EFrJSRbQM8s: Sign in to confirm you’re not a bot. This helps protect our community. Learn more. Retrying in 180 seconds... (Attempt 1/3)\n",
      "[youtube] Extracting URL: https://youtube.com/watch?v=EFrJSRbQM8s\n",
      "[youtube] EFrJSRbQM8s: Downloading webpage\n",
      "[youtube] EFrJSRbQM8s: Downloading ios player API JSON\n",
      "[youtube] EFrJSRbQM8s: Downloading web creator player API JSON\n",
      "[youtube] EFrJSRbQM8s: Downloading m3u8 information\n",
      "[info] EFrJSRbQM8s: Downloading subtitles: en\n"
     ]
    },
    {
     "name": "stderr",
     "output_type": "stream",
     "text": [
      "WARNING: ffmpeg not found. The downloaded format may not be the best available. Installing ffmpeg is strongly recommended: https://github.com/yt-dlp/yt-dlp#dependencies\n"
     ]
    },
    {
     "name": "stdout",
     "output_type": "stream",
     "text": [
      "[youtube] Extracting URL: https://youtube.com/watch?v=EFrJSRbQM8s\n",
      "[youtube] EFrJSRbQM8s: Downloading webpage\n",
      "[youtube] EFrJSRbQM8s: Downloading ios player API JSON\n",
      "[youtube] EFrJSRbQM8s: Downloading web creator player API JSON\n",
      "[youtube] EFrJSRbQM8s: Downloading m3u8 information\n",
      "[info] EFrJSRbQM8s: Downloading subtitles: en\n"
     ]
    },
    {
     "name": "stderr",
     "output_type": "stream",
     "text": [
      "WARNING: ffmpeg not found. The downloaded format may not be the best available. Installing ffmpeg is strongly recommended: https://github.com/yt-dlp/yt-dlp#dependencies\n"
     ]
    },
    {
     "name": "stdout",
     "output_type": "stream",
     "text": [
      "[info] EFrJSRbQM8s: Downloading 1 format(s): 18\n",
      "[info] Writing video subtitles to: data\\en_CNN\\CNN presses IDF spokesperson on the ratio of civilian casualties. Hear his response.en.vtt\n",
      "[download] Destination: data\\en_CNN\\CNN presses IDF spokesperson on the ratio of civilian casualties. Hear his response.en.vtt\n",
      "[download] 100% of   11.05KiB in 00:00:00 at 55.42KiB/s\n",
      "[youtube] Extracting URL: https://youtube.com/watch?v=JCAza8k6CyI\n",
      "[youtube] JCAza8k6CyI: Downloading webpage\n",
      "[youtube] JCAza8k6CyI: Downloading ios player API JSON\n",
      "[youtube] JCAza8k6CyI: Downloading web creator player API JSON\n",
      "[youtube] JCAza8k6CyI: Downloading m3u8 information\n",
      "[info] JCAza8k6CyI: Downloading subtitles: en-uYU-mmqFLq8\n"
     ]
    },
    {
     "name": "stderr",
     "output_type": "stream",
     "text": [
      "WARNING: ffmpeg not found. The downloaded format may not be the best available. Installing ffmpeg is strongly recommended: https://github.com/yt-dlp/yt-dlp#dependencies\n"
     ]
    },
    {
     "name": "stdout",
     "output_type": "stream",
     "text": [
      "[youtube] Extracting URL: https://youtube.com/watch?v=JCAza8k6CyI\n",
      "[youtube] JCAza8k6CyI: Downloading webpage\n",
      "[youtube] JCAza8k6CyI: Downloading ios player API JSON\n",
      "[youtube] JCAza8k6CyI: Downloading web creator player API JSON\n",
      "[youtube] JCAza8k6CyI: Downloading m3u8 information\n",
      "[info] JCAza8k6CyI: Downloading subtitles: en\n"
     ]
    },
    {
     "name": "stderr",
     "output_type": "stream",
     "text": [
      "WARNING: ffmpeg not found. The downloaded format may not be the best available. Installing ffmpeg is strongly recommended: https://github.com/yt-dlp/yt-dlp#dependencies\n"
     ]
    },
    {
     "name": "stdout",
     "output_type": "stream",
     "text": [
      "[info] JCAza8k6CyI: Downloading 1 format(s): 18\n",
      "[info] Writing video subtitles to: data\\en_CNN\\Blinken describes how the Israel-Hamas war affects him personally.en.vtt\n",
      "[hlsnative] Downloading m3u8 manifest\n",
      "[hlsnative] Total fragments: 2\n",
      "[download] Destination: data\\en_CNN\\Blinken describes how the Israel-Hamas war affects him personally.en.vtt\n",
      "[download] 100% of    9.43KiB in 00:00:00 at 23.90KiB/s                \n",
      "[youtube] Extracting URL: https://youtube.com/watch?v=1pu4xNukFz8\n",
      "[youtube] 1pu4xNukFz8: Downloading webpage\n",
      "[youtube] 1pu4xNukFz8: Downloading ios player API JSON\n",
      "[youtube] 1pu4xNukFz8: Downloading web creator player API JSON\n",
      "[youtube] 1pu4xNukFz8: Downloading m3u8 information\n",
      "[info] 1pu4xNukFz8: Downloading subtitles: en\n"
     ]
    },
    {
     "name": "stderr",
     "output_type": "stream",
     "text": [
      "WARNING: ffmpeg not found. The downloaded format may not be the best available. Installing ffmpeg is strongly recommended: https://github.com/yt-dlp/yt-dlp#dependencies\n"
     ]
    },
    {
     "name": "stdout",
     "output_type": "stream",
     "text": [
      "[youtube] Extracting URL: https://youtube.com/watch?v=1pu4xNukFz8\n",
      "[youtube] 1pu4xNukFz8: Downloading webpage\n",
      "[youtube] 1pu4xNukFz8: Downloading ios player API JSON\n",
      "[youtube] 1pu4xNukFz8: Downloading web creator player API JSON\n",
      "[youtube] 1pu4xNukFz8: Downloading m3u8 information\n",
      "[info] 1pu4xNukFz8: Downloading subtitles: en\n"
     ]
    },
    {
     "name": "stderr",
     "output_type": "stream",
     "text": [
      "WARNING: ffmpeg not found. The downloaded format may not be the best available. Installing ffmpeg is strongly recommended: https://github.com/yt-dlp/yt-dlp#dependencies\n"
     ]
    },
    {
     "name": "stdout",
     "output_type": "stream",
     "text": [
      "[info] 1pu4xNukFz8: Downloading 1 format(s): 18\n",
      "[info] Writing video subtitles to: data\\en_CNN\\Mothers reunite with newborn babies evacuated from a Gaza hospital.en.vtt\n",
      "[download] Destination: data\\en_CNN\\Mothers reunite with newborn babies evacuated from a Gaza hospital.en.vtt\n",
      "[download] 100% of    6.55KiB in 00:00:00 at 39.85KiB/s\n",
      "[youtube] Extracting URL: https://youtube.com/watch?v=ggKyOAypMdc\n",
      "[youtube] ggKyOAypMdc: Downloading webpage\n",
      "[youtube] ggKyOAypMdc: Downloading ios player API JSON\n",
      "[youtube] ggKyOAypMdc: Downloading web creator player API JSON\n",
      "[youtube] ggKyOAypMdc: Downloading m3u8 information\n",
      "[info] ggKyOAypMdc: Downloading subtitles: en\n"
     ]
    },
    {
     "name": "stderr",
     "output_type": "stream",
     "text": [
      "WARNING: ffmpeg not found. The downloaded format may not be the best available. Installing ffmpeg is strongly recommended: https://github.com/yt-dlp/yt-dlp#dependencies\n"
     ]
    },
    {
     "name": "stdout",
     "output_type": "stream",
     "text": [
      "[youtube] Extracting URL: https://youtube.com/watch?v=ggKyOAypMdc\n",
      "[youtube] ggKyOAypMdc: Downloading webpage\n",
      "[youtube] ggKyOAypMdc: Downloading ios player API JSON\n",
      "[youtube] ggKyOAypMdc: Downloading web creator player API JSON\n",
      "[youtube] ggKyOAypMdc: Downloading m3u8 information\n",
      "[info] ggKyOAypMdc: Downloading subtitles: en\n"
     ]
    },
    {
     "name": "stderr",
     "output_type": "stream",
     "text": [
      "WARNING: ffmpeg not found. The downloaded format may not be the best available. Installing ffmpeg is strongly recommended: https://github.com/yt-dlp/yt-dlp#dependencies\n"
     ]
    },
    {
     "name": "stdout",
     "output_type": "stream",
     "text": [
      "[info] ggKyOAypMdc: Downloading 1 format(s): 18\n",
      "[info] Writing video subtitles to: data\\en_CNN\\Israeli military searches for Hamas leader after surrounding Gaza home.en.vtt\n",
      "[download] Destination: data\\en_CNN\\Israeli military searches for Hamas leader after surrounding Gaza home.en.vtt\n",
      "[download] 100% of    6.33KiB in 00:00:00 at 31.45KiB/s\n",
      "[youtube] Extracting URL: https://youtube.com/watch?v=CTg_4VZpNTc\n",
      "[youtube] CTg_4VZpNTc: Downloading webpage\n",
      "[youtube] CTg_4VZpNTc: Downloading ios player API JSON\n",
      "[youtube] CTg_4VZpNTc: Downloading web creator player API JSON\n",
      "[youtube] CTg_4VZpNTc: Downloading m3u8 information\n",
      "[info] CTg_4VZpNTc: Downloading subtitles: en\n"
     ]
    },
    {
     "name": "stderr",
     "output_type": "stream",
     "text": [
      "WARNING: ffmpeg not found. The downloaded format may not be the best available. Installing ffmpeg is strongly recommended: https://github.com/yt-dlp/yt-dlp#dependencies\n"
     ]
    },
    {
     "name": "stdout",
     "output_type": "stream",
     "text": [
      "[youtube] Extracting URL: https://youtube.com/watch?v=CTg_4VZpNTc\n",
      "[youtube] CTg_4VZpNTc: Downloading webpage\n",
      "[youtube] CTg_4VZpNTc: Downloading ios player API JSON\n",
      "[youtube] CTg_4VZpNTc: Downloading web creator player API JSON\n",
      "[youtube] CTg_4VZpNTc: Downloading m3u8 information\n",
      "[info] CTg_4VZpNTc: Downloading subtitles: en\n"
     ]
    },
    {
     "name": "stderr",
     "output_type": "stream",
     "text": [
      "WARNING: ffmpeg not found. The downloaded format may not be the best available. Installing ffmpeg is strongly recommended: https://github.com/yt-dlp/yt-dlp#dependencies\n"
     ]
    },
    {
     "name": "stdout",
     "output_type": "stream",
     "text": [
      "[info] CTg_4VZpNTc: Downloading 1 format(s): 18\n",
      "[info] Writing video subtitles to: data\\en_CNN\\Blinken on why international community slow to address sexual violence committed by Hamas.en.vtt\n",
      "[download] Destination: data\\en_CNN\\Blinken on why international community slow to address sexual violence committed by Hamas.en.vtt\n",
      "[download] 100% of   20.86KiB in 00:00:00 at 50.20KiB/s\n",
      "[youtube] Extracting URL: https://youtube.com/watch?v=FHDxzn3kgUA\n",
      "[youtube] FHDxzn3kgUA: Downloading webpage\n",
      "[youtube] FHDxzn3kgUA: Downloading ios player API JSON\n",
      "[youtube] FHDxzn3kgUA: Downloading web creator player API JSON\n",
      "[youtube] FHDxzn3kgUA: Downloading m3u8 information\n",
      "[info] FHDxzn3kgUA: Downloading subtitles: en\n"
     ]
    },
    {
     "name": "stderr",
     "output_type": "stream",
     "text": [
      "WARNING: ffmpeg not found. The downloaded format may not be the best available. Installing ffmpeg is strongly recommended: https://github.com/yt-dlp/yt-dlp#dependencies\n"
     ]
    },
    {
     "name": "stdout",
     "output_type": "stream",
     "text": [
      "[youtube] Extracting URL: https://youtube.com/watch?v=FHDxzn3kgUA\n",
      "[youtube] FHDxzn3kgUA: Downloading webpage\n",
      "[youtube] FHDxzn3kgUA: Downloading ios player API JSON\n",
      "[youtube] FHDxzn3kgUA: Downloading web creator player API JSON\n",
      "[youtube] FHDxzn3kgUA: Downloading m3u8 information\n",
      "[info] FHDxzn3kgUA: Downloading subtitles: en\n"
     ]
    },
    {
     "name": "stderr",
     "output_type": "stream",
     "text": [
      "WARNING: ffmpeg not found. The downloaded format may not be the best available. Installing ffmpeg is strongly recommended: https://github.com/yt-dlp/yt-dlp#dependencies\n"
     ]
    },
    {
     "name": "stdout",
     "output_type": "stream",
     "text": [
      "[info] FHDxzn3kgUA: Downloading 1 format(s): 18\n",
      "[info] Writing video subtitles to: data\\en_CNN\\Viral video of USC professor's encounter with pro-Palestinian students sparks controversy.en.vtt\n",
      "[download] Destination: data\\en_CNN\\Viral video of USC professor's encounter with pro-Palestinian students sparks controversy.en.vtt\n",
      "[download] 100% of    9.80KiB in 00:00:00 at 45.17KiB/s\n",
      "[youtube] Extracting URL: https://youtube.com/watch?v=9Cmdkyta7Iw\n",
      "[youtube] 9Cmdkyta7Iw: Downloading webpage\n",
      "[youtube] 9Cmdkyta7Iw: Downloading ios player API JSON\n",
      "[youtube] 9Cmdkyta7Iw: Downloading web creator player API JSON\n",
      "[youtube] 9Cmdkyta7Iw: Downloading m3u8 information\n"
     ]
    },
    {
     "name": "stderr",
     "output_type": "stream",
     "text": [
      "WARNING: ffmpeg not found. The downloaded format may not be the best available. Installing ffmpeg is strongly recommended: https://github.com/yt-dlp/yt-dlp#dependencies\n"
     ]
    },
    {
     "name": "stdout",
     "output_type": "stream",
     "text": [
      "subtitle file not found\n",
      "[youtube] Extracting URL: https://youtube.com/watch?v=JTQQKvdm7Ds\n",
      "[youtube] JTQQKvdm7Ds: Downloading webpage\n",
      "[youtube] JTQQKvdm7Ds: Downloading ios player API JSON\n",
      "[youtube] JTQQKvdm7Ds: Downloading web creator player API JSON\n",
      "[youtube] JTQQKvdm7Ds: Downloading m3u8 information\n",
      "[info] JTQQKvdm7Ds: Downloading subtitles: en-uYU-mmqFLq8\n"
     ]
    },
    {
     "name": "stderr",
     "output_type": "stream",
     "text": [
      "WARNING: ffmpeg not found. The downloaded format may not be the best available. Installing ffmpeg is strongly recommended: https://github.com/yt-dlp/yt-dlp#dependencies\n"
     ]
    },
    {
     "name": "stdout",
     "output_type": "stream",
     "text": [
      "[youtube] Extracting URL: https://youtube.com/watch?v=JTQQKvdm7Ds\n",
      "[youtube] JTQQKvdm7Ds: Downloading webpage\n",
      "[youtube] JTQQKvdm7Ds: Downloading ios player API JSON\n",
      "[youtube] JTQQKvdm7Ds: Downloading web creator player API JSON\n",
      "[youtube] JTQQKvdm7Ds: Downloading m3u8 information\n",
      "[info] JTQQKvdm7Ds: Downloading subtitles: en\n"
     ]
    },
    {
     "name": "stderr",
     "output_type": "stream",
     "text": [
      "WARNING: ffmpeg not found. The downloaded format may not be the best available. Installing ffmpeg is strongly recommended: https://github.com/yt-dlp/yt-dlp#dependencies\n"
     ]
    },
    {
     "name": "stdout",
     "output_type": "stream",
     "text": [
      "[info] JTQQKvdm7Ds: Downloading 1 format(s): 18\n",
      "[info] Writing video subtitles to: data\\en_CNN\\This is how Israel enabled Qatar to send millions to Gaza.en.vtt\n",
      "[hlsnative] Downloading m3u8 manifest\n",
      "[hlsnative] Total fragments: 1\n",
      "[download] Destination: data\\en_CNN\\This is how Israel enabled Qatar to send millions to Gaza.en.vtt\n",
      "[download] 100% of    6.79KiB in 00:00:00 at 26.69KiB/s                \n",
      "[youtube] Extracting URL: https://youtube.com/watch?v=vLs3miDGwKE\n",
      "[youtube] vLs3miDGwKE: Downloading webpage\n",
      "[youtube] vLs3miDGwKE: Downloading ios player API JSON\n",
      "[youtube] vLs3miDGwKE: Downloading web creator player API JSON\n",
      "[youtube] vLs3miDGwKE: Downloading m3u8 information\n",
      "[info] vLs3miDGwKE: Downloading subtitles: en\n"
     ]
    },
    {
     "name": "stderr",
     "output_type": "stream",
     "text": [
      "WARNING: ffmpeg not found. The downloaded format may not be the best available. Installing ffmpeg is strongly recommended: https://github.com/yt-dlp/yt-dlp#dependencies\n"
     ]
    },
    {
     "name": "stdout",
     "output_type": "stream",
     "text": [
      "[youtube] Extracting URL: https://youtube.com/watch?v=vLs3miDGwKE\n",
      "[youtube] vLs3miDGwKE: Downloading webpage\n",
      "[youtube] vLs3miDGwKE: Downloading ios player API JSON\n",
      "[youtube] vLs3miDGwKE: Downloading web creator player API JSON\n",
      "[youtube] vLs3miDGwKE: Downloading m3u8 information\n",
      "[info] vLs3miDGwKE: Downloading subtitles: en\n"
     ]
    },
    {
     "name": "stderr",
     "output_type": "stream",
     "text": [
      "WARNING: ffmpeg not found. The downloaded format may not be the best available. Installing ffmpeg is strongly recommended: https://github.com/yt-dlp/yt-dlp#dependencies\n"
     ]
    },
    {
     "name": "stdout",
     "output_type": "stream",
     "text": [
      "[info] vLs3miDGwKE: Downloading 1 format(s): 18\n",
      "[info] Writing video subtitles to: data\\en_CNN\\Biden warns that Netanyahu needs to change his government.en.vtt\n",
      "[download] Destination: data\\en_CNN\\Biden warns that Netanyahu needs to change his government.en.vtt\n",
      "[download] 100% of   16.57KiB in 00:00:00 at 94.97KiB/s\n",
      "[youtube] Extracting URL: https://youtube.com/watch?v=rLxBz2BwPo8\n",
      "[youtube] rLxBz2BwPo8: Downloading webpage\n",
      "[youtube] rLxBz2BwPo8: Downloading ios player API JSON\n",
      "[youtube] rLxBz2BwPo8: Downloading web creator player API JSON\n",
      "[youtube] rLxBz2BwPo8: Downloading m3u8 information\n"
     ]
    },
    {
     "name": "stderr",
     "output_type": "stream",
     "text": [
      "WARNING: ffmpeg not found. The downloaded format may not be the best available. Installing ffmpeg is strongly recommended: https://github.com/yt-dlp/yt-dlp#dependencies\n"
     ]
    },
    {
     "name": "stdout",
     "output_type": "stream",
     "text": [
      "subtitle file not found\n",
      "[youtube] Extracting URL: https://youtube.com/watch?v=zvhhevXbrZc\n",
      "[youtube] zvhhevXbrZc: Downloading webpage\n",
      "[youtube] zvhhevXbrZc: Downloading ios player API JSON\n",
      "[youtube] zvhhevXbrZc: Downloading web creator player API JSON\n",
      "[youtube] zvhhevXbrZc: Downloading m3u8 information\n",
      "[info] zvhhevXbrZc: Downloading subtitles: en\n"
     ]
    },
    {
     "name": "stderr",
     "output_type": "stream",
     "text": [
      "WARNING: ffmpeg not found. The downloaded format may not be the best available. Installing ffmpeg is strongly recommended: https://github.com/yt-dlp/yt-dlp#dependencies\n"
     ]
    },
    {
     "name": "stdout",
     "output_type": "stream",
     "text": [
      "[youtube] Extracting URL: https://youtube.com/watch?v=zvhhevXbrZc\n",
      "[youtube] zvhhevXbrZc: Downloading webpage\n",
      "[youtube] zvhhevXbrZc: Downloading ios player API JSON\n",
      "[youtube] zvhhevXbrZc: Downloading web creator player API JSON\n",
      "[youtube] zvhhevXbrZc: Downloading m3u8 information\n",
      "[info] zvhhevXbrZc: Downloading subtitles: en\n"
     ]
    },
    {
     "name": "stderr",
     "output_type": "stream",
     "text": [
      "WARNING: ffmpeg not found. The downloaded format may not be the best available. Installing ffmpeg is strongly recommended: https://github.com/yt-dlp/yt-dlp#dependencies\n"
     ]
    },
    {
     "name": "stdout",
     "output_type": "stream",
     "text": [
      "[info] zvhhevXbrZc: Downloading 1 format(s): 18\n",
      "[info] Writing video subtitles to: data\\en_CNN\\Netanyahu's spokesperson says Israel is defining 'gold standard of urban warfare' in Gaza.en.vtt\n",
      "[download] Destination: data\\en_CNN\\Netanyahu's spokesperson says Israel is defining 'gold standard of urban warfare' in Gaza.en.vtt\n",
      "[download] 100% of   15.76KiB in 00:00:00 at 91.68KiB/s\n",
      "[youtube] Extracting URL: https://youtube.com/watch?v=SdIZmZr29L0\n",
      "[youtube] SdIZmZr29L0: Downloading webpage\n",
      "[youtube] SdIZmZr29L0: Downloading ios player API JSON\n",
      "[youtube] SdIZmZr29L0: Downloading web creator player API JSON\n",
      "[youtube] SdIZmZr29L0: Downloading m3u8 information\n",
      "[info] SdIZmZr29L0: Downloading subtitles: en\n"
     ]
    },
    {
     "name": "stderr",
     "output_type": "stream",
     "text": [
      "WARNING: ffmpeg not found. The downloaded format may not be the best available. Installing ffmpeg is strongly recommended: https://github.com/yt-dlp/yt-dlp#dependencies\n"
     ]
    },
    {
     "name": "stdout",
     "output_type": "stream",
     "text": [
      "[youtube] Extracting URL: https://youtube.com/watch?v=SdIZmZr29L0\n",
      "[youtube] SdIZmZr29L0: Downloading webpage\n",
      "[youtube] SdIZmZr29L0: Downloading ios player API JSON\n",
      "[youtube] SdIZmZr29L0: Downloading web creator player API JSON\n",
      "[youtube] SdIZmZr29L0: Downloading m3u8 information\n",
      "[info] SdIZmZr29L0: Downloading subtitles: en\n"
     ]
    },
    {
     "name": "stderr",
     "output_type": "stream",
     "text": [
      "WARNING: ffmpeg not found. The downloaded format may not be the best available. Installing ffmpeg is strongly recommended: https://github.com/yt-dlp/yt-dlp#dependencies\n"
     ]
    },
    {
     "name": "stdout",
     "output_type": "stream",
     "text": [
      "[info] SdIZmZr29L0: Downloading 1 format(s): 18\n",
      "[info] Writing video subtitles to: data\\en_CNN\\CNN visited a Gaza hospital. This is what we saw.en.vtt\n",
      "[download] Destination: data\\en_CNN\\CNN visited a Gaza hospital. This is what we saw.en.vtt\n",
      "[download] 100% of   24.06KiB in 00:00:00 at 113.37KiB/s\n",
      "[youtube] Extracting URL: https://youtube.com/watch?v=v7xeZNcABHQ\n",
      "[youtube] v7xeZNcABHQ: Downloading webpage\n",
      "[youtube] v7xeZNcABHQ: Downloading ios player API JSON\n",
      "[youtube] v7xeZNcABHQ: Downloading web creator player API JSON\n",
      "[youtube] v7xeZNcABHQ: Downloading m3u8 information\n",
      "[info] v7xeZNcABHQ: Downloading subtitles: en\n"
     ]
    },
    {
     "name": "stderr",
     "output_type": "stream",
     "text": [
      "WARNING: ffmpeg not found. The downloaded format may not be the best available. Installing ffmpeg is strongly recommended: https://github.com/yt-dlp/yt-dlp#dependencies\n"
     ]
    },
    {
     "name": "stdout",
     "output_type": "stream",
     "text": [
      "[youtube] Extracting URL: https://youtube.com/watch?v=v7xeZNcABHQ\n",
      "[youtube] v7xeZNcABHQ: Downloading webpage\n",
      "[youtube] v7xeZNcABHQ: Downloading ios player API JSON\n",
      "[youtube] v7xeZNcABHQ: Downloading web creator player API JSON\n",
      "[youtube] v7xeZNcABHQ: Downloading m3u8 information\n",
      "[info] v7xeZNcABHQ: Downloading subtitles: en\n"
     ]
    },
    {
     "name": "stderr",
     "output_type": "stream",
     "text": [
      "WARNING: ffmpeg not found. The downloaded format may not be the best available. Installing ffmpeg is strongly recommended: https://github.com/yt-dlp/yt-dlp#dependencies\n"
     ]
    },
    {
     "name": "stdout",
     "output_type": "stream",
     "text": [
      "[info] v7xeZNcABHQ: Downloading 1 format(s): 18\n",
      "[info] Writing video subtitles to: data\\en_CNN\\Nearly half of Israeli munitions dropped on Gaza are ‘dumb bombs,’ US intelligence finds.en.vtt\n",
      "[download] Destination: data\\en_CNN\\Nearly half of Israeli munitions dropped on Gaza are ‘dumb bombs,’ US intelligence finds.en.vtt\n",
      "[download] 100% of   14.67KiB in 00:00:00 at 98.97KiB/s\n",
      "[youtube] Extracting URL: https://youtube.com/watch?v=GzmRMgqWLiI\n",
      "[youtube] GzmRMgqWLiI: Downloading webpage\n",
      "[youtube] GzmRMgqWLiI: Downloading ios player API JSON\n",
      "[youtube] GzmRMgqWLiI: Downloading web creator player API JSON\n",
      "[youtube] GzmRMgqWLiI: Downloading m3u8 information\n",
      "[info] GzmRMgqWLiI: Downloading subtitles: en\n"
     ]
    },
    {
     "name": "stderr",
     "output_type": "stream",
     "text": [
      "WARNING: ffmpeg not found. The downloaded format may not be the best available. Installing ffmpeg is strongly recommended: https://github.com/yt-dlp/yt-dlp#dependencies\n"
     ]
    },
    {
     "name": "stdout",
     "output_type": "stream",
     "text": [
      "[youtube] Extracting URL: https://youtube.com/watch?v=GzmRMgqWLiI\n",
      "[youtube] GzmRMgqWLiI: Downloading webpage\n",
      "[youtube] GzmRMgqWLiI: Downloading ios player API JSON\n",
      "[youtube] GzmRMgqWLiI: Downloading web creator player API JSON\n",
      "[youtube] GzmRMgqWLiI: Downloading m3u8 information\n",
      "[info] GzmRMgqWLiI: Downloading subtitles: en\n"
     ]
    },
    {
     "name": "stderr",
     "output_type": "stream",
     "text": [
      "WARNING: ffmpeg not found. The downloaded format may not be the best available. Installing ffmpeg is strongly recommended: https://github.com/yt-dlp/yt-dlp#dependencies\n"
     ]
    },
    {
     "name": "stdout",
     "output_type": "stream",
     "text": [
      "[info] GzmRMgqWLiI: Downloading 1 format(s): 18\n",
      "[info] Writing video subtitles to: data\\en_CNN\\CNN asked US national security adviser about Israel using ‘dumb bombs’ in Gaza. Hear his response.en.vtt\n",
      "[download] Destination: data\\en_CNN\\CNN asked US national security adviser about Israel using ‘dumb bombs’ in Gaza. Hear his response.en.vtt\n",
      "[download] 100% of   10.23KiB in 00:00:00 at 99.17KiB/s\n",
      "[youtube] Extracting URL: https://youtube.com/watch?v=t_TG4x1SplA\n",
      "[youtube] t_TG4x1SplA: Downloading webpage\n",
      "[youtube] t_TG4x1SplA: Downloading ios player API JSON\n",
      "[youtube] t_TG4x1SplA: Downloading web creator player API JSON\n",
      "[youtube] t_TG4x1SplA: Downloading m3u8 information\n",
      "[info] t_TG4x1SplA: Downloading subtitles: en\n"
     ]
    },
    {
     "name": "stderr",
     "output_type": "stream",
     "text": [
      "WARNING: ffmpeg not found. The downloaded format may not be the best available. Installing ffmpeg is strongly recommended: https://github.com/yt-dlp/yt-dlp#dependencies\n"
     ]
    },
    {
     "name": "stdout",
     "output_type": "stream",
     "text": [
      "[youtube] Extracting URL: https://youtube.com/watch?v=t_TG4x1SplA\n",
      "[youtube] t_TG4x1SplA: Downloading webpage\n",
      "[youtube] t_TG4x1SplA: Downloading ios player API JSON\n",
      "[youtube] t_TG4x1SplA: Downloading web creator player API JSON\n",
      "[youtube] t_TG4x1SplA: Downloading m3u8 information\n",
      "[info] t_TG4x1SplA: Downloading subtitles: en\n"
     ]
    },
    {
     "name": "stderr",
     "output_type": "stream",
     "text": [
      "WARNING: ffmpeg not found. The downloaded format may not be the best available. Installing ffmpeg is strongly recommended: https://github.com/yt-dlp/yt-dlp#dependencies\n"
     ]
    },
    {
     "name": "stdout",
     "output_type": "stream",
     "text": [
      "[info] t_TG4x1SplA: Downloading 1 format(s): 18\n",
      "[info] Writing video subtitles to: data\\en_CNN\\Israeli military accidentally shoots and kills 3 Israelis held hostage in Gaza.en.vtt\n",
      "[download] Destination: data\\en_CNN\\Israeli military accidentally shoots and kills 3 Israelis held hostage in Gaza.en.vtt\n",
      "[download] 100% of   16.20KiB in 00:00:00 at 97.26KiB/s\n",
      "[youtube] Extracting URL: https://youtube.com/watch?v=T8hM29eU2Gc\n",
      "[youtube] T8hM29eU2Gc: Downloading webpage\n",
      "[youtube] T8hM29eU2Gc: Downloading ios player API JSON\n",
      "[youtube] T8hM29eU2Gc: Downloading web creator player API JSON\n",
      "[youtube] T8hM29eU2Gc: Downloading m3u8 information\n",
      "[info] T8hM29eU2Gc: Downloading subtitles: en-uYU-mmqFLq8\n"
     ]
    },
    {
     "name": "stderr",
     "output_type": "stream",
     "text": [
      "WARNING: ffmpeg not found. The downloaded format may not be the best available. Installing ffmpeg is strongly recommended: https://github.com/yt-dlp/yt-dlp#dependencies\n"
     ]
    },
    {
     "name": "stdout",
     "output_type": "stream",
     "text": [
      "[youtube] Extracting URL: https://youtube.com/watch?v=T8hM29eU2Gc\n",
      "[youtube] T8hM29eU2Gc: Downloading webpage\n",
      "[youtube] T8hM29eU2Gc: Downloading ios player API JSON\n",
      "[youtube] T8hM29eU2Gc: Downloading web creator player API JSON\n",
      "[youtube] T8hM29eU2Gc: Downloading m3u8 information\n",
      "[info] T8hM29eU2Gc: Downloading subtitles: en\n"
     ]
    },
    {
     "name": "stderr",
     "output_type": "stream",
     "text": [
      "WARNING: ffmpeg not found. The downloaded format may not be the best available. Installing ffmpeg is strongly recommended: https://github.com/yt-dlp/yt-dlp#dependencies\n"
     ]
    },
    {
     "name": "stdout",
     "output_type": "stream",
     "text": [
      "[info] T8hM29eU2Gc: Downloading 1 format(s): 18\n",
      "[info] Writing video subtitles to: data\\en_CNN\\Palestinian men and boys describe abuse during detention by Israeli forces.en.vtt\n",
      "[hlsnative] Downloading m3u8 manifest\n",
      "[hlsnative] Total fragments: 2\n",
      "[download] Destination: data\\en_CNN\\Palestinian men and boys describe abuse during detention by Israeli forces.en.vtt\n",
      "[download] 100% of    9.11KiB in 00:00:00 at 23.63KiB/s                \n",
      "[youtube] Extracting URL: https://youtube.com/watch?v=lw2bAhSLpew\n",
      "[youtube] lw2bAhSLpew: Downloading webpage\n",
      "[youtube] lw2bAhSLpew: Downloading ios player API JSON\n",
      "[youtube] lw2bAhSLpew: Downloading web creator player API JSON\n",
      "[youtube] lw2bAhSLpew: Downloading m3u8 information\n"
     ]
    },
    {
     "name": "stderr",
     "output_type": "stream",
     "text": [
      "WARNING: ffmpeg not found. The downloaded format may not be the best available. Installing ffmpeg is strongly recommended: https://github.com/yt-dlp/yt-dlp#dependencies\n"
     ]
    },
    {
     "name": "stdout",
     "output_type": "stream",
     "text": [
      "subtitle file not found\n",
      "[youtube] Extracting URL: https://youtube.com/watch?v=8cQ7zYQlPyg\n",
      "[youtube] 8cQ7zYQlPyg: Downloading webpage\n",
      "[youtube] 8cQ7zYQlPyg: Downloading ios player API JSON\n",
      "[youtube] 8cQ7zYQlPyg: Downloading web creator player API JSON\n",
      "[youtube] 8cQ7zYQlPyg: Downloading m3u8 information\n",
      "[info] 8cQ7zYQlPyg: Downloading subtitles: en\n"
     ]
    },
    {
     "name": "stderr",
     "output_type": "stream",
     "text": [
      "WARNING: ffmpeg not found. The downloaded format may not be the best available. Installing ffmpeg is strongly recommended: https://github.com/yt-dlp/yt-dlp#dependencies\n"
     ]
    },
    {
     "name": "stdout",
     "output_type": "stream",
     "text": [
      "[youtube] Extracting URL: https://youtube.com/watch?v=8cQ7zYQlPyg\n",
      "[youtube] 8cQ7zYQlPyg: Downloading webpage\n",
      "[youtube] 8cQ7zYQlPyg: Downloading ios player API JSON\n",
      "[youtube] 8cQ7zYQlPyg: Downloading web creator player API JSON\n",
      "[youtube] 8cQ7zYQlPyg: Downloading m3u8 information\n",
      "[info] 8cQ7zYQlPyg: Downloading subtitles: en\n"
     ]
    },
    {
     "name": "stderr",
     "output_type": "stream",
     "text": [
      "WARNING: ffmpeg not found. The downloaded format may not be the best available. Installing ffmpeg is strongly recommended: https://github.com/yt-dlp/yt-dlp#dependencies\n"
     ]
    },
    {
     "name": "stdout",
     "output_type": "stream",
     "text": [
      "[info] 8cQ7zYQlPyg: Downloading 1 format(s): 18\n",
      "[info] Writing video subtitles to: data\\en_CNN\\'Mind-boggling' Retired general on Hamas tunnel in Gaza.en.vtt\n",
      "[download] Destination: data\\en_CNN\\'Mind-boggling' Retired general on Hamas tunnel in Gaza.en.vtt\n",
      "[download] 100% of   12.93KiB in 00:00:00 at 111.02KiB/s\n",
      "[youtube] Extracting URL: https://youtube.com/watch?v=b37iDmx-Ylk\n",
      "[youtube] b37iDmx-Ylk: Downloading webpage\n",
      "[youtube] b37iDmx-Ylk: Downloading ios player API JSON\n",
      "[youtube] b37iDmx-Ylk: Downloading web creator player API JSON\n",
      "[youtube] b37iDmx-Ylk: Downloading m3u8 information\n"
     ]
    },
    {
     "name": "stderr",
     "output_type": "stream",
     "text": [
      "WARNING: ffmpeg not found. The downloaded format may not be the best available. Installing ffmpeg is strongly recommended: https://github.com/yt-dlp/yt-dlp#dependencies\n"
     ]
    },
    {
     "name": "stdout",
     "output_type": "stream",
     "text": [
      "subtitle file not found\n",
      "[youtube] Extracting URL: https://youtube.com/watch?v=jvqKs9TRKoE\n",
      "[youtube] jvqKs9TRKoE: Downloading webpage\n",
      "[youtube] jvqKs9TRKoE: Downloading ios player API JSON\n",
      "[youtube] jvqKs9TRKoE: Downloading web creator player API JSON\n",
      "[youtube] jvqKs9TRKoE: Downloading m3u8 information\n",
      "[info] jvqKs9TRKoE: Downloading subtitles: en\n"
     ]
    },
    {
     "name": "stderr",
     "output_type": "stream",
     "text": [
      "WARNING: ffmpeg not found. The downloaded format may not be the best available. Installing ffmpeg is strongly recommended: https://github.com/yt-dlp/yt-dlp#dependencies\n"
     ]
    },
    {
     "name": "stdout",
     "output_type": "stream",
     "text": [
      "[youtube] Extracting URL: https://youtube.com/watch?v=jvqKs9TRKoE\n",
      "[youtube] jvqKs9TRKoE: Downloading webpage\n",
      "[youtube] jvqKs9TRKoE: Downloading ios player API JSON\n",
      "[youtube] jvqKs9TRKoE: Downloading web creator player API JSON\n",
      "[youtube] jvqKs9TRKoE: Downloading m3u8 information\n",
      "[info] jvqKs9TRKoE: Downloading subtitles: en\n"
     ]
    },
    {
     "name": "stderr",
     "output_type": "stream",
     "text": [
      "WARNING: ffmpeg not found. The downloaded format may not be the best available. Installing ffmpeg is strongly recommended: https://github.com/yt-dlp/yt-dlp#dependencies\n"
     ]
    },
    {
     "name": "stdout",
     "output_type": "stream",
     "text": [
      "[info] jvqKs9TRKoE: Downloading 1 format(s): 18\n",
      "[info] Writing video subtitles to: data\\en_CNN\\Nova music festival survivor reunites with man who saved her.en.vtt\n",
      "[download] Destination: data\\en_CNN\\Nova music festival survivor reunites with man who saved her.en.vtt\n",
      "[download] 100% of    7.83KiB in 00:00:00 at 70.13KiB/s\n",
      "[youtube] Extracting URL: https://youtube.com/watch?v=pl1Qj7ev3t0\n",
      "[youtube] pl1Qj7ev3t0: Downloading webpage\n",
      "[youtube] pl1Qj7ev3t0: Downloading ios player API JSON\n",
      "[youtube] pl1Qj7ev3t0: Downloading web creator player API JSON\n",
      "[youtube] pl1Qj7ev3t0: Downloading m3u8 information\n",
      "[info] pl1Qj7ev3t0: Downloading subtitles: en\n"
     ]
    },
    {
     "name": "stderr",
     "output_type": "stream",
     "text": [
      "WARNING: ffmpeg not found. The downloaded format may not be the best available. Installing ffmpeg is strongly recommended: https://github.com/yt-dlp/yt-dlp#dependencies\n"
     ]
    },
    {
     "name": "stdout",
     "output_type": "stream",
     "text": [
      "[youtube] Extracting URL: https://youtube.com/watch?v=pl1Qj7ev3t0\n",
      "[youtube] pl1Qj7ev3t0: Downloading webpage\n",
      "[youtube] pl1Qj7ev3t0: Downloading ios player API JSON\n",
      "[youtube] pl1Qj7ev3t0: Downloading web creator player API JSON\n",
      "[youtube] pl1Qj7ev3t0: Downloading m3u8 information\n",
      "[info] pl1Qj7ev3t0: Downloading subtitles: en\n"
     ]
    },
    {
     "name": "stderr",
     "output_type": "stream",
     "text": [
      "WARNING: ffmpeg not found. The downloaded format may not be the best available. Installing ffmpeg is strongly recommended: https://github.com/yt-dlp/yt-dlp#dependencies\n"
     ]
    },
    {
     "name": "stdout",
     "output_type": "stream",
     "text": [
      "[info] pl1Qj7ev3t0: Downloading 1 format(s): 18\n",
      "[info] Writing video subtitles to: data\\en_CNN\\Gunfire breaks out at key Gaza crossing for aid trucks.en.vtt\n",
      "[download] Destination: data\\en_CNN\\Gunfire breaks out at key Gaza crossing for aid trucks.en.vtt\n",
      "[download] 100% of   20.10KiB in 00:00:00 at 112.34KiB/s\n",
      "[youtube] Extracting URL: https://youtube.com/watch?v=PC6mg0R5fSY\n",
      "[youtube] PC6mg0R5fSY: Downloading webpage\n",
      "[youtube] PC6mg0R5fSY: Downloading ios player API JSON\n",
      "[youtube] PC6mg0R5fSY: Downloading web creator player API JSON\n",
      "[youtube] PC6mg0R5fSY: Downloading m3u8 information\n",
      "[info] PC6mg0R5fSY: Downloading subtitles: en\n"
     ]
    },
    {
     "name": "stderr",
     "output_type": "stream",
     "text": [
      "WARNING: ffmpeg not found. The downloaded format may not be the best available. Installing ffmpeg is strongly recommended: https://github.com/yt-dlp/yt-dlp#dependencies\n"
     ]
    },
    {
     "name": "stdout",
     "output_type": "stream",
     "text": [
      "[youtube] Extracting URL: https://youtube.com/watch?v=PC6mg0R5fSY\n",
      "[youtube] PC6mg0R5fSY: Downloading webpage\n",
      "[youtube] PC6mg0R5fSY: Downloading ios player API JSON\n",
      "[youtube] PC6mg0R5fSY: Downloading web creator player API JSON\n",
      "[youtube] PC6mg0R5fSY: Downloading m3u8 information\n",
      "[info] PC6mg0R5fSY: Downloading subtitles: en\n"
     ]
    },
    {
     "name": "stderr",
     "output_type": "stream",
     "text": [
      "WARNING: ffmpeg not found. The downloaded format may not be the best available. Installing ffmpeg is strongly recommended: https://github.com/yt-dlp/yt-dlp#dependencies\n"
     ]
    },
    {
     "name": "stdout",
     "output_type": "stream",
     "text": [
      "[info] PC6mg0R5fSY: Downloading 1 format(s): 18\n",
      "[info] Writing video subtitles to: data\\en_CNN\\Hamas-controlled health ministry says at least 250 killed in Gaza in 24 hours.en.vtt\n",
      "[download] Destination: data\\en_CNN\\Hamas-controlled health ministry says at least 250 killed in Gaza in 24 hours.en.vtt\n",
      "[download] 100% of   18.88KiB in 00:00:00 at 121.95KiB/s\n",
      "[youtube] Extracting URL: https://youtube.com/watch?v=SowH3PeXNsw\n",
      "[youtube] SowH3PeXNsw: Downloading webpage\n",
      "[youtube] SowH3PeXNsw: Downloading ios player API JSON\n",
      "[youtube] SowH3PeXNsw: This video is age-restricted; some formats may be missing without authentication. Use --cookies-from-browser or --cookies for the authentication. See  https://github.com/yt-dlp/yt-dlp/wiki/FAQ#how-do-i-pass-cookies-to-yt-dlp  for how to manually pass cookies\n",
      "[youtube] SowH3PeXNsw: Downloading tv embedded player API JSON\n",
      "[youtube] SowH3PeXNsw: Downloading web creator player API JSON\n",
      "[info] SowH3PeXNsw: Downloading subtitles: en\n"
     ]
    },
    {
     "name": "stderr",
     "output_type": "stream",
     "text": [
      "WARNING: ffmpeg not found. The downloaded format may not be the best available. Installing ffmpeg is strongly recommended: https://github.com/yt-dlp/yt-dlp#dependencies\n"
     ]
    },
    {
     "name": "stdout",
     "output_type": "stream",
     "text": [
      "[youtube] Extracting URL: https://youtube.com/watch?v=SowH3PeXNsw\n",
      "[youtube] SowH3PeXNsw: Downloading webpage\n",
      "[youtube] SowH3PeXNsw: Downloading ios player API JSON\n",
      "[youtube] SowH3PeXNsw: This video is age-restricted; some formats may be missing without authentication. Use --cookies-from-browser or --cookies for the authentication. See  https://github.com/yt-dlp/yt-dlp/wiki/FAQ#how-do-i-pass-cookies-to-yt-dlp  for how to manually pass cookies\n",
      "[youtube] SowH3PeXNsw: Downloading tv embedded player API JSON\n",
      "[youtube] SowH3PeXNsw: Downloading web creator player API JSON\n",
      "[info] SowH3PeXNsw: Downloading subtitles: ab-en\n"
     ]
    },
    {
     "name": "stderr",
     "output_type": "stream",
     "text": [
      "WARNING: ffmpeg not found. The downloaded format may not be the best available. Installing ffmpeg is strongly recommended: https://github.com/yt-dlp/yt-dlp#dependencies\n"
     ]
    },
    {
     "name": "stdout",
     "output_type": "stream",
     "text": [
      "[info] SowH3PeXNsw: Downloading 1 format(s): 18\n",
      "[info] Writing video subtitles to: data\\en_CNN\\Video appears to show children among Palestinian men stripped and detained by IDF.ab-en.vtt\n",
      "[download] Destination: data\\en_CNN\\Video appears to show children among Palestinian men stripped and detained by IDF.ab-en.vtt\n",
      "[download] 100% of   15.16KiB in 00:00:00 at 32.57KiB/s\n",
      "[youtube] Extracting URL: https://youtube.com/watch?v=Nju_fp_bCso\n",
      "[youtube] Nju_fp_bCso: Downloading webpage\n",
      "[youtube] Nju_fp_bCso: Downloading ios player API JSON\n",
      "[youtube] Nju_fp_bCso: Downloading web creator player API JSON\n",
      "[youtube] Nju_fp_bCso: Downloading m3u8 information\n",
      "[info] Nju_fp_bCso: Downloading subtitles: en\n"
     ]
    },
    {
     "name": "stderr",
     "output_type": "stream",
     "text": [
      "WARNING: ffmpeg not found. The downloaded format may not be the best available. Installing ffmpeg is strongly recommended: https://github.com/yt-dlp/yt-dlp#dependencies\n"
     ]
    },
    {
     "name": "stdout",
     "output_type": "stream",
     "text": [
      "[youtube] Extracting URL: https://youtube.com/watch?v=Nju_fp_bCso\n",
      "[youtube] Nju_fp_bCso: Downloading webpage\n",
      "[youtube] Nju_fp_bCso: Downloading ios player API JSON\n",
      "[youtube] Nju_fp_bCso: Downloading web creator player API JSON\n",
      "[youtube] Nju_fp_bCso: Downloading m3u8 information\n",
      "[info] Nju_fp_bCso: Downloading subtitles: en\n"
     ]
    },
    {
     "name": "stderr",
     "output_type": "stream",
     "text": [
      "WARNING: ffmpeg not found. The downloaded format may not be the best available. Installing ffmpeg is strongly recommended: https://github.com/yt-dlp/yt-dlp#dependencies\n"
     ]
    },
    {
     "name": "stdout",
     "output_type": "stream",
     "text": [
      "[info] Nju_fp_bCso: Downloading 1 format(s): 18\n",
      "[info] Writing video subtitles to: data\\en_CNN\\Naked, handcuffed and blindfolded Palestinian poet details time in Israeli custody.en.vtt\n",
      "[download] Destination: data\\en_CNN\\Naked, handcuffed and blindfolded Palestinian poet details time in Israeli custody.en.vtt\n",
      "[download] 100% of   21.69KiB in 00:00:00 at 108.31KiB/s\n",
      "[youtube] Extracting URL: https://youtube.com/watch?v=tJe-YtQigkA\n",
      "[youtube] tJe-YtQigkA: Downloading webpage\n",
      "[youtube] tJe-YtQigkA: Downloading ios player API JSON\n",
      "[youtube] tJe-YtQigkA: Downloading web creator player API JSON\n",
      "[youtube] tJe-YtQigkA: Downloading m3u8 information\n",
      "[info] tJe-YtQigkA: Downloading subtitles: en\n"
     ]
    },
    {
     "name": "stderr",
     "output_type": "stream",
     "text": [
      "WARNING: ffmpeg not found. The downloaded format may not be the best available. Installing ffmpeg is strongly recommended: https://github.com/yt-dlp/yt-dlp#dependencies\n"
     ]
    },
    {
     "name": "stdout",
     "output_type": "stream",
     "text": [
      "[youtube] Extracting URL: https://youtube.com/watch?v=tJe-YtQigkA\n",
      "[youtube] tJe-YtQigkA: Downloading webpage\n",
      "[youtube] tJe-YtQigkA: Downloading ios player API JSON\n",
      "[youtube] tJe-YtQigkA: Downloading web creator player API JSON\n",
      "[youtube] tJe-YtQigkA: Downloading m3u8 information\n",
      "[info] tJe-YtQigkA: Downloading subtitles: en\n"
     ]
    },
    {
     "name": "stderr",
     "output_type": "stream",
     "text": [
      "WARNING: ffmpeg not found. The downloaded format may not be the best available. Installing ffmpeg is strongly recommended: https://github.com/yt-dlp/yt-dlp#dependencies\n"
     ]
    },
    {
     "name": "stdout",
     "output_type": "stream",
     "text": [
      "[info] tJe-YtQigkA: Downloading 1 format(s): 18\n",
      "[info] Writing video subtitles to: data\\en_CNN\\Israel's Supreme Court strikes down controversial change to judiciary.en.vtt\n",
      "[download] Destination: data\\en_CNN\\Israel's Supreme Court strikes down controversial change to judiciary.en.vtt\n",
      "[download] 100% of    7.88KiB in 00:00:00 at 49.74KiB/s\n",
      "[youtube] Extracting URL: https://youtube.com/watch?v=vta0CkM8xW8\n",
      "[youtube] vta0CkM8xW8: Downloading webpage\n",
      "[youtube] vta0CkM8xW8: Downloading ios player API JSON\n",
      "[youtube] vta0CkM8xW8: Downloading web creator player API JSON\n",
      "[youtube] vta0CkM8xW8: Downloading m3u8 information\n",
      "[info] vta0CkM8xW8: Downloading subtitles: en\n"
     ]
    },
    {
     "name": "stderr",
     "output_type": "stream",
     "text": [
      "WARNING: ffmpeg not found. The downloaded format may not be the best available. Installing ffmpeg is strongly recommended: https://github.com/yt-dlp/yt-dlp#dependencies\n"
     ]
    },
    {
     "name": "stdout",
     "output_type": "stream",
     "text": [
      "[youtube] Extracting URL: https://youtube.com/watch?v=vta0CkM8xW8\n",
      "[youtube] vta0CkM8xW8: Downloading webpage\n",
      "[youtube] vta0CkM8xW8: Downloading ios player API JSON\n",
      "[youtube] vta0CkM8xW8: Downloading web creator player API JSON\n",
      "[youtube] vta0CkM8xW8: Downloading m3u8 information\n",
      "[info] vta0CkM8xW8: Downloading subtitles: en\n"
     ]
    },
    {
     "name": "stderr",
     "output_type": "stream",
     "text": [
      "WARNING: ffmpeg not found. The downloaded format may not be the best available. Installing ffmpeg is strongly recommended: https://github.com/yt-dlp/yt-dlp#dependencies\n"
     ]
    },
    {
     "name": "stdout",
     "output_type": "stream",
     "text": [
      "[info] vta0CkM8xW8: Downloading 1 format(s): 18\n",
      "[info] Writing video subtitles to: data\\en_CNN\\Iran deploys naval destroyer to Red Sea.en.vtt\n",
      "[download] Destination: data\\en_CNN\\Iran deploys naval destroyer to Red Sea.en.vtt\n",
      "[download] 100% of   13.57KiB in 00:00:00 at 75.57KiB/s\n",
      "[youtube] Extracting URL: https://youtube.com/watch?v=EOhZBj3Xidk\n",
      "[youtube] EOhZBj3Xidk: Downloading webpage\n",
      "[youtube] EOhZBj3Xidk: Downloading ios player API JSON\n",
      "[youtube] EOhZBj3Xidk: Downloading web creator player API JSON\n",
      "[youtube] EOhZBj3Xidk: Downloading m3u8 information\n",
      "[info] EOhZBj3Xidk: Downloading subtitles: en\n"
     ]
    },
    {
     "name": "stderr",
     "output_type": "stream",
     "text": [
      "WARNING: ffmpeg not found. The downloaded format may not be the best available. Installing ffmpeg is strongly recommended: https://github.com/yt-dlp/yt-dlp#dependencies\n"
     ]
    },
    {
     "name": "stdout",
     "output_type": "stream",
     "text": [
      "[youtube] Extracting URL: https://youtube.com/watch?v=EOhZBj3Xidk\n",
      "[youtube] EOhZBj3Xidk: Downloading webpage\n",
      "[youtube] EOhZBj3Xidk: Downloading ios player API JSON\n",
      "[youtube] EOhZBj3Xidk: Downloading web creator player API JSON\n",
      "[youtube] EOhZBj3Xidk: Downloading m3u8 information\n",
      "[info] EOhZBj3Xidk: Downloading subtitles: en\n"
     ]
    },
    {
     "name": "stderr",
     "output_type": "stream",
     "text": [
      "WARNING: ffmpeg not found. The downloaded format may not be the best available. Installing ffmpeg is strongly recommended: https://github.com/yt-dlp/yt-dlp#dependencies\n"
     ]
    },
    {
     "name": "stdout",
     "output_type": "stream",
     "text": [
      "[info] EOhZBj3Xidk: Downloading 1 format(s): 18\n",
      "[info] Writing video subtitles to: data\\en_CNN\\Senior Hamas leader killed in attack in Beirut.en.vtt\n",
      "[download] Destination: data\\en_CNN\\Senior Hamas leader killed in attack in Beirut.en.vtt\n",
      "[download] 100% of   16.47KiB in 00:00:00 at 116.97KiB/s\n",
      "[youtube] Extracting URL: https://youtube.com/watch?v=NQ1mGV8r4FM\n",
      "[youtube] NQ1mGV8r4FM: Downloading webpage\n",
      "[youtube] NQ1mGV8r4FM: Downloading ios player API JSON\n",
      "[youtube] NQ1mGV8r4FM: Downloading web creator player API JSON\n",
      "[youtube] NQ1mGV8r4FM: Downloading m3u8 information\n",
      "[info] NQ1mGV8r4FM: Downloading subtitles: en\n"
     ]
    },
    {
     "name": "stderr",
     "output_type": "stream",
     "text": [
      "WARNING: ffmpeg not found. The downloaded format may not be the best available. Installing ffmpeg is strongly recommended: https://github.com/yt-dlp/yt-dlp#dependencies\n"
     ]
    },
    {
     "name": "stdout",
     "output_type": "stream",
     "text": [
      "[youtube] Extracting URL: https://youtube.com/watch?v=NQ1mGV8r4FM\n",
      "[youtube] NQ1mGV8r4FM: Downloading webpage\n",
      "[youtube] NQ1mGV8r4FM: Downloading ios player API JSON\n",
      "[youtube] NQ1mGV8r4FM: Downloading web creator player API JSON\n",
      "[youtube] NQ1mGV8r4FM: Downloading m3u8 information\n",
      "[info] NQ1mGV8r4FM: Downloading subtitles: en\n"
     ]
    },
    {
     "name": "stderr",
     "output_type": "stream",
     "text": [
      "WARNING: ffmpeg not found. The downloaded format may not be the best available. Installing ffmpeg is strongly recommended: https://github.com/yt-dlp/yt-dlp#dependencies\n"
     ]
    },
    {
     "name": "stdout",
     "output_type": "stream",
     "text": [
      "[info] NQ1mGV8r4FM: Downloading 1 format(s): 18\n",
      "[info] Writing video subtitles to: data\\en_CNN\\Freed Israeli mother asked what she feared most in captivity. Hear her reply.en.vtt\n",
      "[download] Destination: data\\en_CNN\\Freed Israeli mother asked what she feared most in captivity. Hear her reply.en.vtt\n",
      "[download] 100% of   10.15KiB in 00:00:00 at 81.00KiB/s\n",
      "[youtube] Extracting URL: https://youtube.com/watch?v=PHTCH1nA-eQ\n",
      "[youtube] PHTCH1nA-eQ: Downloading webpage\n",
      "[youtube] PHTCH1nA-eQ: Downloading ios player API JSON\n",
      "[youtube] PHTCH1nA-eQ: Downloading web creator player API JSON\n",
      "[youtube] PHTCH1nA-eQ: Downloading m3u8 information\n",
      "[info] PHTCH1nA-eQ: Downloading subtitles: en\n"
     ]
    },
    {
     "name": "stderr",
     "output_type": "stream",
     "text": [
      "WARNING: ffmpeg not found. The downloaded format may not be the best available. Installing ffmpeg is strongly recommended: https://github.com/yt-dlp/yt-dlp#dependencies\n"
     ]
    },
    {
     "name": "stdout",
     "output_type": "stream",
     "text": [
      "[youtube] Extracting URL: https://youtube.com/watch?v=PHTCH1nA-eQ\n",
      "[youtube] PHTCH1nA-eQ: Downloading webpage\n",
      "[youtube] PHTCH1nA-eQ: Downloading ios player API JSON\n",
      "[youtube] PHTCH1nA-eQ: Downloading web creator player API JSON\n",
      "[youtube] PHTCH1nA-eQ: Downloading m3u8 information\n",
      "[info] PHTCH1nA-eQ: Downloading subtitles: en\n"
     ]
    },
    {
     "name": "stderr",
     "output_type": "stream",
     "text": [
      "WARNING: ffmpeg not found. The downloaded format may not be the best available. Installing ffmpeg is strongly recommended: https://github.com/yt-dlp/yt-dlp#dependencies\n"
     ]
    },
    {
     "name": "stdout",
     "output_type": "stream",
     "text": [
      "[info] PHTCH1nA-eQ: Downloading 1 format(s): 18\n",
      "[info] Writing video subtitles to: data\\en_CNN\\Mike Pence reacts to new polling about GOP views of Jan. 6.en.vtt\n",
      "[download] Destination: data\\en_CNN\\Mike Pence reacts to new polling about GOP views of Jan. 6.en.vtt\n",
      "[download] 100% of   21.50KiB in 00:00:00 at 120.77KiB/s\n",
      "[youtube] Extracting URL: https://youtube.com/watch?v=Rx7IARoX9Fg\n",
      "[youtube] Rx7IARoX9Fg: Downloading webpage\n",
      "[youtube] Rx7IARoX9Fg: Downloading ios player API JSON\n",
      "[youtube] Rx7IARoX9Fg: Downloading web creator player API JSON\n",
      "[youtube] Rx7IARoX9Fg: Downloading m3u8 information\n",
      "[info] Rx7IARoX9Fg: Downloading subtitles: en-uYU-mmqFLq8\n"
     ]
    },
    {
     "name": "stderr",
     "output_type": "stream",
     "text": [
      "WARNING: ffmpeg not found. The downloaded format may not be the best available. Installing ffmpeg is strongly recommended: https://github.com/yt-dlp/yt-dlp#dependencies\n"
     ]
    },
    {
     "name": "stdout",
     "output_type": "stream",
     "text": [
      "[youtube] Extracting URL: https://youtube.com/watch?v=Rx7IARoX9Fg\n",
      "[youtube] Rx7IARoX9Fg: Downloading webpage\n",
      "[youtube] Rx7IARoX9Fg: Downloading ios player API JSON\n",
      "[youtube] Rx7IARoX9Fg: Downloading web creator player API JSON\n",
      "[youtube] Rx7IARoX9Fg: Downloading m3u8 information\n",
      "[info] Rx7IARoX9Fg: Downloading subtitles: en\n"
     ]
    },
    {
     "name": "stderr",
     "output_type": "stream",
     "text": [
      "WARNING: ffmpeg not found. The downloaded format may not be the best available. Installing ffmpeg is strongly recommended: https://github.com/yt-dlp/yt-dlp#dependencies\n"
     ]
    },
    {
     "name": "stdout",
     "output_type": "stream",
     "text": [
      "[info] Rx7IARoX9Fg: Downloading 1 format(s): 18\n",
      "[info] Writing video subtitles to: data\\en_CNN\\IDF shows off alleged Hamas tunnels and weapons factories.en.vtt\n",
      "[hlsnative] Downloading m3u8 manifest\n",
      "[hlsnative] Total fragments: 1\n",
      "[download] Destination: data\\en_CNN\\IDF shows off alleged Hamas tunnels and weapons factories.en.vtt\n",
      "[download] 100% of   74.40KiB in 00:00:00 at 296.14KiB/s               \n",
      "[youtube] Extracting URL: https://youtube.com/watch?v=h0jZLZa-UQY\n",
      "[youtube] h0jZLZa-UQY: Downloading webpage\n",
      "[youtube] h0jZLZa-UQY: Downloading ios player API JSON\n",
      "[youtube] h0jZLZa-UQY: Downloading web creator player API JSON\n",
      "[youtube] h0jZLZa-UQY: Downloading m3u8 information\n",
      "[info] h0jZLZa-UQY: Downloading subtitles: en\n"
     ]
    },
    {
     "name": "stderr",
     "output_type": "stream",
     "text": [
      "WARNING: ffmpeg not found. The downloaded format may not be the best available. Installing ffmpeg is strongly recommended: https://github.com/yt-dlp/yt-dlp#dependencies\n"
     ]
    },
    {
     "name": "stdout",
     "output_type": "stream",
     "text": [
      "[youtube] Extracting URL: https://youtube.com/watch?v=h0jZLZa-UQY\n",
      "[youtube] h0jZLZa-UQY: Downloading webpage\n",
      "[youtube] h0jZLZa-UQY: Downloading ios player API JSON\n",
      "[youtube] h0jZLZa-UQY: Downloading web creator player API JSON\n",
      "[youtube] h0jZLZa-UQY: Downloading m3u8 information\n",
      "[info] h0jZLZa-UQY: Downloading subtitles: en\n"
     ]
    },
    {
     "name": "stderr",
     "output_type": "stream",
     "text": [
      "WARNING: ffmpeg not found. The downloaded format may not be the best available. Installing ffmpeg is strongly recommended: https://github.com/yt-dlp/yt-dlp#dependencies\n"
     ]
    },
    {
     "name": "stdout",
     "output_type": "stream",
     "text": [
      "[info] h0jZLZa-UQY: Downloading 1 format(s): 18\n",
      "[info] Writing video subtitles to: data\\en_CNN\\See inside tunnels IDF alleges Hamas used under Khan Younis.en.vtt\n",
      "[download] Destination: data\\en_CNN\\See inside tunnels IDF alleges Hamas used under Khan Younis.en.vtt\n",
      "[download] 100% of   12.04KiB in 00:00:00 at 66.70KiB/s\n",
      "[youtube] Extracting URL: https://youtube.com/watch?v=driPTM5SqUU\n",
      "[youtube] driPTM5SqUU: Downloading webpage\n",
      "[youtube] driPTM5SqUU: Downloading ios player API JSON\n",
      "[youtube] driPTM5SqUU: Downloading web creator player API JSON\n",
      "[youtube] driPTM5SqUU: Downloading m3u8 information\n",
      "[info] driPTM5SqUU: Downloading subtitles: en\n"
     ]
    },
    {
     "name": "stderr",
     "output_type": "stream",
     "text": [
      "WARNING: ffmpeg not found. The downloaded format may not be the best available. Installing ffmpeg is strongly recommended: https://github.com/yt-dlp/yt-dlp#dependencies\n"
     ]
    },
    {
     "name": "stdout",
     "output_type": "stream",
     "text": [
      "[youtube] Extracting URL: https://youtube.com/watch?v=driPTM5SqUU\n",
      "[youtube] driPTM5SqUU: Downloading webpage\n",
      "[youtube] driPTM5SqUU: Downloading ios player API JSON\n",
      "[youtube] driPTM5SqUU: Downloading web creator player API JSON\n",
      "[youtube] driPTM5SqUU: Downloading m3u8 information\n",
      "[info] driPTM5SqUU: Downloading subtitles: en\n"
     ]
    },
    {
     "name": "stderr",
     "output_type": "stream",
     "text": [
      "WARNING: ffmpeg not found. The downloaded format may not be the best available. Installing ffmpeg is strongly recommended: https://github.com/yt-dlp/yt-dlp#dependencies\n"
     ]
    },
    {
     "name": "stdout",
     "output_type": "stream",
     "text": [
      "[info] driPTM5SqUU: Downloading 1 format(s): 18\n",
      "[info] Writing video subtitles to: data\\en_CNN\\One day, Israeli strikes will go 'too far,' expert tells Amanpour.en.vtt\n",
      "[download] Destination: data\\en_CNN\\One day, Israeli strikes will go 'too far,' expert tells Amanpour.en.vtt\n",
      "[download] 100% of   18.33KiB in 00:00:00 at 71.83KiB/s\n",
      "[youtube] Extracting URL: https://youtube.com/watch?v=RfFEkxvAhiE\n",
      "[youtube] RfFEkxvAhiE: Downloading webpage\n",
      "[youtube] RfFEkxvAhiE: Downloading ios player API JSON\n",
      "[youtube] RfFEkxvAhiE: Downloading web creator player API JSON\n",
      "[youtube] RfFEkxvAhiE: Downloading m3u8 information\n",
      "[info] RfFEkxvAhiE: Downloading subtitles: en-uYU-mmqFLq8\n"
     ]
    },
    {
     "name": "stderr",
     "output_type": "stream",
     "text": [
      "WARNING: ffmpeg not found. The downloaded format may not be the best available. Installing ffmpeg is strongly recommended: https://github.com/yt-dlp/yt-dlp#dependencies\n"
     ]
    },
    {
     "name": "stdout",
     "output_type": "stream",
     "text": [
      "[youtube] Extracting URL: https://youtube.com/watch?v=RfFEkxvAhiE\n",
      "[youtube] RfFEkxvAhiE: Downloading webpage\n",
      "[youtube] RfFEkxvAhiE: Downloading ios player API JSON\n",
      "[youtube] RfFEkxvAhiE: Downloading web creator player API JSON\n",
      "[youtube] RfFEkxvAhiE: Downloading m3u8 information\n",
      "[info] RfFEkxvAhiE: Downloading subtitles: en\n"
     ]
    },
    {
     "name": "stderr",
     "output_type": "stream",
     "text": [
      "WARNING: ffmpeg not found. The downloaded format may not be the best available. Installing ffmpeg is strongly recommended: https://github.com/yt-dlp/yt-dlp#dependencies\n"
     ]
    },
    {
     "name": "stdout",
     "output_type": "stream",
     "text": [
      "[info] RfFEkxvAhiE: Downloading 1 format(s): 18\n",
      "[info] Writing video subtitles to: data\\en_CNN\\CNN witnessed first-hand results of Israel's bulldozing of graveyards in Gaza.en.vtt\n",
      "[hlsnative] Downloading m3u8 manifest\n",
      "[hlsnative] Total fragments: 1\n",
      "[download] Destination: data\\en_CNN\\CNN witnessed first-hand results of Israel's bulldozing of graveyards in Gaza.en.vtt\n",
      "[download] 100% of    8.90KiB in 00:00:00 at 41.97KiB/s                \n",
      "[youtube] Extracting URL: https://youtube.com/watch?v=r9c0117-HNc\n",
      "[youtube] r9c0117-HNc: Downloading webpage\n",
      "[youtube] r9c0117-HNc: Downloading ios player API JSON\n",
      "[youtube] r9c0117-HNc: Downloading web creator player API JSON\n",
      "[youtube] r9c0117-HNc: Downloading m3u8 information\n",
      "[info] r9c0117-HNc: Downloading subtitles: en\n"
     ]
    },
    {
     "name": "stderr",
     "output_type": "stream",
     "text": [
      "WARNING: ffmpeg not found. The downloaded format may not be the best available. Installing ffmpeg is strongly recommended: https://github.com/yt-dlp/yt-dlp#dependencies\n"
     ]
    },
    {
     "name": "stdout",
     "output_type": "stream",
     "text": [
      "[youtube] Extracting URL: https://youtube.com/watch?v=r9c0117-HNc\n",
      "[youtube] r9c0117-HNc: Downloading webpage\n",
      "[youtube] r9c0117-HNc: Downloading ios player API JSON\n",
      "[youtube] r9c0117-HNc: Downloading web creator player API JSON\n",
      "[youtube] r9c0117-HNc: Downloading m3u8 information\n",
      "[info] r9c0117-HNc: Downloading subtitles: en\n"
     ]
    },
    {
     "name": "stderr",
     "output_type": "stream",
     "text": [
      "WARNING: ffmpeg not found. The downloaded format may not be the best available. Installing ffmpeg is strongly recommended: https://github.com/yt-dlp/yt-dlp#dependencies\n"
     ]
    },
    {
     "name": "stdout",
     "output_type": "stream",
     "text": [
      "[info] r9c0117-HNc: Downloading 1 format(s): 18\n",
      "[info] Writing video subtitles to: data\\en_CNN\\Alleged leaked Netanyahu audio reveals he might be angry with the US.en.vtt\n",
      "[download] Destination: data\\en_CNN\\Alleged leaked Netanyahu audio reveals he might be angry with the US.en.vtt\n",
      "[download] 100% of    5.54KiB in 00:00:00 at 46.17KiB/s\n",
      "[youtube] Extracting URL: https://youtube.com/watch?v=yetveeYbHXc\n",
      "[youtube] yetveeYbHXc: Downloading webpage\n",
      "[youtube] yetveeYbHXc: Downloading ios player API JSON\n",
      "[youtube] yetveeYbHXc: Downloading web creator player API JSON\n",
      "[youtube] yetveeYbHXc: Downloading m3u8 information\n",
      "[info] yetveeYbHXc: Downloading subtitles: en\n"
     ]
    },
    {
     "name": "stderr",
     "output_type": "stream",
     "text": [
      "WARNING: ffmpeg not found. The downloaded format may not be the best available. Installing ffmpeg is strongly recommended: https://github.com/yt-dlp/yt-dlp#dependencies\n"
     ]
    },
    {
     "name": "stdout",
     "output_type": "stream",
     "text": [
      "[youtube] Extracting URL: https://youtube.com/watch?v=yetveeYbHXc\n",
      "[youtube] yetveeYbHXc: Downloading webpage\n",
      "[youtube] yetveeYbHXc: Downloading ios player API JSON\n",
      "[youtube] yetveeYbHXc: Downloading web creator player API JSON\n",
      "[youtube] yetveeYbHXc: Downloading m3u8 information\n",
      "[info] yetveeYbHXc: Downloading subtitles: en\n"
     ]
    },
    {
     "name": "stderr",
     "output_type": "stream",
     "text": [
      "WARNING: ffmpeg not found. The downloaded format may not be the best available. Installing ffmpeg is strongly recommended: https://github.com/yt-dlp/yt-dlp#dependencies\n"
     ]
    },
    {
     "name": "stdout",
     "output_type": "stream",
     "text": [
      "[info] yetveeYbHXc: Downloading 1 format(s): 18\n",
      "[info] Writing video subtitles to: data\\en_CNN\\Top UN court orders Israel to prevent genocide in Gaza.en.vtt\n",
      "[download] Destination: data\\en_CNN\\Top UN court orders Israel to prevent genocide in Gaza.en.vtt\n",
      "[download] 100% of   19.03KiB in 00:00:00 at 91.73KiB/s\n",
      "[youtube] Extracting URL: https://youtube.com/watch?v=jfAFAnvGKAU\n",
      "[youtube] jfAFAnvGKAU: Downloading webpage\n",
      "[youtube] jfAFAnvGKAU: Downloading ios player API JSON\n",
      "[youtube] jfAFAnvGKAU: This video is age-restricted; some formats may be missing without authentication. Use --cookies-from-browser or --cookies for the authentication. See  https://github.com/yt-dlp/yt-dlp/wiki/FAQ#how-do-i-pass-cookies-to-yt-dlp  for how to manually pass cookies\n",
      "[youtube] jfAFAnvGKAU: Downloading tv embedded player API JSON\n",
      "[youtube] jfAFAnvGKAU: Downloading web creator player API JSON\n",
      "[info] jfAFAnvGKAU: Downloading subtitles: en\n"
     ]
    },
    {
     "name": "stderr",
     "output_type": "stream",
     "text": [
      "WARNING: ffmpeg not found. The downloaded format may not be the best available. Installing ffmpeg is strongly recommended: https://github.com/yt-dlp/yt-dlp#dependencies\n"
     ]
    },
    {
     "name": "stdout",
     "output_type": "stream",
     "text": [
      "[youtube] Extracting URL: https://youtube.com/watch?v=jfAFAnvGKAU\n",
      "[youtube] jfAFAnvGKAU: Downloading webpage\n",
      "[youtube] jfAFAnvGKAU: Downloading ios player API JSON\n",
      "[youtube] jfAFAnvGKAU: This video is age-restricted; some formats may be missing without authentication. Use --cookies-from-browser or --cookies for the authentication. See  https://github.com/yt-dlp/yt-dlp/wiki/FAQ#how-do-i-pass-cookies-to-yt-dlp  for how to manually pass cookies\n",
      "[youtube] jfAFAnvGKAU: Downloading tv embedded player API JSON\n",
      "[youtube] jfAFAnvGKAU: Downloading web creator player API JSON\n",
      "[info] jfAFAnvGKAU: Downloading subtitles: ab-en\n"
     ]
    },
    {
     "name": "stderr",
     "output_type": "stream",
     "text": [
      "WARNING: ffmpeg not found. The downloaded format may not be the best available. Installing ffmpeg is strongly recommended: https://github.com/yt-dlp/yt-dlp#dependencies\n"
     ]
    },
    {
     "name": "stdout",
     "output_type": "stream",
     "text": [
      "[info] jfAFAnvGKAU: Downloading 1 format(s): 18\n",
      "[info] Writing video subtitles to: data\\en_CNN\\Palestinians are being shot while waving white flags. CNN's Clarissa Ward investigates.ab-en.vtt\n",
      "[download] Destination: data\\en_CNN\\Palestinians are being shot while waving white flags. CNN's Clarissa Ward investigates.ab-en.vtt\n",
      "[download] 100% of   12.18KiB in 00:00:00 at 31.12KiB/s\n",
      "[youtube] Extracting URL: https://youtube.com/watch?v=fKoVfMVLk7A\n",
      "[youtube] fKoVfMVLk7A: Downloading webpage\n",
      "[youtube] fKoVfMVLk7A: Downloading ios player API JSON\n",
      "[youtube] fKoVfMVLk7A: Downloading web creator player API JSON\n",
      "[youtube] fKoVfMVLk7A: Downloading m3u8 information\n",
      "[info] fKoVfMVLk7A: Downloading subtitles: en\n"
     ]
    },
    {
     "name": "stderr",
     "output_type": "stream",
     "text": [
      "WARNING: ffmpeg not found. The downloaded format may not be the best available. Installing ffmpeg is strongly recommended: https://github.com/yt-dlp/yt-dlp#dependencies\n"
     ]
    },
    {
     "name": "stdout",
     "output_type": "stream",
     "text": [
      "[youtube] Extracting URL: https://youtube.com/watch?v=fKoVfMVLk7A\n",
      "[youtube] fKoVfMVLk7A: Downloading webpage\n",
      "[youtube] fKoVfMVLk7A: Downloading ios player API JSON\n",
      "[youtube] fKoVfMVLk7A: Downloading web creator player API JSON\n",
      "[youtube] fKoVfMVLk7A: Downloading m3u8 information\n",
      "[info] fKoVfMVLk7A: Downloading subtitles: en\n"
     ]
    },
    {
     "name": "stderr",
     "output_type": "stream",
     "text": [
      "WARNING: ffmpeg not found. The downloaded format may not be the best available. Installing ffmpeg is strongly recommended: https://github.com/yt-dlp/yt-dlp#dependencies\n"
     ]
    },
    {
     "name": "stdout",
     "output_type": "stream",
     "text": [
      "[info] fKoVfMVLk7A: Downloading 1 format(s): 18\n",
      "[info] Writing video subtitles to: data\\en_CNN\\CNN video shows Palestinian detainees blindfolded and barefoot near Gaza border.en.vtt\n",
      "[download] Destination: data\\en_CNN\\CNN video shows Palestinian detainees blindfolded and barefoot near Gaza border.en.vtt\n",
      "[download] 100% of   21.80KiB in 00:00:00 at 109.09KiB/s\n",
      "[youtube] Extracting URL: https://youtube.com/watch?v=pTOK5z3URLQ\n",
      "[youtube] pTOK5z3URLQ: Downloading webpage\n",
      "[youtube] pTOK5z3URLQ: Downloading ios player API JSON\n",
      "[youtube] pTOK5z3URLQ: Downloading web creator player API JSON\n",
      "[youtube] pTOK5z3URLQ: Downloading m3u8 information\n"
     ]
    },
    {
     "name": "stderr",
     "output_type": "stream",
     "text": [
      "WARNING: ffmpeg not found. The downloaded format may not be the best available. Installing ffmpeg is strongly recommended: https://github.com/yt-dlp/yt-dlp#dependencies\n"
     ]
    },
    {
     "name": "stdout",
     "output_type": "stream",
     "text": [
      "subtitle file not found\n",
      "[youtube] Extracting URL: https://youtube.com/watch?v=QkW0Xf3b3LQ\n",
      "[youtube] QkW0Xf3b3LQ: Downloading webpage\n",
      "[youtube] QkW0Xf3b3LQ: Downloading ios player API JSON\n",
      "[youtube] QkW0Xf3b3LQ: Downloading web creator player API JSON\n",
      "[youtube] QkW0Xf3b3LQ: Downloading m3u8 information\n",
      "[info] QkW0Xf3b3LQ: Downloading subtitles: en\n"
     ]
    },
    {
     "name": "stderr",
     "output_type": "stream",
     "text": [
      "WARNING: ffmpeg not found. The downloaded format may not be the best available. Installing ffmpeg is strongly recommended: https://github.com/yt-dlp/yt-dlp#dependencies\n"
     ]
    },
    {
     "name": "stdout",
     "output_type": "stream",
     "text": [
      "[youtube] Extracting URL: https://youtube.com/watch?v=QkW0Xf3b3LQ\n",
      "[youtube] QkW0Xf3b3LQ: Downloading webpage\n",
      "[youtube] QkW0Xf3b3LQ: Downloading ios player API JSON\n",
      "[youtube] QkW0Xf3b3LQ: Downloading web creator player API JSON\n",
      "[youtube] QkW0Xf3b3LQ: Downloading m3u8 information\n",
      "[info] QkW0Xf3b3LQ: Downloading subtitles: en\n"
     ]
    },
    {
     "name": "stderr",
     "output_type": "stream",
     "text": [
      "WARNING: ffmpeg not found. The downloaded format may not be the best available. Installing ffmpeg is strongly recommended: https://github.com/yt-dlp/yt-dlp#dependencies\n"
     ]
    },
    {
     "name": "stdout",
     "output_type": "stream",
     "text": [
      "[info] QkW0Xf3b3LQ: Downloading 1 format(s): 18\n",
      "[info] Writing video subtitles to: data\\en_CNN\\Retired colonel This is the best option to respond to the killing of US troops in drone strike.en.vtt\n",
      "[download] Destination: data\\en_CNN\\Retired colonel This is the best option to respond to the killing of US troops in drone strike.en.vtt\n",
      "[download] 100% of   16.91KiB in 00:00:00 at 63.30KiB/s\n",
      "[youtube] Extracting URL: https://youtube.com/watch?v=34CxzZtVxnE\n",
      "[youtube] 34CxzZtVxnE: Downloading webpage\n",
      "[youtube] 34CxzZtVxnE: Downloading ios player API JSON\n",
      "[youtube] 34CxzZtVxnE: Downloading web creator player API JSON\n",
      "[youtube] 34CxzZtVxnE: Downloading m3u8 information\n",
      "[info] 34CxzZtVxnE: Downloading subtitles: en\n"
     ]
    },
    {
     "name": "stderr",
     "output_type": "stream",
     "text": [
      "WARNING: ffmpeg not found. The downloaded format may not be the best available. Installing ffmpeg is strongly recommended: https://github.com/yt-dlp/yt-dlp#dependencies\n"
     ]
    },
    {
     "name": "stdout",
     "output_type": "stream",
     "text": [
      "[youtube] Extracting URL: https://youtube.com/watch?v=34CxzZtVxnE\n",
      "[youtube] 34CxzZtVxnE: Downloading webpage\n",
      "[youtube] 34CxzZtVxnE: Downloading ios player API JSON\n",
      "[youtube] 34CxzZtVxnE: Downloading web creator player API JSON\n",
      "[youtube] 34CxzZtVxnE: Downloading m3u8 information\n",
      "[info] 34CxzZtVxnE: Downloading subtitles: en\n"
     ]
    },
    {
     "name": "stderr",
     "output_type": "stream",
     "text": [
      "WARNING: ffmpeg not found. The downloaded format may not be the best available. Installing ffmpeg is strongly recommended: https://github.com/yt-dlp/yt-dlp#dependencies\n"
     ]
    },
    {
     "name": "stdout",
     "output_type": "stream",
     "text": [
      "[info] 34CxzZtVxnE: Downloading 1 format(s): 18\n",
      "[info] Writing video subtitles to: data\\en_CNN\\CNN goes into underground tunnel that IDF claims was under Gaza cemetery.en.vtt\n",
      "[download] Destination: data\\en_CNN\\CNN goes into underground tunnel that IDF claims was under Gaza cemetery.en.vtt\n",
      "[download] 100% of    8.04KiB in 00:00:00 at 70.69KiB/s\n",
      "[youtube] Extracting URL: https://youtube.com/watch?v=oj2fBUVFnUU\n",
      "[youtube] oj2fBUVFnUU: Downloading webpage\n",
      "[youtube] oj2fBUVFnUU: Downloading ios player API JSON\n",
      "[youtube] oj2fBUVFnUU: Downloading web creator player API JSON\n",
      "[youtube] oj2fBUVFnUU: Downloading m3u8 information\n",
      "[info] oj2fBUVFnUU: Downloading subtitles: en-uYU-mmqFLq8\n"
     ]
    },
    {
     "name": "stderr",
     "output_type": "stream",
     "text": [
      "WARNING: ffmpeg not found. The downloaded format may not be the best available. Installing ffmpeg is strongly recommended: https://github.com/yt-dlp/yt-dlp#dependencies\n"
     ]
    },
    {
     "name": "stdout",
     "output_type": "stream",
     "text": [
      "[youtube] Extracting URL: https://youtube.com/watch?v=oj2fBUVFnUU\n",
      "[youtube] oj2fBUVFnUU: Downloading webpage\n",
      "[youtube] oj2fBUVFnUU: Downloading ios player API JSON\n",
      "[youtube] oj2fBUVFnUU: Downloading web creator player API JSON\n",
      "[youtube] oj2fBUVFnUU: Downloading m3u8 information\n",
      "[info] oj2fBUVFnUU: Downloading subtitles: en\n"
     ]
    },
    {
     "name": "stderr",
     "output_type": "stream",
     "text": [
      "WARNING: ffmpeg not found. The downloaded format may not be the best available. Installing ffmpeg is strongly recommended: https://github.com/yt-dlp/yt-dlp#dependencies\n"
     ]
    },
    {
     "name": "stdout",
     "output_type": "stream",
     "text": [
      "[info] oj2fBUVFnUU: Downloading 1 format(s): 18\n",
      "[info] Writing video subtitles to: data\\en_CNN\\Family members of Hamas hostages storm into Israeli parliament.en.vtt\n",
      "[hlsnative] Downloading m3u8 manifest\n",
      "[hlsnative] Total fragments: 1\n",
      "[download] Destination: data\\en_CNN\\Family members of Hamas hostages storm into Israeli parliament.en.vtt\n",
      "[download] 100% of   45.31KiB in 00:00:00 at 224.90KiB/s               \n",
      "[youtube] Extracting URL: https://youtube.com/watch?v=2pgFrmNgjUo\n",
      "[youtube] 2pgFrmNgjUo: Downloading webpage\n",
      "[youtube] 2pgFrmNgjUo: Downloading ios player API JSON\n",
      "[youtube] 2pgFrmNgjUo: This video is age-restricted; some formats may be missing without authentication. Use --cookies-from-browser or --cookies for the authentication. See  https://github.com/yt-dlp/yt-dlp/wiki/FAQ#how-do-i-pass-cookies-to-yt-dlp  for how to manually pass cookies\n",
      "[youtube] 2pgFrmNgjUo: Downloading tv embedded player API JSON\n",
      "[youtube] 2pgFrmNgjUo: Downloading web creator player API JSON\n",
      "[info] 2pgFrmNgjUo: Downloading subtitles: en-uYU-mmqFLq8\n"
     ]
    },
    {
     "name": "stderr",
     "output_type": "stream",
     "text": [
      "WARNING: ffmpeg not found. The downloaded format may not be the best available. Installing ffmpeg is strongly recommended: https://github.com/yt-dlp/yt-dlp#dependencies\n"
     ]
    },
    {
     "name": "stdout",
     "output_type": "stream",
     "text": [
      "[youtube] Extracting URL: https://youtube.com/watch?v=2pgFrmNgjUo\n",
      "[youtube] 2pgFrmNgjUo: Downloading webpage\n",
      "[youtube] 2pgFrmNgjUo: Downloading ios player API JSON\n",
      "[youtube] 2pgFrmNgjUo: This video is age-restricted; some formats may be missing without authentication. Use --cookies-from-browser or --cookies for the authentication. See  https://github.com/yt-dlp/yt-dlp/wiki/FAQ#how-do-i-pass-cookies-to-yt-dlp  for how to manually pass cookies\n",
      "[youtube] 2pgFrmNgjUo: Downloading tv embedded player API JSON\n",
      "[youtube] 2pgFrmNgjUo: Downloading web creator player API JSON\n",
      "[info] 2pgFrmNgjUo: Downloading subtitles: ab-en-uYU-mmqFLq8\n"
     ]
    },
    {
     "name": "stderr",
     "output_type": "stream",
     "text": [
      "WARNING: ffmpeg not found. The downloaded format may not be the best available. Installing ffmpeg is strongly recommended: https://github.com/yt-dlp/yt-dlp#dependencies\n"
     ]
    },
    {
     "name": "stdout",
     "output_type": "stream",
     "text": [
      "[info] 2pgFrmNgjUo: Downloading 1 format(s): 18\n",
      "[info] Writing video subtitles to: data\\en_CNN\\'A bird in heaven' Grandfather cradles 7-year-old granddaughter killed in southern Gaza.ab-en-uYU-mmqFLq8.vtt\n",
      "[download] Destination: data\\en_CNN\\'A bird in heaven' Grandfather cradles 7-year-old granddaughter killed in southern Gaza.ab-en-uYU-mmqFLq8.vtt\n",
      "[download] 100% of   20.60KiB in 00:00:00 at 40.23KiB/s\n",
      "[youtube] Extracting URL: https://youtube.com/watch?v=4cb4puEKc1c\n",
      "[youtube] 4cb4puEKc1c: Downloading webpage\n",
      "[youtube] 4cb4puEKc1c: Downloading ios player API JSON\n",
      "[youtube] 4cb4puEKc1c: This video is age-restricted; some formats may be missing without authentication. Use --cookies-from-browser or --cookies for the authentication. See  https://github.com/yt-dlp/yt-dlp/wiki/FAQ#how-do-i-pass-cookies-to-yt-dlp  for how to manually pass cookies\n",
      "[youtube] 4cb4puEKc1c: Downloading tv embedded player API JSON\n",
      "[youtube] 4cb4puEKc1c: Downloading web creator player API JSON\n",
      "[info] 4cb4puEKc1c: Downloading subtitles: en\n"
     ]
    },
    {
     "name": "stderr",
     "output_type": "stream",
     "text": [
      "WARNING: ffmpeg not found. The downloaded format may not be the best available. Installing ffmpeg is strongly recommended: https://github.com/yt-dlp/yt-dlp#dependencies\n"
     ]
    },
    {
     "name": "stdout",
     "output_type": "stream",
     "text": [
      "[youtube] Extracting URL: https://youtube.com/watch?v=4cb4puEKc1c\n",
      "[youtube] 4cb4puEKc1c: Downloading webpage\n",
      "[youtube] 4cb4puEKc1c: Downloading ios player API JSON\n",
      "[youtube] 4cb4puEKc1c: This video is age-restricted; some formats may be missing without authentication. Use --cookies-from-browser or --cookies for the authentication. See  https://github.com/yt-dlp/yt-dlp/wiki/FAQ#how-do-i-pass-cookies-to-yt-dlp  for how to manually pass cookies\n",
      "[youtube] 4cb4puEKc1c: Downloading tv embedded player API JSON\n",
      "[youtube] 4cb4puEKc1c: Downloading web creator player API JSON\n",
      "[info] 4cb4puEKc1c: Downloading subtitles: ab-en\n"
     ]
    },
    {
     "name": "stderr",
     "output_type": "stream",
     "text": [
      "WARNING: ffmpeg not found. The downloaded format may not be the best available. Installing ffmpeg is strongly recommended: https://github.com/yt-dlp/yt-dlp#dependencies\n"
     ]
    },
    {
     "name": "stdout",
     "output_type": "stream",
     "text": [
      "[info] 4cb4puEKc1c: Downloading 1 format(s): 18\n",
      "[info] Writing video subtitles to: data\\en_CNN\\Israeli forces capture two hostages as strikes kill dozens of Palestinians.ab-en.vtt\n",
      "[download] Destination: data\\en_CNN\\Israeli forces capture two hostages as strikes kill dozens of Palestinians.ab-en.vtt\n",
      "[download] 100% of   14.79KiB in 00:00:00 at 40.21KiB/s\n",
      "[youtube] Extracting URL: https://youtube.com/watch?v=1D3uQbiE8No\n",
      "[youtube] 1D3uQbiE8No: Downloading webpage\n",
      "[youtube] 1D3uQbiE8No: Downloading ios player API JSON\n",
      "[youtube] 1D3uQbiE8No: Downloading web creator player API JSON\n",
      "[youtube] 1D3uQbiE8No: Downloading m3u8 information\n",
      "[info] 1D3uQbiE8No: Downloading subtitles: en\n"
     ]
    },
    {
     "name": "stderr",
     "output_type": "stream",
     "text": [
      "WARNING: ffmpeg not found. The downloaded format may not be the best available. Installing ffmpeg is strongly recommended: https://github.com/yt-dlp/yt-dlp#dependencies\n"
     ]
    },
    {
     "name": "stdout",
     "output_type": "stream",
     "text": [
      "[youtube] Extracting URL: https://youtube.com/watch?v=1D3uQbiE8No\n",
      "[youtube] 1D3uQbiE8No: Downloading webpage\n",
      "[youtube] 1D3uQbiE8No: Downloading ios player API JSON\n",
      "[youtube] 1D3uQbiE8No: Downloading web creator player API JSON\n",
      "[youtube] 1D3uQbiE8No: Downloading m3u8 information\n",
      "[info] 1D3uQbiE8No: Downloading subtitles: en\n"
     ]
    },
    {
     "name": "stderr",
     "output_type": "stream",
     "text": [
      "WARNING: ffmpeg not found. The downloaded format may not be the best available. Installing ffmpeg is strongly recommended: https://github.com/yt-dlp/yt-dlp#dependencies\n"
     ]
    },
    {
     "name": "stdout",
     "output_type": "stream",
     "text": [
      "[info] 1D3uQbiE8No: Downloading 1 format(s): 18\n",
      "[info] Writing video subtitles to: data\\en_CNN\\Israeli soldier records himself blowing up a mosque.en.vtt\n",
      "[download] Destination: data\\en_CNN\\Israeli soldier records himself blowing up a mosque.en.vtt\n",
      "[download] 100% of    7.74KiB in 00:00:00 at 64.29KiB/s\n",
      "[youtube] Extracting URL: https://youtube.com/watch?v=4bk68dV3rB8\n",
      "[youtube] 4bk68dV3rB8: Downloading webpage\n",
      "[youtube] 4bk68dV3rB8: Downloading ios player API JSON\n",
      "[youtube] 4bk68dV3rB8: Downloading web creator player API JSON\n",
      "[youtube] 4bk68dV3rB8: Downloading m3u8 information\n",
      "[info] 4bk68dV3rB8: Downloading subtitles: en\n"
     ]
    },
    {
     "name": "stderr",
     "output_type": "stream",
     "text": [
      "WARNING: ffmpeg not found. The downloaded format may not be the best available. Installing ffmpeg is strongly recommended: https://github.com/yt-dlp/yt-dlp#dependencies\n"
     ]
    },
    {
     "name": "stdout",
     "output_type": "stream",
     "text": [
      "[youtube] Extracting URL: https://youtube.com/watch?v=4bk68dV3rB8\n",
      "[youtube] 4bk68dV3rB8: Downloading webpage\n",
      "[youtube] 4bk68dV3rB8: Downloading ios player API JSON\n",
      "[youtube] 4bk68dV3rB8: Downloading web creator player API JSON\n",
      "[youtube] 4bk68dV3rB8: Downloading m3u8 information\n",
      "[info] 4bk68dV3rB8: Downloading subtitles: en\n"
     ]
    },
    {
     "name": "stderr",
     "output_type": "stream",
     "text": [
      "WARNING: ffmpeg not found. The downloaded format may not be the best available. Installing ffmpeg is strongly recommended: https://github.com/yt-dlp/yt-dlp#dependencies\n"
     ]
    },
    {
     "name": "stdout",
     "output_type": "stream",
     "text": [
      "[info] 4bk68dV3rB8: Downloading 1 format(s): 18\n",
      "[info] Writing video subtitles to: data\\en_CNN\\Netanyahu unveils plan for Gaza’s future post-Hamas.en.vtt\n",
      "[download] Destination: data\\en_CNN\\Netanyahu unveils plan for Gaza’s future post-Hamas.en.vtt\n",
      "[download] 100% of   15.47KiB in 00:00:00 at 85.33KiB/s\n",
      "[youtube] Extracting URL: https://youtube.com/watch?v=8DadIzZa_M8\n",
      "[youtube] 8DadIzZa_M8: Downloading webpage\n",
      "[youtube] 8DadIzZa_M8: Downloading ios player API JSON\n",
      "[youtube] 8DadIzZa_M8: Downloading web creator player API JSON\n",
      "[youtube] 8DadIzZa_M8: Downloading m3u8 information\n",
      "[info] 8DadIzZa_M8: Downloading subtitles: en\n"
     ]
    },
    {
     "name": "stderr",
     "output_type": "stream",
     "text": [
      "WARNING: ffmpeg not found. The downloaded format may not be the best available. Installing ffmpeg is strongly recommended: https://github.com/yt-dlp/yt-dlp#dependencies\n"
     ]
    },
    {
     "name": "stdout",
     "output_type": "stream",
     "text": [
      "[youtube] Extracting URL: https://youtube.com/watch?v=8DadIzZa_M8\n",
      "[youtube] 8DadIzZa_M8: Downloading webpage\n",
      "[youtube] 8DadIzZa_M8: Downloading ios player API JSON\n",
      "[youtube] 8DadIzZa_M8: Downloading web creator player API JSON\n",
      "[youtube] 8DadIzZa_M8: Downloading m3u8 information\n",
      "[info] 8DadIzZa_M8: Downloading subtitles: en\n"
     ]
    },
    {
     "name": "stderr",
     "output_type": "stream",
     "text": [
      "WARNING: ffmpeg not found. The downloaded format may not be the best available. Installing ffmpeg is strongly recommended: https://github.com/yt-dlp/yt-dlp#dependencies\n"
     ]
    },
    {
     "name": "stdout",
     "output_type": "stream",
     "text": [
      "[info] 8DadIzZa_M8: Downloading 1 format(s): 18\n",
      "[info] Writing video subtitles to: data\\en_CNN\\Palestinian prime minister and government resign.en.vtt\n",
      "[download] Destination: data\\en_CNN\\Palestinian prime minister and government resign.en.vtt\n",
      "[download] 100% of   19.03KiB in 00:00:00 at 90.17KiB/s\n",
      "[youtube] Extracting URL: https://youtube.com/watch?v=QT5-gNOUhCQ\n",
      "[youtube] QT5-gNOUhCQ: Downloading webpage\n",
      "[youtube] QT5-gNOUhCQ: Downloading ios player API JSON\n",
      "[youtube] QT5-gNOUhCQ: Downloading web creator player API JSON\n",
      "[youtube] QT5-gNOUhCQ: Downloading m3u8 information\n",
      "[info] QT5-gNOUhCQ: Downloading subtitles: en\n"
     ]
    },
    {
     "name": "stderr",
     "output_type": "stream",
     "text": [
      "WARNING: ffmpeg not found. The downloaded format may not be the best available. Installing ffmpeg is strongly recommended: https://github.com/yt-dlp/yt-dlp#dependencies\n"
     ]
    },
    {
     "name": "stdout",
     "output_type": "stream",
     "text": [
      "[youtube] Extracting URL: https://youtube.com/watch?v=QT5-gNOUhCQ\n",
      "[youtube] QT5-gNOUhCQ: Downloading webpage\n",
      "[youtube] QT5-gNOUhCQ: Downloading ios player API JSON\n",
      "[youtube] QT5-gNOUhCQ: Downloading web creator player API JSON\n",
      "[youtube] QT5-gNOUhCQ: Downloading m3u8 information\n",
      "[info] QT5-gNOUhCQ: Downloading subtitles: en\n"
     ]
    },
    {
     "name": "stderr",
     "output_type": "stream",
     "text": [
      "WARNING: ffmpeg not found. The downloaded format may not be the best available. Installing ffmpeg is strongly recommended: https://github.com/yt-dlp/yt-dlp#dependencies\n"
     ]
    },
    {
     "name": "stdout",
     "output_type": "stream",
     "text": [
      "[info] QT5-gNOUhCQ: Downloading 1 format(s): 18\n",
      "[info] Writing video subtitles to: data\\en_CNN\\Fareed's Take The scope of the Israel-Hamas war is widening.en.vtt\n",
      "[download] Destination: data\\en_CNN\\Fareed's Take The scope of the Israel-Hamas war is widening.en.vtt\n",
      "[download] 100% of   10.65KiB in 00:00:00 at 85.14KiB/s\n",
      "[youtube] Extracting URL: https://youtube.com/watch?v=NogCQigahr8\n",
      "[youtube] NogCQigahr8: Downloading webpage\n",
      "[youtube] NogCQigahr8: Downloading ios player API JSON\n",
      "[youtube] NogCQigahr8: Downloading web creator player API JSON\n",
      "[youtube] NogCQigahr8: Downloading m3u8 information\n"
     ]
    },
    {
     "name": "stderr",
     "output_type": "stream",
     "text": [
      "WARNING: ffmpeg not found. The downloaded format may not be the best available. Installing ffmpeg is strongly recommended: https://github.com/yt-dlp/yt-dlp#dependencies\n"
     ]
    },
    {
     "name": "stdout",
     "output_type": "stream",
     "text": [
      "subtitle file not found\n",
      "[youtube] Extracting URL: https://youtube.com/watch?v=HnIOmUxNxAg\n",
      "[youtube] HnIOmUxNxAg: Downloading webpage\n",
      "[youtube] HnIOmUxNxAg: Downloading ios player API JSON\n",
      "[youtube] HnIOmUxNxAg: Downloading web creator player API JSON\n",
      "[youtube] HnIOmUxNxAg: Downloading m3u8 information\n",
      "[info] HnIOmUxNxAg: Downloading subtitles: en\n"
     ]
    },
    {
     "name": "stderr",
     "output_type": "stream",
     "text": [
      "WARNING: ffmpeg not found. The downloaded format may not be the best available. Installing ffmpeg is strongly recommended: https://github.com/yt-dlp/yt-dlp#dependencies\n"
     ]
    },
    {
     "name": "stdout",
     "output_type": "stream",
     "text": [
      "[youtube] Extracting URL: https://youtube.com/watch?v=HnIOmUxNxAg\n",
      "[youtube] HnIOmUxNxAg: Downloading webpage\n",
      "[youtube] HnIOmUxNxAg: Downloading ios player API JSON\n",
      "[youtube] HnIOmUxNxAg: Downloading web creator player API JSON\n",
      "[youtube] HnIOmUxNxAg: Downloading m3u8 information\n",
      "[info] HnIOmUxNxAg: Downloading subtitles: en\n"
     ]
    },
    {
     "name": "stderr",
     "output_type": "stream",
     "text": [
      "WARNING: ffmpeg not found. The downloaded format may not be the best available. Installing ffmpeg is strongly recommended: https://github.com/yt-dlp/yt-dlp#dependencies\n"
     ]
    },
    {
     "name": "stdout",
     "output_type": "stream",
     "text": [
      "[info] HnIOmUxNxAg: Downloading 1 format(s): 18\n",
      "[info] Writing video subtitles to: data\\en_CNN\\Jon Stewart calls out US on Gaza stance. Hear his take.en.vtt\n",
      "[download] Destination: data\\en_CNN\\Jon Stewart calls out US on Gaza stance. Hear his take.en.vtt\n",
      "[download] 100% of    7.94KiB in 00:00:00 at 54.98KiB/s\n",
      "[youtube] Extracting URL: https://youtube.com/watch?v=TwTfedTjXOA\n",
      "[youtube] TwTfedTjXOA: Downloading webpage\n",
      "[youtube] TwTfedTjXOA: Downloading ios player API JSON\n",
      "[youtube] TwTfedTjXOA: Downloading web creator player API JSON\n",
      "[youtube] TwTfedTjXOA: Downloading m3u8 information\n",
      "[info] TwTfedTjXOA: Downloading subtitles: en\n"
     ]
    },
    {
     "name": "stderr",
     "output_type": "stream",
     "text": [
      "WARNING: ffmpeg not found. The downloaded format may not be the best available. Installing ffmpeg is strongly recommended: https://github.com/yt-dlp/yt-dlp#dependencies\n"
     ]
    },
    {
     "name": "stdout",
     "output_type": "stream",
     "text": [
      "[youtube] Extracting URL: https://youtube.com/watch?v=TwTfedTjXOA\n",
      "[youtube] TwTfedTjXOA: Downloading webpage\n",
      "[youtube] TwTfedTjXOA: Downloading ios player API JSON\n",
      "[youtube] TwTfedTjXOA: Downloading web creator player API JSON\n",
      "[youtube] TwTfedTjXOA: Downloading m3u8 information\n",
      "[info] TwTfedTjXOA: Downloading subtitles: en\n"
     ]
    },
    {
     "name": "stderr",
     "output_type": "stream",
     "text": [
      "WARNING: ffmpeg not found. The downloaded format may not be the best available. Installing ffmpeg is strongly recommended: https://github.com/yt-dlp/yt-dlp#dependencies\n"
     ]
    },
    {
     "name": "stdout",
     "output_type": "stream",
     "text": [
      "[info] TwTfedTjXOA: Downloading 1 format(s): 18\n",
      "[info] Writing video subtitles to: data\\en_CNN\\Video shows Palestinians fighting to get hold of ration packs.en.vtt\n",
      "[download] Destination: data\\en_CNN\\Video shows Palestinians fighting to get hold of ration packs.en.vtt\n",
      "[download] 100% of   17.05KiB in 00:00:00 at 96.77KiB/s\n",
      "[youtube] Extracting URL: https://youtube.com/watch?v=ywOzeZl7uIU\n",
      "[youtube] ywOzeZl7uIU: Downloading webpage\n",
      "[youtube] ywOzeZl7uIU: Downloading ios player API JSON\n",
      "[youtube] ywOzeZl7uIU: Downloading web creator player API JSON\n",
      "[youtube] ywOzeZl7uIU: Downloading m3u8 information\n",
      "[info] ywOzeZl7uIU: Downloading subtitles: en-uYU-mmqFLq8\n"
     ]
    },
    {
     "name": "stderr",
     "output_type": "stream",
     "text": [
      "WARNING: ffmpeg not found. The downloaded format may not be the best available. Installing ffmpeg is strongly recommended: https://github.com/yt-dlp/yt-dlp#dependencies\n"
     ]
    },
    {
     "name": "stdout",
     "output_type": "stream",
     "text": [
      "[youtube] Extracting URL: https://youtube.com/watch?v=ywOzeZl7uIU\n",
      "[youtube] ywOzeZl7uIU: Downloading webpage\n",
      "[youtube] ywOzeZl7uIU: Downloading ios player API JSON\n",
      "[youtube] ywOzeZl7uIU: Downloading web creator player API JSON\n",
      "[youtube] ywOzeZl7uIU: Downloading m3u8 information\n",
      "[info] ywOzeZl7uIU: Downloading subtitles: en\n"
     ]
    },
    {
     "name": "stderr",
     "output_type": "stream",
     "text": [
      "WARNING: ffmpeg not found. The downloaded format may not be the best available. Installing ffmpeg is strongly recommended: https://github.com/yt-dlp/yt-dlp#dependencies\n"
     ]
    },
    {
     "name": "stdout",
     "output_type": "stream",
     "text": [
      "[info] ywOzeZl7uIU: Downloading 1 format(s): 18\n",
      "[info] Writing video subtitles to: data\\en_CNN\\104 civilians killed trying to access food aid trucks in Gaza, Palestinian health ministry says.en.vtt\n",
      "[hlsnative] Downloading m3u8 manifest\n",
      "[hlsnative] Total fragments: 1\n",
      "[download] Destination: data\\en_CNN\\104 civilians killed trying to access food aid trucks in Gaza, Palestinian health ministry says.en.vtt\n",
      "[download] 100% of    7.78KiB in 00:00:00 at 41.71KiB/s                \n",
      "[youtube] Extracting URL: https://youtube.com/watch?v=mRrAnvDhuI4\n",
      "[youtube] mRrAnvDhuI4: Downloading webpage\n",
      "[youtube] mRrAnvDhuI4: Downloading ios player API JSON\n",
      "[youtube] mRrAnvDhuI4: This video is age-restricted; some formats may be missing without authentication. Use --cookies-from-browser or --cookies for the authentication. See  https://github.com/yt-dlp/yt-dlp/wiki/FAQ#how-do-i-pass-cookies-to-yt-dlp  for how to manually pass cookies\n",
      "[youtube] mRrAnvDhuI4: Downloading tv embedded player API JSON\n",
      "[youtube] mRrAnvDhuI4: Downloading web creator player API JSON\n",
      "[info] mRrAnvDhuI4: Downloading subtitles: en\n"
     ]
    },
    {
     "name": "stderr",
     "output_type": "stream",
     "text": [
      "WARNING: ffmpeg not found. The downloaded format may not be the best available. Installing ffmpeg is strongly recommended: https://github.com/yt-dlp/yt-dlp#dependencies\n"
     ]
    },
    {
     "name": "stdout",
     "output_type": "stream",
     "text": [
      "[youtube] Extracting URL: https://youtube.com/watch?v=mRrAnvDhuI4\n",
      "[youtube] mRrAnvDhuI4: Downloading webpage\n",
      "[youtube] mRrAnvDhuI4: Downloading ios player API JSON\n",
      "[youtube] mRrAnvDhuI4: This video is age-restricted; some formats may be missing without authentication. Use --cookies-from-browser or --cookies for the authentication. See  https://github.com/yt-dlp/yt-dlp/wiki/FAQ#how-do-i-pass-cookies-to-yt-dlp  for how to manually pass cookies\n",
      "[youtube] mRrAnvDhuI4: Downloading tv embedded player API JSON\n",
      "[youtube] mRrAnvDhuI4: Downloading web creator player API JSON\n",
      "[info] mRrAnvDhuI4: Downloading subtitles: ab-en\n"
     ]
    },
    {
     "name": "stderr",
     "output_type": "stream",
     "text": [
      "WARNING: ffmpeg not found. The downloaded format may not be the best available. Installing ffmpeg is strongly recommended: https://github.com/yt-dlp/yt-dlp#dependencies\n"
     ]
    },
    {
     "name": "stdout",
     "output_type": "stream",
     "text": [
      "[info] mRrAnvDhuI4: Downloading 1 format(s): 18\n",
      "[info] Writing video subtitles to: data\\en_CNN\\CNN presses IDF spokesperson on firing at civilians seeking aid.ab-en.vtt\n",
      "[download] Destination: data\\en_CNN\\CNN presses IDF spokesperson on firing at civilians seeking aid.ab-en.vtt\n",
      "[download] 100% of   26.39KiB in 00:00:00 at 75.39KiB/s\n",
      "[youtube] Extracting URL: https://youtube.com/watch?v=dszS9Nl5Cps\n",
      "[youtube] dszS9Nl5Cps: Downloading webpage\n",
      "[youtube] dszS9Nl5Cps: Downloading ios player API JSON\n",
      "[youtube] dszS9Nl5Cps: Downloading web creator player API JSON\n",
      "[youtube] dszS9Nl5Cps: Downloading m3u8 information\n",
      "[info] dszS9Nl5Cps: Downloading subtitles: en-uYU-mmqFLq8\n"
     ]
    },
    {
     "name": "stderr",
     "output_type": "stream",
     "text": [
      "WARNING: ffmpeg not found. The downloaded format may not be the best available. Installing ffmpeg is strongly recommended: https://github.com/yt-dlp/yt-dlp#dependencies\n"
     ]
    },
    {
     "name": "stdout",
     "output_type": "stream",
     "text": [
      "[youtube] Extracting URL: https://youtube.com/watch?v=dszS9Nl5Cps\n",
      "[youtube] dszS9Nl5Cps: Downloading webpage\n",
      "[youtube] dszS9Nl5Cps: Downloading ios player API JSON\n",
      "[youtube] dszS9Nl5Cps: Downloading web creator player API JSON\n",
      "[youtube] dszS9Nl5Cps: Downloading m3u8 information\n",
      "[info] dszS9Nl5Cps: Downloading subtitles: en\n"
     ]
    },
    {
     "name": "stderr",
     "output_type": "stream",
     "text": [
      "WARNING: ffmpeg not found. The downloaded format may not be the best available. Installing ffmpeg is strongly recommended: https://github.com/yt-dlp/yt-dlp#dependencies\n"
     ]
    },
    {
     "name": "stdout",
     "output_type": "stream",
     "text": [
      "[info] dszS9Nl5Cps: Downloading 1 format(s): 18\n",
      "[info] Writing video subtitles to: data\\en_CNN\\Bernie Sanders US should not give Netanyahu 'another nickel'.en.vtt\n",
      "[hlsnative] Downloading m3u8 manifest\n",
      "[hlsnative] Total fragments: 1\n",
      "[download] Destination: data\\en_CNN\\Bernie Sanders US should not give Netanyahu 'another nickel'.en.vtt\n",
      "[download] 100% of    5.40KiB in 00:00:00 at 19.97KiB/s                \n",
      "[youtube] Extracting URL: https://youtube.com/watch?v=RlCaxFjxab4\n",
      "[youtube] RlCaxFjxab4: Downloading webpage\n",
      "[youtube] RlCaxFjxab4: Downloading ios player API JSON\n",
      "[youtube] RlCaxFjxab4: This video is age-restricted; some formats may be missing without authentication. Use --cookies-from-browser or --cookies for the authentication. See  https://github.com/yt-dlp/yt-dlp/wiki/FAQ#how-do-i-pass-cookies-to-yt-dlp  for how to manually pass cookies\n",
      "[youtube] RlCaxFjxab4: Downloading tv embedded player API JSON\n",
      "[youtube] RlCaxFjxab4: Downloading web creator player API JSON\n"
     ]
    },
    {
     "name": "stderr",
     "output_type": "stream",
     "text": [
      "ERROR: [youtube] RlCaxFjxab4: Sign in to confirm your age. This video may be inappropriate for some users.\n"
     ]
    },
    {
     "name": "stdout",
     "output_type": "stream",
     "text": [
      "Failed to download video info for https://youtube.com/watch?v=RlCaxFjxab4: ERROR: [youtube] RlCaxFjxab4: Sign in to confirm your age. This video may be inappropriate for some users.\n",
      "[youtube] Extracting URL: https://youtube.com/watch?v=nbk4KgOaRic\n",
      "[youtube] nbk4KgOaRic: Downloading webpage\n",
      "[youtube] nbk4KgOaRic: Downloading ios player API JSON\n",
      "[youtube] nbk4KgOaRic: Downloading web creator player API JSON\n"
     ]
    },
    {
     "name": "stderr",
     "output_type": "stream",
     "text": [
      "ERROR: [youtube] nbk4KgOaRic: Sign in to confirm you’re not a bot. This helps protect our community. Learn more\n"
     ]
    },
    {
     "name": "stdout",
     "output_type": "stream",
     "text": [
      "Error: ERROR: [youtube] nbk4KgOaRic: Sign in to confirm you’re not a bot. This helps protect our community. Learn more. Retrying in 180 seconds... (Attempt 1/3)\n",
      "[youtube] Extracting URL: https://youtube.com/watch?v=nbk4KgOaRic\n",
      "[youtube] nbk4KgOaRic: Downloading webpage\n",
      "[youtube] nbk4KgOaRic: Downloading ios player API JSON\n",
      "[youtube] nbk4KgOaRic: Downloading web creator player API JSON\n",
      "[info] nbk4KgOaRic: Downloading subtitles: en\n"
     ]
    },
    {
     "name": "stderr",
     "output_type": "stream",
     "text": [
      "WARNING: ffmpeg not found. The downloaded format may not be the best available. Installing ffmpeg is strongly recommended: https://github.com/yt-dlp/yt-dlp#dependencies\n"
     ]
    },
    {
     "name": "stdout",
     "output_type": "stream",
     "text": [
      "[youtube] Extracting URL: https://youtube.com/watch?v=nbk4KgOaRic\n",
      "[youtube] nbk4KgOaRic: Downloading webpage\n",
      "[youtube] nbk4KgOaRic: Downloading ios player API JSON\n",
      "[youtube] nbk4KgOaRic: Downloading web creator player API JSON\n",
      "[youtube] nbk4KgOaRic: Downloading m3u8 information\n",
      "[info] nbk4KgOaRic: Downloading subtitles: ab-en\n"
     ]
    },
    {
     "name": "stderr",
     "output_type": "stream",
     "text": [
      "WARNING: ffmpeg not found. The downloaded format may not be the best available. Installing ffmpeg is strongly recommended: https://github.com/yt-dlp/yt-dlp#dependencies\n"
     ]
    },
    {
     "name": "stdout",
     "output_type": "stream",
     "text": [
      "[info] nbk4KgOaRic: Downloading 1 format(s): 18\n",
      "[info] Writing video subtitles to: data\\en_CNN\\Hostilities escalate between Israel and Hezbollah.ab-en.vtt\n",
      "[download] Destination: data\\en_CNN\\Hostilities escalate between Israel and Hezbollah.ab-en.vtt\n",
      "[download] 100% of   23.31KiB in 00:00:00 at 54.46KiB/s\n",
      "[youtube] Extracting URL: https://youtube.com/watch?v=s4ijjWU9kOs\n",
      "[youtube] s4ijjWU9kOs: Downloading webpage\n",
      "[youtube] s4ijjWU9kOs: Downloading ios player API JSON\n",
      "[youtube] s4ijjWU9kOs: Downloading web creator player API JSON\n"
     ]
    },
    {
     "name": "stderr",
     "output_type": "stream",
     "text": [
      "ERROR: [youtube] s4ijjWU9kOs: Sign in to confirm you’re not a bot. This helps protect our community. Learn more\n"
     ]
    },
    {
     "name": "stdout",
     "output_type": "stream",
     "text": [
      "Error: ERROR: [youtube] s4ijjWU9kOs: Sign in to confirm you’re not a bot. This helps protect our community. Learn more. Retrying in 180 seconds... (Attempt 1/3)\n",
      "[youtube] Extracting URL: https://youtube.com/watch?v=s4ijjWU9kOs\n",
      "[youtube] s4ijjWU9kOs: Downloading webpage\n",
      "[youtube] s4ijjWU9kOs: Downloading ios player API JSON\n",
      "[youtube] s4ijjWU9kOs: Downloading web creator player API JSON\n"
     ]
    },
    {
     "name": "stderr",
     "output_type": "stream",
     "text": [
      "ERROR: [youtube] s4ijjWU9kOs: Sign in to confirm you’re not a bot. This helps protect our community. Learn more\n"
     ]
    },
    {
     "name": "stdout",
     "output_type": "stream",
     "text": [
      "Error: ERROR: [youtube] s4ijjWU9kOs: Sign in to confirm you’re not a bot. This helps protect our community. Learn more. Retrying in 180 seconds... (Attempt 2/3)\n",
      "[youtube] Extracting URL: https://youtube.com/watch?v=s4ijjWU9kOs\n",
      "[youtube] s4ijjWU9kOs: Downloading webpage\n",
      "[youtube] s4ijjWU9kOs: Downloading ios player API JSON\n",
      "[youtube] s4ijjWU9kOs: Downloading web creator player API JSON\n"
     ]
    },
    {
     "name": "stderr",
     "output_type": "stream",
     "text": [
      "WARNING: ffmpeg not found. The downloaded format may not be the best available. Installing ffmpeg is strongly recommended: https://github.com/yt-dlp/yt-dlp#dependencies\n"
     ]
    },
    {
     "name": "stdout",
     "output_type": "stream",
     "text": [
      "subtitle file not found\n",
      "[youtube] Extracting URL: https://youtube.com/watch?v=aEMZU2isSu4\n",
      "[youtube] aEMZU2isSu4: Downloading webpage\n",
      "[youtube] aEMZU2isSu4: Downloading ios player API JSON\n",
      "[youtube] aEMZU2isSu4: Downloading web creator player API JSON\n",
      "[youtube] aEMZU2isSu4: Downloading m3u8 information\n",
      "[info] aEMZU2isSu4: Downloading subtitles: en\n",
      "[youtube] Extracting URL: https://youtube.com/watch?v=aEMZU2isSu4\n",
      "[youtube] aEMZU2isSu4: Downloading webpage\n",
      "[youtube] aEMZU2isSu4: Downloading ios player API JSON\n",
      "[youtube] aEMZU2isSu4: Downloading web creator player API JSON\n"
     ]
    },
    {
     "name": "stderr",
     "output_type": "stream",
     "text": [
      "ERROR: [youtube] aEMZU2isSu4: Sign in to confirm you’re not a bot. This helps protect our community. Learn more\n"
     ]
    },
    {
     "name": "stdout",
     "output_type": "stream",
     "text": [
      "Error downloading subtitles for Retired colonel says this move could be a sign of a rift between US-Israel relations: ERROR: [youtube] aEMZU2isSu4: Sign in to confirm you’re not a bot. This helps protect our community. Learn more\n",
      "subtitle file not found\n",
      "[youtube] Extracting URL: https://youtube.com/watch?v=jsxI0QjxJs8\n",
      "[youtube] jsxI0QjxJs8: Downloading webpage\n",
      "[youtube] jsxI0QjxJs8: Downloading ios player API JSON\n",
      "[youtube] jsxI0QjxJs8: Downloading web creator player API JSON\n",
      "[youtube] jsxI0QjxJs8: Downloading m3u8 information\n",
      "[info] jsxI0QjxJs8: Downloading subtitles: en\n",
      "[youtube] Extracting URL: https://youtube.com/watch?v=jsxI0QjxJs8\n",
      "[youtube] jsxI0QjxJs8: Downloading webpage\n",
      "[youtube] jsxI0QjxJs8: Downloading ios player API JSON\n",
      "[youtube] jsxI0QjxJs8: Downloading web creator player API JSON\n"
     ]
    },
    {
     "name": "stderr",
     "output_type": "stream",
     "text": [
      "ERROR: [youtube] jsxI0QjxJs8: Sign in to confirm you’re not a bot. This helps protect our community. Learn more\n"
     ]
    },
    {
     "name": "stdout",
     "output_type": "stream",
     "text": [
      "Error downloading subtitles for Netanyahu reacts to Schumer calling him an 'obstacle' to peace: ERROR: [youtube] jsxI0QjxJs8: Sign in to confirm you’re not a bot. This helps protect our community. Learn more\n",
      "subtitle file not found\n",
      "[youtube] Extracting URL: https://youtube.com/watch?v=0d9CCDGBSgE\n",
      "[youtube] 0d9CCDGBSgE: Downloading webpage\n",
      "[youtube] 0d9CCDGBSgE: Downloading ios player API JSON\n",
      "[youtube] 0d9CCDGBSgE: Downloading web creator player API JSON\n"
     ]
    },
    {
     "name": "stderr",
     "output_type": "stream",
     "text": [
      "ERROR: [youtube] 0d9CCDGBSgE: Sign in to confirm you’re not a bot. This helps protect our community. Learn more\n"
     ]
    },
    {
     "name": "stdout",
     "output_type": "stream",
     "text": [
      "Error: ERROR: [youtube] 0d9CCDGBSgE: Sign in to confirm you’re not a bot. This helps protect our community. Learn more. Retrying in 180 seconds... (Attempt 1/3)\n",
      "[youtube] Extracting URL: https://youtube.com/watch?v=0d9CCDGBSgE\n",
      "[youtube] 0d9CCDGBSgE: Downloading webpage\n",
      "[youtube] 0d9CCDGBSgE: Downloading ios player API JSON\n",
      "[youtube] 0d9CCDGBSgE: Downloading web creator player API JSON\n",
      "[youtube] 0d9CCDGBSgE: Downloading m3u8 information\n",
      "[info] 0d9CCDGBSgE: Downloading subtitles: en\n",
      "[youtube] Extracting URL: https://youtube.com/watch?v=0d9CCDGBSgE\n",
      "[youtube] 0d9CCDGBSgE: Downloading webpage\n",
      "[youtube] 0d9CCDGBSgE: Downloading ios player API JSON\n",
      "[youtube] 0d9CCDGBSgE: Downloading web creator player API JSON\n"
     ]
    },
    {
     "name": "stderr",
     "output_type": "stream",
     "text": [
      "ERROR: [youtube] 0d9CCDGBSgE: Sign in to confirm you’re not a bot. This helps protect our community. Learn more\n"
     ]
    },
    {
     "name": "stdout",
     "output_type": "stream",
     "text": [
      "Error downloading subtitles for Dana Bash presses Netanyahu on allowing humanitarian aid to Gaza: ERROR: [youtube] 0d9CCDGBSgE: Sign in to confirm you’re not a bot. This helps protect our community. Learn more\n",
      "subtitle file not found\n",
      "[youtube] Extracting URL: https://youtube.com/watch?v=FkXJwErm8DM\n",
      "[youtube] FkXJwErm8DM: Downloading webpage\n",
      "[youtube] FkXJwErm8DM: Downloading ios player API JSON\n",
      "[youtube] FkXJwErm8DM: Downloading web creator player API JSON\n",
      "[youtube] FkXJwErm8DM: Downloading m3u8 information\n",
      "[info] FkXJwErm8DM: Downloading subtitles: en\n",
      "[youtube] Extracting URL: https://youtube.com/watch?v=FkXJwErm8DM\n",
      "[youtube] FkXJwErm8DM: Downloading webpage\n",
      "[youtube] FkXJwErm8DM: Downloading ios player API JSON\n",
      "[youtube] FkXJwErm8DM: Downloading web creator player API JSON\n",
      "[youtube] FkXJwErm8DM: Downloading m3u8 information\n",
      "[info] FkXJwErm8DM: Downloading subtitles: en\n",
      "[info] FkXJwErm8DM: Downloading 1 format(s): 616+251\n",
      "[info] Writing video subtitles to: data\\en_CNN\\‘That sounds like ethnic cleansing’ CNN questions lead figure in Israel’s settler movement.en.vtt\n",
      "[download] Destination: data\\en_CNN\\‘That sounds like ethnic cleansing’ CNN questions lead figure in Israel’s settler movement.en.vtt\n",
      "[download] 100% of   12.86KiB in 00:00:00 at 79.52KiB/s\n",
      "[youtube] Extracting URL: https://youtube.com/watch?v=szU9lofyoS4\n",
      "[youtube] szU9lofyoS4: Downloading webpage\n",
      "[youtube] szU9lofyoS4: Downloading ios player API JSON\n",
      "[youtube] szU9lofyoS4: Downloading web creator player API JSON\n",
      "[youtube] szU9lofyoS4: Downloading m3u8 information\n",
      "[info] szU9lofyoS4: Downloading subtitles: en\n"
     ]
    },
    {
     "name": "stderr",
     "output_type": "stream",
     "text": [
      "WARNING: ffmpeg not found. The downloaded format may not be the best available. Installing ffmpeg is strongly recommended: https://github.com/yt-dlp/yt-dlp#dependencies\n"
     ]
    },
    {
     "name": "stdout",
     "output_type": "stream",
     "text": [
      "[youtube] Extracting URL: https://youtube.com/watch?v=szU9lofyoS4\n",
      "[youtube] szU9lofyoS4: Downloading webpage\n",
      "[youtube] szU9lofyoS4: Downloading ios player API JSON\n",
      "[youtube] szU9lofyoS4: Downloading web creator player API JSON\n"
     ]
    },
    {
     "name": "stderr",
     "output_type": "stream",
     "text": [
      "ERROR: [youtube] szU9lofyoS4: Sign in to confirm you’re not a bot. This helps protect our community. Learn more\n"
     ]
    },
    {
     "name": "stdout",
     "output_type": "stream",
     "text": [
      "Error downloading subtitles for AOC doubles down calling the situation in Gaza a genocide: ERROR: [youtube] szU9lofyoS4: Sign in to confirm you’re not a bot. This helps protect our community. Learn more\n",
      "subtitle file not found\n",
      "[youtube] Extracting URL: https://youtube.com/watch?v=QkxXpCiYI0U\n",
      "[youtube] QkxXpCiYI0U: Downloading webpage\n",
      "[youtube] QkxXpCiYI0U: Downloading ios player API JSON\n",
      "[youtube] QkxXpCiYI0U: Downloading web creator player API JSON\n"
     ]
    },
    {
     "name": "stderr",
     "output_type": "stream",
     "text": [
      "ERROR: [youtube] QkxXpCiYI0U: Sign in to confirm you’re not a bot. This helps protect our community. Learn more\n"
     ]
    },
    {
     "name": "stdout",
     "output_type": "stream",
     "text": [
      "Error: ERROR: [youtube] QkxXpCiYI0U: Sign in to confirm you’re not a bot. This helps protect our community. Learn more. Retrying in 180 seconds... (Attempt 1/3)\n",
      "[youtube] Extracting URL: https://youtube.com/watch?v=QkxXpCiYI0U\n",
      "[youtube] QkxXpCiYI0U: Downloading webpage\n",
      "[youtube] QkxXpCiYI0U: Downloading ios player API JSON\n",
      "[youtube] QkxXpCiYI0U: Downloading web creator player API JSON\n",
      "[youtube] QkxXpCiYI0U: Downloading m3u8 information\n"
     ]
    },
    {
     "name": "stderr",
     "output_type": "stream",
     "text": [
      "WARNING: ffmpeg not found. The downloaded format may not be the best available. Installing ffmpeg is strongly recommended: https://github.com/yt-dlp/yt-dlp#dependencies\n"
     ]
    },
    {
     "name": "stdout",
     "output_type": "stream",
     "text": [
      "subtitle file not found\n",
      "[youtube] Extracting URL: https://youtube.com/watch?v=Zv4Aciot4E0\n",
      "[youtube] Zv4Aciot4E0: Downloading webpage\n",
      "[youtube] Zv4Aciot4E0: Downloading ios player API JSON\n",
      "[youtube] Zv4Aciot4E0: Downloading web creator player API JSON\n",
      "[youtube] Zv4Aciot4E0: Downloading m3u8 information\n",
      "[info] Zv4Aciot4E0: Downloading subtitles: en\n"
     ]
    },
    {
     "name": "stderr",
     "output_type": "stream",
     "text": [
      "WARNING: ffmpeg not found. The downloaded format may not be the best available. Installing ffmpeg is strongly recommended: https://github.com/yt-dlp/yt-dlp#dependencies\n"
     ]
    },
    {
     "name": "stdout",
     "output_type": "stream",
     "text": [
      "[youtube] Extracting URL: https://youtube.com/watch?v=Zv4Aciot4E0\n",
      "[youtube] Zv4Aciot4E0: Downloading webpage\n",
      "[youtube] Zv4Aciot4E0: Downloading ios player API JSON\n",
      "[youtube] Zv4Aciot4E0: Downloading web creator player API JSON\n",
      "[youtube] Zv4Aciot4E0: Downloading m3u8 information\n",
      "[info] Zv4Aciot4E0: Downloading subtitles: en\n"
     ]
    },
    {
     "name": "stderr",
     "output_type": "stream",
     "text": [
      "WARNING: ffmpeg not found. The downloaded format may not be the best available. Installing ffmpeg is strongly recommended: https://github.com/yt-dlp/yt-dlp#dependencies\n"
     ]
    },
    {
     "name": "stdout",
     "output_type": "stream",
     "text": [
      "[info] Zv4Aciot4E0: Downloading 1 format(s): 18\n",
      "[info] Writing video subtitles to: data\\en_CNN\\Ex-federal official explains why she resigned over US approach to Gaza.en.vtt\n",
      "[download] Destination: data\\en_CNN\\Ex-federal official explains why she resigned over US approach to Gaza.en.vtt\n",
      "[download] 100% of   13.21KiB in 00:00:00 at 73.36KiB/s\n",
      "[youtube] Extracting URL: https://youtube.com/watch?v=YRKIfnQnWto\n",
      "[youtube] YRKIfnQnWto: Downloading webpage\n",
      "[youtube] YRKIfnQnWto: Downloading ios player API JSON\n",
      "[youtube] YRKIfnQnWto: Downloading web creator player API JSON\n",
      "[youtube] YRKIfnQnWto: Downloading m3u8 information\n",
      "[info] YRKIfnQnWto: Downloading subtitles: en\n"
     ]
    },
    {
     "name": "stderr",
     "output_type": "stream",
     "text": [
      "WARNING: ffmpeg not found. The downloaded format may not be the best available. Installing ffmpeg is strongly recommended: https://github.com/yt-dlp/yt-dlp#dependencies\n"
     ]
    },
    {
     "name": "stdout",
     "output_type": "stream",
     "text": [
      "[youtube] Extracting URL: https://youtube.com/watch?v=YRKIfnQnWto\n",
      "[youtube] YRKIfnQnWto: Downloading webpage\n",
      "[youtube] YRKIfnQnWto: Downloading ios player API JSON\n",
      "[youtube] YRKIfnQnWto: Downloading web creator player API JSON\n",
      "[youtube] YRKIfnQnWto: Downloading m3u8 information\n",
      "[info] YRKIfnQnWto: Downloading subtitles: en\n"
     ]
    },
    {
     "name": "stderr",
     "output_type": "stream",
     "text": [
      "WARNING: ffmpeg not found. The downloaded format may not be the best available. Installing ffmpeg is strongly recommended: https://github.com/yt-dlp/yt-dlp#dependencies\n"
     ]
    },
    {
     "name": "stdout",
     "output_type": "stream",
     "text": [
      "[info] YRKIfnQnWto: Downloading 1 format(s): 18\n",
      "[info] Writing video subtitles to: data\\en_CNN\\See protests in Jerusalem calling for Netanyahu to resign.en.vtt\n",
      "[download] Destination: data\\en_CNN\\See protests in Jerusalem calling for Netanyahu to resign.en.vtt\n",
      "[download] 100% of   17.95KiB in 00:00:00 at 76.12KiB/s\n",
      "[youtube] Extracting URL: https://youtube.com/watch?v=UX-_To2fh50\n",
      "[youtube] UX-_To2fh50: Downloading webpage\n",
      "[youtube] UX-_To2fh50: Downloading ios player API JSON\n",
      "[youtube] UX-_To2fh50: Downloading web creator player API JSON\n",
      "[youtube] UX-_To2fh50: Downloading m3u8 information\n",
      "[info] UX-_To2fh50: Downloading subtitles: en\n"
     ]
    },
    {
     "name": "stderr",
     "output_type": "stream",
     "text": [
      "WARNING: ffmpeg not found. The downloaded format may not be the best available. Installing ffmpeg is strongly recommended: https://github.com/yt-dlp/yt-dlp#dependencies\n"
     ]
    },
    {
     "name": "stdout",
     "output_type": "stream",
     "text": [
      "[youtube] Extracting URL: https://youtube.com/watch?v=UX-_To2fh50\n",
      "[youtube] UX-_To2fh50: Downloading webpage\n",
      "[youtube] UX-_To2fh50: Downloading ios player API JSON\n",
      "[youtube] UX-_To2fh50: Downloading web creator player API JSON\n",
      "[youtube] UX-_To2fh50: Downloading m3u8 information\n",
      "[info] UX-_To2fh50: Downloading subtitles: en\n"
     ]
    },
    {
     "name": "stderr",
     "output_type": "stream",
     "text": [
      "WARNING: ffmpeg not found. The downloaded format may not be the best available. Installing ffmpeg is strongly recommended: https://github.com/yt-dlp/yt-dlp#dependencies\n"
     ]
    },
    {
     "name": "stdout",
     "output_type": "stream",
     "text": [
      "[info] UX-_To2fh50: Downloading 1 format(s): 18\n",
      "[info] Writing video subtitles to: data\\en_CNN\\Iran accuses Israel of killing top commander in airstrike.en.vtt\n",
      "[download] Destination: data\\en_CNN\\Iran accuses Israel of killing top commander in airstrike.en.vtt\n",
      "[download] 100% of   12.65KiB in 00:00:00 at 103.98KiB/s\n",
      "[youtube] Extracting URL: https://youtube.com/watch?v=fhzEDGmWJV4\n",
      "[youtube] fhzEDGmWJV4: Downloading webpage\n",
      "[youtube] fhzEDGmWJV4: Downloading ios player API JSON\n",
      "[youtube] fhzEDGmWJV4: Downloading web creator player API JSON\n",
      "[youtube] fhzEDGmWJV4: Downloading m3u8 information\n",
      "[info] fhzEDGmWJV4: Downloading subtitles: en\n"
     ]
    },
    {
     "name": "stderr",
     "output_type": "stream",
     "text": [
      "WARNING: ffmpeg not found. The downloaded format may not be the best available. Installing ffmpeg is strongly recommended: https://github.com/yt-dlp/yt-dlp#dependencies\n"
     ]
    },
    {
     "name": "stdout",
     "output_type": "stream",
     "text": [
      "[youtube] Extracting URL: https://youtube.com/watch?v=fhzEDGmWJV4\n",
      "[youtube] fhzEDGmWJV4: Downloading webpage\n",
      "[youtube] fhzEDGmWJV4: Downloading ios player API JSON\n",
      "[youtube] fhzEDGmWJV4: Downloading web creator player API JSON\n",
      "[youtube] fhzEDGmWJV4: Downloading m3u8 information\n",
      "[info] fhzEDGmWJV4: Downloading subtitles: en\n"
     ]
    },
    {
     "name": "stderr",
     "output_type": "stream",
     "text": [
      "WARNING: ffmpeg not found. The downloaded format may not be the best available. Installing ffmpeg is strongly recommended: https://github.com/yt-dlp/yt-dlp#dependencies\n"
     ]
    },
    {
     "name": "stdout",
     "output_type": "stream",
     "text": [
      "[info] fhzEDGmWJV4: Downloading 1 format(s): 18\n",
      "[info] Writing video subtitles to: data\\en_CNN\\Israeli teen opens up about choosing jail over military service.en.vtt\n",
      "[download] Destination: data\\en_CNN\\Israeli teen opens up about choosing jail over military service.en.vtt\n",
      "[download] 100% of   16.92KiB in 00:00:00 at 86.97KiB/s\n",
      "[youtube] Extracting URL: https://youtube.com/watch?v=X-t8H8bu6zw\n",
      "[youtube] X-t8H8bu6zw: Downloading webpage\n",
      "[youtube] X-t8H8bu6zw: Downloading ios player API JSON\n",
      "[youtube] X-t8H8bu6zw: Downloading web creator player API JSON\n",
      "[youtube] X-t8H8bu6zw: Downloading m3u8 information\n",
      "[info] X-t8H8bu6zw: Downloading subtitles: en\n"
     ]
    },
    {
     "name": "stderr",
     "output_type": "stream",
     "text": [
      "WARNING: ffmpeg not found. The downloaded format may not be the best available. Installing ffmpeg is strongly recommended: https://github.com/yt-dlp/yt-dlp#dependencies\n"
     ]
    },
    {
     "name": "stdout",
     "output_type": "stream",
     "text": [
      "[youtube] Extracting URL: https://youtube.com/watch?v=X-t8H8bu6zw\n",
      "[youtube] X-t8H8bu6zw: Downloading webpage\n",
      "[youtube] X-t8H8bu6zw: Downloading ios player API JSON\n",
      "[youtube] X-t8H8bu6zw: Downloading web creator player API JSON\n",
      "[youtube] X-t8H8bu6zw: Downloading m3u8 information\n",
      "[info] X-t8H8bu6zw: Downloading subtitles: en\n"
     ]
    },
    {
     "name": "stderr",
     "output_type": "stream",
     "text": [
      "WARNING: ffmpeg not found. The downloaded format may not be the best available. Installing ffmpeg is strongly recommended: https://github.com/yt-dlp/yt-dlp#dependencies\n"
     ]
    },
    {
     "name": "stdout",
     "output_type": "stream",
     "text": [
      "[info] X-t8H8bu6zw: Downloading 1 format(s): 18\n",
      "[info] Writing video subtitles to: data\\en_CNN\\Biden and Netanyahu to speak for the first time since 7 aid workers killed in Gaza.en.vtt\n",
      "[download] Destination: data\\en_CNN\\Biden and Netanyahu to speak for the first time since 7 aid workers killed in Gaza.en.vtt\n",
      "[download] 100% of   22.63KiB in 00:00:00 at 97.63KiB/s\n",
      "[youtube] Extracting URL: https://youtube.com/watch?v=f7MB9VKx-ds\n",
      "[youtube] f7MB9VKx-ds: Downloading webpage\n",
      "[youtube] f7MB9VKx-ds: Downloading ios player API JSON\n",
      "[youtube] f7MB9VKx-ds: Downloading web creator player API JSON\n",
      "[youtube] f7MB9VKx-ds: Downloading m3u8 information\n",
      "[info] f7MB9VKx-ds: Downloading subtitles: en\n"
     ]
    },
    {
     "name": "stderr",
     "output_type": "stream",
     "text": [
      "WARNING: ffmpeg not found. The downloaded format may not be the best available. Installing ffmpeg is strongly recommended: https://github.com/yt-dlp/yt-dlp#dependencies\n"
     ]
    },
    {
     "name": "stdout",
     "output_type": "stream",
     "text": [
      "[youtube] Extracting URL: https://youtube.com/watch?v=f7MB9VKx-ds\n",
      "[youtube] f7MB9VKx-ds: Downloading webpage\n",
      "[youtube] f7MB9VKx-ds: Downloading ios player API JSON\n",
      "[youtube] f7MB9VKx-ds: Downloading web creator player API JSON\n",
      "[youtube] f7MB9VKx-ds: Downloading m3u8 information\n",
      "[info] f7MB9VKx-ds: Downloading subtitles: en\n"
     ]
    },
    {
     "name": "stderr",
     "output_type": "stream",
     "text": [
      "WARNING: ffmpeg not found. The downloaded format may not be the best available. Installing ffmpeg is strongly recommended: https://github.com/yt-dlp/yt-dlp#dependencies\n"
     ]
    },
    {
     "name": "stdout",
     "output_type": "stream",
     "text": [
      "[info] f7MB9VKx-ds: Downloading 1 format(s): 18\n",
      "[info] Writing video subtitles to: data\\en_CNN\\Biden to Netanyahu Protect civilians or else.en.vtt\n",
      "[download] Destination: data\\en_CNN\\Biden to Netanyahu Protect civilians or else.en.vtt\n",
      "[download] 100% of   20.28KiB in 00:00:00 at 59.01KiB/s\n",
      "[youtube] Extracting URL: https://youtube.com/watch?v=xhpWPuYaRTE\n",
      "[youtube] xhpWPuYaRTE: Downloading webpage\n",
      "[youtube] xhpWPuYaRTE: Downloading ios player API JSON\n",
      "[youtube] xhpWPuYaRTE: Downloading web creator player API JSON\n",
      "[youtube] xhpWPuYaRTE: Downloading m3u8 information\n",
      "[info] xhpWPuYaRTE: Downloading subtitles: en\n"
     ]
    },
    {
     "name": "stderr",
     "output_type": "stream",
     "text": [
      "WARNING: ffmpeg not found. The downloaded format may not be the best available. Installing ffmpeg is strongly recommended: https://github.com/yt-dlp/yt-dlp#dependencies\n"
     ]
    },
    {
     "name": "stdout",
     "output_type": "stream",
     "text": [
      "[youtube] Extracting URL: https://youtube.com/watch?v=xhpWPuYaRTE\n",
      "[youtube] xhpWPuYaRTE: Downloading webpage\n",
      "[youtube] xhpWPuYaRTE: Downloading ios player API JSON\n",
      "[youtube] xhpWPuYaRTE: Downloading web creator player API JSON\n",
      "[youtube] xhpWPuYaRTE: Downloading m3u8 information\n",
      "[info] xhpWPuYaRTE: Downloading subtitles: en\n"
     ]
    },
    {
     "name": "stderr",
     "output_type": "stream",
     "text": [
      "WARNING: ffmpeg not found. The downloaded format may not be the best available. Installing ffmpeg is strongly recommended: https://github.com/yt-dlp/yt-dlp#dependencies\n"
     ]
    },
    {
     "name": "stdout",
     "output_type": "stream",
     "text": [
      "[info] xhpWPuYaRTE: Downloading 1 format(s): 18\n",
      "[info] Writing video subtitles to: data\\en_CNN\\CNN correspondent breaks down new IDF report on WCK strike.en.vtt\n",
      "[download] Destination: data\\en_CNN\\CNN correspondent breaks down new IDF report on WCK strike.en.vtt\n",
      "[download] 100% of   18.63KiB in 00:00:00 at 77.91KiB/s\n",
      "[youtube] Extracting URL: https://youtube.com/watch?v=m9pFYovnPcs\n",
      "[youtube] m9pFYovnPcs: Downloading webpage\n",
      "[youtube] m9pFYovnPcs: Downloading ios player API JSON\n",
      "[youtube] m9pFYovnPcs: Downloading web creator player API JSON\n",
      "[youtube] m9pFYovnPcs: Downloading m3u8 information\n",
      "[info] m9pFYovnPcs: Downloading subtitles: en\n"
     ]
    },
    {
     "name": "stderr",
     "output_type": "stream",
     "text": [
      "WARNING: ffmpeg not found. The downloaded format may not be the best available. Installing ffmpeg is strongly recommended: https://github.com/yt-dlp/yt-dlp#dependencies\n"
     ]
    },
    {
     "name": "stdout",
     "output_type": "stream",
     "text": [
      "[youtube] Extracting URL: https://youtube.com/watch?v=m9pFYovnPcs\n",
      "[youtube] m9pFYovnPcs: Downloading webpage\n",
      "[youtube] m9pFYovnPcs: Downloading ios player API JSON\n",
      "[youtube] m9pFYovnPcs: Downloading web creator player API JSON\n",
      "[youtube] m9pFYovnPcs: Downloading m3u8 information\n",
      "[info] m9pFYovnPcs: Downloading subtitles: en\n"
     ]
    },
    {
     "name": "stderr",
     "output_type": "stream",
     "text": [
      "WARNING: ffmpeg not found. The downloaded format may not be the best available. Installing ffmpeg is strongly recommended: https://github.com/yt-dlp/yt-dlp#dependencies\n"
     ]
    },
    {
     "name": "stdout",
     "output_type": "stream",
     "text": [
      "[info] m9pFYovnPcs: Downloading 1 format(s): 18\n",
      "[info] Writing video subtitles to: data\\en_CNN\\Israeli journalist says Netanyahu is Israel’s worst prime minister.en.vtt\n",
      "[download] Destination: data\\en_CNN\\Israeli journalist says Netanyahu is Israel’s worst prime minister.en.vtt\n",
      "[download] 100% of   10.70KiB in 00:00:00 at 53.84KiB/s\n",
      "[youtube] Extracting URL: https://youtube.com/watch?v=M1xlEYfPiyk\n",
      "[youtube] M1xlEYfPiyk: Downloading webpage\n",
      "[youtube] M1xlEYfPiyk: Downloading ios player API JSON\n",
      "[youtube] M1xlEYfPiyk: Downloading web creator player API JSON\n",
      "[youtube] M1xlEYfPiyk: Downloading m3u8 information\n",
      "[info] M1xlEYfPiyk: Downloading subtitles: en\n"
     ]
    },
    {
     "name": "stderr",
     "output_type": "stream",
     "text": [
      "WARNING: ffmpeg not found. The downloaded format may not be the best available. Installing ffmpeg is strongly recommended: https://github.com/yt-dlp/yt-dlp#dependencies\n"
     ]
    },
    {
     "name": "stdout",
     "output_type": "stream",
     "text": [
      "[youtube] Extracting URL: https://youtube.com/watch?v=M1xlEYfPiyk\n",
      "[youtube] M1xlEYfPiyk: Downloading webpage\n",
      "[youtube] M1xlEYfPiyk: Downloading ios player API JSON\n",
      "[youtube] M1xlEYfPiyk: Downloading web creator player API JSON\n",
      "[youtube] M1xlEYfPiyk: Downloading m3u8 information\n",
      "[info] M1xlEYfPiyk: Downloading subtitles: en\n"
     ]
    },
    {
     "name": "stderr",
     "output_type": "stream",
     "text": [
      "WARNING: ffmpeg not found. The downloaded format may not be the best available. Installing ffmpeg is strongly recommended: https://github.com/yt-dlp/yt-dlp#dependencies\n"
     ]
    },
    {
     "name": "stdout",
     "output_type": "stream",
     "text": [
      "[info] M1xlEYfPiyk: Downloading 1 format(s): 18\n",
      "[info] Writing video subtitles to: data\\en_CNN\\White House says it is watching Iranian threat ‘very, very closely’.en.vtt\n",
      "[download] Destination: data\\en_CNN\\White House says it is watching Iranian threat ‘very, very closely’.en.vtt\n",
      "[download] 100% of   18.45KiB in 00:00:00 at 90.70KiB/s\n",
      "[youtube] Extracting URL: https://youtube.com/watch?v=gAQMmtiCuG4\n",
      "[youtube] gAQMmtiCuG4: Downloading webpage\n",
      "[youtube] gAQMmtiCuG4: Downloading ios player API JSON\n",
      "[youtube] gAQMmtiCuG4: Downloading web creator player API JSON\n",
      "[youtube] gAQMmtiCuG4: Downloading m3u8 information\n",
      "[info] gAQMmtiCuG4: Downloading subtitles: en\n"
     ]
    },
    {
     "name": "stderr",
     "output_type": "stream",
     "text": [
      "WARNING: ffmpeg not found. The downloaded format may not be the best available. Installing ffmpeg is strongly recommended: https://github.com/yt-dlp/yt-dlp#dependencies\n"
     ]
    },
    {
     "name": "stdout",
     "output_type": "stream",
     "text": [
      "[youtube] Extracting URL: https://youtube.com/watch?v=gAQMmtiCuG4\n",
      "[youtube] gAQMmtiCuG4: Downloading webpage\n",
      "[youtube] gAQMmtiCuG4: Downloading ios player API JSON\n",
      "[youtube] gAQMmtiCuG4: Downloading web creator player API JSON\n",
      "[youtube] gAQMmtiCuG4: Downloading m3u8 information\n",
      "[info] gAQMmtiCuG4: Downloading subtitles: en\n"
     ]
    },
    {
     "name": "stderr",
     "output_type": "stream",
     "text": [
      "WARNING: ffmpeg not found. The downloaded format may not be the best available. Installing ffmpeg is strongly recommended: https://github.com/yt-dlp/yt-dlp#dependencies\n"
     ]
    },
    {
     "name": "stdout",
     "output_type": "stream",
     "text": [
      "[info] gAQMmtiCuG4: Downloading 1 format(s): 18\n",
      "[info] Writing video subtitles to: data\\en_CNN\\'It's a very big deal' Petraeus on the significance of Iran's attack.en.vtt\n",
      "[download] Destination: data\\en_CNN\\'It's a very big deal' Petraeus on the significance of Iran's attack.en.vtt\n",
      "[download] 100% of   16.70KiB in 00:00:00 at 68.19KiB/s\n",
      "[youtube] Extracting URL: https://youtube.com/watch?v=hkKjdA2itXk\n",
      "[youtube] hkKjdA2itXk: Downloading webpage\n",
      "[youtube] hkKjdA2itXk: Downloading ios player API JSON\n",
      "[youtube] hkKjdA2itXk: Downloading web creator player API JSON\n",
      "[youtube] hkKjdA2itXk: Downloading m3u8 information\n",
      "[info] hkKjdA2itXk: Downloading subtitles: en\n"
     ]
    },
    {
     "name": "stderr",
     "output_type": "stream",
     "text": [
      "WARNING: ffmpeg not found. The downloaded format may not be the best available. Installing ffmpeg is strongly recommended: https://github.com/yt-dlp/yt-dlp#dependencies\n"
     ]
    },
    {
     "name": "stdout",
     "output_type": "stream",
     "text": [
      "[youtube] Extracting URL: https://youtube.com/watch?v=hkKjdA2itXk\n",
      "[youtube] hkKjdA2itXk: Downloading webpage\n",
      "[youtube] hkKjdA2itXk: Downloading ios player API JSON\n",
      "[youtube] hkKjdA2itXk: Downloading web creator player API JSON\n",
      "[youtube] hkKjdA2itXk: Downloading m3u8 information\n",
      "[info] hkKjdA2itXk: Downloading subtitles: en\n"
     ]
    },
    {
     "name": "stderr",
     "output_type": "stream",
     "text": [
      "WARNING: ffmpeg not found. The downloaded format may not be the best available. Installing ffmpeg is strongly recommended: https://github.com/yt-dlp/yt-dlp#dependencies\n"
     ]
    },
    {
     "name": "stdout",
     "output_type": "stream",
     "text": [
      "[info] hkKjdA2itXk: Downloading 1 format(s): 18\n",
      "[info] Writing video subtitles to: data\\en_CNN\\Hamas offered ‘extraordinarily generous’ ceasefire proposal, Blinken says.en.vtt\n",
      "[download] Destination: data\\en_CNN\\Hamas offered ‘extraordinarily generous’ ceasefire proposal, Blinken says.en.vtt\n",
      "[download] 100% of   25.66KiB in 00:00:00 at 89.82KiB/s\n",
      "[youtube] Extracting URL: https://youtube.com/watch?v=Dr-OKI2NEng\n",
      "[youtube] Dr-OKI2NEng: Downloading webpage\n",
      "[youtube] Dr-OKI2NEng: Downloading ios player API JSON\n",
      "[youtube] Dr-OKI2NEng: Downloading web creator player API JSON\n",
      "[youtube] Dr-OKI2NEng: Downloading m3u8 information\n",
      "[info] Dr-OKI2NEng: Downloading subtitles: en\n"
     ]
    },
    {
     "name": "stderr",
     "output_type": "stream",
     "text": [
      "WARNING: ffmpeg not found. The downloaded format may not be the best available. Installing ffmpeg is strongly recommended: https://github.com/yt-dlp/yt-dlp#dependencies\n"
     ]
    },
    {
     "name": "stdout",
     "output_type": "stream",
     "text": [
      "[youtube] Extracting URL: https://youtube.com/watch?v=Dr-OKI2NEng\n",
      "[youtube] Dr-OKI2NEng: Downloading webpage\n",
      "[youtube] Dr-OKI2NEng: Downloading ios player API JSON\n",
      "[youtube] Dr-OKI2NEng: Downloading web creator player API JSON\n",
      "[youtube] Dr-OKI2NEng: Downloading m3u8 information\n",
      "[info] Dr-OKI2NEng: Downloading subtitles: en\n"
     ]
    },
    {
     "name": "stderr",
     "output_type": "stream",
     "text": [
      "WARNING: ffmpeg not found. The downloaded format may not be the best available. Installing ffmpeg is strongly recommended: https://github.com/yt-dlp/yt-dlp#dependencies\n"
     ]
    },
    {
     "name": "stdout",
     "output_type": "stream",
     "text": [
      "[info] Dr-OKI2NEng: Downloading 1 format(s): 18\n",
      "[info] Writing video subtitles to: data\\en_CNN\\Israel’s military tells 100,000 residents in eastern Rafah to ‘evacuate immediately’.en.vtt\n",
      "[download] Destination: data\\en_CNN\\Israel’s military tells 100,000 residents in eastern Rafah to ‘evacuate immediately’.en.vtt\n",
      "[download] 100% of   18.69KiB in 00:00:00 at 78.71KiB/s\n",
      "[youtube] Extracting URL: https://youtube.com/watch?v=2fgF6OBxURA\n",
      "[youtube] 2fgF6OBxURA: Downloading webpage\n",
      "[youtube] 2fgF6OBxURA: Downloading ios player API JSON\n",
      "[youtube] 2fgF6OBxURA: Downloading web creator player API JSON\n",
      "[youtube] 2fgF6OBxURA: Downloading m3u8 information\n",
      "[info] 2fgF6OBxURA: Downloading subtitles: en\n"
     ]
    },
    {
     "name": "stderr",
     "output_type": "stream",
     "text": [
      "WARNING: ffmpeg not found. The downloaded format may not be the best available. Installing ffmpeg is strongly recommended: https://github.com/yt-dlp/yt-dlp#dependencies\n"
     ]
    },
    {
     "name": "stdout",
     "output_type": "stream",
     "text": [
      "[youtube] Extracting URL: https://youtube.com/watch?v=2fgF6OBxURA\n",
      "[youtube] 2fgF6OBxURA: Downloading webpage\n",
      "[youtube] 2fgF6OBxURA: Downloading ios player API JSON\n",
      "[youtube] 2fgF6OBxURA: Downloading web creator player API JSON\n",
      "[youtube] 2fgF6OBxURA: Downloading m3u8 information\n",
      "[info] 2fgF6OBxURA: Downloading subtitles: en\n"
     ]
    },
    {
     "name": "stderr",
     "output_type": "stream",
     "text": [
      "WARNING: ffmpeg not found. The downloaded format may not be the best available. Installing ffmpeg is strongly recommended: https://github.com/yt-dlp/yt-dlp#dependencies\n"
     ]
    },
    {
     "name": "stdout",
     "output_type": "stream",
     "text": [
      "[info] 2fgF6OBxURA: Downloading 1 format(s): 18\n",
      "[info] Writing video subtitles to: data\\en_CNN\\Hamas says it has agreed to ceasefire proposal from Egypt and Qatar.en.vtt\n",
      "[download] Destination: data\\en_CNN\\Hamas says it has agreed to ceasefire proposal from Egypt and Qatar.en.vtt\n",
      "[download] 100% of   12.03KiB in 00:00:00 at 58.12KiB/s\n",
      "[youtube] Extracting URL: https://youtube.com/watch?v=-GsGjDZuI7Y\n",
      "[youtube] -GsGjDZuI7Y: Downloading webpage\n",
      "[youtube] -GsGjDZuI7Y: Downloading ios player API JSON\n",
      "[youtube] -GsGjDZuI7Y: Downloading web creator player API JSON\n",
      "[youtube] -GsGjDZuI7Y: Downloading m3u8 information\n"
     ]
    },
    {
     "name": "stderr",
     "output_type": "stream",
     "text": [
      "WARNING: ffmpeg not found. The downloaded format may not be the best available. Installing ffmpeg is strongly recommended: https://github.com/yt-dlp/yt-dlp#dependencies\n"
     ]
    },
    {
     "name": "stdout",
     "output_type": "stream",
     "text": [
      "subtitle file not found\n",
      "[youtube] Extracting URL: https://youtube.com/watch?v=Jf7EZ8aNDHg\n",
      "[youtube] Jf7EZ8aNDHg: Downloading webpage\n",
      "[youtube] Jf7EZ8aNDHg: Downloading ios player API JSON\n",
      "[youtube] Jf7EZ8aNDHg: Downloading web creator player API JSON\n",
      "[youtube] Jf7EZ8aNDHg: Downloading m3u8 information\n",
      "[info] Jf7EZ8aNDHg: Downloading subtitles: en-uYU-mmqFLq8\n"
     ]
    },
    {
     "name": "stderr",
     "output_type": "stream",
     "text": [
      "WARNING: ffmpeg not found. The downloaded format may not be the best available. Installing ffmpeg is strongly recommended: https://github.com/yt-dlp/yt-dlp#dependencies\n"
     ]
    },
    {
     "name": "stdout",
     "output_type": "stream",
     "text": [
      "[youtube] Extracting URL: https://youtube.com/watch?v=Jf7EZ8aNDHg\n",
      "[youtube] Jf7EZ8aNDHg: Downloading webpage\n",
      "[youtube] Jf7EZ8aNDHg: Downloading ios player API JSON\n",
      "[youtube] Jf7EZ8aNDHg: Downloading web creator player API JSON\n",
      "[youtube] Jf7EZ8aNDHg: Downloading m3u8 information\n",
      "[info] Jf7EZ8aNDHg: Downloading subtitles: en\n"
     ]
    },
    {
     "name": "stderr",
     "output_type": "stream",
     "text": [
      "WARNING: ffmpeg not found. The downloaded format may not be the best available. Installing ffmpeg is strongly recommended: https://github.com/yt-dlp/yt-dlp#dependencies\n"
     ]
    },
    {
     "name": "stdout",
     "output_type": "stream",
     "text": [
      "[info] Jf7EZ8aNDHg: Downloading 1 format(s): 18\n",
      "[info] Writing video subtitles to: data\\en_CNN\\Multiple explosions in Rafah after evacuation orders. Military analyst explains the implications.en.vtt\n",
      "[hlsnative] Downloading m3u8 manifest\n",
      "[hlsnative] Total fragments: 1\n",
      "[download] Destination: data\\en_CNN\\Multiple explosions in Rafah after evacuation orders. Military analyst explains the implications.en.vtt\n",
      "[download] 100% of    7.50KiB in 00:00:00 at 35.33KiB/s                \n",
      "[youtube] Extracting URL: https://youtube.com/watch?v=SibQrYYWyiA\n",
      "[youtube] SibQrYYWyiA: Downloading webpage\n",
      "[youtube] SibQrYYWyiA: Downloading ios player API JSON\n",
      "[youtube] SibQrYYWyiA: Downloading web creator player API JSON\n",
      "[youtube] SibQrYYWyiA: Downloading m3u8 information\n",
      "[info] SibQrYYWyiA: Downloading subtitles: en-uYU-mmqFLq8\n"
     ]
    },
    {
     "name": "stderr",
     "output_type": "stream",
     "text": [
      "WARNING: ffmpeg not found. The downloaded format may not be the best available. Installing ffmpeg is strongly recommended: https://github.com/yt-dlp/yt-dlp#dependencies\n"
     ]
    },
    {
     "name": "stdout",
     "output_type": "stream",
     "text": [
      "[youtube] Extracting URL: https://youtube.com/watch?v=SibQrYYWyiA\n",
      "[youtube] SibQrYYWyiA: Downloading webpage\n",
      "[youtube] SibQrYYWyiA: Downloading ios player API JSON\n",
      "[youtube] SibQrYYWyiA: Downloading web creator player API JSON\n",
      "[youtube] SibQrYYWyiA: Downloading m3u8 information\n",
      "[info] SibQrYYWyiA: Downloading subtitles: en\n"
     ]
    },
    {
     "name": "stderr",
     "output_type": "stream",
     "text": [
      "WARNING: ffmpeg not found. The downloaded format may not be the best available. Installing ffmpeg is strongly recommended: https://github.com/yt-dlp/yt-dlp#dependencies\n"
     ]
    },
    {
     "name": "stdout",
     "output_type": "stream",
     "text": [
      "[info] SibQrYYWyiA: Downloading 1 format(s): 18\n",
      "[info] Writing video subtitles to: data\\en_CNN\\Israeli military captures Palestinian side of Rafah crossing.en.vtt\n",
      "[hlsnative] Downloading m3u8 manifest\n",
      "[hlsnative] Total fragments: 1\n",
      "[download] Destination: data\\en_CNN\\Israeli military captures Palestinian side of Rafah crossing.en.vtt\n",
      "[download] 100% of   73.16KiB in 00:00:00 at 311.38KiB/s               \n",
      "[youtube] Extracting URL: https://youtube.com/watch?v=DWhlNn_CPVg\n",
      "[youtube] DWhlNn_CPVg: Downloading webpage\n",
      "[youtube] DWhlNn_CPVg: Downloading ios player API JSON\n",
      "[youtube] DWhlNn_CPVg: Downloading web creator player API JSON\n",
      "[youtube] DWhlNn_CPVg: Downloading m3u8 information\n",
      "[info] DWhlNn_CPVg: Downloading subtitles: en\n"
     ]
    },
    {
     "name": "stderr",
     "output_type": "stream",
     "text": [
      "WARNING: ffmpeg not found. The downloaded format may not be the best available. Installing ffmpeg is strongly recommended: https://github.com/yt-dlp/yt-dlp#dependencies\n"
     ]
    },
    {
     "name": "stdout",
     "output_type": "stream",
     "text": [
      "[youtube] Extracting URL: https://youtube.com/watch?v=DWhlNn_CPVg\n",
      "[youtube] DWhlNn_CPVg: Downloading webpage\n",
      "[youtube] DWhlNn_CPVg: Downloading ios player API JSON\n",
      "[youtube] DWhlNn_CPVg: Downloading web creator player API JSON\n",
      "[youtube] DWhlNn_CPVg: Downloading m3u8 information\n",
      "[info] DWhlNn_CPVg: Downloading subtitles: en\n"
     ]
    },
    {
     "name": "stderr",
     "output_type": "stream",
     "text": [
      "WARNING: ffmpeg not found. The downloaded format may not be the best available. Installing ffmpeg is strongly recommended: https://github.com/yt-dlp/yt-dlp#dependencies\n"
     ]
    },
    {
     "name": "stdout",
     "output_type": "stream",
     "text": [
      "[info] DWhlNn_CPVg: Downloading 1 format(s): 18\n",
      "[info] Writing video subtitles to: data\\en_CNN\\Biden Downplaying Hamas' October 7 attack must stop.en.vtt\n",
      "[download] Destination: data\\en_CNN\\Biden Downplaying Hamas' October 7 attack must stop.en.vtt\n",
      "[download] 100% of   21.25KiB in 00:00:00 at 136.80KiB/s\n",
      "[youtube] Extracting URL: https://youtube.com/watch?v=Rh83jIwZjyY\n",
      "[youtube] Rh83jIwZjyY: Downloading webpage\n",
      "[youtube] Rh83jIwZjyY: Downloading ios player API JSON\n",
      "[youtube] Rh83jIwZjyY: Downloading web creator player API JSON\n",
      "[youtube] Rh83jIwZjyY: Downloading m3u8 information\n",
      "[info] Rh83jIwZjyY: Downloading subtitles: en\n"
     ]
    },
    {
     "name": "stderr",
     "output_type": "stream",
     "text": [
      "WARNING: ffmpeg not found. The downloaded format may not be the best available. Installing ffmpeg is strongly recommended: https://github.com/yt-dlp/yt-dlp#dependencies\n"
     ]
    },
    {
     "name": "stdout",
     "output_type": "stream",
     "text": [
      "[youtube] Extracting URL: https://youtube.com/watch?v=Rh83jIwZjyY\n",
      "[youtube] Rh83jIwZjyY: Downloading webpage\n",
      "[youtube] Rh83jIwZjyY: Downloading ios player API JSON\n",
      "[youtube] Rh83jIwZjyY: Downloading web creator player API JSON\n",
      "[youtube] Rh83jIwZjyY: Downloading m3u8 information\n",
      "[info] Rh83jIwZjyY: Downloading subtitles: en\n"
     ]
    },
    {
     "name": "stderr",
     "output_type": "stream",
     "text": [
      "WARNING: ffmpeg not found. The downloaded format may not be the best available. Installing ffmpeg is strongly recommended: https://github.com/yt-dlp/yt-dlp#dependencies\n"
     ]
    },
    {
     "name": "stdout",
     "output_type": "stream",
     "text": [
      "[info] Rh83jIwZjyY: Downloading 1 format(s): 18\n",
      "[info] Writing video subtitles to: data\\en_CNN\\Israeli whistleblowers detail abuse of Palestinians in shadowy detention center.en.vtt\n",
      "[download] Destination: data\\en_CNN\\Israeli whistleblowers detail abuse of Palestinians in shadowy detention center.en.vtt\n",
      "[download] 100% of   11.03KiB in 00:00:00 at 64.95KiB/s\n",
      "[youtube] Extracting URL: https://youtube.com/watch?v=fIYS0H7J2SQ\n",
      "[youtube] fIYS0H7J2SQ: Downloading webpage\n",
      "[youtube] fIYS0H7J2SQ: Downloading ios player API JSON\n",
      "[youtube] fIYS0H7J2SQ: Downloading web creator player API JSON\n",
      "[youtube] fIYS0H7J2SQ: Downloading m3u8 information\n",
      "[info] fIYS0H7J2SQ: Downloading subtitles: en\n"
     ]
    },
    {
     "name": "stderr",
     "output_type": "stream",
     "text": [
      "WARNING: ffmpeg not found. The downloaded format may not be the best available. Installing ffmpeg is strongly recommended: https://github.com/yt-dlp/yt-dlp#dependencies\n"
     ]
    },
    {
     "name": "stdout",
     "output_type": "stream",
     "text": [
      "[youtube] Extracting URL: https://youtube.com/watch?v=fIYS0H7J2SQ\n",
      "[youtube] fIYS0H7J2SQ: Downloading webpage\n",
      "[youtube] fIYS0H7J2SQ: Downloading ios player API JSON\n",
      "[youtube] fIYS0H7J2SQ: Downloading web creator player API JSON\n",
      "[youtube] fIYS0H7J2SQ: Downloading m3u8 information\n",
      "[info] fIYS0H7J2SQ: Downloading subtitles: en\n"
     ]
    },
    {
     "name": "stderr",
     "output_type": "stream",
     "text": [
      "WARNING: ffmpeg not found. The downloaded format may not be the best available. Installing ffmpeg is strongly recommended: https://github.com/yt-dlp/yt-dlp#dependencies\n"
     ]
    },
    {
     "name": "stdout",
     "output_type": "stream",
     "text": [
      "[info] fIYS0H7J2SQ: Downloading 1 format(s): 18\n",
      "[info] Writing video subtitles to: data\\en_CNN\\Protesters walk out of Jerry Seinfeld's commencement speech.en.vtt\n",
      "[download] Destination: data\\en_CNN\\Protesters walk out of Jerry Seinfeld's commencement speech.en.vtt\n",
      "[download] 100% of   13.05KiB in 00:00:00 at 85.18KiB/s\n",
      "[youtube] Extracting URL: https://youtube.com/watch?v=6BquEw4kNNE\n",
      "[youtube] 6BquEw4kNNE: Downloading webpage\n",
      "[youtube] 6BquEw4kNNE: Downloading ios player API JSON\n",
      "[youtube] 6BquEw4kNNE: Downloading web creator player API JSON\n",
      "[youtube] 6BquEw4kNNE: Downloading m3u8 information\n",
      "[info] 6BquEw4kNNE: Downloading subtitles: en\n"
     ]
    },
    {
     "name": "stderr",
     "output_type": "stream",
     "text": [
      "WARNING: ffmpeg not found. The downloaded format may not be the best available. Installing ffmpeg is strongly recommended: https://github.com/yt-dlp/yt-dlp#dependencies\n"
     ]
    },
    {
     "name": "stdout",
     "output_type": "stream",
     "text": [
      "[youtube] Extracting URL: https://youtube.com/watch?v=6BquEw4kNNE\n",
      "[youtube] 6BquEw4kNNE: Downloading webpage\n",
      "[youtube] 6BquEw4kNNE: Downloading ios player API JSON\n",
      "[youtube] 6BquEw4kNNE: Downloading web creator player API JSON\n",
      "[youtube] 6BquEw4kNNE: Downloading m3u8 information\n",
      "[info] 6BquEw4kNNE: Downloading subtitles: en\n"
     ]
    },
    {
     "name": "stderr",
     "output_type": "stream",
     "text": [
      "WARNING: ffmpeg not found. The downloaded format may not be the best available. Installing ffmpeg is strongly recommended: https://github.com/yt-dlp/yt-dlp#dependencies\n"
     ]
    },
    {
     "name": "stdout",
     "output_type": "stream",
     "text": [
      "[info] 6BquEw4kNNE: Downloading 1 format(s): 18\n",
      "[info] Writing video subtitles to: data\\en_CNN\\EXCLUSIVE ICC prosecutor seeks arrest warrants against Sinwar and Netanyahu for war crimes.en.vtt\n",
      "[download] Destination: data\\en_CNN\\EXCLUSIVE ICC prosecutor seeks arrest warrants against Sinwar and Netanyahu for war crimes.en.vtt\n",
      "[download] 100% of   54.70KiB in 00:00:00 at 277.04KiB/s\n",
      "[youtube] Extracting URL: https://youtube.com/watch?v=qTvFuNNVwnA\n",
      "[youtube] qTvFuNNVwnA: Downloading webpage\n",
      "[youtube] qTvFuNNVwnA: Downloading ios player API JSON\n",
      "[youtube] qTvFuNNVwnA: Downloading web creator player API JSON\n",
      "[youtube] qTvFuNNVwnA: Downloading m3u8 information\n",
      "[info] qTvFuNNVwnA: Downloading subtitles: en\n"
     ]
    },
    {
     "name": "stderr",
     "output_type": "stream",
     "text": [
      "WARNING: ffmpeg not found. The downloaded format may not be the best available. Installing ffmpeg is strongly recommended: https://github.com/yt-dlp/yt-dlp#dependencies\n"
     ]
    },
    {
     "name": "stdout",
     "output_type": "stream",
     "text": [
      "[youtube] Extracting URL: https://youtube.com/watch?v=qTvFuNNVwnA\n",
      "[youtube] qTvFuNNVwnA: Downloading webpage\n",
      "[youtube] qTvFuNNVwnA: Downloading ios player API JSON\n",
      "[youtube] qTvFuNNVwnA: Downloading web creator player API JSON\n",
      "[youtube] qTvFuNNVwnA: Downloading m3u8 information\n",
      "[info] qTvFuNNVwnA: Downloading subtitles: en\n"
     ]
    },
    {
     "name": "stderr",
     "output_type": "stream",
     "text": [
      "WARNING: ffmpeg not found. The downloaded format may not be the best available. Installing ffmpeg is strongly recommended: https://github.com/yt-dlp/yt-dlp#dependencies\n"
     ]
    },
    {
     "name": "stdout",
     "output_type": "stream",
     "text": [
      "[info] qTvFuNNVwnA: Downloading 1 format(s): 18\n",
      "[info] Writing video subtitles to: data\\en_CNN\\Bolton says ICC actions show it’s not ‘tethered to rule of law itself’.en.vtt\n",
      "[download] Destination: data\\en_CNN\\Bolton says ICC actions show it’s not ‘tethered to rule of law itself’.en.vtt\n",
      "[download] 100% of   17.58KiB in 00:00:00 at 88.86KiB/s\n",
      "[youtube] Extracting URL: https://youtube.com/watch?v=dsnvUjPrC3g\n",
      "[youtube] dsnvUjPrC3g: Downloading webpage\n",
      "[youtube] dsnvUjPrC3g: Downloading ios player API JSON\n",
      "[youtube] dsnvUjPrC3g: Downloading web creator player API JSON\n",
      "[youtube] dsnvUjPrC3g: Downloading m3u8 information\n",
      "[info] dsnvUjPrC3g: Downloading subtitles: en\n"
     ]
    },
    {
     "name": "stderr",
     "output_type": "stream",
     "text": [
      "WARNING: ffmpeg not found. The downloaded format may not be the best available. Installing ffmpeg is strongly recommended: https://github.com/yt-dlp/yt-dlp#dependencies\n"
     ]
    },
    {
     "name": "stdout",
     "output_type": "stream",
     "text": [
      "[youtube] Extracting URL: https://youtube.com/watch?v=dsnvUjPrC3g\n",
      "[youtube] dsnvUjPrC3g: Downloading webpage\n",
      "[youtube] dsnvUjPrC3g: Downloading ios player API JSON\n",
      "[youtube] dsnvUjPrC3g: Downloading web creator player API JSON\n",
      "[youtube] dsnvUjPrC3g: Downloading m3u8 information\n",
      "[info] dsnvUjPrC3g: Downloading subtitles: en\n"
     ]
    },
    {
     "name": "stderr",
     "output_type": "stream",
     "text": [
      "WARNING: ffmpeg not found. The downloaded format may not be the best available. Installing ffmpeg is strongly recommended: https://github.com/yt-dlp/yt-dlp#dependencies\n"
     ]
    },
    {
     "name": "stdout",
     "output_type": "stream",
     "text": [
      "[info] dsnvUjPrC3g: Downloading 1 format(s): 18\n",
      "[info] Writing video subtitles to: data\\en_CNN\\At least 45 dead as Israel strikes Rafah, Gazan officials say.en.vtt\n",
      "[download] Destination: data\\en_CNN\\At least 45 dead as Israel strikes Rafah, Gazan officials say.en.vtt\n",
      "[download] 100% of   13.33KiB in 00:00:00 at 62.98KiB/s\n",
      "[youtube] Extracting URL: https://youtube.com/watch?v=Re0m_Zdhc-Q\n",
      "[youtube] Re0m_Zdhc-Q: Downloading webpage\n",
      "[youtube] Re0m_Zdhc-Q: Downloading ios player API JSON\n",
      "[youtube] Re0m_Zdhc-Q: This video is age-restricted; some formats may be missing without authentication. Use --cookies-from-browser or --cookies for the authentication. See  https://github.com/yt-dlp/yt-dlp/wiki/FAQ#how-do-i-pass-cookies-to-yt-dlp  for how to manually pass cookies\n",
      "[youtube] Re0m_Zdhc-Q: Downloading tv embedded player API JSON\n",
      "[youtube] Re0m_Zdhc-Q: Downloading web creator player API JSON\n",
      "[info] Re0m_Zdhc-Q: Downloading subtitles: en-uYU-mmqFLq8\n"
     ]
    },
    {
     "name": "stderr",
     "output_type": "stream",
     "text": [
      "WARNING: ffmpeg not found. The downloaded format may not be the best available. Installing ffmpeg is strongly recommended: https://github.com/yt-dlp/yt-dlp#dependencies\n"
     ]
    },
    {
     "name": "stdout",
     "output_type": "stream",
     "text": [
      "[youtube] Extracting URL: https://youtube.com/watch?v=Re0m_Zdhc-Q\n",
      "[youtube] Re0m_Zdhc-Q: Downloading webpage\n",
      "[youtube] Re0m_Zdhc-Q: Downloading ios player API JSON\n",
      "[youtube] Re0m_Zdhc-Q: This video is age-restricted; some formats may be missing without authentication. Use --cookies-from-browser or --cookies for the authentication. See  https://github.com/yt-dlp/yt-dlp/wiki/FAQ#how-do-i-pass-cookies-to-yt-dlp  for how to manually pass cookies\n",
      "[youtube] Re0m_Zdhc-Q: Downloading tv embedded player API JSON\n",
      "[youtube] Re0m_Zdhc-Q: Downloading web creator player API JSON\n",
      "[info] Re0m_Zdhc-Q: Downloading subtitles: ab-en-uYU-mmqFLq8\n"
     ]
    },
    {
     "name": "stderr",
     "output_type": "stream",
     "text": [
      "WARNING: ffmpeg not found. The downloaded format may not be the best available. Installing ffmpeg is strongly recommended: https://github.com/yt-dlp/yt-dlp#dependencies\n"
     ]
    },
    {
     "name": "stdout",
     "output_type": "stream",
     "text": [
      "[info] Re0m_Zdhc-Q: Downloading 1 format(s): 18\n",
      "[info] Writing video subtitles to: data\\en_CNN\\Graphic video shows scale of devastation in Rafah.ab-en-uYU-mmqFLq8.vtt\n",
      "[download] Destination: data\\en_CNN\\Graphic video shows scale of devastation in Rafah.ab-en-uYU-mmqFLq8.vtt\n",
      "[download] 100% of   31.14KiB in 00:00:00 at 93.06KiB/s\n",
      "[youtube] Extracting URL: https://youtube.com/watch?v=RSh5z9IhleI\n",
      "[youtube] RSh5z9IhleI: Downloading webpage\n",
      "[youtube] RSh5z9IhleI: Downloading ios player API JSON\n",
      "[youtube] RSh5z9IhleI: This video is age-restricted; some formats may be missing without authentication. Use --cookies-from-browser or --cookies for the authentication. See  https://github.com/yt-dlp/yt-dlp/wiki/FAQ#how-do-i-pass-cookies-to-yt-dlp  for how to manually pass cookies\n",
      "[youtube] RSh5z9IhleI: Downloading tv embedded player API JSON\n",
      "[youtube] RSh5z9IhleI: Downloading web creator player API JSON\n",
      "[info] RSh5z9IhleI: Downloading subtitles: en-uYU-mmqFLq8\n"
     ]
    },
    {
     "name": "stderr",
     "output_type": "stream",
     "text": [
      "WARNING: ffmpeg not found. The downloaded format may not be the best available. Installing ffmpeg is strongly recommended: https://github.com/yt-dlp/yt-dlp#dependencies\n"
     ]
    },
    {
     "name": "stdout",
     "output_type": "stream",
     "text": [
      "[youtube] Extracting URL: https://youtube.com/watch?v=RSh5z9IhleI\n",
      "[youtube] RSh5z9IhleI: Downloading webpage\n",
      "[youtube] RSh5z9IhleI: Downloading ios player API JSON\n",
      "[youtube] RSh5z9IhleI: This video is age-restricted; some formats may be missing without authentication. Use --cookies-from-browser or --cookies for the authentication. See  https://github.com/yt-dlp/yt-dlp/wiki/FAQ#how-do-i-pass-cookies-to-yt-dlp  for how to manually pass cookies\n",
      "[youtube] RSh5z9IhleI: Downloading tv embedded player API JSON\n",
      "[youtube] RSh5z9IhleI: Downloading web creator player API JSON\n",
      "[info] RSh5z9IhleI: Downloading subtitles: ab-en-uYU-mmqFLq8\n"
     ]
    },
    {
     "name": "stderr",
     "output_type": "stream",
     "text": [
      "WARNING: ffmpeg not found. The downloaded format may not be the best available. Installing ffmpeg is strongly recommended: https://github.com/yt-dlp/yt-dlp#dependencies\n"
     ]
    },
    {
     "name": "stdout",
     "output_type": "stream",
     "text": [
      "[info] RSh5z9IhleI: Downloading 1 format(s): 18\n",
      "[info] Writing video subtitles to: data\\en_CNN\\CNN anchor breaks down questions surrounding 'tragic errors' in Israel's war against Hamas.ab-en-uYU-mmqFLq8.vtt\n",
      "[download] Destination: data\\en_CNN\\CNN anchor breaks down questions surrounding 'tragic errors' in Israel's war against Hamas.ab-en-uYU-mmqFLq8.vtt\n",
      "[download] 100% of   30.09KiB in 00:00:00 at 60.69KiB/s\n",
      "[youtube] Extracting URL: https://youtube.com/watch?v=9h8FeGqPO7w\n",
      "[youtube] 9h8FeGqPO7w: Downloading webpage\n",
      "[youtube] 9h8FeGqPO7w: Downloading ios player API JSON\n",
      "[youtube] 9h8FeGqPO7w: Downloading web creator player API JSON\n",
      "[youtube] 9h8FeGqPO7w: Downloading m3u8 information\n",
      "[info] 9h8FeGqPO7w: Downloading subtitles: en\n"
     ]
    },
    {
     "name": "stderr",
     "output_type": "stream",
     "text": [
      "WARNING: ffmpeg not found. The downloaded format may not be the best available. Installing ffmpeg is strongly recommended: https://github.com/yt-dlp/yt-dlp#dependencies\n"
     ]
    },
    {
     "name": "stdout",
     "output_type": "stream",
     "text": [
      "[youtube] Extracting URL: https://youtube.com/watch?v=9h8FeGqPO7w\n",
      "[youtube] 9h8FeGqPO7w: Downloading webpage\n",
      "[youtube] 9h8FeGqPO7w: Downloading ios player API JSON\n",
      "[youtube] 9h8FeGqPO7w: Downloading web creator player API JSON\n",
      "[youtube] 9h8FeGqPO7w: Downloading m3u8 information\n",
      "[info] 9h8FeGqPO7w: Downloading subtitles: en\n"
     ]
    },
    {
     "name": "stderr",
     "output_type": "stream",
     "text": [
      "WARNING: ffmpeg not found. The downloaded format may not be the best available. Installing ffmpeg is strongly recommended: https://github.com/yt-dlp/yt-dlp#dependencies\n"
     ]
    },
    {
     "name": "stdout",
     "output_type": "stream",
     "text": [
      "[info] 9h8FeGqPO7w: Downloading 1 format(s): 18\n",
      "[info] Writing video subtitles to: data\\en_CNN\\The situation is absolutely ‘apocalyptic,’ says surgeon on his recent trip to Gaza.en.vtt\n",
      "[download] Destination: data\\en_CNN\\The situation is absolutely ‘apocalyptic,’ says surgeon on his recent trip to Gaza.en.vtt\n",
      "[download] 100% of   20.47KiB in 00:00:00 at 212.39KiB/s\n",
      "[youtube] Extracting URL: https://youtube.com/watch?v=r6s5C5GhnAY\n",
      "[youtube] r6s5C5GhnAY: Downloading webpage\n",
      "[youtube] r6s5C5GhnAY: Downloading ios player API JSON\n",
      "[youtube] r6s5C5GhnAY: Downloading web creator player API JSON\n",
      "[youtube] r6s5C5GhnAY: Downloading m3u8 information\n",
      "[info] r6s5C5GhnAY: Downloading subtitles: en\n"
     ]
    },
    {
     "name": "stderr",
     "output_type": "stream",
     "text": [
      "WARNING: ffmpeg not found. The downloaded format may not be the best available. Installing ffmpeg is strongly recommended: https://github.com/yt-dlp/yt-dlp#dependencies\n"
     ]
    },
    {
     "name": "stdout",
     "output_type": "stream",
     "text": [
      "[youtube] Extracting URL: https://youtube.com/watch?v=r6s5C5GhnAY\n",
      "[youtube] r6s5C5GhnAY: Downloading webpage\n",
      "[youtube] r6s5C5GhnAY: Downloading ios player API JSON\n",
      "[youtube] r6s5C5GhnAY: Downloading web creator player API JSON\n",
      "[youtube] r6s5C5GhnAY: Downloading m3u8 information\n",
      "[info] r6s5C5GhnAY: Downloading subtitles: en\n"
     ]
    },
    {
     "name": "stderr",
     "output_type": "stream",
     "text": [
      "WARNING: ffmpeg not found. The downloaded format may not be the best available. Installing ffmpeg is strongly recommended: https://github.com/yt-dlp/yt-dlp#dependencies\n"
     ]
    },
    {
     "name": "stdout",
     "output_type": "stream",
     "text": [
      "[info] r6s5C5GhnAY: Downloading 1 format(s): 18\n",
      "[info] Writing video subtitles to: data\\en_CNN\\'It was like that place didn't exist' See doctors' journey leaving Gaza.en.vtt\n",
      "[download] Destination: data\\en_CNN\\'It was like that place didn't exist' See doctors' journey leaving Gaza.en.vtt\n",
      "[download] 100% of    4.64KiB in 00:00:00 at 48.21KiB/s\n",
      "[youtube] Extracting URL: https://youtube.com/watch?v=l-RBT5KE_Z4\n",
      "[youtube] l-RBT5KE_Z4: Downloading webpage\n",
      "[youtube] l-RBT5KE_Z4: Downloading ios player API JSON\n",
      "[youtube] l-RBT5KE_Z4: Downloading web creator player API JSON\n",
      "[youtube] l-RBT5KE_Z4: Downloading m3u8 information\n",
      "[info] l-RBT5KE_Z4: Downloading subtitles: en\n"
     ]
    },
    {
     "name": "stderr",
     "output_type": "stream",
     "text": [
      "WARNING: ffmpeg not found. The downloaded format may not be the best available. Installing ffmpeg is strongly recommended: https://github.com/yt-dlp/yt-dlp#dependencies\n"
     ]
    },
    {
     "name": "stdout",
     "output_type": "stream",
     "text": [
      "[youtube] Extracting URL: https://youtube.com/watch?v=l-RBT5KE_Z4\n",
      "[youtube] l-RBT5KE_Z4: Downloading webpage\n",
      "[youtube] l-RBT5KE_Z4: Downloading ios player API JSON\n",
      "[youtube] l-RBT5KE_Z4: Downloading web creator player API JSON\n",
      "[youtube] l-RBT5KE_Z4: Downloading m3u8 information\n",
      "[info] l-RBT5KE_Z4: Downloading subtitles: en\n"
     ]
    },
    {
     "name": "stderr",
     "output_type": "stream",
     "text": [
      "WARNING: ffmpeg not found. The downloaded format may not be the best available. Installing ffmpeg is strongly recommended: https://github.com/yt-dlp/yt-dlp#dependencies\n"
     ]
    },
    {
     "name": "stdout",
     "output_type": "stream",
     "text": [
      "[info] l-RBT5KE_Z4: Downloading 1 format(s): 18\n",
      "[info] Writing video subtitles to: data\\en_CNN\\Video shows helicopter rescue of Israeli hostages.en.vtt\n",
      "[download] Destination: data\\en_CNN\\Video shows helicopter rescue of Israeli hostages.en.vtt\n",
      "[download] 100% of   14.37KiB in 00:00:00 at 60.41KiB/s\n",
      "[youtube] Extracting URL: https://youtube.com/watch?v=hRxrebQrR4o\n",
      "[youtube] hRxrebQrR4o: Downloading webpage\n",
      "[youtube] hRxrebQrR4o: Downloading ios player API JSON\n",
      "[youtube] hRxrebQrR4o: Downloading web creator player API JSON\n",
      "[youtube] hRxrebQrR4o: Downloading m3u8 information\n",
      "[info] hRxrebQrR4o: Downloading subtitles: en-uYU-mmqFLq8\n"
     ]
    },
    {
     "name": "stderr",
     "output_type": "stream",
     "text": [
      "WARNING: ffmpeg not found. The downloaded format may not be the best available. Installing ffmpeg is strongly recommended: https://github.com/yt-dlp/yt-dlp#dependencies\n"
     ]
    },
    {
     "name": "stdout",
     "output_type": "stream",
     "text": [
      "[youtube] Extracting URL: https://youtube.com/watch?v=hRxrebQrR4o\n",
      "[youtube] hRxrebQrR4o: Downloading webpage\n",
      "[youtube] hRxrebQrR4o: Downloading ios player API JSON\n",
      "[youtube] hRxrebQrR4o: Downloading web creator player API JSON\n",
      "[youtube] hRxrebQrR4o: Downloading m3u8 information\n",
      "[info] hRxrebQrR4o: Downloading subtitles: en\n"
     ]
    },
    {
     "name": "stderr",
     "output_type": "stream",
     "text": [
      "WARNING: ffmpeg not found. The downloaded format may not be the best available. Installing ffmpeg is strongly recommended: https://github.com/yt-dlp/yt-dlp#dependencies\n"
     ]
    },
    {
     "name": "stdout",
     "output_type": "stream",
     "text": [
      "[info] hRxrebQrR4o: Downloading 1 format(s): 18\n",
      "[info] Writing video subtitles to: data\\en_CNN\\Jake Sullivan clarifies US involvement in operation to rescue four Israeli hostages.en.vtt\n",
      "[hlsnative] Downloading m3u8 manifest\n",
      "[hlsnative] Total fragments: 1\n",
      "[download] Destination: data\\en_CNN\\Jake Sullivan clarifies US involvement in operation to rescue four Israeli hostages.en.vtt\n",
      "[download] 100% of  148.56KiB in 00:00:00 at 491.88KiB/s               \n",
      "[youtube] Extracting URL: https://youtube.com/watch?v=Ur7pc-OqXXM\n",
      "[youtube] Ur7pc-OqXXM: Downloading webpage\n",
      "[youtube] Ur7pc-OqXXM: Downloading ios player API JSON\n",
      "[youtube] Ur7pc-OqXXM: Downloading web creator player API JSON\n",
      "[youtube] Ur7pc-OqXXM: Downloading m3u8 information\n",
      "[info] Ur7pc-OqXXM: Downloading subtitles: en\n"
     ]
    },
    {
     "name": "stderr",
     "output_type": "stream",
     "text": [
      "WARNING: ffmpeg not found. The downloaded format may not be the best available. Installing ffmpeg is strongly recommended: https://github.com/yt-dlp/yt-dlp#dependencies\n"
     ]
    },
    {
     "name": "stdout",
     "output_type": "stream",
     "text": [
      "[youtube] Extracting URL: https://youtube.com/watch?v=Ur7pc-OqXXM\n",
      "[youtube] Ur7pc-OqXXM: Downloading webpage\n",
      "[youtube] Ur7pc-OqXXM: Downloading ios player API JSON\n",
      "[youtube] Ur7pc-OqXXM: Downloading web creator player API JSON\n",
      "[youtube] Ur7pc-OqXXM: Downloading m3u8 information\n",
      "[info] Ur7pc-OqXXM: Downloading subtitles: en\n"
     ]
    },
    {
     "name": "stderr",
     "output_type": "stream",
     "text": [
      "WARNING: ffmpeg not found. The downloaded format may not be the best available. Installing ffmpeg is strongly recommended: https://github.com/yt-dlp/yt-dlp#dependencies\n"
     ]
    },
    {
     "name": "stdout",
     "output_type": "stream",
     "text": [
      "[info] Ur7pc-OqXXM: Downloading 1 format(s): 18\n",
      "[info] Writing video subtitles to: data\\en_CNN\\Israeli minister Benny Gantz resigns from Netanyahu's war cabinet.en.vtt\n",
      "[download] Destination: data\\en_CNN\\Israeli minister Benny Gantz resigns from Netanyahu's war cabinet.en.vtt\n",
      "[download] 100% of   18.81KiB in 00:00:00 at 109.30KiB/s\n",
      "[youtube] Extracting URL: https://youtube.com/watch?v=RCxMyVIprCg\n",
      "[youtube] RCxMyVIprCg: Downloading webpage\n",
      "[youtube] RCxMyVIprCg: Downloading ios player API JSON\n",
      "[youtube] RCxMyVIprCg: Downloading web creator player API JSON\n",
      "[youtube] RCxMyVIprCg: Downloading m3u8 information\n",
      "[info] RCxMyVIprCg: Downloading subtitles: en-uYU-mmqFLq8\n"
     ]
    },
    {
     "name": "stderr",
     "output_type": "stream",
     "text": [
      "WARNING: ffmpeg not found. The downloaded format may not be the best available. Installing ffmpeg is strongly recommended: https://github.com/yt-dlp/yt-dlp#dependencies\n"
     ]
    },
    {
     "name": "stdout",
     "output_type": "stream",
     "text": [
      "[youtube] Extracting URL: https://youtube.com/watch?v=RCxMyVIprCg\n",
      "[youtube] RCxMyVIprCg: Downloading webpage\n",
      "[youtube] RCxMyVIprCg: Downloading ios player API JSON\n",
      "[youtube] RCxMyVIprCg: Downloading web creator player API JSON\n",
      "[youtube] RCxMyVIprCg: Downloading m3u8 information\n",
      "[info] RCxMyVIprCg: Downloading subtitles: en\n"
     ]
    },
    {
     "name": "stderr",
     "output_type": "stream",
     "text": [
      "WARNING: ffmpeg not found. The downloaded format may not be the best available. Installing ffmpeg is strongly recommended: https://github.com/yt-dlp/yt-dlp#dependencies\n"
     ]
    },
    {
     "name": "stdout",
     "output_type": "stream",
     "text": [
      "[info] RCxMyVIprCg: Downloading 1 format(s): 18\n",
      "[info] Writing video subtitles to: data\\en_CNN\\Samantha Power describes 'devastating' humanitarian situation in Gaza.en.vtt\n",
      "[hlsnative] Downloading m3u8 manifest\n",
      "[hlsnative] Total fragments: 1\n",
      "[download] Destination: data\\en_CNN\\Samantha Power describes 'devastating' humanitarian situation in Gaza.en.vtt\n",
      "[download] 100% of    6.15KiB in 00:00:00 at 28.64KiB/s                \n",
      "[youtube] Extracting URL: https://youtube.com/watch?v=ImBFUfwWgII\n",
      "[youtube] ImBFUfwWgII: Downloading webpage\n",
      "[youtube] ImBFUfwWgII: Downloading ios player API JSON\n",
      "[youtube] ImBFUfwWgII: Downloading web creator player API JSON\n",
      "[youtube] ImBFUfwWgII: Downloading m3u8 information\n"
     ]
    },
    {
     "name": "stderr",
     "output_type": "stream",
     "text": [
      "WARNING: ffmpeg not found. The downloaded format may not be the best available. Installing ffmpeg is strongly recommended: https://github.com/yt-dlp/yt-dlp#dependencies\n"
     ]
    },
    {
     "name": "stdout",
     "output_type": "stream",
     "text": [
      "subtitle file not found\n",
      "[youtube] Extracting URL: https://youtube.com/watch?v=LRQaFxADQjg\n",
      "[youtube] LRQaFxADQjg: Downloading webpage\n",
      "[youtube] LRQaFxADQjg: Downloading ios player API JSON\n",
      "[youtube] LRQaFxADQjg: Downloading web creator player API JSON\n",
      "[youtube] LRQaFxADQjg: Downloading m3u8 information\n",
      "[info] LRQaFxADQjg: Downloading subtitles: en\n"
     ]
    },
    {
     "name": "stderr",
     "output_type": "stream",
     "text": [
      "WARNING: ffmpeg not found. The downloaded format may not be the best available. Installing ffmpeg is strongly recommended: https://github.com/yt-dlp/yt-dlp#dependencies\n"
     ]
    },
    {
     "name": "stdout",
     "output_type": "stream",
     "text": [
      "[youtube] Extracting URL: https://youtube.com/watch?v=LRQaFxADQjg\n",
      "[youtube] LRQaFxADQjg: Downloading webpage\n",
      "[youtube] LRQaFxADQjg: Downloading ios player API JSON\n",
      "[youtube] LRQaFxADQjg: Downloading web creator player API JSON\n",
      "[youtube] LRQaFxADQjg: Downloading m3u8 information\n",
      "[info] LRQaFxADQjg: Downloading subtitles: en\n"
     ]
    },
    {
     "name": "stderr",
     "output_type": "stream",
     "text": [
      "WARNING: ffmpeg not found. The downloaded format may not be the best available. Installing ffmpeg is strongly recommended: https://github.com/yt-dlp/yt-dlp#dependencies\n"
     ]
    },
    {
     "name": "stdout",
     "output_type": "stream",
     "text": [
      "[info] LRQaFxADQjg: Downloading 1 format(s): 18\n",
      "[info] Writing video subtitles to: data\\en_CNN\\Benjamin Netanyahu disbands Israeli war cabinet.en.vtt\n",
      "[download] Destination: data\\en_CNN\\Benjamin Netanyahu disbands Israeli war cabinet.en.vtt\n",
      "[download] 100% of   12.55KiB in 00:00:00 at 36.75KiB/s\n",
      "[youtube] Extracting URL: https://youtube.com/watch?v=upZ61_Kb_ZM\n",
      "[youtube] upZ61_Kb_ZM: Downloading webpage\n",
      "[youtube] upZ61_Kb_ZM: Downloading ios player API JSON\n",
      "[youtube] upZ61_Kb_ZM: Downloading web creator player API JSON\n",
      "[youtube] upZ61_Kb_ZM: Downloading m3u8 information\n",
      "[info] upZ61_Kb_ZM: Downloading subtitles: en-uYU-mmqFLq8\n"
     ]
    },
    {
     "name": "stderr",
     "output_type": "stream",
     "text": [
      "WARNING: ffmpeg not found. The downloaded format may not be the best available. Installing ffmpeg is strongly recommended: https://github.com/yt-dlp/yt-dlp#dependencies\n"
     ]
    },
    {
     "name": "stdout",
     "output_type": "stream",
     "text": [
      "[youtube] Extracting URL: https://youtube.com/watch?v=upZ61_Kb_ZM\n",
      "[youtube] upZ61_Kb_ZM: Downloading webpage\n",
      "[youtube] upZ61_Kb_ZM: Downloading ios player API JSON\n",
      "[youtube] upZ61_Kb_ZM: Downloading web creator player API JSON\n",
      "[youtube] upZ61_Kb_ZM: Downloading m3u8 information\n",
      "[info] upZ61_Kb_ZM: Downloading subtitles: en\n"
     ]
    },
    {
     "name": "stderr",
     "output_type": "stream",
     "text": [
      "WARNING: ffmpeg not found. The downloaded format may not be the best available. Installing ffmpeg is strongly recommended: https://github.com/yt-dlp/yt-dlp#dependencies\n"
     ]
    },
    {
     "name": "stdout",
     "output_type": "stream",
     "text": [
      "[info] upZ61_Kb_ZM: Downloading 1 format(s): 18\n",
      "[info] Writing video subtitles to: data\\en_CNN\\‘Inconceivable’ Bernie Sanders slams Netanyahu’s approach to war against Hamas.en.vtt\n",
      "[hlsnative] Downloading m3u8 manifest\n",
      "[hlsnative] Total fragments: 2\n",
      "[download] Destination: data\\en_CNN\\‘Inconceivable’ Bernie Sanders slams Netanyahu’s approach to war against Hamas.en.vtt\n",
      "[download] 100% of   11.21KiB in 00:00:00 at 38.77KiB/s                \n",
      "[youtube] Extracting URL: https://youtube.com/watch?v=GVaNT_6xN3w\n",
      "[youtube] GVaNT_6xN3w: Downloading webpage\n",
      "[youtube] GVaNT_6xN3w: Downloading ios player API JSON\n",
      "[youtube] GVaNT_6xN3w: Downloading web creator player API JSON\n",
      "[youtube] GVaNT_6xN3w: Downloading m3u8 information\n"
     ]
    },
    {
     "name": "stderr",
     "output_type": "stream",
     "text": [
      "WARNING: ffmpeg not found. The downloaded format may not be the best available. Installing ffmpeg is strongly recommended: https://github.com/yt-dlp/yt-dlp#dependencies\n"
     ]
    },
    {
     "name": "stdout",
     "output_type": "stream",
     "text": [
      "subtitle file not found\n",
      "[youtube] Extracting URL: https://youtube.com/watch?v=n_LixBP0vXE\n",
      "[youtube] n_LixBP0vXE: Downloading webpage\n",
      "[youtube] n_LixBP0vXE: Downloading ios player API JSON\n",
      "[youtube] n_LixBP0vXE: Downloading web creator player API JSON\n",
      "[youtube] n_LixBP0vXE: Downloading m3u8 information\n",
      "[info] n_LixBP0vXE: Downloading subtitles: en\n"
     ]
    },
    {
     "name": "stderr",
     "output_type": "stream",
     "text": [
      "WARNING: ffmpeg not found. The downloaded format may not be the best available. Installing ffmpeg is strongly recommended: https://github.com/yt-dlp/yt-dlp#dependencies\n"
     ]
    },
    {
     "name": "stdout",
     "output_type": "stream",
     "text": [
      "[youtube] Extracting URL: https://youtube.com/watch?v=n_LixBP0vXE\n",
      "[youtube] n_LixBP0vXE: Downloading webpage\n",
      "[youtube] n_LixBP0vXE: Downloading ios player API JSON\n",
      "[youtube] n_LixBP0vXE: Downloading web creator player API JSON\n",
      "[youtube] n_LixBP0vXE: Downloading m3u8 information\n",
      "[info] n_LixBP0vXE: Downloading subtitles: en\n"
     ]
    },
    {
     "name": "stderr",
     "output_type": "stream",
     "text": [
      "WARNING: ffmpeg not found. The downloaded format may not be the best available. Installing ffmpeg is strongly recommended: https://github.com/yt-dlp/yt-dlp#dependencies\n"
     ]
    },
    {
     "name": "stdout",
     "output_type": "stream",
     "text": [
      "[info] n_LixBP0vXE: Downloading 1 format(s): 18\n",
      "[info] Writing video subtitles to: data\\en_CNN\\Israel warns of possible ‘all-out war’ after Hezbollah publishes video of military, civilian sites.en.vtt\n",
      "[download] Destination: data\\en_CNN\\Israel warns of possible ‘all-out war’ after Hezbollah publishes video of military, civilian sites.en.vtt\n",
      "[download] 100% of   17.58KiB in 00:00:00 at 105.18KiB/s\n",
      "[youtube] Extracting URL: https://youtube.com/watch?v=x-_CMqXpHFU\n",
      "[youtube] x-_CMqXpHFU: Downloading webpage\n",
      "[youtube] x-_CMqXpHFU: Downloading ios player API JSON\n",
      "[youtube] x-_CMqXpHFU: Downloading web creator player API JSON\n",
      "[youtube] x-_CMqXpHFU: Downloading m3u8 information\n"
     ]
    },
    {
     "name": "stderr",
     "output_type": "stream",
     "text": [
      "WARNING: ffmpeg not found. The downloaded format may not be the best available. Installing ffmpeg is strongly recommended: https://github.com/yt-dlp/yt-dlp#dependencies\n"
     ]
    },
    {
     "name": "stdout",
     "output_type": "stream",
     "text": [
      "subtitle file not found\n",
      "[youtube] Extracting URL: https://youtube.com/watch?v=J1OkO6TW3Ck\n",
      "[youtube] J1OkO6TW3Ck: Downloading webpage\n",
      "[youtube] J1OkO6TW3Ck: Downloading ios player API JSON\n",
      "[youtube] J1OkO6TW3Ck: Downloading web creator player API JSON\n",
      "[youtube] J1OkO6TW3Ck: Downloading m3u8 information\n",
      "[info] J1OkO6TW3Ck: Downloading subtitles: en\n"
     ]
    },
    {
     "name": "stderr",
     "output_type": "stream",
     "text": [
      "WARNING: ffmpeg not found. The downloaded format may not be the best available. Installing ffmpeg is strongly recommended: https://github.com/yt-dlp/yt-dlp#dependencies\n"
     ]
    },
    {
     "name": "stdout",
     "output_type": "stream",
     "text": [
      "[youtube] Extracting URL: https://youtube.com/watch?v=J1OkO6TW3Ck\n",
      "[youtube] J1OkO6TW3Ck: Downloading webpage\n",
      "[youtube] J1OkO6TW3Ck: Downloading ios player API JSON\n",
      "[youtube] J1OkO6TW3Ck: Downloading web creator player API JSON\n",
      "[youtube] J1OkO6TW3Ck: Downloading m3u8 information\n",
      "[info] J1OkO6TW3Ck: Downloading subtitles: en\n"
     ]
    },
    {
     "name": "stderr",
     "output_type": "stream",
     "text": [
      "WARNING: ffmpeg not found. The downloaded format may not be the best available. Installing ffmpeg is strongly recommended: https://github.com/yt-dlp/yt-dlp#dependencies\n"
     ]
    },
    {
     "name": "stdout",
     "output_type": "stream",
     "text": [
      "[info] J1OkO6TW3Ck: Downloading 1 format(s): 18\n",
      "[info] Writing video subtitles to: data\\en_CNN\\Ex-US Defense Secy. under Trump explains the message Hezbollah is sending Israel.en.vtt\n",
      "[download] Destination: data\\en_CNN\\Ex-US Defense Secy. under Trump explains the message Hezbollah is sending Israel.en.vtt\n",
      "[download] 100% of   11.59KiB in 00:00:00 at 35.23KiB/s\n",
      "[youtube] Extracting URL: https://youtube.com/watch?v=3-g3tHgUfW0\n",
      "[youtube] 3-g3tHgUfW0: Downloading webpage\n",
      "[youtube] 3-g3tHgUfW0: Downloading ios player API JSON\n",
      "[youtube] 3-g3tHgUfW0: Downloading web creator player API JSON\n",
      "[youtube] 3-g3tHgUfW0: Downloading m3u8 information\n",
      "[info] 3-g3tHgUfW0: Downloading subtitles: en\n"
     ]
    },
    {
     "name": "stderr",
     "output_type": "stream",
     "text": [
      "WARNING: ffmpeg not found. The downloaded format may not be the best available. Installing ffmpeg is strongly recommended: https://github.com/yt-dlp/yt-dlp#dependencies\n"
     ]
    },
    {
     "name": "stdout",
     "output_type": "stream",
     "text": [
      "[youtube] Extracting URL: https://youtube.com/watch?v=3-g3tHgUfW0\n",
      "[youtube] 3-g3tHgUfW0: Downloading webpage\n",
      "[youtube] 3-g3tHgUfW0: Downloading ios player API JSON\n",
      "[youtube] 3-g3tHgUfW0: Downloading web creator player API JSON\n",
      "[youtube] 3-g3tHgUfW0: Downloading m3u8 information\n",
      "[info] 3-g3tHgUfW0: Downloading subtitles: en\n"
     ]
    },
    {
     "name": "stderr",
     "output_type": "stream",
     "text": [
      "WARNING: ffmpeg not found. The downloaded format may not be the best available. Installing ffmpeg is strongly recommended: https://github.com/yt-dlp/yt-dlp#dependencies\n"
     ]
    },
    {
     "name": "stdout",
     "output_type": "stream",
     "text": [
      "[info] 3-g3tHgUfW0: Downloading 1 format(s): 18\n",
      "[info] Writing video subtitles to: data\\en_CNN\\Threats of all-out war grow between Israel and Hezbollah.en.vtt\n",
      "[download] Destination: data\\en_CNN\\Threats of all-out war grow between Israel and Hezbollah.en.vtt\n",
      "[download] 100% of   10.71KiB in 00:00:00 at 101.02KiB/s\n",
      "[youtube] Extracting URL: https://youtube.com/watch?v=FWibxMDbMFc\n",
      "[youtube] FWibxMDbMFc: Downloading webpage\n",
      "[youtube] FWibxMDbMFc: Downloading ios player API JSON\n",
      "[youtube] FWibxMDbMFc: Downloading web creator player API JSON\n",
      "[youtube] FWibxMDbMFc: Downloading m3u8 information\n",
      "[info] FWibxMDbMFc: Downloading subtitles: en\n"
     ]
    },
    {
     "name": "stderr",
     "output_type": "stream",
     "text": [
      "WARNING: ffmpeg not found. The downloaded format may not be the best available. Installing ffmpeg is strongly recommended: https://github.com/yt-dlp/yt-dlp#dependencies\n"
     ]
    },
    {
     "name": "stdout",
     "output_type": "stream",
     "text": [
      "[youtube] Extracting URL: https://youtube.com/watch?v=FWibxMDbMFc\n",
      "[youtube] FWibxMDbMFc: Downloading webpage\n",
      "[youtube] FWibxMDbMFc: Downloading ios player API JSON\n",
      "[youtube] FWibxMDbMFc: Downloading web creator player API JSON\n",
      "[youtube] FWibxMDbMFc: Downloading m3u8 information\n",
      "[info] FWibxMDbMFc: Downloading subtitles: en\n"
     ]
    },
    {
     "name": "stderr",
     "output_type": "stream",
     "text": [
      "WARNING: ffmpeg not found. The downloaded format may not be the best available. Installing ffmpeg is strongly recommended: https://github.com/yt-dlp/yt-dlp#dependencies\n"
     ]
    },
    {
     "name": "stdout",
     "output_type": "stream",
     "text": [
      "[info] FWibxMDbMFc: Downloading 1 format(s): 18\n",
      "[info] Writing video subtitles to: data\\en_CNN\\'We have 3 minutes' CNN goes inside one of most dangerous places in northern Israel.en.vtt\n",
      "[download] Destination: data\\en_CNN\\'We have 3 minutes' CNN goes inside one of most dangerous places in northern Israel.en.vtt\n",
      "[download] 100% of   19.08KiB in 00:00:00 at 85.94KiB/s\n",
      "[youtube] Extracting URL: https://youtube.com/watch?v=IXLANlZX4tg\n",
      "[youtube] IXLANlZX4tg: Downloading webpage\n",
      "[youtube] IXLANlZX4tg: Downloading ios player API JSON\n",
      "[youtube] IXLANlZX4tg: Downloading web creator player API JSON\n",
      "[youtube] IXLANlZX4tg: Downloading m3u8 information\n",
      "[info] IXLANlZX4tg: Downloading subtitles: en\n"
     ]
    },
    {
     "name": "stderr",
     "output_type": "stream",
     "text": [
      "WARNING: ffmpeg not found. The downloaded format may not be the best available. Installing ffmpeg is strongly recommended: https://github.com/yt-dlp/yt-dlp#dependencies\n"
     ]
    },
    {
     "name": "stdout",
     "output_type": "stream",
     "text": [
      "[youtube] Extracting URL: https://youtube.com/watch?v=IXLANlZX4tg\n",
      "[youtube] IXLANlZX4tg: Downloading webpage\n",
      "[youtube] IXLANlZX4tg: Downloading ios player API JSON\n",
      "[youtube] IXLANlZX4tg: Downloading web creator player API JSON\n",
      "[youtube] IXLANlZX4tg: Downloading m3u8 information\n",
      "[info] IXLANlZX4tg: Downloading subtitles: en\n"
     ]
    },
    {
     "name": "stderr",
     "output_type": "stream",
     "text": [
      "WARNING: ffmpeg not found. The downloaded format may not be the best available. Installing ffmpeg is strongly recommended: https://github.com/yt-dlp/yt-dlp#dependencies\n"
     ]
    },
    {
     "name": "stdout",
     "output_type": "stream",
     "text": [
      "[info] IXLANlZX4tg: Downloading 1 format(s): 18\n",
      "[info] Writing video subtitles to: data\\en_CNN\\This Israeli battalion has a history of abuse. CNN uncovers how their commanders are now operating.en.vtt\n",
      "[download] Destination: data\\en_CNN\\This Israeli battalion has a history of abuse. CNN uncovers how their commanders are now operating.en.vtt\n",
      "[download] 100% of   10.75KiB in 00:00:00 at 94.35KiB/s\n",
      "[youtube] Extracting URL: https://youtube.com/watch?v=T_0cXkyvTBg\n",
      "[youtube] T_0cXkyvTBg: Downloading webpage\n",
      "[youtube] T_0cXkyvTBg: Downloading ios player API JSON\n",
      "[youtube] T_0cXkyvTBg: Downloading web creator player API JSON\n",
      "[youtube] T_0cXkyvTBg: Downloading m3u8 information\n",
      "[info] T_0cXkyvTBg: Downloading subtitles: en\n"
     ]
    },
    {
     "name": "stderr",
     "output_type": "stream",
     "text": [
      "WARNING: ffmpeg not found. The downloaded format may not be the best available. Installing ffmpeg is strongly recommended: https://github.com/yt-dlp/yt-dlp#dependencies\n"
     ]
    },
    {
     "name": "stdout",
     "output_type": "stream",
     "text": [
      "[youtube] Extracting URL: https://youtube.com/watch?v=T_0cXkyvTBg\n",
      "[youtube] T_0cXkyvTBg: Downloading webpage\n",
      "[youtube] T_0cXkyvTBg: Downloading ios player API JSON\n",
      "[youtube] T_0cXkyvTBg: Downloading web creator player API JSON\n",
      "[youtube] T_0cXkyvTBg: Downloading m3u8 information\n",
      "[info] T_0cXkyvTBg: Downloading subtitles: en\n"
     ]
    },
    {
     "name": "stderr",
     "output_type": "stream",
     "text": [
      "WARNING: ffmpeg not found. The downloaded format may not be the best available. Installing ffmpeg is strongly recommended: https://github.com/yt-dlp/yt-dlp#dependencies\n"
     ]
    },
    {
     "name": "stdout",
     "output_type": "stream",
     "text": [
      "[info] T_0cXkyvTBg: Downloading 1 format(s): 18\n",
      "[info] Writing video subtitles to: data\\en_CNN\\Bernie Sanders rips Netanyahu ahead of high-stakes speech to Congress.en.vtt\n",
      "[download] Destination: data\\en_CNN\\Bernie Sanders rips Netanyahu ahead of high-stakes speech to Congress.en.vtt\n",
      "[download] 100% of   20.75KiB in 00:00:00 at 76.74KiB/s\n",
      "[youtube] Extracting URL: https://youtube.com/watch?v=RUUqUNYFcmo\n",
      "[youtube] RUUqUNYFcmo: Downloading webpage\n",
      "[youtube] RUUqUNYFcmo: Downloading ios player API JSON\n",
      "[youtube] RUUqUNYFcmo: Downloading web creator player API JSON\n",
      "[youtube] RUUqUNYFcmo: Downloading m3u8 information\n",
      "[info] RUUqUNYFcmo: Downloading subtitles: en\n"
     ]
    },
    {
     "name": "stderr",
     "output_type": "stream",
     "text": [
      "WARNING: ffmpeg not found. The downloaded format may not be the best available. Installing ffmpeg is strongly recommended: https://github.com/yt-dlp/yt-dlp#dependencies\n"
     ]
    },
    {
     "name": "stdout",
     "output_type": "stream",
     "text": [
      "[youtube] Extracting URL: https://youtube.com/watch?v=RUUqUNYFcmo\n",
      "[youtube] RUUqUNYFcmo: Downloading webpage\n",
      "[youtube] RUUqUNYFcmo: Downloading ios player API JSON\n",
      "[youtube] RUUqUNYFcmo: Downloading web creator player API JSON\n",
      "[youtube] RUUqUNYFcmo: Downloading m3u8 information\n",
      "[info] RUUqUNYFcmo: Downloading subtitles: en\n"
     ]
    },
    {
     "name": "stderr",
     "output_type": "stream",
     "text": [
      "WARNING: ffmpeg not found. The downloaded format may not be the best available. Installing ffmpeg is strongly recommended: https://github.com/yt-dlp/yt-dlp#dependencies\n"
     ]
    },
    {
     "name": "stdout",
     "output_type": "stream",
     "text": [
      "[info] RUUqUNYFcmo: Downloading 1 format(s): 18\n",
      "[info] Writing video subtitles to: data\\en_CNN\\‘Iran’s useful idiots’ Netanyahu calls out protesters during speech to Congress.en.vtt\n",
      "[download] Destination: data\\en_CNN\\‘Iran’s useful idiots’ Netanyahu calls out protesters during speech to Congress.en.vtt\n",
      "[download] 100% of   19.38KiB in 00:00:00 at 113.51KiB/s\n",
      "[youtube] Extracting URL: https://youtube.com/watch?v=jJkdgDneBho\n",
      "[youtube] jJkdgDneBho: Downloading webpage\n",
      "[youtube] jJkdgDneBho: Downloading ios player API JSON\n",
      "[youtube] jJkdgDneBho: Downloading web creator player API JSON\n",
      "[youtube] jJkdgDneBho: Downloading m3u8 information\n",
      "[info] jJkdgDneBho: Downloading subtitles: en\n"
     ]
    },
    {
     "name": "stderr",
     "output_type": "stream",
     "text": [
      "WARNING: ffmpeg not found. The downloaded format may not be the best available. Installing ffmpeg is strongly recommended: https://github.com/yt-dlp/yt-dlp#dependencies\n"
     ]
    },
    {
     "name": "stdout",
     "output_type": "stream",
     "text": [
      "[youtube] Extracting URL: https://youtube.com/watch?v=jJkdgDneBho\n",
      "[youtube] jJkdgDneBho: Downloading webpage\n",
      "[youtube] jJkdgDneBho: Downloading ios player API JSON\n",
      "[youtube] jJkdgDneBho: Downloading web creator player API JSON\n",
      "[youtube] jJkdgDneBho: Downloading m3u8 information\n",
      "[info] jJkdgDneBho: Downloading subtitles: en\n"
     ]
    },
    {
     "name": "stderr",
     "output_type": "stream",
     "text": [
      "WARNING: ffmpeg not found. The downloaded format may not be the best available. Installing ffmpeg is strongly recommended: https://github.com/yt-dlp/yt-dlp#dependencies\n"
     ]
    },
    {
     "name": "stdout",
     "output_type": "stream",
     "text": [
      "[info] jJkdgDneBho: Downloading 1 format(s): 18\n",
      "[info] Writing video subtitles to: data\\en_CNN\\Flags burned, monuments graffitied and US flags replaced with Palestinian ones by protesters.en.vtt\n",
      "[download] Destination: data\\en_CNN\\Flags burned, monuments graffitied and US flags replaced with Palestinian ones by protesters.en.vtt\n",
      "[download] 100% of   23.38KiB in 00:00:00 at 153.60KiB/s\n",
      "[youtube] Extracting URL: https://youtube.com/watch?v=EuylZvvtTxc\n",
      "[youtube] EuylZvvtTxc: Downloading webpage\n",
      "[youtube] EuylZvvtTxc: Downloading ios player API JSON\n",
      "[youtube] EuylZvvtTxc: Downloading web creator player API JSON\n",
      "[youtube] EuylZvvtTxc: Downloading m3u8 information\n",
      "[info] EuylZvvtTxc: Downloading subtitles: en\n"
     ]
    },
    {
     "name": "stderr",
     "output_type": "stream",
     "text": [
      "WARNING: ffmpeg not found. The downloaded format may not be the best available. Installing ffmpeg is strongly recommended: https://github.com/yt-dlp/yt-dlp#dependencies\n"
     ]
    },
    {
     "name": "stdout",
     "output_type": "stream",
     "text": [
      "[youtube] Extracting URL: https://youtube.com/watch?v=EuylZvvtTxc\n",
      "[youtube] EuylZvvtTxc: Downloading webpage\n",
      "[youtube] EuylZvvtTxc: Downloading ios player API JSON\n",
      "[youtube] EuylZvvtTxc: Downloading web creator player API JSON\n",
      "[youtube] EuylZvvtTxc: Downloading m3u8 information\n",
      "[info] EuylZvvtTxc: Downloading subtitles: en\n"
     ]
    },
    {
     "name": "stderr",
     "output_type": "stream",
     "text": [
      "WARNING: ffmpeg not found. The downloaded format may not be the best available. Installing ffmpeg is strongly recommended: https://github.com/yt-dlp/yt-dlp#dependencies\n"
     ]
    },
    {
     "name": "stdout",
     "output_type": "stream",
     "text": [
      "[info] EuylZvvtTxc: Downloading 1 format(s): 18\n",
      "[info] Writing video subtitles to: data\\en_CNN\\Catch up on Netanyahu’s speech to Congress and analysis.en.vtt\n",
      "[download] Destination: data\\en_CNN\\Catch up on Netanyahu’s speech to Congress and analysis.en.vtt\n",
      "[download] 100% of   65.35KiB in 00:00:00 at 222.10KiB/s\n",
      "[youtube] Extracting URL: https://youtube.com/watch?v=D7eNeon9vKU\n",
      "[youtube] D7eNeon9vKU: Downloading webpage\n",
      "[youtube] D7eNeon9vKU: Downloading ios player API JSON\n",
      "[youtube] D7eNeon9vKU: Downloading web creator player API JSON\n",
      "[youtube] D7eNeon9vKU: Downloading m3u8 information\n",
      "[info] D7eNeon9vKU: Downloading subtitles: en\n"
     ]
    },
    {
     "name": "stderr",
     "output_type": "stream",
     "text": [
      "WARNING: ffmpeg not found. The downloaded format may not be the best available. Installing ffmpeg is strongly recommended: https://github.com/yt-dlp/yt-dlp#dependencies\n"
     ]
    },
    {
     "name": "stdout",
     "output_type": "stream",
     "text": [
      "[youtube] Extracting URL: https://youtube.com/watch?v=D7eNeon9vKU\n",
      "[youtube] D7eNeon9vKU: Downloading webpage\n",
      "[youtube] D7eNeon9vKU: Downloading ios player API JSON\n",
      "[youtube] D7eNeon9vKU: Downloading web creator player API JSON\n",
      "[youtube] D7eNeon9vKU: Downloading m3u8 information\n",
      "[info] D7eNeon9vKU: Downloading subtitles: en\n"
     ]
    },
    {
     "name": "stderr",
     "output_type": "stream",
     "text": [
      "WARNING: ffmpeg not found. The downloaded format may not be the best available. Installing ffmpeg is strongly recommended: https://github.com/yt-dlp/yt-dlp#dependencies\n"
     ]
    },
    {
     "name": "stdout",
     "output_type": "stream",
     "text": [
      "[info] D7eNeon9vKU: Downloading 1 format(s): 18\n",
      "[info] Writing video subtitles to: data\\en_CNN\\Hear what VP Harris says she told Israel's Netanyahu.en.vtt\n",
      "[download] Destination: data\\en_CNN\\Hear what VP Harris says she told Israel's Netanyahu.en.vtt\n",
      "[download] 100% of   19.05KiB in 00:00:00 at 115.99KiB/s\n",
      "[youtube] Extracting URL: https://youtube.com/watch?v=SeDri9zeCgc\n",
      "[youtube] SeDri9zeCgc: Downloading webpage\n",
      "[youtube] SeDri9zeCgc: Downloading ios player API JSON\n",
      "[youtube] SeDri9zeCgc: Downloading web creator player API JSON\n",
      "[youtube] SeDri9zeCgc: Downloading m3u8 information\n",
      "[info] SeDri9zeCgc: Downloading subtitles: en\n"
     ]
    },
    {
     "name": "stderr",
     "output_type": "stream",
     "text": [
      "WARNING: ffmpeg not found. The downloaded format may not be the best available. Installing ffmpeg is strongly recommended: https://github.com/yt-dlp/yt-dlp#dependencies\n"
     ]
    },
    {
     "name": "stdout",
     "output_type": "stream",
     "text": [
      "[youtube] Extracting URL: https://youtube.com/watch?v=SeDri9zeCgc\n",
      "[youtube] SeDri9zeCgc: Downloading webpage\n",
      "[youtube] SeDri9zeCgc: Downloading ios player API JSON\n",
      "[youtube] SeDri9zeCgc: Downloading web creator player API JSON\n",
      "[youtube] SeDri9zeCgc: Downloading m3u8 information\n",
      "[info] SeDri9zeCgc: Downloading subtitles: en\n"
     ]
    },
    {
     "name": "stderr",
     "output_type": "stream",
     "text": [
      "WARNING: ffmpeg not found. The downloaded format may not be the best available. Installing ffmpeg is strongly recommended: https://github.com/yt-dlp/yt-dlp#dependencies\n"
     ]
    },
    {
     "name": "stdout",
     "output_type": "stream",
     "text": [
      "[info] SeDri9zeCgc: Downloading 1 format(s): 18\n",
      "[info] Writing video subtitles to: data\\en_CNN\\Deadly strike in Golan Heights raises fears of major escalation.en.vtt\n",
      "[download] Destination: data\\en_CNN\\Deadly strike in Golan Heights raises fears of major escalation.en.vtt\n",
      "[download] 100% of   20.81KiB in 00:00:00 at 93.35KiB/s\n",
      "[youtube] Extracting URL: https://youtube.com/watch?v=5K-aUvgP8sE\n",
      "[youtube] 5K-aUvgP8sE: Downloading webpage\n",
      "[youtube] 5K-aUvgP8sE: Downloading ios player API JSON\n",
      "[youtube] 5K-aUvgP8sE: Downloading web creator player API JSON\n",
      "[youtube] 5K-aUvgP8sE: Downloading m3u8 information\n",
      "[info] 5K-aUvgP8sE: Downloading subtitles: en\n"
     ]
    },
    {
     "name": "stderr",
     "output_type": "stream",
     "text": [
      "WARNING: ffmpeg not found. The downloaded format may not be the best available. Installing ffmpeg is strongly recommended: https://github.com/yt-dlp/yt-dlp#dependencies\n"
     ]
    },
    {
     "name": "stdout",
     "output_type": "stream",
     "text": [
      "[youtube] Extracting URL: https://youtube.com/watch?v=5K-aUvgP8sE\n",
      "[youtube] 5K-aUvgP8sE: Downloading webpage\n",
      "[youtube] 5K-aUvgP8sE: Downloading ios player API JSON\n",
      "[youtube] 5K-aUvgP8sE: Downloading web creator player API JSON\n",
      "[youtube] 5K-aUvgP8sE: Downloading m3u8 information\n",
      "[info] 5K-aUvgP8sE: Downloading subtitles: en\n"
     ]
    },
    {
     "name": "stderr",
     "output_type": "stream",
     "text": [
      "WARNING: ffmpeg not found. The downloaded format may not be the best available. Installing ffmpeg is strongly recommended: https://github.com/yt-dlp/yt-dlp#dependencies\n"
     ]
    },
    {
     "name": "stdout",
     "output_type": "stream",
     "text": [
      "[info] 5K-aUvgP8sE: Downloading 1 format(s): 18\n",
      "[info] Writing video subtitles to: data\\en_CNN\\‘It wont be Hezbollah alone’ Lebanon’s FM warns against Israeli invasion.en.vtt\n",
      "[download] Destination: data\\en_CNN\\‘It wont be Hezbollah alone’ Lebanon’s FM warns against Israeli invasion.en.vtt\n",
      "[download] 100% of   17.46KiB in 00:00:00 at 141.64KiB/s\n",
      "[youtube] Extracting URL: https://youtube.com/watch?v=ErMsMa37UPk\n",
      "[youtube] ErMsMa37UPk: Downloading webpage\n",
      "[youtube] ErMsMa37UPk: Downloading ios player API JSON\n",
      "[youtube] ErMsMa37UPk: Downloading web creator player API JSON\n",
      "[youtube] ErMsMa37UPk: Downloading m3u8 information\n",
      "[info] ErMsMa37UPk: Downloading subtitles: en\n"
     ]
    },
    {
     "name": "stderr",
     "output_type": "stream",
     "text": [
      "WARNING: ffmpeg not found. The downloaded format may not be the best available. Installing ffmpeg is strongly recommended: https://github.com/yt-dlp/yt-dlp#dependencies\n"
     ]
    },
    {
     "name": "stdout",
     "output_type": "stream",
     "text": [
      "[youtube] Extracting URL: https://youtube.com/watch?v=ErMsMa37UPk\n",
      "[youtube] ErMsMa37UPk: Downloading webpage\n",
      "[youtube] ErMsMa37UPk: Downloading ios player API JSON\n",
      "[youtube] ErMsMa37UPk: Downloading web creator player API JSON\n",
      "[youtube] ErMsMa37UPk: Downloading m3u8 information\n",
      "[info] ErMsMa37UPk: Downloading subtitles: en\n"
     ]
    },
    {
     "name": "stderr",
     "output_type": "stream",
     "text": [
      "WARNING: ffmpeg not found. The downloaded format may not be the best available. Installing ffmpeg is strongly recommended: https://github.com/yt-dlp/yt-dlp#dependencies\n"
     ]
    },
    {
     "name": "stdout",
     "output_type": "stream",
     "text": [
      "[info] ErMsMa37UPk: Downloading 1 format(s): 18\n",
      "[info] Writing video subtitles to: data\\en_CNN\\Explosion heard in Hezbollah stronghold in Beirut.en.vtt\n",
      "[download] Destination: data\\en_CNN\\Explosion heard in Hezbollah stronghold in Beirut.en.vtt\n",
      "[download] 100% of   19.77KiB in 00:00:00 at 185.97KiB/s\n",
      "[youtube] Extracting URL: https://youtube.com/watch?v=m-HUwFLX6bo\n",
      "[youtube] m-HUwFLX6bo: Downloading webpage\n",
      "[youtube] m-HUwFLX6bo: Downloading ios player API JSON\n",
      "[youtube] m-HUwFLX6bo: Downloading web creator player API JSON\n",
      "[youtube] m-HUwFLX6bo: Downloading m3u8 information\n",
      "[info] m-HUwFLX6bo: Downloading subtitles: en\n"
     ]
    },
    {
     "name": "stderr",
     "output_type": "stream",
     "text": [
      "WARNING: ffmpeg not found. The downloaded format may not be the best available. Installing ffmpeg is strongly recommended: https://github.com/yt-dlp/yt-dlp#dependencies\n"
     ]
    },
    {
     "name": "stdout",
     "output_type": "stream",
     "text": [
      "[youtube] Extracting URL: https://youtube.com/watch?v=m-HUwFLX6bo\n",
      "[youtube] m-HUwFLX6bo: Downloading webpage\n",
      "[youtube] m-HUwFLX6bo: Downloading ios player API JSON\n",
      "[youtube] m-HUwFLX6bo: Downloading web creator player API JSON\n",
      "[youtube] m-HUwFLX6bo: Downloading m3u8 information\n",
      "[info] m-HUwFLX6bo: Downloading subtitles: en\n"
     ]
    },
    {
     "name": "stderr",
     "output_type": "stream",
     "text": [
      "WARNING: ffmpeg not found. The downloaded format may not be the best available. Installing ffmpeg is strongly recommended: https://github.com/yt-dlp/yt-dlp#dependencies\n"
     ]
    },
    {
     "name": "stdout",
     "output_type": "stream",
     "text": [
      "[info] m-HUwFLX6bo: Downloading 1 format(s): 18\n",
      "[info] Writing video subtitles to: data\\en_CNN\\Israel targets Hezbollah chief in Beirut strike.en.vtt\n",
      "[download] Destination: data\\en_CNN\\Israel targets Hezbollah chief in Beirut strike.en.vtt\n",
      "[download] 100% of   21.86KiB in 00:00:00 at 135.08KiB/s\n",
      "[youtube] Extracting URL: https://youtube.com/watch?v=XTO1PUkVkvo\n",
      "[youtube] XTO1PUkVkvo: Downloading webpage\n",
      "[youtube] XTO1PUkVkvo: Downloading ios player API JSON\n",
      "[youtube] XTO1PUkVkvo: Downloading web creator player API JSON\n",
      "[youtube] XTO1PUkVkvo: Downloading m3u8 information\n",
      "[info] XTO1PUkVkvo: Downloading subtitles: en-uYU-mmqFLq8\n"
     ]
    },
    {
     "name": "stderr",
     "output_type": "stream",
     "text": [
      "WARNING: ffmpeg not found. The downloaded format may not be the best available. Installing ffmpeg is strongly recommended: https://github.com/yt-dlp/yt-dlp#dependencies\n"
     ]
    },
    {
     "name": "stdout",
     "output_type": "stream",
     "text": [
      "[youtube] Extracting URL: https://youtube.com/watch?v=XTO1PUkVkvo\n",
      "[youtube] XTO1PUkVkvo: Downloading webpage\n",
      "[youtube] XTO1PUkVkvo: Downloading ios player API JSON\n",
      "[youtube] XTO1PUkVkvo: Downloading web creator player API JSON\n",
      "[youtube] XTO1PUkVkvo: Downloading m3u8 information\n",
      "[info] XTO1PUkVkvo: Downloading subtitles: en\n"
     ]
    },
    {
     "name": "stderr",
     "output_type": "stream",
     "text": [
      "WARNING: ffmpeg not found. The downloaded format may not be the best available. Installing ffmpeg is strongly recommended: https://github.com/yt-dlp/yt-dlp#dependencies\n"
     ]
    },
    {
     "name": "stdout",
     "output_type": "stream",
     "text": [
      "[info] XTO1PUkVkvo: Downloading 1 format(s): 18\n",
      "[info] Writing video subtitles to: data\\en_CNN\\Hamas political leader Ismail Haniyeh killed in Tehran, Hamas and Iranian media say.en.vtt\n",
      "[hlsnative] Downloading m3u8 manifest\n",
      "[hlsnative] Total fragments: 2\n",
      "[download] Destination: data\\en_CNN\\Hamas political leader Ismail Haniyeh killed in Tehran, Hamas and Iranian media say.en.vtt\n",
      "[download] 100% of    255.00B in 00:00:00 at 940.59B/s                 \n",
      "[youtube] Extracting URL: https://youtube.com/watch?v=BRONWoEBwLg\n",
      "[youtube] BRONWoEBwLg: Downloading webpage\n",
      "[youtube] BRONWoEBwLg: Downloading ios player API JSON\n",
      "[youtube] BRONWoEBwLg: Downloading web creator player API JSON\n",
      "[youtube] BRONWoEBwLg: Downloading m3u8 information\n",
      "[info] BRONWoEBwLg: Downloading subtitles: en-uYU-mmqFLq8\n"
     ]
    },
    {
     "name": "stderr",
     "output_type": "stream",
     "text": [
      "WARNING: ffmpeg not found. The downloaded format may not be the best available. Installing ffmpeg is strongly recommended: https://github.com/yt-dlp/yt-dlp#dependencies\n"
     ]
    },
    {
     "name": "stdout",
     "output_type": "stream",
     "text": [
      "[youtube] Extracting URL: https://youtube.com/watch?v=BRONWoEBwLg\n",
      "[youtube] BRONWoEBwLg: Downloading webpage\n",
      "[youtube] BRONWoEBwLg: Downloading ios player API JSON\n",
      "[youtube] BRONWoEBwLg: Downloading web creator player API JSON\n",
      "[youtube] BRONWoEBwLg: Downloading m3u8 information\n",
      "[info] BRONWoEBwLg: Downloading subtitles: en\n"
     ]
    },
    {
     "name": "stderr",
     "output_type": "stream",
     "text": [
      "WARNING: ffmpeg not found. The downloaded format may not be the best available. Installing ffmpeg is strongly recommended: https://github.com/yt-dlp/yt-dlp#dependencies\n"
     ]
    },
    {
     "name": "stdout",
     "output_type": "stream",
     "text": [
      "[info] BRONWoEBwLg: Downloading 1 format(s): 18\n",
      "[info] Writing video subtitles to: data\\en_CNN\\Retired colonel says killing of Hamas political leader in Iran could result in ‘major escalation’.en.vtt\n",
      "[hlsnative] Downloading m3u8 manifest\n",
      "[hlsnative] Total fragments: 1\n",
      "[download] Destination: data\\en_CNN\\Retired colonel says killing of Hamas political leader in Iran could result in ‘major escalation’.en.vtt\n",
      "[download] 100% of    5.07KiB in 00:00:00 at 30.78KiB/s                \n",
      "[youtube] Extracting URL: https://youtube.com/watch?v=q58wUEiokr0\n",
      "[youtube] q58wUEiokr0: Downloading webpage\n",
      "[youtube] q58wUEiokr0: Downloading ios player API JSON\n",
      "[youtube] q58wUEiokr0: Downloading web creator player API JSON\n",
      "[youtube] q58wUEiokr0: Downloading m3u8 information\n"
     ]
    },
    {
     "name": "stderr",
     "output_type": "stream",
     "text": [
      "WARNING: ffmpeg not found. The downloaded format may not be the best available. Installing ffmpeg is strongly recommended: https://github.com/yt-dlp/yt-dlp#dependencies\n"
     ]
    },
    {
     "name": "stdout",
     "output_type": "stream",
     "text": [
      "subtitle file not found\n",
      "[youtube] Extracting URL: https://youtube.com/watch?v=12_YTNLq3NY\n",
      "[youtube] 12_YTNLq3NY: Downloading webpage\n",
      "[youtube] 12_YTNLq3NY: Downloading ios player API JSON\n",
      "[youtube] 12_YTNLq3NY: Downloading web creator player API JSON\n",
      "[youtube] 12_YTNLq3NY: Downloading m3u8 information\n",
      "[info] 12_YTNLq3NY: Downloading subtitles: en\n"
     ]
    },
    {
     "name": "stderr",
     "output_type": "stream",
     "text": [
      "WARNING: ffmpeg not found. The downloaded format may not be the best available. Installing ffmpeg is strongly recommended: https://github.com/yt-dlp/yt-dlp#dependencies\n"
     ]
    },
    {
     "name": "stdout",
     "output_type": "stream",
     "text": [
      "[youtube] Extracting URL: https://youtube.com/watch?v=12_YTNLq3NY\n",
      "[youtube] 12_YTNLq3NY: Downloading webpage\n",
      "[youtube] 12_YTNLq3NY: Downloading ios player API JSON\n",
      "[youtube] 12_YTNLq3NY: Downloading web creator player API JSON\n",
      "[youtube] 12_YTNLq3NY: Downloading m3u8 information\n",
      "[info] 12_YTNLq3NY: Downloading subtitles: en\n"
     ]
    },
    {
     "name": "stderr",
     "output_type": "stream",
     "text": [
      "WARNING: ffmpeg not found. The downloaded format may not be the best available. Installing ffmpeg is strongly recommended: https://github.com/yt-dlp/yt-dlp#dependencies\n"
     ]
    },
    {
     "name": "stdout",
     "output_type": "stream",
     "text": [
      "[info] 12_YTNLq3NY: Downloading 1 format(s): 18\n",
      "[info] Writing video subtitles to: data\\en_CNN\\Hamas leader was killed by explosive device planted months before explosion, source says.en.vtt\n",
      "[download] Destination: data\\en_CNN\\Hamas leader was killed by explosive device planted months before explosion, source says.en.vtt\n",
      "[download] 100% of   17.98KiB in 00:00:00 at 132.68KiB/s\n",
      "[youtube] Extracting URL: https://youtube.com/watch?v=MWCj5pErbl0\n",
      "[youtube] MWCj5pErbl0: Downloading webpage\n",
      "[youtube] MWCj5pErbl0: Downloading ios player API JSON\n",
      "[youtube] MWCj5pErbl0: Downloading web creator player API JSON\n",
      "[youtube] MWCj5pErbl0: Downloading m3u8 information\n",
      "[info] MWCj5pErbl0: Downloading subtitles: en\n"
     ]
    },
    {
     "name": "stderr",
     "output_type": "stream",
     "text": [
      "WARNING: ffmpeg not found. The downloaded format may not be the best available. Installing ffmpeg is strongly recommended: https://github.com/yt-dlp/yt-dlp#dependencies\n"
     ]
    },
    {
     "name": "stdout",
     "output_type": "stream",
     "text": [
      "[youtube] Extracting URL: https://youtube.com/watch?v=MWCj5pErbl0\n",
      "[youtube] MWCj5pErbl0: Downloading webpage\n",
      "[youtube] MWCj5pErbl0: Downloading ios player API JSON\n",
      "[youtube] MWCj5pErbl0: Downloading web creator player API JSON\n",
      "[youtube] MWCj5pErbl0: Downloading m3u8 information\n",
      "[info] MWCj5pErbl0: Downloading subtitles: en\n"
     ]
    },
    {
     "name": "stderr",
     "output_type": "stream",
     "text": [
      "WARNING: ffmpeg not found. The downloaded format may not be the best available. Installing ffmpeg is strongly recommended: https://github.com/yt-dlp/yt-dlp#dependencies\n"
     ]
    },
    {
     "name": "stdout",
     "output_type": "stream",
     "text": [
      "[info] MWCj5pErbl0: Downloading 1 format(s): 18\n",
      "[info] Writing video subtitles to: data\\en_CNN\\Hamas announces Yahya Sinwar as head of political bureau.en.vtt\n",
      "[download] Destination: data\\en_CNN\\Hamas announces Yahya Sinwar as head of political bureau.en.vtt\n",
      "[download] 100% of   22.62KiB in 00:00:00 at 114.98KiB/s\n",
      "[youtube] Extracting URL: https://youtube.com/watch?v=J9oVfXXJY0s\n",
      "[youtube] J9oVfXXJY0s: Downloading webpage\n",
      "[youtube] J9oVfXXJY0s: Downloading ios player API JSON\n",
      "[youtube] J9oVfXXJY0s: Downloading web creator player API JSON\n",
      "[youtube] J9oVfXXJY0s: Downloading m3u8 information\n"
     ]
    },
    {
     "name": "stderr",
     "output_type": "stream",
     "text": [
      "WARNING: ffmpeg not found. The downloaded format may not be the best available. Installing ffmpeg is strongly recommended: https://github.com/yt-dlp/yt-dlp#dependencies\n"
     ]
    },
    {
     "name": "stdout",
     "output_type": "stream",
     "text": [
      "subtitle file not found\n",
      "[youtube] Extracting URL: https://youtube.com/watch?v=y-LXLMj8sRc\n",
      "[youtube] y-LXLMj8sRc: Downloading webpage\n",
      "[youtube] y-LXLMj8sRc: Downloading ios player API JSON\n",
      "[youtube] y-LXLMj8sRc: Downloading web creator player API JSON\n",
      "[youtube] y-LXLMj8sRc: Downloading m3u8 information\n",
      "[info] y-LXLMj8sRc: Downloading subtitles: en\n"
     ]
    },
    {
     "name": "stderr",
     "output_type": "stream",
     "text": [
      "WARNING: ffmpeg not found. The downloaded format may not be the best available. Installing ffmpeg is strongly recommended: https://github.com/yt-dlp/yt-dlp#dependencies\n"
     ]
    },
    {
     "name": "stdout",
     "output_type": "stream",
     "text": [
      "[youtube] Extracting URL: https://youtube.com/watch?v=y-LXLMj8sRc\n",
      "[youtube] y-LXLMj8sRc: Downloading webpage\n",
      "[youtube] y-LXLMj8sRc: Downloading ios player API JSON\n",
      "[youtube] y-LXLMj8sRc: Downloading web creator player API JSON\n",
      "[youtube] y-LXLMj8sRc: Downloading m3u8 information\n",
      "[info] y-LXLMj8sRc: Downloading subtitles: en\n"
     ]
    },
    {
     "name": "stderr",
     "output_type": "stream",
     "text": [
      "WARNING: ffmpeg not found. The downloaded format may not be the best available. Installing ffmpeg is strongly recommended: https://github.com/yt-dlp/yt-dlp#dependencies\n"
     ]
    },
    {
     "name": "stdout",
     "output_type": "stream",
     "text": [
      "[info] y-LXLMj8sRc: Downloading 1 format(s): 18\n",
      "[info] Writing video subtitles to: data\\en_CNN\\Jordan says ceasefire in Gaza only way to prevent region from the 'abyss of war'.en.vtt\n",
      "[download] Destination: data\\en_CNN\\Jordan says ceasefire in Gaza only way to prevent region from the 'abyss of war'.en.vtt\n",
      "[download] 100% of   16.71KiB in 00:00:00 at 118.83KiB/s\n",
      "[youtube] Extracting URL: https://youtube.com/watch?v=wSbnaKBRTqM\n",
      "[youtube] wSbnaKBRTqM: Downloading webpage\n",
      "[youtube] wSbnaKBRTqM: Downloading ios player API JSON\n",
      "[youtube] wSbnaKBRTqM: Downloading web creator player API JSON\n",
      "[youtube] wSbnaKBRTqM: Downloading m3u8 information\n",
      "[info] wSbnaKBRTqM: Downloading subtitles: en\n"
     ]
    },
    {
     "name": "stderr",
     "output_type": "stream",
     "text": [
      "WARNING: ffmpeg not found. The downloaded format may not be the best available. Installing ffmpeg is strongly recommended: https://github.com/yt-dlp/yt-dlp#dependencies\n"
     ]
    },
    {
     "name": "stdout",
     "output_type": "stream",
     "text": [
      "[youtube] Extracting URL: https://youtube.com/watch?v=wSbnaKBRTqM\n",
      "[youtube] wSbnaKBRTqM: Downloading webpage\n",
      "[youtube] wSbnaKBRTqM: Downloading ios player API JSON\n",
      "[youtube] wSbnaKBRTqM: Downloading web creator player API JSON\n",
      "[youtube] wSbnaKBRTqM: Downloading m3u8 information\n",
      "[info] wSbnaKBRTqM: Downloading subtitles: en\n"
     ]
    },
    {
     "name": "stderr",
     "output_type": "stream",
     "text": [
      "WARNING: ffmpeg not found. The downloaded format may not be the best available. Installing ffmpeg is strongly recommended: https://github.com/yt-dlp/yt-dlp#dependencies\n"
     ]
    },
    {
     "name": "stdout",
     "output_type": "stream",
     "text": [
      "[info] wSbnaKBRTqM: Downloading 1 format(s): 18\n",
      "[info] Writing video subtitles to: data\\en_CNN\\Former Defense Secretary discusses the role the US plays in Middle East tensions.en.vtt\n",
      "[download] Destination: data\\en_CNN\\Former Defense Secretary discusses the role the US plays in Middle East tensions.en.vtt\n",
      "[download] 100% of   16.69KiB in 00:00:00 at 98.45KiB/s\n",
      "[youtube] Extracting URL: https://youtube.com/watch?v=LImFfgTRKnA\n",
      "[youtube] LImFfgTRKnA: Downloading webpage\n",
      "[youtube] LImFfgTRKnA: Downloading ios player API JSON\n",
      "[youtube] LImFfgTRKnA: Downloading web creator player API JSON\n",
      "[youtube] LImFfgTRKnA: Downloading m3u8 information\n",
      "[info] LImFfgTRKnA: Downloading subtitles: en\n"
     ]
    },
    {
     "name": "stderr",
     "output_type": "stream",
     "text": [
      "WARNING: ffmpeg not found. The downloaded format may not be the best available. Installing ffmpeg is strongly recommended: https://github.com/yt-dlp/yt-dlp#dependencies\n"
     ]
    },
    {
     "name": "stdout",
     "output_type": "stream",
     "text": [
      "[youtube] Extracting URL: https://youtube.com/watch?v=LImFfgTRKnA\n",
      "[youtube] LImFfgTRKnA: Downloading webpage\n",
      "[youtube] LImFfgTRKnA: Downloading ios player API JSON\n",
      "[youtube] LImFfgTRKnA: Downloading web creator player API JSON\n",
      "[youtube] LImFfgTRKnA: Downloading m3u8 information\n",
      "[info] LImFfgTRKnA: Downloading subtitles: en\n"
     ]
    },
    {
     "name": "stderr",
     "output_type": "stream",
     "text": [
      "WARNING: ffmpeg not found. The downloaded format may not be the best available. Installing ffmpeg is strongly recommended: https://github.com/yt-dlp/yt-dlp#dependencies\n"
     ]
    },
    {
     "name": "stdout",
     "output_type": "stream",
     "text": [
      "[info] LImFfgTRKnA: Downloading 1 format(s): 18\n",
      "[info] Writing video subtitles to: data\\en_CNN\\IDF on alert amid reports of looming Iranian attack against Israel.en.vtt\n",
      "[download] Destination: data\\en_CNN\\IDF on alert amid reports of looming Iranian attack against Israel.en.vtt\n",
      "[download] 100% of   20.76KiB in 00:00:00 at 159.01KiB/s\n",
      "[youtube] Extracting URL: https://youtube.com/watch?v=1YQb-DcQ4mQ\n",
      "[youtube] 1YQb-DcQ4mQ: Downloading webpage\n",
      "[youtube] 1YQb-DcQ4mQ: Downloading ios player API JSON\n",
      "[youtube] 1YQb-DcQ4mQ: Downloading web creator player API JSON\n",
      "[youtube] 1YQb-DcQ4mQ: Downloading m3u8 information\n"
     ]
    },
    {
     "name": "stderr",
     "output_type": "stream",
     "text": [
      "WARNING: ffmpeg not found. The downloaded format may not be the best available. Installing ffmpeg is strongly recommended: https://github.com/yt-dlp/yt-dlp#dependencies\n"
     ]
    },
    {
     "name": "stdout",
     "output_type": "stream",
     "text": [
      "subtitle file not found\n",
      "[youtube] Extracting URL: https://youtube.com/watch?v=HfeTzGlFL6c\n",
      "[youtube] HfeTzGlFL6c: Downloading webpage\n",
      "[youtube] HfeTzGlFL6c: Downloading ios player API JSON\n",
      "[youtube] HfeTzGlFL6c: Downloading web creator player API JSON\n",
      "[youtube] HfeTzGlFL6c: Downloading m3u8 information\n",
      "[info] HfeTzGlFL6c: Downloading subtitles: en\n"
     ]
    },
    {
     "name": "stderr",
     "output_type": "stream",
     "text": [
      "WARNING: ffmpeg not found. The downloaded format may not be the best available. Installing ffmpeg is strongly recommended: https://github.com/yt-dlp/yt-dlp#dependencies\n"
     ]
    },
    {
     "name": "stdout",
     "output_type": "stream",
     "text": [
      "[youtube] Extracting URL: https://youtube.com/watch?v=HfeTzGlFL6c\n",
      "[youtube] HfeTzGlFL6c: Downloading webpage\n",
      "[youtube] HfeTzGlFL6c: Downloading ios player API JSON\n",
      "[youtube] HfeTzGlFL6c: Downloading web creator player API JSON\n",
      "[youtube] HfeTzGlFL6c: Downloading m3u8 information\n",
      "[info] HfeTzGlFL6c: Downloading subtitles: en\n"
     ]
    },
    {
     "name": "stderr",
     "output_type": "stream",
     "text": [
      "WARNING: ffmpeg not found. The downloaded format may not be the best available. Installing ffmpeg is strongly recommended: https://github.com/yt-dlp/yt-dlp#dependencies\n"
     ]
    },
    {
     "name": "stdout",
     "output_type": "stream",
     "text": [
      "[info] HfeTzGlFL6c: Downloading 1 format(s): 18\n",
      "[info] Writing video subtitles to: data\\en_CNN\\Israeli military on high alert for potential imminent attack by Iran.en.vtt\n",
      "[download] Destination: data\\en_CNN\\Israeli military on high alert for potential imminent attack by Iran.en.vtt\n",
      "[download] 100% of   15.12KiB in 00:00:00 at 68.04KiB/s\n",
      "[youtube] Extracting URL: https://youtube.com/watch?v=_AYZE3PgNQQ\n",
      "[youtube] _AYZE3PgNQQ: Downloading webpage\n",
      "[youtube] _AYZE3PgNQQ: Downloading ios player API JSON\n",
      "[youtube] _AYZE3PgNQQ: Downloading web creator player API JSON\n",
      "[youtube] _AYZE3PgNQQ: Downloading m3u8 information\n",
      "[info] _AYZE3PgNQQ: Downloading subtitles: en\n"
     ]
    },
    {
     "name": "stderr",
     "output_type": "stream",
     "text": [
      "WARNING: ffmpeg not found. The downloaded format may not be the best available. Installing ffmpeg is strongly recommended: https://github.com/yt-dlp/yt-dlp#dependencies\n"
     ]
    },
    {
     "name": "stdout",
     "output_type": "stream",
     "text": [
      "[youtube] Extracting URL: https://youtube.com/watch?v=_AYZE3PgNQQ\n",
      "[youtube] _AYZE3PgNQQ: Downloading webpage\n",
      "[youtube] _AYZE3PgNQQ: Downloading ios player API JSON\n",
      "[youtube] _AYZE3PgNQQ: Downloading web creator player API JSON\n",
      "[youtube] _AYZE3PgNQQ: Downloading m3u8 information\n",
      "[info] _AYZE3PgNQQ: Downloading subtitles: en\n"
     ]
    },
    {
     "name": "stderr",
     "output_type": "stream",
     "text": [
      "WARNING: ffmpeg not found. The downloaded format may not be the best available. Installing ffmpeg is strongly recommended: https://github.com/yt-dlp/yt-dlp#dependencies\n"
     ]
    },
    {
     "name": "stdout",
     "output_type": "stream",
     "text": [
      "[info] _AYZE3PgNQQ: Downloading 1 format(s): 18\n",
      "[info] Writing video subtitles to: data\\en_CNN\\This father went to get birth certificates for newborn twins. Then, he received a tragic phone call.en.vtt\n",
      "[download] Destination: data\\en_CNN\\This father went to get birth certificates for newborn twins. Then, he received a tragic phone call.en.vtt\n",
      "[download] 100% of   18.98KiB in 00:00:00 at 83.40KiB/s\n",
      "[youtube] Extracting URL: https://youtube.com/watch?v=VBgdGMsrY_Y\n",
      "[youtube] VBgdGMsrY_Y: Downloading webpage\n",
      "[youtube] VBgdGMsrY_Y: Downloading ios player API JSON\n",
      "[youtube] VBgdGMsrY_Y: Downloading web creator player API JSON\n",
      "[youtube] VBgdGMsrY_Y: Downloading m3u8 information\n",
      "[info] VBgdGMsrY_Y: Downloading subtitles: en\n"
     ]
    },
    {
     "name": "stderr",
     "output_type": "stream",
     "text": [
      "WARNING: ffmpeg not found. The downloaded format may not be the best available. Installing ffmpeg is strongly recommended: https://github.com/yt-dlp/yt-dlp#dependencies\n"
     ]
    },
    {
     "name": "stdout",
     "output_type": "stream",
     "text": [
      "[youtube] Extracting URL: https://youtube.com/watch?v=VBgdGMsrY_Y\n",
      "[youtube] VBgdGMsrY_Y: Downloading webpage\n",
      "[youtube] VBgdGMsrY_Y: Downloading ios player API JSON\n",
      "[youtube] VBgdGMsrY_Y: Downloading web creator player API JSON\n",
      "[youtube] VBgdGMsrY_Y: Downloading m3u8 information\n",
      "[info] VBgdGMsrY_Y: Downloading subtitles: en\n"
     ]
    },
    {
     "name": "stderr",
     "output_type": "stream",
     "text": [
      "WARNING: ffmpeg not found. The downloaded format may not be the best available. Installing ffmpeg is strongly recommended: https://github.com/yt-dlp/yt-dlp#dependencies\n"
     ]
    },
    {
     "name": "stdout",
     "output_type": "stream",
     "text": [
      "[info] VBgdGMsrY_Y: Downloading 1 format(s): 18\n",
      "[info] Writing video subtitles to: data\\en_CNN\\Her daughter was killed by Hamas on October 7th. Hear why she hasn’t visited her grave.en.vtt\n",
      "[download] Destination: data\\en_CNN\\Her daughter was killed by Hamas on October 7th. Hear why she hasn’t visited her grave.en.vtt\n",
      "[download] 100% of   14.79KiB in 00:00:00 at 93.13KiB/s\n",
      "[youtube] Extracting URL: https://youtube.com/watch?v=YZESvtqhfqs\n",
      "[youtube] YZESvtqhfqs: Downloading webpage\n",
      "[youtube] YZESvtqhfqs: Downloading ios player API JSON\n",
      "[youtube] YZESvtqhfqs: Downloading web creator player API JSON\n",
      "[youtube] YZESvtqhfqs: Downloading m3u8 information\n",
      "[info] YZESvtqhfqs: Downloading subtitles: en\n"
     ]
    },
    {
     "name": "stderr",
     "output_type": "stream",
     "text": [
      "WARNING: ffmpeg not found. The downloaded format may not be the best available. Installing ffmpeg is strongly recommended: https://github.com/yt-dlp/yt-dlp#dependencies\n"
     ]
    },
    {
     "name": "stdout",
     "output_type": "stream",
     "text": [
      "[youtube] Extracting URL: https://youtube.com/watch?v=YZESvtqhfqs\n",
      "[youtube] YZESvtqhfqs: Downloading webpage\n",
      "[youtube] YZESvtqhfqs: Downloading ios player API JSON\n",
      "[youtube] YZESvtqhfqs: Downloading web creator player API JSON\n",
      "[youtube] YZESvtqhfqs: Downloading m3u8 information\n",
      "[info] YZESvtqhfqs: Downloading subtitles: en\n"
     ]
    },
    {
     "name": "stderr",
     "output_type": "stream",
     "text": [
      "WARNING: ffmpeg not found. The downloaded format may not be the best available. Installing ffmpeg is strongly recommended: https://github.com/yt-dlp/yt-dlp#dependencies\n"
     ]
    },
    {
     "name": "stdout",
     "output_type": "stream",
     "text": [
      "[info] YZESvtqhfqs: Downloading 1 format(s): 18\n",
      "[info] Writing video subtitles to: data\\en_CNN\\Israeli settlers attack West Bank village, drawing condemnation from top officials.en.vtt\n",
      "[download] Destination: data\\en_CNN\\Israeli settlers attack West Bank village, drawing condemnation from top officials.en.vtt\n",
      "[download] 100% of   17.62KiB in 00:00:00 at 77.83KiB/s\n",
      "[youtube] Extracting URL: https://youtube.com/watch?v=YX2ECFueF-I\n",
      "[youtube] YX2ECFueF-I: Downloading webpage\n",
      "[youtube] YX2ECFueF-I: Downloading ios player API JSON\n",
      "[youtube] YX2ECFueF-I: Downloading web creator player API JSON\n",
      "[youtube] YX2ECFueF-I: Downloading m3u8 information\n",
      "[info] YX2ECFueF-I: Downloading subtitles: en\n"
     ]
    },
    {
     "name": "stderr",
     "output_type": "stream",
     "text": [
      "WARNING: ffmpeg not found. The downloaded format may not be the best available. Installing ffmpeg is strongly recommended: https://github.com/yt-dlp/yt-dlp#dependencies\n"
     ]
    },
    {
     "name": "stdout",
     "output_type": "stream",
     "text": [
      "[youtube] Extracting URL: https://youtube.com/watch?v=YX2ECFueF-I\n",
      "[youtube] YX2ECFueF-I: Downloading webpage\n",
      "[youtube] YX2ECFueF-I: Downloading ios player API JSON\n",
      "[youtube] YX2ECFueF-I: Downloading web creator player API JSON\n",
      "[youtube] YX2ECFueF-I: Downloading m3u8 information\n",
      "[info] YX2ECFueF-I: Downloading subtitles: en\n"
     ]
    },
    {
     "name": "stderr",
     "output_type": "stream",
     "text": [
      "WARNING: ffmpeg not found. The downloaded format may not be the best available. Installing ffmpeg is strongly recommended: https://github.com/yt-dlp/yt-dlp#dependencies\n"
     ]
    },
    {
     "name": "stdout",
     "output_type": "stream",
     "text": [
      "[info] YX2ECFueF-I: Downloading 1 format(s): 18\n",
      "[info] Writing video subtitles to: data\\en_CNN\\She says Israeli military killed her husband and daughter. Then soldiers took her to Israel.en.vtt\n",
      "[download] Destination: data\\en_CNN\\She says Israeli military killed her husband and daughter. Then soldiers took her to Israel.en.vtt\n",
      "[download] 100% of   10.10KiB in 00:00:00 at 79.53KiB/s\n",
      "[youtube] Extracting URL: https://youtube.com/watch?v=PzLBHU9S-go\n",
      "[youtube] PzLBHU9S-go: Downloading webpage\n",
      "[youtube] PzLBHU9S-go: Downloading ios player API JSON\n",
      "[youtube] PzLBHU9S-go: Downloading web creator player API JSON\n",
      "[youtube] PzLBHU9S-go: Downloading m3u8 information\n",
      "[info] PzLBHU9S-go: Downloading subtitles: en\n"
     ]
    },
    {
     "name": "stderr",
     "output_type": "stream",
     "text": [
      "WARNING: ffmpeg not found. The downloaded format may not be the best available. Installing ffmpeg is strongly recommended: https://github.com/yt-dlp/yt-dlp#dependencies\n"
     ]
    },
    {
     "name": "stdout",
     "output_type": "stream",
     "text": [
      "[youtube] Extracting URL: https://youtube.com/watch?v=PzLBHU9S-go\n",
      "[youtube] PzLBHU9S-go: Downloading webpage\n",
      "[youtube] PzLBHU9S-go: Downloading ios player API JSON\n",
      "[youtube] PzLBHU9S-go: Downloading web creator player API JSON\n",
      "[youtube] PzLBHU9S-go: Downloading m3u8 information\n",
      "[info] PzLBHU9S-go: Downloading subtitles: en\n"
     ]
    },
    {
     "name": "stderr",
     "output_type": "stream",
     "text": [
      "WARNING: ffmpeg not found. The downloaded format may not be the best available. Installing ffmpeg is strongly recommended: https://github.com/yt-dlp/yt-dlp#dependencies\n"
     ]
    },
    {
     "name": "stdout",
     "output_type": "stream",
     "text": [
      "[info] PzLBHU9S-go: Downloading 1 format(s): 18\n",
      "[info] Writing video subtitles to: data\\en_CNN\\'I was so shocked' Mom who broke down on DNC stage speaks out.en.vtt\n",
      "[download] Destination: data\\en_CNN\\'I was so shocked' Mom who broke down on DNC stage speaks out.en.vtt\n",
      "[download] 100% of   14.97KiB in 00:00:00 at 167.57KiB/s\n",
      "[youtube] Extracting URL: https://youtube.com/watch?v=0swtHmeEV3I\n",
      "[youtube] 0swtHmeEV3I: Downloading webpage\n",
      "[youtube] 0swtHmeEV3I: Downloading ios player API JSON\n",
      "[youtube] 0swtHmeEV3I: Downloading web creator player API JSON\n",
      "[youtube] 0swtHmeEV3I: Downloading m3u8 information\n",
      "[info] 0swtHmeEV3I: Downloading subtitles: en\n"
     ]
    },
    {
     "name": "stderr",
     "output_type": "stream",
     "text": [
      "WARNING: ffmpeg not found. The downloaded format may not be the best available. Installing ffmpeg is strongly recommended: https://github.com/yt-dlp/yt-dlp#dependencies\n"
     ]
    },
    {
     "name": "stdout",
     "output_type": "stream",
     "text": [
      "[youtube] Extracting URL: https://youtube.com/watch?v=0swtHmeEV3I\n",
      "[youtube] 0swtHmeEV3I: Downloading webpage\n",
      "[youtube] 0swtHmeEV3I: Downloading ios player API JSON\n",
      "[youtube] 0swtHmeEV3I: Downloading web creator player API JSON\n",
      "[youtube] 0swtHmeEV3I: Downloading m3u8 information\n",
      "[info] 0swtHmeEV3I: Downloading subtitles: en\n"
     ]
    },
    {
     "name": "stderr",
     "output_type": "stream",
     "text": [
      "WARNING: ffmpeg not found. The downloaded format may not be the best available. Installing ffmpeg is strongly recommended: https://github.com/yt-dlp/yt-dlp#dependencies\n"
     ]
    },
    {
     "name": "stdout",
     "output_type": "stream",
     "text": [
      "[info] 0swtHmeEV3I: Downloading 1 format(s): 18\n",
      "[info] Writing video subtitles to: data\\en_CNN\\Ret. US colonel on what could happen next between Israel and Hezbollah.en.vtt\n",
      "[download] Destination: data\\en_CNN\\Ret. US colonel on what could happen next between Israel and Hezbollah.en.vtt\n",
      "[download] 100% of    7.22KiB in 00:00:00 at 68.88KiB/s\n",
      "[youtube] Extracting URL: https://youtube.com/watch?v=OmnQ8h7aVyE\n",
      "[youtube] OmnQ8h7aVyE: Downloading webpage\n",
      "[youtube] OmnQ8h7aVyE: Downloading ios player API JSON\n",
      "[youtube] OmnQ8h7aVyE: Downloading web creator player API JSON\n",
      "[youtube] OmnQ8h7aVyE: Downloading m3u8 information\n",
      "[info] OmnQ8h7aVyE: Downloading subtitles: en\n"
     ]
    },
    {
     "name": "stderr",
     "output_type": "stream",
     "text": [
      "WARNING: ffmpeg not found. The downloaded format may not be the best available. Installing ffmpeg is strongly recommended: https://github.com/yt-dlp/yt-dlp#dependencies\n"
     ]
    },
    {
     "name": "stdout",
     "output_type": "stream",
     "text": [
      "[youtube] Extracting URL: https://youtube.com/watch?v=OmnQ8h7aVyE\n",
      "[youtube] OmnQ8h7aVyE: Downloading webpage\n",
      "[youtube] OmnQ8h7aVyE: Downloading ios player API JSON\n",
      "[youtube] OmnQ8h7aVyE: Downloading web creator player API JSON\n",
      "[youtube] OmnQ8h7aVyE: Downloading m3u8 information\n",
      "[info] OmnQ8h7aVyE: Downloading subtitles: en\n"
     ]
    },
    {
     "name": "stderr",
     "output_type": "stream",
     "text": [
      "WARNING: ffmpeg not found. The downloaded format may not be the best available. Installing ffmpeg is strongly recommended: https://github.com/yt-dlp/yt-dlp#dependencies\n"
     ]
    },
    {
     "name": "stdout",
     "output_type": "stream",
     "text": [
      "[info] OmnQ8h7aVyE: Downloading 1 format(s): 18\n",
      "[info] Writing video subtitles to: data\\en_CNN\\Israel rescues 52-year-old hostage held by Hamas in Gaza in ‘complex operation’.en.vtt\n",
      "[download] Destination: data\\en_CNN\\Israel rescues 52-year-old hostage held by Hamas in Gaza in ‘complex operation’.en.vtt\n",
      "[download] 100% of   15.19KiB in 00:00:00 at 91.88KiB/s\n",
      "[youtube] Extracting URL: https://youtube.com/watch?v=ErHNtXvopWw\n",
      "[youtube] ErHNtXvopWw: Downloading webpage\n",
      "[youtube] ErHNtXvopWw: Downloading ios player API JSON\n",
      "[youtube] ErHNtXvopWw: Downloading web creator player API JSON\n",
      "[youtube] ErHNtXvopWw: Downloading m3u8 information\n",
      "[info] ErHNtXvopWw: Downloading subtitles: en\n"
     ]
    },
    {
     "name": "stderr",
     "output_type": "stream",
     "text": [
      "WARNING: ffmpeg not found. The downloaded format may not be the best available. Installing ffmpeg is strongly recommended: https://github.com/yt-dlp/yt-dlp#dependencies\n"
     ]
    },
    {
     "name": "stdout",
     "output_type": "stream",
     "text": [
      "[youtube] Extracting URL: https://youtube.com/watch?v=ErHNtXvopWw\n",
      "[youtube] ErHNtXvopWw: Downloading webpage\n",
      "[youtube] ErHNtXvopWw: Downloading ios player API JSON\n",
      "[youtube] ErHNtXvopWw: Downloading web creator player API JSON\n",
      "[youtube] ErHNtXvopWw: Downloading m3u8 information\n",
      "[info] ErHNtXvopWw: Downloading subtitles: en\n"
     ]
    },
    {
     "name": "stderr",
     "output_type": "stream",
     "text": [
      "WARNING: ffmpeg not found. The downloaded format may not be the best available. Installing ffmpeg is strongly recommended: https://github.com/yt-dlp/yt-dlp#dependencies\n"
     ]
    },
    {
     "name": "stdout",
     "output_type": "stream",
     "text": [
      "[info] ErHNtXvopWw: Downloading 1 format(s): 18\n",
      "[info] Writing video subtitles to: data\\en_CNN\\Israel launches large-scale West Bank raid.en.vtt\n",
      "[download] Destination: data\\en_CNN\\Israel launches large-scale West Bank raid.en.vtt\n",
      "[download] 100% of   17.33KiB in 00:00:00 at 117.46KiB/s\n",
      "[youtube] Extracting URL: https://youtube.com/watch?v=FcVtsq068KI\n",
      "[youtube] FcVtsq068KI: Downloading webpage\n",
      "[youtube] FcVtsq068KI: Downloading ios player API JSON\n",
      "[youtube] FcVtsq068KI: Downloading web creator player API JSON\n",
      "[youtube] FcVtsq068KI: Downloading m3u8 information\n",
      "[info] FcVtsq068KI: Downloading subtitles: en\n"
     ]
    },
    {
     "name": "stderr",
     "output_type": "stream",
     "text": [
      "WARNING: ffmpeg not found. The downloaded format may not be the best available. Installing ffmpeg is strongly recommended: https://github.com/yt-dlp/yt-dlp#dependencies\n"
     ]
    },
    {
     "name": "stdout",
     "output_type": "stream",
     "text": [
      "[youtube] Extracting URL: https://youtube.com/watch?v=FcVtsq068KI\n",
      "[youtube] FcVtsq068KI: Downloading webpage\n",
      "[youtube] FcVtsq068KI: Downloading ios player API JSON\n",
      "[youtube] FcVtsq068KI: Downloading web creator player API JSON\n",
      "[youtube] FcVtsq068KI: Downloading m3u8 information\n",
      "[info] FcVtsq068KI: Downloading subtitles: en\n"
     ]
    },
    {
     "name": "stderr",
     "output_type": "stream",
     "text": [
      "WARNING: ffmpeg not found. The downloaded format may not be the best available. Installing ffmpeg is strongly recommended: https://github.com/yt-dlp/yt-dlp#dependencies\n"
     ]
    },
    {
     "name": "stdout",
     "output_type": "stream",
     "text": [
      "[info] FcVtsq068KI: Downloading 1 format(s): 18\n",
      "[info] Writing video subtitles to: data\\en_CNN\\'Soap has become a luxury item' Aid official describes anguish in Gaza.en.vtt\n",
      "[download] Destination: data\\en_CNN\\'Soap has become a luxury item' Aid official describes anguish in Gaza.en.vtt\n",
      "[download] 100% of   17.53KiB in 00:00:00 at 129.27KiB/s\n",
      "[youtube] Extracting URL: https://youtube.com/watch?v=99J4g9bwZAY\n",
      "[youtube] 99J4g9bwZAY: Downloading webpage\n",
      "[youtube] 99J4g9bwZAY: Downloading ios player API JSON\n",
      "[youtube] 99J4g9bwZAY: Downloading web creator player API JSON\n",
      "[youtube] 99J4g9bwZAY: Downloading m3u8 information\n",
      "[info] 99J4g9bwZAY: Downloading subtitles: en\n"
     ]
    },
    {
     "name": "stderr",
     "output_type": "stream",
     "text": [
      "WARNING: ffmpeg not found. The downloaded format may not be the best available. Installing ffmpeg is strongly recommended: https://github.com/yt-dlp/yt-dlp#dependencies\n"
     ]
    },
    {
     "name": "stdout",
     "output_type": "stream",
     "text": [
      "[youtube] Extracting URL: https://youtube.com/watch?v=99J4g9bwZAY\n",
      "[youtube] 99J4g9bwZAY: Downloading webpage\n",
      "[youtube] 99J4g9bwZAY: Downloading ios player API JSON\n",
      "[youtube] 99J4g9bwZAY: Downloading web creator player API JSON\n",
      "[youtube] 99J4g9bwZAY: Downloading m3u8 information\n",
      "[info] 99J4g9bwZAY: Downloading subtitles: en\n"
     ]
    },
    {
     "name": "stderr",
     "output_type": "stream",
     "text": [
      "WARNING: ffmpeg not found. The downloaded format may not be the best available. Installing ffmpeg is strongly recommended: https://github.com/yt-dlp/yt-dlp#dependencies\n"
     ]
    },
    {
     "name": "stdout",
     "output_type": "stream",
     "text": [
      "[info] 99J4g9bwZAY: Downloading 1 format(s): 18\n",
      "[info] Writing video subtitles to: data\\en_CNN\\IDF spokesperson shares how hostages were found.en.vtt\n",
      "[download] Destination: data\\en_CNN\\IDF spokesperson shares how hostages were found.en.vtt\n",
      "[download] 100% of   19.75KiB in 00:00:00 at 147.89KiB/s\n",
      "[youtube] Extracting URL: https://youtube.com/watch?v=VAd-QXouJUo\n",
      "[youtube] VAd-QXouJUo: Downloading webpage\n",
      "[youtube] VAd-QXouJUo: Downloading ios player API JSON\n",
      "[youtube] VAd-QXouJUo: Downloading web creator player API JSON\n",
      "[youtube] VAd-QXouJUo: Downloading m3u8 information\n",
      "[info] VAd-QXouJUo: Downloading subtitles: en\n"
     ]
    },
    {
     "name": "stderr",
     "output_type": "stream",
     "text": [
      "WARNING: ffmpeg not found. The downloaded format may not be the best available. Installing ffmpeg is strongly recommended: https://github.com/yt-dlp/yt-dlp#dependencies\n"
     ]
    },
    {
     "name": "stdout",
     "output_type": "stream",
     "text": [
      "[youtube] Extracting URL: https://youtube.com/watch?v=VAd-QXouJUo\n",
      "[youtube] VAd-QXouJUo: Downloading webpage\n",
      "[youtube] VAd-QXouJUo: Downloading ios player API JSON\n",
      "[youtube] VAd-QXouJUo: Downloading web creator player API JSON\n",
      "[youtube] VAd-QXouJUo: Downloading m3u8 information\n",
      "[info] VAd-QXouJUo: Downloading subtitles: en\n"
     ]
    },
    {
     "name": "stderr",
     "output_type": "stream",
     "text": [
      "WARNING: ffmpeg not found. The downloaded format may not be the best available. Installing ffmpeg is strongly recommended: https://github.com/yt-dlp/yt-dlp#dependencies\n"
     ]
    },
    {
     "name": "stdout",
     "output_type": "stream",
     "text": [
      "[info] VAd-QXouJUo: Downloading 1 format(s): 18\n",
      "[info] Writing video subtitles to: data\\en_CNN\\Hear the strong message Rep. Schiff has for Hamas after six hostages killed.en.vtt\n",
      "[download] Destination: data\\en_CNN\\Hear the strong message Rep. Schiff has for Hamas after six hostages killed.en.vtt\n",
      "[download] 100% of   14.88KiB in 00:00:00 at 53.58KiB/s\n",
      "[youtube] Extracting URL: https://youtube.com/watch?v=rLMDQSzUzRM\n",
      "[youtube] rLMDQSzUzRM: Downloading webpage\n",
      "[youtube] rLMDQSzUzRM: Downloading ios player API JSON\n",
      "[youtube] rLMDQSzUzRM: Downloading web creator player API JSON\n",
      "[youtube] rLMDQSzUzRM: Downloading m3u8 information\n",
      "[info] rLMDQSzUzRM: Downloading subtitles: en\n"
     ]
    },
    {
     "name": "stderr",
     "output_type": "stream",
     "text": [
      "WARNING: ffmpeg not found. The downloaded format may not be the best available. Installing ffmpeg is strongly recommended: https://github.com/yt-dlp/yt-dlp#dependencies\n"
     ]
    },
    {
     "name": "stdout",
     "output_type": "stream",
     "text": [
      "[youtube] Extracting URL: https://youtube.com/watch?v=rLMDQSzUzRM\n",
      "[youtube] rLMDQSzUzRM: Downloading webpage\n",
      "[youtube] rLMDQSzUzRM: Downloading ios player API JSON\n",
      "[youtube] rLMDQSzUzRM: Downloading web creator player API JSON\n",
      "[youtube] rLMDQSzUzRM: Downloading m3u8 information\n",
      "[info] rLMDQSzUzRM: Downloading subtitles: en\n"
     ]
    },
    {
     "name": "stderr",
     "output_type": "stream",
     "text": [
      "WARNING: ffmpeg not found. The downloaded format may not be the best available. Installing ffmpeg is strongly recommended: https://github.com/yt-dlp/yt-dlp#dependencies\n"
     ]
    },
    {
     "name": "stdout",
     "output_type": "stream",
     "text": [
      "[info] rLMDQSzUzRM: Downloading 1 format(s): 18\n",
      "[info] Writing video subtitles to: data\\en_CNN\\Cousin of hostage killed by Hamas Netanyahu's decisions made it impossible for hostages to return.en.vtt\n",
      "[download] Destination: data\\en_CNN\\Cousin of hostage killed by Hamas Netanyahu's decisions made it impossible for hostages to return.en.vtt\n",
      "[download] 100% of   17.82KiB in 00:00:00 at 120.62KiB/s\n",
      "[youtube] Extracting URL: https://youtube.com/watch?v=WOU0UAsJvE4\n",
      "[youtube] WOU0UAsJvE4: Downloading webpage\n",
      "[youtube] WOU0UAsJvE4: Downloading ios player API JSON\n",
      "[youtube] WOU0UAsJvE4: Downloading web creator player API JSON\n",
      "[youtube] WOU0UAsJvE4: Downloading m3u8 information\n",
      "[info] WOU0UAsJvE4: Downloading subtitles: en\n"
     ]
    },
    {
     "name": "stderr",
     "output_type": "stream",
     "text": [
      "WARNING: ffmpeg not found. The downloaded format may not be the best available. Installing ffmpeg is strongly recommended: https://github.com/yt-dlp/yt-dlp#dependencies\n"
     ]
    },
    {
     "name": "stdout",
     "output_type": "stream",
     "text": [
      "[youtube] Extracting URL: https://youtube.com/watch?v=WOU0UAsJvE4\n",
      "[youtube] WOU0UAsJvE4: Downloading webpage\n",
      "[youtube] WOU0UAsJvE4: Downloading ios player API JSON\n",
      "[youtube] WOU0UAsJvE4: Downloading web creator player API JSON\n",
      "[youtube] WOU0UAsJvE4: Downloading m3u8 information\n",
      "[info] WOU0UAsJvE4: Downloading subtitles: en\n"
     ]
    },
    {
     "name": "stderr",
     "output_type": "stream",
     "text": [
      "WARNING: ffmpeg not found. The downloaded format may not be the best available. Installing ffmpeg is strongly recommended: https://github.com/yt-dlp/yt-dlp#dependencies\n"
     ]
    },
    {
     "name": "stdout",
     "output_type": "stream",
     "text": [
      "[info] WOU0UAsJvE4: Downloading 1 format(s): 18\n",
      "[info] Writing video subtitles to: data\\en_CNN\\Hear Israeli president's apology to family of killed hostage Hersh Goldberg-Polin at his funeral.en.vtt\n",
      "[download] Destination: data\\en_CNN\\Hear Israeli president's apology to family of killed hostage Hersh Goldberg-Polin at his funeral.en.vtt\n",
      "[download] 100% of   16.01KiB in 00:00:00 at 138.40KiB/s\n",
      "[youtube] Extracting URL: https://youtube.com/watch?v=SI0wh2Gml9I\n",
      "[youtube] SI0wh2Gml9I: Downloading webpage\n",
      "[youtube] SI0wh2Gml9I: Downloading ios player API JSON\n",
      "[youtube] SI0wh2Gml9I: Downloading web creator player API JSON\n",
      "[youtube] SI0wh2Gml9I: Downloading m3u8 information\n",
      "[info] SI0wh2Gml9I: Downloading subtitles: en\n"
     ]
    },
    {
     "name": "stderr",
     "output_type": "stream",
     "text": [
      "WARNING: ffmpeg not found. The downloaded format may not be the best available. Installing ffmpeg is strongly recommended: https://github.com/yt-dlp/yt-dlp#dependencies\n"
     ]
    },
    {
     "name": "stdout",
     "output_type": "stream",
     "text": [
      "[youtube] Extracting URL: https://youtube.com/watch?v=SI0wh2Gml9I\n",
      "[youtube] SI0wh2Gml9I: Downloading webpage\n",
      "[youtube] SI0wh2Gml9I: Downloading ios player API JSON\n",
      "[youtube] SI0wh2Gml9I: Downloading web creator player API JSON\n",
      "[youtube] SI0wh2Gml9I: Downloading m3u8 information\n",
      "[info] SI0wh2Gml9I: Downloading subtitles: en\n"
     ]
    },
    {
     "name": "stderr",
     "output_type": "stream",
     "text": [
      "WARNING: ffmpeg not found. The downloaded format may not be the best available. Installing ffmpeg is strongly recommended: https://github.com/yt-dlp/yt-dlp#dependencies\n"
     ]
    },
    {
     "name": "stdout",
     "output_type": "stream",
     "text": [
      "[info] SI0wh2Gml9I: Downloading 1 format(s): 18\n",
      "[info] Writing video subtitles to: data\\en_CNN\\Gaza needs 640,000 polio vaccines. This is how the World Health Organization plans to do it.en.vtt\n",
      "[download] Destination: data\\en_CNN\\Gaza needs 640,000 polio vaccines. This is how the World Health Organization plans to do it.en.vtt\n",
      "[download] 100% of   13.54KiB in 00:00:00 at 97.30KiB/s\n",
      "[youtube] Extracting URL: https://youtube.com/watch?v=jEW8H34zEGw\n",
      "[youtube] jEW8H34zEGw: Downloading webpage\n",
      "[youtube] jEW8H34zEGw: Downloading ios player API JSON\n",
      "[youtube] jEW8H34zEGw: Downloading web creator player API JSON\n",
      "[youtube] jEW8H34zEGw: Downloading m3u8 information\n",
      "[info] jEW8H34zEGw: Downloading subtitles: en\n"
     ]
    },
    {
     "name": "stderr",
     "output_type": "stream",
     "text": [
      "WARNING: ffmpeg not found. The downloaded format may not be the best available. Installing ffmpeg is strongly recommended: https://github.com/yt-dlp/yt-dlp#dependencies\n"
     ]
    },
    {
     "name": "stdout",
     "output_type": "stream",
     "text": [
      "[youtube] Extracting URL: https://youtube.com/watch?v=jEW8H34zEGw\n",
      "[youtube] jEW8H34zEGw: Downloading webpage\n",
      "[youtube] jEW8H34zEGw: Downloading ios player API JSON\n",
      "[youtube] jEW8H34zEGw: Downloading web creator player API JSON\n",
      "[youtube] jEW8H34zEGw: Downloading m3u8 information\n",
      "[info] jEW8H34zEGw: Downloading subtitles: en\n"
     ]
    },
    {
     "name": "stderr",
     "output_type": "stream",
     "text": [
      "WARNING: ffmpeg not found. The downloaded format may not be the best available. Installing ffmpeg is strongly recommended: https://github.com/yt-dlp/yt-dlp#dependencies\n"
     ]
    },
    {
     "name": "stdout",
     "output_type": "stream",
     "text": [
      "[info] jEW8H34zEGw: Downloading 1 format(s): 18\n",
      "[info] Writing video subtitles to: data\\en_CNN\\Anderson Cooper's connection to the parents of hostage Hersh Goldberg-Polin, who was killed by Hamas.en.vtt\n",
      "[download] Destination: data\\en_CNN\\Anderson Cooper's connection to the parents of hostage Hersh Goldberg-Polin, who was killed by Hamas.en.vtt\n",
      "[download] 100% of   18.25KiB in 00:00:00 at 152.45KiB/s\n",
      "[youtube] Extracting URL: https://youtube.com/watch?v=t-CfrPcQYCY\n",
      "[youtube] t-CfrPcQYCY: Downloading webpage\n",
      "[youtube] t-CfrPcQYCY: Downloading ios player API JSON\n",
      "[youtube] t-CfrPcQYCY: Downloading web creator player API JSON\n",
      "[youtube] t-CfrPcQYCY: Downloading m3u8 information\n",
      "[info] t-CfrPcQYCY: Downloading subtitles: en\n"
     ]
    },
    {
     "name": "stderr",
     "output_type": "stream",
     "text": [
      "WARNING: ffmpeg not found. The downloaded format may not be the best available. Installing ffmpeg is strongly recommended: https://github.com/yt-dlp/yt-dlp#dependencies\n"
     ]
    },
    {
     "name": "stdout",
     "output_type": "stream",
     "text": [
      "[youtube] Extracting URL: https://youtube.com/watch?v=t-CfrPcQYCY\n",
      "[youtube] t-CfrPcQYCY: Downloading webpage\n",
      "[youtube] t-CfrPcQYCY: Downloading ios player API JSON\n",
      "[youtube] t-CfrPcQYCY: Downloading web creator player API JSON\n",
      "[youtube] t-CfrPcQYCY: Downloading m3u8 information\n",
      "[info] t-CfrPcQYCY: Downloading subtitles: en\n"
     ]
    },
    {
     "name": "stderr",
     "output_type": "stream",
     "text": [
      "WARNING: ffmpeg not found. The downloaded format may not be the best available. Installing ffmpeg is strongly recommended: https://github.com/yt-dlp/yt-dlp#dependencies\n"
     ]
    },
    {
     "name": "stdout",
     "output_type": "stream",
     "text": [
      "[info] t-CfrPcQYCY: Downloading 1 format(s): 18\n",
      "[info] Writing video subtitles to: data\\en_CNN\\CNN asks Netanyahu, ‘how much is too much’ Hear his response.en.vtt\n",
      "[download] Destination: data\\en_CNN\\CNN asks Netanyahu, ‘how much is too much’ Hear his response.en.vtt\n",
      "[download] 100% of    7.49KiB in 00:00:00 at 62.73KiB/s\n",
      "[youtube] Extracting URL: https://youtube.com/watch?v=IgQ4JkKeAhA\n",
      "[youtube] IgQ4JkKeAhA: Downloading webpage\n",
      "[youtube] IgQ4JkKeAhA: Downloading ios player API JSON\n",
      "[youtube] IgQ4JkKeAhA: Downloading web creator player API JSON\n",
      "[youtube] IgQ4JkKeAhA: Downloading m3u8 information\n"
     ]
    },
    {
     "name": "stderr",
     "output_type": "stream",
     "text": [
      "WARNING: ffmpeg not found. The downloaded format may not be the best available. Installing ffmpeg is strongly recommended: https://github.com/yt-dlp/yt-dlp#dependencies\n"
     ]
    },
    {
     "name": "stdout",
     "output_type": "stream",
     "text": [
      "subtitle file not found\n",
      "[youtube] Extracting URL: https://youtube.com/watch?v=BVL_czwbeeE\n",
      "[youtube] BVL_czwbeeE: Downloading webpage\n",
      "[youtube] BVL_czwbeeE: Downloading ios player API JSON\n",
      "[youtube] BVL_czwbeeE: Downloading web creator player API JSON\n",
      "[youtube] BVL_czwbeeE: Downloading m3u8 information\n"
     ]
    },
    {
     "name": "stderr",
     "output_type": "stream",
     "text": [
      "WARNING: ffmpeg not found. The downloaded format may not be the best available. Installing ffmpeg is strongly recommended: https://github.com/yt-dlp/yt-dlp#dependencies\n"
     ]
    },
    {
     "name": "stdout",
     "output_type": "stream",
     "text": [
      "subtitle file not found\n",
      "[youtube] Extracting URL: https://youtube.com/watch?v=hrqXnnPe4FQ\n",
      "[youtube] hrqXnnPe4FQ: Downloading webpage\n",
      "[youtube] hrqXnnPe4FQ: Downloading ios player API JSON\n",
      "[youtube] hrqXnnPe4FQ: Downloading web creator player API JSON\n",
      "[youtube] hrqXnnPe4FQ: Downloading m3u8 information\n",
      "[info] hrqXnnPe4FQ: Downloading subtitles: en\n"
     ]
    },
    {
     "name": "stderr",
     "output_type": "stream",
     "text": [
      "WARNING: ffmpeg not found. The downloaded format may not be the best available. Installing ffmpeg is strongly recommended: https://github.com/yt-dlp/yt-dlp#dependencies\n"
     ]
    },
    {
     "name": "stdout",
     "output_type": "stream",
     "text": [
      "[youtube] Extracting URL: https://youtube.com/watch?v=hrqXnnPe4FQ\n",
      "[youtube] hrqXnnPe4FQ: Downloading webpage\n",
      "[youtube] hrqXnnPe4FQ: Downloading ios player API JSON\n",
      "[youtube] hrqXnnPe4FQ: Downloading web creator player API JSON\n",
      "[youtube] hrqXnnPe4FQ: Downloading m3u8 information\n",
      "[info] hrqXnnPe4FQ: Downloading subtitles: en\n"
     ]
    },
    {
     "name": "stderr",
     "output_type": "stream",
     "text": [
      "WARNING: ffmpeg not found. The downloaded format may not be the best available. Installing ffmpeg is strongly recommended: https://github.com/yt-dlp/yt-dlp#dependencies\n"
     ]
    },
    {
     "name": "stdout",
     "output_type": "stream",
     "text": [
      "[info] hrqXnnPe4FQ: Downloading 1 format(s): 18\n",
      "[info] Writing video subtitles to: data\\en_CNN\\'They told us this area was safe' Designated Gaza safe zone targeted by Israeli airstrike.en.vtt\n",
      "[download] Destination: data\\en_CNN\\'They told us this area was safe' Designated Gaza safe zone targeted by Israeli airstrike.en.vtt\n",
      "[download] 100% of   12.82KiB in 00:00:00 at 87.63KiB/s\n",
      "[youtube] Extracting URL: https://youtube.com/watch?v=yNmfu9CsTOk\n",
      "[youtube] yNmfu9CsTOk: Downloading webpage\n",
      "[youtube] yNmfu9CsTOk: Downloading ios player API JSON\n",
      "[youtube] yNmfu9CsTOk: Downloading web creator player API JSON\n",
      "[youtube] yNmfu9CsTOk: Downloading m3u8 information\n",
      "[info] Testing format 616\n"
     ]
    },
    {
     "name": "stderr",
     "output_type": "stream",
     "text": [
      "WARNING: ffmpeg not found. The downloaded format may not be the best available. Installing ffmpeg is strongly recommended: https://github.com/yt-dlp/yt-dlp#dependencies\n"
     ]
    },
    {
     "name": "stdout",
     "output_type": "stream",
     "text": [
      "subtitle file not found\n",
      "Dataset created successfully with 370 entries.\n"
     ]
    }
   ],
   "source": [
    "import os\n",
    "import requests\n",
    "import pandas as pd\n",
    "import webvtt\n",
    "from pytube import Playlist\n",
    "import yt_dlp\n",
    "import re\n",
    "import time\n",
    "import unicodedata\n",
    "\n",
    "# Assume `playlist` is a pytube Playlist object already initialized\n",
    "playlist_url = 'https://www.youtube.com/playlist?list=PL6XRrncXkMaU55GiCvv416NR2qBD_xbmf'\n",
    "playlist = Playlist(playlist_url)\n",
    "\n",
    "# Get all video URLs in the playlist\n",
    "video_urls = [video.watch_url for video in playlist.videos]\n",
    "\n",
    "# Directory to save thumbnails and transcripts\n",
    "output_dir = 'data/en_CNN'\n",
    "os.makedirs(output_dir, exist_ok=True)\n",
    "\n",
    "def sanitize_filename(name):\n",
    "    \"\"\"\n",
    "    Sanitize the filename by removing invalid characters, full-width symbols,\n",
    "    stripping newlines, and normalizing unicode to ASCII where possible.\n",
    "    \"\"\"\n",
    "    # Normalize full-width characters to their ASCII equivalents\n",
    "    name = unicodedata.normalize('NFKC', name)  # Normalize Unicode characters to ASCII-compatible form\n",
    "    \n",
    "    # Remove problematic characters for filenames\n",
    "    name = re.sub(r'[\\\\/*?:\"<>|]', \"\", name)  # Remove invalid characters\n",
    "    name = name.replace('\\n', '').replace('\\r', '')  # Remove newlines\n",
    "    name = name.strip()  # Trim leading/trailing spaces\n",
    "\n",
    "    # Ensure the filename length is not too long (you can set a specific limit)\n",
    "    max_filename_length = 255\n",
    "    return name[:max_filename_length]\n",
    "\n",
    "def download_thumbnail(thumbnail_url, title):\n",
    "    try:\n",
    "        response = requests.get(thumbnail_url)\n",
    "        sanitized_title = sanitize_filename(title)\n",
    "        thumbnail_file = os.path.join(output_dir, f'{sanitized_title}.jpg')\n",
    "        with open(thumbnail_file, 'wb') as file:\n",
    "            file.write(response.content)\n",
    "        return thumbnail_file\n",
    "    except Exception as e:\n",
    "        print(f\"Failed to download thumbnail for {title}: {e}\")\n",
    "        return None\n",
    "\n",
    "def download_subtitles(video_url, video_title, subtitle_languages):\n",
    "    sanitized_title = sanitize_filename(video_title)\n",
    "    \n",
    "    # Define the download options\n",
    "    ydl_opts = {\n",
    "        'writesubtitles': True,\n",
    "        'writeautomaticsub': True,\n",
    "        'skip_download': True,  # Skip video download\n",
    "        'outtmpl': os.path.join(output_dir, f'{sanitized_title}.%(ext)s'),  # Use sanitized title\n",
    "        'restrictfilenames': True,\n",
    "    }\n",
    "    \n",
    "    try:\n",
    "        with yt_dlp.YoutubeDL(ydl_opts) as ydl:\n",
    "            if 'en' in subtitle_languages:\n",
    "                # Download English subtitles\n",
    "                subtitle_file = os.path.join(output_dir, f'{sanitized_title}.en.vtt')\n",
    "                if not os.path.exists(subtitle_file):\n",
    "                    ydl_opts['subtitleslangs'] = ['en']\n",
    "                    ydl.download([video_url])  # Download subtitles for the video\n",
    "                return subtitle_file\n",
    "            elif subtitle_languages:\n",
    "                # Download the first available subtitle if English is not found\n",
    "                first_lang = list(subtitle_languages)[0]\n",
    "                subtitle_file = os.path.join(output_dir, f'{sanitized_title}.{first_lang}.vtt')\n",
    "                if not os.path.exists(subtitle_file):\n",
    "                    ydl_opts['subtitleslangs'] = [first_lang]\n",
    "                    ydl.download([video_url])\n",
    "                return subtitle_file\n",
    "                \n",
    "    except yt_dlp.utils.DownloadError as e:\n",
    "        error_message = str(e)\n",
    "        print(f\"Error downloading subtitles for {video_title}: {error_message}\")\n",
    "        return None\n",
    "                \n",
    "def download_video_info(video_url, max_retries=3, retry_interval=180):\n",
    "    ydl_opts = {\n",
    "        'writesubtitles': True,\n",
    "        'writeautomaticsub': True,\n",
    "        'skip_download': True,\n",
    "        #'outtmpl': os.path.join(output_dir, f'{\"%(sanitized_title)s\"}.%(ext)s'),\n",
    "        'postprocessors': [{\n",
    "            'key': 'FFmpegMetadata',\n",
    "        }],\n",
    "    }\n",
    "    retries = 0\n",
    "    while retries < max_retries:\n",
    "        try:\n",
    "            with yt_dlp.YoutubeDL(ydl_opts) as ydl:\n",
    "                info_dict = ydl.extract_info(video_url, download=False)\n",
    "                video_title = info_dict.get('title', None)\n",
    "                video_id = info_dict.get('id', None)\n",
    "                thumbnail_url = info_dict.get('thumbnail', None)\n",
    "                publish_date = info_dict.get('upload_date', None)  # Format: 'YYYYMMDD'\n",
    "                subtitle_languages = info_dict.get('automatic_captions', {}).keys()\n",
    "\n",
    "                # Download thumbnail\n",
    "                thumbnail_file = None\n",
    "                if thumbnail_url:\n",
    "                    thumbnail_file = download_thumbnail(thumbnail_url, video_title)\n",
    "\n",
    "                # Download subtitles\n",
    "                subtitle_file = None\n",
    "                subtitle_file = download_subtitles(video_url, video_title, subtitle_languages)\n",
    "                \n",
    "            # Return the collected video information\n",
    "            return video_id, video_title, thumbnail_file, subtitle_file, publish_date\n",
    "\n",
    "        except yt_dlp.utils.DownloadError as e:\n",
    "            error_message = str(e)\n",
    "            if \"Sign in to confirm you’re not a bot\" in error_message:\n",
    "                retries += 1\n",
    "                print(f\"Error: {error_message}. Retrying in {retry_interval} seconds... (Attempt {retries}/{max_retries})\")\n",
    "                time.sleep(retry_interval)  # Wait before retrying\n",
    "            else:\n",
    "                print(f\"Failed to download video info for {video_url}: {e}\")\n",
    "                return None, None, None, None, None\n",
    "\n",
    "    # After max retries, log the failure and return None\n",
    "    print(f\"Max retries reached. Skipping video: {video_url}\")\n",
    "    return None, None, None, None, None\n",
    "\n",
    "def vtt_to_text(vtt_file_path):\n",
    "    try:\n",
    "        text = ''\n",
    "        lines = []\n",
    "        deduplicated_lines = []\n",
    "        for caption in webvtt.read(vtt_file_path):\n",
    "            # Split the block into lines and deduplicate them within the block\n",
    "            lines.extend(caption.text.strip().split('\\n'))\n",
    "            #print(caption.text.strip().split('\\n'))\n",
    "        for line in lines:\n",
    "            if line and (not deduplicated_lines or line != deduplicated_lines[-1]):  # Avoid consecutive duplicates\n",
    "                deduplicated_lines.append(line)\n",
    "     \n",
    "        text = \"\\n\".join(deduplicated_lines)\n",
    "    \n",
    "    except Exception as e:\n",
    "        print(f\"Failed to convert {vtt_file_path} to text: {e}\")\n",
    "        \n",
    "    return text\n",
    "\n",
    "# Create a list to store video information\n",
    "data = []\n",
    "\n",
    "# Loop through each video URL and download the required data\n",
    "for video_url in video_urls:\n",
    "    video_id, video_title, thumbnail_file, subtitle_file, publish_date = download_video_info(video_url)\n",
    "    # If video info is successfully retrieved\n",
    "    if video_id and video_title:\n",
    "        # Convert subtitles to text if available\n",
    "        transcript = None\n",
    "        if subtitle_file and os.path.exists(subtitle_file):\n",
    "            transcript = vtt_to_text(subtitle_file)\n",
    "        else:\n",
    "            print(\"subtitle file not found\")\n",
    "        # Append data to the list\n",
    "        data.append({\n",
    "            'video_id': video_id,\n",
    "            'video_title': video_title,\n",
    "            'thumbnail_path': thumbnail_file,\n",
    "            'transcript': transcript,\n",
    "            'publish_date': publish_date\n",
    "        })\n",
    "\n",
    "# Convert the list to a DataFrame\n",
    "df = pd.DataFrame(data, columns=['video_id', 'video_title', 'thumbnail_path', 'transcript', 'publish_date'])\n",
    "\n",
    "# Save the DataFrame to a CSV file\n",
    "df.to_csv(os.path.join(output_dir,\"../\", 'en_CNN.csv'), index=False)\n",
    "\n",
    "print(f\"Dataset created successfully with {len(df)} entries.\")"
   ]
  },
  {
   "cell_type": "code",
   "execution_count": null,
   "metadata": {},
   "outputs": [],
   "source": []
  },
  {
   "cell_type": "code",
   "execution_count": null,
   "metadata": {},
   "outputs": [],
   "source": []
  }
 ],
 "metadata": {
  "kernelspec": {
   "display_name": "Python 3 (ipykernel)",
   "language": "python",
   "name": "python3"
  },
  "language_info": {
   "codemirror_mode": {
    "name": "ipython",
    "version": 3
   },
   "file_extension": ".py",
   "mimetype": "text/x-python",
   "name": "python",
   "nbconvert_exporter": "python",
   "pygments_lexer": "ipython3",
   "version": "3.12.1"
  }
 },
 "nbformat": 4,
 "nbformat_minor": 4
}
