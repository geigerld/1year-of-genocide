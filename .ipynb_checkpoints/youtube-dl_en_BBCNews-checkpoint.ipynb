{
 "cells": [
  {
   "cell_type": "markdown",
   "metadata": {},
   "source": [
    "## Step 1: Install Required Libraries\n",
    "First, you need to install the necessary Python libraries:"
   ]
  },
  {
   "cell_type": "code",
   "execution_count": null,
   "metadata": {},
   "outputs": [],
   "source": [
    "!pip install yt-dlp pytube pandas webvtt-py requests\n"
   ]
  },
  {
   "cell_type": "code",
   "execution_count": null,
   "metadata": {
    "scrolled": true
   },
   "outputs": [
    {
     "name": "stdout",
     "output_type": "stream",
     "text": [
      "[youtube] Extracting URL: https://youtube.com/watch?v=93WDYXl8658\n",
      "[youtube] 93WDYXl8658: Downloading webpage\n",
      "[youtube] 93WDYXl8658: Downloading ios player API JSON\n",
      "[youtube] 93WDYXl8658: Downloading web creator player API JSON\n",
      "[youtube] 93WDYXl8658: Downloading player a9d81eca\n",
      "[youtube] 93WDYXl8658: Downloading m3u8 information\n",
      "[info] 93WDYXl8658: Downloading subtitles: en\n"
     ]
    },
    {
     "name": "stderr",
     "output_type": "stream",
     "text": [
      "WARNING: ffmpeg not found. The downloaded format may not be the best available. Installing ffmpeg is strongly recommended: https://github.com/yt-dlp/yt-dlp#dependencies\n"
     ]
    },
    {
     "name": "stdout",
     "output_type": "stream",
     "text": [
      "[youtube] Extracting URL: https://youtube.com/watch?v=93WDYXl8658\n",
      "[youtube] 93WDYXl8658: Downloading webpage\n",
      "[youtube] 93WDYXl8658: Downloading ios player API JSON\n",
      "[youtube] 93WDYXl8658: Downloading web creator player API JSON\n",
      "[youtube] 93WDYXl8658: Downloading m3u8 information\n",
      "[info] 93WDYXl8658: Downloading subtitles: en\n"
     ]
    },
    {
     "name": "stderr",
     "output_type": "stream",
     "text": [
      "WARNING: ffmpeg not found. The downloaded format may not be the best available. Installing ffmpeg is strongly recommended: https://github.com/yt-dlp/yt-dlp#dependencies\n"
     ]
    },
    {
     "name": "stdout",
     "output_type": "stream",
     "text": [
      "[info] 93WDYXl8658: Downloading 1 format(s): 18\n",
      "[info] Writing video subtitles to: data\\en_BBCNews\\Israel strikes southern Lebanon as Hezbollah leader condemns fatal device attacks  BBC News.en.vtt\n",
      "[download] Destination: data\\en_BBCNews\\Israel strikes southern Lebanon as Hezbollah leader condemns fatal device attacks  BBC News.en.vtt\n",
      "[download] 100% of   89.11KiB in 00:00:00 at 394.81KiB/s\n",
      "[youtube] Extracting URL: https://youtube.com/watch?v=nzeRnUHmPwM\n",
      "[youtube] nzeRnUHmPwM: Downloading webpage\n",
      "[youtube] nzeRnUHmPwM: Downloading ios player API JSON\n",
      "[youtube] nzeRnUHmPwM: Downloading web creator player API JSON\n",
      "[youtube] nzeRnUHmPwM: Downloading m3u8 information\n",
      "[info] nzeRnUHmPwM: Downloading subtitles: en\n"
     ]
    },
    {
     "name": "stderr",
     "output_type": "stream",
     "text": [
      "WARNING: ffmpeg not found. The downloaded format may not be the best available. Installing ffmpeg is strongly recommended: https://github.com/yt-dlp/yt-dlp#dependencies\n"
     ]
    },
    {
     "name": "stdout",
     "output_type": "stream",
     "text": [
      "[youtube] Extracting URL: https://youtube.com/watch?v=nzeRnUHmPwM\n",
      "[youtube] nzeRnUHmPwM: Downloading webpage\n",
      "[youtube] nzeRnUHmPwM: Downloading ios player API JSON\n",
      "[youtube] nzeRnUHmPwM: Downloading web creator player API JSON\n",
      "[youtube] nzeRnUHmPwM: Downloading m3u8 information\n",
      "[info] nzeRnUHmPwM: Downloading subtitles: en\n"
     ]
    },
    {
     "name": "stderr",
     "output_type": "stream",
     "text": [
      "WARNING: ffmpeg not found. The downloaded format may not be the best available. Installing ffmpeg is strongly recommended: https://github.com/yt-dlp/yt-dlp#dependencies\n"
     ]
    },
    {
     "name": "stdout",
     "output_type": "stream",
     "text": [
      "[info] nzeRnUHmPwM: Downloading 1 format(s): 18\n",
      "[info] Writing video subtitles to: data\\en_BBCNews\\Hezbollah leader calls device attacks ‘a declaration of war’  BBC News.en.vtt\n",
      "[download] Destination: data\\en_BBCNews\\Hezbollah leader calls device attacks ‘a declaration of war’  BBC News.en.vtt\n",
      "[download] 100% of   61.55KiB in 00:00:00 at 464.30KiB/s\n",
      "[youtube] Extracting URL: https://youtube.com/watch?v=vXrlq7A18S4\n",
      "[youtube] vXrlq7A18S4: Downloading webpage\n",
      "[youtube] vXrlq7A18S4: Downloading ios player API JSON\n",
      "[youtube] vXrlq7A18S4: Downloading web creator player API JSON\n",
      "[youtube] vXrlq7A18S4: Downloading m3u8 information\n",
      "[info] vXrlq7A18S4: Downloading subtitles: en\n"
     ]
    },
    {
     "name": "stderr",
     "output_type": "stream",
     "text": [
      "WARNING: ffmpeg not found. The downloaded format may not be the best available. Installing ffmpeg is strongly recommended: https://github.com/yt-dlp/yt-dlp#dependencies\n"
     ]
    },
    {
     "name": "stdout",
     "output_type": "stream",
     "text": [
      "[youtube] Extracting URL: https://youtube.com/watch?v=vXrlq7A18S4\n",
      "[youtube] vXrlq7A18S4: Downloading webpage\n",
      "[youtube] vXrlq7A18S4: Downloading ios player API JSON\n",
      "[youtube] vXrlq7A18S4: Downloading web creator player API JSON\n",
      "[youtube] vXrlq7A18S4: Downloading m3u8 information\n",
      "[info] vXrlq7A18S4: Downloading subtitles: en\n"
     ]
    },
    {
     "name": "stderr",
     "output_type": "stream",
     "text": [
      "WARNING: ffmpeg not found. The downloaded format may not be the best available. Installing ffmpeg is strongly recommended: https://github.com/yt-dlp/yt-dlp#dependencies\n"
     ]
    },
    {
     "name": "stdout",
     "output_type": "stream",
     "text": [
      "[info] vXrlq7A18S4: Downloading 1 format(s): 18\n",
      "[info] Writing video subtitles to: data\\en_BBCNews\\Fears grow of wider war as Israel sends more troops to Lebanon border  BBC News.en.vtt\n",
      "[download] Destination: data\\en_BBCNews\\Fears grow of wider war as Israel sends more troops to Lebanon border  BBC News.en.vtt\n",
      "[download] 100% of   77.45KiB in 00:00:00 at 543.85KiB/s\n",
      "[youtube] Extracting URL: https://youtube.com/watch?v=pNEb-dY3tRY\n",
      "[youtube] pNEb-dY3tRY: Downloading webpage\n",
      "[youtube] pNEb-dY3tRY: Downloading ios player API JSON\n",
      "[youtube] pNEb-dY3tRY: Downloading web creator player API JSON\n",
      "[youtube] pNEb-dY3tRY: Downloading m3u8 information\n",
      "[info] pNEb-dY3tRY: Downloading subtitles: en\n"
     ]
    },
    {
     "name": "stderr",
     "output_type": "stream",
     "text": [
      "WARNING: ffmpeg not found. The downloaded format may not be the best available. Installing ffmpeg is strongly recommended: https://github.com/yt-dlp/yt-dlp#dependencies\n"
     ]
    },
    {
     "name": "stdout",
     "output_type": "stream",
     "text": [
      "[youtube] Extracting URL: https://youtube.com/watch?v=pNEb-dY3tRY\n",
      "[youtube] pNEb-dY3tRY: Downloading webpage\n",
      "[youtube] pNEb-dY3tRY: Downloading ios player API JSON\n",
      "[youtube] pNEb-dY3tRY: Downloading web creator player API JSON\n",
      "[youtube] pNEb-dY3tRY: Downloading m3u8 information\n",
      "[info] pNEb-dY3tRY: Downloading subtitles: en\n"
     ]
    },
    {
     "name": "stderr",
     "output_type": "stream",
     "text": [
      "WARNING: ffmpeg not found. The downloaded format may not be the best available. Installing ffmpeg is strongly recommended: https://github.com/yt-dlp/yt-dlp#dependencies\n"
     ]
    },
    {
     "name": "stdout",
     "output_type": "stream",
     "text": [
      "[info] pNEb-dY3tRY: Downloading 1 format(s): 18\n",
      "[info] Writing video subtitles to: data\\en_BBCNews\\Hundreds of Hezbollah members reportedly injured by exploding pagers  BBC News.en.vtt\n",
      "[download] Destination: data\\en_BBCNews\\Hundreds of Hezbollah members reportedly injured by exploding pagers  BBC News.en.vtt\n",
      "[download] 100% of   63.27KiB in 00:00:00 at 510.93KiB/s\n",
      "[youtube] Extracting URL: https://youtube.com/watch?v=w1V9YrsK9QY\n",
      "[youtube] w1V9YrsK9QY: Downloading webpage\n",
      "[youtube] w1V9YrsK9QY: Downloading ios player API JSON\n",
      "[youtube] w1V9YrsK9QY: Downloading web creator player API JSON\n",
      "[youtube] w1V9YrsK9QY: Downloading m3u8 information\n",
      "[info] w1V9YrsK9QY: Downloading subtitles: en\n"
     ]
    },
    {
     "name": "stderr",
     "output_type": "stream",
     "text": [
      "WARNING: ffmpeg not found. The downloaded format may not be the best available. Installing ffmpeg is strongly recommended: https://github.com/yt-dlp/yt-dlp#dependencies\n"
     ]
    },
    {
     "name": "stdout",
     "output_type": "stream",
     "text": [
      "[youtube] Extracting URL: https://youtube.com/watch?v=w1V9YrsK9QY\n",
      "[youtube] w1V9YrsK9QY: Downloading webpage\n",
      "[youtube] w1V9YrsK9QY: Downloading ios player API JSON\n",
      "[youtube] w1V9YrsK9QY: Downloading web creator player API JSON\n",
      "[youtube] w1V9YrsK9QY: Downloading m3u8 information\n",
      "[info] w1V9YrsK9QY: Downloading subtitles: en\n"
     ]
    },
    {
     "name": "stderr",
     "output_type": "stream",
     "text": [
      "WARNING: ffmpeg not found. The downloaded format may not be the best available. Installing ffmpeg is strongly recommended: https://github.com/yt-dlp/yt-dlp#dependencies\n"
     ]
    },
    {
     "name": "stdout",
     "output_type": "stream",
     "text": [
      "[info] w1V9YrsK9QY: Downloading 1 format(s): 18\n",
      "[info] Writing video subtitles to: data\\en_BBCNews\\UN Gaza aid chief World is failing innocent civilians  BBC News.en.vtt\n",
      "[download] Destination: data\\en_BBCNews\\UN Gaza aid chief World is failing innocent civilians  BBC News.en.vtt\n",
      "[download] 100% of   49.53KiB in 00:00:00 at 354.76KiB/s\n",
      "[youtube] Extracting URL: https://youtube.com/watch?v=jvl0GP8rJfU\n",
      "[youtube] jvl0GP8rJfU: Downloading webpage\n",
      "[youtube] jvl0GP8rJfU: Downloading ios player API JSON\n",
      "[youtube] jvl0GP8rJfU: Downloading web creator player API JSON\n",
      "[youtube] jvl0GP8rJfU: Downloading m3u8 information\n",
      "[info] jvl0GP8rJfU: Downloading subtitles: en\n"
     ]
    },
    {
     "name": "stderr",
     "output_type": "stream",
     "text": [
      "WARNING: ffmpeg not found. The downloaded format may not be the best available. Installing ffmpeg is strongly recommended: https://github.com/yt-dlp/yt-dlp#dependencies\n"
     ]
    },
    {
     "name": "stdout",
     "output_type": "stream",
     "text": [
      "[youtube] Extracting URL: https://youtube.com/watch?v=jvl0GP8rJfU\n",
      "[youtube] jvl0GP8rJfU: Downloading webpage\n",
      "[youtube] jvl0GP8rJfU: Downloading ios player API JSON\n",
      "[youtube] jvl0GP8rJfU: Downloading web creator player API JSON\n",
      "[youtube] jvl0GP8rJfU: Downloading m3u8 information\n",
      "[info] jvl0GP8rJfU: Downloading subtitles: en\n"
     ]
    },
    {
     "name": "stderr",
     "output_type": "stream",
     "text": [
      "WARNING: ffmpeg not found. The downloaded format may not be the best available. Installing ffmpeg is strongly recommended: https://github.com/yt-dlp/yt-dlp#dependencies\n"
     ]
    },
    {
     "name": "stdout",
     "output_type": "stream",
     "text": [
      "[info] jvl0GP8rJfU: Downloading 1 format(s): 18\n",
      "[info] Writing video subtitles to: data\\en_BBCNews\\UN says Israeli strike killed six of its Gaza staff  BBC News.en.vtt\n",
      "[download] Destination: data\\en_BBCNews\\UN says Israeli strike killed six of its Gaza staff  BBC News.en.vtt\n",
      "[download] 100% of   22.45KiB in 00:00:00 at 131.13KiB/s\n",
      "[youtube] Extracting URL: https://youtube.com/watch?v=IA5xHX2lKVo\n",
      "[youtube] IA5xHX2lKVo: Downloading webpage\n",
      "[youtube] IA5xHX2lKVo: Downloading ios player API JSON\n",
      "[youtube] IA5xHX2lKVo: Downloading web creator player API JSON\n",
      "[youtube] IA5xHX2lKVo: Downloading m3u8 information\n",
      "[info] IA5xHX2lKVo: Downloading subtitles: en\n"
     ]
    },
    {
     "name": "stderr",
     "output_type": "stream",
     "text": [
      "WARNING: ffmpeg not found. The downloaded format may not be the best available. Installing ffmpeg is strongly recommended: https://github.com/yt-dlp/yt-dlp#dependencies\n"
     ]
    },
    {
     "name": "stdout",
     "output_type": "stream",
     "text": [
      "[youtube] Extracting URL: https://youtube.com/watch?v=IA5xHX2lKVo\n",
      "[youtube] IA5xHX2lKVo: Downloading webpage\n",
      "[youtube] IA5xHX2lKVo: Downloading ios player API JSON\n",
      "[youtube] IA5xHX2lKVo: Downloading web creator player API JSON\n",
      "[youtube] IA5xHX2lKVo: Downloading m3u8 information\n",
      "[info] IA5xHX2lKVo: Downloading subtitles: en\n"
     ]
    },
    {
     "name": "stderr",
     "output_type": "stream",
     "text": [
      "WARNING: ffmpeg not found. The downloaded format may not be the best available. Installing ffmpeg is strongly recommended: https://github.com/yt-dlp/yt-dlp#dependencies\n"
     ]
    },
    {
     "name": "stdout",
     "output_type": "stream",
     "text": [
      "[info] IA5xHX2lKVo: Downloading 1 format(s): 18\n",
      "[info] Writing video subtitles to: data\\en_BBCNews\\Debate verdict  defensive Trump rattled by confident Harris  BBC News.en.vtt\n",
      "[download] Destination: data\\en_BBCNews\\Debate verdict  defensive Trump rattled by confident Harris  BBC News.en.vtt\n",
      "[download] 100% of   59.84KiB in 00:00:00 at 485.15KiB/s\n",
      "[youtube] Extracting URL: https://youtube.com/watch?v=UOl82at6wtY\n",
      "[youtube] UOl82at6wtY: Downloading webpage\n",
      "[youtube] UOl82at6wtY: Downloading ios player API JSON\n",
      "[youtube] UOl82at6wtY: Downloading web creator player API JSON\n",
      "[youtube] UOl82at6wtY: Downloading m3u8 information\n",
      "[info] UOl82at6wtY: Downloading subtitles: en\n"
     ]
    },
    {
     "name": "stderr",
     "output_type": "stream",
     "text": [
      "WARNING: ffmpeg not found. The downloaded format may not be the best available. Installing ffmpeg is strongly recommended: https://github.com/yt-dlp/yt-dlp#dependencies\n"
     ]
    },
    {
     "name": "stdout",
     "output_type": "stream",
     "text": [
      "[youtube] Extracting URL: https://youtube.com/watch?v=UOl82at6wtY\n",
      "[youtube] UOl82at6wtY: Downloading webpage\n",
      "[youtube] UOl82at6wtY: Downloading ios player API JSON\n",
      "[youtube] UOl82at6wtY: Downloading web creator player API JSON\n",
      "[youtube] UOl82at6wtY: Downloading m3u8 information\n",
      "[info] UOl82at6wtY: Downloading subtitles: en\n"
     ]
    },
    {
     "name": "stderr",
     "output_type": "stream",
     "text": [
      "WARNING: ffmpeg not found. The downloaded format may not be the best available. Installing ffmpeg is strongly recommended: https://github.com/yt-dlp/yt-dlp#dependencies\n"
     ]
    },
    {
     "name": "stdout",
     "output_type": "stream",
     "text": [
      "[info] UOl82at6wtY: Downloading 1 format(s): 18\n",
      "[info] Writing video subtitles to: data\\en_BBCNews\\Israeli strike kills five Palestinians in West Bank  BBC News.en.vtt\n",
      "[download] Destination: data\\en_BBCNews\\Israeli strike kills five Palestinians in West Bank  BBC News.en.vtt\n",
      "[download] 100% of   23.41KiB in 00:00:00 at 142.57KiB/s\n",
      "[youtube] Extracting URL: https://youtube.com/watch?v=sJ_BKB_5jDE\n",
      "[youtube] sJ_BKB_5jDE: Downloading webpage\n",
      "[youtube] sJ_BKB_5jDE: Downloading ios player API JSON\n",
      "[youtube] sJ_BKB_5jDE: Downloading web creator player API JSON\n",
      "[youtube] sJ_BKB_5jDE: Downloading m3u8 information\n",
      "[info] sJ_BKB_5jDE: Downloading subtitles: en\n"
     ]
    },
    {
     "name": "stderr",
     "output_type": "stream",
     "text": [
      "WARNING: ffmpeg not found. The downloaded format may not be the best available. Installing ffmpeg is strongly recommended: https://github.com/yt-dlp/yt-dlp#dependencies\n"
     ]
    },
    {
     "name": "stdout",
     "output_type": "stream",
     "text": [
      "[youtube] Extracting URL: https://youtube.com/watch?v=sJ_BKB_5jDE\n",
      "[youtube] sJ_BKB_5jDE: Downloading webpage\n",
      "[youtube] sJ_BKB_5jDE: Downloading ios player API JSON\n",
      "[youtube] sJ_BKB_5jDE: Downloading web creator player API JSON\n",
      "[youtube] sJ_BKB_5jDE: Downloading m3u8 information\n",
      "[info] sJ_BKB_5jDE: Downloading subtitles: en\n"
     ]
    },
    {
     "name": "stderr",
     "output_type": "stream",
     "text": [
      "WARNING: ffmpeg not found. The downloaded format may not be the best available. Installing ffmpeg is strongly recommended: https://github.com/yt-dlp/yt-dlp#dependencies\n"
     ]
    },
    {
     "name": "stdout",
     "output_type": "stream",
     "text": [
      "[info] sJ_BKB_5jDE: Downloading 1 format(s): 18\n",
      "[info] Writing video subtitles to: data\\en_BBCNews\\At least 19 killed in Israeli strike on Gaza ‘safe zone’ for displaced people  BBC News.en.vtt\n",
      "[download] Destination: data\\en_BBCNews\\At least 19 killed in Israeli strike on Gaza ‘safe zone’ for displaced people  BBC News.en.vtt\n",
      "[download] 100% of   18.31KiB in 00:00:00 at 129.87KiB/s\n",
      "[youtube] Extracting URL: https://youtube.com/watch?v=KrR6EHR1pPc\n",
      "[youtube] KrR6EHR1pPc: Downloading webpage\n",
      "[youtube] KrR6EHR1pPc: Downloading ios player API JSON\n",
      "[youtube] KrR6EHR1pPc: Downloading web creator player API JSON\n",
      "[youtube] KrR6EHR1pPc: Downloading m3u8 information\n",
      "[info] KrR6EHR1pPc: Downloading subtitles: en\n"
     ]
    },
    {
     "name": "stderr",
     "output_type": "stream",
     "text": [
      "WARNING: ffmpeg not found. The downloaded format may not be the best available. Installing ffmpeg is strongly recommended: https://github.com/yt-dlp/yt-dlp#dependencies\n"
     ]
    },
    {
     "name": "stdout",
     "output_type": "stream",
     "text": [
      "[youtube] Extracting URL: https://youtube.com/watch?v=KrR6EHR1pPc\n",
      "[youtube] KrR6EHR1pPc: Downloading webpage\n",
      "[youtube] KrR6EHR1pPc: Downloading ios player API JSON\n",
      "[youtube] KrR6EHR1pPc: Downloading web creator player API JSON\n",
      "[youtube] KrR6EHR1pPc: Downloading m3u8 information\n",
      "[info] KrR6EHR1pPc: Downloading subtitles: en\n"
     ]
    },
    {
     "name": "stderr",
     "output_type": "stream",
     "text": [
      "WARNING: ffmpeg not found. The downloaded format may not be the best available. Installing ffmpeg is strongly recommended: https://github.com/yt-dlp/yt-dlp#dependencies\n"
     ]
    },
    {
     "name": "stdout",
     "output_type": "stream",
     "text": [
      "[info] KrR6EHR1pPc: Downloading 1 format(s): 18\n",
      "[info] Writing video subtitles to: data\\en_BBCNews\\Israeli strike in Gaza humanitarian zone kills 19, Hamas-run health ministry says  BBC News.en.vtt\n",
      "[download] Destination: data\\en_BBCNews\\Israeli strike in Gaza humanitarian zone kills 19, Hamas-run health ministry says  BBC News.en.vtt\n",
      "[download] 100% of   26.21KiB in 00:00:00 at 154.23KiB/s\n",
      "[youtube] Extracting URL: https://youtube.com/watch?v=zVP1RdZPFwc\n",
      "[youtube] zVP1RdZPFwc: Downloading webpage\n",
      "[youtube] zVP1RdZPFwc: Downloading ios player API JSON\n",
      "[youtube] zVP1RdZPFwc: Downloading web creator player API JSON\n",
      "[youtube] zVP1RdZPFwc: Downloading m3u8 information\n",
      "[info] zVP1RdZPFwc: Downloading subtitles: en\n"
     ]
    },
    {
     "name": "stderr",
     "output_type": "stream",
     "text": [
      "WARNING: ffmpeg not found. The downloaded format may not be the best available. Installing ffmpeg is strongly recommended: https://github.com/yt-dlp/yt-dlp#dependencies\n"
     ]
    },
    {
     "name": "stdout",
     "output_type": "stream",
     "text": [
      "[youtube] Extracting URL: https://youtube.com/watch?v=zVP1RdZPFwc\n",
      "[youtube] zVP1RdZPFwc: Downloading webpage\n",
      "[youtube] zVP1RdZPFwc: Downloading ios player API JSON\n",
      "[youtube] zVP1RdZPFwc: Downloading web creator player API JSON\n",
      "[youtube] zVP1RdZPFwc: Downloading m3u8 information\n",
      "[info] zVP1RdZPFwc: Downloading subtitles: en\n"
     ]
    },
    {
     "name": "stderr",
     "output_type": "stream",
     "text": [
      "WARNING: ffmpeg not found. The downloaded format may not be the best available. Installing ffmpeg is strongly recommended: https://github.com/yt-dlp/yt-dlp#dependencies\n"
     ]
    },
    {
     "name": "stdout",
     "output_type": "stream",
     "text": [
      "[info] zVP1RdZPFwc: Downloading 1 format(s): 18\n",
      "[info] Writing video subtitles to: data\\en_BBCNews\\Israeli strikes on Syrian military sites kill dozens, health minister says  BBC News.en.vtt\n",
      "[download] Destination: data\\en_BBCNews\\Israeli strikes on Syrian military sites kill dozens, health minister says  BBC News.en.vtt\n",
      "[download] 100% of   21.44KiB in 00:00:00 at 137.13KiB/s\n",
      "[youtube] Extracting URL: https://youtube.com/watch?v=mX7VGIEDW3M\n",
      "[youtube] mX7VGIEDW3M: Downloading webpage\n",
      "[youtube] mX7VGIEDW3M: Downloading ios player API JSON\n",
      "[youtube] mX7VGIEDW3M: Downloading web creator player API JSON\n",
      "[youtube] mX7VGIEDW3M: Downloading m3u8 information\n",
      "[info] mX7VGIEDW3M: Downloading subtitles: en\n"
     ]
    },
    {
     "name": "stderr",
     "output_type": "stream",
     "text": [
      "WARNING: ffmpeg not found. The downloaded format may not be the best available. Installing ffmpeg is strongly recommended: https://github.com/yt-dlp/yt-dlp#dependencies\n"
     ]
    },
    {
     "name": "stdout",
     "output_type": "stream",
     "text": [
      "[youtube] Extracting URL: https://youtube.com/watch?v=mX7VGIEDW3M\n",
      "[youtube] mX7VGIEDW3M: Downloading webpage\n",
      "[youtube] mX7VGIEDW3M: Downloading ios player API JSON\n",
      "[youtube] mX7VGIEDW3M: Downloading web creator player API JSON\n",
      "[youtube] mX7VGIEDW3M: Downloading m3u8 information\n",
      "[info] mX7VGIEDW3M: Downloading subtitles: en\n"
     ]
    },
    {
     "name": "stderr",
     "output_type": "stream",
     "text": [
      "WARNING: ffmpeg not found. The downloaded format may not be the best available. Installing ffmpeg is strongly recommended: https://github.com/yt-dlp/yt-dlp#dependencies\n"
     ]
    },
    {
     "name": "stdout",
     "output_type": "stream",
     "text": [
      "[info] mX7VGIEDW3M: Downloading 1 format(s): 18\n",
      "[info] Writing video subtitles to: data\\en_BBCNews\\Three civilians killed in West Bank-Jordan border attack, say Israeli officials  BBC News.en.vtt\n",
      "[download] Destination: data\\en_BBCNews\\Three civilians killed in West Bank-Jordan border attack, say Israeli officials  BBC News.en.vtt\n",
      "[download] 100% of   32.92KiB in 00:00:00 at 300.16KiB/s\n",
      "[youtube] Extracting URL: https://youtube.com/watch?v=iu5TJJ5QCwQ\n",
      "[youtube] iu5TJJ5QCwQ: Downloading webpage\n",
      "[youtube] iu5TJJ5QCwQ: Downloading ios player API JSON\n",
      "[youtube] iu5TJJ5QCwQ: Downloading web creator player API JSON\n",
      "[youtube] iu5TJJ5QCwQ: Downloading m3u8 information\n",
      "[info] iu5TJJ5QCwQ: Downloading subtitles: en\n"
     ]
    },
    {
     "name": "stderr",
     "output_type": "stream",
     "text": [
      "WARNING: ffmpeg not found. The downloaded format may not be the best available. Installing ffmpeg is strongly recommended: https://github.com/yt-dlp/yt-dlp#dependencies\n"
     ]
    },
    {
     "name": "stdout",
     "output_type": "stream",
     "text": [
      "[youtube] Extracting URL: https://youtube.com/watch?v=iu5TJJ5QCwQ\n",
      "[youtube] iu5TJJ5QCwQ: Downloading webpage\n",
      "[youtube] iu5TJJ5QCwQ: Downloading ios player API JSON\n",
      "[youtube] iu5TJJ5QCwQ: Downloading web creator player API JSON\n",
      "[youtube] iu5TJJ5QCwQ: Downloading m3u8 information\n",
      "[info] iu5TJJ5QCwQ: Downloading subtitles: en\n"
     ]
    },
    {
     "name": "stderr",
     "output_type": "stream",
     "text": [
      "WARNING: ffmpeg not found. The downloaded format may not be the best available. Installing ffmpeg is strongly recommended: https://github.com/yt-dlp/yt-dlp#dependencies\n"
     ]
    },
    {
     "name": "stdout",
     "output_type": "stream",
     "text": [
      "[info] iu5TJJ5QCwQ: Downloading 1 format(s): 18\n",
      "[info] Writing video subtitles to: data\\en_BBCNews\\Death of US-Turkish citizen in West Bank should be 'fully investigated', says UN  BBC News.en.vtt\n",
      "[download] Destination: data\\en_BBCNews\\Death of US-Turkish citizen in West Bank should be 'fully investigated', says UN  BBC News.en.vtt\n",
      "[download] 100% of   40.55KiB in 00:00:00 at 194.43KiB/s\n",
      "[youtube] Extracting URL: https://youtube.com/watch?v=jchC5YYXtNA\n",
      "[youtube] jchC5YYXtNA: Downloading webpage\n",
      "[youtube] jchC5YYXtNA: Downloading ios player API JSON\n",
      "[youtube] jchC5YYXtNA: Downloading web creator player API JSON\n",
      "[youtube] jchC5YYXtNA: Downloading m3u8 information\n",
      "[info] jchC5YYXtNA: Downloading subtitles: en\n"
     ]
    },
    {
     "name": "stderr",
     "output_type": "stream",
     "text": [
      "WARNING: ffmpeg not found. The downloaded format may not be the best available. Installing ffmpeg is strongly recommended: https://github.com/yt-dlp/yt-dlp#dependencies\n"
     ]
    },
    {
     "name": "stdout",
     "output_type": "stream",
     "text": [
      "[youtube] Extracting URL: https://youtube.com/watch?v=jchC5YYXtNA\n",
      "[youtube] jchC5YYXtNA: Downloading webpage\n",
      "[youtube] jchC5YYXtNA: Downloading ios player API JSON\n",
      "[youtube] jchC5YYXtNA: Downloading web creator player API JSON\n",
      "[youtube] jchC5YYXtNA: Downloading m3u8 information\n",
      "[info] jchC5YYXtNA: Downloading subtitles: en\n"
     ]
    },
    {
     "name": "stderr",
     "output_type": "stream",
     "text": [
      "WARNING: ffmpeg not found. The downloaded format may not be the best available. Installing ffmpeg is strongly recommended: https://github.com/yt-dlp/yt-dlp#dependencies\n"
     ]
    },
    {
     "name": "stdout",
     "output_type": "stream",
     "text": [
      "[info] jchC5YYXtNA: Downloading 1 format(s): 18\n",
      "[info] Writing video subtitles to: data\\en_BBCNews\\Israel accused of shooting dead American protester in West Bank   BBC News.en.vtt\n",
      "[download] Destination: data\\en_BBCNews\\Israel accused of shooting dead American protester in West Bank   BBC News.en.vtt\n",
      "[download] 100% of   29.81KiB in 00:00:00 at 141.39KiB/s\n",
      "[youtube] Extracting URL: https://youtube.com/watch?v=BjgrZUT8G8M\n",
      "[youtube] BjgrZUT8G8M: Downloading webpage\n",
      "[youtube] BjgrZUT8G8M: Downloading ios player API JSON\n",
      "[youtube] BjgrZUT8G8M: Downloading web creator player API JSON\n",
      "[youtube] BjgrZUT8G8M: Downloading m3u8 information\n",
      "[info] BjgrZUT8G8M: Downloading subtitles: en\n"
     ]
    },
    {
     "name": "stderr",
     "output_type": "stream",
     "text": [
      "WARNING: ffmpeg not found. The downloaded format may not be the best available. Installing ffmpeg is strongly recommended: https://github.com/yt-dlp/yt-dlp#dependencies\n"
     ]
    },
    {
     "name": "stdout",
     "output_type": "stream",
     "text": [
      "[youtube] Extracting URL: https://youtube.com/watch?v=BjgrZUT8G8M\n",
      "[youtube] BjgrZUT8G8M: Downloading webpage\n",
      "[youtube] BjgrZUT8G8M: Downloading ios player API JSON\n",
      "[youtube] BjgrZUT8G8M: Downloading web creator player API JSON\n",
      "[youtube] BjgrZUT8G8M: Downloading m3u8 information\n",
      "[info] BjgrZUT8G8M: Downloading subtitles: en\n"
     ]
    },
    {
     "name": "stderr",
     "output_type": "stream",
     "text": [
      "WARNING: ffmpeg not found. The downloaded format may not be the best available. Installing ffmpeg is strongly recommended: https://github.com/yt-dlp/yt-dlp#dependencies\n"
     ]
    },
    {
     "name": "stdout",
     "output_type": "stream",
     "text": [
      "[info] BjgrZUT8G8M: Downloading 1 format(s): 18\n",
      "[info] Writing video subtitles to: data\\en_BBCNews\\US activist shot dead in occupied West Bank  BBC News.en.vtt\n",
      "[download] Destination: data\\en_BBCNews\\US activist shot dead in occupied West Bank  BBC News.en.vtt\n",
      "[download] 100% of   18.56KiB in 00:00:00 at 156.21KiB/s\n",
      "[youtube] Extracting URL: https://youtube.com/watch?v=5sNalLTxokM\n",
      "[youtube] 5sNalLTxokM: Downloading webpage\n",
      "[youtube] 5sNalLTxokM: Downloading ios player API JSON\n",
      "[youtube] 5sNalLTxokM: Downloading web creator player API JSON\n",
      "[youtube] 5sNalLTxokM: Downloading m3u8 information\n",
      "[info] 5sNalLTxokM: Downloading subtitles: en\n"
     ]
    },
    {
     "name": "stderr",
     "output_type": "stream",
     "text": [
      "WARNING: ffmpeg not found. The downloaded format may not be the best available. Installing ffmpeg is strongly recommended: https://github.com/yt-dlp/yt-dlp#dependencies\n"
     ]
    },
    {
     "name": "stdout",
     "output_type": "stream",
     "text": [
      "[youtube] Extracting URL: https://youtube.com/watch?v=5sNalLTxokM\n",
      "[youtube] 5sNalLTxokM: Downloading webpage\n",
      "[youtube] 5sNalLTxokM: Downloading ios player API JSON\n",
      "[youtube] 5sNalLTxokM: Downloading web creator player API JSON\n",
      "[youtube] 5sNalLTxokM: Downloading m3u8 information\n",
      "[info] 5sNalLTxokM: Downloading subtitles: en\n"
     ]
    },
    {
     "name": "stderr",
     "output_type": "stream",
     "text": [
      "WARNING: ffmpeg not found. The downloaded format may not be the best available. Installing ffmpeg is strongly recommended: https://github.com/yt-dlp/yt-dlp#dependencies\n"
     ]
    },
    {
     "name": "stdout",
     "output_type": "stream",
     "text": [
      "[info] 5sNalLTxokM: Downloading 1 format(s): 18\n",
      "[info] Writing video subtitles to: data\\en_BBCNews\\Israel insists on control of Gaza's Egypt border  BBC News.en.vtt\n",
      "[download] Destination: data\\en_BBCNews\\Israel insists on control of Gaza's Egypt border  BBC News.en.vtt\n",
      "[download] 100% of   20.87KiB in 00:00:00 at 148.08KiB/s\n",
      "[youtube] Extracting URL: https://youtube.com/watch?v=YFUslv4U-F4\n",
      "[youtube] YFUslv4U-F4: Downloading webpage\n",
      "[youtube] YFUslv4U-F4: Downloading ios player API JSON\n",
      "[youtube] YFUslv4U-F4: Downloading web creator player API JSON\n",
      "[youtube] YFUslv4U-F4: Downloading m3u8 information\n",
      "[info] YFUslv4U-F4: Downloading subtitles: en\n"
     ]
    },
    {
     "name": "stderr",
     "output_type": "stream",
     "text": [
      "WARNING: ffmpeg not found. The downloaded format may not be the best available. Installing ffmpeg is strongly recommended: https://github.com/yt-dlp/yt-dlp#dependencies\n"
     ]
    },
    {
     "name": "stdout",
     "output_type": "stream",
     "text": [
      "[youtube] Extracting URL: https://youtube.com/watch?v=YFUslv4U-F4\n",
      "[youtube] YFUslv4U-F4: Downloading webpage\n",
      "[youtube] YFUslv4U-F4: Downloading ios player API JSON\n",
      "[youtube] YFUslv4U-F4: Downloading web creator player API JSON\n",
      "[youtube] YFUslv4U-F4: Downloading m3u8 information\n",
      "[info] YFUslv4U-F4: Downloading subtitles: en\n"
     ]
    },
    {
     "name": "stderr",
     "output_type": "stream",
     "text": [
      "WARNING: ffmpeg not found. The downloaded format may not be the best available. Installing ffmpeg is strongly recommended: https://github.com/yt-dlp/yt-dlp#dependencies\n"
     ]
    },
    {
     "name": "stdout",
     "output_type": "stream",
     "text": [
      "[info] YFUslv4U-F4: Downloading 1 format(s): 18\n",
      "[info] Writing video subtitles to: data\\en_BBCNews\\West Bank Palestinian families living in fear of extremist Israeli settlers  BBC News.en.vtt\n",
      "[download] Destination: data\\en_BBCNews\\West Bank Palestinian families living in fear of extremist Israeli settlers  BBC News.en.vtt\n",
      "[download] 100% of   61.96KiB in 00:00:00 at 353.57KiB/s\n",
      "[youtube] Extracting URL: https://youtube.com/watch?v=6mw8TM03ems\n",
      "[youtube] 6mw8TM03ems: Downloading webpage\n",
      "[youtube] 6mw8TM03ems: Downloading ios player API JSON\n",
      "[youtube] 6mw8TM03ems: Downloading web creator player API JSON\n",
      "[youtube] 6mw8TM03ems: Downloading player c41f1db5\n",
      "[youtube] 6mw8TM03ems: Downloading m3u8 information\n",
      "[info] 6mw8TM03ems: Downloading subtitles: en\n"
     ]
    },
    {
     "name": "stderr",
     "output_type": "stream",
     "text": [
      "WARNING: ffmpeg not found. The downloaded format may not be the best available. Installing ffmpeg is strongly recommended: https://github.com/yt-dlp/yt-dlp#dependencies\n"
     ]
    },
    {
     "name": "stdout",
     "output_type": "stream",
     "text": [
      "[youtube] Extracting URL: https://youtube.com/watch?v=6mw8TM03ems\n",
      "[youtube] 6mw8TM03ems: Downloading webpage\n",
      "[youtube] 6mw8TM03ems: Downloading ios player API JSON\n",
      "[youtube] 6mw8TM03ems: Downloading web creator player API JSON\n",
      "[youtube] 6mw8TM03ems: Downloading m3u8 information\n",
      "[info] 6mw8TM03ems: Downloading subtitles: en\n"
     ]
    },
    {
     "name": "stderr",
     "output_type": "stream",
     "text": [
      "WARNING: ffmpeg not found. The downloaded format may not be the best available. Installing ffmpeg is strongly recommended: https://github.com/yt-dlp/yt-dlp#dependencies\n"
     ]
    },
    {
     "name": "stdout",
     "output_type": "stream",
     "text": [
      "[info] 6mw8TM03ems: Downloading 1 format(s): 18\n",
      "[info] Writing video subtitles to: data\\en_BBCNews\\WHO exceeds target for Gaza polio vaccinations as campaign continues  BBC News.en.vtt\n",
      "[download] Destination: data\\en_BBCNews\\WHO exceeds target for Gaza polio vaccinations as campaign continues  BBC News.en.vtt\n",
      "[download] 100% of   27.29KiB in 00:00:00 at 196.13KiB/s\n",
      "[youtube] Extracting URL: https://youtube.com/watch?v=F6IIHySxMeU\n",
      "[youtube] F6IIHySxMeU: Downloading webpage\n",
      "[youtube] F6IIHySxMeU: Downloading ios player API JSON\n",
      "[youtube] F6IIHySxMeU: Downloading web creator player API JSON\n",
      "[youtube] F6IIHySxMeU: Downloading m3u8 information\n",
      "[info] F6IIHySxMeU: Downloading subtitles: en\n"
     ]
    },
    {
     "name": "stderr",
     "output_type": "stream",
     "text": [
      "WARNING: ffmpeg not found. The downloaded format may not be the best available. Installing ffmpeg is strongly recommended: https://github.com/yt-dlp/yt-dlp#dependencies\n"
     ]
    },
    {
     "name": "stdout",
     "output_type": "stream",
     "text": [
      "[youtube] Extracting URL: https://youtube.com/watch?v=F6IIHySxMeU\n",
      "[youtube] F6IIHySxMeU: Downloading webpage\n",
      "[youtube] F6IIHySxMeU: Downloading ios player API JSON\n",
      "[youtube] F6IIHySxMeU: Downloading web creator player API JSON\n",
      "[youtube] F6IIHySxMeU: Downloading m3u8 information\n",
      "[info] F6IIHySxMeU: Downloading subtitles: en\n"
     ]
    },
    {
     "name": "stderr",
     "output_type": "stream",
     "text": [
      "WARNING: ffmpeg not found. The downloaded format may not be the best available. Installing ffmpeg is strongly recommended: https://github.com/yt-dlp/yt-dlp#dependencies\n"
     ]
    },
    {
     "name": "stdout",
     "output_type": "stream",
     "text": [
      "[info] F6IIHySxMeU: Downloading 1 format(s): 18\n",
      "[info] Writing video subtitles to: data\\en_BBCNews\\Netanyahu calls UK arms suspension to Israel ‘shameful’  BBC News.en.vtt\n",
      "[download] Destination: data\\en_BBCNews\\Netanyahu calls UK arms suspension to Israel ‘shameful’  BBC News.en.vtt\n",
      "[download] 100% of   47.90KiB in 00:00:00 at 208.73KiB/s\n",
      "[youtube] Extracting URL: https://youtube.com/watch?v=M7SHGhFT37o\n",
      "[youtube] M7SHGhFT37o: Downloading webpage\n",
      "[youtube] M7SHGhFT37o: Downloading ios player API JSON\n",
      "[youtube] M7SHGhFT37o: Downloading web creator player API JSON\n",
      "[youtube] M7SHGhFT37o: Downloading m3u8 information\n",
      "[info] M7SHGhFT37o: Downloading subtitles: en\n"
     ]
    },
    {
     "name": "stderr",
     "output_type": "stream",
     "text": [
      "WARNING: ffmpeg not found. The downloaded format may not be the best available. Installing ffmpeg is strongly recommended: https://github.com/yt-dlp/yt-dlp#dependencies\n"
     ]
    },
    {
     "name": "stdout",
     "output_type": "stream",
     "text": [
      "[youtube] Extracting URL: https://youtube.com/watch?v=M7SHGhFT37o\n",
      "[youtube] M7SHGhFT37o: Downloading webpage\n",
      "[youtube] M7SHGhFT37o: Downloading ios player API JSON\n",
      "[youtube] M7SHGhFT37o: Downloading web creator player API JSON\n",
      "[youtube] M7SHGhFT37o: Downloading m3u8 information\n",
      "[info] M7SHGhFT37o: Downloading subtitles: en\n"
     ]
    },
    {
     "name": "stderr",
     "output_type": "stream",
     "text": [
      "WARNING: ffmpeg not found. The downloaded format may not be the best available. Installing ffmpeg is strongly recommended: https://github.com/yt-dlp/yt-dlp#dependencies\n"
     ]
    },
    {
     "name": "stdout",
     "output_type": "stream",
     "text": [
      "[info] M7SHGhFT37o: Downloading 1 format(s): 18\n",
      "[info] Writing video subtitles to: data\\en_BBCNews\\Israel PM Benjamin Netanyahu asks for forgiveness over hostage deaths  BBC News.en.vtt\n",
      "[download] Destination: data\\en_BBCNews\\Israel PM Benjamin Netanyahu asks for forgiveness over hostage deaths  BBC News.en.vtt\n",
      "[download] 100% of  105.50KiB in 00:00:00 at 535.33KiB/s\n",
      "[youtube] Extracting URL: https://youtube.com/watch?v=NT5Ko-ZG7CE\n",
      "[youtube] NT5Ko-ZG7CE: Downloading webpage\n",
      "[youtube] NT5Ko-ZG7CE: Downloading ios player API JSON\n",
      "[youtube] NT5Ko-ZG7CE: Downloading web creator player API JSON\n",
      "[youtube] NT5Ko-ZG7CE: Downloading m3u8 information\n",
      "[info] NT5Ko-ZG7CE: Downloading subtitles: en\n"
     ]
    },
    {
     "name": "stderr",
     "output_type": "stream",
     "text": [
      "WARNING: ffmpeg not found. The downloaded format may not be the best available. Installing ffmpeg is strongly recommended: https://github.com/yt-dlp/yt-dlp#dependencies\n"
     ]
    },
    {
     "name": "stdout",
     "output_type": "stream",
     "text": [
      "[youtube] Extracting URL: https://youtube.com/watch?v=NT5Ko-ZG7CE\n",
      "[youtube] NT5Ko-ZG7CE: Downloading webpage\n",
      "[youtube] NT5Ko-ZG7CE: Downloading ios player API JSON\n",
      "[youtube] NT5Ko-ZG7CE: Downloading web creator player API JSON\n",
      "[youtube] NT5Ko-ZG7CE: Downloading m3u8 information\n",
      "[info] NT5Ko-ZG7CE: Downloading subtitles: en\n"
     ]
    },
    {
     "name": "stderr",
     "output_type": "stream",
     "text": [
      "WARNING: ffmpeg not found. The downloaded format may not be the best available. Installing ffmpeg is strongly recommended: https://github.com/yt-dlp/yt-dlp#dependencies\n"
     ]
    },
    {
     "name": "stdout",
     "output_type": "stream",
     "text": [
      "[info] NT5Ko-ZG7CE: Downloading 1 format(s): 18\n",
      "[info] Writing video subtitles to: data\\en_BBCNews\\UK suspends some arms exports to Israel  BBC News.en.vtt\n",
      "[download] Destination: data\\en_BBCNews\\UK suspends some arms exports to Israel  BBC News.en.vtt\n",
      "[download] 100% of   17.74KiB in 00:00:00 at 160.59KiB/s\n",
      "[youtube] Extracting URL: https://youtube.com/watch?v=6louzFtpT10\n",
      "[youtube] 6louzFtpT10: Downloading webpage\n",
      "[youtube] 6louzFtpT10: Downloading ios player API JSON\n",
      "[youtube] 6louzFtpT10: Downloading web creator player API JSON\n",
      "[youtube] 6louzFtpT10: Downloading m3u8 information\n",
      "[info] 6louzFtpT10: Downloading subtitles: en\n"
     ]
    },
    {
     "name": "stderr",
     "output_type": "stream",
     "text": [
      "WARNING: ffmpeg not found. The downloaded format may not be the best available. Installing ffmpeg is strongly recommended: https://github.com/yt-dlp/yt-dlp#dependencies\n"
     ]
    },
    {
     "name": "stdout",
     "output_type": "stream",
     "text": [
      "[youtube] Extracting URL: https://youtube.com/watch?v=6louzFtpT10\n",
      "[youtube] 6louzFtpT10: Downloading webpage\n",
      "[youtube] 6louzFtpT10: Downloading ios player API JSON\n",
      "[youtube] 6louzFtpT10: Downloading web creator player API JSON\n",
      "[youtube] 6louzFtpT10: Downloading m3u8 information\n",
      "[info] 6louzFtpT10: Downloading subtitles: en\n"
     ]
    },
    {
     "name": "stderr",
     "output_type": "stream",
     "text": [
      "WARNING: ffmpeg not found. The downloaded format may not be the best available. Installing ffmpeg is strongly recommended: https://github.com/yt-dlp/yt-dlp#dependencies\n"
     ]
    },
    {
     "name": "stdout",
     "output_type": "stream",
     "text": [
      "[info] 6louzFtpT10: Downloading 1 format(s): 18\n",
      "[info] Writing video subtitles to: data\\en_BBCNews\\Israeli court orders end to general strike with more protests planned  BBC News.en.vtt\n",
      "[download] Destination: data\\en_BBCNews\\Israeli court orders end to general strike with more protests planned  BBC News.en.vtt\n",
      "[download] 100% of   68.38KiB in 00:00:00 at 439.48KiB/s\n",
      "[youtube] Extracting URL: https://youtube.com/watch?v=JTMpPOb7-cE\n",
      "[youtube] JTMpPOb7-cE: Downloading webpage\n",
      "[youtube] JTMpPOb7-cE: Downloading ios player API JSON\n",
      "[youtube] JTMpPOb7-cE: Downloading web creator player API JSON\n",
      "[youtube] JTMpPOb7-cE: Downloading m3u8 information\n",
      "[info] JTMpPOb7-cE: Downloading subtitles: en\n"
     ]
    },
    {
     "name": "stderr",
     "output_type": "stream",
     "text": [
      "WARNING: ffmpeg not found. The downloaded format may not be the best available. Installing ffmpeg is strongly recommended: https://github.com/yt-dlp/yt-dlp#dependencies\n"
     ]
    },
    {
     "name": "stdout",
     "output_type": "stream",
     "text": [
      "[youtube] Extracting URL: https://youtube.com/watch?v=JTMpPOb7-cE\n",
      "[youtube] JTMpPOb7-cE: Downloading webpage\n",
      "[youtube] JTMpPOb7-cE: Downloading ios player API JSON\n",
      "[youtube] JTMpPOb7-cE: Downloading web creator player API JSON\n",
      "[youtube] JTMpPOb7-cE: Downloading m3u8 information\n",
      "[info] JTMpPOb7-cE: Downloading subtitles: en\n"
     ]
    },
    {
     "name": "stderr",
     "output_type": "stream",
     "text": [
      "WARNING: ffmpeg not found. The downloaded format may not be the best available. Installing ffmpeg is strongly recommended: https://github.com/yt-dlp/yt-dlp#dependencies\n"
     ]
    },
    {
     "name": "stdout",
     "output_type": "stream",
     "text": [
      "[info] JTMpPOb7-cE: Downloading 1 format(s): 18\n",
      "[info] Writing video subtitles to: data\\en_BBCNews\\General strike in Israel begins  BBC News.en.vtt\n",
      "[download] Destination: data\\en_BBCNews\\General strike in Israel begins  BBC News.en.vtt\n",
      "[download] 100% of   58.30KiB in 00:00:00 at 248.82KiB/s\n",
      "[youtube] Extracting URL: https://youtube.com/watch?v=_vNwgBjcRxQ\n",
      "[youtube] _vNwgBjcRxQ: Downloading webpage\n",
      "[youtube] _vNwgBjcRxQ: Downloading ios player API JSON\n",
      "[youtube] _vNwgBjcRxQ: Downloading web creator player API JSON\n",
      "[youtube] _vNwgBjcRxQ: Downloading m3u8 information\n",
      "[info] _vNwgBjcRxQ: Downloading subtitles: en\n"
     ]
    },
    {
     "name": "stderr",
     "output_type": "stream",
     "text": [
      "WARNING: ffmpeg not found. The downloaded format may not be the best available. Installing ffmpeg is strongly recommended: https://github.com/yt-dlp/yt-dlp#dependencies\n"
     ]
    },
    {
     "name": "stdout",
     "output_type": "stream",
     "text": [
      "[youtube] Extracting URL: https://youtube.com/watch?v=_vNwgBjcRxQ\n",
      "[youtube] _vNwgBjcRxQ: Downloading webpage\n",
      "[youtube] _vNwgBjcRxQ: Downloading ios player API JSON\n",
      "[youtube] _vNwgBjcRxQ: Downloading web creator player API JSON\n",
      "[youtube] _vNwgBjcRxQ: Downloading m3u8 information\n",
      "[info] _vNwgBjcRxQ: Downloading subtitles: en\n"
     ]
    },
    {
     "name": "stderr",
     "output_type": "stream",
     "text": [
      "WARNING: ffmpeg not found. The downloaded format may not be the best available. Installing ffmpeg is strongly recommended: https://github.com/yt-dlp/yt-dlp#dependencies\n"
     ]
    },
    {
     "name": "stdout",
     "output_type": "stream",
     "text": [
      "[info] _vNwgBjcRxQ: Downloading 1 format(s): 18\n",
      "[info] Writing video subtitles to: data\\en_BBCNews\\Huge protests in Israel as public demand deal to release hostages  BBC News.en.vtt\n",
      "[download] Destination: data\\en_BBCNews\\Huge protests in Israel as public demand deal to release hostages  BBC News.en.vtt\n",
      "[download] 100% of   30.22KiB in 00:00:00 at 425.05KiB/s\n",
      "[youtube] Extracting URL: https://youtube.com/watch?v=2b7VHSAPkz4\n",
      "[youtube] 2b7VHSAPkz4: Downloading webpage\n",
      "[youtube] 2b7VHSAPkz4: Downloading ios player API JSON\n",
      "[youtube] 2b7VHSAPkz4: Downloading web creator player API JSON\n",
      "[youtube] 2b7VHSAPkz4: Downloading m3u8 information\n",
      "[info] 2b7VHSAPkz4: Downloading subtitles: en\n"
     ]
    },
    {
     "name": "stderr",
     "output_type": "stream",
     "text": [
      "WARNING: ffmpeg not found. The downloaded format may not be the best available. Installing ffmpeg is strongly recommended: https://github.com/yt-dlp/yt-dlp#dependencies\n"
     ]
    },
    {
     "name": "stdout",
     "output_type": "stream",
     "text": [
      "[youtube] Extracting URL: https://youtube.com/watch?v=2b7VHSAPkz4\n",
      "[youtube] 2b7VHSAPkz4: Downloading webpage\n",
      "[youtube] 2b7VHSAPkz4: Downloading ios player API JSON\n",
      "[youtube] 2b7VHSAPkz4: Downloading web creator player API JSON\n",
      "[youtube] 2b7VHSAPkz4: Downloading m3u8 information\n",
      "[info] 2b7VHSAPkz4: Downloading subtitles: en\n"
     ]
    },
    {
     "name": "stderr",
     "output_type": "stream",
     "text": [
      "WARNING: ffmpeg not found. The downloaded format may not be the best available. Installing ffmpeg is strongly recommended: https://github.com/yt-dlp/yt-dlp#dependencies\n"
     ]
    },
    {
     "name": "stdout",
     "output_type": "stream",
     "text": [
      "[info] 2b7VHSAPkz4: Downloading 1 format(s): 18\n",
      "[info] Writing video subtitles to: data\\en_BBCNews\\Israel says bodies of six hostages held by Hamas in Gaza recovered  BBC News.en.vtt\n",
      "[download] Destination: data\\en_BBCNews\\Israel says bodies of six hostages held by Hamas in Gaza recovered  BBC News.en.vtt\n",
      "[download] 100% of   66.13KiB in 00:00:00 at 284.61KiB/s\n",
      "[youtube] Extracting URL: https://youtube.com/watch?v=QeF_8iedJ78\n",
      "[youtube] QeF_8iedJ78: Downloading webpage\n",
      "[youtube] QeF_8iedJ78: Downloading ios player API JSON\n",
      "[youtube] QeF_8iedJ78: Downloading web creator player API JSON\n",
      "[youtube] QeF_8iedJ78: Downloading m3u8 information\n",
      "[info] QeF_8iedJ78: Downloading subtitles: en\n"
     ]
    },
    {
     "name": "stderr",
     "output_type": "stream",
     "text": [
      "WARNING: ffmpeg not found. The downloaded format may not be the best available. Installing ffmpeg is strongly recommended: https://github.com/yt-dlp/yt-dlp#dependencies\n"
     ]
    },
    {
     "name": "stdout",
     "output_type": "stream",
     "text": [
      "[youtube] Extracting URL: https://youtube.com/watch?v=QeF_8iedJ78\n",
      "[youtube] QeF_8iedJ78: Downloading webpage\n",
      "[youtube] QeF_8iedJ78: Downloading ios player API JSON\n",
      "[youtube] QeF_8iedJ78: Downloading web creator player API JSON\n",
      "[youtube] QeF_8iedJ78: Downloading m3u8 information\n",
      "[info] QeF_8iedJ78: Downloading subtitles: en\n"
     ]
    },
    {
     "name": "stderr",
     "output_type": "stream",
     "text": [
      "WARNING: ffmpeg not found. The downloaded format may not be the best available. Installing ffmpeg is strongly recommended: https://github.com/yt-dlp/yt-dlp#dependencies\n"
     ]
    },
    {
     "name": "stdout",
     "output_type": "stream",
     "text": [
      "[info] QeF_8iedJ78: Downloading 1 format(s): 18\n",
      "[info] Writing video subtitles to: data\\en_BBCNews\\Pause in fighting holds as Gaza children get polio vaccine  BBC News.en.vtt\n",
      "[download] Destination: data\\en_BBCNews\\Pause in fighting holds as Gaza children get polio vaccine  BBC News.en.vtt\n",
      "[download] 100% of   30.88KiB in 00:00:00 at 275.82KiB/s\n",
      "[youtube] Extracting URL: https://youtube.com/watch?v=KW0SpkARjTA\n",
      "[youtube] KW0SpkARjTA: Downloading webpage\n",
      "[youtube] KW0SpkARjTA: Downloading ios player API JSON\n",
      "[youtube] KW0SpkARjTA: Downloading web creator player API JSON\n",
      "[youtube] KW0SpkARjTA: Downloading m3u8 information\n",
      "[info] KW0SpkARjTA: Downloading subtitles: en\n"
     ]
    },
    {
     "name": "stderr",
     "output_type": "stream",
     "text": [
      "WARNING: ffmpeg not found. The downloaded format may not be the best available. Installing ffmpeg is strongly recommended: https://github.com/yt-dlp/yt-dlp#dependencies\n"
     ]
    },
    {
     "name": "stdout",
     "output_type": "stream",
     "text": [
      "[youtube] Extracting URL: https://youtube.com/watch?v=KW0SpkARjTA\n",
      "[youtube] KW0SpkARjTA: Downloading webpage\n",
      "[youtube] KW0SpkARjTA: Downloading ios player API JSON\n",
      "[youtube] KW0SpkARjTA: Downloading web creator player API JSON\n",
      "[youtube] KW0SpkARjTA: Downloading m3u8 information\n",
      "[info] KW0SpkARjTA: Downloading subtitles: en\n"
     ]
    },
    {
     "name": "stderr",
     "output_type": "stream",
     "text": [
      "WARNING: ffmpeg not found. The downloaded format may not be the best available. Installing ffmpeg is strongly recommended: https://github.com/yt-dlp/yt-dlp#dependencies\n"
     ]
    },
    {
     "name": "stdout",
     "output_type": "stream",
     "text": [
      "[info] KW0SpkARjTA: Downloading 1 format(s): 18\n",
      "[info] Writing video subtitles to: data\\en_BBCNews\\Frontline report  Israel kills senior Hamas commander in West Bank  BBC News.en.vtt\n",
      "[download] Destination: data\\en_BBCNews\\Frontline report  Israel kills senior Hamas commander in West Bank  BBC News.en.vtt\n",
      "[download] 100% of   23.37KiB in 00:00:00 at 196.90KiB/s\n",
      "[youtube] Extracting URL: https://youtube.com/watch?v=Hu39u4TlKiw\n",
      "[youtube] Hu39u4TlKiw: Downloading webpage\n",
      "[youtube] Hu39u4TlKiw: Downloading ios player API JSON\n",
      "[youtube] Hu39u4TlKiw: Downloading web creator player API JSON\n",
      "[youtube] Hu39u4TlKiw: Downloading m3u8 information\n",
      "[info] Hu39u4TlKiw: Downloading subtitles: en\n"
     ]
    },
    {
     "name": "stderr",
     "output_type": "stream",
     "text": [
      "WARNING: ffmpeg not found. The downloaded format may not be the best available. Installing ffmpeg is strongly recommended: https://github.com/yt-dlp/yt-dlp#dependencies\n"
     ]
    },
    {
     "name": "stdout",
     "output_type": "stream",
     "text": [
      "[youtube] Extracting URL: https://youtube.com/watch?v=Hu39u4TlKiw\n",
      "[youtube] Hu39u4TlKiw: Downloading webpage\n",
      "[youtube] Hu39u4TlKiw: Downloading ios player API JSON\n",
      "[youtube] Hu39u4TlKiw: Downloading web creator player API JSON\n",
      "[youtube] Hu39u4TlKiw: Downloading m3u8 information\n",
      "[info] Hu39u4TlKiw: Downloading subtitles: en\n"
     ]
    },
    {
     "name": "stderr",
     "output_type": "stream",
     "text": [
      "WARNING: ffmpeg not found. The downloaded format may not be the best available. Installing ffmpeg is strongly recommended: https://github.com/yt-dlp/yt-dlp#dependencies\n"
     ]
    },
    {
     "name": "stdout",
     "output_type": "stream",
     "text": [
      "[info] Hu39u4TlKiw: Downloading 1 format(s): 18\n",
      "[info] Writing video subtitles to: data\\en_BBCNews\\UN to roll out mass polio vaccinations in Gaza  BBC News.en.vtt\n",
      "[download] Destination: data\\en_BBCNews\\UN to roll out mass polio vaccinations in Gaza  BBC News.en.vtt\n",
      "[download] 100% of   45.66KiB in 00:00:00 at 206.24KiB/s\n",
      "[youtube] Extracting URL: https://youtube.com/watch?v=7I-eHspEyzg\n",
      "[youtube] 7I-eHspEyzg: Downloading webpage\n",
      "[youtube] 7I-eHspEyzg: Downloading ios player API JSON\n",
      "[youtube] 7I-eHspEyzg: Downloading web creator player API JSON\n",
      "[youtube] 7I-eHspEyzg: Downloading m3u8 information\n",
      "[info] 7I-eHspEyzg: Downloading subtitles: en\n"
     ]
    },
    {
     "name": "stderr",
     "output_type": "stream",
     "text": [
      "WARNING: ffmpeg not found. The downloaded format may not be the best available. Installing ffmpeg is strongly recommended: https://github.com/yt-dlp/yt-dlp#dependencies\n"
     ]
    },
    {
     "name": "stdout",
     "output_type": "stream",
     "text": [
      "[youtube] Extracting URL: https://youtube.com/watch?v=7I-eHspEyzg\n",
      "[youtube] 7I-eHspEyzg: Downloading webpage\n",
      "[youtube] 7I-eHspEyzg: Downloading ios player API JSON\n",
      "[youtube] 7I-eHspEyzg: Downloading web creator player API JSON\n",
      "[youtube] 7I-eHspEyzg: Downloading m3u8 information\n",
      "[info] 7I-eHspEyzg: Downloading subtitles: en\n"
     ]
    },
    {
     "name": "stderr",
     "output_type": "stream",
     "text": [
      "WARNING: ffmpeg not found. The downloaded format may not be the best available. Installing ffmpeg is strongly recommended: https://github.com/yt-dlp/yt-dlp#dependencies\n"
     ]
    },
    {
     "name": "stdout",
     "output_type": "stream",
     "text": [
      "[info] 7I-eHspEyzg: Downloading 1 format(s): 18\n",
      "[info] Writing video subtitles to: data\\en_BBCNews\\Israel says Hamas leader killed on third day of West Bank operation  BBC News.en.vtt\n",
      "[download] Destination: data\\en_BBCNews\\Israel says Hamas leader killed on third day of West Bank operation  BBC News.en.vtt\n",
      "[download] 100% of   36.04KiB in 00:00:00 at 338.91KiB/s\n",
      "[youtube] Extracting URL: https://youtube.com/watch?v=yvgWbAuRYa0\n",
      "[youtube] yvgWbAuRYa0: Downloading webpage\n",
      "[youtube] yvgWbAuRYa0: Downloading ios player API JSON\n",
      "[youtube] yvgWbAuRYa0: Downloading web creator player API JSON\n",
      "[youtube] yvgWbAuRYa0: Downloading m3u8 information\n",
      "[info] yvgWbAuRYa0: Downloading subtitles: en\n"
     ]
    },
    {
     "name": "stderr",
     "output_type": "stream",
     "text": [
      "WARNING: ffmpeg not found. The downloaded format may not be the best available. Installing ffmpeg is strongly recommended: https://github.com/yt-dlp/yt-dlp#dependencies\n"
     ]
    },
    {
     "name": "stdout",
     "output_type": "stream",
     "text": [
      "[youtube] Extracting URL: https://youtube.com/watch?v=yvgWbAuRYa0\n",
      "[youtube] yvgWbAuRYa0: Downloading webpage\n",
      "[youtube] yvgWbAuRYa0: Downloading ios player API JSON\n",
      "[youtube] yvgWbAuRYa0: Downloading web creator player API JSON\n",
      "[youtube] yvgWbAuRYa0: Downloading m3u8 information\n",
      "[info] yvgWbAuRYa0: Downloading subtitles: en\n"
     ]
    },
    {
     "name": "stderr",
     "output_type": "stream",
     "text": [
      "WARNING: ffmpeg not found. The downloaded format may not be the best available. Installing ffmpeg is strongly recommended: https://github.com/yt-dlp/yt-dlp#dependencies\n"
     ]
    },
    {
     "name": "stdout",
     "output_type": "stream",
     "text": [
      "[info] yvgWbAuRYa0: Downloading 1 format(s): 18\n",
      "[info] Writing video subtitles to: data\\en_BBCNews\\Israel agrees pauses in Gaza fighting to allow polio vaccination of children  BBC News.en.vtt\n",
      "[download] Destination: data\\en_BBCNews\\Israel agrees pauses in Gaza fighting to allow polio vaccination of children  BBC News.en.vtt\n",
      "[download] 100% of   16.26KiB in 00:00:00 at 91.65KiB/s\n",
      "[youtube] Extracting URL: https://youtube.com/watch?v=LDeM3kvwe2c\n",
      "[youtube] LDeM3kvwe2c: Downloading webpage\n",
      "[youtube] LDeM3kvwe2c: Downloading ios player API JSON\n",
      "[youtube] LDeM3kvwe2c: Downloading web creator player API JSON\n",
      "[youtube] LDeM3kvwe2c: Downloading m3u8 information\n",
      "[info] LDeM3kvwe2c: Downloading subtitles: en\n"
     ]
    },
    {
     "name": "stderr",
     "output_type": "stream",
     "text": [
      "WARNING: ffmpeg not found. The downloaded format may not be the best available. Installing ffmpeg is strongly recommended: https://github.com/yt-dlp/yt-dlp#dependencies\n"
     ]
    },
    {
     "name": "stdout",
     "output_type": "stream",
     "text": [
      "[youtube] Extracting URL: https://youtube.com/watch?v=LDeM3kvwe2c\n",
      "[youtube] LDeM3kvwe2c: Downloading webpage\n",
      "[youtube] LDeM3kvwe2c: Downloading ios player API JSON\n",
      "[youtube] LDeM3kvwe2c: Downloading web creator player API JSON\n",
      "[youtube] LDeM3kvwe2c: Downloading m3u8 information\n",
      "[info] LDeM3kvwe2c: Downloading subtitles: en\n"
     ]
    },
    {
     "name": "stderr",
     "output_type": "stream",
     "text": [
      "WARNING: ffmpeg not found. The downloaded format may not be the best available. Installing ffmpeg is strongly recommended: https://github.com/yt-dlp/yt-dlp#dependencies\n"
     ]
    },
    {
     "name": "stdout",
     "output_type": "stream",
     "text": [
      "[info] LDeM3kvwe2c: Downloading 1 format(s): 18\n",
      "[info] Writing video subtitles to: data\\en_BBCNews\\UN calls for de-escalation as Israeli West Bank raids continue  BBC News.en.vtt\n",
      "[download] Destination: data\\en_BBCNews\\UN calls for de-escalation as Israeli West Bank raids continue  BBC News.en.vtt\n",
      "[download] 100% of   72.17KiB in 00:00:00 at 330.76KiB/s\n",
      "[youtube] Extracting URL: https://youtube.com/watch?v=vGsU_e_LS5Y\n",
      "[youtube] vGsU_e_LS5Y: Downloading webpage\n",
      "[youtube] vGsU_e_LS5Y: Downloading ios player API JSON\n",
      "[youtube] vGsU_e_LS5Y: Downloading web creator player API JSON\n",
      "[youtube] vGsU_e_LS5Y: Downloading m3u8 information\n",
      "[info] vGsU_e_LS5Y: Downloading subtitles: en\n"
     ]
    },
    {
     "name": "stderr",
     "output_type": "stream",
     "text": [
      "WARNING: ffmpeg not found. The downloaded format may not be the best available. Installing ffmpeg is strongly recommended: https://github.com/yt-dlp/yt-dlp#dependencies\n"
     ]
    },
    {
     "name": "stdout",
     "output_type": "stream",
     "text": [
      "[youtube] Extracting URL: https://youtube.com/watch?v=vGsU_e_LS5Y\n",
      "[youtube] vGsU_e_LS5Y: Downloading webpage\n",
      "[youtube] vGsU_e_LS5Y: Downloading ios player API JSON\n",
      "[youtube] vGsU_e_LS5Y: Downloading web creator player API JSON\n",
      "[youtube] vGsU_e_LS5Y: Downloading m3u8 information\n",
      "[info] vGsU_e_LS5Y: Downloading subtitles: en\n"
     ]
    },
    {
     "name": "stderr",
     "output_type": "stream",
     "text": [
      "WARNING: ffmpeg not found. The downloaded format may not be the best available. Installing ffmpeg is strongly recommended: https://github.com/yt-dlp/yt-dlp#dependencies\n"
     ]
    },
    {
     "name": "stdout",
     "output_type": "stream",
     "text": [
      "[info] vGsU_e_LS5Y: Downloading 1 format(s): 18\n",
      "[info] Writing video subtitles to: data\\en_BBCNews\\At least 10 dead in huge Israeli military operation in West Bank  BBC News.en.vtt\n",
      "[download] Destination: data\\en_BBCNews\\At least 10 dead in huge Israeli military operation in West Bank  BBC News.en.vtt\n",
      "[download] 100% of   42.52KiB in 00:00:00 at 398.76KiB/s\n",
      "[youtube] Extracting URL: https://youtube.com/watch?v=o6GmOwFZT8I\n",
      "[youtube] o6GmOwFZT8I: Downloading webpage\n",
      "[youtube] o6GmOwFZT8I: Downloading ios player API JSON\n",
      "[youtube] o6GmOwFZT8I: Downloading web creator player API JSON\n",
      "[youtube] o6GmOwFZT8I: Downloading m3u8 information\n",
      "[info] o6GmOwFZT8I: Downloading subtitles: en\n"
     ]
    },
    {
     "name": "stderr",
     "output_type": "stream",
     "text": [
      "WARNING: ffmpeg not found. The downloaded format may not be the best available. Installing ffmpeg is strongly recommended: https://github.com/yt-dlp/yt-dlp#dependencies\n"
     ]
    },
    {
     "name": "stdout",
     "output_type": "stream",
     "text": [
      "[youtube] Extracting URL: https://youtube.com/watch?v=o6GmOwFZT8I\n",
      "[youtube] o6GmOwFZT8I: Downloading webpage\n",
      "[youtube] o6GmOwFZT8I: Downloading ios player API JSON\n",
      "[youtube] o6GmOwFZT8I: Downloading web creator player API JSON\n",
      "[youtube] o6GmOwFZT8I: Downloading m3u8 information\n",
      "[info] o6GmOwFZT8I: Downloading subtitles: en\n"
     ]
    },
    {
     "name": "stderr",
     "output_type": "stream",
     "text": [
      "WARNING: ffmpeg not found. The downloaded format may not be the best available. Installing ffmpeg is strongly recommended: https://github.com/yt-dlp/yt-dlp#dependencies\n"
     ]
    },
    {
     "name": "stdout",
     "output_type": "stream",
     "text": [
      "[info] o6GmOwFZT8I: Downloading 1 format(s): 18\n",
      "[info] Writing video subtitles to: data\\en_BBCNews\\Israeli military launches major West Bank operation  BBC News.en.vtt\n",
      "[download] Destination: data\\en_BBCNews\\Israeli military launches major West Bank operation  BBC News.en.vtt\n",
      "[download] 100% of   35.69KiB in 00:00:00 at 321.02KiB/s\n",
      "[youtube] Extracting URL: https://youtube.com/watch?v=evBDb0NNblw\n",
      "[youtube] evBDb0NNblw: Downloading webpage\n",
      "[youtube] evBDb0NNblw: Downloading ios player API JSON\n",
      "[youtube] evBDb0NNblw: Downloading web creator player API JSON\n",
      "[youtube] evBDb0NNblw: Downloading m3u8 information\n",
      "[info] evBDb0NNblw: Downloading subtitles: en\n"
     ]
    },
    {
     "name": "stderr",
     "output_type": "stream",
     "text": [
      "WARNING: ffmpeg not found. The downloaded format may not be the best available. Installing ffmpeg is strongly recommended: https://github.com/yt-dlp/yt-dlp#dependencies\n"
     ]
    },
    {
     "name": "stdout",
     "output_type": "stream",
     "text": [
      "[youtube] Extracting URL: https://youtube.com/watch?v=evBDb0NNblw\n",
      "[youtube] evBDb0NNblw: Downloading webpage\n",
      "[youtube] evBDb0NNblw: Downloading ios player API JSON\n",
      "[youtube] evBDb0NNblw: Downloading web creator player API JSON\n",
      "[youtube] evBDb0NNblw: Downloading m3u8 information\n",
      "[info] evBDb0NNblw: Downloading subtitles: en\n"
     ]
    },
    {
     "name": "stderr",
     "output_type": "stream",
     "text": [
      "WARNING: ffmpeg not found. The downloaded format may not be the best available. Installing ffmpeg is strongly recommended: https://github.com/yt-dlp/yt-dlp#dependencies\n"
     ]
    },
    {
     "name": "stdout",
     "output_type": "stream",
     "text": [
      "[info] evBDb0NNblw: Downloading 1 format(s): 18\n",
      "[info] Writing video subtitles to: data\\en_BBCNews\\Gaza Has Israel taken enough action to prevent incitement to genocide  BBC News.en.vtt\n",
      "[download] Destination: data\\en_BBCNews\\Gaza Has Israel taken enough action to prevent incitement to genocide  BBC News.en.vtt\n",
      "[download] 100% of   67.94KiB in 00:00:00 at 692.78KiB/s\n",
      "[youtube] Extracting URL: https://youtube.com/watch?v=gLz0rAvibRU\n",
      "[youtube] gLz0rAvibRU: Downloading webpage\n",
      "[youtube] gLz0rAvibRU: Downloading ios player API JSON\n",
      "[youtube] gLz0rAvibRU: Downloading web creator player API JSON\n",
      "[youtube] gLz0rAvibRU: Downloading m3u8 information\n",
      "[info] gLz0rAvibRU: Downloading subtitles: en\n"
     ]
    },
    {
     "name": "stderr",
     "output_type": "stream",
     "text": [
      "WARNING: ffmpeg not found. The downloaded format may not be the best available. Installing ffmpeg is strongly recommended: https://github.com/yt-dlp/yt-dlp#dependencies\n"
     ]
    },
    {
     "name": "stdout",
     "output_type": "stream",
     "text": [
      "[youtube] Extracting URL: https://youtube.com/watch?v=gLz0rAvibRU\n",
      "[youtube] gLz0rAvibRU: Downloading webpage\n",
      "[youtube] gLz0rAvibRU: Downloading ios player API JSON\n",
      "[youtube] gLz0rAvibRU: Downloading web creator player API JSON\n",
      "[youtube] gLz0rAvibRU: Downloading m3u8 information\n",
      "[info] gLz0rAvibRU: Downloading subtitles: en\n"
     ]
    },
    {
     "name": "stderr",
     "output_type": "stream",
     "text": [
      "WARNING: ffmpeg not found. The downloaded format may not be the best available. Installing ffmpeg is strongly recommended: https://github.com/yt-dlp/yt-dlp#dependencies\n"
     ]
    },
    {
     "name": "stdout",
     "output_type": "stream",
     "text": [
      "[info] gLz0rAvibRU: Downloading 1 format(s): 18\n",
      "[info] Writing video subtitles to: data\\en_BBCNews\\Israeli commandos rescue hostage from tunnel in southern Gaza  BBC News.en.vtt\n",
      "[download] Destination: data\\en_BBCNews\\Israeli commandos rescue hostage from tunnel in southern Gaza  BBC News.en.vtt\n",
      "[download] 100% of   17.49KiB in 00:00:00 at 219.19KiB/s\n",
      "[youtube] Extracting URL: https://youtube.com/watch?v=Pjo3tA9im30\n",
      "[youtube] Pjo3tA9im30: Downloading webpage\n",
      "[youtube] Pjo3tA9im30: Downloading ios player API JSON\n",
      "[youtube] Pjo3tA9im30: Downloading web creator player API JSON\n",
      "[youtube] Pjo3tA9im30: Downloading m3u8 information\n",
      "[info] Pjo3tA9im30: Downloading subtitles: en\n"
     ]
    },
    {
     "name": "stderr",
     "output_type": "stream",
     "text": [
      "WARNING: ffmpeg not found. The downloaded format may not be the best available. Installing ffmpeg is strongly recommended: https://github.com/yt-dlp/yt-dlp#dependencies\n"
     ]
    },
    {
     "name": "stdout",
     "output_type": "stream",
     "text": [
      "[youtube] Extracting URL: https://youtube.com/watch?v=Pjo3tA9im30\n",
      "[youtube] Pjo3tA9im30: Downloading webpage\n",
      "[youtube] Pjo3tA9im30: Downloading ios player API JSON\n",
      "[youtube] Pjo3tA9im30: Downloading web creator player API JSON\n",
      "[youtube] Pjo3tA9im30: Downloading m3u8 information\n",
      "[info] Pjo3tA9im30: Downloading subtitles: en\n"
     ]
    },
    {
     "name": "stderr",
     "output_type": "stream",
     "text": [
      "WARNING: ffmpeg not found. The downloaded format may not be the best available. Installing ffmpeg is strongly recommended: https://github.com/yt-dlp/yt-dlp#dependencies\n"
     ]
    },
    {
     "name": "stdout",
     "output_type": "stream",
     "text": [
      "[info] Pjo3tA9im30: Downloading 1 format(s): 18\n",
      "[info] Writing video subtitles to: data\\en_BBCNews\\Israel rescues Bedouin hostage held by Hamas in Gaza  BBC News.en.vtt\n",
      "[download] Destination: data\\en_BBCNews\\Israel rescues Bedouin hostage held by Hamas in Gaza  BBC News.en.vtt\n",
      "[download] 100% of   36.08KiB in 00:00:00 at 203.82KiB/s\n",
      "[youtube] Extracting URL: https://youtube.com/watch?v=p-Zij3gyqfQ\n",
      "[youtube] p-Zij3gyqfQ: Downloading webpage\n",
      "[youtube] p-Zij3gyqfQ: Downloading ios player API JSON\n",
      "[youtube] p-Zij3gyqfQ: Downloading web creator player API JSON\n",
      "[youtube] p-Zij3gyqfQ: Downloading m3u8 information\n",
      "[info] p-Zij3gyqfQ: Downloading subtitles: en\n"
     ]
    },
    {
     "name": "stderr",
     "output_type": "stream",
     "text": [
      "WARNING: ffmpeg not found. The downloaded format may not be the best available. Installing ffmpeg is strongly recommended: https://github.com/yt-dlp/yt-dlp#dependencies\n"
     ]
    },
    {
     "name": "stdout",
     "output_type": "stream",
     "text": [
      "[youtube] Extracting URL: https://youtube.com/watch?v=p-Zij3gyqfQ\n",
      "[youtube] p-Zij3gyqfQ: Downloading webpage\n",
      "[youtube] p-Zij3gyqfQ: Downloading ios player API JSON\n",
      "[youtube] p-Zij3gyqfQ: Downloading web creator player API JSON\n",
      "[youtube] p-Zij3gyqfQ: Downloading m3u8 information\n",
      "[info] p-Zij3gyqfQ: Downloading subtitles: en\n"
     ]
    },
    {
     "name": "stderr",
     "output_type": "stream",
     "text": [
      "WARNING: ffmpeg not found. The downloaded format may not be the best available. Installing ffmpeg is strongly recommended: https://github.com/yt-dlp/yt-dlp#dependencies\n"
     ]
    },
    {
     "name": "stdout",
     "output_type": "stream",
     "text": [
      "[info] p-Zij3gyqfQ: Downloading 1 format(s): 18\n",
      "[info] Writing video subtitles to: data\\en_BBCNews\\UN halts aid operations in Gaza and six killed in West Bank strike  BBC News.en.vtt\n",
      "[download] Destination: data\\en_BBCNews\\UN halts aid operations in Gaza and six killed in West Bank strike  BBC News.en.vtt\n",
      "[download] 100% of   50.71KiB in 00:00:00 at 156.15KiB/s\n",
      "[youtube] Extracting URL: https://youtube.com/watch?v=MA1EF-iL4ZY\n",
      "[youtube] MA1EF-iL4ZY: Downloading webpage\n",
      "[youtube] MA1EF-iL4ZY: Downloading ios player API JSON\n",
      "[youtube] MA1EF-iL4ZY: Downloading web creator player API JSON\n",
      "[youtube] MA1EF-iL4ZY: Downloading m3u8 information\n",
      "[info] MA1EF-iL4ZY: Downloading subtitles: en\n"
     ]
    },
    {
     "name": "stderr",
     "output_type": "stream",
     "text": [
      "WARNING: ffmpeg not found. The downloaded format may not be the best available. Installing ffmpeg is strongly recommended: https://github.com/yt-dlp/yt-dlp#dependencies\n"
     ]
    },
    {
     "name": "stdout",
     "output_type": "stream",
     "text": [
      "[youtube] Extracting URL: https://youtube.com/watch?v=MA1EF-iL4ZY\n",
      "[youtube] MA1EF-iL4ZY: Downloading webpage\n",
      "[youtube] MA1EF-iL4ZY: Downloading ios player API JSON\n",
      "[youtube] MA1EF-iL4ZY: Downloading web creator player API JSON\n",
      "[youtube] MA1EF-iL4ZY: Downloading m3u8 information\n",
      "[info] MA1EF-iL4ZY: Downloading subtitles: en\n"
     ]
    },
    {
     "name": "stderr",
     "output_type": "stream",
     "text": [
      "WARNING: ffmpeg not found. The downloaded format may not be the best available. Installing ffmpeg is strongly recommended: https://github.com/yt-dlp/yt-dlp#dependencies\n"
     ]
    },
    {
     "name": "stdout",
     "output_type": "stream",
     "text": [
      "[info] MA1EF-iL4ZY: Downloading 1 format(s): 18\n",
      "[info] Writing video subtitles to: data\\en_BBCNews\\Israel and Hezbollah exchange heavy fire in major escalation  BBC News.en.vtt\n",
      "[download] Destination: data\\en_BBCNews\\Israel and Hezbollah exchange heavy fire in major escalation  BBC News.en.vtt\n",
      "[download] 100% of   69.06KiB in 00:00:00 at 384.69KiB/s\n",
      "[youtube] Extracting URL: https://youtube.com/watch?v=3EY2wCCqQdE\n",
      "[youtube] 3EY2wCCqQdE: Downloading webpage\n",
      "[youtube] 3EY2wCCqQdE: Downloading ios player API JSON\n",
      "[youtube] 3EY2wCCqQdE: Downloading web creator player API JSON\n",
      "[youtube] 3EY2wCCqQdE: Downloading m3u8 information\n",
      "[info] 3EY2wCCqQdE: Downloading subtitles: en\n"
     ]
    },
    {
     "name": "stderr",
     "output_type": "stream",
     "text": [
      "WARNING: ffmpeg not found. The downloaded format may not be the best available. Installing ffmpeg is strongly recommended: https://github.com/yt-dlp/yt-dlp#dependencies\n"
     ]
    },
    {
     "name": "stdout",
     "output_type": "stream",
     "text": [
      "[youtube] Extracting URL: https://youtube.com/watch?v=3EY2wCCqQdE\n",
      "[youtube] 3EY2wCCqQdE: Downloading webpage\n",
      "[youtube] 3EY2wCCqQdE: Downloading ios player API JSON\n",
      "[youtube] 3EY2wCCqQdE: Downloading web creator player API JSON\n",
      "[youtube] 3EY2wCCqQdE: Downloading m3u8 information\n",
      "[info] 3EY2wCCqQdE: Downloading subtitles: en\n"
     ]
    },
    {
     "name": "stderr",
     "output_type": "stream",
     "text": [
      "WARNING: ffmpeg not found. The downloaded format may not be the best available. Installing ffmpeg is strongly recommended: https://github.com/yt-dlp/yt-dlp#dependencies\n"
     ]
    },
    {
     "name": "stdout",
     "output_type": "stream",
     "text": [
      "[info] 3EY2wCCqQdE: Downloading 1 format(s): 18\n",
      "[info] Writing video subtitles to: data\\en_BBCNews\\Israel launches strikes in Lebanon and Hezbollah fires hundreds of rockets  BBC News.en.vtt\n",
      "[download] Destination: data\\en_BBCNews\\Israel launches strikes in Lebanon and Hezbollah fires hundreds of rockets  BBC News.en.vtt\n",
      "[download] 100% of   87.08KiB in 00:00:00 at 614.51KiB/s\n",
      "[youtube] Extracting URL: https://youtube.com/watch?v=o1AcVf-rZY8\n",
      "[youtube] o1AcVf-rZY8: Downloading webpage\n",
      "[youtube] o1AcVf-rZY8: Downloading ios player API JSON\n",
      "[youtube] o1AcVf-rZY8: Downloading web creator player API JSON\n",
      "[youtube] o1AcVf-rZY8: Downloading m3u8 information\n",
      "[info] o1AcVf-rZY8: Downloading subtitles: en\n"
     ]
    },
    {
     "name": "stderr",
     "output_type": "stream",
     "text": [
      "WARNING: ffmpeg not found. The downloaded format may not be the best available. Installing ffmpeg is strongly recommended: https://github.com/yt-dlp/yt-dlp#dependencies\n"
     ]
    },
    {
     "name": "stdout",
     "output_type": "stream",
     "text": [
      "[youtube] Extracting URL: https://youtube.com/watch?v=o1AcVf-rZY8\n",
      "[youtube] o1AcVf-rZY8: Downloading webpage\n",
      "[youtube] o1AcVf-rZY8: Downloading ios player API JSON\n",
      "[youtube] o1AcVf-rZY8: Downloading web creator player API JSON\n",
      "[youtube] o1AcVf-rZY8: Downloading m3u8 information\n",
      "[info] o1AcVf-rZY8: Downloading subtitles: en\n"
     ]
    },
    {
     "name": "stderr",
     "output_type": "stream",
     "text": [
      "WARNING: ffmpeg not found. The downloaded format may not be the best available. Installing ffmpeg is strongly recommended: https://github.com/yt-dlp/yt-dlp#dependencies\n"
     ]
    },
    {
     "name": "stdout",
     "output_type": "stream",
     "text": [
      "[info] o1AcVf-rZY8: Downloading 1 format(s): 18\n",
      "[info] Writing video subtitles to: data\\en_BBCNews\\Baby contracts Gaza's first case of polio in 25 years  BBC News.en.vtt\n",
      "[download] Destination: data\\en_BBCNews\\Baby contracts Gaza's first case of polio in 25 years  BBC News.en.vtt\n",
      "[download] 100% of   34.56KiB in 00:00:00 at 285.46KiB/s\n",
      "[youtube] Extracting URL: https://youtube.com/watch?v=Xl78GbeuIzs\n",
      "[youtube] Xl78GbeuIzs: Downloading webpage\n",
      "[youtube] Xl78GbeuIzs: Downloading ios player API JSON\n",
      "[youtube] Xl78GbeuIzs: Downloading web creator player API JSON\n",
      "[youtube] Xl78GbeuIzs: Downloading m3u8 information\n",
      "[info] Xl78GbeuIzs: Downloading subtitles: en\n"
     ]
    },
    {
     "name": "stderr",
     "output_type": "stream",
     "text": [
      "WARNING: ffmpeg not found. The downloaded format may not be the best available. Installing ffmpeg is strongly recommended: https://github.com/yt-dlp/yt-dlp#dependencies\n"
     ]
    },
    {
     "name": "stdout",
     "output_type": "stream",
     "text": [
      "[youtube] Extracting URL: https://youtube.com/watch?v=Xl78GbeuIzs\n",
      "[youtube] Xl78GbeuIzs: Downloading webpage\n",
      "[youtube] Xl78GbeuIzs: Downloading ios player API JSON\n",
      "[youtube] Xl78GbeuIzs: Downloading web creator player API JSON\n",
      "[youtube] Xl78GbeuIzs: Downloading m3u8 information\n",
      "[info] Xl78GbeuIzs: Downloading subtitles: en\n"
     ]
    },
    {
     "name": "stderr",
     "output_type": "stream",
     "text": [
      "WARNING: ffmpeg not found. The downloaded format may not be the best available. Installing ffmpeg is strongly recommended: https://github.com/yt-dlp/yt-dlp#dependencies\n"
     ]
    },
    {
     "name": "stdout",
     "output_type": "stream",
     "text": [
      "[info] Xl78GbeuIzs: Downloading 1 format(s): 18\n",
      "[info] Writing video subtitles to: data\\en_BBCNews\\US President Joe Biden stresses importance of ceasefire in Gaza  BBC News.en.vtt\n",
      "[download] Destination: data\\en_BBCNews\\US President Joe Biden stresses importance of ceasefire in Gaza  BBC News.en.vtt\n",
      "[download] 100% of   35.74KiB in 00:00:00 at 191.76KiB/s\n",
      "[youtube] Extracting URL: https://youtube.com/watch?v=pjZO7pYAqKQ\n",
      "[youtube] pjZO7pYAqKQ: Downloading webpage\n",
      "[youtube] pjZO7pYAqKQ: Downloading ios player API JSON\n",
      "[youtube] pjZO7pYAqKQ: Downloading web creator player API JSON\n",
      "[youtube] pjZO7pYAqKQ: Downloading m3u8 information\n",
      "[info] pjZO7pYAqKQ: Downloading subtitles: en\n"
     ]
    },
    {
     "name": "stderr",
     "output_type": "stream",
     "text": [
      "WARNING: ffmpeg not found. The downloaded format may not be the best available. Installing ffmpeg is strongly recommended: https://github.com/yt-dlp/yt-dlp#dependencies\n"
     ]
    },
    {
     "name": "stdout",
     "output_type": "stream",
     "text": [
      "[youtube] Extracting URL: https://youtube.com/watch?v=pjZO7pYAqKQ\n",
      "[youtube] pjZO7pYAqKQ: Downloading webpage\n",
      "[youtube] pjZO7pYAqKQ: Downloading ios player API JSON\n",
      "[youtube] pjZO7pYAqKQ: Downloading web creator player API JSON\n",
      "[youtube] pjZO7pYAqKQ: Downloading m3u8 information\n",
      "[info] pjZO7pYAqKQ: Downloading subtitles: en\n"
     ]
    },
    {
     "name": "stderr",
     "output_type": "stream",
     "text": [
      "WARNING: ffmpeg not found. The downloaded format may not be the best available. Installing ffmpeg is strongly recommended: https://github.com/yt-dlp/yt-dlp#dependencies\n"
     ]
    },
    {
     "name": "stdout",
     "output_type": "stream",
     "text": [
      "[info] pjZO7pYAqKQ: Downloading 1 format(s): 18\n",
      "[info] Writing video subtitles to: data\\en_BBCNews\\Israel open to Gaza ceasefire talks, says US  BBC News.en.vtt\n",
      "[download] Destination: data\\en_BBCNews\\Israel open to Gaza ceasefire talks, says US  BBC News.en.vtt\n",
      "[download] 100% of   68.40KiB in 00:00:00 at 305.60KiB/s\n",
      "[youtube] Extracting URL: https://youtube.com/watch?v=pA8sBeXEB80\n",
      "[youtube] pA8sBeXEB80: Downloading webpage\n",
      "[youtube] pA8sBeXEB80: Downloading ios player API JSON\n",
      "[youtube] pA8sBeXEB80: Downloading web creator player API JSON\n",
      "[youtube] pA8sBeXEB80: Downloading m3u8 information\n",
      "[info] pA8sBeXEB80: Downloading subtitles: en\n"
     ]
    },
    {
     "name": "stderr",
     "output_type": "stream",
     "text": [
      "WARNING: ffmpeg not found. The downloaded format may not be the best available. Installing ffmpeg is strongly recommended: https://github.com/yt-dlp/yt-dlp#dependencies\n"
     ]
    },
    {
     "name": "stdout",
     "output_type": "stream",
     "text": [
      "[youtube] Extracting URL: https://youtube.com/watch?v=pA8sBeXEB80\n",
      "[youtube] pA8sBeXEB80: Downloading webpage\n",
      "[youtube] pA8sBeXEB80: Downloading ios player API JSON\n",
      "[youtube] pA8sBeXEB80: Downloading web creator player API JSON\n",
      "[youtube] pA8sBeXEB80: Downloading m3u8 information\n",
      "[info] pA8sBeXEB80: Downloading subtitles: en\n"
     ]
    },
    {
     "name": "stderr",
     "output_type": "stream",
     "text": [
      "WARNING: ffmpeg not found. The downloaded format may not be the best available. Installing ffmpeg is strongly recommended: https://github.com/yt-dlp/yt-dlp#dependencies\n"
     ]
    },
    {
     "name": "stdout",
     "output_type": "stream",
     "text": [
      "[info] pA8sBeXEB80: Downloading 1 format(s): 18\n",
      "[info] Writing video subtitles to: data\\en_BBCNews\\Israeli army retrieves bodies of six hostages from Gaza  BBC News.en.vtt\n",
      "[download] Destination: data\\en_BBCNews\\Israeli army retrieves bodies of six hostages from Gaza  BBC News.en.vtt\n",
      "[download] 100% of   31.00KiB in 00:00:00 at 304.49KiB/s\n",
      "[youtube] Extracting URL: https://youtube.com/watch?v=Onk8yT2iC1g\n",
      "[youtube] Onk8yT2iC1g: Downloading webpage\n",
      "[youtube] Onk8yT2iC1g: Downloading ios player API JSON\n",
      "[youtube] Onk8yT2iC1g: Downloading web creator player API JSON\n",
      "[youtube] Onk8yT2iC1g: Downloading m3u8 information\n",
      "[info] Onk8yT2iC1g: Downloading subtitles: en\n"
     ]
    },
    {
     "name": "stderr",
     "output_type": "stream",
     "text": [
      "WARNING: ffmpeg not found. The downloaded format may not be the best available. Installing ffmpeg is strongly recommended: https://github.com/yt-dlp/yt-dlp#dependencies\n"
     ]
    },
    {
     "name": "stdout",
     "output_type": "stream",
     "text": [
      "[youtube] Extracting URL: https://youtube.com/watch?v=Onk8yT2iC1g\n",
      "[youtube] Onk8yT2iC1g: Downloading webpage\n",
      "[youtube] Onk8yT2iC1g: Downloading ios player API JSON\n",
      "[youtube] Onk8yT2iC1g: Downloading web creator player API JSON\n",
      "[youtube] Onk8yT2iC1g: Downloading m3u8 information\n",
      "[info] Onk8yT2iC1g: Downloading subtitles: en\n"
     ]
    },
    {
     "name": "stderr",
     "output_type": "stream",
     "text": [
      "WARNING: ffmpeg not found. The downloaded format may not be the best available. Installing ffmpeg is strongly recommended: https://github.com/yt-dlp/yt-dlp#dependencies\n"
     ]
    },
    {
     "name": "stdout",
     "output_type": "stream",
     "text": [
      "[info] Onk8yT2iC1g: Downloading 1 format(s): 18\n",
      "[info] Writing video subtitles to: data\\en_BBCNews\\Gaza ceasefire talks might be ‘last chance’ to free hostages, says Blinken  BBC News.en.vtt\n",
      "[download] Destination: data\\en_BBCNews\\Gaza ceasefire talks might be ‘last chance’ to free hostages, says Blinken  BBC News.en.vtt\n",
      "[download] 100% of   65.95KiB in 00:00:00 at 487.33KiB/s\n",
      "[youtube] Extracting URL: https://youtube.com/watch?v=SASvtv4q9js\n",
      "[youtube] SASvtv4q9js: Downloading webpage\n",
      "[youtube] SASvtv4q9js: Downloading ios player API JSON\n",
      "[youtube] SASvtv4q9js: Downloading web creator player API JSON\n",
      "[youtube] SASvtv4q9js: Downloading m3u8 information\n",
      "[info] SASvtv4q9js: Downloading subtitles: en\n"
     ]
    },
    {
     "name": "stderr",
     "output_type": "stream",
     "text": [
      "WARNING: ffmpeg not found. The downloaded format may not be the best available. Installing ffmpeg is strongly recommended: https://github.com/yt-dlp/yt-dlp#dependencies\n"
     ]
    },
    {
     "name": "stdout",
     "output_type": "stream",
     "text": [
      "[youtube] Extracting URL: https://youtube.com/watch?v=SASvtv4q9js\n",
      "[youtube] SASvtv4q9js: Downloading webpage\n",
      "[youtube] SASvtv4q9js: Downloading ios player API JSON\n",
      "[youtube] SASvtv4q9js: Downloading web creator player API JSON\n",
      "[youtube] SASvtv4q9js: Downloading m3u8 information\n",
      "[info] SASvtv4q9js: Downloading subtitles: en\n"
     ]
    },
    {
     "name": "stderr",
     "output_type": "stream",
     "text": [
      "WARNING: ffmpeg not found. The downloaded format may not be the best available. Installing ffmpeg is strongly recommended: https://github.com/yt-dlp/yt-dlp#dependencies\n"
     ]
    },
    {
     "name": "stdout",
     "output_type": "stream",
     "text": [
      "[info] SASvtv4q9js: Downloading 1 format(s): 18\n",
      "[info] Writing video subtitles to: data\\en_BBCNews\\Israeli settlers burn Palestinian West Bank village in mass attack  BBC News.en.vtt\n",
      "[download] Destination: data\\en_BBCNews\\Israeli settlers burn Palestinian West Bank village in mass attack  BBC News.en.vtt\n",
      "[download] 100% of   27.91KiB in 00:00:00 at 208.76KiB/s\n",
      "[youtube] Extracting URL: https://youtube.com/watch?v=BM4L2wygWEE\n",
      "[youtube] BM4L2wygWEE: Downloading webpage\n",
      "[youtube] BM4L2wygWEE: Downloading ios player API JSON\n",
      "[youtube] BM4L2wygWEE: Downloading web creator player API JSON\n",
      "[youtube] BM4L2wygWEE: Downloading m3u8 information\n",
      "[info] BM4L2wygWEE: Downloading subtitles: en\n"
     ]
    },
    {
     "name": "stderr",
     "output_type": "stream",
     "text": [
      "WARNING: ffmpeg not found. The downloaded format may not be the best available. Installing ffmpeg is strongly recommended: https://github.com/yt-dlp/yt-dlp#dependencies\n"
     ]
    },
    {
     "name": "stdout",
     "output_type": "stream",
     "text": [
      "[youtube] Extracting URL: https://youtube.com/watch?v=BM4L2wygWEE\n",
      "[youtube] BM4L2wygWEE: Downloading webpage\n",
      "[youtube] BM4L2wygWEE: Downloading ios player API JSON\n",
      "[youtube] BM4L2wygWEE: Downloading web creator player API JSON\n",
      "[youtube] BM4L2wygWEE: Downloading m3u8 information\n",
      "[info] BM4L2wygWEE: Downloading subtitles: en\n"
     ]
    },
    {
     "name": "stderr",
     "output_type": "stream",
     "text": [
      "WARNING: ffmpeg not found. The downloaded format may not be the best available. Installing ffmpeg is strongly recommended: https://github.com/yt-dlp/yt-dlp#dependencies\n"
     ]
    },
    {
     "name": "stdout",
     "output_type": "stream",
     "text": [
      "[info] BM4L2wygWEE: Downloading 1 format(s): 18\n",
      "[info] Writing video subtitles to: data\\en_BBCNews\\Israel-Gaza war 'Closer than we've ever been' to ceasefire deal, says Joe Biden  BBC News.en.vtt\n",
      "[download] Destination: data\\en_BBCNews\\Israel-Gaza war 'Closer than we've ever been' to ceasefire deal, says Joe Biden  BBC News.en.vtt\n",
      "[download] 100% of   94.12KiB in 00:00:00 at 348.70KiB/s\n",
      "[youtube] Extracting URL: https://youtube.com/watch?v=yNeFh-sj7Ek\n",
      "[youtube] yNeFh-sj7Ek: Downloading webpage\n",
      "[youtube] yNeFh-sj7Ek: Downloading ios player API JSON\n",
      "[youtube] yNeFh-sj7Ek: Downloading web creator player API JSON\n",
      "[youtube] yNeFh-sj7Ek: Downloading m3u8 information\n",
      "[info] yNeFh-sj7Ek: Downloading subtitles: en\n"
     ]
    },
    {
     "name": "stderr",
     "output_type": "stream",
     "text": [
      "WARNING: ffmpeg not found. The downloaded format may not be the best available. Installing ffmpeg is strongly recommended: https://github.com/yt-dlp/yt-dlp#dependencies\n"
     ]
    },
    {
     "name": "stdout",
     "output_type": "stream",
     "text": [
      "[youtube] Extracting URL: https://youtube.com/watch?v=yNeFh-sj7Ek\n",
      "[youtube] yNeFh-sj7Ek: Downloading webpage\n",
      "[youtube] yNeFh-sj7Ek: Downloading ios player API JSON\n",
      "[youtube] yNeFh-sj7Ek: Downloading web creator player API JSON\n",
      "[youtube] yNeFh-sj7Ek: Downloading m3u8 information\n",
      "[info] yNeFh-sj7Ek: Downloading subtitles: en\n"
     ]
    },
    {
     "name": "stderr",
     "output_type": "stream",
     "text": [
      "WARNING: ffmpeg not found. The downloaded format may not be the best available. Installing ffmpeg is strongly recommended: https://github.com/yt-dlp/yt-dlp#dependencies\n"
     ]
    },
    {
     "name": "stdout",
     "output_type": "stream",
     "text": [
      "[info] yNeFh-sj7Ek: Downloading 1 format(s): 18\n",
      "[info] Writing video subtitles to: data\\en_BBCNews\\Gaza ceasefire talks resume for second day in Qatar  BBC News.en.vtt\n",
      "[download] Destination: data\\en_BBCNews\\Gaza ceasefire talks resume for second day in Qatar  BBC News.en.vtt\n",
      "[download] 100% of   62.14KiB in 00:00:00 at 383.42KiB/s\n",
      "[youtube] Extracting URL: https://youtube.com/watch?v=PGvZnGafjEc\n",
      "[youtube] PGvZnGafjEc: Downloading webpage\n",
      "[youtube] PGvZnGafjEc: Downloading ios player API JSON\n",
      "[youtube] PGvZnGafjEc: Downloading web creator player API JSON\n",
      "[youtube] PGvZnGafjEc: Downloading m3u8 information\n",
      "[info] PGvZnGafjEc: Downloading subtitles: en\n"
     ]
    },
    {
     "name": "stderr",
     "output_type": "stream",
     "text": [
      "WARNING: ffmpeg not found. The downloaded format may not be the best available. Installing ffmpeg is strongly recommended: https://github.com/yt-dlp/yt-dlp#dependencies\n"
     ]
    },
    {
     "name": "stdout",
     "output_type": "stream",
     "text": [
      "[youtube] Extracting URL: https://youtube.com/watch?v=PGvZnGafjEc\n",
      "[youtube] PGvZnGafjEc: Downloading webpage\n",
      "[youtube] PGvZnGafjEc: Downloading ios player API JSON\n",
      "[youtube] PGvZnGafjEc: Downloading web creator player API JSON\n",
      "[youtube] PGvZnGafjEc: Downloading m3u8 information\n",
      "[info] PGvZnGafjEc: Downloading subtitles: en\n"
     ]
    },
    {
     "name": "stderr",
     "output_type": "stream",
     "text": [
      "WARNING: ffmpeg not found. The downloaded format may not be the best available. Installing ffmpeg is strongly recommended: https://github.com/yt-dlp/yt-dlp#dependencies\n"
     ]
    },
    {
     "name": "stdout",
     "output_type": "stream",
     "text": [
      "[info] PGvZnGafjEc: Downloading 1 format(s): 18\n",
      "[info] Writing video subtitles to: data\\en_BBCNews\\More than 40,000 killed in Gaza, Hamas-run health ministry says  BBC News.en.vtt\n",
      "[download] Destination: data\\en_BBCNews\\More than 40,000 killed in Gaza, Hamas-run health ministry says  BBC News.en.vtt\n",
      "[download] 100% of   51.03KiB in 00:00:00 at 435.88KiB/s\n",
      "[youtube] Extracting URL: https://youtube.com/watch?v=fDQ_n3dgaCU\n",
      "[youtube] fDQ_n3dgaCU: Downloading webpage\n",
      "[youtube] fDQ_n3dgaCU: Downloading ios player API JSON\n",
      "[youtube] fDQ_n3dgaCU: Downloading web creator player API JSON\n",
      "[youtube] fDQ_n3dgaCU: Downloading m3u8 information\n",
      "[info] fDQ_n3dgaCU: Downloading subtitles: en\n"
     ]
    },
    {
     "name": "stderr",
     "output_type": "stream",
     "text": [
      "WARNING: ffmpeg not found. The downloaded format may not be the best available. Installing ffmpeg is strongly recommended: https://github.com/yt-dlp/yt-dlp#dependencies\n"
     ]
    },
    {
     "name": "stdout",
     "output_type": "stream",
     "text": [
      "[youtube] Extracting URL: https://youtube.com/watch?v=fDQ_n3dgaCU\n",
      "[youtube] fDQ_n3dgaCU: Downloading webpage\n",
      "[youtube] fDQ_n3dgaCU: Downloading ios player API JSON\n",
      "[youtube] fDQ_n3dgaCU: Downloading web creator player API JSON\n",
      "[youtube] fDQ_n3dgaCU: Downloading m3u8 information\n",
      "[info] fDQ_n3dgaCU: Downloading subtitles: en\n"
     ]
    },
    {
     "name": "stderr",
     "output_type": "stream",
     "text": [
      "WARNING: ffmpeg not found. The downloaded format may not be the best available. Installing ffmpeg is strongly recommended: https://github.com/yt-dlp/yt-dlp#dependencies\n"
     ]
    },
    {
     "name": "stdout",
     "output_type": "stream",
     "text": [
      "[info] fDQ_n3dgaCU: Downloading 1 format(s): 18\n",
      "[info] Writing video subtitles to: data\\en_BBCNews\\Newborn twins killed in Gaza as father went to register birth  BBC News.en.vtt\n",
      "[download] Destination: data\\en_BBCNews\\Newborn twins killed in Gaza as father went to register birth  BBC News.en.vtt\n",
      "[download] 100% of   29.21KiB in 00:00:00 at 200.07KiB/s\n",
      "[youtube] Extracting URL: https://youtube.com/watch?v=_U0c_QYM4iw\n",
      "[youtube] _U0c_QYM4iw: Downloading webpage\n",
      "[youtube] _U0c_QYM4iw: Downloading ios player API JSON\n",
      "[youtube] _U0c_QYM4iw: Downloading web creator player API JSON\n",
      "[youtube] _U0c_QYM4iw: Downloading m3u8 information\n",
      "[info] _U0c_QYM4iw: Downloading subtitles: en\n"
     ]
    },
    {
     "name": "stderr",
     "output_type": "stream",
     "text": [
      "WARNING: ffmpeg not found. The downloaded format may not be the best available. Installing ffmpeg is strongly recommended: https://github.com/yt-dlp/yt-dlp#dependencies\n"
     ]
    },
    {
     "name": "stdout",
     "output_type": "stream",
     "text": [
      "[youtube] Extracting URL: https://youtube.com/watch?v=_U0c_QYM4iw\n",
      "[youtube] _U0c_QYM4iw: Downloading webpage\n",
      "[youtube] _U0c_QYM4iw: Downloading ios player API JSON\n",
      "[youtube] _U0c_QYM4iw: Downloading web creator player API JSON\n",
      "[youtube] _U0c_QYM4iw: Downloading m3u8 information\n",
      "[info] _U0c_QYM4iw: Downloading subtitles: en\n"
     ]
    },
    {
     "name": "stderr",
     "output_type": "stream",
     "text": [
      "WARNING: ffmpeg not found. The downloaded format may not be the best available. Installing ffmpeg is strongly recommended: https://github.com/yt-dlp/yt-dlp#dependencies\n"
     ]
    },
    {
     "name": "stdout",
     "output_type": "stream",
     "text": [
      "[info] _U0c_QYM4iw: Downloading 1 format(s): 18\n",
      "[info] Writing video subtitles to: data\\en_BBCNews\\US sends submarine to Middle East as tensions grow  BBC News.en.vtt\n",
      "[download] Destination: data\\en_BBCNews\\US sends submarine to Middle East as tensions grow  BBC News.en.vtt\n",
      "[download] 100% of   18.57KiB in 00:00:00 at 121.26KiB/s\n",
      "[youtube] Extracting URL: https://youtube.com/watch?v=XBL28BBUoCI\n",
      "[youtube] XBL28BBUoCI: Downloading webpage\n",
      "[youtube] XBL28BBUoCI: Downloading ios player API JSON\n",
      "[youtube] XBL28BBUoCI: Downloading web creator player API JSON\n",
      "[youtube] XBL28BBUoCI: Downloading m3u8 information\n",
      "[info] XBL28BBUoCI: Downloading subtitles: en\n"
     ]
    },
    {
     "name": "stderr",
     "output_type": "stream",
     "text": [
      "WARNING: ffmpeg not found. The downloaded format may not be the best available. Installing ffmpeg is strongly recommended: https://github.com/yt-dlp/yt-dlp#dependencies\n"
     ]
    },
    {
     "name": "stdout",
     "output_type": "stream",
     "text": [
      "[youtube] Extracting URL: https://youtube.com/watch?v=L79KqCN4FHI\n",
      "[youtube] L79KqCN4FHI: Downloading webpage\n",
      "[youtube] L79KqCN4FHI: Downloading ios player API JSON\n",
      "[youtube] L79KqCN4FHI: Downloading web creator player API JSON\n",
      "[youtube] L79KqCN4FHI: Downloading m3u8 information\n",
      "[info] L79KqCN4FHI: Downloading subtitles: en\n"
     ]
    },
    {
     "name": "stderr",
     "output_type": "stream",
     "text": [
      "WARNING: ffmpeg not found. The downloaded format may not be the best available. Installing ffmpeg is strongly recommended: https://github.com/yt-dlp/yt-dlp#dependencies\n"
     ]
    },
    {
     "name": "stdout",
     "output_type": "stream",
     "text": [
      "[youtube] Extracting URL: https://youtube.com/watch?v=L79KqCN4FHI\n",
      "[youtube] L79KqCN4FHI: Downloading webpage\n",
      "[youtube] L79KqCN4FHI: Downloading ios player API JSON\n",
      "[youtube] L79KqCN4FHI: Downloading web creator player API JSON\n",
      "[youtube] L79KqCN4FHI: Downloading m3u8 information\n",
      "[info] L79KqCN4FHI: Downloading subtitles: en\n"
     ]
    },
    {
     "name": "stderr",
     "output_type": "stream",
     "text": [
      "WARNING: ffmpeg not found. The downloaded format may not be the best available. Installing ffmpeg is strongly recommended: https://github.com/yt-dlp/yt-dlp#dependencies\n"
     ]
    },
    {
     "name": "stdout",
     "output_type": "stream",
     "text": [
      "[info] L79KqCN4FHI: Downloading 1 format(s): 18\n",
      "[info] Writing video subtitles to: data\\en_BBCNews\\Kamala Harris says 'too many' civilian deaths in Gaza  BBC News.en.vtt\n",
      "[download] Destination: data\\en_BBCNews\\Kamala Harris says 'too many' civilian deaths in Gaza  BBC News.en.vtt\n",
      "[download] 100% of   79.89KiB in 00:00:00 at 405.90KiB/s\n",
      "[youtube] Extracting URL: https://youtube.com/watch?v=M1u1ECx_Nlw\n",
      "[youtube] M1u1ECx_Nlw: Downloading webpage\n",
      "[youtube] M1u1ECx_Nlw: Downloading ios player API JSON\n",
      "[youtube] M1u1ECx_Nlw: Downloading web creator player API JSON\n",
      "[youtube] M1u1ECx_Nlw: Downloading m3u8 information\n",
      "[info] M1u1ECx_Nlw: Downloading subtitles: en\n"
     ]
    },
    {
     "name": "stderr",
     "output_type": "stream",
     "text": [
      "WARNING: ffmpeg not found. The downloaded format may not be the best available. Installing ffmpeg is strongly recommended: https://github.com/yt-dlp/yt-dlp#dependencies\n"
     ]
    },
    {
     "name": "stdout",
     "output_type": "stream",
     "text": [
      "[youtube] Extracting URL: https://youtube.com/watch?v=M1u1ECx_Nlw\n",
      "[youtube] M1u1ECx_Nlw: Downloading webpage\n",
      "[youtube] M1u1ECx_Nlw: Downloading ios player API JSON\n",
      "[youtube] M1u1ECx_Nlw: Downloading web creator player API JSON\n",
      "[youtube] M1u1ECx_Nlw: Downloading m3u8 information\n",
      "[info] M1u1ECx_Nlw: Downloading subtitles: en\n"
     ]
    },
    {
     "name": "stderr",
     "output_type": "stream",
     "text": [
      "WARNING: ffmpeg not found. The downloaded format may not be the best available. Installing ffmpeg is strongly recommended: https://github.com/yt-dlp/yt-dlp#dependencies\n"
     ]
    },
    {
     "name": "stdout",
     "output_type": "stream",
     "text": [
      "[info] M1u1ECx_Nlw: Downloading 1 format(s): 18\n",
      "[info] Writing video subtitles to: data\\en_BBCNews\\Dozens reported killed in Israeli strike on Gaza school building  BBC News.en.vtt\n",
      "[download] Destination: data\\en_BBCNews\\Dozens reported killed in Israeli strike on Gaza school building  BBC News.en.vtt\n",
      "[download] 100% of  107.15KiB in 00:00:00 at 384.44KiB/s\n",
      "[youtube] Extracting URL: https://youtube.com/watch?v=m3pYJCgLiCI\n",
      "[youtube] m3pYJCgLiCI: Downloading webpage\n",
      "[youtube] m3pYJCgLiCI: Downloading ios player API JSON\n",
      "[youtube] m3pYJCgLiCI: Downloading web creator player API JSON\n",
      "[youtube] m3pYJCgLiCI: Downloading m3u8 information\n",
      "[info] m3pYJCgLiCI: Downloading subtitles: en\n"
     ]
    },
    {
     "name": "stderr",
     "output_type": "stream",
     "text": [
      "WARNING: ffmpeg not found. The downloaded format may not be the best available. Installing ffmpeg is strongly recommended: https://github.com/yt-dlp/yt-dlp#dependencies\n"
     ]
    },
    {
     "name": "stdout",
     "output_type": "stream",
     "text": [
      "[youtube] Extracting URL: https://youtube.com/watch?v=m3pYJCgLiCI\n",
      "[youtube] m3pYJCgLiCI: Downloading webpage\n",
      "[youtube] m3pYJCgLiCI: Downloading ios player API JSON\n",
      "[youtube] m3pYJCgLiCI: Downloading web creator player API JSON\n",
      "[youtube] m3pYJCgLiCI: Downloading m3u8 information\n",
      "[info] m3pYJCgLiCI: Downloading subtitles: en\n"
     ]
    },
    {
     "name": "stderr",
     "output_type": "stream",
     "text": [
      "WARNING: ffmpeg not found. The downloaded format may not be the best available. Installing ffmpeg is strongly recommended: https://github.com/yt-dlp/yt-dlp#dependencies\n"
     ]
    },
    {
     "name": "stdout",
     "output_type": "stream",
     "text": [
      "[info] m3pYJCgLiCI: Downloading 1 format(s): 18\n",
      "[info] Writing video subtitles to: data\\en_BBCNews\\Northern Israel prepares for potential Hezbollah conflict  BBC News.en.vtt\n",
      "[download] Destination: data\\en_BBCNews\\Northern Israel prepares for potential Hezbollah conflict  BBC News.en.vtt\n",
      "[download] 100% of   50.95KiB in 00:00:00 at 316.63KiB/s\n",
      "[youtube] Extracting URL: https://youtube.com/watch?v=WEEg2HWdzEg\n",
      "[youtube] WEEg2HWdzEg: Downloading webpage\n",
      "[youtube] WEEg2HWdzEg: Downloading ios player API JSON\n",
      "[youtube] WEEg2HWdzEg: Downloading web creator player API JSON\n",
      "[youtube] WEEg2HWdzEg: Downloading m3u8 information\n",
      "[info] WEEg2HWdzEg: Downloading subtitles: en\n"
     ]
    },
    {
     "name": "stderr",
     "output_type": "stream",
     "text": [
      "WARNING: ffmpeg not found. The downloaded format may not be the best available. Installing ffmpeg is strongly recommended: https://github.com/yt-dlp/yt-dlp#dependencies\n"
     ]
    },
    {
     "name": "stdout",
     "output_type": "stream",
     "text": [
      "[youtube] Extracting URL: https://youtube.com/watch?v=WEEg2HWdzEg\n",
      "[youtube] WEEg2HWdzEg: Downloading webpage\n",
      "[youtube] WEEg2HWdzEg: Downloading ios player API JSON\n",
      "[youtube] WEEg2HWdzEg: Downloading web creator player API JSON\n",
      "[youtube] WEEg2HWdzEg: Downloading m3u8 information\n",
      "[info] WEEg2HWdzEg: Downloading subtitles: en\n"
     ]
    },
    {
     "name": "stderr",
     "output_type": "stream",
     "text": [
      "WARNING: ffmpeg not found. The downloaded format may not be the best available. Installing ffmpeg is strongly recommended: https://github.com/yt-dlp/yt-dlp#dependencies\n"
     ]
    },
    {
     "name": "stdout",
     "output_type": "stream",
     "text": [
      "[info] WEEg2HWdzEg: Downloading 1 format(s): 18\n",
      "[info] Writing video subtitles to: data\\en_BBCNews\\Hamas names Yahya Sinwar as new leader  BBC News.en.vtt\n",
      "[download] Destination: data\\en_BBCNews\\Hamas names Yahya Sinwar as new leader  BBC News.en.vtt\n",
      "[download] 100% of   25.07KiB in 00:00:00 at 104.23KiB/s\n",
      "[youtube] Extracting URL: https://youtube.com/watch?v=in2hyD0HP3Y\n",
      "[youtube] in2hyD0HP3Y: Downloading webpage\n",
      "[youtube] in2hyD0HP3Y: Downloading ios player API JSON\n",
      "[youtube] in2hyD0HP3Y: Downloading web creator player API JSON\n",
      "[youtube] in2hyD0HP3Y: Downloading m3u8 information\n",
      "[info] in2hyD0HP3Y: Downloading subtitles: en\n"
     ]
    },
    {
     "name": "stderr",
     "output_type": "stream",
     "text": [
      "WARNING: ffmpeg not found. The downloaded format may not be the best available. Installing ffmpeg is strongly recommended: https://github.com/yt-dlp/yt-dlp#dependencies\n"
     ]
    },
    {
     "name": "stdout",
     "output_type": "stream",
     "text": [
      "[youtube] Extracting URL: https://youtube.com/watch?v=in2hyD0HP3Y\n",
      "[youtube] in2hyD0HP3Y: Downloading webpage\n",
      "[youtube] in2hyD0HP3Y: Downloading ios player API JSON\n",
      "[youtube] in2hyD0HP3Y: Downloading web creator player API JSON\n",
      "[youtube] in2hyD0HP3Y: Downloading m3u8 information\n",
      "[info] in2hyD0HP3Y: Downloading subtitles: en\n"
     ]
    },
    {
     "name": "stderr",
     "output_type": "stream",
     "text": [
      "WARNING: ffmpeg not found. The downloaded format may not be the best available. Installing ffmpeg is strongly recommended: https://github.com/yt-dlp/yt-dlp#dependencies\n"
     ]
    },
    {
     "name": "stdout",
     "output_type": "stream",
     "text": [
      "[info] in2hyD0HP3Y: Downloading 1 format(s): 18\n",
      "[info] Writing video subtitles to: data\\en_BBCNews\\Israeli prison conditions ‘amount to torture’, human rights organisation says  BBC News.en.vtt\n",
      "[download] Destination: data\\en_BBCNews\\Israeli prison conditions ‘amount to torture’, human rights organisation says  BBC News.en.vtt\n",
      "[download] 100% of   26.71KiB in 00:00:00 at 241.95KiB/s\n",
      "[youtube] Extracting URL: https://youtube.com/watch?v=r3x_jLo1jCI\n",
      "[youtube] r3x_jLo1jCI: Downloading webpage\n",
      "[youtube] r3x_jLo1jCI: Downloading ios player API JSON\n",
      "[youtube] r3x_jLo1jCI: Downloading web creator player API JSON\n",
      "[youtube] r3x_jLo1jCI: Downloading m3u8 information\n",
      "[info] r3x_jLo1jCI: Downloading subtitles: en\n"
     ]
    },
    {
     "name": "stderr",
     "output_type": "stream",
     "text": [
      "WARNING: ffmpeg not found. The downloaded format may not be the best available. Installing ffmpeg is strongly recommended: https://github.com/yt-dlp/yt-dlp#dependencies\n"
     ]
    },
    {
     "name": "stdout",
     "output_type": "stream",
     "text": [
      "[youtube] Extracting URL: https://youtube.com/watch?v=r3x_jLo1jCI\n",
      "[youtube] r3x_jLo1jCI: Downloading webpage\n",
      "[youtube] r3x_jLo1jCI: Downloading ios player API JSON\n",
      "[youtube] r3x_jLo1jCI: Downloading web creator player API JSON\n",
      "[youtube] r3x_jLo1jCI: Downloading m3u8 information\n",
      "[info] r3x_jLo1jCI: Downloading subtitles: en\n"
     ]
    },
    {
     "name": "stderr",
     "output_type": "stream",
     "text": [
      "WARNING: ffmpeg not found. The downloaded format may not be the best available. Installing ffmpeg is strongly recommended: https://github.com/yt-dlp/yt-dlp#dependencies\n"
     ]
    },
    {
     "name": "stdout",
     "output_type": "stream",
     "text": [
      "[info] r3x_jLo1jCI: Downloading 1 format(s): 18\n",
      "[info] Writing video subtitles to: data\\en_BBCNews\\Iran vows revenge after Hamas leader assassinated in Tehran  BBC News.en.vtt\n",
      "[download] Destination: data\\en_BBCNews\\Iran vows revenge after Hamas leader assassinated in Tehran  BBC News.en.vtt\n",
      "[download] 100% of   25.39KiB in 00:00:00 at 169.73KiB/s\n",
      "[youtube] Extracting URL: https://youtube.com/watch?v=TF4gcTXuf68\n",
      "[youtube] TF4gcTXuf68: Downloading webpage\n",
      "[youtube] TF4gcTXuf68: Downloading ios player API JSON\n",
      "[youtube] TF4gcTXuf68: Downloading web creator player API JSON\n",
      "[youtube] TF4gcTXuf68: Downloading m3u8 information\n",
      "[info] TF4gcTXuf68: Downloading subtitles: en\n"
     ]
    },
    {
     "name": "stderr",
     "output_type": "stream",
     "text": [
      "WARNING: ffmpeg not found. The downloaded format may not be the best available. Installing ffmpeg is strongly recommended: https://github.com/yt-dlp/yt-dlp#dependencies\n"
     ]
    },
    {
     "name": "stdout",
     "output_type": "stream",
     "text": [
      "[youtube] Extracting URL: https://youtube.com/watch?v=TF4gcTXuf68\n",
      "[youtube] TF4gcTXuf68: Downloading webpage\n",
      "[youtube] TF4gcTXuf68: Downloading ios player API JSON\n",
      "[youtube] TF4gcTXuf68: Downloading web creator player API JSON\n",
      "[youtube] TF4gcTXuf68: Downloading m3u8 information\n",
      "[info] TF4gcTXuf68: Downloading subtitles: en\n"
     ]
    },
    {
     "name": "stderr",
     "output_type": "stream",
     "text": [
      "WARNING: ffmpeg not found. The downloaded format may not be the best available. Installing ffmpeg is strongly recommended: https://github.com/yt-dlp/yt-dlp#dependencies\n"
     ]
    },
    {
     "name": "stdout",
     "output_type": "stream",
     "text": [
      "[info] TF4gcTXuf68: Downloading 1 format(s): 18\n",
      "[info] Writing video subtitles to: data\\en_BBCNews\\US to send jets and warships as Iran threatens Israel  BBC News.en.vtt\n",
      "[download] Destination: data\\en_BBCNews\\US to send jets and warships as Iran threatens Israel  BBC News.en.vtt\n",
      "[download] 100% of   73.46KiB in 00:00:00 at 250.21KiB/s\n",
      "[youtube] Extracting URL: https://youtube.com/watch?v=sxTfinBY2Ac\n",
      "[youtube] sxTfinBY2Ac: Downloading webpage\n",
      "[youtube] sxTfinBY2Ac: Downloading ios player API JSON\n",
      "[youtube] sxTfinBY2Ac: Downloading web creator player API JSON\n",
      "[youtube] sxTfinBY2Ac: Downloading m3u8 information\n",
      "[info] sxTfinBY2Ac: Downloading subtitles: en\n"
     ]
    },
    {
     "name": "stderr",
     "output_type": "stream",
     "text": [
      "WARNING: ffmpeg not found. The downloaded format may not be the best available. Installing ffmpeg is strongly recommended: https://github.com/yt-dlp/yt-dlp#dependencies\n"
     ]
    },
    {
     "name": "stdout",
     "output_type": "stream",
     "text": [
      "[youtube] Extracting URL: https://youtube.com/watch?v=sxTfinBY2Ac\n",
      "[youtube] sxTfinBY2Ac: Downloading webpage\n",
      "[youtube] sxTfinBY2Ac: Downloading ios player API JSON\n",
      "[youtube] sxTfinBY2Ac: Downloading web creator player API JSON\n",
      "[youtube] sxTfinBY2Ac: Downloading m3u8 information\n",
      "[info] sxTfinBY2Ac: Downloading subtitles: en\n"
     ]
    },
    {
     "name": "stderr",
     "output_type": "stream",
     "text": [
      "WARNING: ffmpeg not found. The downloaded format may not be the best available. Installing ffmpeg is strongly recommended: https://github.com/yt-dlp/yt-dlp#dependencies\n"
     ]
    },
    {
     "name": "stdout",
     "output_type": "stream",
     "text": [
      "[info] sxTfinBY2Ac: Downloading 1 format(s): 18\n",
      "[info] Writing video subtitles to: data\\en_BBCNews\\International concern over Middle East escalation after Hamas leader killing  BBC News.en.vtt\n",
      "[download] Destination: data\\en_BBCNews\\International concern over Middle East escalation after Hamas leader killing  BBC News.en.vtt\n",
      "[download] 100% of   17.48KiB in 00:00:00 at 108.73KiB/s\n",
      "[youtube] Extracting URL: https://youtube.com/watch?v=pmYon9t6cb8\n",
      "[youtube] pmYon9t6cb8: Downloading webpage\n",
      "[youtube] pmYon9t6cb8: Downloading ios player API JSON\n",
      "[youtube] pmYon9t6cb8: Downloading web creator player API JSON\n",
      "[youtube] pmYon9t6cb8: Downloading m3u8 information\n",
      "[info] pmYon9t6cb8: Downloading subtitles: en\n"
     ]
    },
    {
     "name": "stderr",
     "output_type": "stream",
     "text": [
      "WARNING: ffmpeg not found. The downloaded format may not be the best available. Installing ffmpeg is strongly recommended: https://github.com/yt-dlp/yt-dlp#dependencies\n"
     ]
    },
    {
     "name": "stdout",
     "output_type": "stream",
     "text": [
      "[youtube] Extracting URL: https://youtube.com/watch?v=pmYon9t6cb8\n",
      "[youtube] pmYon9t6cb8: Downloading webpage\n",
      "[youtube] pmYon9t6cb8: Downloading ios player API JSON\n",
      "[youtube] pmYon9t6cb8: Downloading web creator player API JSON\n",
      "[youtube] pmYon9t6cb8: Downloading m3u8 information\n",
      "[info] pmYon9t6cb8: Downloading subtitles: en\n"
     ]
    },
    {
     "name": "stderr",
     "output_type": "stream",
     "text": [
      "WARNING: ffmpeg not found. The downloaded format may not be the best available. Installing ffmpeg is strongly recommended: https://github.com/yt-dlp/yt-dlp#dependencies\n"
     ]
    },
    {
     "name": "stdout",
     "output_type": "stream",
     "text": [
      "[info] pmYon9t6cb8: Downloading 1 format(s): 18\n",
      "[info] Writing video subtitles to: data\\en_BBCNews\\Mourners gather as Hamas leader Ismail Haniyeh is buried in Doha, Qatar  BBC News.en.vtt\n",
      "[download] Destination: data\\en_BBCNews\\Mourners gather as Hamas leader Ismail Haniyeh is buried in Doha, Qatar  BBC News.en.vtt\n",
      "[download] 100% of   42.53KiB in 00:00:00 at 266.68KiB/s\n",
      "[youtube] Extracting URL: https://youtube.com/watch?v=9b41hfuhuQo\n",
      "[youtube] 9b41hfuhuQo: Downloading webpage\n",
      "[youtube] 9b41hfuhuQo: Downloading ios player API JSON\n",
      "[youtube] 9b41hfuhuQo: Downloading web creator player API JSON\n",
      "[youtube] 9b41hfuhuQo: Downloading m3u8 information\n",
      "[info] 9b41hfuhuQo: Downloading subtitles: en\n"
     ]
    },
    {
     "name": "stderr",
     "output_type": "stream",
     "text": [
      "WARNING: ffmpeg not found. The downloaded format may not be the best available. Installing ffmpeg is strongly recommended: https://github.com/yt-dlp/yt-dlp#dependencies\n"
     ]
    },
    {
     "name": "stdout",
     "output_type": "stream",
     "text": [
      "[youtube] Extracting URL: https://youtube.com/watch?v=9b41hfuhuQo\n",
      "[youtube] 9b41hfuhuQo: Downloading webpage\n"
     ]
    }
   ],
   "source": [
    "import os\n",
    "import requests\n",
    "import pandas as pd\n",
    "import webvtt\n",
    "from pytube import Playlist\n",
    "import yt_dlp\n",
    "import re\n",
    "import time\n",
    "import unicodedata\n",
    "\n",
    "# Assume `playlist` is a pytube Playlist object already initialized\n",
    "playlist_url = 'https://www.youtube.com/playlist?list=PLS3XGZxi7cBUy1RAOyjaecHIM2z19fXO5'\n",
    "playlist = Playlist(playlist_url)\n",
    "\n",
    "# Get all video URLs in the playlist\n",
    "video_urls = [video.watch_url for video in playlist.videos]\n",
    "\n",
    "# Directory to save thumbnails and transcripts\n",
    "output_dir = 'data/en_BBCNews'\n",
    "os.makedirs(output_dir, exist_ok=True)\n",
    "\n",
    "def sanitize_filename(name):\n",
    "    \"\"\"\n",
    "    Sanitize the filename by removing invalid characters, full-width symbols,\n",
    "    stripping newlines, and normalizing unicode to ASCII where possible.\n",
    "    \"\"\"\n",
    "    # Normalize full-width characters to their ASCII equivalents\n",
    "    name = unicodedata.normalize('NFKC', name)  # Normalize Unicode characters to ASCII-compatible form\n",
    "    \n",
    "    # Remove problematic characters for filenames\n",
    "    name = re.sub(r'[\\\\/*?:\"<>|]', \"\", name)  # Remove invalid characters\n",
    "    name = name.replace('\\n', '').replace('\\r', '')  # Remove newlines\n",
    "    name = name.strip()  # Trim leading/trailing spaces\n",
    "\n",
    "    # Ensure the filename length is not too long (you can set a specific limit)\n",
    "    max_filename_length = 255\n",
    "    return name[:max_filename_length]\n",
    "\n",
    "def download_thumbnail(thumbnail_url, title):\n",
    "    try:\n",
    "        response = requests.get(thumbnail_url)\n",
    "        sanitized_title = sanitize_filename(title)\n",
    "        thumbnail_file = os.path.join(output_dir, f'{sanitized_title}.jpg')\n",
    "        with open(thumbnail_file, 'wb') as file:\n",
    "            file.write(response.content)\n",
    "        return thumbnail_file\n",
    "    except Exception as e:\n",
    "        print(f\"Failed to download thumbnail for {title}: {e}\")\n",
    "        return None\n",
    "\n",
    "def download_subtitles(video_url, video_title, subtitle_languages):\n",
    "    sanitized_title = sanitize_filename(video_title)\n",
    "    \n",
    "    # Define the download options\n",
    "    ydl_opts = {\n",
    "        'writesubtitles': True,\n",
    "        'writeautomaticsub': True,\n",
    "        'skip_download': True,  # Skip video download\n",
    "        'outtmpl': os.path.join(output_dir, f'{sanitized_title}.%(ext)s'),  # Use sanitized title\n",
    "        'restrictfilenames': True,\n",
    "    }\n",
    "    \n",
    "    try:\n",
    "        with yt_dlp.YoutubeDL(ydl_opts) as ydl:\n",
    "            if 'en' in subtitle_languages:\n",
    "                # Download English subtitles\n",
    "                subtitle_file = os.path.join(output_dir, f'{sanitized_title}.en.vtt')\n",
    "                if not os.path.exists(subtitle_file):\n",
    "                    ydl_opts['subtitleslangs'] = ['en']\n",
    "                    ydl.download([video_url])  # Download subtitles for the video\n",
    "                return subtitle_file\n",
    "            elif subtitle_languages:\n",
    "                # Download the first available subtitle if English is not found\n",
    "                first_lang = list(subtitle_languages)[0]\n",
    "                subtitle_file = os.path.join(output_dir, f'{sanitized_title}.{first_lang}.vtt')\n",
    "                if not os.path.exists(subtitle_file):\n",
    "                    ydl_opts['subtitleslangs'] = [first_lang]\n",
    "                    ydl.download([video_url])\n",
    "                return subtitle_file\n",
    "                \n",
    "    except yt_dlp.utils.DownloadError as e:\n",
    "        error_message = str(e)\n",
    "        print(f\"Error downloading subtitles for {video_title}: {error_message}\")\n",
    "        return None\n",
    "                \n",
    "def download_video_info(video_url, max_retries=3, retry_interval=180):\n",
    "    ydl_opts = {\n",
    "        'writesubtitles': True,\n",
    "        'writeautomaticsub': True,\n",
    "        'skip_download': True,\n",
    "        #'outtmpl': os.path.join(output_dir, f'{\"%(sanitized_title)s\"}.%(ext)s'),\n",
    "        'postprocessors': [{\n",
    "            'key': 'FFmpegMetadata',\n",
    "        }],\n",
    "    }\n",
    "    retries = 0\n",
    "    while retries < max_retries:\n",
    "        try:\n",
    "            with yt_dlp.YoutubeDL(ydl_opts) as ydl:\n",
    "                info_dict = ydl.extract_info(video_url, download=False)\n",
    "                video_title = info_dict.get('title', None)\n",
    "                video_id = info_dict.get('id', None)\n",
    "                thumbnail_url = info_dict.get('thumbnail', None)\n",
    "                publish_date = info_dict.get('upload_date', None)  # Format: 'YYYYMMDD'\n",
    "                subtitle_languages = info_dict.get('automatic_captions', {}).keys()\n",
    "\n",
    "                # Download thumbnail\n",
    "                thumbnail_file = None\n",
    "                if thumbnail_url:\n",
    "                    thumbnail_file = download_thumbnail(thumbnail_url, video_title)\n",
    "\n",
    "                # Download subtitles\n",
    "                subtitle_file = None\n",
    "                subtitle_file = download_subtitles(video_url, video_title, subtitle_languages)\n",
    "                \n",
    "            # Return the collected video information\n",
    "            return video_id, video_title, thumbnail_file, subtitle_file, publish_date\n",
    "\n",
    "        except yt_dlp.utils.DownloadError as e:\n",
    "            error_message = str(e)\n",
    "            if \"Sign in to confirm you’re not a bot\" in error_message:\n",
    "                retries += 1\n",
    "                print(f\"Error: {error_message}. Retrying in {retry_interval} seconds... (Attempt {retries}/{max_retries})\")\n",
    "                time.sleep(retry_interval)  # Wait before retrying\n",
    "            else:\n",
    "                print(f\"Failed to download video info for {video_url}: {e}\")\n",
    "                return None, None, None, None, None\n",
    "\n",
    "    # After max retries, log the failure and return None\n",
    "    print(f\"Max retries reached. Skipping video: {video_url}\")\n",
    "    return None, None, None, None, None\n",
    "\n",
    "def vtt_to_text(vtt_file_path):\n",
    "    try:\n",
    "        text = ''\n",
    "        lines = []\n",
    "        deduplicated_lines = []\n",
    "        for caption in webvtt.read(vtt_file_path):\n",
    "            # Split the block into lines and deduplicate them within the block\n",
    "            lines.extend(caption.text.strip().split('\\n'))\n",
    "            #print(caption.text.strip().split('\\n'))\n",
    "        for line in lines:\n",
    "            if line and (not deduplicated_lines or line != deduplicated_lines[-1]):  # Avoid consecutive duplicates\n",
    "                deduplicated_lines.append(line)\n",
    "     \n",
    "        text = \"\\n\".join(deduplicated_lines)\n",
    "    \n",
    "    except Exception as e:\n",
    "        print(f\"Failed to convert {vtt_file_path} to text: {e}\")\n",
    "        \n",
    "    return text\n",
    "\n",
    "# Create a list to store video information\n",
    "data = []\n",
    "\n",
    "# Loop through each video URL and download the required data\n",
    "for video_url in video_urls:\n",
    "    video_id, video_title, thumbnail_file, subtitle_file, publish_date = download_video_info(video_url)\n",
    "    # If video info is successfully retrieved\n",
    "    if video_id and video_title:\n",
    "        # Convert subtitles to text if available\n",
    "        transcript = None\n",
    "        if subtitle_file and os.path.exists(subtitle_file):\n",
    "            transcript = vtt_to_text(subtitle_file)\n",
    "        else:\n",
    "            print(\"subtitle file not found\")\n",
    "        # Append data to the list\n",
    "        data.append({\n",
    "            'video_id': video_id,\n",
    "            'video_title': video_title,\n",
    "            'thumbnail_path': thumbnail_file,\n",
    "            'transcript': transcript,\n",
    "            'publish_date': publish_date\n",
    "        })\n",
    "\n",
    "# Convert the list to a DataFrame\n",
    "df = pd.DataFrame(data, columns=['video_id', 'video_title', 'thumbnail_path', 'transcript', 'publish_date'])\n",
    "\n",
    "# Save the DataFrame to a CSV file\n",
    "df.to_csv(os.path.join(output_dir,\"../\", 'en_BBCNews.csv'), index=False)\n",
    "\n",
    "print(f\"Dataset created successfully with {len(df)} entries.\")"
   ]
  },
  {
   "cell_type": "code",
   "execution_count": null,
   "metadata": {},
   "outputs": [],
   "source": []
  }
 ],
 "metadata": {
  "kernelspec": {
   "display_name": "Python 3 (ipykernel)",
   "language": "python",
   "name": "python3"
  },
  "language_info": {
   "codemirror_mode": {
    "name": "ipython",
    "version": 3
   },
   "file_extension": ".py",
   "mimetype": "text/x-python",
   "name": "python",
   "nbconvert_exporter": "python",
   "pygments_lexer": "ipython3",
   "version": "3.12.1"
  }
 },
 "nbformat": 4,
 "nbformat_minor": 4
}
