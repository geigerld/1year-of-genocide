{
 "cells": [
  {
   "cell_type": "markdown",
   "metadata": {},
   "source": [
    "## Step 1: Install Required Libraries\n",
    "First, you need to install the necessary Python libraries:"
   ]
  },
  {
   "cell_type": "code",
   "execution_count": null,
   "metadata": {},
   "outputs": [],
   "source": [
    "!pip install yt-dlp pytube pandas webvtt-py requests\n"
   ]
  },
  {
   "cell_type": "code",
   "execution_count": null,
   "metadata": {
    "scrolled": true
   },
   "outputs": [
    {
     "name": "stdout",
     "output_type": "stream",
     "text": [
      "[youtube] Extracting URL: https://youtube.com/watch?v=hH8eMkO1CpA\n",
      "[youtube] hH8eMkO1CpA: Downloading webpage\n",
      "[youtube] hH8eMkO1CpA: Downloading ios player API JSON\n",
      "[youtube] hH8eMkO1CpA: This video is age-restricted; some formats may be missing without authentication. Use --cookies-from-browser or --cookies for the authentication. See  https://github.com/yt-dlp/yt-dlp/wiki/FAQ#how-do-i-pass-cookies-to-yt-dlp  for how to manually pass cookies\n",
      "[youtube] hH8eMkO1CpA: Downloading tv embedded player API JSON\n",
      "[youtube] hH8eMkO1CpA: Downloading web creator player API JSON\n",
      "[info] hH8eMkO1CpA: Downloading subtitles: en\n"
     ]
    },
    {
     "name": "stderr",
     "output_type": "stream",
     "text": [
      "WARNING: ffmpeg not found. The downloaded format may not be the best available. Installing ffmpeg is strongly recommended: https://github.com/yt-dlp/yt-dlp#dependencies\n"
     ]
    },
    {
     "name": "stdout",
     "output_type": "stream",
     "text": [
      "[youtube] Extracting URL: https://youtube.com/watch?v=hH8eMkO1CpA\n",
      "[youtube] hH8eMkO1CpA: Downloading webpage\n",
      "[youtube] hH8eMkO1CpA: Downloading ios player API JSON\n",
      "[youtube] hH8eMkO1CpA: This video is age-restricted; some formats may be missing without authentication. Use --cookies-from-browser or --cookies for the authentication. See  https://github.com/yt-dlp/yt-dlp/wiki/FAQ#how-do-i-pass-cookies-to-yt-dlp  for how to manually pass cookies\n",
      "[youtube] hH8eMkO1CpA: Downloading tv embedded player API JSON\n",
      "[youtube] hH8eMkO1CpA: Downloading web creator player API JSON\n",
      "[info] hH8eMkO1CpA: Downloading subtitles: ab-en\n"
     ]
    },
    {
     "name": "stderr",
     "output_type": "stream",
     "text": [
      "WARNING: ffmpeg not found. The downloaded format may not be the best available. Installing ffmpeg is strongly recommended: https://github.com/yt-dlp/yt-dlp#dependencies\n"
     ]
    },
    {
     "name": "stdout",
     "output_type": "stream",
     "text": [
      "[info] hH8eMkO1CpA: Downloading 1 format(s): 18\n",
      "[info] Writing video subtitles to: data\\en_CNN\\How Hamas surpise attack on Israel unfolded.ab-en.vtt\n",
      "[download] Destination: data\\en_CNN\\How Hamas surpise attack on Israel unfolded.ab-en.vtt\n",
      "[download] 100% of    5.80KiB in 00:00:00 at 21.61KiB/s\n",
      "[youtube] Extracting URL: https://youtube.com/watch?v=L_6GMzVl6L0\n",
      "[youtube] L_6GMzVl6L0: Downloading webpage\n",
      "[youtube] L_6GMzVl6L0: Downloading ios player API JSON\n",
      "[youtube] L_6GMzVl6L0: Downloading web creator player API JSON\n",
      "[youtube] L_6GMzVl6L0: Downloading m3u8 information\n"
     ]
    },
    {
     "name": "stderr",
     "output_type": "stream",
     "text": [
      "WARNING: ffmpeg not found. The downloaded format may not be the best available. Installing ffmpeg is strongly recommended: https://github.com/yt-dlp/yt-dlp#dependencies\n"
     ]
    },
    {
     "name": "stdout",
     "output_type": "stream",
     "text": [
      "subtitle file not found\n",
      "[youtube] Extracting URL: https://youtube.com/watch?v=kngd0K2KIqI\n",
      "[youtube] kngd0K2KIqI: Downloading webpage\n",
      "[youtube] kngd0K2KIqI: Downloading ios player API JSON\n",
      "[youtube] kngd0K2KIqI: This video is age-restricted; some formats may be missing without authentication. Use --cookies-from-browser or --cookies for the authentication. See  https://github.com/yt-dlp/yt-dlp/wiki/FAQ#how-do-i-pass-cookies-to-yt-dlp  for how to manually pass cookies\n",
      "[youtube] kngd0K2KIqI: Downloading tv embedded player API JSON\n",
      "[youtube] kngd0K2KIqI: Downloading web creator player API JSON\n"
     ]
    },
    {
     "name": "stderr",
     "output_type": "stream",
     "text": [
      "WARNING: ffmpeg not found. The downloaded format may not be the best available. Installing ffmpeg is strongly recommended: https://github.com/yt-dlp/yt-dlp#dependencies\n"
     ]
    },
    {
     "name": "stdout",
     "output_type": "stream",
     "text": [
      "subtitle file not found\n",
      "[youtube] Extracting URL: https://youtube.com/watch?v=zdq3NVtT6Nc\n",
      "[youtube] zdq3NVtT6Nc: Downloading webpage\n",
      "[youtube] zdq3NVtT6Nc: Downloading ios player API JSON\n",
      "[youtube] zdq3NVtT6Nc: Downloading web creator player API JSON\n",
      "[youtube] zdq3NVtT6Nc: Downloading m3u8 information\n",
      "[info] zdq3NVtT6Nc: Downloading subtitles: en\n"
     ]
    },
    {
     "name": "stderr",
     "output_type": "stream",
     "text": [
      "WARNING: ffmpeg not found. The downloaded format may not be the best available. Installing ffmpeg is strongly recommended: https://github.com/yt-dlp/yt-dlp#dependencies\n"
     ]
    },
    {
     "name": "stdout",
     "output_type": "stream",
     "text": [
      "[youtube] Extracting URL: https://youtube.com/watch?v=zdq3NVtT6Nc\n",
      "[youtube] zdq3NVtT6Nc: Downloading webpage\n",
      "[youtube] zdq3NVtT6Nc: Downloading ios player API JSON\n",
      "[youtube] zdq3NVtT6Nc: Downloading web creator player API JSON\n",
      "[youtube] zdq3NVtT6Nc: Downloading m3u8 information\n",
      "[info] zdq3NVtT6Nc: Downloading subtitles: en\n"
     ]
    },
    {
     "name": "stderr",
     "output_type": "stream",
     "text": [
      "WARNING: ffmpeg not found. The downloaded format may not be the best available. Installing ffmpeg is strongly recommended: https://github.com/yt-dlp/yt-dlp#dependencies\n"
     ]
    },
    {
     "name": "stdout",
     "output_type": "stream",
     "text": [
      "[info] zdq3NVtT6Nc: Downloading 1 format(s): 18\n",
      "[info] Writing video subtitles to: data\\en_CNN\\The history of Gaza in 2 minutes.en.vtt\n",
      "[download] Destination: data\\en_CNN\\The history of Gaza in 2 minutes.en.vtt\n",
      "[download] 100% of    3.92KiB in 00:00:00 at 37.44KiB/s\n",
      "[youtube] Extracting URL: https://youtube.com/watch?v=p5ZTGkhmSJw\n",
      "[youtube] p5ZTGkhmSJw: Downloading webpage\n",
      "[youtube] p5ZTGkhmSJw: Downloading ios player API JSON\n",
      "[youtube] p5ZTGkhmSJw: Downloading web creator player API JSON\n",
      "[youtube] p5ZTGkhmSJw: Downloading m3u8 information\n"
     ]
    },
    {
     "name": "stderr",
     "output_type": "stream",
     "text": [
      "WARNING: ffmpeg not found. The downloaded format may not be the best available. Installing ffmpeg is strongly recommended: https://github.com/yt-dlp/yt-dlp#dependencies\n"
     ]
    },
    {
     "name": "stdout",
     "output_type": "stream",
     "text": [
      "subtitle file not found\n",
      "[youtube] Extracting URL: https://youtube.com/watch?v=xrEMJNj35VE\n",
      "[youtube] xrEMJNj35VE: Downloading webpage\n",
      "[youtube] xrEMJNj35VE: Downloading ios player API JSON\n",
      "[youtube] xrEMJNj35VE: Downloading web creator player API JSON\n",
      "[youtube] xrEMJNj35VE: Downloading m3u8 information\n"
     ]
    },
    {
     "name": "stderr",
     "output_type": "stream",
     "text": [
      "WARNING: ffmpeg not found. The downloaded format may not be the best available. Installing ffmpeg is strongly recommended: https://github.com/yt-dlp/yt-dlp#dependencies\n"
     ]
    },
    {
     "name": "stdout",
     "output_type": "stream",
     "text": [
      "subtitle file not found\n",
      "[youtube] Extracting URL: https://youtube.com/watch?v=XkAVyXHFHEQ\n",
      "[youtube] XkAVyXHFHEQ: Downloading webpage\n",
      "[youtube] XkAVyXHFHEQ: Downloading ios player API JSON\n",
      "[youtube] XkAVyXHFHEQ: Downloading web creator player API JSON\n",
      "[youtube] XkAVyXHFHEQ: Downloading m3u8 information\n",
      "[info] XkAVyXHFHEQ: Downloading subtitles: en\n"
     ]
    },
    {
     "name": "stderr",
     "output_type": "stream",
     "text": [
      "WARNING: ffmpeg not found. The downloaded format may not be the best available. Installing ffmpeg is strongly recommended: https://github.com/yt-dlp/yt-dlp#dependencies\n"
     ]
    },
    {
     "name": "stdout",
     "output_type": "stream",
     "text": [
      "[youtube] Extracting URL: https://youtube.com/watch?v=XkAVyXHFHEQ\n",
      "[youtube] XkAVyXHFHEQ: Downloading webpage\n",
      "[youtube] XkAVyXHFHEQ: Downloading ios player API JSON\n",
      "[youtube] XkAVyXHFHEQ: Downloading web creator player API JSON\n",
      "[youtube] XkAVyXHFHEQ: Downloading m3u8 information\n",
      "[info] XkAVyXHFHEQ: Downloading subtitles: en\n"
     ]
    },
    {
     "name": "stderr",
     "output_type": "stream",
     "text": [
      "WARNING: ffmpeg not found. The downloaded format may not be the best available. Installing ffmpeg is strongly recommended: https://github.com/yt-dlp/yt-dlp#dependencies\n"
     ]
    },
    {
     "name": "stdout",
     "output_type": "stream",
     "text": [
      "[info] XkAVyXHFHEQ: Downloading 1 format(s): 18\n",
      "[info] Writing video subtitles to: data\\en_CNN\\IDF spokesperson ‘We’ll do what’s needed’ to stop attacks.en.vtt\n",
      "[download] Destination: data\\en_CNN\\IDF spokesperson ‘We’ll do what’s needed’ to stop attacks.en.vtt\n",
      "[download] 100% of   14.42KiB in 00:00:00 at 75.71KiB/s\n",
      "[youtube] Extracting URL: https://youtube.com/watch?v=J5tFbJRdZAw\n",
      "[youtube] J5tFbJRdZAw: Downloading webpage\n",
      "[youtube] J5tFbJRdZAw: Downloading ios player API JSON\n",
      "[youtube] J5tFbJRdZAw: Downloading web creator player API JSON\n",
      "[youtube] J5tFbJRdZAw: Downloading m3u8 information\n",
      "[info] J5tFbJRdZAw: Downloading subtitles: en\n"
     ]
    },
    {
     "name": "stderr",
     "output_type": "stream",
     "text": [
      "WARNING: ffmpeg not found. The downloaded format may not be the best available. Installing ffmpeg is strongly recommended: https://github.com/yt-dlp/yt-dlp#dependencies\n"
     ]
    },
    {
     "name": "stdout",
     "output_type": "stream",
     "text": [
      "[youtube] Extracting URL: https://youtube.com/watch?v=J5tFbJRdZAw\n",
      "[youtube] J5tFbJRdZAw: Downloading webpage\n",
      "[youtube] J5tFbJRdZAw: Downloading ios player API JSON\n",
      "[youtube] J5tFbJRdZAw: Downloading web creator player API JSON\n",
      "[youtube] J5tFbJRdZAw: Downloading m3u8 information\n",
      "[info] J5tFbJRdZAw: Downloading subtitles: en\n"
     ]
    },
    {
     "name": "stderr",
     "output_type": "stream",
     "text": [
      "WARNING: ffmpeg not found. The downloaded format may not be the best available. Installing ffmpeg is strongly recommended: https://github.com/yt-dlp/yt-dlp#dependencies\n"
     ]
    },
    {
     "name": "stdout",
     "output_type": "stream",
     "text": [
      "[info] J5tFbJRdZAw: Downloading 1 format(s): 18\n",
      "[info] Writing video subtitles to: data\\en_CNN\\Israeli mother of missing son sends message to Hamas.en.vtt\n",
      "[download] Destination: data\\en_CNN\\Israeli mother of missing son sends message to Hamas.en.vtt\n",
      "[download] 100% of    4.59KiB in 00:00:00 at 46.47KiB/s\n",
      "[youtube] Extracting URL: https://youtube.com/watch?v=V5AxIqP6OJM\n",
      "[youtube] V5AxIqP6OJM: Downloading webpage\n",
      "[youtube] V5AxIqP6OJM: Downloading ios player API JSON\n",
      "[youtube] V5AxIqP6OJM: Downloading web creator player API JSON\n",
      "[youtube] V5AxIqP6OJM: Downloading m3u8 information\n",
      "[info] V5AxIqP6OJM: Downloading subtitles: en-uYU-mmqFLq8\n"
     ]
    },
    {
     "name": "stderr",
     "output_type": "stream",
     "text": [
      "WARNING: ffmpeg not found. The downloaded format may not be the best available. Installing ffmpeg is strongly recommended: https://github.com/yt-dlp/yt-dlp#dependencies\n"
     ]
    },
    {
     "name": "stdout",
     "output_type": "stream",
     "text": [
      "[youtube] Extracting URL: https://youtube.com/watch?v=V5AxIqP6OJM\n",
      "[youtube] V5AxIqP6OJM: Downloading webpage\n",
      "[youtube] V5AxIqP6OJM: Downloading ios player API JSON\n",
      "[youtube] V5AxIqP6OJM: Downloading web creator player API JSON\n",
      "[youtube] V5AxIqP6OJM: Downloading m3u8 information\n",
      "[info] V5AxIqP6OJM: Downloading subtitles: en\n"
     ]
    },
    {
     "name": "stderr",
     "output_type": "stream",
     "text": [
      "WARNING: ffmpeg not found. The downloaded format may not be the best available. Installing ffmpeg is strongly recommended: https://github.com/yt-dlp/yt-dlp#dependencies\n"
     ]
    },
    {
     "name": "stdout",
     "output_type": "stream",
     "text": [
      "[info] V5AxIqP6OJM: Downloading 1 format(s): 18\n",
      "[info] Writing video subtitles to: data\\en_CNN\\Explosions go off during interview with American doctor trapped in Gaza.en.vtt\n",
      "[hlsnative] Downloading m3u8 manifest\n",
      "[hlsnative] Total fragments: 1\n",
      "[download] Destination: data\\en_CNN\\Explosions go off during interview with American doctor trapped in Gaza.en.vtt\n",
      "[download] 100% of    7.13KiB in 00:00:00 at 33.34KiB/s                \n",
      "[youtube] Extracting URL: https://youtube.com/watch?v=U2Uz5HZ-F5A\n",
      "[youtube] U2Uz5HZ-F5A: Downloading webpage\n",
      "[youtube] U2Uz5HZ-F5A: Downloading ios player API JSON\n",
      "[youtube] U2Uz5HZ-F5A: Downloading web creator player API JSON\n",
      "[youtube] U2Uz5HZ-F5A: Downloading m3u8 information\n"
     ]
    },
    {
     "name": "stderr",
     "output_type": "stream",
     "text": [
      "WARNING: ffmpeg not found. The downloaded format may not be the best available. Installing ffmpeg is strongly recommended: https://github.com/yt-dlp/yt-dlp#dependencies\n"
     ]
    },
    {
     "name": "stdout",
     "output_type": "stream",
     "text": [
      "subtitle file not found\n",
      "[youtube] Extracting URL: https://youtube.com/watch?v=xTHV_9KHs8Q\n",
      "[youtube] xTHV_9KHs8Q: Downloading webpage\n",
      "[youtube] xTHV_9KHs8Q: Downloading ios player API JSON\n",
      "[youtube] xTHV_9KHs8Q: Downloading web creator player API JSON\n",
      "[youtube] xTHV_9KHs8Q: Downloading m3u8 information\n",
      "[info] xTHV_9KHs8Q: Downloading subtitles: en\n"
     ]
    },
    {
     "name": "stderr",
     "output_type": "stream",
     "text": [
      "WARNING: ffmpeg not found. The downloaded format may not be the best available. Installing ffmpeg is strongly recommended: https://github.com/yt-dlp/yt-dlp#dependencies\n"
     ]
    },
    {
     "name": "stdout",
     "output_type": "stream",
     "text": [
      "[youtube] Extracting URL: https://youtube.com/watch?v=xTHV_9KHs8Q\n",
      "[youtube] xTHV_9KHs8Q: Downloading webpage\n",
      "[youtube] xTHV_9KHs8Q: Downloading ios player API JSON\n",
      "[youtube] xTHV_9KHs8Q: Downloading web creator player API JSON\n",
      "[youtube] xTHV_9KHs8Q: Downloading m3u8 information\n",
      "[info] xTHV_9KHs8Q: Downloading subtitles: en\n"
     ]
    },
    {
     "name": "stderr",
     "output_type": "stream",
     "text": [
      "WARNING: ffmpeg not found. The downloaded format may not be the best available. Installing ffmpeg is strongly recommended: https://github.com/yt-dlp/yt-dlp#dependencies\n"
     ]
    },
    {
     "name": "stdout",
     "output_type": "stream",
     "text": [
      "[info] xTHV_9KHs8Q: Downloading 1 format(s): 18\n",
      "[info] Writing video subtitles to: data\\en_CNN\\How Hamas won and kept control in Gaza.en.vtt\n",
      "[download] Destination: data\\en_CNN\\How Hamas won and kept control in Gaza.en.vtt\n",
      "[download] 100% of   17.97KiB in 00:00:00 at 85.42KiB/s\n",
      "[youtube] Extracting URL: https://youtube.com/watch?v=I5yAK7kt0os\n",
      "[youtube] I5yAK7kt0os: Downloading webpage\n",
      "[youtube] I5yAK7kt0os: Downloading ios player API JSON\n",
      "[youtube] I5yAK7kt0os: This video is age-restricted; some formats may be missing without authentication. Use --cookies-from-browser or --cookies for the authentication. See  https://github.com/yt-dlp/yt-dlp/wiki/FAQ#how-do-i-pass-cookies-to-yt-dlp  for how to manually pass cookies\n",
      "[youtube] I5yAK7kt0os: Downloading tv embedded player API JSON\n",
      "[youtube] I5yAK7kt0os: Downloading web creator player API JSON\n",
      "[info] I5yAK7kt0os: Downloading subtitles: en\n"
     ]
    },
    {
     "name": "stderr",
     "output_type": "stream",
     "text": [
      "WARNING: ffmpeg not found. The downloaded format may not be the best available. Installing ffmpeg is strongly recommended: https://github.com/yt-dlp/yt-dlp#dependencies\n"
     ]
    },
    {
     "name": "stdout",
     "output_type": "stream",
     "text": [
      "[youtube] Extracting URL: https://youtube.com/watch?v=I5yAK7kt0os\n",
      "[youtube] I5yAK7kt0os: Downloading webpage\n",
      "[youtube] I5yAK7kt0os: Downloading ios player API JSON\n",
      "[youtube] I5yAK7kt0os: This video is age-restricted; some formats may be missing without authentication. Use --cookies-from-browser or --cookies for the authentication. See  https://github.com/yt-dlp/yt-dlp/wiki/FAQ#how-do-i-pass-cookies-to-yt-dlp  for how to manually pass cookies\n",
      "[youtube] I5yAK7kt0os: Downloading tv embedded player API JSON\n",
      "[youtube] I5yAK7kt0os: Downloading web creator player API JSON\n",
      "[info] I5yAK7kt0os: Downloading subtitles: ab-en\n"
     ]
    },
    {
     "name": "stderr",
     "output_type": "stream",
     "text": [
      "WARNING: ffmpeg not found. The downloaded format may not be the best available. Installing ffmpeg is strongly recommended: https://github.com/yt-dlp/yt-dlp#dependencies\n"
     ]
    },
    {
     "name": "stdout",
     "output_type": "stream",
     "text": [
      "[info] I5yAK7kt0os: Downloading 1 format(s): 18\n",
      "[info] Writing video subtitles to: data\\en_CNN\\Video shows journey one woman took to escape shooting at music festival.ab-en.vtt\n",
      "[download] Destination: data\\en_CNN\\Video shows journey one woman took to escape shooting at music festival.ab-en.vtt\n",
      "[download] 100% of    5.62KiB in 00:00:00 at 21.21KiB/s\n",
      "[youtube] Extracting URL: https://youtube.com/watch?v=XCr6NkCZK9A\n",
      "[youtube] XCr6NkCZK9A: Downloading webpage\n",
      "[youtube] XCr6NkCZK9A: Downloading ios player API JSON\n",
      "[youtube] XCr6NkCZK9A: Downloading web creator player API JSON\n",
      "[youtube] XCr6NkCZK9A: Downloading m3u8 information\n",
      "[info] XCr6NkCZK9A: Downloading subtitles: en-uYU-mmqFLq8\n"
     ]
    },
    {
     "name": "stderr",
     "output_type": "stream",
     "text": [
      "WARNING: ffmpeg not found. The downloaded format may not be the best available. Installing ffmpeg is strongly recommended: https://github.com/yt-dlp/yt-dlp#dependencies\n"
     ]
    },
    {
     "name": "stdout",
     "output_type": "stream",
     "text": [
      "[youtube] Extracting URL: https://youtube.com/watch?v=XCr6NkCZK9A\n",
      "[youtube] XCr6NkCZK9A: Downloading webpage\n",
      "[youtube] XCr6NkCZK9A: Downloading ios player API JSON\n",
      "[youtube] XCr6NkCZK9A: Downloading web creator player API JSON\n",
      "[youtube] XCr6NkCZK9A: Downloading m3u8 information\n",
      "[info] XCr6NkCZK9A: Downloading subtitles: en\n"
     ]
    },
    {
     "name": "stderr",
     "output_type": "stream",
     "text": [
      "WARNING: ffmpeg not found. The downloaded format may not be the best available. Installing ffmpeg is strongly recommended: https://github.com/yt-dlp/yt-dlp#dependencies\n"
     ]
    },
    {
     "name": "stdout",
     "output_type": "stream",
     "text": [
      "[info] XCr6NkCZK9A: Downloading 1 format(s): 18\n",
      "[info] Writing video subtitles to: data\\en_CNN\\How Israel is responding to Hamas attacks with ‘siege’ on Gaza.en.vtt\n",
      "[hlsnative] Downloading m3u8 manifest\n",
      "[hlsnative] Total fragments: 1\n",
      "[download] Destination: data\\en_CNN\\How Israel is responding to Hamas attacks with ‘siege’ on Gaza.en.vtt\n",
      "[download] 100% of    6.06KiB in 00:00:00 at 31.04KiB/s                \n",
      "[youtube] Extracting URL: https://youtube.com/watch?v=Cy6vewZo3jY\n",
      "[youtube] Cy6vewZo3jY: Downloading webpage\n",
      "[youtube] Cy6vewZo3jY: Downloading ios player API JSON\n",
      "[youtube] Cy6vewZo3jY: Downloading web creator player API JSON\n",
      "[youtube] Cy6vewZo3jY: Downloading m3u8 information\n",
      "[info] Cy6vewZo3jY: Downloading subtitles: en\n"
     ]
    },
    {
     "name": "stderr",
     "output_type": "stream",
     "text": [
      "WARNING: ffmpeg not found. The downloaded format may not be the best available. Installing ffmpeg is strongly recommended: https://github.com/yt-dlp/yt-dlp#dependencies\n"
     ]
    },
    {
     "name": "stdout",
     "output_type": "stream",
     "text": [
      "[youtube] Extracting URL: https://youtube.com/watch?v=Cy6vewZo3jY\n",
      "[youtube] Cy6vewZo3jY: Downloading webpage\n",
      "[youtube] Cy6vewZo3jY: Downloading ios player API JSON\n",
      "[youtube] Cy6vewZo3jY: Downloading web creator player API JSON\n",
      "[youtube] Cy6vewZo3jY: Downloading m3u8 information\n",
      "[info] Cy6vewZo3jY: Downloading subtitles: en\n"
     ]
    },
    {
     "name": "stderr",
     "output_type": "stream",
     "text": [
      "WARNING: ffmpeg not found. The downloaded format may not be the best available. Installing ffmpeg is strongly recommended: https://github.com/yt-dlp/yt-dlp#dependencies\n"
     ]
    },
    {
     "name": "stdout",
     "output_type": "stream",
     "text": [
      "[info] Cy6vewZo3jY: Downloading 1 format(s): 18\n",
      "[info] Writing video subtitles to: data\\en_CNN\\Military expert shows on map where Israeli forces will face challenges in Gaza.en.vtt\n",
      "[download] Destination: data\\en_CNN\\Military expert shows on map where Israeli forces will face challenges in Gaza.en.vtt\n",
      "[download] 100% of    7.55KiB in 00:00:00 at 38.38KiB/s\n",
      "[youtube] Extracting URL: https://youtube.com/watch?v=8TmIM3JH0XE\n",
      "[youtube] 8TmIM3JH0XE: Downloading webpage\n",
      "[youtube] 8TmIM3JH0XE: Downloading ios player API JSON\n",
      "[youtube] 8TmIM3JH0XE: Downloading web creator player API JSON\n",
      "[youtube] 8TmIM3JH0XE: Downloading m3u8 information\n"
     ]
    },
    {
     "name": "stderr",
     "output_type": "stream",
     "text": [
      "WARNING: ffmpeg not found. The downloaded format may not be the best available. Installing ffmpeg is strongly recommended: https://github.com/yt-dlp/yt-dlp#dependencies\n"
     ]
    },
    {
     "name": "stdout",
     "output_type": "stream",
     "text": [
      "subtitle file not found\n",
      "[youtube] Extracting URL: https://youtube.com/watch?v=aQIWFW0RUUE\n",
      "[youtube] aQIWFW0RUUE: Downloading webpage\n",
      "[youtube] aQIWFW0RUUE: Downloading ios player API JSON\n",
      "[youtube] aQIWFW0RUUE: Downloading web creator player API JSON\n",
      "[youtube] aQIWFW0RUUE: Downloading m3u8 information\n",
      "[info] aQIWFW0RUUE: Downloading subtitles: en\n"
     ]
    },
    {
     "name": "stderr",
     "output_type": "stream",
     "text": [
      "WARNING: ffmpeg not found. The downloaded format may not be the best available. Installing ffmpeg is strongly recommended: https://github.com/yt-dlp/yt-dlp#dependencies\n"
     ]
    },
    {
     "name": "stdout",
     "output_type": "stream",
     "text": [
      "[youtube] Extracting URL: https://youtube.com/watch?v=aQIWFW0RUUE\n",
      "[youtube] aQIWFW0RUUE: Downloading webpage\n",
      "[youtube] aQIWFW0RUUE: Downloading ios player API JSON\n",
      "[youtube] aQIWFW0RUUE: Downloading web creator player API JSON\n",
      "[youtube] aQIWFW0RUUE: Downloading m3u8 information\n",
      "[info] aQIWFW0RUUE: Downloading subtitles: en\n"
     ]
    },
    {
     "name": "stderr",
     "output_type": "stream",
     "text": [
      "WARNING: ffmpeg not found. The downloaded format may not be the best available. Installing ffmpeg is strongly recommended: https://github.com/yt-dlp/yt-dlp#dependencies\n"
     ]
    },
    {
     "name": "stdout",
     "output_type": "stream",
     "text": [
      "[info] aQIWFW0RUUE: Downloading 1 format(s): 18\n",
      "[info] Writing video subtitles to: data\\en_CNN\\Hamas fires hundreds of rockets at Israeli city.en.vtt\n",
      "[download] Destination: data\\en_CNN\\Hamas fires hundreds of rockets at Israeli city.en.vtt\n",
      "[download] 100% of   15.69KiB in 00:00:00 at 54.69KiB/s\n",
      "[youtube] Extracting URL: https://youtube.com/watch?v=ni1vHdQtWbs\n",
      "[youtube] ni1vHdQtWbs: Downloading webpage\n",
      "[youtube] ni1vHdQtWbs: Downloading ios player API JSON\n",
      "[youtube] ni1vHdQtWbs: Downloading web creator player API JSON\n",
      "[youtube] ni1vHdQtWbs: Downloading m3u8 information\n",
      "[info] ni1vHdQtWbs: Downloading subtitles: en\n"
     ]
    },
    {
     "name": "stderr",
     "output_type": "stream",
     "text": [
      "WARNING: ffmpeg not found. The downloaded format may not be the best available. Installing ffmpeg is strongly recommended: https://github.com/yt-dlp/yt-dlp#dependencies\n"
     ]
    },
    {
     "name": "stdout",
     "output_type": "stream",
     "text": [
      "[youtube] Extracting URL: https://youtube.com/watch?v=ni1vHdQtWbs\n",
      "[youtube] ni1vHdQtWbs: Downloading webpage\n",
      "[youtube] ni1vHdQtWbs: Downloading ios player API JSON\n",
      "[youtube] ni1vHdQtWbs: Downloading web creator player API JSON\n",
      "[youtube] ni1vHdQtWbs: Downloading m3u8 information\n",
      "[info] ni1vHdQtWbs: Downloading subtitles: en\n"
     ]
    },
    {
     "name": "stderr",
     "output_type": "stream",
     "text": [
      "WARNING: ffmpeg not found. The downloaded format may not be the best available. Installing ffmpeg is strongly recommended: https://github.com/yt-dlp/yt-dlp#dependencies\n"
     ]
    },
    {
     "name": "stdout",
     "output_type": "stream",
     "text": [
      "[info] ni1vHdQtWbs: Downloading 1 format(s): 18\n",
      "[info] Writing video subtitles to: data\\en_CNN\\Watch as Iron Dome intercepts Hamas' rockets over CNN correspondent's head.en.vtt\n",
      "[download] Destination: data\\en_CNN\\Watch as Iron Dome intercepts Hamas' rockets over CNN correspondent's head.en.vtt\n",
      "[download] 100% of   17.72KiB in 00:00:00 at 106.51KiB/s\n",
      "[youtube] Extracting URL: https://youtube.com/watch?v=2Z8fvTfQgUs\n",
      "[youtube] 2Z8fvTfQgUs: Downloading webpage\n",
      "[youtube] 2Z8fvTfQgUs: Downloading ios player API JSON\n",
      "[youtube] 2Z8fvTfQgUs: Downloading web creator player API JSON\n",
      "[youtube] 2Z8fvTfQgUs: Downloading m3u8 information\n",
      "[info] 2Z8fvTfQgUs: Downloading subtitles: en\n"
     ]
    },
    {
     "name": "stderr",
     "output_type": "stream",
     "text": [
      "WARNING: ffmpeg not found. The downloaded format may not be the best available. Installing ffmpeg is strongly recommended: https://github.com/yt-dlp/yt-dlp#dependencies\n"
     ]
    },
    {
     "name": "stdout",
     "output_type": "stream",
     "text": [
      "[youtube] Extracting URL: https://youtube.com/watch?v=2Z8fvTfQgUs\n",
      "[youtube] 2Z8fvTfQgUs: Downloading webpage\n",
      "[youtube] 2Z8fvTfQgUs: Downloading ios player API JSON\n",
      "[youtube] 2Z8fvTfQgUs: Downloading web creator player API JSON\n",
      "[youtube] 2Z8fvTfQgUs: Downloading m3u8 information\n",
      "[info] 2Z8fvTfQgUs: Downloading subtitles: en\n"
     ]
    },
    {
     "name": "stderr",
     "output_type": "stream",
     "text": [
      "WARNING: ffmpeg not found. The downloaded format may not be the best available. Installing ffmpeg is strongly recommended: https://github.com/yt-dlp/yt-dlp#dependencies\n"
     ]
    },
    {
     "name": "stdout",
     "output_type": "stream",
     "text": [
      "[info] 2Z8fvTfQgUs: Downloading 1 format(s): 18\n",
      "[info] Writing video subtitles to: data\\en_CNN\\Israel’s military amasses near Gaza.en.vtt\n",
      "[download] Destination: data\\en_CNN\\Israel’s military amasses near Gaza.en.vtt\n",
      "[download] 100% of   13.05KiB in 00:00:00 at 51.56KiB/s\n",
      "[youtube] Extracting URL: https://youtube.com/watch?v=lQLlo89kaco\n",
      "[youtube] lQLlo89kaco: Downloading webpage\n",
      "[youtube] lQLlo89kaco: Downloading ios player API JSON\n",
      "[youtube] lQLlo89kaco: Downloading web creator player API JSON\n",
      "[youtube] lQLlo89kaco: Downloading m3u8 information\n",
      "[info] lQLlo89kaco: Downloading subtitles: en\n"
     ]
    },
    {
     "name": "stderr",
     "output_type": "stream",
     "text": [
      "WARNING: ffmpeg not found. The downloaded format may not be the best available. Installing ffmpeg is strongly recommended: https://github.com/yt-dlp/yt-dlp#dependencies\n"
     ]
    },
    {
     "name": "stdout",
     "output_type": "stream",
     "text": [
      "[youtube] Extracting URL: https://youtube.com/watch?v=lQLlo89kaco\n",
      "[youtube] lQLlo89kaco: Downloading webpage\n",
      "[youtube] lQLlo89kaco: Downloading ios player API JSON\n",
      "[youtube] lQLlo89kaco: Downloading web creator player API JSON\n",
      "[youtube] lQLlo89kaco: Downloading m3u8 information\n",
      "[info] lQLlo89kaco: Downloading subtitles: en\n"
     ]
    },
    {
     "name": "stderr",
     "output_type": "stream",
     "text": [
      "WARNING: ffmpeg not found. The downloaded format may not be the best available. Installing ffmpeg is strongly recommended: https://github.com/yt-dlp/yt-dlp#dependencies\n"
     ]
    },
    {
     "name": "stdout",
     "output_type": "stream",
     "text": [
      "[info] lQLlo89kaco: Downloading 1 format(s): 18\n",
      "[info] Writing video subtitles to: data\\en_CNN\\Biden Hamas attack on Israel is ‘an act of sheer evil’.en.vtt\n",
      "[download] Destination: data\\en_CNN\\Biden Hamas attack on Israel is ‘an act of sheer evil’.en.vtt\n",
      "[download] 100% of   16.04KiB in 00:00:00 at 81.01KiB/s\n",
      "[youtube] Extracting URL: https://youtube.com/watch?v=E4gzxOO-yQQ\n",
      "[youtube] E4gzxOO-yQQ: Downloading webpage\n",
      "[youtube] E4gzxOO-yQQ: Downloading ios player API JSON\n",
      "[youtube] E4gzxOO-yQQ: Downloading web creator player API JSON\n",
      "[youtube] E4gzxOO-yQQ: Downloading m3u8 information\n",
      "[info] E4gzxOO-yQQ: Downloading subtitles: en\n"
     ]
    },
    {
     "name": "stderr",
     "output_type": "stream",
     "text": [
      "WARNING: ffmpeg not found. The downloaded format may not be the best available. Installing ffmpeg is strongly recommended: https://github.com/yt-dlp/yt-dlp#dependencies\n"
     ]
    },
    {
     "name": "stdout",
     "output_type": "stream",
     "text": [
      "[youtube] Extracting URL: https://youtube.com/watch?v=E4gzxOO-yQQ\n",
      "[youtube] E4gzxOO-yQQ: Downloading webpage\n",
      "[youtube] E4gzxOO-yQQ: Downloading ios player API JSON\n",
      "[youtube] E4gzxOO-yQQ: Downloading web creator player API JSON\n",
      "[youtube] E4gzxOO-yQQ: Downloading m3u8 information\n",
      "[info] E4gzxOO-yQQ: Downloading subtitles: en\n"
     ]
    },
    {
     "name": "stderr",
     "output_type": "stream",
     "text": [
      "WARNING: ffmpeg not found. The downloaded format may not be the best available. Installing ffmpeg is strongly recommended: https://github.com/yt-dlp/yt-dlp#dependencies\n"
     ]
    },
    {
     "name": "stdout",
     "output_type": "stream",
     "text": [
      "[info] E4gzxOO-yQQ: Downloading 1 format(s): 18\n",
      "[info] Writing video subtitles to: data\\en_CNN\\Israeli forces prepare for potential ground operation.en.vtt\n",
      "[download] Destination: data\\en_CNN\\Israeli forces prepare for potential ground operation.en.vtt\n",
      "[download] 100% of    6.50KiB in 00:00:00 at 59.66KiB/s\n",
      "[youtube] Extracting URL: https://youtube.com/watch?v=bYxGjMCTFdE\n",
      "[youtube] bYxGjMCTFdE: Downloading webpage\n",
      "[youtube] bYxGjMCTFdE: Downloading ios player API JSON\n",
      "[youtube] bYxGjMCTFdE: Downloading web creator player API JSON\n",
      "[youtube] bYxGjMCTFdE: Downloading m3u8 information\n",
      "[info] bYxGjMCTFdE: Downloading subtitles: en\n"
     ]
    },
    {
     "name": "stderr",
     "output_type": "stream",
     "text": [
      "WARNING: ffmpeg not found. The downloaded format may not be the best available. Installing ffmpeg is strongly recommended: https://github.com/yt-dlp/yt-dlp#dependencies\n"
     ]
    },
    {
     "name": "stdout",
     "output_type": "stream",
     "text": [
      "[youtube] Extracting URL: https://youtube.com/watch?v=bYxGjMCTFdE\n",
      "[youtube] bYxGjMCTFdE: Downloading webpage\n",
      "[youtube] bYxGjMCTFdE: Downloading ios player API JSON\n",
      "[youtube] bYxGjMCTFdE: Downloading web creator player API JSON\n",
      "[youtube] bYxGjMCTFdE: Downloading m3u8 information\n",
      "[info] bYxGjMCTFdE: Downloading subtitles: en\n"
     ]
    },
    {
     "name": "stderr",
     "output_type": "stream",
     "text": [
      "WARNING: ffmpeg not found. The downloaded format may not be the best available. Installing ffmpeg is strongly recommended: https://github.com/yt-dlp/yt-dlp#dependencies\n"
     ]
    },
    {
     "name": "stdout",
     "output_type": "stream",
     "text": [
      "[info] bYxGjMCTFdE: Downloading 1 format(s): 18\n",
      "[info] Writing video subtitles to: data\\en_CNN\\Israel Defense Force general recounts what he saw after Hamas attack.en.vtt\n",
      "[download] Destination: data\\en_CNN\\Israel Defense Force general recounts what he saw after Hamas attack.en.vtt\n",
      "[download] 100% of   18.48KiB in 00:00:00 at 89.59KiB/s\n",
      "[youtube] Extracting URL: https://youtube.com/watch?v=a34zpFaoBoM\n",
      "[youtube] a34zpFaoBoM: Downloading webpage\n",
      "[youtube] a34zpFaoBoM: Downloading ios player API JSON\n",
      "[youtube] a34zpFaoBoM: Downloading web creator player API JSON\n",
      "[youtube] a34zpFaoBoM: Downloading m3u8 information\n",
      "[info] a34zpFaoBoM: Downloading subtitles: en\n"
     ]
    },
    {
     "name": "stderr",
     "output_type": "stream",
     "text": [
      "WARNING: ffmpeg not found. The downloaded format may not be the best available. Installing ffmpeg is strongly recommended: https://github.com/yt-dlp/yt-dlp#dependencies\n"
     ]
    },
    {
     "name": "stdout",
     "output_type": "stream",
     "text": [
      "[youtube] Extracting URL: https://youtube.com/watch?v=a34zpFaoBoM\n",
      "[youtube] a34zpFaoBoM: Downloading webpage\n",
      "[youtube] a34zpFaoBoM: Downloading ios player API JSON\n",
      "[youtube] a34zpFaoBoM: Downloading web creator player API JSON\n",
      "[youtube] a34zpFaoBoM: Downloading m3u8 information\n",
      "[info] a34zpFaoBoM: Downloading subtitles: en\n"
     ]
    },
    {
     "name": "stderr",
     "output_type": "stream",
     "text": [
      "WARNING: ffmpeg not found. The downloaded format may not be the best available. Installing ffmpeg is strongly recommended: https://github.com/yt-dlp/yt-dlp#dependencies\n"
     ]
    },
    {
     "name": "stdout",
     "output_type": "stream",
     "text": [
      "[info] a34zpFaoBoM: Downloading 1 format(s): 18\n",
      "[info] Writing video subtitles to: data\\en_CNN\\Putin breaks silence on Hamas attack on Israel.en.vtt\n",
      "[download] Destination: data\\en_CNN\\Putin breaks silence on Hamas attack on Israel.en.vtt\n",
      "[download] 100% of   14.49KiB in 00:00:00 at 125.26KiB/s\n",
      "[youtube] Extracting URL: https://youtube.com/watch?v=U17nMZwUrqM\n",
      "[youtube] U17nMZwUrqM: Downloading webpage\n",
      "[youtube] U17nMZwUrqM: Downloading ios player API JSON\n",
      "[youtube] U17nMZwUrqM: Downloading web creator player API JSON\n",
      "[youtube] U17nMZwUrqM: Downloading m3u8 information\n"
     ]
    },
    {
     "name": "stderr",
     "output_type": "stream",
     "text": [
      "WARNING: ffmpeg not found. The downloaded format may not be the best available. Installing ffmpeg is strongly recommended: https://github.com/yt-dlp/yt-dlp#dependencies\n"
     ]
    },
    {
     "name": "stdout",
     "output_type": "stream",
     "text": [
      "subtitle file not found\n",
      "[youtube] Extracting URL: https://youtube.com/watch?v=WeQCWiUhbHg\n",
      "[youtube] WeQCWiUhbHg: Downloading webpage\n",
      "[youtube] WeQCWiUhbHg: Downloading ios player API JSON\n",
      "[youtube] WeQCWiUhbHg: Downloading web creator player API JSON\n",
      "[youtube] WeQCWiUhbHg: Downloading m3u8 information\n"
     ]
    },
    {
     "name": "stderr",
     "output_type": "stream",
     "text": [
      "WARNING: ffmpeg not found. The downloaded format may not be the best available. Installing ffmpeg is strongly recommended: https://github.com/yt-dlp/yt-dlp#dependencies\n"
     ]
    },
    {
     "name": "stdout",
     "output_type": "stream",
     "text": [
      "subtitle file not found\n",
      "[youtube] Extracting URL: https://youtube.com/watch?v=L_P1nbNPH3M\n",
      "[youtube] L_P1nbNPH3M: Downloading webpage\n",
      "[youtube] L_P1nbNPH3M: Downloading ios player API JSON\n",
      "[youtube] L_P1nbNPH3M: Downloading web creator player API JSON\n",
      "[youtube] L_P1nbNPH3M: Downloading m3u8 information\n"
     ]
    },
    {
     "name": "stderr",
     "output_type": "stream",
     "text": [
      "WARNING: ffmpeg not found. The downloaded format may not be the best available. Installing ffmpeg is strongly recommended: https://github.com/yt-dlp/yt-dlp#dependencies\n"
     ]
    },
    {
     "name": "stdout",
     "output_type": "stream",
     "text": [
      "subtitle file not found\n",
      "[youtube] Extracting URL: https://youtube.com/watch?v=0evi5X6jK4E\n",
      "[youtube] 0evi5X6jK4E: Downloading webpage\n",
      "[youtube] 0evi5X6jK4E: Downloading ios player API JSON\n",
      "[youtube] 0evi5X6jK4E: Downloading web creator player API JSON\n",
      "[youtube] 0evi5X6jK4E: Downloading m3u8 information\n",
      "[info] 0evi5X6jK4E: Downloading subtitles: en\n"
     ]
    },
    {
     "name": "stderr",
     "output_type": "stream",
     "text": [
      "WARNING: ffmpeg not found. The downloaded format may not be the best available. Installing ffmpeg is strongly recommended: https://github.com/yt-dlp/yt-dlp#dependencies\n"
     ]
    },
    {
     "name": "stdout",
     "output_type": "stream",
     "text": [
      "[youtube] Extracting URL: https://youtube.com/watch?v=0evi5X6jK4E\n",
      "[youtube] 0evi5X6jK4E: Downloading webpage\n",
      "[youtube] 0evi5X6jK4E: Downloading ios player API JSON\n",
      "[youtube] 0evi5X6jK4E: Downloading web creator player API JSON\n",
      "[youtube] 0evi5X6jK4E: Downloading m3u8 information\n",
      "[info] 0evi5X6jK4E: Downloading subtitles: en\n"
     ]
    },
    {
     "name": "stderr",
     "output_type": "stream",
     "text": [
      "WARNING: ffmpeg not found. The downloaded format may not be the best available. Installing ffmpeg is strongly recommended: https://github.com/yt-dlp/yt-dlp#dependencies\n"
     ]
    },
    {
     "name": "stdout",
     "output_type": "stream",
     "text": [
      "[info] 0evi5X6jK4E: Downloading 1 format(s): 18\n",
      "[info] Writing video subtitles to: data\\en_CNN\\Gaza's only power station runs out of fuel.en.vtt\n",
      "[download] Destination: data\\en_CNN\\Gaza's only power station runs out of fuel.en.vtt\n",
      "[download] 100% of   14.15KiB in 00:00:00 at 72.87KiB/s\n",
      "[youtube] Extracting URL: https://youtube.com/watch?v=FD28jY6vkhs\n",
      "[youtube] FD28jY6vkhs: Downloading webpage\n",
      "[youtube] FD28jY6vkhs: Downloading ios player API JSON\n",
      "[youtube] FD28jY6vkhs: Downloading web creator player API JSON\n",
      "[youtube] FD28jY6vkhs: Downloading m3u8 information\n",
      "[info] FD28jY6vkhs: Downloading subtitles: en\n"
     ]
    },
    {
     "name": "stderr",
     "output_type": "stream",
     "text": [
      "WARNING: ffmpeg not found. The downloaded format may not be the best available. Installing ffmpeg is strongly recommended: https://github.com/yt-dlp/yt-dlp#dependencies\n"
     ]
    },
    {
     "name": "stdout",
     "output_type": "stream",
     "text": [
      "[youtube] Extracting URL: https://youtube.com/watch?v=FD28jY6vkhs\n",
      "[youtube] FD28jY6vkhs: Downloading webpage\n",
      "[youtube] FD28jY6vkhs: Downloading ios player API JSON\n",
      "[youtube] FD28jY6vkhs: Downloading web creator player API JSON\n",
      "[youtube] FD28jY6vkhs: Downloading m3u8 information\n",
      "[info] FD28jY6vkhs: Downloading subtitles: en\n"
     ]
    },
    {
     "name": "stderr",
     "output_type": "stream",
     "text": [
      "WARNING: ffmpeg not found. The downloaded format may not be the best available. Installing ffmpeg is strongly recommended: https://github.com/yt-dlp/yt-dlp#dependencies\n"
     ]
    },
    {
     "name": "stdout",
     "output_type": "stream",
     "text": [
      "[info] FD28jY6vkhs: Downloading 1 format(s): 18\n",
      "[info] Writing video subtitles to: data\\en_CNN\\Israel forms emergency war cabinet.en.vtt\n",
      "[download] Destination: data\\en_CNN\\Israel forms emergency war cabinet.en.vtt\n",
      "[download] 100% of    8.35KiB in 00:00:00 at 86.30KiB/s\n",
      "[youtube] Extracting URL: https://youtube.com/watch?v=Iqjqm7pBIIE\n",
      "[youtube] Iqjqm7pBIIE: Downloading webpage\n",
      "[youtube] Iqjqm7pBIIE: Downloading ios player API JSON\n",
      "[youtube] Iqjqm7pBIIE: Downloading web creator player API JSON\n",
      "[youtube] Iqjqm7pBIIE: Downloading m3u8 information\n",
      "[info] Iqjqm7pBIIE: Downloading subtitles: en\n"
     ]
    },
    {
     "name": "stderr",
     "output_type": "stream",
     "text": [
      "WARNING: ffmpeg not found. The downloaded format may not be the best available. Installing ffmpeg is strongly recommended: https://github.com/yt-dlp/yt-dlp#dependencies\n"
     ]
    },
    {
     "name": "stdout",
     "output_type": "stream",
     "text": [
      "[youtube] Extracting URL: https://youtube.com/watch?v=Iqjqm7pBIIE\n",
      "[youtube] Iqjqm7pBIIE: Downloading webpage\n",
      "[youtube] Iqjqm7pBIIE: Downloading ios player API JSON\n",
      "[youtube] Iqjqm7pBIIE: Downloading web creator player API JSON\n",
      "[youtube] Iqjqm7pBIIE: Downloading m3u8 information\n",
      "[info] Iqjqm7pBIIE: Downloading subtitles: en\n"
     ]
    },
    {
     "name": "stderr",
     "output_type": "stream",
     "text": [
      "WARNING: ffmpeg not found. The downloaded format may not be the best available. Installing ffmpeg is strongly recommended: https://github.com/yt-dlp/yt-dlp#dependencies\n"
     ]
    },
    {
     "name": "stdout",
     "output_type": "stream",
     "text": [
      "[info] Iqjqm7pBIIE: Downloading 1 format(s): 18\n",
      "[info] Writing video subtitles to: data\\en_CNN\\'I don't know if we're going to make it' Palestinian-American stuck in Gaza speaks out.en.vtt\n",
      "[download] Destination: data\\en_CNN\\'I don't know if we're going to make it' Palestinian-American stuck in Gaza speaks out.en.vtt\n",
      "[download] 100% of    8.42KiB in 00:00:00 at 47.18KiB/s\n",
      "[youtube] Extracting URL: https://youtube.com/watch?v=2UoGKEuW7jI\n",
      "[youtube] 2UoGKEuW7jI: Downloading webpage\n",
      "[youtube] 2UoGKEuW7jI: Downloading ios player API JSON\n",
      "[youtube] 2UoGKEuW7jI: Downloading web creator player API JSON\n",
      "[youtube] 2UoGKEuW7jI: Downloading m3u8 information\n",
      "[info] 2UoGKEuW7jI: Downloading subtitles: en\n"
     ]
    },
    {
     "name": "stderr",
     "output_type": "stream",
     "text": [
      "WARNING: ffmpeg not found. The downloaded format may not be the best available. Installing ffmpeg is strongly recommended: https://github.com/yt-dlp/yt-dlp#dependencies\n"
     ]
    },
    {
     "name": "stdout",
     "output_type": "stream",
     "text": [
      "[youtube] Extracting URL: https://youtube.com/watch?v=2UoGKEuW7jI\n",
      "[youtube] 2UoGKEuW7jI: Downloading webpage\n",
      "[youtube] 2UoGKEuW7jI: Downloading ios player API JSON\n",
      "[youtube] 2UoGKEuW7jI: Downloading web creator player API JSON\n",
      "[youtube] 2UoGKEuW7jI: Downloading m3u8 information\n",
      "[info] 2UoGKEuW7jI: Downloading subtitles: en\n"
     ]
    },
    {
     "name": "stderr",
     "output_type": "stream",
     "text": [
      "WARNING: ffmpeg not found. The downloaded format may not be the best available. Installing ffmpeg is strongly recommended: https://github.com/yt-dlp/yt-dlp#dependencies\n"
     ]
    },
    {
     "name": "stdout",
     "output_type": "stream",
     "text": [
      "[info] 2UoGKEuW7jI: Downloading 1 format(s): 18\n",
      "[info] Writing video subtitles to: data\\en_CNN\\Hamas will pay ‘the way the Nazis paid in Europe,' says former IDF intel chief.en.vtt\n",
      "[download] Destination: data\\en_CNN\\Hamas will pay ‘the way the Nazis paid in Europe,' says former IDF intel chief.en.vtt\n",
      "[download] 100% of   12.64KiB in 00:00:00 at 100.64KiB/s\n",
      "[youtube] Extracting URL: https://youtube.com/watch?v=WeuvIUopgGg\n",
      "[youtube] WeuvIUopgGg: Downloading webpage\n",
      "[youtube] WeuvIUopgGg: Downloading ios player API JSON\n",
      "[youtube] WeuvIUopgGg: Downloading web creator player API JSON\n",
      "[youtube] WeuvIUopgGg: Downloading m3u8 information\n",
      "[info] WeuvIUopgGg: Downloading subtitles: en-uYU-mmqFLq8\n"
     ]
    },
    {
     "name": "stderr",
     "output_type": "stream",
     "text": [
      "WARNING: ffmpeg not found. The downloaded format may not be the best available. Installing ffmpeg is strongly recommended: https://github.com/yt-dlp/yt-dlp#dependencies\n"
     ]
    },
    {
     "name": "stdout",
     "output_type": "stream",
     "text": [
      "[youtube] Extracting URL: https://youtube.com/watch?v=WeuvIUopgGg\n",
      "[youtube] WeuvIUopgGg: Downloading webpage\n",
      "[youtube] WeuvIUopgGg: Downloading ios player API JSON\n",
      "[youtube] WeuvIUopgGg: Downloading web creator player API JSON\n",
      "[youtube] WeuvIUopgGg: Downloading m3u8 information\n",
      "[info] WeuvIUopgGg: Downloading subtitles: en\n"
     ]
    },
    {
     "name": "stderr",
     "output_type": "stream",
     "text": [
      "WARNING: ffmpeg not found. The downloaded format may not be the best available. Installing ffmpeg is strongly recommended: https://github.com/yt-dlp/yt-dlp#dependencies\n"
     ]
    },
    {
     "name": "stdout",
     "output_type": "stream",
     "text": [
      "[info] WeuvIUopgGg: Downloading 1 format(s): 18\n",
      "[info] Writing video subtitles to: data\\en_CNN\\300,000 Israeli troops stand at ready after Hamas attack.en.vtt\n",
      "[hlsnative] Downloading m3u8 manifest\n",
      "[hlsnative] Total fragments: 1\n",
      "[download] Destination: data\\en_CNN\\300,000 Israeli troops stand at ready after Hamas attack.en.vtt\n",
      "[download] 100% of   52.31KiB in 00:00:00 at 203.28KiB/s               \n",
      "[youtube] Extracting URL: https://youtube.com/watch?v=cy9fD07y4-w\n",
      "[youtube] cy9fD07y4-w: Downloading webpage\n",
      "[youtube] cy9fD07y4-w: Downloading ios player API JSON\n",
      "[youtube] cy9fD07y4-w: Downloading web creator player API JSON\n",
      "[youtube] cy9fD07y4-w: Downloading m3u8 information\n",
      "[info] cy9fD07y4-w: Downloading subtitles: en-uYU-mmqFLq8\n"
     ]
    },
    {
     "name": "stderr",
     "output_type": "stream",
     "text": [
      "WARNING: ffmpeg not found. The downloaded format may not be the best available. Installing ffmpeg is strongly recommended: https://github.com/yt-dlp/yt-dlp#dependencies\n"
     ]
    },
    {
     "name": "stdout",
     "output_type": "stream",
     "text": [
      "[youtube] Extracting URL: https://youtube.com/watch?v=cy9fD07y4-w\n",
      "[youtube] cy9fD07y4-w: Downloading webpage\n",
      "[youtube] cy9fD07y4-w: Downloading ios player API JSON\n",
      "[youtube] cy9fD07y4-w: Downloading web creator player API JSON\n",
      "[youtube] cy9fD07y4-w: Downloading m3u8 information\n",
      "[info] cy9fD07y4-w: Downloading subtitles: en\n"
     ]
    },
    {
     "name": "stderr",
     "output_type": "stream",
     "text": [
      "WARNING: ffmpeg not found. The downloaded format may not be the best available. Installing ffmpeg is strongly recommended: https://github.com/yt-dlp/yt-dlp#dependencies\n"
     ]
    },
    {
     "name": "stdout",
     "output_type": "stream",
     "text": [
      "[info] cy9fD07y4-w: Downloading 1 format(s): 18\n",
      "[info] Writing video subtitles to: data\\en_CNN\\CNN reporter lays out Israel's evaluation of Iran's alleged involvement in the Hamas attacks.en.vtt\n",
      "[hlsnative] Downloading m3u8 manifest\n",
      "[hlsnative] Total fragments: 1\n",
      "[download] Destination: data\\en_CNN\\CNN reporter lays out Israel's evaluation of Iran's alleged involvement in the Hamas attacks.en.vtt\n",
      "[download] 100% of   13.53KiB in 00:00:00 at 53.51KiB/s                \n",
      "[youtube] Extracting URL: https://youtube.com/watch?v=kufj_iN41Gc\n",
      "[youtube] kufj_iN41Gc: Downloading webpage\n",
      "[youtube] kufj_iN41Gc: Downloading ios player API JSON\n",
      "[youtube] kufj_iN41Gc: Downloading web creator player API JSON\n",
      "[youtube] kufj_iN41Gc: Downloading m3u8 information\n",
      "[info] kufj_iN41Gc: Downloading subtitles: en\n"
     ]
    },
    {
     "name": "stderr",
     "output_type": "stream",
     "text": [
      "WARNING: ffmpeg not found. The downloaded format may not be the best available. Installing ffmpeg is strongly recommended: https://github.com/yt-dlp/yt-dlp#dependencies\n"
     ]
    },
    {
     "name": "stdout",
     "output_type": "stream",
     "text": [
      "[youtube] Extracting URL: https://youtube.com/watch?v=kufj_iN41Gc\n",
      "[youtube] kufj_iN41Gc: Downloading webpage\n",
      "[youtube] kufj_iN41Gc: Downloading ios player API JSON\n",
      "[youtube] kufj_iN41Gc: Downloading web creator player API JSON\n",
      "[youtube] kufj_iN41Gc: Downloading m3u8 information\n",
      "[info] kufj_iN41Gc: Downloading subtitles: en\n"
     ]
    },
    {
     "name": "stderr",
     "output_type": "stream",
     "text": [
      "WARNING: ffmpeg not found. The downloaded format may not be the best available. Installing ffmpeg is strongly recommended: https://github.com/yt-dlp/yt-dlp#dependencies\n"
     ]
    },
    {
     "name": "stdout",
     "output_type": "stream",
     "text": [
      "[info] kufj_iN41Gc: Downloading 1 format(s): 18\n",
      "[info] Writing video subtitles to: data\\en_CNN\\Hamas official reveals intent behind assault on Israel on Russian TV.en.vtt\n",
      "[download] Destination: data\\en_CNN\\Hamas official reveals intent behind assault on Israel on Russian TV.en.vtt\n",
      "[download] 100% of    4.86KiB in 00:00:00 at 30.43KiB/s\n",
      "[youtube] Extracting URL: https://youtube.com/watch?v=dVxHa7Cv2a0\n",
      "[youtube] dVxHa7Cv2a0: Downloading webpage\n",
      "[youtube] dVxHa7Cv2a0: Downloading ios player API JSON\n",
      "[youtube] dVxHa7Cv2a0: This video is age-restricted; some formats may be missing without authentication. Use --cookies-from-browser or --cookies for the authentication. See  https://github.com/yt-dlp/yt-dlp/wiki/FAQ#how-do-i-pass-cookies-to-yt-dlp  for how to manually pass cookies\n",
      "[youtube] dVxHa7Cv2a0: Downloading tv embedded player API JSON\n",
      "[youtube] dVxHa7Cv2a0: Downloading web creator player API JSON\n",
      "[info] dVxHa7Cv2a0: Downloading subtitles: en\n"
     ]
    },
    {
     "name": "stderr",
     "output_type": "stream",
     "text": [
      "WARNING: ffmpeg not found. The downloaded format may not be the best available. Installing ffmpeg is strongly recommended: https://github.com/yt-dlp/yt-dlp#dependencies\n"
     ]
    },
    {
     "name": "stdout",
     "output_type": "stream",
     "text": [
      "[youtube] Extracting URL: https://youtube.com/watch?v=dVxHa7Cv2a0\n",
      "[youtube] dVxHa7Cv2a0: Downloading webpage\n",
      "[youtube] dVxHa7Cv2a0: Downloading ios player API JSON\n",
      "[youtube] dVxHa7Cv2a0: This video is age-restricted; some formats may be missing without authentication. Use --cookies-from-browser or --cookies for the authentication. See  https://github.com/yt-dlp/yt-dlp/wiki/FAQ#how-do-i-pass-cookies-to-yt-dlp  for how to manually pass cookies\n",
      "[youtube] dVxHa7Cv2a0: Downloading tv embedded player API JSON\n",
      "[youtube] dVxHa7Cv2a0: Downloading web creator player API JSON\n",
      "[info] dVxHa7Cv2a0: Downloading subtitles: ab-en\n"
     ]
    },
    {
     "name": "stderr",
     "output_type": "stream",
     "text": [
      "WARNING: ffmpeg not found. The downloaded format may not be the best available. Installing ffmpeg is strongly recommended: https://github.com/yt-dlp/yt-dlp#dependencies\n"
     ]
    },
    {
     "name": "stdout",
     "output_type": "stream",
     "text": [
      "[info] dVxHa7Cv2a0: Downloading 1 format(s): 18\n",
      "[info] Writing video subtitles to: data\\en_CNN\\'Death was a blessing' Father on learning fate of daughter.ab-en.vtt\n",
      "[download] Destination: data\\en_CNN\\'Death was a blessing' Father on learning fate of daughter.ab-en.vtt\n",
      "[download] 100% of   22.58KiB in 00:00:00 at 47.58KiB/s\n",
      "[youtube] Extracting URL: https://youtube.com/watch?v=C7ROkhm2c5E\n",
      "[youtube] C7ROkhm2c5E: Downloading webpage\n",
      "[youtube] C7ROkhm2c5E: Downloading ios player API JSON\n",
      "[youtube] C7ROkhm2c5E: Downloading web creator player API JSON\n",
      "[youtube] C7ROkhm2c5E: Downloading m3u8 information\n",
      "[info] C7ROkhm2c5E: Downloading subtitles: en\n"
     ]
    },
    {
     "name": "stderr",
     "output_type": "stream",
     "text": [
      "WARNING: ffmpeg not found. The downloaded format may not be the best available. Installing ffmpeg is strongly recommended: https://github.com/yt-dlp/yt-dlp#dependencies\n"
     ]
    },
    {
     "name": "stdout",
     "output_type": "stream",
     "text": [
      "[youtube] Extracting URL: https://youtube.com/watch?v=C7ROkhm2c5E\n",
      "[youtube] C7ROkhm2c5E: Downloading webpage\n",
      "[youtube] C7ROkhm2c5E: Downloading ios player API JSON\n",
      "[youtube] C7ROkhm2c5E: Downloading web creator player API JSON\n",
      "[youtube] C7ROkhm2c5E: Downloading m3u8 information\n",
      "[info] C7ROkhm2c5E: Downloading subtitles: en\n"
     ]
    },
    {
     "name": "stderr",
     "output_type": "stream",
     "text": [
      "WARNING: ffmpeg not found. The downloaded format may not be the best available. Installing ffmpeg is strongly recommended: https://github.com/yt-dlp/yt-dlp#dependencies\n"
     ]
    },
    {
     "name": "stdout",
     "output_type": "stream",
     "text": [
      "[info] C7ROkhm2c5E: Downloading 1 format(s): 18\n",
      "[info] Writing video subtitles to: data\\en_CNN\\Retired colonel points out key difficulty Israeli troops would face in Gaza.en.vtt\n",
      "[download] Destination: data\\en_CNN\\Retired colonel points out key difficulty Israeli troops would face in Gaza.en.vtt\n",
      "[download] 100% of    8.64KiB in 00:00:00 at 75.49KiB/s\n",
      "[youtube] Extracting URL: https://youtube.com/watch?v=VWu7zjxvOxg\n",
      "[youtube] VWu7zjxvOxg: Downloading webpage\n",
      "[youtube] VWu7zjxvOxg: Downloading ios player API JSON\n",
      "[youtube] VWu7zjxvOxg: Downloading web creator player API JSON\n",
      "[youtube] VWu7zjxvOxg: Downloading m3u8 information\n",
      "[info] VWu7zjxvOxg: Downloading subtitles: en\n"
     ]
    },
    {
     "name": "stderr",
     "output_type": "stream",
     "text": [
      "WARNING: ffmpeg not found. The downloaded format may not be the best available. Installing ffmpeg is strongly recommended: https://github.com/yt-dlp/yt-dlp#dependencies\n"
     ]
    },
    {
     "name": "stdout",
     "output_type": "stream",
     "text": [
      "[youtube] Extracting URL: https://youtube.com/watch?v=VWu7zjxvOxg\n",
      "[youtube] VWu7zjxvOxg: Downloading webpage\n",
      "[youtube] VWu7zjxvOxg: Downloading ios player API JSON\n",
      "[youtube] VWu7zjxvOxg: Downloading web creator player API JSON\n",
      "[youtube] VWu7zjxvOxg: Downloading m3u8 information\n",
      "[info] VWu7zjxvOxg: Downloading subtitles: en\n"
     ]
    },
    {
     "name": "stderr",
     "output_type": "stream",
     "text": [
      "WARNING: ffmpeg not found. The downloaded format may not be the best available. Installing ffmpeg is strongly recommended: https://github.com/yt-dlp/yt-dlp#dependencies\n"
     ]
    },
    {
     "name": "stdout",
     "output_type": "stream",
     "text": [
      "[info] VWu7zjxvOxg: Downloading 1 format(s): 18\n",
      "[info] Writing video subtitles to: data\\en_CNN\\'It was animal slaughter' Israeli festival survivor describes horror.en.vtt\n",
      "[download] Destination: data\\en_CNN\\'It was animal slaughter' Israeli festival survivor describes horror.en.vtt\n",
      "[download] 100% of   13.79KiB in 00:00:00 at 76.36KiB/s\n",
      "[youtube] Extracting URL: https://youtube.com/watch?v=mYVih0Wki4Q\n",
      "[youtube] mYVih0Wki4Q: Downloading webpage\n",
      "[youtube] mYVih0Wki4Q: Downloading ios player API JSON\n",
      "[youtube] mYVih0Wki4Q: Downloading web creator player API JSON\n",
      "[youtube] mYVih0Wki4Q: Downloading m3u8 information\n"
     ]
    },
    {
     "name": "stderr",
     "output_type": "stream",
     "text": [
      "WARNING: ffmpeg not found. The downloaded format may not be the best available. Installing ffmpeg is strongly recommended: https://github.com/yt-dlp/yt-dlp#dependencies\n"
     ]
    },
    {
     "name": "stdout",
     "output_type": "stream",
     "text": [
      "subtitle file not found\n",
      "[youtube] Extracting URL: https://youtube.com/watch?v=qHx5qTp2DhY\n",
      "[youtube] qHx5qTp2DhY: Downloading webpage\n",
      "[youtube] qHx5qTp2DhY: Downloading ios player API JSON\n",
      "[youtube] qHx5qTp2DhY: Downloading web creator player API JSON\n",
      "[youtube] qHx5qTp2DhY: Downloading m3u8 information\n",
      "[info] qHx5qTp2DhY: Downloading subtitles: en\n"
     ]
    },
    {
     "name": "stderr",
     "output_type": "stream",
     "text": [
      "WARNING: ffmpeg not found. The downloaded format may not be the best available. Installing ffmpeg is strongly recommended: https://github.com/yt-dlp/yt-dlp#dependencies\n"
     ]
    },
    {
     "name": "stdout",
     "output_type": "stream",
     "text": [
      "[youtube] Extracting URL: https://youtube.com/watch?v=qHx5qTp2DhY\n",
      "[youtube] qHx5qTp2DhY: Downloading webpage\n",
      "[youtube] qHx5qTp2DhY: Downloading ios player API JSON\n",
      "[youtube] qHx5qTp2DhY: Downloading web creator player API JSON\n",
      "[youtube] qHx5qTp2DhY: Downloading m3u8 information\n",
      "[info] qHx5qTp2DhY: Downloading subtitles: en\n"
     ]
    },
    {
     "name": "stderr",
     "output_type": "stream",
     "text": [
      "WARNING: ffmpeg not found. The downloaded format may not be the best available. Installing ffmpeg is strongly recommended: https://github.com/yt-dlp/yt-dlp#dependencies\n"
     ]
    },
    {
     "name": "stdout",
     "output_type": "stream",
     "text": [
      "[info] qHx5qTp2DhY: Downloading 1 format(s): 18\n",
      "[info] Writing video subtitles to: data\\en_CNN\\'Dangerous and unhinged' White House reacts to Trump complimenting Hezbollah.en.vtt\n",
      "[download] Destination: data\\en_CNN\\'Dangerous and unhinged' White House reacts to Trump complimenting Hezbollah.en.vtt\n",
      "[download] 100% of   19.00KiB in 00:00:00 at 99.19KiB/s\n",
      "[youtube] Extracting URL: https://youtube.com/watch?v=SvpifAzCMCI\n",
      "[youtube] SvpifAzCMCI: Downloading webpage\n",
      "[youtube] SvpifAzCMCI: Downloading ios player API JSON\n",
      "[youtube] SvpifAzCMCI: Downloading web creator player API JSON\n",
      "[youtube] SvpifAzCMCI: Downloading m3u8 information\n",
      "[info] SvpifAzCMCI: Downloading subtitles: en\n"
     ]
    },
    {
     "name": "stderr",
     "output_type": "stream",
     "text": [
      "WARNING: ffmpeg not found. The downloaded format may not be the best available. Installing ffmpeg is strongly recommended: https://github.com/yt-dlp/yt-dlp#dependencies\n"
     ]
    },
    {
     "name": "stdout",
     "output_type": "stream",
     "text": [
      "[youtube] Extracting URL: https://youtube.com/watch?v=SvpifAzCMCI\n",
      "[youtube] SvpifAzCMCI: Downloading webpage\n",
      "[youtube] SvpifAzCMCI: Downloading ios player API JSON\n",
      "[youtube] SvpifAzCMCI: Downloading web creator player API JSON\n",
      "[youtube] SvpifAzCMCI: Downloading m3u8 information\n",
      "[info] SvpifAzCMCI: Downloading subtitles: en\n"
     ]
    },
    {
     "name": "stderr",
     "output_type": "stream",
     "text": [
      "WARNING: ffmpeg not found. The downloaded format may not be the best available. Installing ffmpeg is strongly recommended: https://github.com/yt-dlp/yt-dlp#dependencies\n"
     ]
    },
    {
     "name": "stdout",
     "output_type": "stream",
     "text": [
      "[info] SvpifAzCMCI: Downloading 1 format(s): 18\n",
      "[info] Writing video subtitles to: data\\en_CNN\\Explosion interrupts live Gaza interview.en.vtt\n",
      "[download] Destination: data\\en_CNN\\Explosion interrupts live Gaza interview.en.vtt\n",
      "[download] 100% of   14.71KiB in 00:00:00 at 57.49KiB/s\n",
      "[youtube] Extracting URL: https://youtube.com/watch?v=n1LT-Fkx-Io\n",
      "[youtube] n1LT-Fkx-Io: Downloading webpage\n",
      "[youtube] n1LT-Fkx-Io: Downloading ios player API JSON\n",
      "[youtube] n1LT-Fkx-Io: Downloading web creator player API JSON\n",
      "[youtube] n1LT-Fkx-Io: Downloading m3u8 information\n"
     ]
    },
    {
     "name": "stderr",
     "output_type": "stream",
     "text": [
      "WARNING: ffmpeg not found. The downloaded format may not be the best available. Installing ffmpeg is strongly recommended: https://github.com/yt-dlp/yt-dlp#dependencies\n"
     ]
    },
    {
     "name": "stdout",
     "output_type": "stream",
     "text": [
      "subtitle file not found\n",
      "[youtube] Extracting URL: https://youtube.com/watch?v=56hhh0E-wMw\n",
      "[youtube] 56hhh0E-wMw: Downloading webpage\n",
      "[youtube] 56hhh0E-wMw: Downloading ios player API JSON\n",
      "[youtube] 56hhh0E-wMw: Downloading web creator player API JSON\n",
      "[youtube] 56hhh0E-wMw: Downloading m3u8 information\n"
     ]
    },
    {
     "name": "stderr",
     "output_type": "stream",
     "text": [
      "WARNING: ffmpeg not found. The downloaded format may not be the best available. Installing ffmpeg is strongly recommended: https://github.com/yt-dlp/yt-dlp#dependencies\n"
     ]
    },
    {
     "name": "stdout",
     "output_type": "stream",
     "text": [
      "subtitle file not found\n",
      "[youtube] Extracting URL: https://youtube.com/watch?v=JaVjqS6fbBI\n",
      "[youtube] JaVjqS6fbBI: Downloading webpage\n",
      "[youtube] JaVjqS6fbBI: Downloading ios player API JSON\n",
      "[youtube] JaVjqS6fbBI: Downloading web creator player API JSON\n",
      "[youtube] JaVjqS6fbBI: Downloading m3u8 information\n",
      "[info] JaVjqS6fbBI: Downloading subtitles: en\n"
     ]
    },
    {
     "name": "stderr",
     "output_type": "stream",
     "text": [
      "WARNING: ffmpeg not found. The downloaded format may not be the best available. Installing ffmpeg is strongly recommended: https://github.com/yt-dlp/yt-dlp#dependencies\n"
     ]
    },
    {
     "name": "stdout",
     "output_type": "stream",
     "text": [
      "[youtube] Extracting URL: https://youtube.com/watch?v=JaVjqS6fbBI\n",
      "[youtube] JaVjqS6fbBI: Downloading webpage\n",
      "[youtube] JaVjqS6fbBI: Downloading ios player API JSON\n",
      "[youtube] JaVjqS6fbBI: Downloading web creator player API JSON\n",
      "[youtube] JaVjqS6fbBI: Downloading m3u8 information\n",
      "[info] JaVjqS6fbBI: Downloading subtitles: en\n"
     ]
    },
    {
     "name": "stderr",
     "output_type": "stream",
     "text": [
      "WARNING: ffmpeg not found. The downloaded format may not be the best available. Installing ffmpeg is strongly recommended: https://github.com/yt-dlp/yt-dlp#dependencies\n"
     ]
    },
    {
     "name": "stdout",
     "output_type": "stream",
     "text": [
      "[info] JaVjqS6fbBI: Downloading 1 format(s): 18\n",
      "[info] Writing video subtitles to: data\\en_CNN\\Retired general The issue with Palestinians leaving Gaza.en.vtt\n",
      "[download] Destination: data\\en_CNN\\Retired general The issue with Palestinians leaving Gaza.en.vtt\n",
      "[download] 100% of    7.09KiB in 00:00:00 at 74.01KiB/s\n",
      "[youtube] Extracting URL: https://youtube.com/watch?v=g2Ntxk_ZQTg\n",
      "[youtube] g2Ntxk_ZQTg: Downloading webpage\n",
      "[youtube] g2Ntxk_ZQTg: Downloading ios player API JSON\n",
      "[youtube] g2Ntxk_ZQTg: Downloading web creator player API JSON\n",
      "[youtube] g2Ntxk_ZQTg: Downloading m3u8 information\n",
      "[info] g2Ntxk_ZQTg: Downloading subtitles: en\n"
     ]
    },
    {
     "name": "stderr",
     "output_type": "stream",
     "text": [
      "WARNING: ffmpeg not found. The downloaded format may not be the best available. Installing ffmpeg is strongly recommended: https://github.com/yt-dlp/yt-dlp#dependencies\n"
     ]
    },
    {
     "name": "stdout",
     "output_type": "stream",
     "text": [
      "[youtube] Extracting URL: https://youtube.com/watch?v=g2Ntxk_ZQTg\n",
      "[youtube] g2Ntxk_ZQTg: Downloading webpage\n",
      "[youtube] g2Ntxk_ZQTg: Downloading ios player API JSON\n",
      "[youtube] g2Ntxk_ZQTg: Downloading web creator player API JSON\n",
      "[youtube] g2Ntxk_ZQTg: Downloading m3u8 information\n",
      "[info] g2Ntxk_ZQTg: Downloading subtitles: en\n"
     ]
    },
    {
     "name": "stderr",
     "output_type": "stream",
     "text": [
      "WARNING: ffmpeg not found. The downloaded format may not be the best available. Installing ffmpeg is strongly recommended: https://github.com/yt-dlp/yt-dlp#dependencies\n"
     ]
    },
    {
     "name": "stdout",
     "output_type": "stream",
     "text": [
      "[info] g2Ntxk_ZQTg: Downloading 1 format(s): 18\n",
      "[info] Writing video subtitles to: data\\en_CNN\\Drone footage of war-torn Gaza shows immense destruction.en.vtt\n",
      "[download] Destination: data\\en_CNN\\Drone footage of war-torn Gaza shows immense destruction.en.vtt\n",
      "[download] 100% of    5.06KiB in 00:00:00 at 33.36KiB/s\n",
      "[youtube] Extracting URL: https://youtube.com/watch?v=koXBvLert_g\n",
      "[youtube] koXBvLert_g: Downloading webpage\n",
      "[youtube] koXBvLert_g: Downloading ios player API JSON\n",
      "[youtube] koXBvLert_g: Downloading web creator player API JSON\n",
      "[youtube] koXBvLert_g: Downloading m3u8 information\n",
      "[info] koXBvLert_g: Downloading subtitles: en-uYU-mmqFLq8\n"
     ]
    },
    {
     "name": "stderr",
     "output_type": "stream",
     "text": [
      "WARNING: ffmpeg not found. The downloaded format may not be the best available. Installing ffmpeg is strongly recommended: https://github.com/yt-dlp/yt-dlp#dependencies\n"
     ]
    },
    {
     "name": "stdout",
     "output_type": "stream",
     "text": [
      "[youtube] Extracting URL: https://youtube.com/watch?v=koXBvLert_g\n",
      "[youtube] koXBvLert_g: Downloading webpage\n",
      "[youtube] koXBvLert_g: Downloading ios player API JSON\n",
      "[youtube] koXBvLert_g: Downloading web creator player API JSON\n",
      "[youtube] koXBvLert_g: Downloading m3u8 information\n",
      "[info] koXBvLert_g: Downloading subtitles: en\n"
     ]
    },
    {
     "name": "stderr",
     "output_type": "stream",
     "text": [
      "WARNING: ffmpeg not found. The downloaded format may not be the best available. Installing ffmpeg is strongly recommended: https://github.com/yt-dlp/yt-dlp#dependencies\n"
     ]
    },
    {
     "name": "stdout",
     "output_type": "stream",
     "text": [
      "[info] koXBvLert_g: Downloading 1 format(s): 18\n",
      "[info] Writing video subtitles to: data\\en_CNN\\See training camps used by Hamas for attack on Israel.en.vtt\n",
      "[hlsnative] Downloading m3u8 manifest\n",
      "[hlsnative] Total fragments: 1\n",
      "[download] Destination: data\\en_CNN\\See training camps used by Hamas for attack on Israel.en.vtt\n",
      "[download] 100% of    9.29KiB in 00:00:00 at 61.92KiB/s                \n",
      "[youtube] Extracting URL: https://youtube.com/watch?v=QPjz71xR7SM\n",
      "[youtube] QPjz71xR7SM: Downloading webpage\n",
      "[youtube] QPjz71xR7SM: Downloading ios player API JSON\n",
      "[youtube] QPjz71xR7SM: Downloading web creator player API JSON\n",
      "[youtube] QPjz71xR7SM: Downloading m3u8 information\n",
      "[info] QPjz71xR7SM: Downloading subtitles: en\n"
     ]
    },
    {
     "name": "stderr",
     "output_type": "stream",
     "text": [
      "WARNING: ffmpeg not found. The downloaded format may not be the best available. Installing ffmpeg is strongly recommended: https://github.com/yt-dlp/yt-dlp#dependencies\n"
     ]
    },
    {
     "name": "stdout",
     "output_type": "stream",
     "text": [
      "[youtube] Extracting URL: https://youtube.com/watch?v=QPjz71xR7SM\n",
      "[youtube] QPjz71xR7SM: Downloading webpage\n",
      "[youtube] QPjz71xR7SM: Downloading ios player API JSON\n",
      "[youtube] QPjz71xR7SM: Downloading web creator player API JSON\n",
      "[youtube] QPjz71xR7SM: Downloading m3u8 information\n",
      "[info] QPjz71xR7SM: Downloading subtitles: en\n"
     ]
    },
    {
     "name": "stderr",
     "output_type": "stream",
     "text": [
      "WARNING: ffmpeg not found. The downloaded format may not be the best available. Installing ffmpeg is strongly recommended: https://github.com/yt-dlp/yt-dlp#dependencies\n"
     ]
    },
    {
     "name": "stdout",
     "output_type": "stream",
     "text": [
      "[info] QPjz71xR7SM: Downloading 1 format(s): 18\n",
      "[info] Writing video subtitles to: data\\en_CNN\\Intense bombardment on Gaza City picks up during on-air segment. See the live pictures.en.vtt\n",
      "[download] Destination: data\\en_CNN\\Intense bombardment on Gaza City picks up during on-air segment. See the live pictures.en.vtt\n",
      "[download] 100% of   16.56KiB in 00:00:00 at 83.01KiB/s\n",
      "[youtube] Extracting URL: https://youtube.com/watch?v=D-9-A00vMoc\n",
      "[youtube] D-9-A00vMoc: Downloading webpage\n",
      "[youtube] D-9-A00vMoc: Downloading ios player API JSON\n",
      "[youtube] D-9-A00vMoc: Downloading web creator player API JSON\n",
      "[youtube] D-9-A00vMoc: Downloading m3u8 information\n",
      "[info] D-9-A00vMoc: Downloading subtitles: en\n"
     ]
    },
    {
     "name": "stderr",
     "output_type": "stream",
     "text": [
      "WARNING: ffmpeg not found. The downloaded format may not be the best available. Installing ffmpeg is strongly recommended: https://github.com/yt-dlp/yt-dlp#dependencies\n"
     ]
    },
    {
     "name": "stdout",
     "output_type": "stream",
     "text": [
      "[youtube] Extracting URL: https://youtube.com/watch?v=D-9-A00vMoc\n",
      "[youtube] D-9-A00vMoc: Downloading webpage\n",
      "[youtube] D-9-A00vMoc: Downloading ios player API JSON\n",
      "[youtube] D-9-A00vMoc: Downloading web creator player API JSON\n",
      "[youtube] D-9-A00vMoc: Downloading m3u8 information\n",
      "[info] D-9-A00vMoc: Downloading subtitles: en\n"
     ]
    },
    {
     "name": "stderr",
     "output_type": "stream",
     "text": [
      "WARNING: ffmpeg not found. The downloaded format may not be the best available. Installing ffmpeg is strongly recommended: https://github.com/yt-dlp/yt-dlp#dependencies\n"
     ]
    },
    {
     "name": "stdout",
     "output_type": "stream",
     "text": [
      "[info] D-9-A00vMoc: Downloading 1 format(s): 18\n",
      "[info] Writing video subtitles to: data\\en_CNN\\Israel warns 1.1 million people to leave northern Gaza.en.vtt\n",
      "[download] Destination: data\\en_CNN\\Israel warns 1.1 million people to leave northern Gaza.en.vtt\n",
      "[download] 100% of   17.55KiB in 00:00:00 at 104.94KiB/s\n",
      "[youtube] Extracting URL: https://youtube.com/watch?v=A2S4Vi4F348\n",
      "[youtube] A2S4Vi4F348: Downloading webpage\n",
      "[youtube] A2S4Vi4F348: Downloading ios player API JSON\n",
      "[youtube] A2S4Vi4F348: Downloading web creator player API JSON\n",
      "[youtube] A2S4Vi4F348: Downloading m3u8 information\n",
      "[info] A2S4Vi4F348: Downloading subtitles: en\n"
     ]
    },
    {
     "name": "stderr",
     "output_type": "stream",
     "text": [
      "WARNING: ffmpeg not found. The downloaded format may not be the best available. Installing ffmpeg is strongly recommended: https://github.com/yt-dlp/yt-dlp#dependencies\n"
     ]
    },
    {
     "name": "stdout",
     "output_type": "stream",
     "text": [
      "[youtube] Extracting URL: https://youtube.com/watch?v=A2S4Vi4F348\n",
      "[youtube] A2S4Vi4F348: Downloading webpage\n",
      "[youtube] A2S4Vi4F348: Downloading ios player API JSON\n",
      "[youtube] A2S4Vi4F348: Downloading web creator player API JSON\n",
      "[youtube] A2S4Vi4F348: Downloading m3u8 information\n",
      "[info] A2S4Vi4F348: Downloading subtitles: en\n"
     ]
    },
    {
     "name": "stderr",
     "output_type": "stream",
     "text": [
      "WARNING: ffmpeg not found. The downloaded format may not be the best available. Installing ffmpeg is strongly recommended: https://github.com/yt-dlp/yt-dlp#dependencies\n"
     ]
    },
    {
     "name": "stdout",
     "output_type": "stream",
     "text": [
      "[info] A2S4Vi4F348: Downloading 1 format(s): 18\n",
      "[info] Writing video subtitles to: data\\en_CNN\\Retired IDF general criticizes Israeli military We failed to defend civilians.en.vtt\n",
      "[download] Destination: data\\en_CNN\\Retired IDF general criticizes Israeli military We failed to defend civilians.en.vtt\n",
      "[download] 100% of   16.73KiB in 00:00:00 at 74.42KiB/s\n",
      "[youtube] Extracting URL: https://youtube.com/watch?v=satjcD2BGcQ\n",
      "[youtube] satjcD2BGcQ: Downloading webpage\n",
      "[youtube] satjcD2BGcQ: Downloading ios player API JSON\n",
      "[youtube] satjcD2BGcQ: Downloading web creator player API JSON\n",
      "[youtube] satjcD2BGcQ: Downloading m3u8 information\n"
     ]
    },
    {
     "name": "stderr",
     "output_type": "stream",
     "text": [
      "WARNING: ffmpeg not found. The downloaded format may not be the best available. Installing ffmpeg is strongly recommended: https://github.com/yt-dlp/yt-dlp#dependencies\n"
     ]
    },
    {
     "name": "stdout",
     "output_type": "stream",
     "text": [
      "subtitle file not found\n",
      "[youtube] Extracting URL: https://youtube.com/watch?v=WA_LUFCj5LQ\n",
      "[youtube] WA_LUFCj5LQ: Downloading webpage\n",
      "[youtube] WA_LUFCj5LQ: Downloading ios player API JSON\n",
      "[youtube] WA_LUFCj5LQ: Downloading web creator player API JSON\n",
      "[youtube] WA_LUFCj5LQ: Downloading m3u8 information\n",
      "[info] WA_LUFCj5LQ: Downloading subtitles: en\n"
     ]
    },
    {
     "name": "stderr",
     "output_type": "stream",
     "text": [
      "WARNING: ffmpeg not found. The downloaded format may not be the best available. Installing ffmpeg is strongly recommended: https://github.com/yt-dlp/yt-dlp#dependencies\n"
     ]
    },
    {
     "name": "stdout",
     "output_type": "stream",
     "text": [
      "[youtube] Extracting URL: https://youtube.com/watch?v=WA_LUFCj5LQ\n",
      "[youtube] WA_LUFCj5LQ: Downloading webpage\n",
      "[youtube] WA_LUFCj5LQ: Downloading ios player API JSON\n",
      "[youtube] WA_LUFCj5LQ: Downloading web creator player API JSON\n",
      "[youtube] WA_LUFCj5LQ: Downloading m3u8 information\n",
      "[info] WA_LUFCj5LQ: Downloading subtitles: en\n"
     ]
    },
    {
     "name": "stderr",
     "output_type": "stream",
     "text": [
      "WARNING: ffmpeg not found. The downloaded format may not be the best available. Installing ffmpeg is strongly recommended: https://github.com/yt-dlp/yt-dlp#dependencies\n"
     ]
    },
    {
     "name": "stdout",
     "output_type": "stream",
     "text": [
      "[info] WA_LUFCj5LQ: Downloading 1 format(s): 18\n",
      "[info] Writing video subtitles to: data\\en_CNN\\Israeli military shells southern Lebanon in response to explosion at security fence.en.vtt\n",
      "[download] Destination: data\\en_CNN\\Israeli military shells southern Lebanon in response to explosion at security fence.en.vtt\n",
      "[download] 100% of   15.64KiB in 00:00:00 at 69.82KiB/s\n",
      "[youtube] Extracting URL: https://youtube.com/watch?v=zGo5-FEKjkQ\n",
      "[youtube] zGo5-FEKjkQ: Downloading webpage\n",
      "[youtube] zGo5-FEKjkQ: Downloading ios player API JSON\n",
      "[youtube] zGo5-FEKjkQ: Downloading web creator player API JSON\n",
      "[youtube] zGo5-FEKjkQ: Downloading m3u8 information\n"
     ]
    },
    {
     "name": "stderr",
     "output_type": "stream",
     "text": [
      "WARNING: ffmpeg not found. The downloaded format may not be the best available. Installing ffmpeg is strongly recommended: https://github.com/yt-dlp/yt-dlp#dependencies\n"
     ]
    },
    {
     "name": "stdout",
     "output_type": "stream",
     "text": [
      "subtitle file not found\n",
      "[youtube] Extracting URL: https://youtube.com/watch?v=3PntaOSdyto\n",
      "[youtube] 3PntaOSdyto: Downloading webpage\n",
      "[youtube] 3PntaOSdyto: Downloading ios player API JSON\n",
      "[youtube] 3PntaOSdyto: Downloading web creator player API JSON\n",
      "[youtube] 3PntaOSdyto: Downloading m3u8 information\n",
      "[info] 3PntaOSdyto: Downloading subtitles: en\n"
     ]
    },
    {
     "name": "stderr",
     "output_type": "stream",
     "text": [
      "WARNING: ffmpeg not found. The downloaded format may not be the best available. Installing ffmpeg is strongly recommended: https://github.com/yt-dlp/yt-dlp#dependencies\n"
     ]
    },
    {
     "name": "stdout",
     "output_type": "stream",
     "text": [
      "[youtube] Extracting URL: https://youtube.com/watch?v=3PntaOSdyto\n",
      "[youtube] 3PntaOSdyto: Downloading webpage\n",
      "[youtube] 3PntaOSdyto: Downloading ios player API JSON\n",
      "[youtube] 3PntaOSdyto: Downloading web creator player API JSON\n",
      "[youtube] 3PntaOSdyto: Downloading m3u8 information\n",
      "[info] 3PntaOSdyto: Downloading subtitles: en\n"
     ]
    },
    {
     "name": "stderr",
     "output_type": "stream",
     "text": [
      "WARNING: ffmpeg not found. The downloaded format may not be the best available. Installing ffmpeg is strongly recommended: https://github.com/yt-dlp/yt-dlp#dependencies\n"
     ]
    },
    {
     "name": "stdout",
     "output_type": "stream",
     "text": [
      "[info] 3PntaOSdyto: Downloading 1 format(s): 18\n",
      "[info] Writing video subtitles to: data\\en_CNN\\Israeli troops have carried out local raids in Gaza, IDF says.en.vtt\n",
      "[download] Destination: data\\en_CNN\\Israeli troops have carried out local raids in Gaza, IDF says.en.vtt\n",
      "[download] 100% of   18.43KiB in 00:00:00 at 92.88KiB/s\n",
      "[youtube] Extracting URL: https://youtube.com/watch?v=ViGf_NojEWg\n",
      "[youtube] ViGf_NojEWg: Downloading webpage\n",
      "[youtube] ViGf_NojEWg: Downloading ios player API JSON\n",
      "[youtube] ViGf_NojEWg: Downloading web creator player API JSON\n",
      "[youtube] ViGf_NojEWg: Downloading m3u8 information\n",
      "[info] ViGf_NojEWg: Downloading subtitles: en\n"
     ]
    },
    {
     "name": "stderr",
     "output_type": "stream",
     "text": [
      "WARNING: ffmpeg not found. The downloaded format may not be the best available. Installing ffmpeg is strongly recommended: https://github.com/yt-dlp/yt-dlp#dependencies\n"
     ]
    },
    {
     "name": "stdout",
     "output_type": "stream",
     "text": [
      "[youtube] Extracting URL: https://youtube.com/watch?v=ViGf_NojEWg\n",
      "[youtube] ViGf_NojEWg: Downloading webpage\n",
      "[youtube] ViGf_NojEWg: Downloading ios player API JSON\n",
      "[youtube] ViGf_NojEWg: Downloading web creator player API JSON\n",
      "[youtube] ViGf_NojEWg: Downloading m3u8 information\n",
      "[info] ViGf_NojEWg: Downloading subtitles: en\n"
     ]
    },
    {
     "name": "stderr",
     "output_type": "stream",
     "text": [
      "WARNING: ffmpeg not found. The downloaded format may not be the best available. Installing ffmpeg is strongly recommended: https://github.com/yt-dlp/yt-dlp#dependencies\n"
     ]
    },
    {
     "name": "stdout",
     "output_type": "stream",
     "text": [
      "[info] ViGf_NojEWg: Downloading 1 format(s): 18\n",
      "[info] Writing video subtitles to: data\\en_CNN\\US intelligence warned of potential for Gaza clash in days before attack.en.vtt\n",
      "[download] Destination: data\\en_CNN\\US intelligence warned of potential for Gaza clash in days before attack.en.vtt\n",
      "[download] 100% of   20.45KiB in 00:00:00 at 47.97KiB/s\n",
      "[youtube] Extracting URL: https://youtube.com/watch?v=g21TVxor7iE\n",
      "[youtube] g21TVxor7iE: Downloading webpage\n",
      "[youtube] g21TVxor7iE: Downloading ios player API JSON\n",
      "[youtube] g21TVxor7iE: This video is age-restricted; some formats may be missing without authentication. Use --cookies-from-browser or --cookies for the authentication. See  https://github.com/yt-dlp/yt-dlp/wiki/FAQ#how-do-i-pass-cookies-to-yt-dlp  for how to manually pass cookies\n",
      "[youtube] g21TVxor7iE: Downloading tv embedded player API JSON\n",
      "[youtube] g21TVxor7iE: Downloading web creator player API JSON\n",
      "[info] g21TVxor7iE: Downloading subtitles: en-uYU-mmqFLq8\n"
     ]
    },
    {
     "name": "stderr",
     "output_type": "stream",
     "text": [
      "WARNING: ffmpeg not found. The downloaded format may not be the best available. Installing ffmpeg is strongly recommended: https://github.com/yt-dlp/yt-dlp#dependencies\n"
     ]
    },
    {
     "name": "stdout",
     "output_type": "stream",
     "text": [
      "[youtube] Extracting URL: https://youtube.com/watch?v=g21TVxor7iE\n",
      "[youtube] g21TVxor7iE: Downloading webpage\n",
      "[youtube] g21TVxor7iE: Downloading ios player API JSON\n",
      "[youtube] g21TVxor7iE: This video is age-restricted; some formats may be missing without authentication. Use --cookies-from-browser or --cookies for the authentication. See  https://github.com/yt-dlp/yt-dlp/wiki/FAQ#how-do-i-pass-cookies-to-yt-dlp  for how to manually pass cookies\n",
      "[youtube] g21TVxor7iE: Downloading tv embedded player API JSON\n",
      "[youtube] g21TVxor7iE: Downloading web creator player API JSON\n",
      "[info] g21TVxor7iE: Downloading subtitles: ab-en-uYU-mmqFLq8\n"
     ]
    },
    {
     "name": "stderr",
     "output_type": "stream",
     "text": [
      "WARNING: ffmpeg not found. The downloaded format may not be the best available. Installing ffmpeg is strongly recommended: https://github.com/yt-dlp/yt-dlp#dependencies\n"
     ]
    },
    {
     "name": "stdout",
     "output_type": "stream",
     "text": [
      "[info] g21TVxor7iE: Downloading 1 format(s): 18\n",
      "[info] Writing video subtitles to: data\\en_CNN\\Videos show impact of strikes on children in Gaza.ab-en-uYU-mmqFLq8.vtt\n",
      "[download] Destination: data\\en_CNN\\Videos show impact of strikes on children in Gaza.ab-en-uYU-mmqFLq8.vtt\n",
      "[download] 100% of   26.64KiB in 00:00:00 at 64.15KiB/s\n",
      "[youtube] Extracting URL: https://youtube.com/watch?v=mc6MIsq2voU\n",
      "[youtube] mc6MIsq2voU: Downloading webpage\n",
      "[youtube] mc6MIsq2voU: Downloading ios player API JSON\n",
      "[youtube] mc6MIsq2voU: Downloading web creator player API JSON\n",
      "[youtube] mc6MIsq2voU: Downloading m3u8 information\n"
     ]
    },
    {
     "name": "stderr",
     "output_type": "stream",
     "text": [
      "WARNING: ffmpeg not found. The downloaded format may not be the best available. Installing ffmpeg is strongly recommended: https://github.com/yt-dlp/yt-dlp#dependencies\n"
     ]
    },
    {
     "name": "stdout",
     "output_type": "stream",
     "text": [
      "subtitle file not found\n",
      "[youtube] Extracting URL: https://youtube.com/watch?v=sScDHHNaHjI\n",
      "[youtube] sScDHHNaHjI: Downloading webpage\n",
      "[youtube] sScDHHNaHjI: Downloading ios player API JSON\n",
      "[youtube] sScDHHNaHjI: Downloading web creator player API JSON\n",
      "[youtube] sScDHHNaHjI: Downloading m3u8 information\n",
      "[info] sScDHHNaHjI: Downloading subtitles: en\n"
     ]
    },
    {
     "name": "stderr",
     "output_type": "stream",
     "text": [
      "WARNING: ffmpeg not found. The downloaded format may not be the best available. Installing ffmpeg is strongly recommended: https://github.com/yt-dlp/yt-dlp#dependencies\n"
     ]
    },
    {
     "name": "stdout",
     "output_type": "stream",
     "text": [
      "[youtube] Extracting URL: https://youtube.com/watch?v=sScDHHNaHjI\n",
      "[youtube] sScDHHNaHjI: Downloading webpage\n",
      "[youtube] sScDHHNaHjI: Downloading ios player API JSON\n",
      "[youtube] sScDHHNaHjI: Downloading web creator player API JSON\n",
      "[youtube] sScDHHNaHjI: Downloading m3u8 information\n",
      "[info] sScDHHNaHjI: Downloading subtitles: en\n"
     ]
    },
    {
     "name": "stderr",
     "output_type": "stream",
     "text": [
      "WARNING: ffmpeg not found. The downloaded format may not be the best available. Installing ffmpeg is strongly recommended: https://github.com/yt-dlp/yt-dlp#dependencies\n"
     ]
    },
    {
     "name": "stdout",
     "output_type": "stream",
     "text": [
      "[info] sScDHHNaHjI: Downloading 1 format(s): 18\n",
      "[info] Writing video subtitles to: data\\en_CNN\\How Hamas trapped civilians at music festival.en.vtt\n",
      "[download] Destination: data\\en_CNN\\How Hamas trapped civilians at music festival.en.vtt\n",
      "[download] 100% of   14.13KiB in 00:00:00 at 149.21KiB/s\n",
      "[youtube] Extracting URL: https://youtube.com/watch?v=aoOW0msPdOo\n",
      "[youtube] aoOW0msPdOo: Downloading webpage\n",
      "[youtube] aoOW0msPdOo: Downloading ios player API JSON\n",
      "[youtube] aoOW0msPdOo: Downloading web creator player API JSON\n",
      "[youtube] aoOW0msPdOo: Downloading m3u8 information\n"
     ]
    },
    {
     "name": "stderr",
     "output_type": "stream",
     "text": [
      "WARNING: ffmpeg not found. The downloaded format may not be the best available. Installing ffmpeg is strongly recommended: https://github.com/yt-dlp/yt-dlp#dependencies\n"
     ]
    },
    {
     "name": "stdout",
     "output_type": "stream",
     "text": [
      "subtitle file not found\n",
      "[youtube] Extracting URL: https://youtube.com/watch?v=Cyp03W2SXyc\n",
      "[youtube] Cyp03W2SXyc: Downloading webpage\n",
      "[youtube] Cyp03W2SXyc: Downloading ios player API JSON\n",
      "[youtube] Cyp03W2SXyc: Downloading web creator player API JSON\n",
      "[youtube] Cyp03W2SXyc: Downloading m3u8 information\n",
      "[info] Cyp03W2SXyc: Downloading subtitles: en\n"
     ]
    },
    {
     "name": "stderr",
     "output_type": "stream",
     "text": [
      "WARNING: ffmpeg not found. The downloaded format may not be the best available. Installing ffmpeg is strongly recommended: https://github.com/yt-dlp/yt-dlp#dependencies\n"
     ]
    },
    {
     "name": "stdout",
     "output_type": "stream",
     "text": [
      "[youtube] Extracting URL: https://youtube.com/watch?v=Cyp03W2SXyc\n",
      "[youtube] Cyp03W2SXyc: Downloading webpage\n",
      "[youtube] Cyp03W2SXyc: Downloading ios player API JSON\n",
      "[youtube] Cyp03W2SXyc: Downloading web creator player API JSON\n",
      "[youtube] Cyp03W2SXyc: Downloading m3u8 information\n",
      "[info] Cyp03W2SXyc: Downloading subtitles: en\n"
     ]
    },
    {
     "name": "stderr",
     "output_type": "stream",
     "text": [
      "WARNING: ffmpeg not found. The downloaded format may not be the best available. Installing ffmpeg is strongly recommended: https://github.com/yt-dlp/yt-dlp#dependencies\n"
     ]
    },
    {
     "name": "stdout",
     "output_type": "stream",
     "text": [
      "[info] Cyp03W2SXyc: Downloading 1 format(s): 18\n",
      "[info] Writing video subtitles to: data\\en_CNN\\Weapons used by Hamas militants appear to be Russian or Chinese made.en.vtt\n",
      "[download] Destination: data\\en_CNN\\Weapons used by Hamas militants appear to be Russian or Chinese made.en.vtt\n",
      "[download] 100% of   14.90KiB in 00:00:00 at 84.02KiB/s\n",
      "[youtube] Extracting URL: https://youtube.com/watch?v=C5Rv6c3NP3s\n",
      "[youtube] C5Rv6c3NP3s: Downloading webpage\n",
      "[youtube] C5Rv6c3NP3s: Downloading ios player API JSON\n",
      "[youtube] C5Rv6c3NP3s: Downloading web creator player API JSON\n",
      "[youtube] C5Rv6c3NP3s: Downloading m3u8 information\n",
      "[info] C5Rv6c3NP3s: Downloading subtitles: en\n"
     ]
    },
    {
     "name": "stderr",
     "output_type": "stream",
     "text": [
      "WARNING: ffmpeg not found. The downloaded format may not be the best available. Installing ffmpeg is strongly recommended: https://github.com/yt-dlp/yt-dlp#dependencies\n"
     ]
    },
    {
     "name": "stdout",
     "output_type": "stream",
     "text": [
      "[youtube] Extracting URL: https://youtube.com/watch?v=C5Rv6c3NP3s\n",
      "[youtube] C5Rv6c3NP3s: Downloading webpage\n",
      "[youtube] C5Rv6c3NP3s: Downloading ios player API JSON\n",
      "[youtube] C5Rv6c3NP3s: Downloading web creator player API JSON\n",
      "[youtube] C5Rv6c3NP3s: Downloading m3u8 information\n",
      "[info] C5Rv6c3NP3s: Downloading subtitles: en\n"
     ]
    },
    {
     "name": "stderr",
     "output_type": "stream",
     "text": [
      "WARNING: ffmpeg not found. The downloaded format may not be the best available. Installing ffmpeg is strongly recommended: https://github.com/yt-dlp/yt-dlp#dependencies\n"
     ]
    },
    {
     "name": "stdout",
     "output_type": "stream",
     "text": [
      "[info] C5Rv6c3NP3s: Downloading 1 format(s): 18\n",
      "[info] Writing video subtitles to: data\\en_CNN\\Retired colonel Military buildup around Gaza ‘reminiscent of a scene from D-Day’.en.vtt\n",
      "[download] Destination: data\\en_CNN\\Retired colonel Military buildup around Gaza ‘reminiscent of a scene from D-Day’.en.vtt\n",
      "[download] 100% of   22.26KiB in 00:00:00 at 191.94KiB/s\n",
      "[youtube] Extracting URL: https://youtube.com/watch?v=0upJacn86cA\n",
      "[youtube] 0upJacn86cA: Downloading webpage\n",
      "[youtube] 0upJacn86cA: Downloading ios player API JSON\n",
      "[youtube] 0upJacn86cA: This video is age-restricted; some formats may be missing without authentication. Use --cookies-from-browser or --cookies for the authentication. See  https://github.com/yt-dlp/yt-dlp/wiki/FAQ#how-do-i-pass-cookies-to-yt-dlp  for how to manually pass cookies\n",
      "[youtube] 0upJacn86cA: Downloading tv embedded player API JSON\n",
      "[youtube] 0upJacn86cA: Downloading web creator player API JSON\n",
      "[info] 0upJacn86cA: Downloading subtitles: en-uYU-mmqFLq8\n"
     ]
    },
    {
     "name": "stderr",
     "output_type": "stream",
     "text": [
      "WARNING: ffmpeg not found. The downloaded format may not be the best available. Installing ffmpeg is strongly recommended: https://github.com/yt-dlp/yt-dlp#dependencies\n"
     ]
    },
    {
     "name": "stdout",
     "output_type": "stream",
     "text": [
      "[youtube] Extracting URL: https://youtube.com/watch?v=0upJacn86cA\n",
      "[youtube] 0upJacn86cA: Downloading webpage\n",
      "[youtube] 0upJacn86cA: Downloading ios player API JSON\n",
      "[youtube] 0upJacn86cA: This video is age-restricted; some formats may be missing without authentication. Use --cookies-from-browser or --cookies for the authentication. See  https://github.com/yt-dlp/yt-dlp/wiki/FAQ#how-do-i-pass-cookies-to-yt-dlp  for how to manually pass cookies\n",
      "[youtube] 0upJacn86cA: Downloading tv embedded player API JSON\n",
      "[youtube] 0upJacn86cA: Downloading web creator player API JSON\n",
      "[info] 0upJacn86cA: Downloading subtitles: ab-en-uYU-mmqFLq8\n"
     ]
    },
    {
     "name": "stderr",
     "output_type": "stream",
     "text": [
      "WARNING: ffmpeg not found. The downloaded format may not be the best available. Installing ffmpeg is strongly recommended: https://github.com/yt-dlp/yt-dlp#dependencies\n"
     ]
    },
    {
     "name": "stdout",
     "output_type": "stream",
     "text": [
      "[info] 0upJacn86cA: Downloading 1 format(s): 18\n",
      "[info] Writing video subtitles to: data\\en_CNN\\Horrifying video shows the moments at the site of Israel music festival.ab-en-uYU-mmqFLq8.vtt\n",
      "[download] Destination: data\\en_CNN\\Horrifying video shows the moments at the site of Israel music festival.ab-en-uYU-mmqFLq8.vtt\n",
      "[download] 100% of   34.87KiB in 00:00:00 at 86.20KiB/s\n",
      "[youtube] Extracting URL: https://youtube.com/watch?v=3fMALiXAduU\n",
      "[youtube] 3fMALiXAduU: Downloading webpage\n",
      "[youtube] 3fMALiXAduU: Downloading ios player API JSON\n",
      "[youtube] 3fMALiXAduU: Downloading web creator player API JSON\n",
      "[youtube] 3fMALiXAduU: Downloading m3u8 information\n",
      "[info] 3fMALiXAduU: Downloading subtitles: en\n"
     ]
    },
    {
     "name": "stderr",
     "output_type": "stream",
     "text": [
      "WARNING: ffmpeg not found. The downloaded format may not be the best available. Installing ffmpeg is strongly recommended: https://github.com/yt-dlp/yt-dlp#dependencies\n"
     ]
    },
    {
     "name": "stdout",
     "output_type": "stream",
     "text": [
      "[youtube] Extracting URL: https://youtube.com/watch?v=3fMALiXAduU\n",
      "[youtube] 3fMALiXAduU: Downloading webpage\n",
      "[youtube] 3fMALiXAduU: Downloading ios player API JSON\n",
      "[youtube] 3fMALiXAduU: Downloading web creator player API JSON\n",
      "[youtube] 3fMALiXAduU: Downloading m3u8 information\n",
      "[info] 3fMALiXAduU: Downloading subtitles: en\n"
     ]
    },
    {
     "name": "stderr",
     "output_type": "stream",
     "text": [
      "WARNING: ffmpeg not found. The downloaded format may not be the best available. Installing ffmpeg is strongly recommended: https://github.com/yt-dlp/yt-dlp#dependencies\n"
     ]
    },
    {
     "name": "stdout",
     "output_type": "stream",
     "text": [
      "[info] 3fMALiXAduU: Downloading 1 format(s): 18\n",
      "[info] Writing video subtitles to: data\\en_CNN\\Why Gaetz doesn't regret ousting McCarthy, even amid Israel-Hamas conflict.en.vtt\n",
      "[download] Destination: data\\en_CNN\\Why Gaetz doesn't regret ousting McCarthy, even amid Israel-Hamas conflict.en.vtt\n",
      "[download] 100% of   19.86KiB in 00:00:00 at 85.64KiB/s\n",
      "[youtube] Extracting URL: https://youtube.com/watch?v=VlQiCdqFURM\n",
      "[youtube] VlQiCdqFURM: Downloading webpage\n",
      "[youtube] VlQiCdqFURM: Downloading ios player API JSON\n",
      "[youtube] VlQiCdqFURM: Downloading web creator player API JSON\n",
      "[youtube] VlQiCdqFURM: Downloading m3u8 information\n",
      "[info] VlQiCdqFURM: Downloading subtitles: en\n"
     ]
    },
    {
     "name": "stderr",
     "output_type": "stream",
     "text": [
      "WARNING: ffmpeg not found. The downloaded format may not be the best available. Installing ffmpeg is strongly recommended: https://github.com/yt-dlp/yt-dlp#dependencies\n"
     ]
    },
    {
     "name": "stdout",
     "output_type": "stream",
     "text": [
      "[youtube] Extracting URL: https://youtube.com/watch?v=VlQiCdqFURM\n",
      "[youtube] VlQiCdqFURM: Downloading webpage\n",
      "[youtube] VlQiCdqFURM: Downloading ios player API JSON\n",
      "[youtube] VlQiCdqFURM: Downloading web creator player API JSON\n",
      "[youtube] VlQiCdqFURM: Downloading m3u8 information\n",
      "[info] VlQiCdqFURM: Downloading subtitles: en\n"
     ]
    },
    {
     "name": "stderr",
     "output_type": "stream",
     "text": [
      "WARNING: ffmpeg not found. The downloaded format may not be the best available. Installing ffmpeg is strongly recommended: https://github.com/yt-dlp/yt-dlp#dependencies\n"
     ]
    },
    {
     "name": "stdout",
     "output_type": "stream",
     "text": [
      "[info] VlQiCdqFURM: Downloading 1 format(s): 18\n",
      "[info] Writing video subtitles to: data\\en_CNN\\Why this expert thinks everyone's mental health is 'at risk' from Israel-Hamas war.en.vtt\n",
      "[download] Destination: data\\en_CNN\\Why this expert thinks everyone's mental health is 'at risk' from Israel-Hamas war.en.vtt\n",
      "[download] 100% of   10.63KiB in 00:00:00 at 73.84KiB/s\n",
      "[youtube] Extracting URL: https://youtube.com/watch?v=IfWjwKl-CA8\n",
      "[youtube] IfWjwKl-CA8: Downloading webpage\n",
      "[youtube] IfWjwKl-CA8: Downloading ios player API JSON\n",
      "[youtube] IfWjwKl-CA8: Downloading web creator player API JSON\n",
      "[youtube] IfWjwKl-CA8: Downloading m3u8 information\n",
      "[info] IfWjwKl-CA8: Downloading subtitles: en\n"
     ]
    },
    {
     "name": "stderr",
     "output_type": "stream",
     "text": [
      "WARNING: ffmpeg not found. The downloaded format may not be the best available. Installing ffmpeg is strongly recommended: https://github.com/yt-dlp/yt-dlp#dependencies\n"
     ]
    },
    {
     "name": "stdout",
     "output_type": "stream",
     "text": [
      "[youtube] Extracting URL: https://youtube.com/watch?v=IfWjwKl-CA8\n",
      "[youtube] IfWjwKl-CA8: Downloading webpage\n",
      "[youtube] IfWjwKl-CA8: Downloading ios player API JSON\n",
      "[youtube] IfWjwKl-CA8: Downloading web creator player API JSON\n",
      "[youtube] IfWjwKl-CA8: Downloading m3u8 information\n",
      "[info] IfWjwKl-CA8: Downloading subtitles: en\n"
     ]
    },
    {
     "name": "stderr",
     "output_type": "stream",
     "text": [
      "WARNING: ffmpeg not found. The downloaded format may not be the best available. Installing ffmpeg is strongly recommended: https://github.com/yt-dlp/yt-dlp#dependencies\n"
     ]
    },
    {
     "name": "stdout",
     "output_type": "stream",
     "text": [
      "[info] IfWjwKl-CA8: Downloading 1 format(s): 18\n",
      "[info] Writing video subtitles to: data\\en_CNN\\Analyst How Hamas is using cryptocurrency to raise funds.en.vtt\n",
      "[download] Destination: data\\en_CNN\\Analyst How Hamas is using cryptocurrency to raise funds.en.vtt\n",
      "[download] 100% of    9.65KiB in 00:00:00 at 112.22KiB/s\n",
      "[youtube] Extracting URL: https://youtube.com/watch?v=EtAz61fKLeg\n",
      "[youtube] EtAz61fKLeg: Downloading webpage\n",
      "[youtube] EtAz61fKLeg: Downloading ios player API JSON\n",
      "[youtube] EtAz61fKLeg: Downloading web creator player API JSON\n",
      "[youtube] EtAz61fKLeg: Downloading m3u8 information\n",
      "[info] EtAz61fKLeg: Downloading subtitles: en\n"
     ]
    },
    {
     "name": "stderr",
     "output_type": "stream",
     "text": [
      "WARNING: ffmpeg not found. The downloaded format may not be the best available. Installing ffmpeg is strongly recommended: https://github.com/yt-dlp/yt-dlp#dependencies\n"
     ]
    },
    {
     "name": "stdout",
     "output_type": "stream",
     "text": [
      "[youtube] Extracting URL: https://youtube.com/watch?v=EtAz61fKLeg\n",
      "[youtube] EtAz61fKLeg: Downloading webpage\n",
      "[youtube] EtAz61fKLeg: Downloading ios player API JSON\n",
      "[youtube] EtAz61fKLeg: Downloading web creator player API JSON\n",
      "[youtube] EtAz61fKLeg: Downloading m3u8 information\n",
      "[info] EtAz61fKLeg: Downloading subtitles: en\n"
     ]
    },
    {
     "name": "stderr",
     "output_type": "stream",
     "text": [
      "WARNING: ffmpeg not found. The downloaded format may not be the best available. Installing ffmpeg is strongly recommended: https://github.com/yt-dlp/yt-dlp#dependencies\n"
     ]
    },
    {
     "name": "stdout",
     "output_type": "stream",
     "text": [
      "[info] EtAz61fKLeg: Downloading 1 format(s): 18\n",
      "[info] Writing video subtitles to: data\\en_CNN\\'Israelis are bombing the crap out of Gaza' Tapper presses Biden official on American hostages.en.vtt\n",
      "[download] Destination: data\\en_CNN\\'Israelis are bombing the crap out of Gaza' Tapper presses Biden official on American hostages.en.vtt\n",
      "[download] 100% of   21.89KiB in 00:00:00 at 109.50KiB/s\n",
      "[youtube] Extracting URL: https://youtube.com/watch?v=rs_hCX_JmyM\n",
      "[youtube] rs_hCX_JmyM: Downloading webpage\n",
      "[youtube] rs_hCX_JmyM: Downloading ios player API JSON\n",
      "[youtube] rs_hCX_JmyM: Downloading web creator player API JSON\n",
      "[youtube] rs_hCX_JmyM: Downloading m3u8 information\n",
      "[info] rs_hCX_JmyM: Downloading subtitles: en\n"
     ]
    },
    {
     "name": "stderr",
     "output_type": "stream",
     "text": [
      "WARNING: ffmpeg not found. The downloaded format may not be the best available. Installing ffmpeg is strongly recommended: https://github.com/yt-dlp/yt-dlp#dependencies\n"
     ]
    },
    {
     "name": "stdout",
     "output_type": "stream",
     "text": [
      "[youtube] Extracting URL: https://youtube.com/watch?v=rs_hCX_JmyM\n",
      "[youtube] rs_hCX_JmyM: Downloading webpage\n",
      "[youtube] rs_hCX_JmyM: Downloading ios player API JSON\n",
      "[youtube] rs_hCX_JmyM: Downloading web creator player API JSON\n",
      "[youtube] rs_hCX_JmyM: Downloading m3u8 information\n",
      "[info] rs_hCX_JmyM: Downloading subtitles: en\n"
     ]
    },
    {
     "name": "stderr",
     "output_type": "stream",
     "text": [
      "WARNING: ffmpeg not found. The downloaded format may not be the best available. Installing ffmpeg is strongly recommended: https://github.com/yt-dlp/yt-dlp#dependencies\n"
     ]
    },
    {
     "name": "stdout",
     "output_type": "stream",
     "text": [
      "[info] rs_hCX_JmyM: Downloading 1 format(s): 18\n",
      "[info] Writing video subtitles to: data\\en_CNN\\'You don't compliment any of them' Haley responds to Trump's Hamas comment.en.vtt\n",
      "[download] Destination: data\\en_CNN\\'You don't compliment any of them' Haley responds to Trump's Hamas comment.en.vtt\n",
      "[download] 100% of   24.61KiB in 00:00:00 at 100.52KiB/s\n",
      "[youtube] Extracting URL: https://youtube.com/watch?v=gTgMZmSdkHY\n",
      "[youtube] gTgMZmSdkHY: Downloading webpage\n",
      "[youtube] gTgMZmSdkHY: Downloading ios player API JSON\n",
      "[youtube] gTgMZmSdkHY: Downloading web creator player API JSON\n",
      "[youtube] gTgMZmSdkHY: Downloading m3u8 information\n",
      "[info] gTgMZmSdkHY: Downloading subtitles: en\n"
     ]
    },
    {
     "name": "stderr",
     "output_type": "stream",
     "text": [
      "WARNING: ffmpeg not found. The downloaded format may not be the best available. Installing ffmpeg is strongly recommended: https://github.com/yt-dlp/yt-dlp#dependencies\n"
     ]
    },
    {
     "name": "stdout",
     "output_type": "stream",
     "text": [
      "[youtube] Extracting URL: https://youtube.com/watch?v=gTgMZmSdkHY\n",
      "[youtube] gTgMZmSdkHY: Downloading webpage\n",
      "[youtube] gTgMZmSdkHY: Downloading ios player API JSON\n",
      "[youtube] gTgMZmSdkHY: Downloading web creator player API JSON\n",
      "[youtube] gTgMZmSdkHY: Downloading m3u8 information\n",
      "[info] gTgMZmSdkHY: Downloading subtitles: en\n"
     ]
    },
    {
     "name": "stderr",
     "output_type": "stream",
     "text": [
      "WARNING: ffmpeg not found. The downloaded format may not be the best available. Installing ffmpeg is strongly recommended: https://github.com/yt-dlp/yt-dlp#dependencies\n"
     ]
    },
    {
     "name": "stdout",
     "output_type": "stream",
     "text": [
      "[info] gTgMZmSdkHY: Downloading 1 format(s): 18\n",
      "[info] Writing video subtitles to: data\\en_CNN\\Hear what the Israeli ambassador to the US says about plans for Gaza after war.en.vtt\n",
      "[download] Destination: data\\en_CNN\\Hear what the Israeli ambassador to the US says about plans for Gaza after war.en.vtt\n",
      "[download] 100% of   10.53KiB in 00:00:00 at 65.05KiB/s\n",
      "[youtube] Extracting URL: https://youtube.com/watch?v=2FHmHpe2P6o\n",
      "[youtube] 2FHmHpe2P6o: Downloading webpage\n",
      "[youtube] 2FHmHpe2P6o: Downloading ios player API JSON\n",
      "[youtube] 2FHmHpe2P6o: Downloading web creator player API JSON\n",
      "[youtube] 2FHmHpe2P6o: Downloading m3u8 information\n",
      "[info] 2FHmHpe2P6o: Downloading subtitles: en\n"
     ]
    },
    {
     "name": "stderr",
     "output_type": "stream",
     "text": [
      "WARNING: ffmpeg not found. The downloaded format may not be the best available. Installing ffmpeg is strongly recommended: https://github.com/yt-dlp/yt-dlp#dependencies\n"
     ]
    },
    {
     "name": "stdout",
     "output_type": "stream",
     "text": [
      "[youtube] Extracting URL: https://youtube.com/watch?v=2FHmHpe2P6o\n",
      "[youtube] 2FHmHpe2P6o: Downloading webpage\n",
      "[youtube] 2FHmHpe2P6o: Downloading ios player API JSON\n",
      "[youtube] 2FHmHpe2P6o: Downloading web creator player API JSON\n",
      "[youtube] 2FHmHpe2P6o: Downloading m3u8 information\n",
      "[info] 2FHmHpe2P6o: Downloading subtitles: en\n"
     ]
    },
    {
     "name": "stderr",
     "output_type": "stream",
     "text": [
      "WARNING: ffmpeg not found. The downloaded format may not be the best available. Installing ffmpeg is strongly recommended: https://github.com/yt-dlp/yt-dlp#dependencies\n"
     ]
    },
    {
     "name": "stdout",
     "output_type": "stream",
     "text": [
      "[info] 2FHmHpe2P6o: Downloading 1 format(s): 18\n",
      "[info] Writing video subtitles to: data\\en_CNN\\Military analyst Hamas is losing the second phase of their plan already.en.vtt\n",
      "[download] Destination: data\\en_CNN\\Military analyst Hamas is losing the second phase of their plan already.en.vtt\n",
      "[download] 100% of    9.46KiB in 00:00:00 at 63.67KiB/s\n",
      "[youtube] Extracting URL: https://youtube.com/watch?v=GI0810gD6Eg\n",
      "[youtube] GI0810gD6Eg: Downloading webpage\n",
      "[youtube] GI0810gD6Eg: Downloading ios player API JSON\n",
      "[youtube] GI0810gD6Eg: Downloading web creator player API JSON\n",
      "[youtube] GI0810gD6Eg: Downloading m3u8 information\n",
      "[info] GI0810gD6Eg: Downloading subtitles: en\n"
     ]
    },
    {
     "name": "stderr",
     "output_type": "stream",
     "text": [
      "WARNING: ffmpeg not found. The downloaded format may not be the best available. Installing ffmpeg is strongly recommended: https://github.com/yt-dlp/yt-dlp#dependencies\n"
     ]
    },
    {
     "name": "stdout",
     "output_type": "stream",
     "text": [
      "[youtube] Extracting URL: https://youtube.com/watch?v=GI0810gD6Eg\n",
      "[youtube] GI0810gD6Eg: Downloading webpage\n",
      "[youtube] GI0810gD6Eg: Downloading ios player API JSON\n",
      "[youtube] GI0810gD6Eg: Downloading web creator player API JSON\n",
      "[youtube] GI0810gD6Eg: Downloading m3u8 information\n",
      "[info] GI0810gD6Eg: Downloading subtitles: en\n"
     ]
    },
    {
     "name": "stderr",
     "output_type": "stream",
     "text": [
      "WARNING: ffmpeg not found. The downloaded format may not be the best available. Installing ffmpeg is strongly recommended: https://github.com/yt-dlp/yt-dlp#dependencies\n"
     ]
    },
    {
     "name": "stdout",
     "output_type": "stream",
     "text": [
      "[info] GI0810gD6Eg: Downloading 1 format(s): 18\n",
      "[info] Writing video subtitles to: data\\en_CNN\\Fareed shares what the 'severest setback' would be for Hamas now.en.vtt\n",
      "[download] Destination: data\\en_CNN\\Fareed shares what the 'severest setback' would be for Hamas now.en.vtt\n",
      "[download] 100% of   10.11KiB in 00:00:00 at 51.71KiB/s\n",
      "[youtube] Extracting URL: https://youtube.com/watch?v=GoRBO7Hu9KM\n",
      "[youtube] GoRBO7Hu9KM: Downloading webpage\n",
      "[youtube] GoRBO7Hu9KM: Downloading ios player API JSON\n",
      "[youtube] GoRBO7Hu9KM: Downloading web creator player API JSON\n",
      "[youtube] GoRBO7Hu9KM: Downloading m3u8 information\n",
      "[info] GoRBO7Hu9KM: Downloading subtitles: en\n"
     ]
    },
    {
     "name": "stderr",
     "output_type": "stream",
     "text": [
      "WARNING: ffmpeg not found. The downloaded format may not be the best available. Installing ffmpeg is strongly recommended: https://github.com/yt-dlp/yt-dlp#dependencies\n"
     ]
    },
    {
     "name": "stdout",
     "output_type": "stream",
     "text": [
      "[youtube] Extracting URL: https://youtube.com/watch?v=GoRBO7Hu9KM\n",
      "[youtube] GoRBO7Hu9KM: Downloading webpage\n",
      "[youtube] GoRBO7Hu9KM: Downloading ios player API JSON\n",
      "[youtube] GoRBO7Hu9KM: Downloading web creator player API JSON\n",
      "[youtube] GoRBO7Hu9KM: Downloading m3u8 information\n",
      "[info] GoRBO7Hu9KM: Downloading subtitles: en\n"
     ]
    },
    {
     "name": "stderr",
     "output_type": "stream",
     "text": [
      "WARNING: ffmpeg not found. The downloaded format may not be the best available. Installing ffmpeg is strongly recommended: https://github.com/yt-dlp/yt-dlp#dependencies\n"
     ]
    },
    {
     "name": "stdout",
     "output_type": "stream",
     "text": [
      "[info] GoRBO7Hu9KM: Downloading 1 format(s): 18\n",
      "[info] Writing video subtitles to: data\\en_CNN\\'A mistake' Biden warns against Israel occupying Gaza.en.vtt\n",
      "[download] Destination: data\\en_CNN\\'A mistake' Biden warns against Israel occupying Gaza.en.vtt\n",
      "[download] 100% of   14.56KiB in 00:00:00 at 103.57KiB/s\n",
      "[youtube] Extracting URL: https://youtube.com/watch?v=71K-V7Du_FE\n",
      "[youtube] 71K-V7Du_FE: Downloading webpage\n",
      "[youtube] 71K-V7Du_FE: Downloading ios player API JSON\n",
      "[youtube] 71K-V7Du_FE: Downloading web creator player API JSON\n",
      "[youtube] 71K-V7Du_FE: Downloading m3u8 information\n",
      "[info] 71K-V7Du_FE: Downloading subtitles: en\n"
     ]
    },
    {
     "name": "stderr",
     "output_type": "stream",
     "text": [
      "WARNING: ffmpeg not found. The downloaded format may not be the best available. Installing ffmpeg is strongly recommended: https://github.com/yt-dlp/yt-dlp#dependencies\n"
     ]
    },
    {
     "name": "stdout",
     "output_type": "stream",
     "text": [
      "[youtube] Extracting URL: https://youtube.com/watch?v=71K-V7Du_FE\n",
      "[youtube] 71K-V7Du_FE: Downloading webpage\n",
      "[youtube] 71K-V7Du_FE: Downloading ios player API JSON\n",
      "[youtube] 71K-V7Du_FE: Downloading web creator player API JSON\n",
      "[youtube] 71K-V7Du_FE: Downloading m3u8 information\n",
      "[info] 71K-V7Du_FE: Downloading subtitles: en\n"
     ]
    },
    {
     "name": "stderr",
     "output_type": "stream",
     "text": [
      "WARNING: ffmpeg not found. The downloaded format may not be the best available. Installing ffmpeg is strongly recommended: https://github.com/yt-dlp/yt-dlp#dependencies\n"
     ]
    },
    {
     "name": "stdout",
     "output_type": "stream",
     "text": [
      "[info] 71K-V7Du_FE: Downloading 1 format(s): 18\n",
      "[info] Writing video subtitles to: data\\en_CNN\\Exclusive CNN meets Israeli troops as tensions rise on Lebanon border.en.vtt\n",
      "[download] Destination: data\\en_CNN\\Exclusive CNN meets Israeli troops as tensions rise on Lebanon border.en.vtt\n",
      "[download] 100% of   19.75KiB in 00:00:00 at 166.24KiB/s\n",
      "[youtube] Extracting URL: https://youtube.com/watch?v=s5H3HFGlGcg\n",
      "[youtube] s5H3HFGlGcg: Downloading webpage\n",
      "[youtube] s5H3HFGlGcg: Downloading ios player API JSON\n",
      "[youtube] s5H3HFGlGcg: Downloading web creator player API JSON\n",
      "[youtube] s5H3HFGlGcg: Downloading m3u8 information\n",
      "[info] s5H3HFGlGcg: Downloading subtitles: en\n"
     ]
    },
    {
     "name": "stderr",
     "output_type": "stream",
     "text": [
      "WARNING: ffmpeg not found. The downloaded format may not be the best available. Installing ffmpeg is strongly recommended: https://github.com/yt-dlp/yt-dlp#dependencies\n"
     ]
    },
    {
     "name": "stdout",
     "output_type": "stream",
     "text": [
      "[youtube] Extracting URL: https://youtube.com/watch?v=s5H3HFGlGcg\n",
      "[youtube] s5H3HFGlGcg: Downloading webpage\n",
      "[youtube] s5H3HFGlGcg: Downloading ios player API JSON\n",
      "[youtube] s5H3HFGlGcg: Downloading web creator player API JSON\n",
      "[youtube] s5H3HFGlGcg: Downloading m3u8 information\n",
      "[info] s5H3HFGlGcg: Downloading subtitles: en\n"
     ]
    },
    {
     "name": "stderr",
     "output_type": "stream",
     "text": [
      "WARNING: ffmpeg not found. The downloaded format may not be the best available. Installing ffmpeg is strongly recommended: https://github.com/yt-dlp/yt-dlp#dependencies\n"
     ]
    },
    {
     "name": "stdout",
     "output_type": "stream",
     "text": [
      "[info] s5H3HFGlGcg: Downloading 1 format(s): 18\n",
      "[info] Writing video subtitles to: data\\en_CNN\\Israeli defense minister warns of 'a long war'.en.vtt\n",
      "[download] Destination: data\\en_CNN\\Israeli defense minister warns of 'a long war'.en.vtt\n",
      "[download] 100% of   15.67KiB in 00:00:00 at 87.61KiB/s\n",
      "[youtube] Extracting URL: https://youtube.com/watch?v=QWYcX3zRbvg\n",
      "[youtube] QWYcX3zRbvg: Downloading webpage\n",
      "[youtube] QWYcX3zRbvg: Downloading ios player API JSON\n",
      "[youtube] QWYcX3zRbvg: Downloading web creator player API JSON\n",
      "[youtube] QWYcX3zRbvg: Downloading m3u8 information\n",
      "[info] QWYcX3zRbvg: Downloading subtitles: en-uYU-mmqFLq8\n"
     ]
    },
    {
     "name": "stderr",
     "output_type": "stream",
     "text": [
      "WARNING: ffmpeg not found. The downloaded format may not be the best available. Installing ffmpeg is strongly recommended: https://github.com/yt-dlp/yt-dlp#dependencies\n"
     ]
    },
    {
     "name": "stdout",
     "output_type": "stream",
     "text": [
      "[youtube] Extracting URL: https://youtube.com/watch?v=QWYcX3zRbvg\n",
      "[youtube] QWYcX3zRbvg: Downloading webpage\n",
      "[youtube] QWYcX3zRbvg: Downloading ios player API JSON\n",
      "[youtube] QWYcX3zRbvg: Downloading web creator player API JSON\n",
      "[youtube] QWYcX3zRbvg: Downloading m3u8 information\n",
      "[info] QWYcX3zRbvg: Downloading subtitles: en\n"
     ]
    },
    {
     "name": "stderr",
     "output_type": "stream",
     "text": [
      "WARNING: ffmpeg not found. The downloaded format may not be the best available. Installing ffmpeg is strongly recommended: https://github.com/yt-dlp/yt-dlp#dependencies\n"
     ]
    },
    {
     "name": "stdout",
     "output_type": "stream",
     "text": [
      "[info] QWYcX3zRbvg: Downloading 1 format(s): 18\n",
      "[info] Writing video subtitles to: data\\en_CNN\\Netanyahu adviser Civilian casualty numbers from Gaza should be taken 'with grain of salt'.en.vtt\n",
      "[hlsnative] Downloading m3u8 manifest\n",
      "[hlsnative] Total fragments: 1\n",
      "[download] Destination: data\\en_CNN\\Netanyahu adviser Civilian casualty numbers from Gaza should be taken 'with grain of salt'.en.vtt\n",
      "[download] 100% of   14.34KiB in 00:00:00 at 70.77KiB/s                \n",
      "[youtube] Extracting URL: https://youtube.com/watch?v=0oM8p96ZFNg\n",
      "[youtube] 0oM8p96ZFNg: Downloading webpage\n",
      "[youtube] 0oM8p96ZFNg: Downloading ios player API JSON\n",
      "[youtube] 0oM8p96ZFNg: Downloading web creator player API JSON\n",
      "[youtube] 0oM8p96ZFNg: Downloading m3u8 information\n",
      "[info] 0oM8p96ZFNg: Downloading subtitles: en\n"
     ]
    },
    {
     "name": "stderr",
     "output_type": "stream",
     "text": [
      "WARNING: ffmpeg not found. The downloaded format may not be the best available. Installing ffmpeg is strongly recommended: https://github.com/yt-dlp/yt-dlp#dependencies\n"
     ]
    },
    {
     "name": "stdout",
     "output_type": "stream",
     "text": [
      "[youtube] Extracting URL: https://youtube.com/watch?v=0oM8p96ZFNg\n",
      "[youtube] 0oM8p96ZFNg: Downloading webpage\n",
      "[youtube] 0oM8p96ZFNg: Downloading ios player API JSON\n",
      "[youtube] 0oM8p96ZFNg: Downloading web creator player API JSON\n",
      "[youtube] 0oM8p96ZFNg: Downloading m3u8 information\n",
      "[info] 0oM8p96ZFNg: Downloading subtitles: en\n"
     ]
    },
    {
     "name": "stderr",
     "output_type": "stream",
     "text": [
      "WARNING: ffmpeg not found. The downloaded format may not be the best available. Installing ffmpeg is strongly recommended: https://github.com/yt-dlp/yt-dlp#dependencies\n"
     ]
    },
    {
     "name": "stdout",
     "output_type": "stream",
     "text": [
      "[info] 0oM8p96ZFNg: Downloading 1 format(s): 18\n",
      "[info] Writing video subtitles to: data\\en_CNN\\Israeli father describes wife and daughters being taken by Hamas as 'hell'.en.vtt\n",
      "[download] Destination: data\\en_CNN\\Israeli father describes wife and daughters being taken by Hamas as 'hell'.en.vtt\n",
      "[download] 100% of   13.12KiB in 00:00:00 at 56.83KiB/s\n",
      "[youtube] Extracting URL: https://youtube.com/watch?v=EVfgDwiGIW0\n",
      "[youtube] EVfgDwiGIW0: Downloading webpage\n",
      "[youtube] EVfgDwiGIW0: Downloading ios player API JSON\n",
      "[youtube] EVfgDwiGIW0: Downloading web creator player API JSON\n",
      "[youtube] EVfgDwiGIW0: Downloading m3u8 information\n"
     ]
    },
    {
     "name": "stderr",
     "output_type": "stream",
     "text": [
      "WARNING: ffmpeg not found. The downloaded format may not be the best available. Installing ffmpeg is strongly recommended: https://github.com/yt-dlp/yt-dlp#dependencies\n"
     ]
    },
    {
     "name": "stdout",
     "output_type": "stream",
     "text": [
      "subtitle file not found\n",
      "[youtube] Extracting URL: https://youtube.com/watch?v=9LVVrfvv9BM\n",
      "[youtube] 9LVVrfvv9BM: Downloading webpage\n",
      "[youtube] 9LVVrfvv9BM: Downloading ios player API JSON\n",
      "[youtube] 9LVVrfvv9BM: Downloading web creator player API JSON\n",
      "[youtube] 9LVVrfvv9BM: Downloading m3u8 information\n",
      "[info] 9LVVrfvv9BM: Downloading subtitles: en\n"
     ]
    },
    {
     "name": "stderr",
     "output_type": "stream",
     "text": [
      "WARNING: ffmpeg not found. The downloaded format may not be the best available. Installing ffmpeg is strongly recommended: https://github.com/yt-dlp/yt-dlp#dependencies\n"
     ]
    },
    {
     "name": "stdout",
     "output_type": "stream",
     "text": [
      "[youtube] Extracting URL: https://youtube.com/watch?v=9LVVrfvv9BM\n",
      "[youtube] 9LVVrfvv9BM: Downloading webpage\n",
      "[youtube] 9LVVrfvv9BM: Downloading ios player API JSON\n",
      "[youtube] 9LVVrfvv9BM: Downloading web creator player API JSON\n",
      "[youtube] 9LVVrfvv9BM: Downloading m3u8 information\n",
      "[info] 9LVVrfvv9BM: Downloading subtitles: en\n"
     ]
    },
    {
     "name": "stderr",
     "output_type": "stream",
     "text": [
      "WARNING: ffmpeg not found. The downloaded format may not be the best available. Installing ffmpeg is strongly recommended: https://github.com/yt-dlp/yt-dlp#dependencies\n"
     ]
    },
    {
     "name": "stdout",
     "output_type": "stream",
     "text": [
      "[info] 9LVVrfvv9BM: Downloading 1 format(s): 18\n",
      "[info] Writing video subtitles to: data\\en_CNN\\Veteran reporter shows what it's like inside Hamas tunnels under Gaza.en.vtt\n",
      "[download] Destination: data\\en_CNN\\Veteran reporter shows what it's like inside Hamas tunnels under Gaza.en.vtt\n",
      "[download] 100% of    5.46KiB in 00:00:00 at 36.12KiB/s\n",
      "[youtube] Extracting URL: https://youtube.com/watch?v=ss0ASA9mcQ8\n",
      "[youtube] ss0ASA9mcQ8: Downloading webpage\n",
      "[youtube] ss0ASA9mcQ8: Downloading ios player API JSON\n",
      "[youtube] ss0ASA9mcQ8: Downloading web creator player API JSON\n",
      "[youtube] ss0ASA9mcQ8: Downloading m3u8 information\n",
      "[info] ss0ASA9mcQ8: Downloading subtitles: en\n"
     ]
    },
    {
     "name": "stderr",
     "output_type": "stream",
     "text": [
      "WARNING: ffmpeg not found. The downloaded format may not be the best available. Installing ffmpeg is strongly recommended: https://github.com/yt-dlp/yt-dlp#dependencies\n"
     ]
    },
    {
     "name": "stdout",
     "output_type": "stream",
     "text": [
      "[youtube] Extracting URL: https://youtube.com/watch?v=ss0ASA9mcQ8\n",
      "[youtube] ss0ASA9mcQ8: Downloading webpage\n",
      "[youtube] ss0ASA9mcQ8: Downloading ios player API JSON\n",
      "[youtube] ss0ASA9mcQ8: Downloading web creator player API JSON\n",
      "[youtube] ss0ASA9mcQ8: Downloading m3u8 information\n",
      "[info] ss0ASA9mcQ8: Downloading subtitles: en\n"
     ]
    },
    {
     "name": "stderr",
     "output_type": "stream",
     "text": [
      "WARNING: ffmpeg not found. The downloaded format may not be the best available. Installing ffmpeg is strongly recommended: https://github.com/yt-dlp/yt-dlp#dependencies\n"
     ]
    },
    {
     "name": "stdout",
     "output_type": "stream",
     "text": [
      "[info] ss0ASA9mcQ8: Downloading 1 format(s): 18\n",
      "[info] Writing video subtitles to: data\\en_CNN\\See what life looks like in southern Gaza for evacuees.en.vtt\n",
      "[download] Destination: data\\en_CNN\\See what life looks like in southern Gaza for evacuees.en.vtt\n",
      "[download] 100% of   14.32KiB in 00:00:00 at 63.30KiB/s\n",
      "[youtube] Extracting URL: https://youtube.com/watch?v=AlLZ07tIOxU\n",
      "[youtube] AlLZ07tIOxU: Downloading webpage\n",
      "[youtube] AlLZ07tIOxU: Downloading ios player API JSON\n",
      "[youtube] AlLZ07tIOxU: Downloading web creator player API JSON\n",
      "[youtube] AlLZ07tIOxU: Downloading m3u8 information\n",
      "[info] AlLZ07tIOxU: Downloading subtitles: en-uYU-mmqFLq8\n"
     ]
    },
    {
     "name": "stderr",
     "output_type": "stream",
     "text": [
      "WARNING: ffmpeg not found. The downloaded format may not be the best available. Installing ffmpeg is strongly recommended: https://github.com/yt-dlp/yt-dlp#dependencies\n"
     ]
    },
    {
     "name": "stdout",
     "output_type": "stream",
     "text": [
      "[youtube] Extracting URL: https://youtube.com/watch?v=AlLZ07tIOxU\n",
      "[youtube] AlLZ07tIOxU: Downloading webpage\n",
      "[youtube] AlLZ07tIOxU: Downloading ios player API JSON\n",
      "[youtube] AlLZ07tIOxU: Downloading web creator player API JSON\n",
      "[youtube] AlLZ07tIOxU: Downloading m3u8 information\n",
      "[info] AlLZ07tIOxU: Downloading subtitles: en\n"
     ]
    },
    {
     "name": "stderr",
     "output_type": "stream",
     "text": [
      "WARNING: ffmpeg not found. The downloaded format may not be the best available. Installing ffmpeg is strongly recommended: https://github.com/yt-dlp/yt-dlp#dependencies\n"
     ]
    },
    {
     "name": "stdout",
     "output_type": "stream",
     "text": [
      "[info] AlLZ07tIOxU: Downloading 1 format(s): 18\n",
      "[info] Writing video subtitles to: data\\en_CNN\\Hamas releases first video of a hostage taken to Gaza.en.vtt\n",
      "[hlsnative] Downloading m3u8 manifest\n",
      "[hlsnative] Total fragments: 2\n",
      "[download] Destination: data\\en_CNN\\Hamas releases first video of a hostage taken to Gaza.en.vtt\n",
      "[download] 100% of  117.33KiB in 00:00:00 at 381.32KiB/s               \n",
      "[youtube] Extracting URL: https://youtube.com/watch?v=-81vCffWq6k\n",
      "[youtube] -81vCffWq6k: Downloading webpage\n",
      "[youtube] -81vCffWq6k: Downloading ios player API JSON\n",
      "[youtube] -81vCffWq6k: Downloading web creator player API JSON\n",
      "[youtube] -81vCffWq6k: Downloading m3u8 information\n",
      "[info] -81vCffWq6k: Downloading subtitles: en-uYU-mmqFLq8\n"
     ]
    },
    {
     "name": "stderr",
     "output_type": "stream",
     "text": [
      "WARNING: ffmpeg not found. The downloaded format may not be the best available. Installing ffmpeg is strongly recommended: https://github.com/yt-dlp/yt-dlp#dependencies\n"
     ]
    },
    {
     "name": "stdout",
     "output_type": "stream",
     "text": [
      "[youtube] Extracting URL: https://youtube.com/watch?v=-81vCffWq6k\n",
      "[youtube] -81vCffWq6k: Downloading webpage\n",
      "[youtube] -81vCffWq6k: Downloading ios player API JSON\n",
      "[youtube] -81vCffWq6k: Downloading web creator player API JSON\n",
      "[youtube] -81vCffWq6k: Downloading m3u8 information\n",
      "[info] -81vCffWq6k: Downloading subtitles: en\n"
     ]
    },
    {
     "name": "stderr",
     "output_type": "stream",
     "text": [
      "WARNING: ffmpeg not found. The downloaded format may not be the best available. Installing ffmpeg is strongly recommended: https://github.com/yt-dlp/yt-dlp#dependencies\n"
     ]
    },
    {
     "name": "stdout",
     "output_type": "stream",
     "text": [
      "[info] -81vCffWq6k: Downloading 1 format(s): 18\n",
      "[info] Writing video subtitles to: data\\en_CNN\\Analyst weighs in on Hamas hostage video release.en.vtt\n",
      "[hlsnative] Downloading m3u8 manifest\n",
      "[hlsnative] Total fragments: 1\n",
      "[download] Destination: data\\en_CNN\\Analyst weighs in on Hamas hostage video release.en.vtt\n",
      "[download] 100% of   75.13KiB in 00:00:00 at 372.21KiB/s               \n",
      "[youtube] Extracting URL: https://youtube.com/watch?v=2ik5X1pVQYg\n",
      "[youtube] 2ik5X1pVQYg: Downloading webpage\n",
      "[youtube] 2ik5X1pVQYg: Downloading ios player API JSON\n",
      "[youtube] 2ik5X1pVQYg: This video is age-restricted; some formats may be missing without authentication. Use --cookies-from-browser or --cookies for the authentication. See  https://github.com/yt-dlp/yt-dlp/wiki/FAQ#how-do-i-pass-cookies-to-yt-dlp  for how to manually pass cookies\n",
      "[youtube] 2ik5X1pVQYg: Downloading tv embedded player API JSON\n",
      "[youtube] 2ik5X1pVQYg: Downloading web creator player API JSON\n",
      "[info] 2ik5X1pVQYg: Downloading subtitles: en\n"
     ]
    },
    {
     "name": "stderr",
     "output_type": "stream",
     "text": [
      "WARNING: ffmpeg not found. The downloaded format may not be the best available. Installing ffmpeg is strongly recommended: https://github.com/yt-dlp/yt-dlp#dependencies\n"
     ]
    },
    {
     "name": "stdout",
     "output_type": "stream",
     "text": [
      "[youtube] Extracting URL: https://youtube.com/watch?v=2ik5X1pVQYg\n",
      "[youtube] 2ik5X1pVQYg: Downloading webpage\n",
      "[youtube] 2ik5X1pVQYg: Downloading ios player API JSON\n",
      "[youtube] 2ik5X1pVQYg: This video is age-restricted; some formats may be missing without authentication. Use --cookies-from-browser or --cookies for the authentication. See  https://github.com/yt-dlp/yt-dlp/wiki/FAQ#how-do-i-pass-cookies-to-yt-dlp  for how to manually pass cookies\n",
      "[youtube] 2ik5X1pVQYg: Downloading tv embedded player API JSON\n",
      "[youtube] 2ik5X1pVQYg: Downloading web creator player API JSON\n",
      "[info] 2ik5X1pVQYg: Downloading subtitles: ab-en\n"
     ]
    },
    {
     "name": "stderr",
     "output_type": "stream",
     "text": [
      "WARNING: ffmpeg not found. The downloaded format may not be the best available. Installing ffmpeg is strongly recommended: https://github.com/yt-dlp/yt-dlp#dependencies\n"
     ]
    },
    {
     "name": "stdout",
     "output_type": "stream",
     "text": [
      "[info] 2ik5X1pVQYg: Downloading 1 format(s): 18\n",
      "[info] Writing video subtitles to: data\\en_CNN\\Hundreds believed dead in Gaza hospital blast.ab-en.vtt\n",
      "[download] Destination: data\\en_CNN\\Hundreds believed dead in Gaza hospital blast.ab-en.vtt\n",
      "[download] 100% of    9.32KiB in 00:00:00 at 32.73KiB/s\n",
      "[youtube] Extracting URL: https://youtube.com/watch?v=RYtxWLVwH_Q\n",
      "[youtube] RYtxWLVwH_Q: Downloading webpage\n",
      "[youtube] RYtxWLVwH_Q: Downloading ios player API JSON\n",
      "[youtube] RYtxWLVwH_Q: Downloading web creator player API JSON\n",
      "[youtube] RYtxWLVwH_Q: Downloading m3u8 information\n",
      "[info] RYtxWLVwH_Q: Downloading subtitles: en\n"
     ]
    },
    {
     "name": "stderr",
     "output_type": "stream",
     "text": [
      "WARNING: ffmpeg not found. The downloaded format may not be the best available. Installing ffmpeg is strongly recommended: https://github.com/yt-dlp/yt-dlp#dependencies\n"
     ]
    },
    {
     "name": "stdout",
     "output_type": "stream",
     "text": [
      "[youtube] Extracting URL: https://youtube.com/watch?v=RYtxWLVwH_Q\n",
      "[youtube] RYtxWLVwH_Q: Downloading webpage\n",
      "[youtube] RYtxWLVwH_Q: Downloading ios player API JSON\n",
      "[youtube] RYtxWLVwH_Q: Downloading web creator player API JSON\n",
      "[youtube] RYtxWLVwH_Q: Downloading m3u8 information\n",
      "[info] RYtxWLVwH_Q: Downloading subtitles: en\n"
     ]
    },
    {
     "name": "stderr",
     "output_type": "stream",
     "text": [
      "WARNING: ffmpeg not found. The downloaded format may not be the best available. Installing ffmpeg is strongly recommended: https://github.com/yt-dlp/yt-dlp#dependencies\n"
     ]
    },
    {
     "name": "stdout",
     "output_type": "stream",
     "text": [
      "[info] RYtxWLVwH_Q: Downloading 1 format(s): 18\n",
      "[info] Writing video subtitles to: data\\en_CNN\\'Orders of magnitude more difficult' Petraeus on urban combat.en.vtt\n",
      "[download] Destination: data\\en_CNN\\'Orders of magnitude more difficult' Petraeus on urban combat.en.vtt\n",
      "[download] 100% of   12.68KiB in 00:00:00 at 62.94KiB/s\n",
      "[youtube] Extracting URL: https://youtube.com/watch?v=qGFzeKG3_r4\n",
      "[youtube] qGFzeKG3_r4: Downloading webpage\n",
      "[youtube] qGFzeKG3_r4: Downloading ios player API JSON\n",
      "[youtube] qGFzeKG3_r4: Downloading web creator player API JSON\n",
      "[youtube] qGFzeKG3_r4: Downloading m3u8 information\n",
      "[info] qGFzeKG3_r4: Downloading subtitles: en\n"
     ]
    },
    {
     "name": "stderr",
     "output_type": "stream",
     "text": [
      "WARNING: ffmpeg not found. The downloaded format may not be the best available. Installing ffmpeg is strongly recommended: https://github.com/yt-dlp/yt-dlp#dependencies\n"
     ]
    },
    {
     "name": "stdout",
     "output_type": "stream",
     "text": [
      "[youtube] Extracting URL: https://youtube.com/watch?v=qGFzeKG3_r4\n",
      "[youtube] qGFzeKG3_r4: Downloading webpage\n",
      "[youtube] qGFzeKG3_r4: Downloading ios player API JSON\n",
      "[youtube] qGFzeKG3_r4: Downloading web creator player API JSON\n",
      "[youtube] qGFzeKG3_r4: Downloading m3u8 information\n",
      "[info] qGFzeKG3_r4: Downloading subtitles: en\n"
     ]
    },
    {
     "name": "stderr",
     "output_type": "stream",
     "text": [
      "WARNING: ffmpeg not found. The downloaded format may not be the best available. Installing ffmpeg is strongly recommended: https://github.com/yt-dlp/yt-dlp#dependencies\n"
     ]
    },
    {
     "name": "stdout",
     "output_type": "stream",
     "text": [
      "[info] qGFzeKG3_r4: Downloading 1 format(s): 18\n",
      "[info] Writing video subtitles to: data\\en_CNN\\CNN tours Israeli military base filled with seized Hamas weapons.en.vtt\n",
      "[download] Destination: data\\en_CNN\\CNN tours Israeli military base filled with seized Hamas weapons.en.vtt\n",
      "[download] 100% of    5.78KiB in 00:00:00 at 63.71KiB/s\n",
      "[youtube] Extracting URL: https://youtube.com/watch?v=1wfmV0qOQow\n",
      "[youtube] 1wfmV0qOQow: Downloading webpage\n",
      "[youtube] 1wfmV0qOQow: Downloading ios player API JSON\n",
      "[youtube] 1wfmV0qOQow: Downloading web creator player API JSON\n",
      "[youtube] 1wfmV0qOQow: Downloading m3u8 information\n",
      "[info] 1wfmV0qOQow: Downloading subtitles: en\n"
     ]
    },
    {
     "name": "stderr",
     "output_type": "stream",
     "text": [
      "WARNING: ffmpeg not found. The downloaded format may not be the best available. Installing ffmpeg is strongly recommended: https://github.com/yt-dlp/yt-dlp#dependencies\n"
     ]
    },
    {
     "name": "stdout",
     "output_type": "stream",
     "text": [
      "[youtube] Extracting URL: https://youtube.com/watch?v=1wfmV0qOQow\n",
      "[youtube] 1wfmV0qOQow: Downloading webpage\n",
      "[youtube] 1wfmV0qOQow: Downloading ios player API JSON\n",
      "[youtube] 1wfmV0qOQow: Downloading web creator player API JSON\n",
      "[youtube] 1wfmV0qOQow: Downloading m3u8 information\n",
      "[info] 1wfmV0qOQow: Downloading subtitles: en\n"
     ]
    },
    {
     "name": "stderr",
     "output_type": "stream",
     "text": [
      "WARNING: ffmpeg not found. The downloaded format may not be the best available. Installing ffmpeg is strongly recommended: https://github.com/yt-dlp/yt-dlp#dependencies\n"
     ]
    },
    {
     "name": "stdout",
     "output_type": "stream",
     "text": [
      "[info] 1wfmV0qOQow: Downloading 1 format(s): 18\n",
      "[info] Writing video subtitles to: data\\en_CNN\\Who is the leader of Hamas in Gaza.en.vtt\n",
      "[download] Destination: data\\en_CNN\\Who is the leader of Hamas in Gaza.en.vtt\n",
      "[download] 100% of   13.63KiB in 00:00:00 at 175.50KiB/s\n",
      "[youtube] Extracting URL: https://youtube.com/watch?v=8pPYC_cc9DY\n",
      "[youtube] 8pPYC_cc9DY: Downloading webpage\n",
      "[youtube] 8pPYC_cc9DY: Downloading ios player API JSON\n",
      "[youtube] 8pPYC_cc9DY: Downloading web creator player API JSON\n",
      "[youtube] 8pPYC_cc9DY: Downloading m3u8 information\n"
     ]
    },
    {
     "name": "stderr",
     "output_type": "stream",
     "text": [
      "WARNING: ffmpeg not found. The downloaded format may not be the best available. Installing ffmpeg is strongly recommended: https://github.com/yt-dlp/yt-dlp#dependencies\n"
     ]
    },
    {
     "name": "stdout",
     "output_type": "stream",
     "text": [
      "subtitle file not found\n",
      "[youtube] Extracting URL: https://youtube.com/watch?v=hg4m7bnDl0s\n",
      "[youtube] hg4m7bnDl0s: Downloading webpage\n",
      "[youtube] hg4m7bnDl0s: Downloading ios player API JSON\n",
      "[youtube] hg4m7bnDl0s: Downloading web creator player API JSON\n",
      "[youtube] hg4m7bnDl0s: Downloading m3u8 information\n",
      "[info] hg4m7bnDl0s: Downloading subtitles: en\n"
     ]
    },
    {
     "name": "stderr",
     "output_type": "stream",
     "text": [
      "WARNING: ffmpeg not found. The downloaded format may not be the best available. Installing ffmpeg is strongly recommended: https://github.com/yt-dlp/yt-dlp#dependencies\n"
     ]
    },
    {
     "name": "stdout",
     "output_type": "stream",
     "text": [
      "[youtube] Extracting URL: https://youtube.com/watch?v=hg4m7bnDl0s\n",
      "[youtube] hg4m7bnDl0s: Downloading webpage\n",
      "[youtube] hg4m7bnDl0s: Downloading ios player API JSON\n",
      "[youtube] hg4m7bnDl0s: Downloading web creator player API JSON\n",
      "[youtube] hg4m7bnDl0s: Downloading m3u8 information\n",
      "[info] hg4m7bnDl0s: Downloading subtitles: en\n"
     ]
    },
    {
     "name": "stderr",
     "output_type": "stream",
     "text": [
      "WARNING: ffmpeg not found. The downloaded format may not be the best available. Installing ffmpeg is strongly recommended: https://github.com/yt-dlp/yt-dlp#dependencies\n"
     ]
    },
    {
     "name": "stdout",
     "output_type": "stream",
     "text": [
      "[info] hg4m7bnDl0s: Downloading 1 format(s): 18\n",
      "[info] Writing video subtitles to: data\\en_CNN\\Breaking down what Biden said in Israel amid deadly Gaza hospital strike.en.vtt\n",
      "[download] Destination: data\\en_CNN\\Breaking down what Biden said in Israel amid deadly Gaza hospital strike.en.vtt\n",
      "[download] 100% of   20.52KiB in 00:00:00 at 64.38KiB/s\n",
      "[youtube] Extracting URL: https://youtube.com/watch?v=aKGBsmYXtFQ\n",
      "[youtube] aKGBsmYXtFQ: Downloading webpage\n",
      "[youtube] aKGBsmYXtFQ: Downloading ios player API JSON\n",
      "[youtube] aKGBsmYXtFQ: Downloading web creator player API JSON\n",
      "[youtube] aKGBsmYXtFQ: Downloading m3u8 information\n",
      "[info] aKGBsmYXtFQ: Downloading subtitles: en\n"
     ]
    },
    {
     "name": "stderr",
     "output_type": "stream",
     "text": [
      "WARNING: ffmpeg not found. The downloaded format may not be the best available. Installing ffmpeg is strongly recommended: https://github.com/yt-dlp/yt-dlp#dependencies\n"
     ]
    },
    {
     "name": "stdout",
     "output_type": "stream",
     "text": [
      "[youtube] Extracting URL: https://youtube.com/watch?v=aKGBsmYXtFQ\n",
      "[youtube] aKGBsmYXtFQ: Downloading webpage\n",
      "[youtube] aKGBsmYXtFQ: Downloading ios player API JSON\n",
      "[youtube] aKGBsmYXtFQ: Downloading web creator player API JSON\n",
      "[youtube] aKGBsmYXtFQ: Downloading m3u8 information\n",
      "[info] aKGBsmYXtFQ: Downloading subtitles: en\n"
     ]
    },
    {
     "name": "stderr",
     "output_type": "stream",
     "text": [
      "WARNING: ffmpeg not found. The downloaded format may not be the best available. Installing ffmpeg is strongly recommended: https://github.com/yt-dlp/yt-dlp#dependencies\n"
     ]
    },
    {
     "name": "stdout",
     "output_type": "stream",
     "text": [
      "[info] aKGBsmYXtFQ: Downloading 1 format(s): 18\n",
      "[info] Writing video subtitles to: data\\en_CNN\\Protests erupt near US embassy in Lebanon amid Gaza hospital blast.en.vtt\n",
      "[download] Destination: data\\en_CNN\\Protests erupt near US embassy in Lebanon amid Gaza hospital blast.en.vtt\n",
      "[download] 100% of   12.76KiB in 00:00:00 at 111.27KiB/s\n",
      "[youtube] Extracting URL: https://youtube.com/watch?v=zMBuo3RAiVk\n",
      "[youtube] zMBuo3RAiVk: Downloading webpage\n",
      "[youtube] zMBuo3RAiVk: Downloading ios player API JSON\n",
      "[youtube] zMBuo3RAiVk: This video is age-restricted; some formats may be missing without authentication. Use --cookies-from-browser or --cookies for the authentication. See  https://github.com/yt-dlp/yt-dlp/wiki/FAQ#how-do-i-pass-cookies-to-yt-dlp  for how to manually pass cookies\n",
      "[youtube] zMBuo3RAiVk: Downloading tv embedded player API JSON\n",
      "[youtube] zMBuo3RAiVk: Downloading web creator player API JSON\n"
     ]
    },
    {
     "name": "stderr",
     "output_type": "stream",
     "text": [
      "WARNING: ffmpeg not found. The downloaded format may not be the best available. Installing ffmpeg is strongly recommended: https://github.com/yt-dlp/yt-dlp#dependencies\n"
     ]
    },
    {
     "name": "stdout",
     "output_type": "stream",
     "text": [
      "subtitle file not found\n",
      "[youtube] Extracting URL: https://youtube.com/watch?v=Bvxi-BxPNFk\n",
      "[youtube] Bvxi-BxPNFk: Downloading webpage\n",
      "[youtube] Bvxi-BxPNFk: Downloading ios player API JSON\n",
      "[youtube] Bvxi-BxPNFk: Downloading web creator player API JSON\n",
      "[youtube] Bvxi-BxPNFk: Downloading m3u8 information\n",
      "[info] Bvxi-BxPNFk: Downloading subtitles: en\n"
     ]
    },
    {
     "name": "stderr",
     "output_type": "stream",
     "text": [
      "WARNING: ffmpeg not found. The downloaded format may not be the best available. Installing ffmpeg is strongly recommended: https://github.com/yt-dlp/yt-dlp#dependencies\n"
     ]
    },
    {
     "name": "stdout",
     "output_type": "stream",
     "text": [
      "[youtube] Extracting URL: https://youtube.com/watch?v=Bvxi-BxPNFk\n",
      "[youtube] Bvxi-BxPNFk: Downloading webpage\n",
      "[youtube] Bvxi-BxPNFk: Downloading ios player API JSON\n",
      "[youtube] Bvxi-BxPNFk: Downloading web creator player API JSON\n",
      "[youtube] Bvxi-BxPNFk: Downloading m3u8 information\n",
      "[info] Bvxi-BxPNFk: Downloading subtitles: en\n"
     ]
    },
    {
     "name": "stderr",
     "output_type": "stream",
     "text": [
      "WARNING: ffmpeg not found. The downloaded format may not be the best available. Installing ffmpeg is strongly recommended: https://github.com/yt-dlp/yt-dlp#dependencies\n"
     ]
    },
    {
     "name": "stdout",
     "output_type": "stream",
     "text": [
      "[info] Bvxi-BxPNFk: Downloading 1 format(s): 18\n",
      "[info] Writing video subtitles to: data\\en_CNN\\Putin and Xi refuse to condemn Hamas attack on Israel.en.vtt\n",
      "[download] Destination: data\\en_CNN\\Putin and Xi refuse to condemn Hamas attack on Israel.en.vtt\n",
      "[download] 100% of    6.81KiB in 00:00:00 at 51.88KiB/s\n",
      "[youtube] Extracting URL: https://youtube.com/watch?v=R-KUt4Pp_-M\n",
      "[youtube] R-KUt4Pp_-M: Downloading webpage\n",
      "[youtube] R-KUt4Pp_-M: Downloading ios player API JSON\n",
      "[youtube] R-KUt4Pp_-M: This video is age-restricted; some formats may be missing without authentication. Use --cookies-from-browser or --cookies for the authentication. See  https://github.com/yt-dlp/yt-dlp/wiki/FAQ#how-do-i-pass-cookies-to-yt-dlp  for how to manually pass cookies\n",
      "[youtube] R-KUt4Pp_-M: Downloading tv embedded player API JSON\n",
      "[youtube] R-KUt4Pp_-M: Downloading web creator player API JSON\n",
      "[info] R-KUt4Pp_-M: Downloading subtitles: en\n"
     ]
    },
    {
     "name": "stderr",
     "output_type": "stream",
     "text": [
      "WARNING: ffmpeg not found. The downloaded format may not be the best available. Installing ffmpeg is strongly recommended: https://github.com/yt-dlp/yt-dlp#dependencies\n"
     ]
    },
    {
     "name": "stdout",
     "output_type": "stream",
     "text": [
      "[youtube] Extracting URL: https://youtube.com/watch?v=R-KUt4Pp_-M\n",
      "[youtube] R-KUt4Pp_-M: Downloading webpage\n",
      "[youtube] R-KUt4Pp_-M: Downloading ios player API JSON\n",
      "[youtube] R-KUt4Pp_-M: This video is age-restricted; some formats may be missing without authentication. Use --cookies-from-browser or --cookies for the authentication. See  https://github.com/yt-dlp/yt-dlp/wiki/FAQ#how-do-i-pass-cookies-to-yt-dlp  for how to manually pass cookies\n",
      "[youtube] R-KUt4Pp_-M: Downloading tv embedded player API JSON\n",
      "[youtube] R-KUt4Pp_-M: Downloading web creator player API JSON\n",
      "[info] R-KUt4Pp_-M: Downloading subtitles: ab-en\n"
     ]
    },
    {
     "name": "stderr",
     "output_type": "stream",
     "text": [
      "WARNING: ffmpeg not found. The downloaded format may not be the best available. Installing ffmpeg is strongly recommended: https://github.com/yt-dlp/yt-dlp#dependencies\n"
     ]
    },
    {
     "name": "stdout",
     "output_type": "stream",
     "text": [
      "[info] R-KUt4Pp_-M: Downloading 1 format(s): 18\n",
      "[info] Writing video subtitles to: data\\en_CNN\\Chilling audio from Israeli medic reveals last moments.ab-en.vtt\n",
      "[download] Destination: data\\en_CNN\\Chilling audio from Israeli medic reveals last moments.ab-en.vtt\n",
      "[download] 100% of   13.13KiB in 00:00:00 at 41.67KiB/s\n",
      "[youtube] Extracting URL: https://youtube.com/watch?v=THV_OuzC9jM\n",
      "[youtube] THV_OuzC9jM: Downloading webpage\n",
      "[youtube] THV_OuzC9jM: Downloading ios player API JSON\n",
      "[youtube] THV_OuzC9jM: Downloading web creator player API JSON\n",
      "[youtube] THV_OuzC9jM: Downloading m3u8 information\n",
      "[info] THV_OuzC9jM: Downloading subtitles: en\n"
     ]
    },
    {
     "name": "stderr",
     "output_type": "stream",
     "text": [
      "WARNING: ffmpeg not found. The downloaded format may not be the best available. Installing ffmpeg is strongly recommended: https://github.com/yt-dlp/yt-dlp#dependencies\n"
     ]
    },
    {
     "name": "stdout",
     "output_type": "stream",
     "text": [
      "[youtube] Extracting URL: https://youtube.com/watch?v=THV_OuzC9jM\n",
      "[youtube] THV_OuzC9jM: Downloading webpage\n",
      "[youtube] THV_OuzC9jM: Downloading ios player API JSON\n",
      "[youtube] THV_OuzC9jM: Downloading web creator player API JSON\n",
      "[youtube] THV_OuzC9jM: Downloading m3u8 information\n",
      "[info] THV_OuzC9jM: Downloading subtitles: en\n"
     ]
    },
    {
     "name": "stderr",
     "output_type": "stream",
     "text": [
      "WARNING: ffmpeg not found. The downloaded format may not be the best available. Installing ffmpeg is strongly recommended: https://github.com/yt-dlp/yt-dlp#dependencies\n"
     ]
    },
    {
     "name": "stdout",
     "output_type": "stream",
     "text": [
      "[info] THV_OuzC9jM: Downloading 1 format(s): 18\n",
      "[info] Writing video subtitles to: data\\en_CNN\\Military analyst breaks down Israeli evidence in Gaza hospital blast.en.vtt\n",
      "[download] Destination: data\\en_CNN\\Military analyst breaks down Israeli evidence in Gaza hospital blast.en.vtt\n",
      "[download] 100% of   18.75KiB in 00:00:00 at 144.21KiB/s\n",
      "[youtube] Extracting URL: https://youtube.com/watch?v=zW76wr0SA3E\n",
      "[youtube] zW76wr0SA3E: Downloading webpage\n",
      "[youtube] zW76wr0SA3E: Downloading ios player API JSON\n",
      "[youtube] zW76wr0SA3E: Downloading web creator player API JSON\n",
      "[youtube] zW76wr0SA3E: Downloading m3u8 information\n",
      "[info] zW76wr0SA3E: Downloading subtitles: en\n"
     ]
    },
    {
     "name": "stderr",
     "output_type": "stream",
     "text": [
      "WARNING: ffmpeg not found. The downloaded format may not be the best available. Installing ffmpeg is strongly recommended: https://github.com/yt-dlp/yt-dlp#dependencies\n"
     ]
    },
    {
     "name": "stdout",
     "output_type": "stream",
     "text": [
      "[youtube] Extracting URL: https://youtube.com/watch?v=zW76wr0SA3E\n",
      "[youtube] zW76wr0SA3E: Downloading webpage\n",
      "[youtube] zW76wr0SA3E: Downloading ios player API JSON\n",
      "[youtube] zW76wr0SA3E: Downloading web creator player API JSON\n",
      "[youtube] zW76wr0SA3E: Downloading m3u8 information\n",
      "[info] zW76wr0SA3E: Downloading subtitles: en\n"
     ]
    },
    {
     "name": "stderr",
     "output_type": "stream",
     "text": [
      "WARNING: ffmpeg not found. The downloaded format may not be the best available. Installing ffmpeg is strongly recommended: https://github.com/yt-dlp/yt-dlp#dependencies\n"
     ]
    },
    {
     "name": "stdout",
     "output_type": "stream",
     "text": [
      "[info] zW76wr0SA3E: Downloading 1 format(s): 18\n",
      "[info] Writing video subtitles to: data\\en_CNN\\Dad wants the world to hear this chilling call of his daughter being kidnapped.en.vtt\n",
      "[download] Destination: data\\en_CNN\\Dad wants the world to hear this chilling call of his daughter being kidnapped.en.vtt\n",
      "[download] 100% of    5.63KiB in 00:00:00 at 35.35KiB/s\n",
      "[youtube] Extracting URL: https://youtube.com/watch?v=wG8UShiEHYo\n",
      "[youtube] wG8UShiEHYo: Downloading webpage\n",
      "[youtube] wG8UShiEHYo: Downloading ios player API JSON\n",
      "[youtube] wG8UShiEHYo: Downloading web creator player API JSON\n",
      "[youtube] wG8UShiEHYo: Downloading m3u8 information\n",
      "[info] wG8UShiEHYo: Downloading subtitles: en\n"
     ]
    },
    {
     "name": "stderr",
     "output_type": "stream",
     "text": [
      "WARNING: ffmpeg not found. The downloaded format may not be the best available. Installing ffmpeg is strongly recommended: https://github.com/yt-dlp/yt-dlp#dependencies\n"
     ]
    },
    {
     "name": "stdout",
     "output_type": "stream",
     "text": [
      "[youtube] Extracting URL: https://youtube.com/watch?v=wG8UShiEHYo\n",
      "[youtube] wG8UShiEHYo: Downloading webpage\n",
      "[youtube] wG8UShiEHYo: Downloading ios player API JSON\n",
      "[youtube] wG8UShiEHYo: Downloading web creator player API JSON\n",
      "[youtube] wG8UShiEHYo: Downloading m3u8 information\n",
      "[info] wG8UShiEHYo: Downloading subtitles: en\n"
     ]
    },
    {
     "name": "stderr",
     "output_type": "stream",
     "text": [
      "WARNING: ffmpeg not found. The downloaded format may not be the best available. Installing ffmpeg is strongly recommended: https://github.com/yt-dlp/yt-dlp#dependencies\n"
     ]
    },
    {
     "name": "stdout",
     "output_type": "stream",
     "text": [
      "[info] wG8UShiEHYo: Downloading 1 format(s): 18\n",
      "[info] Writing video subtitles to: data\\en_CNN\\Lebanese militant groups and Israel exchange fire across border.en.vtt\n",
      "[download] Destination: data\\en_CNN\\Lebanese militant groups and Israel exchange fire across border.en.vtt\n",
      "[download] 100% of   10.56KiB in 00:00:00 at 99.60KiB/s\n",
      "[youtube] Extracting URL: https://youtube.com/watch?v=yWBe2XYJZMs\n",
      "[youtube] yWBe2XYJZMs: Downloading webpage\n",
      "[youtube] yWBe2XYJZMs: Downloading ios player API JSON\n",
      "[youtube] yWBe2XYJZMs: Downloading web creator player API JSON\n",
      "[youtube] yWBe2XYJZMs: Downloading m3u8 information\n",
      "[info] yWBe2XYJZMs: Downloading subtitles: en-uYU-mmqFLq8\n"
     ]
    },
    {
     "name": "stderr",
     "output_type": "stream",
     "text": [
      "WARNING: ffmpeg not found. The downloaded format may not be the best available. Installing ffmpeg is strongly recommended: https://github.com/yt-dlp/yt-dlp#dependencies\n"
     ]
    },
    {
     "name": "stdout",
     "output_type": "stream",
     "text": [
      "[youtube] Extracting URL: https://youtube.com/watch?v=yWBe2XYJZMs\n",
      "[youtube] yWBe2XYJZMs: Downloading webpage\n",
      "[youtube] yWBe2XYJZMs: Downloading ios player API JSON\n",
      "[youtube] yWBe2XYJZMs: Downloading web creator player API JSON\n",
      "[youtube] yWBe2XYJZMs: Downloading m3u8 information\n",
      "[info] yWBe2XYJZMs: Downloading subtitles: en\n"
     ]
    },
    {
     "name": "stderr",
     "output_type": "stream",
     "text": [
      "WARNING: ffmpeg not found. The downloaded format may not be the best available. Installing ffmpeg is strongly recommended: https://github.com/yt-dlp/yt-dlp#dependencies\n"
     ]
    },
    {
     "name": "stdout",
     "output_type": "stream",
     "text": [
      "[info] yWBe2XYJZMs: Downloading 1 format(s): 18\n",
      "[info] Writing video subtitles to: data\\en_CNN\\Tensions rising among House Democrats over Gaza hospital explosion.en.vtt\n",
      "[hlsnative] Downloading m3u8 manifest\n",
      "[hlsnative] Total fragments: 1\n",
      "[download] Destination: data\\en_CNN\\Tensions rising among House Democrats over Gaza hospital explosion.en.vtt\n",
      "[download] 100% of    8.90KiB in 00:00:00 at 59.66KiB/s                \n",
      "[youtube] Extracting URL: https://youtube.com/watch?v=vtF_tHyPjdo\n",
      "[youtube] vtF_tHyPjdo: Downloading webpage\n",
      "[youtube] vtF_tHyPjdo: Downloading ios player API JSON\n",
      "[youtube] vtF_tHyPjdo: Downloading web creator player API JSON\n",
      "[youtube] vtF_tHyPjdo: Downloading m3u8 information\n",
      "[info] vtF_tHyPjdo: Downloading subtitles: en-uYU-mmqFLq8\n"
     ]
    },
    {
     "name": "stderr",
     "output_type": "stream",
     "text": [
      "WARNING: ffmpeg not found. The downloaded format may not be the best available. Installing ffmpeg is strongly recommended: https://github.com/yt-dlp/yt-dlp#dependencies\n"
     ]
    },
    {
     "name": "stdout",
     "output_type": "stream",
     "text": [
      "[youtube] Extracting URL: https://youtube.com/watch?v=vtF_tHyPjdo\n",
      "[youtube] vtF_tHyPjdo: Downloading webpage\n",
      "[youtube] vtF_tHyPjdo: Downloading ios player API JSON\n",
      "[youtube] vtF_tHyPjdo: Downloading web creator player API JSON\n",
      "[youtube] vtF_tHyPjdo: Downloading m3u8 information\n",
      "[info] vtF_tHyPjdo: Downloading subtitles: en\n"
     ]
    },
    {
     "name": "stderr",
     "output_type": "stream",
     "text": [
      "WARNING: ffmpeg not found. The downloaded format may not be the best available. Installing ffmpeg is strongly recommended: https://github.com/yt-dlp/yt-dlp#dependencies\n"
     ]
    },
    {
     "name": "stdout",
     "output_type": "stream",
     "text": [
      "[info] vtF_tHyPjdo: Downloading 1 format(s): 18\n",
      "[info] Writing video subtitles to: data\\en_CNN\\Israel conducts West Bank raids amidst conflict with Hamas.en.vtt\n",
      "[hlsnative] Downloading m3u8 manifest\n",
      "[hlsnative] Total fragments: 1\n",
      "[download] Destination: data\\en_CNN\\Israel conducts West Bank raids amidst conflict with Hamas.en.vtt\n",
      "[download] 100% of    7.46KiB in 00:00:00 at 39.48KiB/s                \n",
      "[youtube] Extracting URL: https://youtube.com/watch?v=NYhUr70aXZE\n",
      "[youtube] NYhUr70aXZE: Downloading webpage\n",
      "[youtube] NYhUr70aXZE: Downloading ios player API JSON\n",
      "[youtube] NYhUr70aXZE: Downloading web creator player API JSON\n",
      "[youtube] NYhUr70aXZE: Downloading m3u8 information\n",
      "[info] NYhUr70aXZE: Downloading subtitles: en\n"
     ]
    },
    {
     "name": "stderr",
     "output_type": "stream",
     "text": [
      "WARNING: ffmpeg not found. The downloaded format may not be the best available. Installing ffmpeg is strongly recommended: https://github.com/yt-dlp/yt-dlp#dependencies\n"
     ]
    },
    {
     "name": "stdout",
     "output_type": "stream",
     "text": [
      "[youtube] Extracting URL: https://youtube.com/watch?v=NYhUr70aXZE\n",
      "[youtube] NYhUr70aXZE: Downloading webpage\n",
      "[youtube] NYhUr70aXZE: Downloading ios player API JSON\n",
      "[youtube] NYhUr70aXZE: Downloading web creator player API JSON\n",
      "[youtube] NYhUr70aXZE: Downloading m3u8 information\n",
      "[info] NYhUr70aXZE: Downloading subtitles: en\n"
     ]
    },
    {
     "name": "stderr",
     "output_type": "stream",
     "text": [
      "WARNING: ffmpeg not found. The downloaded format may not be the best available. Installing ffmpeg is strongly recommended: https://github.com/yt-dlp/yt-dlp#dependencies\n"
     ]
    },
    {
     "name": "stdout",
     "output_type": "stream",
     "text": [
      "[info] NYhUr70aXZE: Downloading 1 format(s): 18\n",
      "[info] Writing video subtitles to: data\\en_CNN\\When Hamas attacked, this group of volunteers fought back and won.en.vtt\n",
      "[download] Destination: data\\en_CNN\\When Hamas attacked, this group of volunteers fought back and won.en.vtt\n",
      "[download] 100% of   20.57KiB in 00:00:00 at 117.03KiB/s\n",
      "[youtube] Extracting URL: https://youtube.com/watch?v=POm7qqRaNnM\n",
      "[youtube] POm7qqRaNnM: Downloading webpage\n",
      "[youtube] POm7qqRaNnM: Downloading ios player API JSON\n",
      "[youtube] POm7qqRaNnM: Downloading web creator player API JSON\n",
      "[youtube] POm7qqRaNnM: Downloading m3u8 information\n",
      "[info] POm7qqRaNnM: Downloading subtitles: en\n"
     ]
    },
    {
     "name": "stderr",
     "output_type": "stream",
     "text": [
      "WARNING: ffmpeg not found. The downloaded format may not be the best available. Installing ffmpeg is strongly recommended: https://github.com/yt-dlp/yt-dlp#dependencies\n"
     ]
    },
    {
     "name": "stdout",
     "output_type": "stream",
     "text": [
      "[youtube] Extracting URL: https://youtube.com/watch?v=POm7qqRaNnM\n",
      "[youtube] POm7qqRaNnM: Downloading webpage\n",
      "[youtube] POm7qqRaNnM: Downloading ios player API JSON\n",
      "[youtube] POm7qqRaNnM: Downloading web creator player API JSON\n",
      "[youtube] POm7qqRaNnM: Downloading m3u8 information\n",
      "[info] POm7qqRaNnM: Downloading subtitles: en\n"
     ]
    },
    {
     "name": "stderr",
     "output_type": "stream",
     "text": [
      "WARNING: ffmpeg not found. The downloaded format may not be the best available. Installing ffmpeg is strongly recommended: https://github.com/yt-dlp/yt-dlp#dependencies\n"
     ]
    },
    {
     "name": "stdout",
     "output_type": "stream",
     "text": [
      "[info] POm7qqRaNnM: Downloading 1 format(s): 18\n",
      "[info] Writing video subtitles to: data\\en_CNN\\Attacks on US military in Middle East stoke fear of regional war.en.vtt\n",
      "[download] Destination: data\\en_CNN\\Attacks on US military in Middle East stoke fear of regional war.en.vtt\n",
      "[download] 100% of   16.89KiB in 00:00:00 at 152.52KiB/s\n",
      "[youtube] Extracting URL: https://youtube.com/watch?v=9Hh0yIQ0zoo\n",
      "[youtube] 9Hh0yIQ0zoo: Downloading webpage\n",
      "[youtube] 9Hh0yIQ0zoo: Downloading ios player API JSON\n",
      "[youtube] 9Hh0yIQ0zoo: Downloading web creator player API JSON\n",
      "[youtube] 9Hh0yIQ0zoo: Downloading m3u8 information\n",
      "[info] 9Hh0yIQ0zoo: Downloading subtitles: en\n"
     ]
    },
    {
     "name": "stderr",
     "output_type": "stream",
     "text": [
      "WARNING: ffmpeg not found. The downloaded format may not be the best available. Installing ffmpeg is strongly recommended: https://github.com/yt-dlp/yt-dlp#dependencies\n"
     ]
    },
    {
     "name": "stdout",
     "output_type": "stream",
     "text": [
      "[youtube] Extracting URL: https://youtube.com/watch?v=9Hh0yIQ0zoo\n",
      "[youtube] 9Hh0yIQ0zoo: Downloading webpage\n",
      "[youtube] 9Hh0yIQ0zoo: Downloading ios player API JSON\n",
      "[youtube] 9Hh0yIQ0zoo: Downloading web creator player API JSON\n",
      "[youtube] 9Hh0yIQ0zoo: Downloading m3u8 information\n",
      "[info] 9Hh0yIQ0zoo: Downloading subtitles: en\n"
     ]
    },
    {
     "name": "stderr",
     "output_type": "stream",
     "text": [
      "WARNING: ffmpeg not found. The downloaded format may not be the best available. Installing ffmpeg is strongly recommended: https://github.com/yt-dlp/yt-dlp#dependencies\n"
     ]
    },
    {
     "name": "stdout",
     "output_type": "stream",
     "text": [
      "[info] 9Hh0yIQ0zoo: Downloading 1 format(s): 18\n",
      "[info] Writing video subtitles to: data\\en_CNN\\Two American hostages being released by Hamas, sources say.en.vtt\n",
      "[download] Destination: data\\en_CNN\\Two American hostages being released by Hamas, sources say.en.vtt\n",
      "[download] 100% of   22.18KiB in 00:00:00 at 109.80KiB/s\n",
      "[youtube] Extracting URL: https://youtube.com/watch?v=czQWZAaWlHA\n",
      "[youtube] czQWZAaWlHA: Downloading webpage\n",
      "[youtube] czQWZAaWlHA: Downloading ios player API JSON\n",
      "[youtube] czQWZAaWlHA: Downloading web creator player API JSON\n",
      "[youtube] czQWZAaWlHA: Downloading m3u8 information\n",
      "[info] czQWZAaWlHA: Downloading subtitles: en\n"
     ]
    },
    {
     "name": "stderr",
     "output_type": "stream",
     "text": [
      "WARNING: ffmpeg not found. The downloaded format may not be the best available. Installing ffmpeg is strongly recommended: https://github.com/yt-dlp/yt-dlp#dependencies\n"
     ]
    },
    {
     "name": "stdout",
     "output_type": "stream",
     "text": [
      "[youtube] Extracting URL: https://youtube.com/watch?v=czQWZAaWlHA\n",
      "[youtube] czQWZAaWlHA: Downloading webpage\n",
      "[youtube] czQWZAaWlHA: Downloading ios player API JSON\n",
      "[youtube] czQWZAaWlHA: Downloading web creator player API JSON\n",
      "[youtube] czQWZAaWlHA: Downloading m3u8 information\n",
      "[info] czQWZAaWlHA: Downloading subtitles: en\n"
     ]
    },
    {
     "name": "stderr",
     "output_type": "stream",
     "text": [
      "WARNING: ffmpeg not found. The downloaded format may not be the best available. Installing ffmpeg is strongly recommended: https://github.com/yt-dlp/yt-dlp#dependencies\n"
     ]
    },
    {
     "name": "stdout",
     "output_type": "stream",
     "text": [
      "[info] czQWZAaWlHA: Downloading 1 format(s): 18\n",
      "[info] Writing video subtitles to: data\\en_CNN\\Blinken gives update on release of 2 American hostages held by Hamas.en.vtt\n",
      "[download] Destination: data\\en_CNN\\Blinken gives update on release of 2 American hostages held by Hamas.en.vtt\n",
      "[download] 100% of   21.04KiB in 00:00:00 at 189.17KiB/s\n",
      "[youtube] Extracting URL: https://youtube.com/watch?v=FAPu4FLd2pk\n",
      "[youtube] FAPu4FLd2pk: Downloading webpage\n",
      "[youtube] FAPu4FLd2pk: Downloading ios player API JSON\n",
      "[youtube] FAPu4FLd2pk: Downloading web creator player API JSON\n",
      "[youtube] FAPu4FLd2pk: Downloading m3u8 information\n",
      "[info] FAPu4FLd2pk: Downloading subtitles: en\n"
     ]
    },
    {
     "name": "stderr",
     "output_type": "stream",
     "text": [
      "WARNING: ffmpeg not found. The downloaded format may not be the best available. Installing ffmpeg is strongly recommended: https://github.com/yt-dlp/yt-dlp#dependencies\n"
     ]
    },
    {
     "name": "stdout",
     "output_type": "stream",
     "text": [
      "[youtube] Extracting URL: https://youtube.com/watch?v=FAPu4FLd2pk\n",
      "[youtube] FAPu4FLd2pk: Downloading webpage\n",
      "[youtube] FAPu4FLd2pk: Downloading ios player API JSON\n",
      "[youtube] FAPu4FLd2pk: Downloading web creator player API JSON\n",
      "[youtube] FAPu4FLd2pk: Downloading m3u8 information\n",
      "[info] FAPu4FLd2pk: Downloading subtitles: en\n"
     ]
    },
    {
     "name": "stderr",
     "output_type": "stream",
     "text": [
      "WARNING: ffmpeg not found. The downloaded format may not be the best available. Installing ffmpeg is strongly recommended: https://github.com/yt-dlp/yt-dlp#dependencies\n"
     ]
    },
    {
     "name": "stdout",
     "output_type": "stream",
     "text": [
      "[info] FAPu4FLd2pk: Downloading 1 format(s): 18\n",
      "[info] Writing video subtitles to: data\\en_CNN\\See what it looks like at Egypt-Gaza crossing where anger is growing.en.vtt\n",
      "[download] Destination: data\\en_CNN\\See what it looks like at Egypt-Gaza crossing where anger is growing.en.vtt\n",
      "[download] 100% of   10.79KiB in 00:00:00 at 89.68KiB/s\n",
      "[youtube] Extracting URL: https://youtube.com/watch?v=6gpi9S7P_c8\n",
      "[youtube] 6gpi9S7P_c8: Downloading webpage\n",
      "[youtube] 6gpi9S7P_c8: Downloading ios player API JSON\n",
      "[youtube] 6gpi9S7P_c8: Downloading web creator player API JSON\n",
      "[youtube] 6gpi9S7P_c8: Downloading m3u8 information\n",
      "[info] 6gpi9S7P_c8: Downloading subtitles: en\n"
     ]
    },
    {
     "name": "stderr",
     "output_type": "stream",
     "text": [
      "WARNING: ffmpeg not found. The downloaded format may not be the best available. Installing ffmpeg is strongly recommended: https://github.com/yt-dlp/yt-dlp#dependencies\n"
     ]
    },
    {
     "name": "stdout",
     "output_type": "stream",
     "text": [
      "[youtube] Extracting URL: https://youtube.com/watch?v=6gpi9S7P_c8\n",
      "[youtube] 6gpi9S7P_c8: Downloading webpage\n",
      "[youtube] 6gpi9S7P_c8: Downloading ios player API JSON\n",
      "[youtube] 6gpi9S7P_c8: Downloading web creator player API JSON\n",
      "[youtube] 6gpi9S7P_c8: Downloading m3u8 information\n",
      "[info] 6gpi9S7P_c8: Downloading subtitles: en\n",
      "[info] 6gpi9S7P_c8: Downloading 1 format(s): 616+251\n",
      "[info] Writing video subtitles to: data\\en_CNN\\Brother of released American hostage speaks out.en.vtt\n",
      "[download] Destination: data\\en_CNN\\Brother of released American hostage speaks out.en.vtt\n",
      "[download] 100% of   21.82KiB in 00:00:00 at 97.21KiB/s\n",
      "[youtube] Extracting URL: https://youtube.com/watch?v=9Pra0XtrEPA\n",
      "[youtube] 9Pra0XtrEPA: Downloading webpage\n",
      "[youtube] 9Pra0XtrEPA: Downloading ios player API JSON\n",
      "[youtube] 9Pra0XtrEPA: Downloading web creator player API JSON\n"
     ]
    },
    {
     "name": "stderr",
     "output_type": "stream",
     "text": [
      "ERROR: [youtube] 9Pra0XtrEPA: Sign in to confirm you’re not a bot. This helps protect our community. Learn more\n"
     ]
    },
    {
     "name": "stdout",
     "output_type": "stream",
     "text": [
      "Error: ERROR: [youtube] 9Pra0XtrEPA: Sign in to confirm you’re not a bot. This helps protect our community. Learn more. Retrying in 180 seconds... (Attempt 1/3)\n",
      "[youtube] Extracting URL: https://youtube.com/watch?v=9Pra0XtrEPA\n",
      "[youtube] 9Pra0XtrEPA: Downloading webpage\n",
      "[youtube] 9Pra0XtrEPA: Downloading ios player API JSON\n",
      "[youtube] 9Pra0XtrEPA: Downloading web creator player API JSON\n"
     ]
    },
    {
     "name": "stderr",
     "output_type": "stream",
     "text": [
      "ERROR: [youtube] 9Pra0XtrEPA: Sign in to confirm you’re not a bot. This helps protect our community. Learn more\n"
     ]
    },
    {
     "name": "stdout",
     "output_type": "stream",
     "text": [
      "Error: ERROR: [youtube] 9Pra0XtrEPA: Sign in to confirm you’re not a bot. This helps protect our community. Learn more. Retrying in 180 seconds... (Attempt 2/3)\n",
      "[youtube] Extracting URL: https://youtube.com/watch?v=9Pra0XtrEPA\n",
      "[youtube] 9Pra0XtrEPA: Downloading webpage\n",
      "[youtube] 9Pra0XtrEPA: Downloading ios player API JSON\n",
      "[youtube] 9Pra0XtrEPA: Downloading web creator player API JSON\n"
     ]
    },
    {
     "name": "stderr",
     "output_type": "stream",
     "text": [
      "ERROR: [youtube] 9Pra0XtrEPA: Sign in to confirm you’re not a bot. This helps protect our community. Learn more\n"
     ]
    },
    {
     "name": "stdout",
     "output_type": "stream",
     "text": [
      "Error: ERROR: [youtube] 9Pra0XtrEPA: Sign in to confirm you’re not a bot. This helps protect our community. Learn more. Retrying in 180 seconds... (Attempt 3/3)\n",
      "Max retries reached. Skipping video: https://youtube.com/watch?v=9Pra0XtrEPA\n",
      "[youtube] Extracting URL: https://youtube.com/watch?v=43exO3on0c0\n",
      "[youtube] 43exO3on0c0: Downloading webpage\n",
      "[youtube] 43exO3on0c0: Downloading ios player API JSON\n",
      "[youtube] 43exO3on0c0: Downloading web creator player API JSON\n"
     ]
    },
    {
     "name": "stderr",
     "output_type": "stream",
     "text": [
      "ERROR: [youtube] 43exO3on0c0: Sign in to confirm you’re not a bot. This helps protect our community. Learn more\n"
     ]
    },
    {
     "name": "stdout",
     "output_type": "stream",
     "text": [
      "Error: ERROR: [youtube] 43exO3on0c0: Sign in to confirm you’re not a bot. This helps protect our community. Learn more. Retrying in 180 seconds... (Attempt 1/3)\n",
      "[youtube] Extracting URL: https://youtube.com/watch?v=43exO3on0c0\n",
      "[youtube] 43exO3on0c0: Downloading webpage\n",
      "[youtube] 43exO3on0c0: Downloading ios player API JSON\n",
      "[youtube] 43exO3on0c0: Downloading web creator player API JSON\n"
     ]
    },
    {
     "name": "stderr",
     "output_type": "stream",
     "text": [
      "ERROR: [youtube] 43exO3on0c0: Sign in to confirm you’re not a bot. This helps protect our community. Learn more\n"
     ]
    },
    {
     "name": "stdout",
     "output_type": "stream",
     "text": [
      "Error: ERROR: [youtube] 43exO3on0c0: Sign in to confirm you’re not a bot. This helps protect our community. Learn more. Retrying in 180 seconds... (Attempt 2/3)\n",
      "[youtube] Extracting URL: https://youtube.com/watch?v=43exO3on0c0\n",
      "[youtube] 43exO3on0c0: Downloading webpage\n",
      "[youtube] 43exO3on0c0: Downloading ios player API JSON\n",
      "[youtube] 43exO3on0c0: Downloading web creator player API JSON\n"
     ]
    },
    {
     "name": "stderr",
     "output_type": "stream",
     "text": [
      "ERROR: [youtube] 43exO3on0c0: Sign in to confirm you’re not a bot. This helps protect our community. Learn more\n"
     ]
    },
    {
     "name": "stdout",
     "output_type": "stream",
     "text": [
      "Error: ERROR: [youtube] 43exO3on0c0: Sign in to confirm you’re not a bot. This helps protect our community. Learn more. Retrying in 180 seconds... (Attempt 3/3)\n",
      "Max retries reached. Skipping video: https://youtube.com/watch?v=43exO3on0c0\n",
      "[youtube] Extracting URL: https://youtube.com/watch?v=3YborCsNNTo\n",
      "[youtube] 3YborCsNNTo: Downloading webpage\n",
      "[youtube] 3YborCsNNTo: Downloading ios player API JSON\n",
      "[youtube] 3YborCsNNTo: Downloading web creator player API JSON\n"
     ]
    },
    {
     "name": "stderr",
     "output_type": "stream",
     "text": [
      "ERROR: [youtube] 3YborCsNNTo: Sign in to confirm you’re not a bot. This helps protect our community. Learn more\n"
     ]
    },
    {
     "name": "stdout",
     "output_type": "stream",
     "text": [
      "Error: ERROR: [youtube] 3YborCsNNTo: Sign in to confirm you’re not a bot. This helps protect our community. Learn more. Retrying in 180 seconds... (Attempt 1/3)\n",
      "[youtube] Extracting URL: https://youtube.com/watch?v=3YborCsNNTo\n",
      "[youtube] 3YborCsNNTo: Downloading webpage\n",
      "[youtube] 3YborCsNNTo: Downloading ios player API JSON\n",
      "[youtube] 3YborCsNNTo: Downloading web creator player API JSON\n"
     ]
    },
    {
     "name": "stderr",
     "output_type": "stream",
     "text": [
      "ERROR: [youtube] 3YborCsNNTo: Sign in to confirm you’re not a bot. This helps protect our community. Learn more\n"
     ]
    },
    {
     "name": "stdout",
     "output_type": "stream",
     "text": [
      "Error: ERROR: [youtube] 3YborCsNNTo: Sign in to confirm you’re not a bot. This helps protect our community. Learn more. Retrying in 180 seconds... (Attempt 2/3)\n"
     ]
    }
   ],
   "source": [
    "import os\n",
    "import requests\n",
    "import pandas as pd\n",
    "import webvtt\n",
    "from pytube import Playlist\n",
    "import yt_dlp\n",
    "import re\n",
    "import time\n",
    "import unicodedata\n",
    "\n",
    "# Assume `playlist` is a pytube Playlist object already initialized\n",
    "playlist_url = 'https://www.youtube.com/playlist?list=PL6XRrncXkMaU55GiCvv416NR2qBD_xbmf'\n",
    "playlist = Playlist(playlist_url)\n",
    "\n",
    "# Get all video URLs in the playlist\n",
    "video_urls = [video.watch_url for video in playlist.videos]\n",
    "\n",
    "# Directory to save thumbnails and transcripts\n",
    "output_dir = 'data/en_CNN'\n",
    "os.makedirs(output_dir, exist_ok=True)\n",
    "\n",
    "def sanitize_filename(name):\n",
    "    \"\"\"\n",
    "    Sanitize the filename by removing invalid characters, full-width symbols,\n",
    "    stripping newlines, and normalizing unicode to ASCII where possible.\n",
    "    \"\"\"\n",
    "    # Normalize full-width characters to their ASCII equivalents\n",
    "    name = unicodedata.normalize('NFKC', name)  # Normalize Unicode characters to ASCII-compatible form\n",
    "    \n",
    "    # Remove problematic characters for filenames\n",
    "    name = re.sub(r'[\\\\/*?:\"<>|]', \"\", name)  # Remove invalid characters\n",
    "    name = name.replace('\\n', '').replace('\\r', '')  # Remove newlines\n",
    "    name = name.strip()  # Trim leading/trailing spaces\n",
    "\n",
    "    # Ensure the filename length is not too long (you can set a specific limit)\n",
    "    max_filename_length = 255\n",
    "    return name[:max_filename_length]\n",
    "\n",
    "def download_thumbnail(thumbnail_url, title):\n",
    "    try:\n",
    "        response = requests.get(thumbnail_url)\n",
    "        sanitized_title = sanitize_filename(title)\n",
    "        thumbnail_file = os.path.join(output_dir, f'{sanitized_title}.jpg')\n",
    "        with open(thumbnail_file, 'wb') as file:\n",
    "            file.write(response.content)\n",
    "        return thumbnail_file\n",
    "    except Exception as e:\n",
    "        print(f\"Failed to download thumbnail for {title}: {e}\")\n",
    "        return None\n",
    "\n",
    "def download_subtitles(video_url, video_title, subtitle_languages):\n",
    "    sanitized_title = sanitize_filename(video_title)\n",
    "    \n",
    "    # Define the download options\n",
    "    ydl_opts = {\n",
    "        'writesubtitles': True,\n",
    "        'writeautomaticsub': True,\n",
    "        'skip_download': True,  # Skip video download\n",
    "        'outtmpl': os.path.join(output_dir, f'{sanitized_title}.%(ext)s'),  # Use sanitized title\n",
    "        'restrictfilenames': True,\n",
    "    }\n",
    "    \n",
    "    try:\n",
    "        with yt_dlp.YoutubeDL(ydl_opts) as ydl:\n",
    "            if 'en' in subtitle_languages:\n",
    "                # Download English subtitles\n",
    "                subtitle_file = os.path.join(output_dir, f'{sanitized_title}.en.vtt')\n",
    "                if not os.path.exists(subtitle_file):\n",
    "                    ydl_opts['subtitleslangs'] = ['en']\n",
    "                    ydl.download([video_url])  # Download subtitles for the video\n",
    "                return subtitle_file\n",
    "            elif subtitle_languages:\n",
    "                # Download the first available subtitle if English is not found\n",
    "                first_lang = list(subtitle_languages)[0]\n",
    "                subtitle_file = os.path.join(output_dir, f'{sanitized_title}.{first_lang}.vtt')\n",
    "                if not os.path.exists(subtitle_file):\n",
    "                    ydl_opts['subtitleslangs'] = [first_lang]\n",
    "                    ydl.download([video_url])\n",
    "                return subtitle_file\n",
    "                \n",
    "    except yt_dlp.utils.DownloadError as e:\n",
    "        error_message = str(e)\n",
    "        print(f\"Error downloading subtitles for {video_title}: {error_message}\")\n",
    "        return None\n",
    "                \n",
    "def download_video_info(video_url, max_retries=3, retry_interval=180):\n",
    "    ydl_opts = {\n",
    "        'writesubtitles': True,\n",
    "        'writeautomaticsub': True,\n",
    "        'skip_download': True,\n",
    "        #'outtmpl': os.path.join(output_dir, f'{\"%(sanitized_title)s\"}.%(ext)s'),\n",
    "        'postprocessors': [{\n",
    "            'key': 'FFmpegMetadata',\n",
    "        }],\n",
    "    }\n",
    "    retries = 0\n",
    "    while retries < max_retries:\n",
    "        try:\n",
    "            with yt_dlp.YoutubeDL(ydl_opts) as ydl:\n",
    "                info_dict = ydl.extract_info(video_url, download=False)\n",
    "                video_title = info_dict.get('title', None)\n",
    "                video_id = info_dict.get('id', None)\n",
    "                thumbnail_url = info_dict.get('thumbnail', None)\n",
    "                publish_date = info_dict.get('upload_date', None)  # Format: 'YYYYMMDD'\n",
    "                subtitle_languages = info_dict.get('automatic_captions', {}).keys()\n",
    "\n",
    "                # Download thumbnail\n",
    "                thumbnail_file = None\n",
    "                if thumbnail_url:\n",
    "                    thumbnail_file = download_thumbnail(thumbnail_url, video_title)\n",
    "\n",
    "                # Download subtitles\n",
    "                subtitle_file = None\n",
    "                subtitle_file = download_subtitles(video_url, video_title, subtitle_languages)\n",
    "                \n",
    "            # Return the collected video information\n",
    "            return video_id, video_title, thumbnail_file, subtitle_file, publish_date\n",
    "\n",
    "        except yt_dlp.utils.DownloadError as e:\n",
    "            error_message = str(e)\n",
    "            if \"Sign in to confirm you’re not a bot\" in error_message:\n",
    "                retries += 1\n",
    "                print(f\"Error: {error_message}. Retrying in {retry_interval} seconds... (Attempt {retries}/{max_retries})\")\n",
    "                time.sleep(retry_interval)  # Wait before retrying\n",
    "            else:\n",
    "                print(f\"Failed to download video info for {video_url}: {e}\")\n",
    "                return None, None, None, None, None\n",
    "\n",
    "    # After max retries, log the failure and return None\n",
    "    print(f\"Max retries reached. Skipping video: {video_url}\")\n",
    "    return None, None, None, None, None\n",
    "\n",
    "def vtt_to_text(vtt_file_path):\n",
    "    try:\n",
    "        text = ''\n",
    "        lines = []\n",
    "        deduplicated_lines = []\n",
    "        for caption in webvtt.read(vtt_file_path):\n",
    "            # Split the block into lines and deduplicate them within the block\n",
    "            lines.extend(caption.text.strip().split('\\n'))\n",
    "            #print(caption.text.strip().split('\\n'))\n",
    "        for line in lines:\n",
    "            if line and (not deduplicated_lines or line != deduplicated_lines[-1]):  # Avoid consecutive duplicates\n",
    "                deduplicated_lines.append(line)\n",
    "     \n",
    "        text = \"\\n\".join(deduplicated_lines)\n",
    "    \n",
    "    except Exception as e:\n",
    "        print(f\"Failed to convert {vtt_file_path} to text: {e}\")\n",
    "        \n",
    "    return text\n",
    "\n",
    "# Create a list to store video information\n",
    "data = []\n",
    "\n",
    "# Loop through each video URL and download the required data\n",
    "for video_url in video_urls:\n",
    "    video_id, video_title, thumbnail_file, subtitle_file, publish_date = download_video_info(video_url)\n",
    "    # If video info is successfully retrieved\n",
    "    if video_id and video_title:\n",
    "        # Convert subtitles to text if available\n",
    "        transcript = None\n",
    "        if subtitle_file and os.path.exists(subtitle_file):\n",
    "            transcript = vtt_to_text(subtitle_file)\n",
    "        else:\n",
    "            print(\"subtitle file not found\")\n",
    "        # Append data to the list\n",
    "        data.append({\n",
    "            'video_id': video_id,\n",
    "            'video_title': video_title,\n",
    "            'thumbnail_path': thumbnail_file,\n",
    "            'transcript': transcript,\n",
    "            'publish_date': publish_date\n",
    "        })\n",
    "\n",
    "# Convert the list to a DataFrame\n",
    "df = pd.DataFrame(data, columns=['video_id', 'video_title', 'thumbnail_path', 'transcript', 'publish_date'])\n",
    "\n",
    "# Save the DataFrame to a CSV file\n",
    "df.to_csv(os.path.join(output_dir,\"../\", 'en_CNN.csv'), index=False)\n",
    "\n",
    "print(f\"Dataset created successfully with {len(df)} entries.\")"
   ]
  },
  {
   "cell_type": "code",
   "execution_count": null,
   "metadata": {},
   "outputs": [],
   "source": []
  }
 ],
 "metadata": {
  "kernelspec": {
   "display_name": "Python 3 (ipykernel)",
   "language": "python",
   "name": "python3"
  },
  "language_info": {
   "codemirror_mode": {
    "name": "ipython",
    "version": 3
   },
   "file_extension": ".py",
   "mimetype": "text/x-python",
   "name": "python",
   "nbconvert_exporter": "python",
   "pygments_lexer": "ipython3",
   "version": "3.12.1"
  }
 },
 "nbformat": 4,
 "nbformat_minor": 4
}
